{
 "cells": [
  {
   "cell_type": "markdown",
   "id": "a010cc9b",
   "metadata": {},
   "source": [
    "# Notebook de Treinamento e Anotações: Curso de Classificação com Machine Learning\n",
    "\n",
    "Este notebook serviu como registro prático e teórico no meu aprendizado de Machine Learning.\n",
    "\n",
    "`Enriqueci este notebook com anotações adicionais e aplicações práticas tornando-o uma referência valiosa para consultas e implementações em futuros projetos reais.`\n",
    "\n",
    "Espero que este material inspire outros a explorar ainda mais o fascinante mundo do Machine Learning. \n",
    "\n",
    "1. **Análise Exploratória de Dados**  \n",
    "   - Exploração inicial para compreender as características e padrões presentes na base de dados.\n",
    "\n",
    "2. **Preparação dos Dados**  \n",
    "   - Aplicação de transformações essenciais para otimizar o desempenho dos modelos:\n",
    "     - **Normalização de Dados Numéricos**: Ajuste dos valores numéricos para uma escala comum.\n",
    "     - **Dummificação de Dados Categóricos Não Binários**: Conversão de variáveis categóricas em variáveis dummy (variáveis indicadoras).\n",
    "     - **Binarização de Dados Categóricos Binários**: Transformação de variáveis categóricas binárias em formato adequado para o modelo.\n",
    "\n",
    "3. **Divisão dos Dados em Conjuntos de Treino e Teste**  \n",
    "   - Métodos para dividir os dados:\n",
    "     - **Divisão Simples**: Separação direta dos dados em treino e teste.\n",
    "     - **Divisão Estratificada**: Separação dos dados levando em conta as proporções das classes da variavel target.\n",
    "\n",
    "4. **Treinamento do Modelo de Classificação**  \n",
    "   - Construção e ajuste de modelos para prever as classes dos dados.\n",
    "\n",
    "5. **Avaliação do Modelo**  \n",
    "   - Utilização de métricas de desempenho e da Curva ROC (AUC) para avaliar a eficácia do modelo.\n",
    "\n",
    "Compartilhar conhecimento é uma alegria—viva ao aprendizado contínuo, boa pratica e bons estudo a quem estiver lendo, abraços!"
   ]
  },
  {
   "cell_type": "markdown",
   "id": "bd79d369",
   "metadata": {},
   "source": [
    "# Carregamento dos Dados"
   ]
  },
  {
   "cell_type": "code",
   "execution_count": 13,
   "id": "6a6ee2f3-d2c0-4976-a718-fbabcb6e1226",
   "metadata": {},
   "outputs": [],
   "source": [
    "import pandas as pd\n",
    "import numpy as np\n",
    "\n",
    "import matplotlib.pyplot as plt\n",
    "%matplotlib inline\n",
    "\n",
    "#ignorando Warning inuteis\n",
    "import warnings \n",
    "from pandas.errors import SettingWithCopyWarning\n",
    "warnings.simplefilter(action=\"ignore\", category=SettingWithCopyWarning)\n",
    "warnings.filterwarnings('ignore', category=FutureWarning)\n",
    "\n",
    "pd.set_option('display.max_info_columns', 500)\n",
    "pd.set_option('display.max_info_rows', 500)"
   ]
  },
  {
   "cell_type": "code",
   "execution_count": 14,
   "id": "84120911-370a-4cab-b8b0-96547e85fd8c",
   "metadata": {},
   "outputs": [
    {
     "data": {
      "text/html": [
       "<div>\n",
       "<style scoped>\n",
       "    .dataframe tbody tr th:only-of-type {\n",
       "        vertical-align: middle;\n",
       "    }\n",
       "\n",
       "    .dataframe tbody tr th {\n",
       "        vertical-align: top;\n",
       "    }\n",
       "\n",
       "    .dataframe thead th {\n",
       "        text-align: right;\n",
       "    }\n",
       "</style>\n",
       "<table border=\"1\" class=\"dataframe\">\n",
       "  <thead>\n",
       "    <tr style=\"text-align: right;\">\n",
       "      <th></th>\n",
       "      <th>desfecho</th>\n",
       "      <th>idade</th>\n",
       "      <th>sexo</th>\n",
       "      <th>tabagismo</th>\n",
       "      <th>avc_previo</th>\n",
       "      <th>hipo</th>\n",
       "      <th>has</th>\n",
       "      <th>dm</th>\n",
       "      <th>doenca_cardiaca</th>\n",
       "      <th>var_num1</th>\n",
       "      <th>var_num2</th>\n",
       "    </tr>\n",
       "  </thead>\n",
       "  <tbody>\n",
       "    <tr>\n",
       "      <th>0</th>\n",
       "      <td>não</td>\n",
       "      <td>21.0</td>\n",
       "      <td>F</td>\n",
       "      <td>não</td>\n",
       "      <td>não</td>\n",
       "      <td>sim</td>\n",
       "      <td>sim</td>\n",
       "      <td>não</td>\n",
       "      <td>sim</td>\n",
       "      <td>22.0</td>\n",
       "      <td>78.568726</td>\n",
       "    </tr>\n",
       "    <tr>\n",
       "      <th>1</th>\n",
       "      <td>não</td>\n",
       "      <td>25.0</td>\n",
       "      <td>M</td>\n",
       "      <td>não</td>\n",
       "      <td>sim</td>\n",
       "      <td>sim</td>\n",
       "      <td>sim</td>\n",
       "      <td>sim</td>\n",
       "      <td>sim</td>\n",
       "      <td>28.0</td>\n",
       "      <td>21.299272</td>\n",
       "    </tr>\n",
       "    <tr>\n",
       "      <th>2</th>\n",
       "      <td>não</td>\n",
       "      <td>19.0</td>\n",
       "      <td>F</td>\n",
       "      <td>sim</td>\n",
       "      <td>não</td>\n",
       "      <td>sim</td>\n",
       "      <td>sim</td>\n",
       "      <td>sim</td>\n",
       "      <td>não</td>\n",
       "      <td>23.0</td>\n",
       "      <td>66.262434</td>\n",
       "    </tr>\n",
       "    <tr>\n",
       "      <th>3</th>\n",
       "      <td>não</td>\n",
       "      <td>21.0</td>\n",
       "      <td>M</td>\n",
       "      <td>sim</td>\n",
       "      <td>sim</td>\n",
       "      <td>sim</td>\n",
       "      <td>sim</td>\n",
       "      <td>sim</td>\n",
       "      <td>não</td>\n",
       "      <td>23.0</td>\n",
       "      <td>52.336710</td>\n",
       "    </tr>\n",
       "    <tr>\n",
       "      <th>4</th>\n",
       "      <td>não</td>\n",
       "      <td>27.0</td>\n",
       "      <td>F</td>\n",
       "      <td>sim</td>\n",
       "      <td>sim</td>\n",
       "      <td>não</td>\n",
       "      <td>sim</td>\n",
       "      <td>não</td>\n",
       "      <td>não</td>\n",
       "      <td>17.0</td>\n",
       "      <td>17.829723</td>\n",
       "    </tr>\n",
       "  </tbody>\n",
       "</table>\n",
       "</div>"
      ],
      "text/plain": [
       "  desfecho  idade sexo tabagismo avc_previo hipo  has   dm doenca_cardiaca  \\\n",
       "0      não   21.0    F       não        não  sim  sim  não             sim   \n",
       "1      não   25.0    M       não        sim  sim  sim  sim             sim   \n",
       "2      não   19.0    F       sim        não  sim  sim  sim             não   \n",
       "3      não   21.0    M       sim        sim  sim  sim  sim             não   \n",
       "4      não   27.0    F       sim        sim  não  sim  não             não   \n",
       "\n",
       "   var_num1   var_num2  \n",
       "0      22.0  78.568726  \n",
       "1      28.0  21.299272  \n",
       "2      23.0  66.262434  \n",
       "3      23.0  52.336710  \n",
       "4      17.0  17.829723  "
      ]
     },
     "execution_count": 14,
     "metadata": {},
     "output_type": "execute_result"
    }
   ],
   "source": [
    "#CRIANDO DADOS FICTICIOS\n",
    "np.random.seed(1)\n",
    "\n",
    "Tamanho_da_amostra = 500\n",
    "n = Tamanho_da_amostra/2 ; n = int(n)\n",
    "df = pd.DataFrame()\n",
    "\n",
    "df['desfecho'] = ['não'] * n + ['sim'] * n\n",
    "filtro_1 = df['desfecho'] == 'não'\n",
    "filtro_0 = df['desfecho'] == 'sim'\n",
    "\n",
    "lista_col = ['idade','sexo','tabagismo','avc_previo','hipo','has',\n",
    "             'dm','doenca_cardiaca','var_num1','var_num2']\n",
    "for coluna in lista_col: df[coluna] = np.nan\n",
    "\n",
    "df['sexo'][filtro_0] = np.random.choice(['F', 'M'], size=n, p=[0.4, 0.6])\n",
    "df['sexo'][filtro_1] = np.random.choice(['F', 'M'], size=n, p=[0.7, 0.3])\n",
    "\n",
    "df['idade'][filtro_0] = np.random.normal(loc=30, scale=5, size=n).round().astype(int)\n",
    "df['idade'][filtro_1] = np.random.normal(loc=23, scale=4, size=n).round().astype(int)\n",
    "\n",
    "df['tabagismo'][filtro_0] = np.random.choice(['não', 'sim'], size=n, p=[0.3, 0.7])\n",
    "df['tabagismo'][filtro_1] = np.random.choice(['não', 'sim'], size=n, p=[0.4, 0.6])\n",
    "\n",
    "df['avc_previo'][filtro_0] = np.random.choice(['não', 'sim'], size=n, p=[0.3, 0.7])\n",
    "df['avc_previo'][filtro_1] = np.random.choice(['não', 'sim'], size=n, p=[0.5, 0.5])\n",
    "\n",
    "df['hipo'][filtro_0] = np.random.choice(['não', 'sim'], size=n, p=[0.2, 0.8])\n",
    "df['hipo'][filtro_1] = np.random.choice(['não', 'sim'], size=n, p=[0.3, 0.7])\n",
    "\n",
    "df['has'][filtro_0] = np.random.choice(['não', 'sim'], size=n, p=[0.5, 0.5])\n",
    "df['has'][filtro_1] = np.random.choice(['não', 'sim'], size=n, p=[0.2, 0.8])\n",
    "\n",
    "df['dm'][filtro_0] = np.random.choice(['não', 'sim'], size=n, p=[0.8, 0.2])\n",
    "df['dm'][filtro_1] = np.random.choice(['não', 'sim'], size=n, p=[0.3, 0.7])\n",
    "\n",
    "df['doenca_cardiaca'][filtro_0] = np.random.choice(['não', 'sim'], size=n, p=[0.2, 0.8])\n",
    "df['doenca_cardiaca'][filtro_1] = np.random.choice(['não', 'sim'], size=n, p=[0.6, 0.4])\n",
    "\n",
    "df['var_num1'][filtro_0] = np.random.poisson(12,n)\n",
    "df['var_num1'][filtro_1] = np.random.poisson(20,n)\n",
    "\n",
    "df['var_num2'][filtro_0] = np.random.uniform(0,100,n)\n",
    "df['var_num2'][filtro_1] = np.random.uniform(0,100,n)\n",
    "\n",
    "df.head()"
   ]
  },
  {
   "cell_type": "code",
   "execution_count": 15,
   "id": "39ed6bde-5420-4ade-9942-ea7d91a064cf",
   "metadata": {},
   "outputs": [
    {
     "data": {
      "text/html": [
       "<div>\n",
       "<style scoped>\n",
       "    .dataframe tbody tr th:only-of-type {\n",
       "        vertical-align: middle;\n",
       "    }\n",
       "\n",
       "    .dataframe tbody tr th {\n",
       "        vertical-align: top;\n",
       "    }\n",
       "\n",
       "    .dataframe thead th {\n",
       "        text-align: right;\n",
       "    }\n",
       "</style>\n",
       "<table border=\"1\" class=\"dataframe\">\n",
       "  <thead>\n",
       "    <tr style=\"text-align: right;\">\n",
       "      <th></th>\n",
       "      <th>x_num0</th>\n",
       "      <th>x_num1</th>\n",
       "      <th>x_num2</th>\n",
       "      <th>x_num3</th>\n",
       "      <th>x_num4</th>\n",
       "      <th>x_num5</th>\n",
       "      <th>x_num6</th>\n",
       "      <th>x_num7</th>\n",
       "      <th>x_num8</th>\n",
       "      <th>x_num9</th>\n",
       "      <th>...</th>\n",
       "      <th>x_bin0</th>\n",
       "      <th>x_bin1</th>\n",
       "      <th>x_bin2</th>\n",
       "      <th>x_bin3</th>\n",
       "      <th>x_bin4</th>\n",
       "      <th>x_cat0</th>\n",
       "      <th>x_cat1</th>\n",
       "      <th>x_cat2</th>\n",
       "      <th>x_cat_0</th>\n",
       "      <th>x_cat_1</th>\n",
       "    </tr>\n",
       "  </thead>\n",
       "  <tbody>\n",
       "    <tr>\n",
       "      <th>0</th>\n",
       "      <td>0.843910</td>\n",
       "      <td>1.012945</td>\n",
       "      <td>1.190556</td>\n",
       "      <td>2.672900</td>\n",
       "      <td>-0.943966</td>\n",
       "      <td>-2.093581</td>\n",
       "      <td>-0.674588</td>\n",
       "      <td>0.598498</td>\n",
       "      <td>-1.244136</td>\n",
       "      <td>-0.560193</td>\n",
       "      <td>...</td>\n",
       "      <td>cat0</td>\n",
       "      <td>cat0</td>\n",
       "      <td>cat1</td>\n",
       "      <td>cat1</td>\n",
       "      <td>cat1</td>\n",
       "      <td>cat0</td>\n",
       "      <td>cat2</td>\n",
       "      <td>cat0</td>\n",
       "      <td>cat0</td>\n",
       "      <td>cat0</td>\n",
       "    </tr>\n",
       "    <tr>\n",
       "      <th>1</th>\n",
       "      <td>-1.271782</td>\n",
       "      <td>1.820219</td>\n",
       "      <td>1.225230</td>\n",
       "      <td>1.055635</td>\n",
       "      <td>-0.365865</td>\n",
       "      <td>-2.013976</td>\n",
       "      <td>1.250390</td>\n",
       "      <td>1.054216</td>\n",
       "      <td>-0.362961</td>\n",
       "      <td>0.381651</td>\n",
       "      <td>...</td>\n",
       "      <td>cat0</td>\n",
       "      <td>cat1</td>\n",
       "      <td>cat0</td>\n",
       "      <td>cat0</td>\n",
       "      <td>cat0</td>\n",
       "      <td>cat2</td>\n",
       "      <td>cat1</td>\n",
       "      <td>cat1</td>\n",
       "      <td>cat0</td>\n",
       "      <td>cat2</td>\n",
       "    </tr>\n",
       "    <tr>\n",
       "      <th>2</th>\n",
       "      <td>0.097646</td>\n",
       "      <td>2.428925</td>\n",
       "      <td>2.313740</td>\n",
       "      <td>3.347566</td>\n",
       "      <td>-2.453440</td>\n",
       "      <td>-3.909484</td>\n",
       "      <td>-3.100085</td>\n",
       "      <td>-0.070826</td>\n",
       "      <td>-3.842795</td>\n",
       "      <td>-0.606800</td>\n",
       "      <td>...</td>\n",
       "      <td>cat0</td>\n",
       "      <td>cat1</td>\n",
       "      <td>cat0</td>\n",
       "      <td>cat1</td>\n",
       "      <td>cat1</td>\n",
       "      <td>cat1</td>\n",
       "      <td>cat2</td>\n",
       "      <td>cat2</td>\n",
       "      <td>cat2</td>\n",
       "      <td>cat0</td>\n",
       "    </tr>\n",
       "    <tr>\n",
       "      <th>3</th>\n",
       "      <td>-1.680626</td>\n",
       "      <td>-1.532230</td>\n",
       "      <td>1.490382</td>\n",
       "      <td>1.053494</td>\n",
       "      <td>-0.385167</td>\n",
       "      <td>1.225927</td>\n",
       "      <td>0.676873</td>\n",
       "      <td>1.031453</td>\n",
       "      <td>-1.969521</td>\n",
       "      <td>1.538824</td>\n",
       "      <td>...</td>\n",
       "      <td>cat0</td>\n",
       "      <td>cat1</td>\n",
       "      <td>cat0</td>\n",
       "      <td>cat0</td>\n",
       "      <td>cat1</td>\n",
       "      <td>cat1</td>\n",
       "      <td>cat2</td>\n",
       "      <td>cat0</td>\n",
       "      <td>cat3</td>\n",
       "      <td>cat3</td>\n",
       "    </tr>\n",
       "    <tr>\n",
       "      <th>4</th>\n",
       "      <td>-0.187534</td>\n",
       "      <td>1.967675</td>\n",
       "      <td>2.223379</td>\n",
       "      <td>1.808796</td>\n",
       "      <td>-2.786070</td>\n",
       "      <td>-0.466622</td>\n",
       "      <td>-0.334265</td>\n",
       "      <td>-0.897495</td>\n",
       "      <td>-2.092557</td>\n",
       "      <td>0.052721</td>\n",
       "      <td>...</td>\n",
       "      <td>cat0</td>\n",
       "      <td>cat0</td>\n",
       "      <td>cat1</td>\n",
       "      <td>cat0</td>\n",
       "      <td>cat1</td>\n",
       "      <td>cat2</td>\n",
       "      <td>cat1</td>\n",
       "      <td>cat1</td>\n",
       "      <td>cat3</td>\n",
       "      <td>cat1</td>\n",
       "    </tr>\n",
       "  </tbody>\n",
       "</table>\n",
       "<p>5 rows × 21 columns</p>\n",
       "</div>"
      ],
      "text/plain": [
       "     x_num0    x_num1    x_num2    x_num3    x_num4    x_num5    x_num6  \\\n",
       "0  0.843910  1.012945  1.190556  2.672900 -0.943966 -2.093581 -0.674588   \n",
       "1 -1.271782  1.820219  1.225230  1.055635 -0.365865 -2.013976  1.250390   \n",
       "2  0.097646  2.428925  2.313740  3.347566 -2.453440 -3.909484 -3.100085   \n",
       "3 -1.680626 -1.532230  1.490382  1.053494 -0.385167  1.225927  0.676873   \n",
       "4 -0.187534  1.967675  2.223379  1.808796 -2.786070 -0.466622 -0.334265   \n",
       "\n",
       "     x_num7    x_num8    x_num9  ... x_bin0 x_bin1 x_bin2 x_bin3 x_bin4  \\\n",
       "0  0.598498 -1.244136 -0.560193  ...   cat0   cat0   cat1   cat1   cat1   \n",
       "1  1.054216 -0.362961  0.381651  ...   cat0   cat1   cat0   cat0   cat0   \n",
       "2 -0.070826 -3.842795 -0.606800  ...   cat0   cat1   cat0   cat1   cat1   \n",
       "3  1.031453 -1.969521  1.538824  ...   cat0   cat1   cat0   cat0   cat1   \n",
       "4 -0.897495 -2.092557  0.052721  ...   cat0   cat0   cat1   cat0   cat1   \n",
       "\n",
       "  x_cat0 x_cat1 x_cat2 x_cat_0 x_cat_1  \n",
       "0   cat0   cat2   cat0    cat0    cat0  \n",
       "1   cat2   cat1   cat1    cat0    cat2  \n",
       "2   cat1   cat2   cat2    cat2    cat0  \n",
       "3   cat1   cat2   cat0    cat3    cat3  \n",
       "4   cat2   cat1   cat1    cat3    cat1  \n",
       "\n",
       "[5 rows x 21 columns]"
      ]
     },
     "execution_count": 15,
     "metadata": {},
     "output_type": "execute_result"
    }
   ],
   "source": [
    "#CRIANDO DADOS FICTICIOS 2\n",
    "from sklearn.datasets import make_classification\n",
    "np.random.seed(3141592)\n",
    "\n",
    "# Gerando dados numéricos e a variável dependente 'y'\n",
    "x, y = make_classification(n_samples=500, \n",
    "                           n_features=10, #total de colunas\n",
    "                           n_informative=5, #colunas informativas\n",
    "                           n_redundant=5, #colunas redundantes\n",
    "                           n_classes=2, #numero de classes y\n",
    "                           random_state=3141592)\n",
    "\n",
    "df = pd.DataFrame(x)\n",
    "df.columns = ['x_num'+str(i) for i in range(10)]\n",
    "\n",
    "df['y'] = y.astype('O')\n",
    "\n",
    "# Adicionando 10 variáveis categóricas binarias\n",
    "\n",
    "for i in range(5):\n",
    "    if i >= 3:\n",
    "        df['x_bin'+str(i)] = np.random.choice(['cat0','cat1'], size=len(df))\n",
    "    else:\n",
    "        df['x_bin'+str(i)] = np.nan\n",
    "        df['x_bin'+str(i)][df['y'] == 0] = np.random.choice(['cat0','cat1'], size=len(df), p=[.7,.3])\n",
    "        df['x_bin'+str(i)][df['y'] == 1] = np.random.choice(['cat0','cat1'], size=len(df), p=[.3,.7])\n",
    "\n",
    "for i in range(3):\n",
    "    if i >= 2:\n",
    "        df['x_cat'+str(i)] = np.random.choice(['cat0','cat1','cat2',], size=len(df))\n",
    "    else:\n",
    "        df['x_cat'+str(i)] = np.nan\n",
    "        df['x_cat'+str(i)][df['y'] == 0] = np.random.choice(['cat0','cat1','cat2',], size=len(df), p=[.3,.3,.4])\n",
    "        df['x_cat'+str(i)][df['y'] == 1] = np.random.choice(['cat0','cat1','cat2',], size=len(df), p=[.2,.7,.1])\n",
    "\n",
    "for i in range(2):\n",
    "    if i >= 1:\n",
    "        df['x_cat_'+str(i)] = np.random.choice(['cat0','cat1','cat2','cat3'], size=len(df))\n",
    "    else:\n",
    "        df['x_cat_'+str(i)] = np.nan\n",
    "        df['x_cat_'+str(i)][df['y'] == 0] = np.random.choice(['cat0','cat1','cat2','cat3'], size=len(df), p=[.4,.3,.2,.1])\n",
    "        df['x_cat_'+str(i)][df['y'] == 1] = np.random.choice(['cat0','cat1','cat2','cat3'], size=len(df), p=[.1,.2,.3,.4])\n",
    "\n",
    "df.head()"
   ]
  },
  {
   "cell_type": "markdown",
   "id": "e48eb8b4-d7d7-4c4b-995d-313efbe84e87",
   "metadata": {},
   "source": [
    "# Analises Iniciais"
   ]
  },
  {
   "cell_type": "code",
   "execution_count": 16,
   "id": "3b6ae20a-6b0e-4eb4-9154-6e9625dcff89",
   "metadata": {},
   "outputs": [
    {
     "name": "stdout",
     "output_type": "stream",
     "text": [
      "<class 'pandas.core.frame.DataFrame'>\n",
      "RangeIndex: 500 entries, 0 to 499\n",
      "Data columns (total 21 columns):\n",
      " #   Column   Non-Null Count  Dtype  \n",
      "---  ------   --------------  -----  \n",
      " 0   x_num0   500 non-null    float64\n",
      " 1   x_num1   500 non-null    float64\n",
      " 2   x_num2   500 non-null    float64\n",
      " 3   x_num3   500 non-null    float64\n",
      " 4   x_num4   500 non-null    float64\n",
      " 5   x_num5   500 non-null    float64\n",
      " 6   x_num6   500 non-null    float64\n",
      " 7   x_num7   500 non-null    float64\n",
      " 8   x_num8   500 non-null    float64\n",
      " 9   x_num9   500 non-null    float64\n",
      " 10  y        500 non-null    object \n",
      " 11  x_bin0   500 non-null    object \n",
      " 12  x_bin1   500 non-null    object \n",
      " 13  x_bin2   500 non-null    object \n",
      " 14  x_bin3   500 non-null    object \n",
      " 15  x_bin4   500 non-null    object \n",
      " 16  x_cat0   500 non-null    object \n",
      " 17  x_cat1   500 non-null    object \n",
      " 18  x_cat2   500 non-null    object \n",
      " 19  x_cat_0  500 non-null    object \n",
      " 20  x_cat_1  500 non-null    object \n",
      "dtypes: float64(10), object(11)\n",
      "memory usage: 82.2+ KB\n"
     ]
    }
   ],
   "source": [
    "df.info()"
   ]
  },
  {
   "cell_type": "code",
   "execution_count": 17,
   "id": "e3cf4833-3e31-451b-b7da-d5c843e98456",
   "metadata": {
    "scrolled": true
   },
   "outputs": [
    {
     "data": {
      "text/html": [
       "<div>\n",
       "<style scoped>\n",
       "    .dataframe tbody tr th:only-of-type {\n",
       "        vertical-align: middle;\n",
       "    }\n",
       "\n",
       "    .dataframe tbody tr th {\n",
       "        vertical-align: top;\n",
       "    }\n",
       "\n",
       "    .dataframe thead th {\n",
       "        text-align: right;\n",
       "    }\n",
       "</style>\n",
       "<table border=\"1\" class=\"dataframe\">\n",
       "  <thead>\n",
       "    <tr style=\"text-align: right;\">\n",
       "      <th></th>\n",
       "      <th>x_num0</th>\n",
       "      <th>x_num1</th>\n",
       "      <th>x_num2</th>\n",
       "      <th>x_num3</th>\n",
       "      <th>x_num4</th>\n",
       "      <th>x_num5</th>\n",
       "      <th>x_num6</th>\n",
       "      <th>x_num7</th>\n",
       "      <th>x_num8</th>\n",
       "      <th>x_num9</th>\n",
       "      <th>...</th>\n",
       "      <th>x_bin0</th>\n",
       "      <th>x_bin1</th>\n",
       "      <th>x_bin2</th>\n",
       "      <th>x_bin3</th>\n",
       "      <th>x_bin4</th>\n",
       "      <th>x_cat0</th>\n",
       "      <th>x_cat1</th>\n",
       "      <th>x_cat2</th>\n",
       "      <th>x_cat_0</th>\n",
       "      <th>x_cat_1</th>\n",
       "    </tr>\n",
       "  </thead>\n",
       "  <tbody>\n",
       "    <tr>\n",
       "      <th>count</th>\n",
       "      <td>500.000000</td>\n",
       "      <td>500.000000</td>\n",
       "      <td>500.000000</td>\n",
       "      <td>500.000000</td>\n",
       "      <td>500.000000</td>\n",
       "      <td>500.000000</td>\n",
       "      <td>500.000000</td>\n",
       "      <td>500.000000</td>\n",
       "      <td>500.000000</td>\n",
       "      <td>500.000000</td>\n",
       "      <td>...</td>\n",
       "      <td>500</td>\n",
       "      <td>500</td>\n",
       "      <td>500</td>\n",
       "      <td>500</td>\n",
       "      <td>500</td>\n",
       "      <td>500</td>\n",
       "      <td>500</td>\n",
       "      <td>500</td>\n",
       "      <td>500</td>\n",
       "      <td>500</td>\n",
       "    </tr>\n",
       "    <tr>\n",
       "      <th>unique</th>\n",
       "      <td>NaN</td>\n",
       "      <td>NaN</td>\n",
       "      <td>NaN</td>\n",
       "      <td>NaN</td>\n",
       "      <td>NaN</td>\n",
       "      <td>NaN</td>\n",
       "      <td>NaN</td>\n",
       "      <td>NaN</td>\n",
       "      <td>NaN</td>\n",
       "      <td>NaN</td>\n",
       "      <td>...</td>\n",
       "      <td>2</td>\n",
       "      <td>2</td>\n",
       "      <td>2</td>\n",
       "      <td>2</td>\n",
       "      <td>2</td>\n",
       "      <td>3</td>\n",
       "      <td>3</td>\n",
       "      <td>3</td>\n",
       "      <td>4</td>\n",
       "      <td>4</td>\n",
       "    </tr>\n",
       "    <tr>\n",
       "      <th>top</th>\n",
       "      <td>NaN</td>\n",
       "      <td>NaN</td>\n",
       "      <td>NaN</td>\n",
       "      <td>NaN</td>\n",
       "      <td>NaN</td>\n",
       "      <td>NaN</td>\n",
       "      <td>NaN</td>\n",
       "      <td>NaN</td>\n",
       "      <td>NaN</td>\n",
       "      <td>NaN</td>\n",
       "      <td>...</td>\n",
       "      <td>cat1</td>\n",
       "      <td>cat0</td>\n",
       "      <td>cat0</td>\n",
       "      <td>cat1</td>\n",
       "      <td>cat1</td>\n",
       "      <td>cat1</td>\n",
       "      <td>cat1</td>\n",
       "      <td>cat0</td>\n",
       "      <td>cat0</td>\n",
       "      <td>cat1</td>\n",
       "    </tr>\n",
       "    <tr>\n",
       "      <th>freq</th>\n",
       "      <td>NaN</td>\n",
       "      <td>NaN</td>\n",
       "      <td>NaN</td>\n",
       "      <td>NaN</td>\n",
       "      <td>NaN</td>\n",
       "      <td>NaN</td>\n",
       "      <td>NaN</td>\n",
       "      <td>NaN</td>\n",
       "      <td>NaN</td>\n",
       "      <td>NaN</td>\n",
       "      <td>...</td>\n",
       "      <td>261</td>\n",
       "      <td>252</td>\n",
       "      <td>251</td>\n",
       "      <td>260</td>\n",
       "      <td>269</td>\n",
       "      <td>253</td>\n",
       "      <td>267</td>\n",
       "      <td>169</td>\n",
       "      <td>135</td>\n",
       "      <td>133</td>\n",
       "    </tr>\n",
       "    <tr>\n",
       "      <th>mean</th>\n",
       "      <td>-0.557939</td>\n",
       "      <td>0.496546</td>\n",
       "      <td>0.352891</td>\n",
       "      <td>0.476149</td>\n",
       "      <td>0.204914</td>\n",
       "      <td>-1.040651</td>\n",
       "      <td>0.454461</td>\n",
       "      <td>0.730617</td>\n",
       "      <td>-0.109831</td>\n",
       "      <td>0.177424</td>\n",
       "      <td>...</td>\n",
       "      <td>NaN</td>\n",
       "      <td>NaN</td>\n",
       "      <td>NaN</td>\n",
       "      <td>NaN</td>\n",
       "      <td>NaN</td>\n",
       "      <td>NaN</td>\n",
       "      <td>NaN</td>\n",
       "      <td>NaN</td>\n",
       "      <td>NaN</td>\n",
       "      <td>NaN</td>\n",
       "    </tr>\n",
       "    <tr>\n",
       "      <th>std</th>\n",
       "      <td>1.563045</td>\n",
       "      <td>1.604209</td>\n",
       "      <td>1.330140</td>\n",
       "      <td>1.478911</td>\n",
       "      <td>1.674349</td>\n",
       "      <td>1.185159</td>\n",
       "      <td>1.461027</td>\n",
       "      <td>1.365781</td>\n",
       "      <td>2.134687</td>\n",
       "      <td>0.954316</td>\n",
       "      <td>...</td>\n",
       "      <td>NaN</td>\n",
       "      <td>NaN</td>\n",
       "      <td>NaN</td>\n",
       "      <td>NaN</td>\n",
       "      <td>NaN</td>\n",
       "      <td>NaN</td>\n",
       "      <td>NaN</td>\n",
       "      <td>NaN</td>\n",
       "      <td>NaN</td>\n",
       "      <td>NaN</td>\n",
       "    </tr>\n",
       "    <tr>\n",
       "      <th>min</th>\n",
       "      <td>-4.844953</td>\n",
       "      <td>-4.911777</td>\n",
       "      <td>-3.387502</td>\n",
       "      <td>-4.537776</td>\n",
       "      <td>-5.118946</td>\n",
       "      <td>-5.115548</td>\n",
       "      <td>-5.506776</td>\n",
       "      <td>-3.930646</td>\n",
       "      <td>-5.804851</td>\n",
       "      <td>-2.896970</td>\n",
       "      <td>...</td>\n",
       "      <td>NaN</td>\n",
       "      <td>NaN</td>\n",
       "      <td>NaN</td>\n",
       "      <td>NaN</td>\n",
       "      <td>NaN</td>\n",
       "      <td>NaN</td>\n",
       "      <td>NaN</td>\n",
       "      <td>NaN</td>\n",
       "      <td>NaN</td>\n",
       "      <td>NaN</td>\n",
       "    </tr>\n",
       "    <tr>\n",
       "      <th>25%</th>\n",
       "      <td>-1.627864</td>\n",
       "      <td>-0.488564</td>\n",
       "      <td>-0.531668</td>\n",
       "      <td>-0.520949</td>\n",
       "      <td>-0.847893</td>\n",
       "      <td>-1.798338</td>\n",
       "      <td>-0.437514</td>\n",
       "      <td>-0.225202</td>\n",
       "      <td>-1.761611</td>\n",
       "      <td>-0.538396</td>\n",
       "      <td>...</td>\n",
       "      <td>NaN</td>\n",
       "      <td>NaN</td>\n",
       "      <td>NaN</td>\n",
       "      <td>NaN</td>\n",
       "      <td>NaN</td>\n",
       "      <td>NaN</td>\n",
       "      <td>NaN</td>\n",
       "      <td>NaN</td>\n",
       "      <td>NaN</td>\n",
       "      <td>NaN</td>\n",
       "    </tr>\n",
       "    <tr>\n",
       "      <th>50%</th>\n",
       "      <td>-0.629553</td>\n",
       "      <td>0.701758</td>\n",
       "      <td>0.337476</td>\n",
       "      <td>0.494579</td>\n",
       "      <td>0.215876</td>\n",
       "      <td>-1.096979</td>\n",
       "      <td>0.678468</td>\n",
       "      <td>0.624379</td>\n",
       "      <td>-0.303252</td>\n",
       "      <td>0.247174</td>\n",
       "      <td>...</td>\n",
       "      <td>NaN</td>\n",
       "      <td>NaN</td>\n",
       "      <td>NaN</td>\n",
       "      <td>NaN</td>\n",
       "      <td>NaN</td>\n",
       "      <td>NaN</td>\n",
       "      <td>NaN</td>\n",
       "      <td>NaN</td>\n",
       "      <td>NaN</td>\n",
       "      <td>NaN</td>\n",
       "    </tr>\n",
       "    <tr>\n",
       "      <th>75%</th>\n",
       "      <td>0.403434</td>\n",
       "      <td>1.551373</td>\n",
       "      <td>1.244882</td>\n",
       "      <td>1.561551</td>\n",
       "      <td>1.366376</td>\n",
       "      <td>-0.271156</td>\n",
       "      <td>1.405160</td>\n",
       "      <td>1.650740</td>\n",
       "      <td>1.407978</td>\n",
       "      <td>0.853892</td>\n",
       "      <td>...</td>\n",
       "      <td>NaN</td>\n",
       "      <td>NaN</td>\n",
       "      <td>NaN</td>\n",
       "      <td>NaN</td>\n",
       "      <td>NaN</td>\n",
       "      <td>NaN</td>\n",
       "      <td>NaN</td>\n",
       "      <td>NaN</td>\n",
       "      <td>NaN</td>\n",
       "      <td>NaN</td>\n",
       "    </tr>\n",
       "    <tr>\n",
       "      <th>max</th>\n",
       "      <td>5.536318</td>\n",
       "      <td>4.713087</td>\n",
       "      <td>3.933646</td>\n",
       "      <td>5.033659</td>\n",
       "      <td>4.941426</td>\n",
       "      <td>2.717432</td>\n",
       "      <td>4.563697</td>\n",
       "      <td>4.734595</td>\n",
       "      <td>6.713376</td>\n",
       "      <td>2.899270</td>\n",
       "      <td>...</td>\n",
       "      <td>NaN</td>\n",
       "      <td>NaN</td>\n",
       "      <td>NaN</td>\n",
       "      <td>NaN</td>\n",
       "      <td>NaN</td>\n",
       "      <td>NaN</td>\n",
       "      <td>NaN</td>\n",
       "      <td>NaN</td>\n",
       "      <td>NaN</td>\n",
       "      <td>NaN</td>\n",
       "    </tr>\n",
       "  </tbody>\n",
       "</table>\n",
       "<p>11 rows × 21 columns</p>\n",
       "</div>"
      ],
      "text/plain": [
       "            x_num0      x_num1      x_num2      x_num3      x_num4  \\\n",
       "count   500.000000  500.000000  500.000000  500.000000  500.000000   \n",
       "unique         NaN         NaN         NaN         NaN         NaN   \n",
       "top            NaN         NaN         NaN         NaN         NaN   \n",
       "freq           NaN         NaN         NaN         NaN         NaN   \n",
       "mean     -0.557939    0.496546    0.352891    0.476149    0.204914   \n",
       "std       1.563045    1.604209    1.330140    1.478911    1.674349   \n",
       "min      -4.844953   -4.911777   -3.387502   -4.537776   -5.118946   \n",
       "25%      -1.627864   -0.488564   -0.531668   -0.520949   -0.847893   \n",
       "50%      -0.629553    0.701758    0.337476    0.494579    0.215876   \n",
       "75%       0.403434    1.551373    1.244882    1.561551    1.366376   \n",
       "max       5.536318    4.713087    3.933646    5.033659    4.941426   \n",
       "\n",
       "            x_num5      x_num6      x_num7      x_num8      x_num9  ...  \\\n",
       "count   500.000000  500.000000  500.000000  500.000000  500.000000  ...   \n",
       "unique         NaN         NaN         NaN         NaN         NaN  ...   \n",
       "top            NaN         NaN         NaN         NaN         NaN  ...   \n",
       "freq           NaN         NaN         NaN         NaN         NaN  ...   \n",
       "mean     -1.040651    0.454461    0.730617   -0.109831    0.177424  ...   \n",
       "std       1.185159    1.461027    1.365781    2.134687    0.954316  ...   \n",
       "min      -5.115548   -5.506776   -3.930646   -5.804851   -2.896970  ...   \n",
       "25%      -1.798338   -0.437514   -0.225202   -1.761611   -0.538396  ...   \n",
       "50%      -1.096979    0.678468    0.624379   -0.303252    0.247174  ...   \n",
       "75%      -0.271156    1.405160    1.650740    1.407978    0.853892  ...   \n",
       "max       2.717432    4.563697    4.734595    6.713376    2.899270  ...   \n",
       "\n",
       "        x_bin0 x_bin1 x_bin2 x_bin3 x_bin4 x_cat0 x_cat1 x_cat2 x_cat_0  \\\n",
       "count      500    500    500    500    500    500    500    500     500   \n",
       "unique       2      2      2      2      2      3      3      3       4   \n",
       "top       cat1   cat0   cat0   cat1   cat1   cat1   cat1   cat0    cat0   \n",
       "freq       261    252    251    260    269    253    267    169     135   \n",
       "mean       NaN    NaN    NaN    NaN    NaN    NaN    NaN    NaN     NaN   \n",
       "std        NaN    NaN    NaN    NaN    NaN    NaN    NaN    NaN     NaN   \n",
       "min        NaN    NaN    NaN    NaN    NaN    NaN    NaN    NaN     NaN   \n",
       "25%        NaN    NaN    NaN    NaN    NaN    NaN    NaN    NaN     NaN   \n",
       "50%        NaN    NaN    NaN    NaN    NaN    NaN    NaN    NaN     NaN   \n",
       "75%        NaN    NaN    NaN    NaN    NaN    NaN    NaN    NaN     NaN   \n",
       "max        NaN    NaN    NaN    NaN    NaN    NaN    NaN    NaN     NaN   \n",
       "\n",
       "       x_cat_1  \n",
       "count      500  \n",
       "unique       4  \n",
       "top       cat1  \n",
       "freq       133  \n",
       "mean       NaN  \n",
       "std        NaN  \n",
       "min        NaN  \n",
       "25%        NaN  \n",
       "50%        NaN  \n",
       "75%        NaN  \n",
       "max        NaN  \n",
       "\n",
       "[11 rows x 21 columns]"
      ]
     },
     "metadata": {},
     "output_type": "display_data"
    }
   ],
   "source": [
    "display(df.describe(include='all'))"
   ]
  },
  {
   "cell_type": "code",
   "execution_count": 18,
   "id": "669cab0c-141c-4095-9461-c63c047502fd",
   "metadata": {},
   "outputs": [],
   "source": [
    "import plotly.express as px\n",
    "\n",
    "import scipy.stats as stats\n",
    "from scipy.stats import chi2_contingency"
   ]
  },
  {
   "cell_type": "code",
   "execution_count": 19,
   "id": "d76024d4-21d3-40c2-a58e-593a89d4ef0b",
   "metadata": {},
   "outputs": [
    {
     "data": {
      "application/vnd.plotly.v1+json": {
       "config": {
        "plotlyServerURL": "https://plot.ly"
       },
       "data": [
        {
         "alignmentgroup": "True",
         "bingroup": "x",
         "hovertemplate": "y=%{x}<br>count=%{y}<extra></extra>",
         "legendgroup": "0",
         "marker": {
          "color": "#636efa",
          "pattern": {
           "shape": ""
          }
         },
         "name": "0",
         "offsetgroup": "0",
         "orientation": "v",
         "showlegend": true,
         "texttemplate": "%{value}",
         "type": "histogram",
         "x": [
          0,
          0,
          0,
          0,
          0,
          0,
          0,
          0,
          0,
          0,
          0,
          0,
          0,
          0,
          0,
          0,
          0,
          0,
          0,
          0,
          0,
          0,
          0,
          0,
          0,
          0,
          0,
          0,
          0,
          0,
          0,
          0,
          0,
          0,
          0,
          0,
          0,
          0,
          0,
          0,
          0,
          0,
          0,
          0,
          0,
          0,
          0,
          0,
          0,
          0,
          0,
          0,
          0,
          0,
          0,
          0,
          0,
          0,
          0,
          0,
          0,
          0,
          0,
          0,
          0,
          0,
          0,
          0,
          0,
          0,
          0,
          0,
          0,
          0,
          0,
          0,
          0,
          0,
          0,
          0,
          0,
          0,
          0,
          0,
          0,
          0,
          0,
          0,
          0,
          0,
          0,
          0,
          0,
          0,
          0,
          0,
          0,
          0,
          0,
          0,
          0,
          0,
          0,
          0,
          0,
          0,
          0,
          0,
          0,
          0,
          0,
          0,
          0,
          0,
          0,
          0,
          0,
          0,
          0,
          0,
          0,
          0,
          0,
          0,
          0,
          0,
          0,
          0,
          0,
          0,
          0,
          0,
          0,
          0,
          0,
          0,
          0,
          0,
          0,
          0,
          0,
          0,
          0,
          0,
          0,
          0,
          0,
          0,
          0,
          0,
          0,
          0,
          0,
          0,
          0,
          0,
          0,
          0,
          0,
          0,
          0,
          0,
          0,
          0,
          0,
          0,
          0,
          0,
          0,
          0,
          0,
          0,
          0,
          0,
          0,
          0,
          0,
          0,
          0,
          0,
          0,
          0,
          0,
          0,
          0,
          0,
          0,
          0,
          0,
          0,
          0,
          0,
          0,
          0,
          0,
          0,
          0,
          0,
          0,
          0,
          0,
          0,
          0,
          0,
          0,
          0,
          0,
          0,
          0,
          0,
          0,
          0,
          0,
          0,
          0,
          0,
          0,
          0,
          0,
          0,
          0,
          0,
          0,
          0,
          0,
          0,
          0,
          0,
          0,
          0,
          0,
          0,
          0,
          0,
          0,
          0,
          0,
          0,
          0,
          0,
          0,
          0,
          0,
          0,
          0,
          0,
          0,
          0,
          0,
          0,
          0
         ],
         "xaxis": "x",
         "yaxis": "y"
        },
        {
         "alignmentgroup": "True",
         "bingroup": "x",
         "hovertemplate": "y=%{x}<br>count=%{y}<extra></extra>",
         "legendgroup": "1",
         "marker": {
          "color": "#EF553B",
          "pattern": {
           "shape": ""
          }
         },
         "name": "1",
         "offsetgroup": "1",
         "orientation": "v",
         "showlegend": true,
         "texttemplate": "%{value}",
         "type": "histogram",
         "x": [
          1,
          1,
          1,
          1,
          1,
          1,
          1,
          1,
          1,
          1,
          1,
          1,
          1,
          1,
          1,
          1,
          1,
          1,
          1,
          1,
          1,
          1,
          1,
          1,
          1,
          1,
          1,
          1,
          1,
          1,
          1,
          1,
          1,
          1,
          1,
          1,
          1,
          1,
          1,
          1,
          1,
          1,
          1,
          1,
          1,
          1,
          1,
          1,
          1,
          1,
          1,
          1,
          1,
          1,
          1,
          1,
          1,
          1,
          1,
          1,
          1,
          1,
          1,
          1,
          1,
          1,
          1,
          1,
          1,
          1,
          1,
          1,
          1,
          1,
          1,
          1,
          1,
          1,
          1,
          1,
          1,
          1,
          1,
          1,
          1,
          1,
          1,
          1,
          1,
          1,
          1,
          1,
          1,
          1,
          1,
          1,
          1,
          1,
          1,
          1,
          1,
          1,
          1,
          1,
          1,
          1,
          1,
          1,
          1,
          1,
          1,
          1,
          1,
          1,
          1,
          1,
          1,
          1,
          1,
          1,
          1,
          1,
          1,
          1,
          1,
          1,
          1,
          1,
          1,
          1,
          1,
          1,
          1,
          1,
          1,
          1,
          1,
          1,
          1,
          1,
          1,
          1,
          1,
          1,
          1,
          1,
          1,
          1,
          1,
          1,
          1,
          1,
          1,
          1,
          1,
          1,
          1,
          1,
          1,
          1,
          1,
          1,
          1,
          1,
          1,
          1,
          1,
          1,
          1,
          1,
          1,
          1,
          1,
          1,
          1,
          1,
          1,
          1,
          1,
          1,
          1,
          1,
          1,
          1,
          1,
          1,
          1,
          1,
          1,
          1,
          1,
          1,
          1,
          1,
          1,
          1,
          1,
          1,
          1,
          1,
          1,
          1,
          1,
          1,
          1,
          1,
          1,
          1,
          1,
          1,
          1,
          1,
          1,
          1,
          1,
          1,
          1,
          1,
          1,
          1,
          1,
          1,
          1,
          1,
          1,
          1,
          1,
          1,
          1,
          1,
          1,
          1,
          1,
          1,
          1,
          1,
          1,
          1,
          1,
          1,
          1,
          1,
          1,
          1,
          1,
          1,
          1,
          1,
          1
         ],
         "xaxis": "x",
         "yaxis": "y"
        }
       ],
       "layout": {
        "barmode": "relative",
        "legend": {
         "title": {
          "text": "y"
         },
         "tracegroupgap": 0
        },
        "margin": {
         "t": 60
        },
        "template": {
         "data": {
          "bar": [
           {
            "error_x": {
             "color": "#2a3f5f"
            },
            "error_y": {
             "color": "#2a3f5f"
            },
            "marker": {
             "line": {
              "color": "#E5ECF6",
              "width": 0.5
             },
             "pattern": {
              "fillmode": "overlay",
              "size": 10,
              "solidity": 0.2
             }
            },
            "type": "bar"
           }
          ],
          "barpolar": [
           {
            "marker": {
             "line": {
              "color": "#E5ECF6",
              "width": 0.5
             },
             "pattern": {
              "fillmode": "overlay",
              "size": 10,
              "solidity": 0.2
             }
            },
            "type": "barpolar"
           }
          ],
          "carpet": [
           {
            "aaxis": {
             "endlinecolor": "#2a3f5f",
             "gridcolor": "white",
             "linecolor": "white",
             "minorgridcolor": "white",
             "startlinecolor": "#2a3f5f"
            },
            "baxis": {
             "endlinecolor": "#2a3f5f",
             "gridcolor": "white",
             "linecolor": "white",
             "minorgridcolor": "white",
             "startlinecolor": "#2a3f5f"
            },
            "type": "carpet"
           }
          ],
          "choropleth": [
           {
            "colorbar": {
             "outlinewidth": 0,
             "ticks": ""
            },
            "type": "choropleth"
           }
          ],
          "contour": [
           {
            "colorbar": {
             "outlinewidth": 0,
             "ticks": ""
            },
            "colorscale": [
             [
              0,
              "#0d0887"
             ],
             [
              0.1111111111111111,
              "#46039f"
             ],
             [
              0.2222222222222222,
              "#7201a8"
             ],
             [
              0.3333333333333333,
              "#9c179e"
             ],
             [
              0.4444444444444444,
              "#bd3786"
             ],
             [
              0.5555555555555556,
              "#d8576b"
             ],
             [
              0.6666666666666666,
              "#ed7953"
             ],
             [
              0.7777777777777778,
              "#fb9f3a"
             ],
             [
              0.8888888888888888,
              "#fdca26"
             ],
             [
              1,
              "#f0f921"
             ]
            ],
            "type": "contour"
           }
          ],
          "contourcarpet": [
           {
            "colorbar": {
             "outlinewidth": 0,
             "ticks": ""
            },
            "type": "contourcarpet"
           }
          ],
          "heatmap": [
           {
            "colorbar": {
             "outlinewidth": 0,
             "ticks": ""
            },
            "colorscale": [
             [
              0,
              "#0d0887"
             ],
             [
              0.1111111111111111,
              "#46039f"
             ],
             [
              0.2222222222222222,
              "#7201a8"
             ],
             [
              0.3333333333333333,
              "#9c179e"
             ],
             [
              0.4444444444444444,
              "#bd3786"
             ],
             [
              0.5555555555555556,
              "#d8576b"
             ],
             [
              0.6666666666666666,
              "#ed7953"
             ],
             [
              0.7777777777777778,
              "#fb9f3a"
             ],
             [
              0.8888888888888888,
              "#fdca26"
             ],
             [
              1,
              "#f0f921"
             ]
            ],
            "type": "heatmap"
           }
          ],
          "heatmapgl": [
           {
            "colorbar": {
             "outlinewidth": 0,
             "ticks": ""
            },
            "colorscale": [
             [
              0,
              "#0d0887"
             ],
             [
              0.1111111111111111,
              "#46039f"
             ],
             [
              0.2222222222222222,
              "#7201a8"
             ],
             [
              0.3333333333333333,
              "#9c179e"
             ],
             [
              0.4444444444444444,
              "#bd3786"
             ],
             [
              0.5555555555555556,
              "#d8576b"
             ],
             [
              0.6666666666666666,
              "#ed7953"
             ],
             [
              0.7777777777777778,
              "#fb9f3a"
             ],
             [
              0.8888888888888888,
              "#fdca26"
             ],
             [
              1,
              "#f0f921"
             ]
            ],
            "type": "heatmapgl"
           }
          ],
          "histogram": [
           {
            "marker": {
             "pattern": {
              "fillmode": "overlay",
              "size": 10,
              "solidity": 0.2
             }
            },
            "type": "histogram"
           }
          ],
          "histogram2d": [
           {
            "colorbar": {
             "outlinewidth": 0,
             "ticks": ""
            },
            "colorscale": [
             [
              0,
              "#0d0887"
             ],
             [
              0.1111111111111111,
              "#46039f"
             ],
             [
              0.2222222222222222,
              "#7201a8"
             ],
             [
              0.3333333333333333,
              "#9c179e"
             ],
             [
              0.4444444444444444,
              "#bd3786"
             ],
             [
              0.5555555555555556,
              "#d8576b"
             ],
             [
              0.6666666666666666,
              "#ed7953"
             ],
             [
              0.7777777777777778,
              "#fb9f3a"
             ],
             [
              0.8888888888888888,
              "#fdca26"
             ],
             [
              1,
              "#f0f921"
             ]
            ],
            "type": "histogram2d"
           }
          ],
          "histogram2dcontour": [
           {
            "colorbar": {
             "outlinewidth": 0,
             "ticks": ""
            },
            "colorscale": [
             [
              0,
              "#0d0887"
             ],
             [
              0.1111111111111111,
              "#46039f"
             ],
             [
              0.2222222222222222,
              "#7201a8"
             ],
             [
              0.3333333333333333,
              "#9c179e"
             ],
             [
              0.4444444444444444,
              "#bd3786"
             ],
             [
              0.5555555555555556,
              "#d8576b"
             ],
             [
              0.6666666666666666,
              "#ed7953"
             ],
             [
              0.7777777777777778,
              "#fb9f3a"
             ],
             [
              0.8888888888888888,
              "#fdca26"
             ],
             [
              1,
              "#f0f921"
             ]
            ],
            "type": "histogram2dcontour"
           }
          ],
          "mesh3d": [
           {
            "colorbar": {
             "outlinewidth": 0,
             "ticks": ""
            },
            "type": "mesh3d"
           }
          ],
          "parcoords": [
           {
            "line": {
             "colorbar": {
              "outlinewidth": 0,
              "ticks": ""
             }
            },
            "type": "parcoords"
           }
          ],
          "pie": [
           {
            "automargin": true,
            "type": "pie"
           }
          ],
          "scatter": [
           {
            "fillpattern": {
             "fillmode": "overlay",
             "size": 10,
             "solidity": 0.2
            },
            "type": "scatter"
           }
          ],
          "scatter3d": [
           {
            "line": {
             "colorbar": {
              "outlinewidth": 0,
              "ticks": ""
             }
            },
            "marker": {
             "colorbar": {
              "outlinewidth": 0,
              "ticks": ""
             }
            },
            "type": "scatter3d"
           }
          ],
          "scattercarpet": [
           {
            "marker": {
             "colorbar": {
              "outlinewidth": 0,
              "ticks": ""
             }
            },
            "type": "scattercarpet"
           }
          ],
          "scattergeo": [
           {
            "marker": {
             "colorbar": {
              "outlinewidth": 0,
              "ticks": ""
             }
            },
            "type": "scattergeo"
           }
          ],
          "scattergl": [
           {
            "marker": {
             "colorbar": {
              "outlinewidth": 0,
              "ticks": ""
             }
            },
            "type": "scattergl"
           }
          ],
          "scattermapbox": [
           {
            "marker": {
             "colorbar": {
              "outlinewidth": 0,
              "ticks": ""
             }
            },
            "type": "scattermapbox"
           }
          ],
          "scatterpolar": [
           {
            "marker": {
             "colorbar": {
              "outlinewidth": 0,
              "ticks": ""
             }
            },
            "type": "scatterpolar"
           }
          ],
          "scatterpolargl": [
           {
            "marker": {
             "colorbar": {
              "outlinewidth": 0,
              "ticks": ""
             }
            },
            "type": "scatterpolargl"
           }
          ],
          "scatterternary": [
           {
            "marker": {
             "colorbar": {
              "outlinewidth": 0,
              "ticks": ""
             }
            },
            "type": "scatterternary"
           }
          ],
          "surface": [
           {
            "colorbar": {
             "outlinewidth": 0,
             "ticks": ""
            },
            "colorscale": [
             [
              0,
              "#0d0887"
             ],
             [
              0.1111111111111111,
              "#46039f"
             ],
             [
              0.2222222222222222,
              "#7201a8"
             ],
             [
              0.3333333333333333,
              "#9c179e"
             ],
             [
              0.4444444444444444,
              "#bd3786"
             ],
             [
              0.5555555555555556,
              "#d8576b"
             ],
             [
              0.6666666666666666,
              "#ed7953"
             ],
             [
              0.7777777777777778,
              "#fb9f3a"
             ],
             [
              0.8888888888888888,
              "#fdca26"
             ],
             [
              1,
              "#f0f921"
             ]
            ],
            "type": "surface"
           }
          ],
          "table": [
           {
            "cells": {
             "fill": {
              "color": "#EBF0F8"
             },
             "line": {
              "color": "white"
             }
            },
            "header": {
             "fill": {
              "color": "#C8D4E3"
             },
             "line": {
              "color": "white"
             }
            },
            "type": "table"
           }
          ]
         },
         "layout": {
          "annotationdefaults": {
           "arrowcolor": "#2a3f5f",
           "arrowhead": 0,
           "arrowwidth": 1
          },
          "autotypenumbers": "strict",
          "coloraxis": {
           "colorbar": {
            "outlinewidth": 0,
            "ticks": ""
           }
          },
          "colorscale": {
           "diverging": [
            [
             0,
             "#8e0152"
            ],
            [
             0.1,
             "#c51b7d"
            ],
            [
             0.2,
             "#de77ae"
            ],
            [
             0.3,
             "#f1b6da"
            ],
            [
             0.4,
             "#fde0ef"
            ],
            [
             0.5,
             "#f7f7f7"
            ],
            [
             0.6,
             "#e6f5d0"
            ],
            [
             0.7,
             "#b8e186"
            ],
            [
             0.8,
             "#7fbc41"
            ],
            [
             0.9,
             "#4d9221"
            ],
            [
             1,
             "#276419"
            ]
           ],
           "sequential": [
            [
             0,
             "#0d0887"
            ],
            [
             0.1111111111111111,
             "#46039f"
            ],
            [
             0.2222222222222222,
             "#7201a8"
            ],
            [
             0.3333333333333333,
             "#9c179e"
            ],
            [
             0.4444444444444444,
             "#bd3786"
            ],
            [
             0.5555555555555556,
             "#d8576b"
            ],
            [
             0.6666666666666666,
             "#ed7953"
            ],
            [
             0.7777777777777778,
             "#fb9f3a"
            ],
            [
             0.8888888888888888,
             "#fdca26"
            ],
            [
             1,
             "#f0f921"
            ]
           ],
           "sequentialminus": [
            [
             0,
             "#0d0887"
            ],
            [
             0.1111111111111111,
             "#46039f"
            ],
            [
             0.2222222222222222,
             "#7201a8"
            ],
            [
             0.3333333333333333,
             "#9c179e"
            ],
            [
             0.4444444444444444,
             "#bd3786"
            ],
            [
             0.5555555555555556,
             "#d8576b"
            ],
            [
             0.6666666666666666,
             "#ed7953"
            ],
            [
             0.7777777777777778,
             "#fb9f3a"
            ],
            [
             0.8888888888888888,
             "#fdca26"
            ],
            [
             1,
             "#f0f921"
            ]
           ]
          },
          "colorway": [
           "#636efa",
           "#EF553B",
           "#00cc96",
           "#ab63fa",
           "#FFA15A",
           "#19d3f3",
           "#FF6692",
           "#B6E880",
           "#FF97FF",
           "#FECB52"
          ],
          "font": {
           "color": "#2a3f5f"
          },
          "geo": {
           "bgcolor": "white",
           "lakecolor": "white",
           "landcolor": "#E5ECF6",
           "showlakes": true,
           "showland": true,
           "subunitcolor": "white"
          },
          "hoverlabel": {
           "align": "left"
          },
          "hovermode": "closest",
          "mapbox": {
           "style": "light"
          },
          "paper_bgcolor": "white",
          "plot_bgcolor": "#E5ECF6",
          "polar": {
           "angularaxis": {
            "gridcolor": "white",
            "linecolor": "white",
            "ticks": ""
           },
           "bgcolor": "#E5ECF6",
           "radialaxis": {
            "gridcolor": "white",
            "linecolor": "white",
            "ticks": ""
           }
          },
          "scene": {
           "xaxis": {
            "backgroundcolor": "#E5ECF6",
            "gridcolor": "white",
            "gridwidth": 2,
            "linecolor": "white",
            "showbackground": true,
            "ticks": "",
            "zerolinecolor": "white"
           },
           "yaxis": {
            "backgroundcolor": "#E5ECF6",
            "gridcolor": "white",
            "gridwidth": 2,
            "linecolor": "white",
            "showbackground": true,
            "ticks": "",
            "zerolinecolor": "white"
           },
           "zaxis": {
            "backgroundcolor": "#E5ECF6",
            "gridcolor": "white",
            "gridwidth": 2,
            "linecolor": "white",
            "showbackground": true,
            "ticks": "",
            "zerolinecolor": "white"
           }
          },
          "shapedefaults": {
           "line": {
            "color": "#2a3f5f"
           }
          },
          "ternary": {
           "aaxis": {
            "gridcolor": "white",
            "linecolor": "white",
            "ticks": ""
           },
           "baxis": {
            "gridcolor": "white",
            "linecolor": "white",
            "ticks": ""
           },
           "bgcolor": "#E5ECF6",
           "caxis": {
            "gridcolor": "white",
            "linecolor": "white",
            "ticks": ""
           }
          },
          "title": {
           "x": 0.05
          },
          "xaxis": {
           "automargin": true,
           "gridcolor": "white",
           "linecolor": "white",
           "ticks": "",
           "title": {
            "standoff": 15
           },
           "zerolinecolor": "white",
           "zerolinewidth": 2
          },
          "yaxis": {
           "automargin": true,
           "gridcolor": "white",
           "linecolor": "white",
           "ticks": "",
           "title": {
            "standoff": 15
           },
           "zerolinecolor": "white",
           "zerolinewidth": 2
          }
         }
        },
        "xaxis": {
         "anchor": "y",
         "categoryarray": [
          0,
          1
         ],
         "categoryorder": "array",
         "domain": [
          0,
          1
         ],
         "title": {
          "text": "y"
         }
        },
        "yaxis": {
         "anchor": "x",
         "domain": [
          0,
          1
         ],
         "title": {
          "text": "count"
         }
        }
       }
      }
     },
     "metadata": {},
     "output_type": "display_data"
    }
   ],
   "source": [
    "var_dep = 'y'\n",
    "px.histogram(df, x=var_dep, text_auto=True, color=var_dep)"
   ]
  },
  {
   "cell_type": "markdown",
   "id": "599ee7b8-78a6-4f9c-9f42-b9d47b9d9ee6",
   "metadata": {
    "scrolled": true
   },
   "source": [
    "for coluna in df.columns:\n",
    "    if df[coluna].dtype == 'O':\n",
    "        print('='*15, coluna, '='*15)\n",
    "        fig = px.histogram(df, x=coluna, text_auto=True, color=coluna)\n",
    "        fig.show()\n",
    "    elif df[coluna].dtype == 'int64' or df[coluna].dtype == 'float64':\n",
    "        fig = px.box(df, x=coluna)\n",
    "        fig.show()"
   ]
  },
  {
   "cell_type": "code",
   "execution_count": 21,
   "id": "72518d50-6a63-41b7-8ccc-141b4611c2e1",
   "metadata": {
    "scrolled": true
   },
   "outputs": [
    {
     "name": "stdout",
     "output_type": "stream",
     "text": [
      "P-value: 0.0\n"
     ]
    },
    {
     "data": {
      "application/vnd.plotly.v1+json": {
       "config": {
        "plotlyServerURL": "https://plot.ly"
       },
       "data": [
        {
         "alignmentgroup": "True",
         "bingroup": "x",
         "hovertemplate": "y=%{x}<br>count=%{y}<extra></extra>",
         "legendgroup": "0",
         "marker": {
          "color": "#636efa",
          "pattern": {
           "shape": ""
          }
         },
         "name": "0",
         "offsetgroup": "0",
         "orientation": "v",
         "showlegend": true,
         "texttemplate": "%{value}",
         "type": "histogram",
         "x": [
          0,
          0,
          0,
          0,
          0,
          0,
          0,
          0,
          0,
          0,
          0,
          0,
          0,
          0,
          0,
          0,
          0,
          0,
          0,
          0,
          0,
          0,
          0,
          0,
          0,
          0,
          0,
          0,
          0,
          0,
          0,
          0,
          0,
          0,
          0,
          0,
          0,
          0,
          0,
          0,
          0,
          0,
          0,
          0,
          0,
          0,
          0,
          0,
          0,
          0,
          0,
          0,
          0,
          0,
          0,
          0,
          0,
          0,
          0,
          0,
          0,
          0,
          0,
          0,
          0,
          0,
          0,
          0,
          0,
          0,
          0,
          0,
          0,
          0,
          0,
          0,
          0,
          0,
          0,
          0,
          0,
          0,
          0,
          0,
          0,
          0,
          0,
          0,
          0,
          0,
          0,
          0,
          0,
          0,
          0,
          0,
          0,
          0,
          0,
          0,
          0,
          0,
          0,
          0,
          0,
          0,
          0,
          0,
          0,
          0,
          0,
          0,
          0,
          0,
          0,
          0,
          0,
          0,
          0,
          0,
          0,
          0,
          0,
          0,
          0,
          0,
          0,
          0,
          0,
          0,
          0,
          0,
          0,
          0,
          0,
          0,
          0,
          0,
          0,
          0,
          0,
          0,
          0,
          0,
          0,
          0,
          0,
          0,
          0,
          0,
          0,
          0,
          0,
          0,
          0,
          0,
          0,
          0,
          0,
          0,
          0,
          0,
          0,
          0,
          0,
          0,
          0,
          0,
          0,
          0,
          0,
          0,
          0,
          0,
          0,
          0,
          0,
          0,
          0,
          0,
          0,
          0,
          0,
          0,
          0,
          0,
          0,
          0,
          0,
          0,
          0,
          0,
          0,
          0,
          0,
          0,
          0,
          0,
          0,
          0,
          0,
          0,
          0,
          0,
          0,
          0,
          0,
          0,
          0,
          0,
          0,
          0,
          0,
          0,
          0,
          0,
          0,
          0,
          0,
          0,
          0,
          0,
          0,
          0,
          0,
          0,
          0,
          0,
          0,
          0,
          0,
          0,
          0,
          0,
          0,
          0,
          0,
          0,
          0,
          0,
          0,
          0,
          0,
          0,
          0,
          0,
          0,
          0,
          0,
          0,
          0
         ],
         "xaxis": "x",
         "yaxis": "y"
        },
        {
         "alignmentgroup": "True",
         "bingroup": "x",
         "hovertemplate": "y=%{x}<br>count=%{y}<extra></extra>",
         "legendgroup": "1",
         "marker": {
          "color": "#EF553B",
          "pattern": {
           "shape": ""
          }
         },
         "name": "1",
         "offsetgroup": "1",
         "orientation": "v",
         "showlegend": true,
         "texttemplate": "%{value}",
         "type": "histogram",
         "x": [
          1,
          1,
          1,
          1,
          1,
          1,
          1,
          1,
          1,
          1,
          1,
          1,
          1,
          1,
          1,
          1,
          1,
          1,
          1,
          1,
          1,
          1,
          1,
          1,
          1,
          1,
          1,
          1,
          1,
          1,
          1,
          1,
          1,
          1,
          1,
          1,
          1,
          1,
          1,
          1,
          1,
          1,
          1,
          1,
          1,
          1,
          1,
          1,
          1,
          1,
          1,
          1,
          1,
          1,
          1,
          1,
          1,
          1,
          1,
          1,
          1,
          1,
          1,
          1,
          1,
          1,
          1,
          1,
          1,
          1,
          1,
          1,
          1,
          1,
          1,
          1,
          1,
          1,
          1,
          1,
          1,
          1,
          1,
          1,
          1,
          1,
          1,
          1,
          1,
          1,
          1,
          1,
          1,
          1,
          1,
          1,
          1,
          1,
          1,
          1,
          1,
          1,
          1,
          1,
          1,
          1,
          1,
          1,
          1,
          1,
          1,
          1,
          1,
          1,
          1,
          1,
          1,
          1,
          1,
          1,
          1,
          1,
          1,
          1,
          1,
          1,
          1,
          1,
          1,
          1,
          1,
          1,
          1,
          1,
          1,
          1,
          1,
          1,
          1,
          1,
          1,
          1,
          1,
          1,
          1,
          1,
          1,
          1,
          1,
          1,
          1,
          1,
          1,
          1,
          1,
          1,
          1,
          1,
          1,
          1,
          1,
          1,
          1,
          1,
          1,
          1,
          1,
          1,
          1,
          1,
          1,
          1,
          1,
          1,
          1,
          1,
          1,
          1,
          1,
          1,
          1,
          1,
          1,
          1,
          1,
          1,
          1,
          1,
          1,
          1,
          1,
          1,
          1,
          1,
          1,
          1,
          1,
          1,
          1,
          1,
          1,
          1,
          1,
          1,
          1,
          1,
          1,
          1,
          1,
          1,
          1,
          1,
          1,
          1,
          1,
          1,
          1,
          1,
          1,
          1,
          1,
          1,
          1,
          1,
          1,
          1,
          1,
          1,
          1,
          1,
          1,
          1,
          1,
          1,
          1,
          1,
          1,
          1,
          1,
          1,
          1,
          1,
          1,
          1,
          1,
          1,
          1,
          1,
          1
         ],
         "xaxis": "x",
         "yaxis": "y"
        }
       ],
       "layout": {
        "barmode": "group",
        "legend": {
         "title": {
          "text": "y"
         },
         "tracegroupgap": 0
        },
        "margin": {
         "t": 60
        },
        "template": {
         "data": {
          "bar": [
           {
            "error_x": {
             "color": "#2a3f5f"
            },
            "error_y": {
             "color": "#2a3f5f"
            },
            "marker": {
             "line": {
              "color": "#E5ECF6",
              "width": 0.5
             },
             "pattern": {
              "fillmode": "overlay",
              "size": 10,
              "solidity": 0.2
             }
            },
            "type": "bar"
           }
          ],
          "barpolar": [
           {
            "marker": {
             "line": {
              "color": "#E5ECF6",
              "width": 0.5
             },
             "pattern": {
              "fillmode": "overlay",
              "size": 10,
              "solidity": 0.2
             }
            },
            "type": "barpolar"
           }
          ],
          "carpet": [
           {
            "aaxis": {
             "endlinecolor": "#2a3f5f",
             "gridcolor": "white",
             "linecolor": "white",
             "minorgridcolor": "white",
             "startlinecolor": "#2a3f5f"
            },
            "baxis": {
             "endlinecolor": "#2a3f5f",
             "gridcolor": "white",
             "linecolor": "white",
             "minorgridcolor": "white",
             "startlinecolor": "#2a3f5f"
            },
            "type": "carpet"
           }
          ],
          "choropleth": [
           {
            "colorbar": {
             "outlinewidth": 0,
             "ticks": ""
            },
            "type": "choropleth"
           }
          ],
          "contour": [
           {
            "colorbar": {
             "outlinewidth": 0,
             "ticks": ""
            },
            "colorscale": [
             [
              0,
              "#0d0887"
             ],
             [
              0.1111111111111111,
              "#46039f"
             ],
             [
              0.2222222222222222,
              "#7201a8"
             ],
             [
              0.3333333333333333,
              "#9c179e"
             ],
             [
              0.4444444444444444,
              "#bd3786"
             ],
             [
              0.5555555555555556,
              "#d8576b"
             ],
             [
              0.6666666666666666,
              "#ed7953"
             ],
             [
              0.7777777777777778,
              "#fb9f3a"
             ],
             [
              0.8888888888888888,
              "#fdca26"
             ],
             [
              1,
              "#f0f921"
             ]
            ],
            "type": "contour"
           }
          ],
          "contourcarpet": [
           {
            "colorbar": {
             "outlinewidth": 0,
             "ticks": ""
            },
            "type": "contourcarpet"
           }
          ],
          "heatmap": [
           {
            "colorbar": {
             "outlinewidth": 0,
             "ticks": ""
            },
            "colorscale": [
             [
              0,
              "#0d0887"
             ],
             [
              0.1111111111111111,
              "#46039f"
             ],
             [
              0.2222222222222222,
              "#7201a8"
             ],
             [
              0.3333333333333333,
              "#9c179e"
             ],
             [
              0.4444444444444444,
              "#bd3786"
             ],
             [
              0.5555555555555556,
              "#d8576b"
             ],
             [
              0.6666666666666666,
              "#ed7953"
             ],
             [
              0.7777777777777778,
              "#fb9f3a"
             ],
             [
              0.8888888888888888,
              "#fdca26"
             ],
             [
              1,
              "#f0f921"
             ]
            ],
            "type": "heatmap"
           }
          ],
          "heatmapgl": [
           {
            "colorbar": {
             "outlinewidth": 0,
             "ticks": ""
            },
            "colorscale": [
             [
              0,
              "#0d0887"
             ],
             [
              0.1111111111111111,
              "#46039f"
             ],
             [
              0.2222222222222222,
              "#7201a8"
             ],
             [
              0.3333333333333333,
              "#9c179e"
             ],
             [
              0.4444444444444444,
              "#bd3786"
             ],
             [
              0.5555555555555556,
              "#d8576b"
             ],
             [
              0.6666666666666666,
              "#ed7953"
             ],
             [
              0.7777777777777778,
              "#fb9f3a"
             ],
             [
              0.8888888888888888,
              "#fdca26"
             ],
             [
              1,
              "#f0f921"
             ]
            ],
            "type": "heatmapgl"
           }
          ],
          "histogram": [
           {
            "marker": {
             "pattern": {
              "fillmode": "overlay",
              "size": 10,
              "solidity": 0.2
             }
            },
            "type": "histogram"
           }
          ],
          "histogram2d": [
           {
            "colorbar": {
             "outlinewidth": 0,
             "ticks": ""
            },
            "colorscale": [
             [
              0,
              "#0d0887"
             ],
             [
              0.1111111111111111,
              "#46039f"
             ],
             [
              0.2222222222222222,
              "#7201a8"
             ],
             [
              0.3333333333333333,
              "#9c179e"
             ],
             [
              0.4444444444444444,
              "#bd3786"
             ],
             [
              0.5555555555555556,
              "#d8576b"
             ],
             [
              0.6666666666666666,
              "#ed7953"
             ],
             [
              0.7777777777777778,
              "#fb9f3a"
             ],
             [
              0.8888888888888888,
              "#fdca26"
             ],
             [
              1,
              "#f0f921"
             ]
            ],
            "type": "histogram2d"
           }
          ],
          "histogram2dcontour": [
           {
            "colorbar": {
             "outlinewidth": 0,
             "ticks": ""
            },
            "colorscale": [
             [
              0,
              "#0d0887"
             ],
             [
              0.1111111111111111,
              "#46039f"
             ],
             [
              0.2222222222222222,
              "#7201a8"
             ],
             [
              0.3333333333333333,
              "#9c179e"
             ],
             [
              0.4444444444444444,
              "#bd3786"
             ],
             [
              0.5555555555555556,
              "#d8576b"
             ],
             [
              0.6666666666666666,
              "#ed7953"
             ],
             [
              0.7777777777777778,
              "#fb9f3a"
             ],
             [
              0.8888888888888888,
              "#fdca26"
             ],
             [
              1,
              "#f0f921"
             ]
            ],
            "type": "histogram2dcontour"
           }
          ],
          "mesh3d": [
           {
            "colorbar": {
             "outlinewidth": 0,
             "ticks": ""
            },
            "type": "mesh3d"
           }
          ],
          "parcoords": [
           {
            "line": {
             "colorbar": {
              "outlinewidth": 0,
              "ticks": ""
             }
            },
            "type": "parcoords"
           }
          ],
          "pie": [
           {
            "automargin": true,
            "type": "pie"
           }
          ],
          "scatter": [
           {
            "fillpattern": {
             "fillmode": "overlay",
             "size": 10,
             "solidity": 0.2
            },
            "type": "scatter"
           }
          ],
          "scatter3d": [
           {
            "line": {
             "colorbar": {
              "outlinewidth": 0,
              "ticks": ""
             }
            },
            "marker": {
             "colorbar": {
              "outlinewidth": 0,
              "ticks": ""
             }
            },
            "type": "scatter3d"
           }
          ],
          "scattercarpet": [
           {
            "marker": {
             "colorbar": {
              "outlinewidth": 0,
              "ticks": ""
             }
            },
            "type": "scattercarpet"
           }
          ],
          "scattergeo": [
           {
            "marker": {
             "colorbar": {
              "outlinewidth": 0,
              "ticks": ""
             }
            },
            "type": "scattergeo"
           }
          ],
          "scattergl": [
           {
            "marker": {
             "colorbar": {
              "outlinewidth": 0,
              "ticks": ""
             }
            },
            "type": "scattergl"
           }
          ],
          "scattermapbox": [
           {
            "marker": {
             "colorbar": {
              "outlinewidth": 0,
              "ticks": ""
             }
            },
            "type": "scattermapbox"
           }
          ],
          "scatterpolar": [
           {
            "marker": {
             "colorbar": {
              "outlinewidth": 0,
              "ticks": ""
             }
            },
            "type": "scatterpolar"
           }
          ],
          "scatterpolargl": [
           {
            "marker": {
             "colorbar": {
              "outlinewidth": 0,
              "ticks": ""
             }
            },
            "type": "scatterpolargl"
           }
          ],
          "scatterternary": [
           {
            "marker": {
             "colorbar": {
              "outlinewidth": 0,
              "ticks": ""
             }
            },
            "type": "scatterternary"
           }
          ],
          "surface": [
           {
            "colorbar": {
             "outlinewidth": 0,
             "ticks": ""
            },
            "colorscale": [
             [
              0,
              "#0d0887"
             ],
             [
              0.1111111111111111,
              "#46039f"
             ],
             [
              0.2222222222222222,
              "#7201a8"
             ],
             [
              0.3333333333333333,
              "#9c179e"
             ],
             [
              0.4444444444444444,
              "#bd3786"
             ],
             [
              0.5555555555555556,
              "#d8576b"
             ],
             [
              0.6666666666666666,
              "#ed7953"
             ],
             [
              0.7777777777777778,
              "#fb9f3a"
             ],
             [
              0.8888888888888888,
              "#fdca26"
             ],
             [
              1,
              "#f0f921"
             ]
            ],
            "type": "surface"
           }
          ],
          "table": [
           {
            "cells": {
             "fill": {
              "color": "#EBF0F8"
             },
             "line": {
              "color": "white"
             }
            },
            "header": {
             "fill": {
              "color": "#C8D4E3"
             },
             "line": {
              "color": "white"
             }
            },
            "type": "table"
           }
          ]
         },
         "layout": {
          "annotationdefaults": {
           "arrowcolor": "#2a3f5f",
           "arrowhead": 0,
           "arrowwidth": 1
          },
          "autotypenumbers": "strict",
          "coloraxis": {
           "colorbar": {
            "outlinewidth": 0,
            "ticks": ""
           }
          },
          "colorscale": {
           "diverging": [
            [
             0,
             "#8e0152"
            ],
            [
             0.1,
             "#c51b7d"
            ],
            [
             0.2,
             "#de77ae"
            ],
            [
             0.3,
             "#f1b6da"
            ],
            [
             0.4,
             "#fde0ef"
            ],
            [
             0.5,
             "#f7f7f7"
            ],
            [
             0.6,
             "#e6f5d0"
            ],
            [
             0.7,
             "#b8e186"
            ],
            [
             0.8,
             "#7fbc41"
            ],
            [
             0.9,
             "#4d9221"
            ],
            [
             1,
             "#276419"
            ]
           ],
           "sequential": [
            [
             0,
             "#0d0887"
            ],
            [
             0.1111111111111111,
             "#46039f"
            ],
            [
             0.2222222222222222,
             "#7201a8"
            ],
            [
             0.3333333333333333,
             "#9c179e"
            ],
            [
             0.4444444444444444,
             "#bd3786"
            ],
            [
             0.5555555555555556,
             "#d8576b"
            ],
            [
             0.6666666666666666,
             "#ed7953"
            ],
            [
             0.7777777777777778,
             "#fb9f3a"
            ],
            [
             0.8888888888888888,
             "#fdca26"
            ],
            [
             1,
             "#f0f921"
            ]
           ],
           "sequentialminus": [
            [
             0,
             "#0d0887"
            ],
            [
             0.1111111111111111,
             "#46039f"
            ],
            [
             0.2222222222222222,
             "#7201a8"
            ],
            [
             0.3333333333333333,
             "#9c179e"
            ],
            [
             0.4444444444444444,
             "#bd3786"
            ],
            [
             0.5555555555555556,
             "#d8576b"
            ],
            [
             0.6666666666666666,
             "#ed7953"
            ],
            [
             0.7777777777777778,
             "#fb9f3a"
            ],
            [
             0.8888888888888888,
             "#fdca26"
            ],
            [
             1,
             "#f0f921"
            ]
           ]
          },
          "colorway": [
           "#636efa",
           "#EF553B",
           "#00cc96",
           "#ab63fa",
           "#FFA15A",
           "#19d3f3",
           "#FF6692",
           "#B6E880",
           "#FF97FF",
           "#FECB52"
          ],
          "font": {
           "color": "#2a3f5f"
          },
          "geo": {
           "bgcolor": "white",
           "lakecolor": "white",
           "landcolor": "#E5ECF6",
           "showlakes": true,
           "showland": true,
           "subunitcolor": "white"
          },
          "hoverlabel": {
           "align": "left"
          },
          "hovermode": "closest",
          "mapbox": {
           "style": "light"
          },
          "paper_bgcolor": "white",
          "plot_bgcolor": "#E5ECF6",
          "polar": {
           "angularaxis": {
            "gridcolor": "white",
            "linecolor": "white",
            "ticks": ""
           },
           "bgcolor": "#E5ECF6",
           "radialaxis": {
            "gridcolor": "white",
            "linecolor": "white",
            "ticks": ""
           }
          },
          "scene": {
           "xaxis": {
            "backgroundcolor": "#E5ECF6",
            "gridcolor": "white",
            "gridwidth": 2,
            "linecolor": "white",
            "showbackground": true,
            "ticks": "",
            "zerolinecolor": "white"
           },
           "yaxis": {
            "backgroundcolor": "#E5ECF6",
            "gridcolor": "white",
            "gridwidth": 2,
            "linecolor": "white",
            "showbackground": true,
            "ticks": "",
            "zerolinecolor": "white"
           },
           "zaxis": {
            "backgroundcolor": "#E5ECF6",
            "gridcolor": "white",
            "gridwidth": 2,
            "linecolor": "white",
            "showbackground": true,
            "ticks": "",
            "zerolinecolor": "white"
           }
          },
          "shapedefaults": {
           "line": {
            "color": "#2a3f5f"
           }
          },
          "ternary": {
           "aaxis": {
            "gridcolor": "white",
            "linecolor": "white",
            "ticks": ""
           },
           "baxis": {
            "gridcolor": "white",
            "linecolor": "white",
            "ticks": ""
           },
           "bgcolor": "#E5ECF6",
           "caxis": {
            "gridcolor": "white",
            "linecolor": "white",
            "ticks": ""
           }
          },
          "title": {
           "x": 0.05
          },
          "xaxis": {
           "automargin": true,
           "gridcolor": "white",
           "linecolor": "white",
           "ticks": "",
           "title": {
            "standoff": 15
           },
           "zerolinecolor": "white",
           "zerolinewidth": 2
          },
          "yaxis": {
           "automargin": true,
           "gridcolor": "white",
           "linecolor": "white",
           "ticks": "",
           "title": {
            "standoff": 15
           },
           "zerolinecolor": "white",
           "zerolinewidth": 2
          }
         }
        },
        "xaxis": {
         "anchor": "y",
         "categoryarray": [
          0,
          1
         ],
         "categoryorder": "array",
         "domain": [
          0,
          1
         ],
         "title": {
          "text": "y"
         }
        },
        "yaxis": {
         "anchor": "x",
         "domain": [
          0,
          1
         ],
         "title": {
          "text": "count"
         }
        }
       }
      }
     },
     "metadata": {},
     "output_type": "display_data"
    },
    {
     "name": "stdout",
     "output_type": "stream",
     "text": [
      "P-value: 0.0\n"
     ]
    },
    {
     "data": {
      "application/vnd.plotly.v1+json": {
       "config": {
        "plotlyServerURL": "https://plot.ly"
       },
       "data": [
        {
         "alignmentgroup": "True",
         "bingroup": "x",
         "hovertemplate": "y=0<br>x_bin0=%{x}<br>count=%{y}<extra></extra>",
         "legendgroup": "0",
         "marker": {
          "color": "#636efa",
          "pattern": {
           "shape": ""
          }
         },
         "name": "0",
         "offsetgroup": "0",
         "orientation": "v",
         "showlegend": true,
         "texttemplate": "%{value}",
         "type": "histogram",
         "x": [
          "cat0",
          "cat0",
          "cat0",
          "cat0",
          "cat0",
          "cat0",
          "cat0",
          "cat1",
          "cat0",
          "cat1",
          "cat0",
          "cat0",
          "cat0",
          "cat0",
          "cat1",
          "cat1",
          "cat0",
          "cat0",
          "cat1",
          "cat0",
          "cat1",
          "cat0",
          "cat0",
          "cat1",
          "cat1",
          "cat0",
          "cat0",
          "cat0",
          "cat1",
          "cat0",
          "cat1",
          "cat1",
          "cat0",
          "cat0",
          "cat0",
          "cat0",
          "cat0",
          "cat0",
          "cat1",
          "cat1",
          "cat0",
          "cat1",
          "cat0",
          "cat0",
          "cat0",
          "cat0",
          "cat1",
          "cat1",
          "cat0",
          "cat1",
          "cat1",
          "cat0",
          "cat0",
          "cat0",
          "cat1",
          "cat0",
          "cat0",
          "cat0",
          "cat0",
          "cat0",
          "cat0",
          "cat0",
          "cat1",
          "cat0",
          "cat1",
          "cat0",
          "cat0",
          "cat1",
          "cat0",
          "cat0",
          "cat0",
          "cat0",
          "cat1",
          "cat1",
          "cat0",
          "cat1",
          "cat1",
          "cat1",
          "cat0",
          "cat0",
          "cat1",
          "cat0",
          "cat0",
          "cat0",
          "cat0",
          "cat1",
          "cat0",
          "cat0",
          "cat0",
          "cat0",
          "cat0",
          "cat0",
          "cat0",
          "cat1",
          "cat1",
          "cat1",
          "cat0",
          "cat1",
          "cat0",
          "cat1",
          "cat1",
          "cat0",
          "cat0",
          "cat0",
          "cat0",
          "cat0",
          "cat1",
          "cat1",
          "cat1",
          "cat0",
          "cat0",
          "cat1",
          "cat0",
          "cat0",
          "cat0",
          "cat0",
          "cat0",
          "cat0",
          "cat0",
          "cat0",
          "cat1",
          "cat1",
          "cat0",
          "cat0",
          "cat0",
          "cat1",
          "cat1",
          "cat0",
          "cat0",
          "cat1",
          "cat0",
          "cat0",
          "cat1",
          "cat1",
          "cat1",
          "cat0",
          "cat0",
          "cat0",
          "cat0",
          "cat1",
          "cat0",
          "cat1",
          "cat0",
          "cat1",
          "cat1",
          "cat0",
          "cat0",
          "cat0",
          "cat1",
          "cat0",
          "cat0",
          "cat0",
          "cat1",
          "cat0",
          "cat1",
          "cat0",
          "cat0",
          "cat0",
          "cat0",
          "cat1",
          "cat0",
          "cat0",
          "cat0",
          "cat0",
          "cat0",
          "cat0",
          "cat1",
          "cat1",
          "cat1",
          "cat0",
          "cat0",
          "cat0",
          "cat0",
          "cat1",
          "cat0",
          "cat0",
          "cat0",
          "cat0",
          "cat0",
          "cat0",
          "cat0",
          "cat0",
          "cat1",
          "cat0",
          "cat0",
          "cat1",
          "cat0",
          "cat1",
          "cat0",
          "cat0",
          "cat0",
          "cat0",
          "cat0",
          "cat0",
          "cat0",
          "cat0",
          "cat0",
          "cat1",
          "cat0",
          "cat1",
          "cat0",
          "cat0",
          "cat0",
          "cat0",
          "cat0",
          "cat0",
          "cat1",
          "cat0",
          "cat0",
          "cat1",
          "cat0",
          "cat0",
          "cat0",
          "cat0",
          "cat0",
          "cat1",
          "cat0",
          "cat1",
          "cat1",
          "cat1",
          "cat0",
          "cat1",
          "cat0",
          "cat0",
          "cat1",
          "cat0",
          "cat0",
          "cat1",
          "cat1",
          "cat0",
          "cat0",
          "cat0",
          "cat0",
          "cat0",
          "cat1",
          "cat1",
          "cat0",
          "cat1",
          "cat0",
          "cat0",
          "cat0",
          "cat0",
          "cat1",
          "cat0",
          "cat0",
          "cat1",
          "cat0",
          "cat0",
          "cat1",
          "cat0",
          "cat0"
         ],
         "xaxis": "x",
         "yaxis": "y"
        },
        {
         "alignmentgroup": "True",
         "bingroup": "x",
         "hovertemplate": "y=1<br>x_bin0=%{x}<br>count=%{y}<extra></extra>",
         "legendgroup": "1",
         "marker": {
          "color": "#EF553B",
          "pattern": {
           "shape": ""
          }
         },
         "name": "1",
         "offsetgroup": "1",
         "orientation": "v",
         "showlegend": true,
         "texttemplate": "%{value}",
         "type": "histogram",
         "x": [
          "cat0",
          "cat0",
          "cat0",
          "cat0",
          "cat0",
          "cat1",
          "cat0",
          "cat1",
          "cat1",
          "cat1",
          "cat1",
          "cat1",
          "cat1",
          "cat0",
          "cat1",
          "cat1",
          "cat1",
          "cat1",
          "cat0",
          "cat0",
          "cat1",
          "cat1",
          "cat1",
          "cat1",
          "cat1",
          "cat1",
          "cat1",
          "cat1",
          "cat1",
          "cat0",
          "cat1",
          "cat0",
          "cat1",
          "cat0",
          "cat1",
          "cat0",
          "cat0",
          "cat1",
          "cat1",
          "cat1",
          "cat0",
          "cat1",
          "cat1",
          "cat1",
          "cat1",
          "cat0",
          "cat0",
          "cat1",
          "cat0",
          "cat1",
          "cat1",
          "cat0",
          "cat1",
          "cat1",
          "cat0",
          "cat1",
          "cat1",
          "cat1",
          "cat0",
          "cat1",
          "cat1",
          "cat1",
          "cat1",
          "cat1",
          "cat1",
          "cat1",
          "cat1",
          "cat1",
          "cat1",
          "cat1",
          "cat1",
          "cat1",
          "cat0",
          "cat0",
          "cat1",
          "cat0",
          "cat1",
          "cat1",
          "cat1",
          "cat0",
          "cat1",
          "cat0",
          "cat1",
          "cat0",
          "cat1",
          "cat1",
          "cat0",
          "cat1",
          "cat0",
          "cat1",
          "cat1",
          "cat0",
          "cat0",
          "cat1",
          "cat1",
          "cat1",
          "cat1",
          "cat1",
          "cat1",
          "cat1",
          "cat0",
          "cat1",
          "cat1",
          "cat0",
          "cat1",
          "cat1",
          "cat1",
          "cat1",
          "cat0",
          "cat1",
          "cat1",
          "cat1",
          "cat0",
          "cat1",
          "cat1",
          "cat0",
          "cat1",
          "cat1",
          "cat1",
          "cat0",
          "cat1",
          "cat1",
          "cat1",
          "cat0",
          "cat0",
          "cat1",
          "cat1",
          "cat1",
          "cat1",
          "cat0",
          "cat1",
          "cat1",
          "cat1",
          "cat1",
          "cat1",
          "cat1",
          "cat1",
          "cat0",
          "cat1",
          "cat0",
          "cat1",
          "cat1",
          "cat1",
          "cat0",
          "cat1",
          "cat1",
          "cat0",
          "cat0",
          "cat1",
          "cat1",
          "cat1",
          "cat1",
          "cat1",
          "cat0",
          "cat1",
          "cat1",
          "cat1",
          "cat1",
          "cat1",
          "cat1",
          "cat0",
          "cat0",
          "cat0",
          "cat1",
          "cat0",
          "cat1",
          "cat0",
          "cat1",
          "cat1",
          "cat0",
          "cat1",
          "cat1",
          "cat0",
          "cat0",
          "cat1",
          "cat1",
          "cat1",
          "cat1",
          "cat1",
          "cat1",
          "cat1",
          "cat0",
          "cat1",
          "cat1",
          "cat1",
          "cat1",
          "cat0",
          "cat1",
          "cat1",
          "cat0",
          "cat1",
          "cat1",
          "cat1",
          "cat1",
          "cat1",
          "cat1",
          "cat1",
          "cat1",
          "cat1",
          "cat1",
          "cat1",
          "cat1",
          "cat1",
          "cat1",
          "cat1",
          "cat1",
          "cat1",
          "cat1",
          "cat1",
          "cat1",
          "cat1",
          "cat1",
          "cat0",
          "cat0",
          "cat0",
          "cat1",
          "cat1",
          "cat1",
          "cat0",
          "cat1",
          "cat0",
          "cat1",
          "cat1",
          "cat1",
          "cat1",
          "cat1",
          "cat1",
          "cat1",
          "cat1",
          "cat1",
          "cat1",
          "cat1",
          "cat1",
          "cat0",
          "cat1",
          "cat0",
          "cat0",
          "cat1",
          "cat1",
          "cat0",
          "cat1",
          "cat1",
          "cat1",
          "cat0",
          "cat1",
          "cat0",
          "cat1",
          "cat1",
          "cat1"
         ],
         "xaxis": "x",
         "yaxis": "y"
        }
       ],
       "layout": {
        "barmode": "group",
        "legend": {
         "title": {
          "text": "y"
         },
         "tracegroupgap": 0
        },
        "margin": {
         "t": 60
        },
        "template": {
         "data": {
          "bar": [
           {
            "error_x": {
             "color": "#2a3f5f"
            },
            "error_y": {
             "color": "#2a3f5f"
            },
            "marker": {
             "line": {
              "color": "#E5ECF6",
              "width": 0.5
             },
             "pattern": {
              "fillmode": "overlay",
              "size": 10,
              "solidity": 0.2
             }
            },
            "type": "bar"
           }
          ],
          "barpolar": [
           {
            "marker": {
             "line": {
              "color": "#E5ECF6",
              "width": 0.5
             },
             "pattern": {
              "fillmode": "overlay",
              "size": 10,
              "solidity": 0.2
             }
            },
            "type": "barpolar"
           }
          ],
          "carpet": [
           {
            "aaxis": {
             "endlinecolor": "#2a3f5f",
             "gridcolor": "white",
             "linecolor": "white",
             "minorgridcolor": "white",
             "startlinecolor": "#2a3f5f"
            },
            "baxis": {
             "endlinecolor": "#2a3f5f",
             "gridcolor": "white",
             "linecolor": "white",
             "minorgridcolor": "white",
             "startlinecolor": "#2a3f5f"
            },
            "type": "carpet"
           }
          ],
          "choropleth": [
           {
            "colorbar": {
             "outlinewidth": 0,
             "ticks": ""
            },
            "type": "choropleth"
           }
          ],
          "contour": [
           {
            "colorbar": {
             "outlinewidth": 0,
             "ticks": ""
            },
            "colorscale": [
             [
              0,
              "#0d0887"
             ],
             [
              0.1111111111111111,
              "#46039f"
             ],
             [
              0.2222222222222222,
              "#7201a8"
             ],
             [
              0.3333333333333333,
              "#9c179e"
             ],
             [
              0.4444444444444444,
              "#bd3786"
             ],
             [
              0.5555555555555556,
              "#d8576b"
             ],
             [
              0.6666666666666666,
              "#ed7953"
             ],
             [
              0.7777777777777778,
              "#fb9f3a"
             ],
             [
              0.8888888888888888,
              "#fdca26"
             ],
             [
              1,
              "#f0f921"
             ]
            ],
            "type": "contour"
           }
          ],
          "contourcarpet": [
           {
            "colorbar": {
             "outlinewidth": 0,
             "ticks": ""
            },
            "type": "contourcarpet"
           }
          ],
          "heatmap": [
           {
            "colorbar": {
             "outlinewidth": 0,
             "ticks": ""
            },
            "colorscale": [
             [
              0,
              "#0d0887"
             ],
             [
              0.1111111111111111,
              "#46039f"
             ],
             [
              0.2222222222222222,
              "#7201a8"
             ],
             [
              0.3333333333333333,
              "#9c179e"
             ],
             [
              0.4444444444444444,
              "#bd3786"
             ],
             [
              0.5555555555555556,
              "#d8576b"
             ],
             [
              0.6666666666666666,
              "#ed7953"
             ],
             [
              0.7777777777777778,
              "#fb9f3a"
             ],
             [
              0.8888888888888888,
              "#fdca26"
             ],
             [
              1,
              "#f0f921"
             ]
            ],
            "type": "heatmap"
           }
          ],
          "heatmapgl": [
           {
            "colorbar": {
             "outlinewidth": 0,
             "ticks": ""
            },
            "colorscale": [
             [
              0,
              "#0d0887"
             ],
             [
              0.1111111111111111,
              "#46039f"
             ],
             [
              0.2222222222222222,
              "#7201a8"
             ],
             [
              0.3333333333333333,
              "#9c179e"
             ],
             [
              0.4444444444444444,
              "#bd3786"
             ],
             [
              0.5555555555555556,
              "#d8576b"
             ],
             [
              0.6666666666666666,
              "#ed7953"
             ],
             [
              0.7777777777777778,
              "#fb9f3a"
             ],
             [
              0.8888888888888888,
              "#fdca26"
             ],
             [
              1,
              "#f0f921"
             ]
            ],
            "type": "heatmapgl"
           }
          ],
          "histogram": [
           {
            "marker": {
             "pattern": {
              "fillmode": "overlay",
              "size": 10,
              "solidity": 0.2
             }
            },
            "type": "histogram"
           }
          ],
          "histogram2d": [
           {
            "colorbar": {
             "outlinewidth": 0,
             "ticks": ""
            },
            "colorscale": [
             [
              0,
              "#0d0887"
             ],
             [
              0.1111111111111111,
              "#46039f"
             ],
             [
              0.2222222222222222,
              "#7201a8"
             ],
             [
              0.3333333333333333,
              "#9c179e"
             ],
             [
              0.4444444444444444,
              "#bd3786"
             ],
             [
              0.5555555555555556,
              "#d8576b"
             ],
             [
              0.6666666666666666,
              "#ed7953"
             ],
             [
              0.7777777777777778,
              "#fb9f3a"
             ],
             [
              0.8888888888888888,
              "#fdca26"
             ],
             [
              1,
              "#f0f921"
             ]
            ],
            "type": "histogram2d"
           }
          ],
          "histogram2dcontour": [
           {
            "colorbar": {
             "outlinewidth": 0,
             "ticks": ""
            },
            "colorscale": [
             [
              0,
              "#0d0887"
             ],
             [
              0.1111111111111111,
              "#46039f"
             ],
             [
              0.2222222222222222,
              "#7201a8"
             ],
             [
              0.3333333333333333,
              "#9c179e"
             ],
             [
              0.4444444444444444,
              "#bd3786"
             ],
             [
              0.5555555555555556,
              "#d8576b"
             ],
             [
              0.6666666666666666,
              "#ed7953"
             ],
             [
              0.7777777777777778,
              "#fb9f3a"
             ],
             [
              0.8888888888888888,
              "#fdca26"
             ],
             [
              1,
              "#f0f921"
             ]
            ],
            "type": "histogram2dcontour"
           }
          ],
          "mesh3d": [
           {
            "colorbar": {
             "outlinewidth": 0,
             "ticks": ""
            },
            "type": "mesh3d"
           }
          ],
          "parcoords": [
           {
            "line": {
             "colorbar": {
              "outlinewidth": 0,
              "ticks": ""
             }
            },
            "type": "parcoords"
           }
          ],
          "pie": [
           {
            "automargin": true,
            "type": "pie"
           }
          ],
          "scatter": [
           {
            "fillpattern": {
             "fillmode": "overlay",
             "size": 10,
             "solidity": 0.2
            },
            "type": "scatter"
           }
          ],
          "scatter3d": [
           {
            "line": {
             "colorbar": {
              "outlinewidth": 0,
              "ticks": ""
             }
            },
            "marker": {
             "colorbar": {
              "outlinewidth": 0,
              "ticks": ""
             }
            },
            "type": "scatter3d"
           }
          ],
          "scattercarpet": [
           {
            "marker": {
             "colorbar": {
              "outlinewidth": 0,
              "ticks": ""
             }
            },
            "type": "scattercarpet"
           }
          ],
          "scattergeo": [
           {
            "marker": {
             "colorbar": {
              "outlinewidth": 0,
              "ticks": ""
             }
            },
            "type": "scattergeo"
           }
          ],
          "scattergl": [
           {
            "marker": {
             "colorbar": {
              "outlinewidth": 0,
              "ticks": ""
             }
            },
            "type": "scattergl"
           }
          ],
          "scattermapbox": [
           {
            "marker": {
             "colorbar": {
              "outlinewidth": 0,
              "ticks": ""
             }
            },
            "type": "scattermapbox"
           }
          ],
          "scatterpolar": [
           {
            "marker": {
             "colorbar": {
              "outlinewidth": 0,
              "ticks": ""
             }
            },
            "type": "scatterpolar"
           }
          ],
          "scatterpolargl": [
           {
            "marker": {
             "colorbar": {
              "outlinewidth": 0,
              "ticks": ""
             }
            },
            "type": "scatterpolargl"
           }
          ],
          "scatterternary": [
           {
            "marker": {
             "colorbar": {
              "outlinewidth": 0,
              "ticks": ""
             }
            },
            "type": "scatterternary"
           }
          ],
          "surface": [
           {
            "colorbar": {
             "outlinewidth": 0,
             "ticks": ""
            },
            "colorscale": [
             [
              0,
              "#0d0887"
             ],
             [
              0.1111111111111111,
              "#46039f"
             ],
             [
              0.2222222222222222,
              "#7201a8"
             ],
             [
              0.3333333333333333,
              "#9c179e"
             ],
             [
              0.4444444444444444,
              "#bd3786"
             ],
             [
              0.5555555555555556,
              "#d8576b"
             ],
             [
              0.6666666666666666,
              "#ed7953"
             ],
             [
              0.7777777777777778,
              "#fb9f3a"
             ],
             [
              0.8888888888888888,
              "#fdca26"
             ],
             [
              1,
              "#f0f921"
             ]
            ],
            "type": "surface"
           }
          ],
          "table": [
           {
            "cells": {
             "fill": {
              "color": "#EBF0F8"
             },
             "line": {
              "color": "white"
             }
            },
            "header": {
             "fill": {
              "color": "#C8D4E3"
             },
             "line": {
              "color": "white"
             }
            },
            "type": "table"
           }
          ]
         },
         "layout": {
          "annotationdefaults": {
           "arrowcolor": "#2a3f5f",
           "arrowhead": 0,
           "arrowwidth": 1
          },
          "autotypenumbers": "strict",
          "coloraxis": {
           "colorbar": {
            "outlinewidth": 0,
            "ticks": ""
           }
          },
          "colorscale": {
           "diverging": [
            [
             0,
             "#8e0152"
            ],
            [
             0.1,
             "#c51b7d"
            ],
            [
             0.2,
             "#de77ae"
            ],
            [
             0.3,
             "#f1b6da"
            ],
            [
             0.4,
             "#fde0ef"
            ],
            [
             0.5,
             "#f7f7f7"
            ],
            [
             0.6,
             "#e6f5d0"
            ],
            [
             0.7,
             "#b8e186"
            ],
            [
             0.8,
             "#7fbc41"
            ],
            [
             0.9,
             "#4d9221"
            ],
            [
             1,
             "#276419"
            ]
           ],
           "sequential": [
            [
             0,
             "#0d0887"
            ],
            [
             0.1111111111111111,
             "#46039f"
            ],
            [
             0.2222222222222222,
             "#7201a8"
            ],
            [
             0.3333333333333333,
             "#9c179e"
            ],
            [
             0.4444444444444444,
             "#bd3786"
            ],
            [
             0.5555555555555556,
             "#d8576b"
            ],
            [
             0.6666666666666666,
             "#ed7953"
            ],
            [
             0.7777777777777778,
             "#fb9f3a"
            ],
            [
             0.8888888888888888,
             "#fdca26"
            ],
            [
             1,
             "#f0f921"
            ]
           ],
           "sequentialminus": [
            [
             0,
             "#0d0887"
            ],
            [
             0.1111111111111111,
             "#46039f"
            ],
            [
             0.2222222222222222,
             "#7201a8"
            ],
            [
             0.3333333333333333,
             "#9c179e"
            ],
            [
             0.4444444444444444,
             "#bd3786"
            ],
            [
             0.5555555555555556,
             "#d8576b"
            ],
            [
             0.6666666666666666,
             "#ed7953"
            ],
            [
             0.7777777777777778,
             "#fb9f3a"
            ],
            [
             0.8888888888888888,
             "#fdca26"
            ],
            [
             1,
             "#f0f921"
            ]
           ]
          },
          "colorway": [
           "#636efa",
           "#EF553B",
           "#00cc96",
           "#ab63fa",
           "#FFA15A",
           "#19d3f3",
           "#FF6692",
           "#B6E880",
           "#FF97FF",
           "#FECB52"
          ],
          "font": {
           "color": "#2a3f5f"
          },
          "geo": {
           "bgcolor": "white",
           "lakecolor": "white",
           "landcolor": "#E5ECF6",
           "showlakes": true,
           "showland": true,
           "subunitcolor": "white"
          },
          "hoverlabel": {
           "align": "left"
          },
          "hovermode": "closest",
          "mapbox": {
           "style": "light"
          },
          "paper_bgcolor": "white",
          "plot_bgcolor": "#E5ECF6",
          "polar": {
           "angularaxis": {
            "gridcolor": "white",
            "linecolor": "white",
            "ticks": ""
           },
           "bgcolor": "#E5ECF6",
           "radialaxis": {
            "gridcolor": "white",
            "linecolor": "white",
            "ticks": ""
           }
          },
          "scene": {
           "xaxis": {
            "backgroundcolor": "#E5ECF6",
            "gridcolor": "white",
            "gridwidth": 2,
            "linecolor": "white",
            "showbackground": true,
            "ticks": "",
            "zerolinecolor": "white"
           },
           "yaxis": {
            "backgroundcolor": "#E5ECF6",
            "gridcolor": "white",
            "gridwidth": 2,
            "linecolor": "white",
            "showbackground": true,
            "ticks": "",
            "zerolinecolor": "white"
           },
           "zaxis": {
            "backgroundcolor": "#E5ECF6",
            "gridcolor": "white",
            "gridwidth": 2,
            "linecolor": "white",
            "showbackground": true,
            "ticks": "",
            "zerolinecolor": "white"
           }
          },
          "shapedefaults": {
           "line": {
            "color": "#2a3f5f"
           }
          },
          "ternary": {
           "aaxis": {
            "gridcolor": "white",
            "linecolor": "white",
            "ticks": ""
           },
           "baxis": {
            "gridcolor": "white",
            "linecolor": "white",
            "ticks": ""
           },
           "bgcolor": "#E5ECF6",
           "caxis": {
            "gridcolor": "white",
            "linecolor": "white",
            "ticks": ""
           }
          },
          "title": {
           "x": 0.05
          },
          "xaxis": {
           "automargin": true,
           "gridcolor": "white",
           "linecolor": "white",
           "ticks": "",
           "title": {
            "standoff": 15
           },
           "zerolinecolor": "white",
           "zerolinewidth": 2
          },
          "yaxis": {
           "automargin": true,
           "gridcolor": "white",
           "linecolor": "white",
           "ticks": "",
           "title": {
            "standoff": 15
           },
           "zerolinecolor": "white",
           "zerolinewidth": 2
          }
         }
        },
        "xaxis": {
         "anchor": "y",
         "domain": [
          0,
          1
         ],
         "title": {
          "text": "x_bin0"
         }
        },
        "yaxis": {
         "anchor": "x",
         "domain": [
          0,
          1
         ],
         "title": {
          "text": "count"
         }
        }
       }
      }
     },
     "metadata": {},
     "output_type": "display_data"
    },
    {
     "name": "stdout",
     "output_type": "stream",
     "text": [
      "P-value: 0.0\n"
     ]
    },
    {
     "data": {
      "application/vnd.plotly.v1+json": {
       "config": {
        "plotlyServerURL": "https://plot.ly"
       },
       "data": [
        {
         "alignmentgroup": "True",
         "bingroup": "x",
         "hovertemplate": "y=0<br>x_bin1=%{x}<br>count=%{y}<extra></extra>",
         "legendgroup": "0",
         "marker": {
          "color": "#636efa",
          "pattern": {
           "shape": ""
          }
         },
         "name": "0",
         "offsetgroup": "0",
         "orientation": "v",
         "showlegend": true,
         "texttemplate": "%{value}",
         "type": "histogram",
         "x": [
          "cat0",
          "cat1",
          "cat1",
          "cat0",
          "cat0",
          "cat0",
          "cat0",
          "cat1",
          "cat1",
          "cat0",
          "cat0",
          "cat1",
          "cat0",
          "cat0",
          "cat1",
          "cat1",
          "cat0",
          "cat1",
          "cat0",
          "cat1",
          "cat1",
          "cat0",
          "cat1",
          "cat0",
          "cat1",
          "cat1",
          "cat0",
          "cat0",
          "cat0",
          "cat0",
          "cat0",
          "cat1",
          "cat0",
          "cat0",
          "cat0",
          "cat0",
          "cat0",
          "cat0",
          "cat1",
          "cat0",
          "cat1",
          "cat1",
          "cat0",
          "cat0",
          "cat0",
          "cat0",
          "cat1",
          "cat1",
          "cat0",
          "cat0",
          "cat0",
          "cat0",
          "cat0",
          "cat1",
          "cat1",
          "cat0",
          "cat0",
          "cat0",
          "cat0",
          "cat1",
          "cat1",
          "cat0",
          "cat0",
          "cat1",
          "cat0",
          "cat0",
          "cat0",
          "cat0",
          "cat0",
          "cat0",
          "cat0",
          "cat0",
          "cat1",
          "cat0",
          "cat1",
          "cat0",
          "cat1",
          "cat1",
          "cat0",
          "cat1",
          "cat0",
          "cat1",
          "cat1",
          "cat0",
          "cat0",
          "cat0",
          "cat0",
          "cat0",
          "cat0",
          "cat0",
          "cat0",
          "cat0",
          "cat0",
          "cat0",
          "cat0",
          "cat0",
          "cat0",
          "cat1",
          "cat1",
          "cat1",
          "cat0",
          "cat0",
          "cat0",
          "cat0",
          "cat0",
          "cat1",
          "cat0",
          "cat1",
          "cat0",
          "cat1",
          "cat0",
          "cat0",
          "cat0",
          "cat0",
          "cat1",
          "cat0",
          "cat0",
          "cat0",
          "cat1",
          "cat0",
          "cat1",
          "cat1",
          "cat0",
          "cat1",
          "cat0",
          "cat0",
          "cat0",
          "cat0",
          "cat0",
          "cat1",
          "cat0",
          "cat0",
          "cat0",
          "cat0",
          "cat0",
          "cat1",
          "cat0",
          "cat0",
          "cat1",
          "cat0",
          "cat0",
          "cat0",
          "cat0",
          "cat0",
          "cat1",
          "cat0",
          "cat0",
          "cat1",
          "cat1",
          "cat0",
          "cat0",
          "cat1",
          "cat0",
          "cat0",
          "cat0",
          "cat0",
          "cat0",
          "cat1",
          "cat1",
          "cat0",
          "cat0",
          "cat0",
          "cat0",
          "cat1",
          "cat0",
          "cat0",
          "cat0",
          "cat1",
          "cat1",
          "cat0",
          "cat1",
          "cat0",
          "cat0",
          "cat1",
          "cat0",
          "cat0",
          "cat1",
          "cat0",
          "cat1",
          "cat1",
          "cat0",
          "cat0",
          "cat0",
          "cat1",
          "cat0",
          "cat0",
          "cat1",
          "cat0",
          "cat1",
          "cat0",
          "cat1",
          "cat0",
          "cat0",
          "cat0",
          "cat0",
          "cat0",
          "cat1",
          "cat0",
          "cat0",
          "cat1",
          "cat0",
          "cat0",
          "cat0",
          "cat0",
          "cat1",
          "cat1",
          "cat0",
          "cat0",
          "cat0",
          "cat0",
          "cat0",
          "cat0",
          "cat0",
          "cat0",
          "cat1",
          "cat0",
          "cat0",
          "cat0",
          "cat0",
          "cat1",
          "cat0",
          "cat1",
          "cat0",
          "cat1",
          "cat0",
          "cat1",
          "cat0",
          "cat0",
          "cat0",
          "cat1",
          "cat1",
          "cat0",
          "cat1",
          "cat0",
          "cat0",
          "cat0",
          "cat0",
          "cat0",
          "cat0",
          "cat0",
          "cat1",
          "cat0",
          "cat1",
          "cat0",
          "cat0",
          "cat0",
          "cat0",
          "cat0",
          "cat0",
          "cat0",
          "cat1"
         ],
         "xaxis": "x",
         "yaxis": "y"
        },
        {
         "alignmentgroup": "True",
         "bingroup": "x",
         "hovertemplate": "y=1<br>x_bin1=%{x}<br>count=%{y}<extra></extra>",
         "legendgroup": "1",
         "marker": {
          "color": "#EF553B",
          "pattern": {
           "shape": ""
          }
         },
         "name": "1",
         "offsetgroup": "1",
         "orientation": "v",
         "showlegend": true,
         "texttemplate": "%{value}",
         "type": "histogram",
         "x": [
          "cat1",
          "cat0",
          "cat0",
          "cat1",
          "cat1",
          "cat1",
          "cat0",
          "cat1",
          "cat1",
          "cat1",
          "cat1",
          "cat1",
          "cat0",
          "cat0",
          "cat1",
          "cat1",
          "cat0",
          "cat1",
          "cat1",
          "cat1",
          "cat1",
          "cat1",
          "cat0",
          "cat1",
          "cat1",
          "cat1",
          "cat0",
          "cat0",
          "cat1",
          "cat1",
          "cat1",
          "cat0",
          "cat1",
          "cat1",
          "cat0",
          "cat0",
          "cat1",
          "cat0",
          "cat0",
          "cat1",
          "cat1",
          "cat1",
          "cat0",
          "cat0",
          "cat1",
          "cat1",
          "cat0",
          "cat1",
          "cat1",
          "cat1",
          "cat0",
          "cat1",
          "cat1",
          "cat0",
          "cat1",
          "cat1",
          "cat0",
          "cat1",
          "cat1",
          "cat1",
          "cat1",
          "cat1",
          "cat1",
          "cat0",
          "cat0",
          "cat1",
          "cat0",
          "cat1",
          "cat1",
          "cat1",
          "cat1",
          "cat1",
          "cat0",
          "cat1",
          "cat1",
          "cat0",
          "cat1",
          "cat0",
          "cat1",
          "cat1",
          "cat0",
          "cat1",
          "cat1",
          "cat1",
          "cat0",
          "cat1",
          "cat0",
          "cat1",
          "cat1",
          "cat1",
          "cat1",
          "cat1",
          "cat0",
          "cat1",
          "cat1",
          "cat1",
          "cat1",
          "cat1",
          "cat1",
          "cat0",
          "cat1",
          "cat0",
          "cat1",
          "cat1",
          "cat0",
          "cat1",
          "cat1",
          "cat0",
          "cat1",
          "cat0",
          "cat1",
          "cat0",
          "cat0",
          "cat1",
          "cat1",
          "cat0",
          "cat0",
          "cat1",
          "cat1",
          "cat0",
          "cat0",
          "cat0",
          "cat0",
          "cat1",
          "cat0",
          "cat1",
          "cat0",
          "cat1",
          "cat0",
          "cat1",
          "cat0",
          "cat1",
          "cat1",
          "cat0",
          "cat1",
          "cat0",
          "cat1",
          "cat1",
          "cat1",
          "cat0",
          "cat1",
          "cat0",
          "cat0",
          "cat1",
          "cat1",
          "cat1",
          "cat1",
          "cat1",
          "cat1",
          "cat1",
          "cat1",
          "cat1",
          "cat1",
          "cat1",
          "cat0",
          "cat1",
          "cat1",
          "cat1",
          "cat0",
          "cat1",
          "cat1",
          "cat1",
          "cat1",
          "cat1",
          "cat1",
          "cat1",
          "cat1",
          "cat1",
          "cat0",
          "cat0",
          "cat0",
          "cat1",
          "cat1",
          "cat1",
          "cat0",
          "cat1",
          "cat0",
          "cat1",
          "cat1",
          "cat1",
          "cat1",
          "cat1",
          "cat1",
          "cat1",
          "cat1",
          "cat0",
          "cat0",
          "cat0",
          "cat0",
          "cat1",
          "cat0",
          "cat1",
          "cat0",
          "cat1",
          "cat0",
          "cat1",
          "cat1",
          "cat1",
          "cat1",
          "cat1",
          "cat0",
          "cat1",
          "cat1",
          "cat1",
          "cat0",
          "cat1",
          "cat1",
          "cat1",
          "cat0",
          "cat1",
          "cat1",
          "cat1",
          "cat1",
          "cat1",
          "cat1",
          "cat1",
          "cat1",
          "cat1",
          "cat1",
          "cat0",
          "cat0",
          "cat1",
          "cat1",
          "cat1",
          "cat1",
          "cat1",
          "cat0",
          "cat1",
          "cat1",
          "cat1",
          "cat0",
          "cat1",
          "cat1",
          "cat1",
          "cat0",
          "cat0",
          "cat1",
          "cat1",
          "cat0",
          "cat1",
          "cat1",
          "cat0",
          "cat0",
          "cat1",
          "cat1",
          "cat1",
          "cat0",
          "cat1",
          "cat1"
         ],
         "xaxis": "x",
         "yaxis": "y"
        }
       ],
       "layout": {
        "barmode": "group",
        "legend": {
         "title": {
          "text": "y"
         },
         "tracegroupgap": 0
        },
        "margin": {
         "t": 60
        },
        "template": {
         "data": {
          "bar": [
           {
            "error_x": {
             "color": "#2a3f5f"
            },
            "error_y": {
             "color": "#2a3f5f"
            },
            "marker": {
             "line": {
              "color": "#E5ECF6",
              "width": 0.5
             },
             "pattern": {
              "fillmode": "overlay",
              "size": 10,
              "solidity": 0.2
             }
            },
            "type": "bar"
           }
          ],
          "barpolar": [
           {
            "marker": {
             "line": {
              "color": "#E5ECF6",
              "width": 0.5
             },
             "pattern": {
              "fillmode": "overlay",
              "size": 10,
              "solidity": 0.2
             }
            },
            "type": "barpolar"
           }
          ],
          "carpet": [
           {
            "aaxis": {
             "endlinecolor": "#2a3f5f",
             "gridcolor": "white",
             "linecolor": "white",
             "minorgridcolor": "white",
             "startlinecolor": "#2a3f5f"
            },
            "baxis": {
             "endlinecolor": "#2a3f5f",
             "gridcolor": "white",
             "linecolor": "white",
             "minorgridcolor": "white",
             "startlinecolor": "#2a3f5f"
            },
            "type": "carpet"
           }
          ],
          "choropleth": [
           {
            "colorbar": {
             "outlinewidth": 0,
             "ticks": ""
            },
            "type": "choropleth"
           }
          ],
          "contour": [
           {
            "colorbar": {
             "outlinewidth": 0,
             "ticks": ""
            },
            "colorscale": [
             [
              0,
              "#0d0887"
             ],
             [
              0.1111111111111111,
              "#46039f"
             ],
             [
              0.2222222222222222,
              "#7201a8"
             ],
             [
              0.3333333333333333,
              "#9c179e"
             ],
             [
              0.4444444444444444,
              "#bd3786"
             ],
             [
              0.5555555555555556,
              "#d8576b"
             ],
             [
              0.6666666666666666,
              "#ed7953"
             ],
             [
              0.7777777777777778,
              "#fb9f3a"
             ],
             [
              0.8888888888888888,
              "#fdca26"
             ],
             [
              1,
              "#f0f921"
             ]
            ],
            "type": "contour"
           }
          ],
          "contourcarpet": [
           {
            "colorbar": {
             "outlinewidth": 0,
             "ticks": ""
            },
            "type": "contourcarpet"
           }
          ],
          "heatmap": [
           {
            "colorbar": {
             "outlinewidth": 0,
             "ticks": ""
            },
            "colorscale": [
             [
              0,
              "#0d0887"
             ],
             [
              0.1111111111111111,
              "#46039f"
             ],
             [
              0.2222222222222222,
              "#7201a8"
             ],
             [
              0.3333333333333333,
              "#9c179e"
             ],
             [
              0.4444444444444444,
              "#bd3786"
             ],
             [
              0.5555555555555556,
              "#d8576b"
             ],
             [
              0.6666666666666666,
              "#ed7953"
             ],
             [
              0.7777777777777778,
              "#fb9f3a"
             ],
             [
              0.8888888888888888,
              "#fdca26"
             ],
             [
              1,
              "#f0f921"
             ]
            ],
            "type": "heatmap"
           }
          ],
          "heatmapgl": [
           {
            "colorbar": {
             "outlinewidth": 0,
             "ticks": ""
            },
            "colorscale": [
             [
              0,
              "#0d0887"
             ],
             [
              0.1111111111111111,
              "#46039f"
             ],
             [
              0.2222222222222222,
              "#7201a8"
             ],
             [
              0.3333333333333333,
              "#9c179e"
             ],
             [
              0.4444444444444444,
              "#bd3786"
             ],
             [
              0.5555555555555556,
              "#d8576b"
             ],
             [
              0.6666666666666666,
              "#ed7953"
             ],
             [
              0.7777777777777778,
              "#fb9f3a"
             ],
             [
              0.8888888888888888,
              "#fdca26"
             ],
             [
              1,
              "#f0f921"
             ]
            ],
            "type": "heatmapgl"
           }
          ],
          "histogram": [
           {
            "marker": {
             "pattern": {
              "fillmode": "overlay",
              "size": 10,
              "solidity": 0.2
             }
            },
            "type": "histogram"
           }
          ],
          "histogram2d": [
           {
            "colorbar": {
             "outlinewidth": 0,
             "ticks": ""
            },
            "colorscale": [
             [
              0,
              "#0d0887"
             ],
             [
              0.1111111111111111,
              "#46039f"
             ],
             [
              0.2222222222222222,
              "#7201a8"
             ],
             [
              0.3333333333333333,
              "#9c179e"
             ],
             [
              0.4444444444444444,
              "#bd3786"
             ],
             [
              0.5555555555555556,
              "#d8576b"
             ],
             [
              0.6666666666666666,
              "#ed7953"
             ],
             [
              0.7777777777777778,
              "#fb9f3a"
             ],
             [
              0.8888888888888888,
              "#fdca26"
             ],
             [
              1,
              "#f0f921"
             ]
            ],
            "type": "histogram2d"
           }
          ],
          "histogram2dcontour": [
           {
            "colorbar": {
             "outlinewidth": 0,
             "ticks": ""
            },
            "colorscale": [
             [
              0,
              "#0d0887"
             ],
             [
              0.1111111111111111,
              "#46039f"
             ],
             [
              0.2222222222222222,
              "#7201a8"
             ],
             [
              0.3333333333333333,
              "#9c179e"
             ],
             [
              0.4444444444444444,
              "#bd3786"
             ],
             [
              0.5555555555555556,
              "#d8576b"
             ],
             [
              0.6666666666666666,
              "#ed7953"
             ],
             [
              0.7777777777777778,
              "#fb9f3a"
             ],
             [
              0.8888888888888888,
              "#fdca26"
             ],
             [
              1,
              "#f0f921"
             ]
            ],
            "type": "histogram2dcontour"
           }
          ],
          "mesh3d": [
           {
            "colorbar": {
             "outlinewidth": 0,
             "ticks": ""
            },
            "type": "mesh3d"
           }
          ],
          "parcoords": [
           {
            "line": {
             "colorbar": {
              "outlinewidth": 0,
              "ticks": ""
             }
            },
            "type": "parcoords"
           }
          ],
          "pie": [
           {
            "automargin": true,
            "type": "pie"
           }
          ],
          "scatter": [
           {
            "fillpattern": {
             "fillmode": "overlay",
             "size": 10,
             "solidity": 0.2
            },
            "type": "scatter"
           }
          ],
          "scatter3d": [
           {
            "line": {
             "colorbar": {
              "outlinewidth": 0,
              "ticks": ""
             }
            },
            "marker": {
             "colorbar": {
              "outlinewidth": 0,
              "ticks": ""
             }
            },
            "type": "scatter3d"
           }
          ],
          "scattercarpet": [
           {
            "marker": {
             "colorbar": {
              "outlinewidth": 0,
              "ticks": ""
             }
            },
            "type": "scattercarpet"
           }
          ],
          "scattergeo": [
           {
            "marker": {
             "colorbar": {
              "outlinewidth": 0,
              "ticks": ""
             }
            },
            "type": "scattergeo"
           }
          ],
          "scattergl": [
           {
            "marker": {
             "colorbar": {
              "outlinewidth": 0,
              "ticks": ""
             }
            },
            "type": "scattergl"
           }
          ],
          "scattermapbox": [
           {
            "marker": {
             "colorbar": {
              "outlinewidth": 0,
              "ticks": ""
             }
            },
            "type": "scattermapbox"
           }
          ],
          "scatterpolar": [
           {
            "marker": {
             "colorbar": {
              "outlinewidth": 0,
              "ticks": ""
             }
            },
            "type": "scatterpolar"
           }
          ],
          "scatterpolargl": [
           {
            "marker": {
             "colorbar": {
              "outlinewidth": 0,
              "ticks": ""
             }
            },
            "type": "scatterpolargl"
           }
          ],
          "scatterternary": [
           {
            "marker": {
             "colorbar": {
              "outlinewidth": 0,
              "ticks": ""
             }
            },
            "type": "scatterternary"
           }
          ],
          "surface": [
           {
            "colorbar": {
             "outlinewidth": 0,
             "ticks": ""
            },
            "colorscale": [
             [
              0,
              "#0d0887"
             ],
             [
              0.1111111111111111,
              "#46039f"
             ],
             [
              0.2222222222222222,
              "#7201a8"
             ],
             [
              0.3333333333333333,
              "#9c179e"
             ],
             [
              0.4444444444444444,
              "#bd3786"
             ],
             [
              0.5555555555555556,
              "#d8576b"
             ],
             [
              0.6666666666666666,
              "#ed7953"
             ],
             [
              0.7777777777777778,
              "#fb9f3a"
             ],
             [
              0.8888888888888888,
              "#fdca26"
             ],
             [
              1,
              "#f0f921"
             ]
            ],
            "type": "surface"
           }
          ],
          "table": [
           {
            "cells": {
             "fill": {
              "color": "#EBF0F8"
             },
             "line": {
              "color": "white"
             }
            },
            "header": {
             "fill": {
              "color": "#C8D4E3"
             },
             "line": {
              "color": "white"
             }
            },
            "type": "table"
           }
          ]
         },
         "layout": {
          "annotationdefaults": {
           "arrowcolor": "#2a3f5f",
           "arrowhead": 0,
           "arrowwidth": 1
          },
          "autotypenumbers": "strict",
          "coloraxis": {
           "colorbar": {
            "outlinewidth": 0,
            "ticks": ""
           }
          },
          "colorscale": {
           "diverging": [
            [
             0,
             "#8e0152"
            ],
            [
             0.1,
             "#c51b7d"
            ],
            [
             0.2,
             "#de77ae"
            ],
            [
             0.3,
             "#f1b6da"
            ],
            [
             0.4,
             "#fde0ef"
            ],
            [
             0.5,
             "#f7f7f7"
            ],
            [
             0.6,
             "#e6f5d0"
            ],
            [
             0.7,
             "#b8e186"
            ],
            [
             0.8,
             "#7fbc41"
            ],
            [
             0.9,
             "#4d9221"
            ],
            [
             1,
             "#276419"
            ]
           ],
           "sequential": [
            [
             0,
             "#0d0887"
            ],
            [
             0.1111111111111111,
             "#46039f"
            ],
            [
             0.2222222222222222,
             "#7201a8"
            ],
            [
             0.3333333333333333,
             "#9c179e"
            ],
            [
             0.4444444444444444,
             "#bd3786"
            ],
            [
             0.5555555555555556,
             "#d8576b"
            ],
            [
             0.6666666666666666,
             "#ed7953"
            ],
            [
             0.7777777777777778,
             "#fb9f3a"
            ],
            [
             0.8888888888888888,
             "#fdca26"
            ],
            [
             1,
             "#f0f921"
            ]
           ],
           "sequentialminus": [
            [
             0,
             "#0d0887"
            ],
            [
             0.1111111111111111,
             "#46039f"
            ],
            [
             0.2222222222222222,
             "#7201a8"
            ],
            [
             0.3333333333333333,
             "#9c179e"
            ],
            [
             0.4444444444444444,
             "#bd3786"
            ],
            [
             0.5555555555555556,
             "#d8576b"
            ],
            [
             0.6666666666666666,
             "#ed7953"
            ],
            [
             0.7777777777777778,
             "#fb9f3a"
            ],
            [
             0.8888888888888888,
             "#fdca26"
            ],
            [
             1,
             "#f0f921"
            ]
           ]
          },
          "colorway": [
           "#636efa",
           "#EF553B",
           "#00cc96",
           "#ab63fa",
           "#FFA15A",
           "#19d3f3",
           "#FF6692",
           "#B6E880",
           "#FF97FF",
           "#FECB52"
          ],
          "font": {
           "color": "#2a3f5f"
          },
          "geo": {
           "bgcolor": "white",
           "lakecolor": "white",
           "landcolor": "#E5ECF6",
           "showlakes": true,
           "showland": true,
           "subunitcolor": "white"
          },
          "hoverlabel": {
           "align": "left"
          },
          "hovermode": "closest",
          "mapbox": {
           "style": "light"
          },
          "paper_bgcolor": "white",
          "plot_bgcolor": "#E5ECF6",
          "polar": {
           "angularaxis": {
            "gridcolor": "white",
            "linecolor": "white",
            "ticks": ""
           },
           "bgcolor": "#E5ECF6",
           "radialaxis": {
            "gridcolor": "white",
            "linecolor": "white",
            "ticks": ""
           }
          },
          "scene": {
           "xaxis": {
            "backgroundcolor": "#E5ECF6",
            "gridcolor": "white",
            "gridwidth": 2,
            "linecolor": "white",
            "showbackground": true,
            "ticks": "",
            "zerolinecolor": "white"
           },
           "yaxis": {
            "backgroundcolor": "#E5ECF6",
            "gridcolor": "white",
            "gridwidth": 2,
            "linecolor": "white",
            "showbackground": true,
            "ticks": "",
            "zerolinecolor": "white"
           },
           "zaxis": {
            "backgroundcolor": "#E5ECF6",
            "gridcolor": "white",
            "gridwidth": 2,
            "linecolor": "white",
            "showbackground": true,
            "ticks": "",
            "zerolinecolor": "white"
           }
          },
          "shapedefaults": {
           "line": {
            "color": "#2a3f5f"
           }
          },
          "ternary": {
           "aaxis": {
            "gridcolor": "white",
            "linecolor": "white",
            "ticks": ""
           },
           "baxis": {
            "gridcolor": "white",
            "linecolor": "white",
            "ticks": ""
           },
           "bgcolor": "#E5ECF6",
           "caxis": {
            "gridcolor": "white",
            "linecolor": "white",
            "ticks": ""
           }
          },
          "title": {
           "x": 0.05
          },
          "xaxis": {
           "automargin": true,
           "gridcolor": "white",
           "linecolor": "white",
           "ticks": "",
           "title": {
            "standoff": 15
           },
           "zerolinecolor": "white",
           "zerolinewidth": 2
          },
          "yaxis": {
           "automargin": true,
           "gridcolor": "white",
           "linecolor": "white",
           "ticks": "",
           "title": {
            "standoff": 15
           },
           "zerolinecolor": "white",
           "zerolinewidth": 2
          }
         }
        },
        "xaxis": {
         "anchor": "y",
         "domain": [
          0,
          1
         ],
         "title": {
          "text": "x_bin1"
         }
        },
        "yaxis": {
         "anchor": "x",
         "domain": [
          0,
          1
         ],
         "title": {
          "text": "count"
         }
        }
       }
      }
     },
     "metadata": {},
     "output_type": "display_data"
    },
    {
     "name": "stdout",
     "output_type": "stream",
     "text": [
      "P-value: 0.0\n"
     ]
    },
    {
     "data": {
      "application/vnd.plotly.v1+json": {
       "config": {
        "plotlyServerURL": "https://plot.ly"
       },
       "data": [
        {
         "alignmentgroup": "True",
         "bingroup": "x",
         "hovertemplate": "y=0<br>x_bin2=%{x}<br>count=%{y}<extra></extra>",
         "legendgroup": "0",
         "marker": {
          "color": "#636efa",
          "pattern": {
           "shape": ""
          }
         },
         "name": "0",
         "offsetgroup": "0",
         "orientation": "v",
         "showlegend": true,
         "texttemplate": "%{value}",
         "type": "histogram",
         "x": [
          "cat1",
          "cat0",
          "cat0",
          "cat1",
          "cat0",
          "cat0",
          "cat0",
          "cat0",
          "cat0",
          "cat0",
          "cat1",
          "cat1",
          "cat1",
          "cat0",
          "cat0",
          "cat0",
          "cat0",
          "cat0",
          "cat0",
          "cat1",
          "cat0",
          "cat0",
          "cat0",
          "cat0",
          "cat0",
          "cat1",
          "cat0",
          "cat0",
          "cat0",
          "cat0",
          "cat0",
          "cat0",
          "cat0",
          "cat0",
          "cat0",
          "cat1",
          "cat0",
          "cat0",
          "cat0",
          "cat0",
          "cat1",
          "cat1",
          "cat0",
          "cat0",
          "cat0",
          "cat0",
          "cat0",
          "cat0",
          "cat0",
          "cat1",
          "cat0",
          "cat1",
          "cat0",
          "cat0",
          "cat0",
          "cat0",
          "cat0",
          "cat0",
          "cat0",
          "cat1",
          "cat1",
          "cat0",
          "cat0",
          "cat0",
          "cat0",
          "cat1",
          "cat1",
          "cat1",
          "cat0",
          "cat0",
          "cat0",
          "cat0",
          "cat1",
          "cat0",
          "cat0",
          "cat0",
          "cat0",
          "cat0",
          "cat0",
          "cat1",
          "cat1",
          "cat1",
          "cat0",
          "cat0",
          "cat0",
          "cat0",
          "cat0",
          "cat0",
          "cat0",
          "cat1",
          "cat0",
          "cat0",
          "cat0",
          "cat0",
          "cat0",
          "cat1",
          "cat0",
          "cat0",
          "cat1",
          "cat0",
          "cat0",
          "cat0",
          "cat0",
          "cat1",
          "cat0",
          "cat0",
          "cat0",
          "cat0",
          "cat0",
          "cat1",
          "cat0",
          "cat1",
          "cat0",
          "cat1",
          "cat0",
          "cat0",
          "cat1",
          "cat1",
          "cat0",
          "cat0",
          "cat0",
          "cat0",
          "cat0",
          "cat1",
          "cat0",
          "cat0",
          "cat0",
          "cat0",
          "cat0",
          "cat1",
          "cat0",
          "cat0",
          "cat0",
          "cat1",
          "cat1",
          "cat0",
          "cat1",
          "cat1",
          "cat1",
          "cat1",
          "cat0",
          "cat0",
          "cat0",
          "cat0",
          "cat0",
          "cat0",
          "cat0",
          "cat0",
          "cat0",
          "cat1",
          "cat0",
          "cat0",
          "cat1",
          "cat1",
          "cat1",
          "cat0",
          "cat1",
          "cat1",
          "cat0",
          "cat1",
          "cat0",
          "cat0",
          "cat0",
          "cat1",
          "cat1",
          "cat0",
          "cat0",
          "cat1",
          "cat1",
          "cat0",
          "cat1",
          "cat1",
          "cat0",
          "cat0",
          "cat0",
          "cat0",
          "cat0",
          "cat0",
          "cat1",
          "cat0",
          "cat1",
          "cat0",
          "cat0",
          "cat0",
          "cat1",
          "cat0",
          "cat0",
          "cat0",
          "cat0",
          "cat0",
          "cat0",
          "cat0",
          "cat1",
          "cat1",
          "cat0",
          "cat0",
          "cat1",
          "cat0",
          "cat0",
          "cat0",
          "cat0",
          "cat0",
          "cat0",
          "cat1",
          "cat0",
          "cat0",
          "cat1",
          "cat0",
          "cat0",
          "cat0",
          "cat1",
          "cat0",
          "cat0",
          "cat1",
          "cat0",
          "cat0",
          "cat0",
          "cat1",
          "cat0",
          "cat0",
          "cat0",
          "cat0",
          "cat0",
          "cat1",
          "cat0",
          "cat1",
          "cat1",
          "cat0",
          "cat1",
          "cat1",
          "cat0",
          "cat0",
          "cat0",
          "cat0",
          "cat0",
          "cat0",
          "cat1",
          "cat1",
          "cat0",
          "cat0",
          "cat1",
          "cat0",
          "cat0",
          "cat1",
          "cat0",
          "cat0",
          "cat0",
          "cat0",
          "cat1",
          "cat0",
          "cat0"
         ],
         "xaxis": "x",
         "yaxis": "y"
        },
        {
         "alignmentgroup": "True",
         "bingroup": "x",
         "hovertemplate": "y=1<br>x_bin2=%{x}<br>count=%{y}<extra></extra>",
         "legendgroup": "1",
         "marker": {
          "color": "#EF553B",
          "pattern": {
           "shape": ""
          }
         },
         "name": "1",
         "offsetgroup": "1",
         "orientation": "v",
         "showlegend": true,
         "texttemplate": "%{value}",
         "type": "histogram",
         "x": [
          "cat0",
          "cat1",
          "cat0",
          "cat0",
          "cat0",
          "cat0",
          "cat0",
          "cat1",
          "cat1",
          "cat1",
          "cat1",
          "cat1",
          "cat1",
          "cat0",
          "cat1",
          "cat1",
          "cat1",
          "cat0",
          "cat0",
          "cat1",
          "cat1",
          "cat1",
          "cat1",
          "cat1",
          "cat1",
          "cat0",
          "cat1",
          "cat1",
          "cat1",
          "cat1",
          "cat1",
          "cat1",
          "cat1",
          "cat1",
          "cat0",
          "cat0",
          "cat1",
          "cat1",
          "cat1",
          "cat1",
          "cat1",
          "cat1",
          "cat0",
          "cat1",
          "cat0",
          "cat1",
          "cat0",
          "cat1",
          "cat1",
          "cat1",
          "cat1",
          "cat1",
          "cat1",
          "cat1",
          "cat1",
          "cat1",
          "cat1",
          "cat1",
          "cat0",
          "cat0",
          "cat0",
          "cat1",
          "cat1",
          "cat1",
          "cat1",
          "cat1",
          "cat1",
          "cat1",
          "cat1",
          "cat1",
          "cat1",
          "cat1",
          "cat1",
          "cat1",
          "cat0",
          "cat1",
          "cat1",
          "cat0",
          "cat1",
          "cat1",
          "cat1",
          "cat1",
          "cat0",
          "cat1",
          "cat1",
          "cat1",
          "cat0",
          "cat0",
          "cat1",
          "cat0",
          "cat0",
          "cat0",
          "cat1",
          "cat1",
          "cat1",
          "cat1",
          "cat1",
          "cat0",
          "cat0",
          "cat1",
          "cat1",
          "cat0",
          "cat1",
          "cat1",
          "cat1",
          "cat1",
          "cat1",
          "cat1",
          "cat1",
          "cat1",
          "cat1",
          "cat1",
          "cat0",
          "cat1",
          "cat0",
          "cat1",
          "cat1",
          "cat0",
          "cat1",
          "cat0",
          "cat0",
          "cat0",
          "cat1",
          "cat1",
          "cat1",
          "cat1",
          "cat0",
          "cat1",
          "cat1",
          "cat1",
          "cat1",
          "cat1",
          "cat1",
          "cat1",
          "cat1",
          "cat1",
          "cat1",
          "cat1",
          "cat1",
          "cat0",
          "cat1",
          "cat0",
          "cat0",
          "cat1",
          "cat1",
          "cat0",
          "cat1",
          "cat1",
          "cat1",
          "cat1",
          "cat0",
          "cat0",
          "cat1",
          "cat1",
          "cat1",
          "cat1",
          "cat1",
          "cat1",
          "cat1",
          "cat1",
          "cat1",
          "cat1",
          "cat0",
          "cat1",
          "cat0",
          "cat1",
          "cat1",
          "cat1",
          "cat0",
          "cat0",
          "cat1",
          "cat1",
          "cat1",
          "cat0",
          "cat1",
          "cat0",
          "cat1",
          "cat1",
          "cat0",
          "cat0",
          "cat1",
          "cat1",
          "cat1",
          "cat1",
          "cat1",
          "cat1",
          "cat1",
          "cat0",
          "cat1",
          "cat1",
          "cat1",
          "cat0",
          "cat1",
          "cat1",
          "cat1",
          "cat1",
          "cat0",
          "cat0",
          "cat1",
          "cat1",
          "cat1",
          "cat1",
          "cat1",
          "cat0",
          "cat0",
          "cat1",
          "cat0",
          "cat0",
          "cat0",
          "cat0",
          "cat1",
          "cat0",
          "cat0",
          "cat1",
          "cat1",
          "cat0",
          "cat1",
          "cat1",
          "cat1",
          "cat1",
          "cat1",
          "cat0",
          "cat1",
          "cat0",
          "cat1",
          "cat1",
          "cat0",
          "cat1",
          "cat1",
          "cat1",
          "cat0",
          "cat1",
          "cat1",
          "cat1",
          "cat0",
          "cat1",
          "cat0",
          "cat0",
          "cat1",
          "cat0",
          "cat1",
          "cat1",
          "cat1",
          "cat1",
          "cat0",
          "cat1",
          "cat1",
          "cat1",
          "cat1"
         ],
         "xaxis": "x",
         "yaxis": "y"
        }
       ],
       "layout": {
        "barmode": "group",
        "legend": {
         "title": {
          "text": "y"
         },
         "tracegroupgap": 0
        },
        "margin": {
         "t": 60
        },
        "template": {
         "data": {
          "bar": [
           {
            "error_x": {
             "color": "#2a3f5f"
            },
            "error_y": {
             "color": "#2a3f5f"
            },
            "marker": {
             "line": {
              "color": "#E5ECF6",
              "width": 0.5
             },
             "pattern": {
              "fillmode": "overlay",
              "size": 10,
              "solidity": 0.2
             }
            },
            "type": "bar"
           }
          ],
          "barpolar": [
           {
            "marker": {
             "line": {
              "color": "#E5ECF6",
              "width": 0.5
             },
             "pattern": {
              "fillmode": "overlay",
              "size": 10,
              "solidity": 0.2
             }
            },
            "type": "barpolar"
           }
          ],
          "carpet": [
           {
            "aaxis": {
             "endlinecolor": "#2a3f5f",
             "gridcolor": "white",
             "linecolor": "white",
             "minorgridcolor": "white",
             "startlinecolor": "#2a3f5f"
            },
            "baxis": {
             "endlinecolor": "#2a3f5f",
             "gridcolor": "white",
             "linecolor": "white",
             "minorgridcolor": "white",
             "startlinecolor": "#2a3f5f"
            },
            "type": "carpet"
           }
          ],
          "choropleth": [
           {
            "colorbar": {
             "outlinewidth": 0,
             "ticks": ""
            },
            "type": "choropleth"
           }
          ],
          "contour": [
           {
            "colorbar": {
             "outlinewidth": 0,
             "ticks": ""
            },
            "colorscale": [
             [
              0,
              "#0d0887"
             ],
             [
              0.1111111111111111,
              "#46039f"
             ],
             [
              0.2222222222222222,
              "#7201a8"
             ],
             [
              0.3333333333333333,
              "#9c179e"
             ],
             [
              0.4444444444444444,
              "#bd3786"
             ],
             [
              0.5555555555555556,
              "#d8576b"
             ],
             [
              0.6666666666666666,
              "#ed7953"
             ],
             [
              0.7777777777777778,
              "#fb9f3a"
             ],
             [
              0.8888888888888888,
              "#fdca26"
             ],
             [
              1,
              "#f0f921"
             ]
            ],
            "type": "contour"
           }
          ],
          "contourcarpet": [
           {
            "colorbar": {
             "outlinewidth": 0,
             "ticks": ""
            },
            "type": "contourcarpet"
           }
          ],
          "heatmap": [
           {
            "colorbar": {
             "outlinewidth": 0,
             "ticks": ""
            },
            "colorscale": [
             [
              0,
              "#0d0887"
             ],
             [
              0.1111111111111111,
              "#46039f"
             ],
             [
              0.2222222222222222,
              "#7201a8"
             ],
             [
              0.3333333333333333,
              "#9c179e"
             ],
             [
              0.4444444444444444,
              "#bd3786"
             ],
             [
              0.5555555555555556,
              "#d8576b"
             ],
             [
              0.6666666666666666,
              "#ed7953"
             ],
             [
              0.7777777777777778,
              "#fb9f3a"
             ],
             [
              0.8888888888888888,
              "#fdca26"
             ],
             [
              1,
              "#f0f921"
             ]
            ],
            "type": "heatmap"
           }
          ],
          "heatmapgl": [
           {
            "colorbar": {
             "outlinewidth": 0,
             "ticks": ""
            },
            "colorscale": [
             [
              0,
              "#0d0887"
             ],
             [
              0.1111111111111111,
              "#46039f"
             ],
             [
              0.2222222222222222,
              "#7201a8"
             ],
             [
              0.3333333333333333,
              "#9c179e"
             ],
             [
              0.4444444444444444,
              "#bd3786"
             ],
             [
              0.5555555555555556,
              "#d8576b"
             ],
             [
              0.6666666666666666,
              "#ed7953"
             ],
             [
              0.7777777777777778,
              "#fb9f3a"
             ],
             [
              0.8888888888888888,
              "#fdca26"
             ],
             [
              1,
              "#f0f921"
             ]
            ],
            "type": "heatmapgl"
           }
          ],
          "histogram": [
           {
            "marker": {
             "pattern": {
              "fillmode": "overlay",
              "size": 10,
              "solidity": 0.2
             }
            },
            "type": "histogram"
           }
          ],
          "histogram2d": [
           {
            "colorbar": {
             "outlinewidth": 0,
             "ticks": ""
            },
            "colorscale": [
             [
              0,
              "#0d0887"
             ],
             [
              0.1111111111111111,
              "#46039f"
             ],
             [
              0.2222222222222222,
              "#7201a8"
             ],
             [
              0.3333333333333333,
              "#9c179e"
             ],
             [
              0.4444444444444444,
              "#bd3786"
             ],
             [
              0.5555555555555556,
              "#d8576b"
             ],
             [
              0.6666666666666666,
              "#ed7953"
             ],
             [
              0.7777777777777778,
              "#fb9f3a"
             ],
             [
              0.8888888888888888,
              "#fdca26"
             ],
             [
              1,
              "#f0f921"
             ]
            ],
            "type": "histogram2d"
           }
          ],
          "histogram2dcontour": [
           {
            "colorbar": {
             "outlinewidth": 0,
             "ticks": ""
            },
            "colorscale": [
             [
              0,
              "#0d0887"
             ],
             [
              0.1111111111111111,
              "#46039f"
             ],
             [
              0.2222222222222222,
              "#7201a8"
             ],
             [
              0.3333333333333333,
              "#9c179e"
             ],
             [
              0.4444444444444444,
              "#bd3786"
             ],
             [
              0.5555555555555556,
              "#d8576b"
             ],
             [
              0.6666666666666666,
              "#ed7953"
             ],
             [
              0.7777777777777778,
              "#fb9f3a"
             ],
             [
              0.8888888888888888,
              "#fdca26"
             ],
             [
              1,
              "#f0f921"
             ]
            ],
            "type": "histogram2dcontour"
           }
          ],
          "mesh3d": [
           {
            "colorbar": {
             "outlinewidth": 0,
             "ticks": ""
            },
            "type": "mesh3d"
           }
          ],
          "parcoords": [
           {
            "line": {
             "colorbar": {
              "outlinewidth": 0,
              "ticks": ""
             }
            },
            "type": "parcoords"
           }
          ],
          "pie": [
           {
            "automargin": true,
            "type": "pie"
           }
          ],
          "scatter": [
           {
            "fillpattern": {
             "fillmode": "overlay",
             "size": 10,
             "solidity": 0.2
            },
            "type": "scatter"
           }
          ],
          "scatter3d": [
           {
            "line": {
             "colorbar": {
              "outlinewidth": 0,
              "ticks": ""
             }
            },
            "marker": {
             "colorbar": {
              "outlinewidth": 0,
              "ticks": ""
             }
            },
            "type": "scatter3d"
           }
          ],
          "scattercarpet": [
           {
            "marker": {
             "colorbar": {
              "outlinewidth": 0,
              "ticks": ""
             }
            },
            "type": "scattercarpet"
           }
          ],
          "scattergeo": [
           {
            "marker": {
             "colorbar": {
              "outlinewidth": 0,
              "ticks": ""
             }
            },
            "type": "scattergeo"
           }
          ],
          "scattergl": [
           {
            "marker": {
             "colorbar": {
              "outlinewidth": 0,
              "ticks": ""
             }
            },
            "type": "scattergl"
           }
          ],
          "scattermapbox": [
           {
            "marker": {
             "colorbar": {
              "outlinewidth": 0,
              "ticks": ""
             }
            },
            "type": "scattermapbox"
           }
          ],
          "scatterpolar": [
           {
            "marker": {
             "colorbar": {
              "outlinewidth": 0,
              "ticks": ""
             }
            },
            "type": "scatterpolar"
           }
          ],
          "scatterpolargl": [
           {
            "marker": {
             "colorbar": {
              "outlinewidth": 0,
              "ticks": ""
             }
            },
            "type": "scatterpolargl"
           }
          ],
          "scatterternary": [
           {
            "marker": {
             "colorbar": {
              "outlinewidth": 0,
              "ticks": ""
             }
            },
            "type": "scatterternary"
           }
          ],
          "surface": [
           {
            "colorbar": {
             "outlinewidth": 0,
             "ticks": ""
            },
            "colorscale": [
             [
              0,
              "#0d0887"
             ],
             [
              0.1111111111111111,
              "#46039f"
             ],
             [
              0.2222222222222222,
              "#7201a8"
             ],
             [
              0.3333333333333333,
              "#9c179e"
             ],
             [
              0.4444444444444444,
              "#bd3786"
             ],
             [
              0.5555555555555556,
              "#d8576b"
             ],
             [
              0.6666666666666666,
              "#ed7953"
             ],
             [
              0.7777777777777778,
              "#fb9f3a"
             ],
             [
              0.8888888888888888,
              "#fdca26"
             ],
             [
              1,
              "#f0f921"
             ]
            ],
            "type": "surface"
           }
          ],
          "table": [
           {
            "cells": {
             "fill": {
              "color": "#EBF0F8"
             },
             "line": {
              "color": "white"
             }
            },
            "header": {
             "fill": {
              "color": "#C8D4E3"
             },
             "line": {
              "color": "white"
             }
            },
            "type": "table"
           }
          ]
         },
         "layout": {
          "annotationdefaults": {
           "arrowcolor": "#2a3f5f",
           "arrowhead": 0,
           "arrowwidth": 1
          },
          "autotypenumbers": "strict",
          "coloraxis": {
           "colorbar": {
            "outlinewidth": 0,
            "ticks": ""
           }
          },
          "colorscale": {
           "diverging": [
            [
             0,
             "#8e0152"
            ],
            [
             0.1,
             "#c51b7d"
            ],
            [
             0.2,
             "#de77ae"
            ],
            [
             0.3,
             "#f1b6da"
            ],
            [
             0.4,
             "#fde0ef"
            ],
            [
             0.5,
             "#f7f7f7"
            ],
            [
             0.6,
             "#e6f5d0"
            ],
            [
             0.7,
             "#b8e186"
            ],
            [
             0.8,
             "#7fbc41"
            ],
            [
             0.9,
             "#4d9221"
            ],
            [
             1,
             "#276419"
            ]
           ],
           "sequential": [
            [
             0,
             "#0d0887"
            ],
            [
             0.1111111111111111,
             "#46039f"
            ],
            [
             0.2222222222222222,
             "#7201a8"
            ],
            [
             0.3333333333333333,
             "#9c179e"
            ],
            [
             0.4444444444444444,
             "#bd3786"
            ],
            [
             0.5555555555555556,
             "#d8576b"
            ],
            [
             0.6666666666666666,
             "#ed7953"
            ],
            [
             0.7777777777777778,
             "#fb9f3a"
            ],
            [
             0.8888888888888888,
             "#fdca26"
            ],
            [
             1,
             "#f0f921"
            ]
           ],
           "sequentialminus": [
            [
             0,
             "#0d0887"
            ],
            [
             0.1111111111111111,
             "#46039f"
            ],
            [
             0.2222222222222222,
             "#7201a8"
            ],
            [
             0.3333333333333333,
             "#9c179e"
            ],
            [
             0.4444444444444444,
             "#bd3786"
            ],
            [
             0.5555555555555556,
             "#d8576b"
            ],
            [
             0.6666666666666666,
             "#ed7953"
            ],
            [
             0.7777777777777778,
             "#fb9f3a"
            ],
            [
             0.8888888888888888,
             "#fdca26"
            ],
            [
             1,
             "#f0f921"
            ]
           ]
          },
          "colorway": [
           "#636efa",
           "#EF553B",
           "#00cc96",
           "#ab63fa",
           "#FFA15A",
           "#19d3f3",
           "#FF6692",
           "#B6E880",
           "#FF97FF",
           "#FECB52"
          ],
          "font": {
           "color": "#2a3f5f"
          },
          "geo": {
           "bgcolor": "white",
           "lakecolor": "white",
           "landcolor": "#E5ECF6",
           "showlakes": true,
           "showland": true,
           "subunitcolor": "white"
          },
          "hoverlabel": {
           "align": "left"
          },
          "hovermode": "closest",
          "mapbox": {
           "style": "light"
          },
          "paper_bgcolor": "white",
          "plot_bgcolor": "#E5ECF6",
          "polar": {
           "angularaxis": {
            "gridcolor": "white",
            "linecolor": "white",
            "ticks": ""
           },
           "bgcolor": "#E5ECF6",
           "radialaxis": {
            "gridcolor": "white",
            "linecolor": "white",
            "ticks": ""
           }
          },
          "scene": {
           "xaxis": {
            "backgroundcolor": "#E5ECF6",
            "gridcolor": "white",
            "gridwidth": 2,
            "linecolor": "white",
            "showbackground": true,
            "ticks": "",
            "zerolinecolor": "white"
           },
           "yaxis": {
            "backgroundcolor": "#E5ECF6",
            "gridcolor": "white",
            "gridwidth": 2,
            "linecolor": "white",
            "showbackground": true,
            "ticks": "",
            "zerolinecolor": "white"
           },
           "zaxis": {
            "backgroundcolor": "#E5ECF6",
            "gridcolor": "white",
            "gridwidth": 2,
            "linecolor": "white",
            "showbackground": true,
            "ticks": "",
            "zerolinecolor": "white"
           }
          },
          "shapedefaults": {
           "line": {
            "color": "#2a3f5f"
           }
          },
          "ternary": {
           "aaxis": {
            "gridcolor": "white",
            "linecolor": "white",
            "ticks": ""
           },
           "baxis": {
            "gridcolor": "white",
            "linecolor": "white",
            "ticks": ""
           },
           "bgcolor": "#E5ECF6",
           "caxis": {
            "gridcolor": "white",
            "linecolor": "white",
            "ticks": ""
           }
          },
          "title": {
           "x": 0.05
          },
          "xaxis": {
           "automargin": true,
           "gridcolor": "white",
           "linecolor": "white",
           "ticks": "",
           "title": {
            "standoff": 15
           },
           "zerolinecolor": "white",
           "zerolinewidth": 2
          },
          "yaxis": {
           "automargin": true,
           "gridcolor": "white",
           "linecolor": "white",
           "ticks": "",
           "title": {
            "standoff": 15
           },
           "zerolinecolor": "white",
           "zerolinewidth": 2
          }
         }
        },
        "xaxis": {
         "anchor": "y",
         "domain": [
          0,
          1
         ],
         "title": {
          "text": "x_bin2"
         }
        },
        "yaxis": {
         "anchor": "x",
         "domain": [
          0,
          1
         ],
         "title": {
          "text": "count"
         }
        }
       }
      }
     },
     "metadata": {},
     "output_type": "display_data"
    },
    {
     "name": "stdout",
     "output_type": "stream",
     "text": [
      "P-value: 0.9971\n"
     ]
    },
    {
     "data": {
      "application/vnd.plotly.v1+json": {
       "config": {
        "plotlyServerURL": "https://plot.ly"
       },
       "data": [
        {
         "alignmentgroup": "True",
         "bingroup": "x",
         "hovertemplate": "y=0<br>x_bin3=%{x}<br>count=%{y}<extra></extra>",
         "legendgroup": "0",
         "marker": {
          "color": "#636efa",
          "pattern": {
           "shape": ""
          }
         },
         "name": "0",
         "offsetgroup": "0",
         "orientation": "v",
         "showlegend": true,
         "texttemplate": "%{value}",
         "type": "histogram",
         "x": [
          "cat1",
          "cat0",
          "cat1",
          "cat0",
          "cat1",
          "cat1",
          "cat1",
          "cat0",
          "cat0",
          "cat0",
          "cat1",
          "cat0",
          "cat0",
          "cat0",
          "cat0",
          "cat0",
          "cat1",
          "cat0",
          "cat1",
          "cat0",
          "cat1",
          "cat0",
          "cat0",
          "cat0",
          "cat0",
          "cat0",
          "cat1",
          "cat0",
          "cat1",
          "cat0",
          "cat1",
          "cat0",
          "cat1",
          "cat0",
          "cat0",
          "cat1",
          "cat0",
          "cat1",
          "cat1",
          "cat0",
          "cat0",
          "cat0",
          "cat0",
          "cat1",
          "cat0",
          "cat1",
          "cat1",
          "cat1",
          "cat1",
          "cat0",
          "cat1",
          "cat1",
          "cat1",
          "cat1",
          "cat0",
          "cat1",
          "cat1",
          "cat1",
          "cat0",
          "cat1",
          "cat0",
          "cat1",
          "cat0",
          "cat1",
          "cat1",
          "cat1",
          "cat1",
          "cat0",
          "cat0",
          "cat0",
          "cat1",
          "cat1",
          "cat1",
          "cat1",
          "cat1",
          "cat1",
          "cat0",
          "cat0",
          "cat1",
          "cat0",
          "cat0",
          "cat1",
          "cat1",
          "cat0",
          "cat0",
          "cat1",
          "cat1",
          "cat1",
          "cat0",
          "cat1",
          "cat1",
          "cat1",
          "cat1",
          "cat0",
          "cat1",
          "cat0",
          "cat0",
          "cat1",
          "cat1",
          "cat1",
          "cat1",
          "cat0",
          "cat0",
          "cat1",
          "cat0",
          "cat1",
          "cat0",
          "cat0",
          "cat1",
          "cat0",
          "cat1",
          "cat0",
          "cat0",
          "cat0",
          "cat1",
          "cat1",
          "cat0",
          "cat0",
          "cat1",
          "cat0",
          "cat1",
          "cat0",
          "cat0",
          "cat0",
          "cat1",
          "cat1",
          "cat1",
          "cat1",
          "cat0",
          "cat0",
          "cat0",
          "cat1",
          "cat0",
          "cat0",
          "cat0",
          "cat1",
          "cat1",
          "cat1",
          "cat1",
          "cat0",
          "cat0",
          "cat1",
          "cat1",
          "cat0",
          "cat1",
          "cat0",
          "cat1",
          "cat1",
          "cat0",
          "cat0",
          "cat1",
          "cat1",
          "cat0",
          "cat0",
          "cat0",
          "cat0",
          "cat0",
          "cat1",
          "cat1",
          "cat1",
          "cat0",
          "cat0",
          "cat1",
          "cat1",
          "cat0",
          "cat0",
          "cat1",
          "cat1",
          "cat0",
          "cat1",
          "cat1",
          "cat0",
          "cat0",
          "cat1",
          "cat1",
          "cat0",
          "cat0",
          "cat0",
          "cat0",
          "cat1",
          "cat1",
          "cat0",
          "cat1",
          "cat1",
          "cat1",
          "cat1",
          "cat1",
          "cat1",
          "cat1",
          "cat1",
          "cat0",
          "cat1",
          "cat0",
          "cat1",
          "cat1",
          "cat0",
          "cat0",
          "cat1",
          "cat1",
          "cat0",
          "cat1",
          "cat1",
          "cat0",
          "cat0",
          "cat1",
          "cat0",
          "cat1",
          "cat0",
          "cat0",
          "cat0",
          "cat0",
          "cat0",
          "cat1",
          "cat1",
          "cat1",
          "cat0",
          "cat1",
          "cat1",
          "cat0",
          "cat0",
          "cat0",
          "cat0",
          "cat1",
          "cat1",
          "cat1",
          "cat1",
          "cat1",
          "cat1",
          "cat1",
          "cat0",
          "cat0",
          "cat1",
          "cat0",
          "cat1",
          "cat1",
          "cat1",
          "cat0",
          "cat0",
          "cat0",
          "cat0",
          "cat1",
          "cat1",
          "cat0",
          "cat1",
          "cat1",
          "cat0",
          "cat0",
          "cat1",
          "cat0",
          "cat0",
          "cat0"
         ],
         "xaxis": "x",
         "yaxis": "y"
        },
        {
         "alignmentgroup": "True",
         "bingroup": "x",
         "hovertemplate": "y=1<br>x_bin3=%{x}<br>count=%{y}<extra></extra>",
         "legendgroup": "1",
         "marker": {
          "color": "#EF553B",
          "pattern": {
           "shape": ""
          }
         },
         "name": "1",
         "offsetgroup": "1",
         "orientation": "v",
         "showlegend": true,
         "texttemplate": "%{value}",
         "type": "histogram",
         "x": [
          "cat0",
          "cat1",
          "cat0",
          "cat0",
          "cat0",
          "cat0",
          "cat0",
          "cat1",
          "cat1",
          "cat0",
          "cat1",
          "cat0",
          "cat0",
          "cat0",
          "cat0",
          "cat0",
          "cat1",
          "cat1",
          "cat0",
          "cat0",
          "cat0",
          "cat1",
          "cat0",
          "cat1",
          "cat1",
          "cat1",
          "cat0",
          "cat1",
          "cat0",
          "cat1",
          "cat1",
          "cat1",
          "cat0",
          "cat0",
          "cat1",
          "cat0",
          "cat0",
          "cat1",
          "cat0",
          "cat0",
          "cat1",
          "cat0",
          "cat1",
          "cat1",
          "cat1",
          "cat0",
          "cat1",
          "cat1",
          "cat0",
          "cat0",
          "cat1",
          "cat0",
          "cat0",
          "cat0",
          "cat1",
          "cat1",
          "cat1",
          "cat0",
          "cat0",
          "cat0",
          "cat1",
          "cat1",
          "cat0",
          "cat1",
          "cat0",
          "cat1",
          "cat1",
          "cat1",
          "cat1",
          "cat0",
          "cat0",
          "cat1",
          "cat1",
          "cat0",
          "cat0",
          "cat1",
          "cat0",
          "cat0",
          "cat0",
          "cat1",
          "cat1",
          "cat1",
          "cat0",
          "cat0",
          "cat1",
          "cat1",
          "cat0",
          "cat1",
          "cat1",
          "cat0",
          "cat1",
          "cat0",
          "cat1",
          "cat0",
          "cat1",
          "cat1",
          "cat0",
          "cat0",
          "cat0",
          "cat0",
          "cat0",
          "cat1",
          "cat1",
          "cat1",
          "cat1",
          "cat1",
          "cat1",
          "cat1",
          "cat1",
          "cat1",
          "cat0",
          "cat1",
          "cat0",
          "cat0",
          "cat0",
          "cat1",
          "cat1",
          "cat1",
          "cat0",
          "cat0",
          "cat1",
          "cat0",
          "cat1",
          "cat1",
          "cat1",
          "cat1",
          "cat0",
          "cat1",
          "cat0",
          "cat0",
          "cat1",
          "cat0",
          "cat1",
          "cat0",
          "cat0",
          "cat0",
          "cat1",
          "cat0",
          "cat1",
          "cat0",
          "cat0",
          "cat1",
          "cat0",
          "cat1",
          "cat0",
          "cat0",
          "cat0",
          "cat1",
          "cat1",
          "cat0",
          "cat0",
          "cat1",
          "cat0",
          "cat1",
          "cat1",
          "cat0",
          "cat1",
          "cat0",
          "cat0",
          "cat0",
          "cat1",
          "cat1",
          "cat0",
          "cat1",
          "cat0",
          "cat1",
          "cat1",
          "cat0",
          "cat0",
          "cat1",
          "cat1",
          "cat0",
          "cat0",
          "cat0",
          "cat1",
          "cat1",
          "cat1",
          "cat1",
          "cat1",
          "cat1",
          "cat0",
          "cat0",
          "cat0",
          "cat1",
          "cat1",
          "cat1",
          "cat1",
          "cat1",
          "cat1",
          "cat0",
          "cat1",
          "cat0",
          "cat1",
          "cat1",
          "cat0",
          "cat0",
          "cat1",
          "cat1",
          "cat1",
          "cat0",
          "cat0",
          "cat0",
          "cat0",
          "cat1",
          "cat0",
          "cat0",
          "cat1",
          "cat1",
          "cat0",
          "cat1",
          "cat1",
          "cat1",
          "cat0",
          "cat1",
          "cat1",
          "cat0",
          "cat1",
          "cat0",
          "cat1",
          "cat0",
          "cat0",
          "cat1",
          "cat0",
          "cat0",
          "cat1",
          "cat0",
          "cat0",
          "cat0",
          "cat1",
          "cat1",
          "cat1",
          "cat0",
          "cat1",
          "cat1",
          "cat1",
          "cat0",
          "cat0",
          "cat1",
          "cat1",
          "cat1",
          "cat1",
          "cat1",
          "cat1",
          "cat1",
          "cat0",
          "cat0",
          "cat0",
          "cat1",
          "cat1"
         ],
         "xaxis": "x",
         "yaxis": "y"
        }
       ],
       "layout": {
        "barmode": "group",
        "legend": {
         "title": {
          "text": "y"
         },
         "tracegroupgap": 0
        },
        "margin": {
         "t": 60
        },
        "template": {
         "data": {
          "bar": [
           {
            "error_x": {
             "color": "#2a3f5f"
            },
            "error_y": {
             "color": "#2a3f5f"
            },
            "marker": {
             "line": {
              "color": "#E5ECF6",
              "width": 0.5
             },
             "pattern": {
              "fillmode": "overlay",
              "size": 10,
              "solidity": 0.2
             }
            },
            "type": "bar"
           }
          ],
          "barpolar": [
           {
            "marker": {
             "line": {
              "color": "#E5ECF6",
              "width": 0.5
             },
             "pattern": {
              "fillmode": "overlay",
              "size": 10,
              "solidity": 0.2
             }
            },
            "type": "barpolar"
           }
          ],
          "carpet": [
           {
            "aaxis": {
             "endlinecolor": "#2a3f5f",
             "gridcolor": "white",
             "linecolor": "white",
             "minorgridcolor": "white",
             "startlinecolor": "#2a3f5f"
            },
            "baxis": {
             "endlinecolor": "#2a3f5f",
             "gridcolor": "white",
             "linecolor": "white",
             "minorgridcolor": "white",
             "startlinecolor": "#2a3f5f"
            },
            "type": "carpet"
           }
          ],
          "choropleth": [
           {
            "colorbar": {
             "outlinewidth": 0,
             "ticks": ""
            },
            "type": "choropleth"
           }
          ],
          "contour": [
           {
            "colorbar": {
             "outlinewidth": 0,
             "ticks": ""
            },
            "colorscale": [
             [
              0,
              "#0d0887"
             ],
             [
              0.1111111111111111,
              "#46039f"
             ],
             [
              0.2222222222222222,
              "#7201a8"
             ],
             [
              0.3333333333333333,
              "#9c179e"
             ],
             [
              0.4444444444444444,
              "#bd3786"
             ],
             [
              0.5555555555555556,
              "#d8576b"
             ],
             [
              0.6666666666666666,
              "#ed7953"
             ],
             [
              0.7777777777777778,
              "#fb9f3a"
             ],
             [
              0.8888888888888888,
              "#fdca26"
             ],
             [
              1,
              "#f0f921"
             ]
            ],
            "type": "contour"
           }
          ],
          "contourcarpet": [
           {
            "colorbar": {
             "outlinewidth": 0,
             "ticks": ""
            },
            "type": "contourcarpet"
           }
          ],
          "heatmap": [
           {
            "colorbar": {
             "outlinewidth": 0,
             "ticks": ""
            },
            "colorscale": [
             [
              0,
              "#0d0887"
             ],
             [
              0.1111111111111111,
              "#46039f"
             ],
             [
              0.2222222222222222,
              "#7201a8"
             ],
             [
              0.3333333333333333,
              "#9c179e"
             ],
             [
              0.4444444444444444,
              "#bd3786"
             ],
             [
              0.5555555555555556,
              "#d8576b"
             ],
             [
              0.6666666666666666,
              "#ed7953"
             ],
             [
              0.7777777777777778,
              "#fb9f3a"
             ],
             [
              0.8888888888888888,
              "#fdca26"
             ],
             [
              1,
              "#f0f921"
             ]
            ],
            "type": "heatmap"
           }
          ],
          "heatmapgl": [
           {
            "colorbar": {
             "outlinewidth": 0,
             "ticks": ""
            },
            "colorscale": [
             [
              0,
              "#0d0887"
             ],
             [
              0.1111111111111111,
              "#46039f"
             ],
             [
              0.2222222222222222,
              "#7201a8"
             ],
             [
              0.3333333333333333,
              "#9c179e"
             ],
             [
              0.4444444444444444,
              "#bd3786"
             ],
             [
              0.5555555555555556,
              "#d8576b"
             ],
             [
              0.6666666666666666,
              "#ed7953"
             ],
             [
              0.7777777777777778,
              "#fb9f3a"
             ],
             [
              0.8888888888888888,
              "#fdca26"
             ],
             [
              1,
              "#f0f921"
             ]
            ],
            "type": "heatmapgl"
           }
          ],
          "histogram": [
           {
            "marker": {
             "pattern": {
              "fillmode": "overlay",
              "size": 10,
              "solidity": 0.2
             }
            },
            "type": "histogram"
           }
          ],
          "histogram2d": [
           {
            "colorbar": {
             "outlinewidth": 0,
             "ticks": ""
            },
            "colorscale": [
             [
              0,
              "#0d0887"
             ],
             [
              0.1111111111111111,
              "#46039f"
             ],
             [
              0.2222222222222222,
              "#7201a8"
             ],
             [
              0.3333333333333333,
              "#9c179e"
             ],
             [
              0.4444444444444444,
              "#bd3786"
             ],
             [
              0.5555555555555556,
              "#d8576b"
             ],
             [
              0.6666666666666666,
              "#ed7953"
             ],
             [
              0.7777777777777778,
              "#fb9f3a"
             ],
             [
              0.8888888888888888,
              "#fdca26"
             ],
             [
              1,
              "#f0f921"
             ]
            ],
            "type": "histogram2d"
           }
          ],
          "histogram2dcontour": [
           {
            "colorbar": {
             "outlinewidth": 0,
             "ticks": ""
            },
            "colorscale": [
             [
              0,
              "#0d0887"
             ],
             [
              0.1111111111111111,
              "#46039f"
             ],
             [
              0.2222222222222222,
              "#7201a8"
             ],
             [
              0.3333333333333333,
              "#9c179e"
             ],
             [
              0.4444444444444444,
              "#bd3786"
             ],
             [
              0.5555555555555556,
              "#d8576b"
             ],
             [
              0.6666666666666666,
              "#ed7953"
             ],
             [
              0.7777777777777778,
              "#fb9f3a"
             ],
             [
              0.8888888888888888,
              "#fdca26"
             ],
             [
              1,
              "#f0f921"
             ]
            ],
            "type": "histogram2dcontour"
           }
          ],
          "mesh3d": [
           {
            "colorbar": {
             "outlinewidth": 0,
             "ticks": ""
            },
            "type": "mesh3d"
           }
          ],
          "parcoords": [
           {
            "line": {
             "colorbar": {
              "outlinewidth": 0,
              "ticks": ""
             }
            },
            "type": "parcoords"
           }
          ],
          "pie": [
           {
            "automargin": true,
            "type": "pie"
           }
          ],
          "scatter": [
           {
            "fillpattern": {
             "fillmode": "overlay",
             "size": 10,
             "solidity": 0.2
            },
            "type": "scatter"
           }
          ],
          "scatter3d": [
           {
            "line": {
             "colorbar": {
              "outlinewidth": 0,
              "ticks": ""
             }
            },
            "marker": {
             "colorbar": {
              "outlinewidth": 0,
              "ticks": ""
             }
            },
            "type": "scatter3d"
           }
          ],
          "scattercarpet": [
           {
            "marker": {
             "colorbar": {
              "outlinewidth": 0,
              "ticks": ""
             }
            },
            "type": "scattercarpet"
           }
          ],
          "scattergeo": [
           {
            "marker": {
             "colorbar": {
              "outlinewidth": 0,
              "ticks": ""
             }
            },
            "type": "scattergeo"
           }
          ],
          "scattergl": [
           {
            "marker": {
             "colorbar": {
              "outlinewidth": 0,
              "ticks": ""
             }
            },
            "type": "scattergl"
           }
          ],
          "scattermapbox": [
           {
            "marker": {
             "colorbar": {
              "outlinewidth": 0,
              "ticks": ""
             }
            },
            "type": "scattermapbox"
           }
          ],
          "scatterpolar": [
           {
            "marker": {
             "colorbar": {
              "outlinewidth": 0,
              "ticks": ""
             }
            },
            "type": "scatterpolar"
           }
          ],
          "scatterpolargl": [
           {
            "marker": {
             "colorbar": {
              "outlinewidth": 0,
              "ticks": ""
             }
            },
            "type": "scatterpolargl"
           }
          ],
          "scatterternary": [
           {
            "marker": {
             "colorbar": {
              "outlinewidth": 0,
              "ticks": ""
             }
            },
            "type": "scatterternary"
           }
          ],
          "surface": [
           {
            "colorbar": {
             "outlinewidth": 0,
             "ticks": ""
            },
            "colorscale": [
             [
              0,
              "#0d0887"
             ],
             [
              0.1111111111111111,
              "#46039f"
             ],
             [
              0.2222222222222222,
              "#7201a8"
             ],
             [
              0.3333333333333333,
              "#9c179e"
             ],
             [
              0.4444444444444444,
              "#bd3786"
             ],
             [
              0.5555555555555556,
              "#d8576b"
             ],
             [
              0.6666666666666666,
              "#ed7953"
             ],
             [
              0.7777777777777778,
              "#fb9f3a"
             ],
             [
              0.8888888888888888,
              "#fdca26"
             ],
             [
              1,
              "#f0f921"
             ]
            ],
            "type": "surface"
           }
          ],
          "table": [
           {
            "cells": {
             "fill": {
              "color": "#EBF0F8"
             },
             "line": {
              "color": "white"
             }
            },
            "header": {
             "fill": {
              "color": "#C8D4E3"
             },
             "line": {
              "color": "white"
             }
            },
            "type": "table"
           }
          ]
         },
         "layout": {
          "annotationdefaults": {
           "arrowcolor": "#2a3f5f",
           "arrowhead": 0,
           "arrowwidth": 1
          },
          "autotypenumbers": "strict",
          "coloraxis": {
           "colorbar": {
            "outlinewidth": 0,
            "ticks": ""
           }
          },
          "colorscale": {
           "diverging": [
            [
             0,
             "#8e0152"
            ],
            [
             0.1,
             "#c51b7d"
            ],
            [
             0.2,
             "#de77ae"
            ],
            [
             0.3,
             "#f1b6da"
            ],
            [
             0.4,
             "#fde0ef"
            ],
            [
             0.5,
             "#f7f7f7"
            ],
            [
             0.6,
             "#e6f5d0"
            ],
            [
             0.7,
             "#b8e186"
            ],
            [
             0.8,
             "#7fbc41"
            ],
            [
             0.9,
             "#4d9221"
            ],
            [
             1,
             "#276419"
            ]
           ],
           "sequential": [
            [
             0,
             "#0d0887"
            ],
            [
             0.1111111111111111,
             "#46039f"
            ],
            [
             0.2222222222222222,
             "#7201a8"
            ],
            [
             0.3333333333333333,
             "#9c179e"
            ],
            [
             0.4444444444444444,
             "#bd3786"
            ],
            [
             0.5555555555555556,
             "#d8576b"
            ],
            [
             0.6666666666666666,
             "#ed7953"
            ],
            [
             0.7777777777777778,
             "#fb9f3a"
            ],
            [
             0.8888888888888888,
             "#fdca26"
            ],
            [
             1,
             "#f0f921"
            ]
           ],
           "sequentialminus": [
            [
             0,
             "#0d0887"
            ],
            [
             0.1111111111111111,
             "#46039f"
            ],
            [
             0.2222222222222222,
             "#7201a8"
            ],
            [
             0.3333333333333333,
             "#9c179e"
            ],
            [
             0.4444444444444444,
             "#bd3786"
            ],
            [
             0.5555555555555556,
             "#d8576b"
            ],
            [
             0.6666666666666666,
             "#ed7953"
            ],
            [
             0.7777777777777778,
             "#fb9f3a"
            ],
            [
             0.8888888888888888,
             "#fdca26"
            ],
            [
             1,
             "#f0f921"
            ]
           ]
          },
          "colorway": [
           "#636efa",
           "#EF553B",
           "#00cc96",
           "#ab63fa",
           "#FFA15A",
           "#19d3f3",
           "#FF6692",
           "#B6E880",
           "#FF97FF",
           "#FECB52"
          ],
          "font": {
           "color": "#2a3f5f"
          },
          "geo": {
           "bgcolor": "white",
           "lakecolor": "white",
           "landcolor": "#E5ECF6",
           "showlakes": true,
           "showland": true,
           "subunitcolor": "white"
          },
          "hoverlabel": {
           "align": "left"
          },
          "hovermode": "closest",
          "mapbox": {
           "style": "light"
          },
          "paper_bgcolor": "white",
          "plot_bgcolor": "#E5ECF6",
          "polar": {
           "angularaxis": {
            "gridcolor": "white",
            "linecolor": "white",
            "ticks": ""
           },
           "bgcolor": "#E5ECF6",
           "radialaxis": {
            "gridcolor": "white",
            "linecolor": "white",
            "ticks": ""
           }
          },
          "scene": {
           "xaxis": {
            "backgroundcolor": "#E5ECF6",
            "gridcolor": "white",
            "gridwidth": 2,
            "linecolor": "white",
            "showbackground": true,
            "ticks": "",
            "zerolinecolor": "white"
           },
           "yaxis": {
            "backgroundcolor": "#E5ECF6",
            "gridcolor": "white",
            "gridwidth": 2,
            "linecolor": "white",
            "showbackground": true,
            "ticks": "",
            "zerolinecolor": "white"
           },
           "zaxis": {
            "backgroundcolor": "#E5ECF6",
            "gridcolor": "white",
            "gridwidth": 2,
            "linecolor": "white",
            "showbackground": true,
            "ticks": "",
            "zerolinecolor": "white"
           }
          },
          "shapedefaults": {
           "line": {
            "color": "#2a3f5f"
           }
          },
          "ternary": {
           "aaxis": {
            "gridcolor": "white",
            "linecolor": "white",
            "ticks": ""
           },
           "baxis": {
            "gridcolor": "white",
            "linecolor": "white",
            "ticks": ""
           },
           "bgcolor": "#E5ECF6",
           "caxis": {
            "gridcolor": "white",
            "linecolor": "white",
            "ticks": ""
           }
          },
          "title": {
           "x": 0.05
          },
          "xaxis": {
           "automargin": true,
           "gridcolor": "white",
           "linecolor": "white",
           "ticks": "",
           "title": {
            "standoff": 15
           },
           "zerolinecolor": "white",
           "zerolinewidth": 2
          },
          "yaxis": {
           "automargin": true,
           "gridcolor": "white",
           "linecolor": "white",
           "ticks": "",
           "title": {
            "standoff": 15
           },
           "zerolinecolor": "white",
           "zerolinewidth": 2
          }
         }
        },
        "xaxis": {
         "anchor": "y",
         "domain": [
          0,
          1
         ],
         "title": {
          "text": "x_bin3"
         }
        },
        "yaxis": {
         "anchor": "x",
         "domain": [
          0,
          1
         ],
         "title": {
          "text": "count"
         }
        }
       }
      }
     },
     "metadata": {},
     "output_type": "display_data"
    },
    {
     "name": "stdout",
     "output_type": "stream",
     "text": [
      "P-value: 0.7826\n"
     ]
    },
    {
     "data": {
      "application/vnd.plotly.v1+json": {
       "config": {
        "plotlyServerURL": "https://plot.ly"
       },
       "data": [
        {
         "alignmentgroup": "True",
         "bingroup": "x",
         "hovertemplate": "y=0<br>x_bin4=%{x}<br>count=%{y}<extra></extra>",
         "legendgroup": "0",
         "marker": {
          "color": "#636efa",
          "pattern": {
           "shape": ""
          }
         },
         "name": "0",
         "offsetgroup": "0",
         "orientation": "v",
         "showlegend": true,
         "texttemplate": "%{value}",
         "type": "histogram",
         "x": [
          "cat1",
          "cat0",
          "cat1",
          "cat1",
          "cat1",
          "cat1",
          "cat0",
          "cat1",
          "cat0",
          "cat0",
          "cat0",
          "cat1",
          "cat0",
          "cat0",
          "cat0",
          "cat1",
          "cat0",
          "cat0",
          "cat0",
          "cat1",
          "cat1",
          "cat0",
          "cat1",
          "cat0",
          "cat1",
          "cat0",
          "cat0",
          "cat1",
          "cat1",
          "cat0",
          "cat0",
          "cat0",
          "cat1",
          "cat0",
          "cat1",
          "cat1",
          "cat1",
          "cat1",
          "cat1",
          "cat1",
          "cat0",
          "cat0",
          "cat0",
          "cat0",
          "cat1",
          "cat1",
          "cat0",
          "cat1",
          "cat1",
          "cat0",
          "cat0",
          "cat1",
          "cat1",
          "cat1",
          "cat0",
          "cat0",
          "cat0",
          "cat1",
          "cat1",
          "cat0",
          "cat1",
          "cat0",
          "cat0",
          "cat0",
          "cat1",
          "cat0",
          "cat1",
          "cat0",
          "cat1",
          "cat0",
          "cat0",
          "cat1",
          "cat0",
          "cat1",
          "cat1",
          "cat0",
          "cat0",
          "cat1",
          "cat0",
          "cat1",
          "cat0",
          "cat1",
          "cat1",
          "cat0",
          "cat1",
          "cat1",
          "cat1",
          "cat1",
          "cat1",
          "cat1",
          "cat1",
          "cat1",
          "cat1",
          "cat1",
          "cat1",
          "cat1",
          "cat1",
          "cat1",
          "cat1",
          "cat0",
          "cat1",
          "cat0",
          "cat0",
          "cat1",
          "cat1",
          "cat1",
          "cat0",
          "cat1",
          "cat1",
          "cat1",
          "cat1",
          "cat1",
          "cat1",
          "cat1",
          "cat0",
          "cat0",
          "cat0",
          "cat0",
          "cat0",
          "cat0",
          "cat1",
          "cat0",
          "cat0",
          "cat1",
          "cat0",
          "cat1",
          "cat1",
          "cat1",
          "cat0",
          "cat0",
          "cat0",
          "cat1",
          "cat1",
          "cat0",
          "cat1",
          "cat1",
          "cat1",
          "cat0",
          "cat0",
          "cat0",
          "cat1",
          "cat1",
          "cat1",
          "cat1",
          "cat1",
          "cat0",
          "cat1",
          "cat1",
          "cat1",
          "cat1",
          "cat0",
          "cat0",
          "cat1",
          "cat1",
          "cat1",
          "cat1",
          "cat0",
          "cat0",
          "cat1",
          "cat0",
          "cat0",
          "cat0",
          "cat1",
          "cat1",
          "cat0",
          "cat0",
          "cat0",
          "cat0",
          "cat1",
          "cat0",
          "cat0",
          "cat1",
          "cat0",
          "cat1",
          "cat0",
          "cat1",
          "cat0",
          "cat0",
          "cat1",
          "cat0",
          "cat1",
          "cat1",
          "cat0",
          "cat1",
          "cat0",
          "cat0",
          "cat0",
          "cat0",
          "cat0",
          "cat1",
          "cat0",
          "cat0",
          "cat1",
          "cat1",
          "cat0",
          "cat0",
          "cat1",
          "cat1",
          "cat1",
          "cat0",
          "cat0",
          "cat0",
          "cat0",
          "cat1",
          "cat0",
          "cat1",
          "cat1",
          "cat1",
          "cat1",
          "cat1",
          "cat1",
          "cat0",
          "cat1",
          "cat0",
          "cat1",
          "cat1",
          "cat1",
          "cat1",
          "cat0",
          "cat0",
          "cat0",
          "cat1",
          "cat0",
          "cat1",
          "cat0",
          "cat1",
          "cat1",
          "cat0",
          "cat0",
          "cat1",
          "cat1",
          "cat1",
          "cat0",
          "cat0",
          "cat0",
          "cat0",
          "cat0",
          "cat1",
          "cat1",
          "cat0",
          "cat1",
          "cat0",
          "cat1",
          "cat0",
          "cat0",
          "cat1",
          "cat0",
          "cat1",
          "cat0",
          "cat0",
          "cat1"
         ],
         "xaxis": "x",
         "yaxis": "y"
        },
        {
         "alignmentgroup": "True",
         "bingroup": "x",
         "hovertemplate": "y=1<br>x_bin4=%{x}<br>count=%{y}<extra></extra>",
         "legendgroup": "1",
         "marker": {
          "color": "#EF553B",
          "pattern": {
           "shape": ""
          }
         },
         "name": "1",
         "offsetgroup": "1",
         "orientation": "v",
         "showlegend": true,
         "texttemplate": "%{value}",
         "type": "histogram",
         "x": [
          "cat1",
          "cat1",
          "cat0",
          "cat1",
          "cat0",
          "cat0",
          "cat1",
          "cat1",
          "cat1",
          "cat1",
          "cat1",
          "cat1",
          "cat0",
          "cat1",
          "cat0",
          "cat1",
          "cat0",
          "cat0",
          "cat1",
          "cat1",
          "cat0",
          "cat1",
          "cat0",
          "cat1",
          "cat1",
          "cat0",
          "cat0",
          "cat0",
          "cat1",
          "cat0",
          "cat1",
          "cat1",
          "cat1",
          "cat1",
          "cat0",
          "cat1",
          "cat1",
          "cat1",
          "cat1",
          "cat1",
          "cat0",
          "cat1",
          "cat1",
          "cat1",
          "cat0",
          "cat1",
          "cat0",
          "cat1",
          "cat0",
          "cat1",
          "cat1",
          "cat0",
          "cat0",
          "cat1",
          "cat0",
          "cat1",
          "cat0",
          "cat0",
          "cat1",
          "cat0",
          "cat1",
          "cat1",
          "cat1",
          "cat0",
          "cat1",
          "cat0",
          "cat1",
          "cat0",
          "cat1",
          "cat0",
          "cat1",
          "cat1",
          "cat1",
          "cat1",
          "cat0",
          "cat1",
          "cat1",
          "cat1",
          "cat0",
          "cat0",
          "cat1",
          "cat0",
          "cat1",
          "cat0",
          "cat1",
          "cat1",
          "cat0",
          "cat1",
          "cat0",
          "cat0",
          "cat0",
          "cat1",
          "cat1",
          "cat0",
          "cat0",
          "cat0",
          "cat0",
          "cat0",
          "cat0",
          "cat1",
          "cat0",
          "cat1",
          "cat0",
          "cat1",
          "cat0",
          "cat0",
          "cat1",
          "cat1",
          "cat0",
          "cat1",
          "cat0",
          "cat1",
          "cat1",
          "cat0",
          "cat0",
          "cat1",
          "cat1",
          "cat0",
          "cat1",
          "cat1",
          "cat0",
          "cat0",
          "cat1",
          "cat1",
          "cat1",
          "cat1",
          "cat1",
          "cat0",
          "cat0",
          "cat0",
          "cat1",
          "cat0",
          "cat1",
          "cat1",
          "cat1",
          "cat0",
          "cat0",
          "cat1",
          "cat0",
          "cat0",
          "cat0",
          "cat1",
          "cat0",
          "cat0",
          "cat1",
          "cat1",
          "cat0",
          "cat1",
          "cat1",
          "cat1",
          "cat1",
          "cat0",
          "cat0",
          "cat0",
          "cat0",
          "cat1",
          "cat1",
          "cat1",
          "cat0",
          "cat0",
          "cat1",
          "cat0",
          "cat1",
          "cat1",
          "cat1",
          "cat0",
          "cat0",
          "cat0",
          "cat1",
          "cat1",
          "cat1",
          "cat1",
          "cat1",
          "cat0",
          "cat0",
          "cat1",
          "cat0",
          "cat1",
          "cat1",
          "cat0",
          "cat0",
          "cat0",
          "cat1",
          "cat0",
          "cat0",
          "cat1",
          "cat0",
          "cat1",
          "cat0",
          "cat0",
          "cat1",
          "cat0",
          "cat1",
          "cat0",
          "cat0",
          "cat1",
          "cat0",
          "cat0",
          "cat0",
          "cat0",
          "cat1",
          "cat1",
          "cat0",
          "cat1",
          "cat1",
          "cat1",
          "cat1",
          "cat0",
          "cat1",
          "cat1",
          "cat0",
          "cat0",
          "cat1",
          "cat1",
          "cat0",
          "cat0",
          "cat1",
          "cat1",
          "cat1",
          "cat1",
          "cat1",
          "cat0",
          "cat1",
          "cat1",
          "cat0",
          "cat0",
          "cat0",
          "cat1",
          "cat1",
          "cat1",
          "cat0",
          "cat0",
          "cat1",
          "cat1",
          "cat0",
          "cat1",
          "cat0",
          "cat0",
          "cat0",
          "cat1",
          "cat1",
          "cat1",
          "cat0",
          "cat1",
          "cat1",
          "cat0",
          "cat0",
          "cat1",
          "cat1"
         ],
         "xaxis": "x",
         "yaxis": "y"
        }
       ],
       "layout": {
        "barmode": "group",
        "legend": {
         "title": {
          "text": "y"
         },
         "tracegroupgap": 0
        },
        "margin": {
         "t": 60
        },
        "template": {
         "data": {
          "bar": [
           {
            "error_x": {
             "color": "#2a3f5f"
            },
            "error_y": {
             "color": "#2a3f5f"
            },
            "marker": {
             "line": {
              "color": "#E5ECF6",
              "width": 0.5
             },
             "pattern": {
              "fillmode": "overlay",
              "size": 10,
              "solidity": 0.2
             }
            },
            "type": "bar"
           }
          ],
          "barpolar": [
           {
            "marker": {
             "line": {
              "color": "#E5ECF6",
              "width": 0.5
             },
             "pattern": {
              "fillmode": "overlay",
              "size": 10,
              "solidity": 0.2
             }
            },
            "type": "barpolar"
           }
          ],
          "carpet": [
           {
            "aaxis": {
             "endlinecolor": "#2a3f5f",
             "gridcolor": "white",
             "linecolor": "white",
             "minorgridcolor": "white",
             "startlinecolor": "#2a3f5f"
            },
            "baxis": {
             "endlinecolor": "#2a3f5f",
             "gridcolor": "white",
             "linecolor": "white",
             "minorgridcolor": "white",
             "startlinecolor": "#2a3f5f"
            },
            "type": "carpet"
           }
          ],
          "choropleth": [
           {
            "colorbar": {
             "outlinewidth": 0,
             "ticks": ""
            },
            "type": "choropleth"
           }
          ],
          "contour": [
           {
            "colorbar": {
             "outlinewidth": 0,
             "ticks": ""
            },
            "colorscale": [
             [
              0,
              "#0d0887"
             ],
             [
              0.1111111111111111,
              "#46039f"
             ],
             [
              0.2222222222222222,
              "#7201a8"
             ],
             [
              0.3333333333333333,
              "#9c179e"
             ],
             [
              0.4444444444444444,
              "#bd3786"
             ],
             [
              0.5555555555555556,
              "#d8576b"
             ],
             [
              0.6666666666666666,
              "#ed7953"
             ],
             [
              0.7777777777777778,
              "#fb9f3a"
             ],
             [
              0.8888888888888888,
              "#fdca26"
             ],
             [
              1,
              "#f0f921"
             ]
            ],
            "type": "contour"
           }
          ],
          "contourcarpet": [
           {
            "colorbar": {
             "outlinewidth": 0,
             "ticks": ""
            },
            "type": "contourcarpet"
           }
          ],
          "heatmap": [
           {
            "colorbar": {
             "outlinewidth": 0,
             "ticks": ""
            },
            "colorscale": [
             [
              0,
              "#0d0887"
             ],
             [
              0.1111111111111111,
              "#46039f"
             ],
             [
              0.2222222222222222,
              "#7201a8"
             ],
             [
              0.3333333333333333,
              "#9c179e"
             ],
             [
              0.4444444444444444,
              "#bd3786"
             ],
             [
              0.5555555555555556,
              "#d8576b"
             ],
             [
              0.6666666666666666,
              "#ed7953"
             ],
             [
              0.7777777777777778,
              "#fb9f3a"
             ],
             [
              0.8888888888888888,
              "#fdca26"
             ],
             [
              1,
              "#f0f921"
             ]
            ],
            "type": "heatmap"
           }
          ],
          "heatmapgl": [
           {
            "colorbar": {
             "outlinewidth": 0,
             "ticks": ""
            },
            "colorscale": [
             [
              0,
              "#0d0887"
             ],
             [
              0.1111111111111111,
              "#46039f"
             ],
             [
              0.2222222222222222,
              "#7201a8"
             ],
             [
              0.3333333333333333,
              "#9c179e"
             ],
             [
              0.4444444444444444,
              "#bd3786"
             ],
             [
              0.5555555555555556,
              "#d8576b"
             ],
             [
              0.6666666666666666,
              "#ed7953"
             ],
             [
              0.7777777777777778,
              "#fb9f3a"
             ],
             [
              0.8888888888888888,
              "#fdca26"
             ],
             [
              1,
              "#f0f921"
             ]
            ],
            "type": "heatmapgl"
           }
          ],
          "histogram": [
           {
            "marker": {
             "pattern": {
              "fillmode": "overlay",
              "size": 10,
              "solidity": 0.2
             }
            },
            "type": "histogram"
           }
          ],
          "histogram2d": [
           {
            "colorbar": {
             "outlinewidth": 0,
             "ticks": ""
            },
            "colorscale": [
             [
              0,
              "#0d0887"
             ],
             [
              0.1111111111111111,
              "#46039f"
             ],
             [
              0.2222222222222222,
              "#7201a8"
             ],
             [
              0.3333333333333333,
              "#9c179e"
             ],
             [
              0.4444444444444444,
              "#bd3786"
             ],
             [
              0.5555555555555556,
              "#d8576b"
             ],
             [
              0.6666666666666666,
              "#ed7953"
             ],
             [
              0.7777777777777778,
              "#fb9f3a"
             ],
             [
              0.8888888888888888,
              "#fdca26"
             ],
             [
              1,
              "#f0f921"
             ]
            ],
            "type": "histogram2d"
           }
          ],
          "histogram2dcontour": [
           {
            "colorbar": {
             "outlinewidth": 0,
             "ticks": ""
            },
            "colorscale": [
             [
              0,
              "#0d0887"
             ],
             [
              0.1111111111111111,
              "#46039f"
             ],
             [
              0.2222222222222222,
              "#7201a8"
             ],
             [
              0.3333333333333333,
              "#9c179e"
             ],
             [
              0.4444444444444444,
              "#bd3786"
             ],
             [
              0.5555555555555556,
              "#d8576b"
             ],
             [
              0.6666666666666666,
              "#ed7953"
             ],
             [
              0.7777777777777778,
              "#fb9f3a"
             ],
             [
              0.8888888888888888,
              "#fdca26"
             ],
             [
              1,
              "#f0f921"
             ]
            ],
            "type": "histogram2dcontour"
           }
          ],
          "mesh3d": [
           {
            "colorbar": {
             "outlinewidth": 0,
             "ticks": ""
            },
            "type": "mesh3d"
           }
          ],
          "parcoords": [
           {
            "line": {
             "colorbar": {
              "outlinewidth": 0,
              "ticks": ""
             }
            },
            "type": "parcoords"
           }
          ],
          "pie": [
           {
            "automargin": true,
            "type": "pie"
           }
          ],
          "scatter": [
           {
            "fillpattern": {
             "fillmode": "overlay",
             "size": 10,
             "solidity": 0.2
            },
            "type": "scatter"
           }
          ],
          "scatter3d": [
           {
            "line": {
             "colorbar": {
              "outlinewidth": 0,
              "ticks": ""
             }
            },
            "marker": {
             "colorbar": {
              "outlinewidth": 0,
              "ticks": ""
             }
            },
            "type": "scatter3d"
           }
          ],
          "scattercarpet": [
           {
            "marker": {
             "colorbar": {
              "outlinewidth": 0,
              "ticks": ""
             }
            },
            "type": "scattercarpet"
           }
          ],
          "scattergeo": [
           {
            "marker": {
             "colorbar": {
              "outlinewidth": 0,
              "ticks": ""
             }
            },
            "type": "scattergeo"
           }
          ],
          "scattergl": [
           {
            "marker": {
             "colorbar": {
              "outlinewidth": 0,
              "ticks": ""
             }
            },
            "type": "scattergl"
           }
          ],
          "scattermapbox": [
           {
            "marker": {
             "colorbar": {
              "outlinewidth": 0,
              "ticks": ""
             }
            },
            "type": "scattermapbox"
           }
          ],
          "scatterpolar": [
           {
            "marker": {
             "colorbar": {
              "outlinewidth": 0,
              "ticks": ""
             }
            },
            "type": "scatterpolar"
           }
          ],
          "scatterpolargl": [
           {
            "marker": {
             "colorbar": {
              "outlinewidth": 0,
              "ticks": ""
             }
            },
            "type": "scatterpolargl"
           }
          ],
          "scatterternary": [
           {
            "marker": {
             "colorbar": {
              "outlinewidth": 0,
              "ticks": ""
             }
            },
            "type": "scatterternary"
           }
          ],
          "surface": [
           {
            "colorbar": {
             "outlinewidth": 0,
             "ticks": ""
            },
            "colorscale": [
             [
              0,
              "#0d0887"
             ],
             [
              0.1111111111111111,
              "#46039f"
             ],
             [
              0.2222222222222222,
              "#7201a8"
             ],
             [
              0.3333333333333333,
              "#9c179e"
             ],
             [
              0.4444444444444444,
              "#bd3786"
             ],
             [
              0.5555555555555556,
              "#d8576b"
             ],
             [
              0.6666666666666666,
              "#ed7953"
             ],
             [
              0.7777777777777778,
              "#fb9f3a"
             ],
             [
              0.8888888888888888,
              "#fdca26"
             ],
             [
              1,
              "#f0f921"
             ]
            ],
            "type": "surface"
           }
          ],
          "table": [
           {
            "cells": {
             "fill": {
              "color": "#EBF0F8"
             },
             "line": {
              "color": "white"
             }
            },
            "header": {
             "fill": {
              "color": "#C8D4E3"
             },
             "line": {
              "color": "white"
             }
            },
            "type": "table"
           }
          ]
         },
         "layout": {
          "annotationdefaults": {
           "arrowcolor": "#2a3f5f",
           "arrowhead": 0,
           "arrowwidth": 1
          },
          "autotypenumbers": "strict",
          "coloraxis": {
           "colorbar": {
            "outlinewidth": 0,
            "ticks": ""
           }
          },
          "colorscale": {
           "diverging": [
            [
             0,
             "#8e0152"
            ],
            [
             0.1,
             "#c51b7d"
            ],
            [
             0.2,
             "#de77ae"
            ],
            [
             0.3,
             "#f1b6da"
            ],
            [
             0.4,
             "#fde0ef"
            ],
            [
             0.5,
             "#f7f7f7"
            ],
            [
             0.6,
             "#e6f5d0"
            ],
            [
             0.7,
             "#b8e186"
            ],
            [
             0.8,
             "#7fbc41"
            ],
            [
             0.9,
             "#4d9221"
            ],
            [
             1,
             "#276419"
            ]
           ],
           "sequential": [
            [
             0,
             "#0d0887"
            ],
            [
             0.1111111111111111,
             "#46039f"
            ],
            [
             0.2222222222222222,
             "#7201a8"
            ],
            [
             0.3333333333333333,
             "#9c179e"
            ],
            [
             0.4444444444444444,
             "#bd3786"
            ],
            [
             0.5555555555555556,
             "#d8576b"
            ],
            [
             0.6666666666666666,
             "#ed7953"
            ],
            [
             0.7777777777777778,
             "#fb9f3a"
            ],
            [
             0.8888888888888888,
             "#fdca26"
            ],
            [
             1,
             "#f0f921"
            ]
           ],
           "sequentialminus": [
            [
             0,
             "#0d0887"
            ],
            [
             0.1111111111111111,
             "#46039f"
            ],
            [
             0.2222222222222222,
             "#7201a8"
            ],
            [
             0.3333333333333333,
             "#9c179e"
            ],
            [
             0.4444444444444444,
             "#bd3786"
            ],
            [
             0.5555555555555556,
             "#d8576b"
            ],
            [
             0.6666666666666666,
             "#ed7953"
            ],
            [
             0.7777777777777778,
             "#fb9f3a"
            ],
            [
             0.8888888888888888,
             "#fdca26"
            ],
            [
             1,
             "#f0f921"
            ]
           ]
          },
          "colorway": [
           "#636efa",
           "#EF553B",
           "#00cc96",
           "#ab63fa",
           "#FFA15A",
           "#19d3f3",
           "#FF6692",
           "#B6E880",
           "#FF97FF",
           "#FECB52"
          ],
          "font": {
           "color": "#2a3f5f"
          },
          "geo": {
           "bgcolor": "white",
           "lakecolor": "white",
           "landcolor": "#E5ECF6",
           "showlakes": true,
           "showland": true,
           "subunitcolor": "white"
          },
          "hoverlabel": {
           "align": "left"
          },
          "hovermode": "closest",
          "mapbox": {
           "style": "light"
          },
          "paper_bgcolor": "white",
          "plot_bgcolor": "#E5ECF6",
          "polar": {
           "angularaxis": {
            "gridcolor": "white",
            "linecolor": "white",
            "ticks": ""
           },
           "bgcolor": "#E5ECF6",
           "radialaxis": {
            "gridcolor": "white",
            "linecolor": "white",
            "ticks": ""
           }
          },
          "scene": {
           "xaxis": {
            "backgroundcolor": "#E5ECF6",
            "gridcolor": "white",
            "gridwidth": 2,
            "linecolor": "white",
            "showbackground": true,
            "ticks": "",
            "zerolinecolor": "white"
           },
           "yaxis": {
            "backgroundcolor": "#E5ECF6",
            "gridcolor": "white",
            "gridwidth": 2,
            "linecolor": "white",
            "showbackground": true,
            "ticks": "",
            "zerolinecolor": "white"
           },
           "zaxis": {
            "backgroundcolor": "#E5ECF6",
            "gridcolor": "white",
            "gridwidth": 2,
            "linecolor": "white",
            "showbackground": true,
            "ticks": "",
            "zerolinecolor": "white"
           }
          },
          "shapedefaults": {
           "line": {
            "color": "#2a3f5f"
           }
          },
          "ternary": {
           "aaxis": {
            "gridcolor": "white",
            "linecolor": "white",
            "ticks": ""
           },
           "baxis": {
            "gridcolor": "white",
            "linecolor": "white",
            "ticks": ""
           },
           "bgcolor": "#E5ECF6",
           "caxis": {
            "gridcolor": "white",
            "linecolor": "white",
            "ticks": ""
           }
          },
          "title": {
           "x": 0.05
          },
          "xaxis": {
           "automargin": true,
           "gridcolor": "white",
           "linecolor": "white",
           "ticks": "",
           "title": {
            "standoff": 15
           },
           "zerolinecolor": "white",
           "zerolinewidth": 2
          },
          "yaxis": {
           "automargin": true,
           "gridcolor": "white",
           "linecolor": "white",
           "ticks": "",
           "title": {
            "standoff": 15
           },
           "zerolinecolor": "white",
           "zerolinewidth": 2
          }
         }
        },
        "xaxis": {
         "anchor": "y",
         "domain": [
          0,
          1
         ],
         "title": {
          "text": "x_bin4"
         }
        },
        "yaxis": {
         "anchor": "x",
         "domain": [
          0,
          1
         ],
         "title": {
          "text": "count"
         }
        }
       }
      }
     },
     "metadata": {},
     "output_type": "display_data"
    },
    {
     "name": "stdout",
     "output_type": "stream",
     "text": [
      "P-value: 0.0\n"
     ]
    },
    {
     "data": {
      "application/vnd.plotly.v1+json": {
       "config": {
        "plotlyServerURL": "https://plot.ly"
       },
       "data": [
        {
         "alignmentgroup": "True",
         "bingroup": "x",
         "hovertemplate": "y=0<br>x_cat0=%{x}<br>count=%{y}<extra></extra>",
         "legendgroup": "0",
         "marker": {
          "color": "#636efa",
          "pattern": {
           "shape": ""
          }
         },
         "name": "0",
         "offsetgroup": "0",
         "orientation": "v",
         "showlegend": true,
         "texttemplate": "%{value}",
         "type": "histogram",
         "x": [
          "cat0",
          "cat2",
          "cat1",
          "cat2",
          "cat0",
          "cat2",
          "cat0",
          "cat0",
          "cat2",
          "cat1",
          "cat2",
          "cat0",
          "cat0",
          "cat2",
          "cat0",
          "cat2",
          "cat0",
          "cat1",
          "cat0",
          "cat1",
          "cat2",
          "cat0",
          "cat2",
          "cat2",
          "cat1",
          "cat2",
          "cat2",
          "cat1",
          "cat2",
          "cat2",
          "cat0",
          "cat2",
          "cat0",
          "cat2",
          "cat1",
          "cat2",
          "cat1",
          "cat2",
          "cat1",
          "cat2",
          "cat2",
          "cat1",
          "cat0",
          "cat1",
          "cat0",
          "cat1",
          "cat0",
          "cat0",
          "cat1",
          "cat1",
          "cat2",
          "cat1",
          "cat0",
          "cat1",
          "cat1",
          "cat2",
          "cat2",
          "cat2",
          "cat1",
          "cat2",
          "cat1",
          "cat0",
          "cat1",
          "cat1",
          "cat2",
          "cat0",
          "cat1",
          "cat2",
          "cat1",
          "cat0",
          "cat2",
          "cat1",
          "cat2",
          "cat2",
          "cat2",
          "cat0",
          "cat0",
          "cat0",
          "cat0",
          "cat2",
          "cat2",
          "cat0",
          "cat2",
          "cat0",
          "cat1",
          "cat0",
          "cat0",
          "cat2",
          "cat2",
          "cat0",
          "cat2",
          "cat2",
          "cat1",
          "cat0",
          "cat0",
          "cat0",
          "cat1",
          "cat0",
          "cat0",
          "cat1",
          "cat0",
          "cat2",
          "cat1",
          "cat2",
          "cat1",
          "cat0",
          "cat2",
          "cat0",
          "cat2",
          "cat0",
          "cat2",
          "cat1",
          "cat0",
          "cat2",
          "cat0",
          "cat1",
          "cat2",
          "cat0",
          "cat2",
          "cat2",
          "cat2",
          "cat1",
          "cat0",
          "cat1",
          "cat0",
          "cat0",
          "cat0",
          "cat0",
          "cat2",
          "cat1",
          "cat2",
          "cat1",
          "cat2",
          "cat0",
          "cat1",
          "cat1",
          "cat1",
          "cat2",
          "cat1",
          "cat2",
          "cat2",
          "cat0",
          "cat0",
          "cat0",
          "cat1",
          "cat0",
          "cat0",
          "cat1",
          "cat0",
          "cat2",
          "cat1",
          "cat2",
          "cat1",
          "cat1",
          "cat1",
          "cat0",
          "cat0",
          "cat2",
          "cat1",
          "cat2",
          "cat0",
          "cat2",
          "cat2",
          "cat1",
          "cat2",
          "cat2",
          "cat2",
          "cat0",
          "cat0",
          "cat2",
          "cat2",
          "cat2",
          "cat2",
          "cat0",
          "cat0",
          "cat1",
          "cat2",
          "cat1",
          "cat1",
          "cat0",
          "cat2",
          "cat1",
          "cat0",
          "cat1",
          "cat0",
          "cat2",
          "cat1",
          "cat1",
          "cat2",
          "cat1",
          "cat2",
          "cat0",
          "cat2",
          "cat1",
          "cat2",
          "cat2",
          "cat2",
          "cat0",
          "cat0",
          "cat1",
          "cat0",
          "cat1",
          "cat2",
          "cat0",
          "cat1",
          "cat2",
          "cat1",
          "cat0",
          "cat2",
          "cat1",
          "cat0",
          "cat1",
          "cat0",
          "cat0",
          "cat0",
          "cat1",
          "cat2",
          "cat1",
          "cat1",
          "cat2",
          "cat2",
          "cat2",
          "cat2",
          "cat1",
          "cat0",
          "cat2",
          "cat2",
          "cat2",
          "cat2",
          "cat1",
          "cat2",
          "cat1",
          "cat1",
          "cat0",
          "cat1",
          "cat2",
          "cat0",
          "cat2",
          "cat1",
          "cat1",
          "cat0",
          "cat1",
          "cat2",
          "cat2",
          "cat1",
          "cat1",
          "cat2",
          "cat0",
          "cat2",
          "cat1",
          "cat1"
         ],
         "xaxis": "x",
         "yaxis": "y"
        },
        {
         "alignmentgroup": "True",
         "bingroup": "x",
         "hovertemplate": "y=1<br>x_cat0=%{x}<br>count=%{y}<extra></extra>",
         "legendgroup": "1",
         "marker": {
          "color": "#EF553B",
          "pattern": {
           "shape": ""
          }
         },
         "name": "1",
         "offsetgroup": "1",
         "orientation": "v",
         "showlegend": true,
         "texttemplate": "%{value}",
         "type": "histogram",
         "x": [
          "cat1",
          "cat0",
          "cat1",
          "cat1",
          "cat0",
          "cat1",
          "cat0",
          "cat2",
          "cat1",
          "cat1",
          "cat1",
          "cat1",
          "cat1",
          "cat2",
          "cat1",
          "cat0",
          "cat0",
          "cat1",
          "cat0",
          "cat2",
          "cat1",
          "cat1",
          "cat1",
          "cat0",
          "cat1",
          "cat1",
          "cat1",
          "cat1",
          "cat0",
          "cat0",
          "cat1",
          "cat1",
          "cat1",
          "cat2",
          "cat2",
          "cat1",
          "cat1",
          "cat2",
          "cat1",
          "cat1",
          "cat1",
          "cat1",
          "cat1",
          "cat1",
          "cat1",
          "cat1",
          "cat1",
          "cat1",
          "cat1",
          "cat0",
          "cat1",
          "cat1",
          "cat1",
          "cat1",
          "cat1",
          "cat1",
          "cat1",
          "cat1",
          "cat1",
          "cat1",
          "cat1",
          "cat1",
          "cat1",
          "cat1",
          "cat1",
          "cat1",
          "cat0",
          "cat0",
          "cat1",
          "cat1",
          "cat1",
          "cat2",
          "cat1",
          "cat0",
          "cat1",
          "cat1",
          "cat1",
          "cat1",
          "cat1",
          "cat0",
          "cat1",
          "cat1",
          "cat1",
          "cat1",
          "cat1",
          "cat1",
          "cat1",
          "cat0",
          "cat1",
          "cat1",
          "cat1",
          "cat0",
          "cat0",
          "cat1",
          "cat1",
          "cat2",
          "cat2",
          "cat1",
          "cat2",
          "cat1",
          "cat1",
          "cat0",
          "cat1",
          "cat1",
          "cat2",
          "cat1",
          "cat1",
          "cat1",
          "cat1",
          "cat1",
          "cat2",
          "cat1",
          "cat1",
          "cat0",
          "cat0",
          "cat2",
          "cat1",
          "cat1",
          "cat0",
          "cat1",
          "cat1",
          "cat1",
          "cat1",
          "cat1",
          "cat1",
          "cat1",
          "cat0",
          "cat1",
          "cat1",
          "cat2",
          "cat1",
          "cat0",
          "cat1",
          "cat1",
          "cat1",
          "cat2",
          "cat1",
          "cat1",
          "cat1",
          "cat2",
          "cat1",
          "cat0",
          "cat1",
          "cat1",
          "cat1",
          "cat0",
          "cat1",
          "cat0",
          "cat2",
          "cat1",
          "cat1",
          "cat1",
          "cat1",
          "cat1",
          "cat0",
          "cat1",
          "cat0",
          "cat1",
          "cat1",
          "cat1",
          "cat1",
          "cat0",
          "cat1",
          "cat1",
          "cat2",
          "cat1",
          "cat1",
          "cat1",
          "cat1",
          "cat1",
          "cat1",
          "cat0",
          "cat0",
          "cat0",
          "cat1",
          "cat1",
          "cat1",
          "cat1",
          "cat1",
          "cat0",
          "cat0",
          "cat1",
          "cat1",
          "cat1",
          "cat1",
          "cat2",
          "cat1",
          "cat1",
          "cat2",
          "cat0",
          "cat1",
          "cat1",
          "cat2",
          "cat1",
          "cat1",
          "cat2",
          "cat1",
          "cat0",
          "cat0",
          "cat2",
          "cat1",
          "cat0",
          "cat0",
          "cat1",
          "cat1",
          "cat1",
          "cat2",
          "cat1",
          "cat1",
          "cat2",
          "cat1",
          "cat1",
          "cat1",
          "cat1",
          "cat1",
          "cat0",
          "cat0",
          "cat0",
          "cat1",
          "cat1",
          "cat0",
          "cat1",
          "cat1",
          "cat2",
          "cat1",
          "cat1",
          "cat1",
          "cat1",
          "cat1",
          "cat0",
          "cat1",
          "cat0",
          "cat1",
          "cat1",
          "cat1",
          "cat1",
          "cat1",
          "cat1",
          "cat1",
          "cat1",
          "cat1",
          "cat1",
          "cat1",
          "cat0",
          "cat1",
          "cat1",
          "cat0",
          "cat2",
          "cat1"
         ],
         "xaxis": "x",
         "yaxis": "y"
        }
       ],
       "layout": {
        "barmode": "group",
        "legend": {
         "title": {
          "text": "y"
         },
         "tracegroupgap": 0
        },
        "margin": {
         "t": 60
        },
        "template": {
         "data": {
          "bar": [
           {
            "error_x": {
             "color": "#2a3f5f"
            },
            "error_y": {
             "color": "#2a3f5f"
            },
            "marker": {
             "line": {
              "color": "#E5ECF6",
              "width": 0.5
             },
             "pattern": {
              "fillmode": "overlay",
              "size": 10,
              "solidity": 0.2
             }
            },
            "type": "bar"
           }
          ],
          "barpolar": [
           {
            "marker": {
             "line": {
              "color": "#E5ECF6",
              "width": 0.5
             },
             "pattern": {
              "fillmode": "overlay",
              "size": 10,
              "solidity": 0.2
             }
            },
            "type": "barpolar"
           }
          ],
          "carpet": [
           {
            "aaxis": {
             "endlinecolor": "#2a3f5f",
             "gridcolor": "white",
             "linecolor": "white",
             "minorgridcolor": "white",
             "startlinecolor": "#2a3f5f"
            },
            "baxis": {
             "endlinecolor": "#2a3f5f",
             "gridcolor": "white",
             "linecolor": "white",
             "minorgridcolor": "white",
             "startlinecolor": "#2a3f5f"
            },
            "type": "carpet"
           }
          ],
          "choropleth": [
           {
            "colorbar": {
             "outlinewidth": 0,
             "ticks": ""
            },
            "type": "choropleth"
           }
          ],
          "contour": [
           {
            "colorbar": {
             "outlinewidth": 0,
             "ticks": ""
            },
            "colorscale": [
             [
              0,
              "#0d0887"
             ],
             [
              0.1111111111111111,
              "#46039f"
             ],
             [
              0.2222222222222222,
              "#7201a8"
             ],
             [
              0.3333333333333333,
              "#9c179e"
             ],
             [
              0.4444444444444444,
              "#bd3786"
             ],
             [
              0.5555555555555556,
              "#d8576b"
             ],
             [
              0.6666666666666666,
              "#ed7953"
             ],
             [
              0.7777777777777778,
              "#fb9f3a"
             ],
             [
              0.8888888888888888,
              "#fdca26"
             ],
             [
              1,
              "#f0f921"
             ]
            ],
            "type": "contour"
           }
          ],
          "contourcarpet": [
           {
            "colorbar": {
             "outlinewidth": 0,
             "ticks": ""
            },
            "type": "contourcarpet"
           }
          ],
          "heatmap": [
           {
            "colorbar": {
             "outlinewidth": 0,
             "ticks": ""
            },
            "colorscale": [
             [
              0,
              "#0d0887"
             ],
             [
              0.1111111111111111,
              "#46039f"
             ],
             [
              0.2222222222222222,
              "#7201a8"
             ],
             [
              0.3333333333333333,
              "#9c179e"
             ],
             [
              0.4444444444444444,
              "#bd3786"
             ],
             [
              0.5555555555555556,
              "#d8576b"
             ],
             [
              0.6666666666666666,
              "#ed7953"
             ],
             [
              0.7777777777777778,
              "#fb9f3a"
             ],
             [
              0.8888888888888888,
              "#fdca26"
             ],
             [
              1,
              "#f0f921"
             ]
            ],
            "type": "heatmap"
           }
          ],
          "heatmapgl": [
           {
            "colorbar": {
             "outlinewidth": 0,
             "ticks": ""
            },
            "colorscale": [
             [
              0,
              "#0d0887"
             ],
             [
              0.1111111111111111,
              "#46039f"
             ],
             [
              0.2222222222222222,
              "#7201a8"
             ],
             [
              0.3333333333333333,
              "#9c179e"
             ],
             [
              0.4444444444444444,
              "#bd3786"
             ],
             [
              0.5555555555555556,
              "#d8576b"
             ],
             [
              0.6666666666666666,
              "#ed7953"
             ],
             [
              0.7777777777777778,
              "#fb9f3a"
             ],
             [
              0.8888888888888888,
              "#fdca26"
             ],
             [
              1,
              "#f0f921"
             ]
            ],
            "type": "heatmapgl"
           }
          ],
          "histogram": [
           {
            "marker": {
             "pattern": {
              "fillmode": "overlay",
              "size": 10,
              "solidity": 0.2
             }
            },
            "type": "histogram"
           }
          ],
          "histogram2d": [
           {
            "colorbar": {
             "outlinewidth": 0,
             "ticks": ""
            },
            "colorscale": [
             [
              0,
              "#0d0887"
             ],
             [
              0.1111111111111111,
              "#46039f"
             ],
             [
              0.2222222222222222,
              "#7201a8"
             ],
             [
              0.3333333333333333,
              "#9c179e"
             ],
             [
              0.4444444444444444,
              "#bd3786"
             ],
             [
              0.5555555555555556,
              "#d8576b"
             ],
             [
              0.6666666666666666,
              "#ed7953"
             ],
             [
              0.7777777777777778,
              "#fb9f3a"
             ],
             [
              0.8888888888888888,
              "#fdca26"
             ],
             [
              1,
              "#f0f921"
             ]
            ],
            "type": "histogram2d"
           }
          ],
          "histogram2dcontour": [
           {
            "colorbar": {
             "outlinewidth": 0,
             "ticks": ""
            },
            "colorscale": [
             [
              0,
              "#0d0887"
             ],
             [
              0.1111111111111111,
              "#46039f"
             ],
             [
              0.2222222222222222,
              "#7201a8"
             ],
             [
              0.3333333333333333,
              "#9c179e"
             ],
             [
              0.4444444444444444,
              "#bd3786"
             ],
             [
              0.5555555555555556,
              "#d8576b"
             ],
             [
              0.6666666666666666,
              "#ed7953"
             ],
             [
              0.7777777777777778,
              "#fb9f3a"
             ],
             [
              0.8888888888888888,
              "#fdca26"
             ],
             [
              1,
              "#f0f921"
             ]
            ],
            "type": "histogram2dcontour"
           }
          ],
          "mesh3d": [
           {
            "colorbar": {
             "outlinewidth": 0,
             "ticks": ""
            },
            "type": "mesh3d"
           }
          ],
          "parcoords": [
           {
            "line": {
             "colorbar": {
              "outlinewidth": 0,
              "ticks": ""
             }
            },
            "type": "parcoords"
           }
          ],
          "pie": [
           {
            "automargin": true,
            "type": "pie"
           }
          ],
          "scatter": [
           {
            "fillpattern": {
             "fillmode": "overlay",
             "size": 10,
             "solidity": 0.2
            },
            "type": "scatter"
           }
          ],
          "scatter3d": [
           {
            "line": {
             "colorbar": {
              "outlinewidth": 0,
              "ticks": ""
             }
            },
            "marker": {
             "colorbar": {
              "outlinewidth": 0,
              "ticks": ""
             }
            },
            "type": "scatter3d"
           }
          ],
          "scattercarpet": [
           {
            "marker": {
             "colorbar": {
              "outlinewidth": 0,
              "ticks": ""
             }
            },
            "type": "scattercarpet"
           }
          ],
          "scattergeo": [
           {
            "marker": {
             "colorbar": {
              "outlinewidth": 0,
              "ticks": ""
             }
            },
            "type": "scattergeo"
           }
          ],
          "scattergl": [
           {
            "marker": {
             "colorbar": {
              "outlinewidth": 0,
              "ticks": ""
             }
            },
            "type": "scattergl"
           }
          ],
          "scattermapbox": [
           {
            "marker": {
             "colorbar": {
              "outlinewidth": 0,
              "ticks": ""
             }
            },
            "type": "scattermapbox"
           }
          ],
          "scatterpolar": [
           {
            "marker": {
             "colorbar": {
              "outlinewidth": 0,
              "ticks": ""
             }
            },
            "type": "scatterpolar"
           }
          ],
          "scatterpolargl": [
           {
            "marker": {
             "colorbar": {
              "outlinewidth": 0,
              "ticks": ""
             }
            },
            "type": "scatterpolargl"
           }
          ],
          "scatterternary": [
           {
            "marker": {
             "colorbar": {
              "outlinewidth": 0,
              "ticks": ""
             }
            },
            "type": "scatterternary"
           }
          ],
          "surface": [
           {
            "colorbar": {
             "outlinewidth": 0,
             "ticks": ""
            },
            "colorscale": [
             [
              0,
              "#0d0887"
             ],
             [
              0.1111111111111111,
              "#46039f"
             ],
             [
              0.2222222222222222,
              "#7201a8"
             ],
             [
              0.3333333333333333,
              "#9c179e"
             ],
             [
              0.4444444444444444,
              "#bd3786"
             ],
             [
              0.5555555555555556,
              "#d8576b"
             ],
             [
              0.6666666666666666,
              "#ed7953"
             ],
             [
              0.7777777777777778,
              "#fb9f3a"
             ],
             [
              0.8888888888888888,
              "#fdca26"
             ],
             [
              1,
              "#f0f921"
             ]
            ],
            "type": "surface"
           }
          ],
          "table": [
           {
            "cells": {
             "fill": {
              "color": "#EBF0F8"
             },
             "line": {
              "color": "white"
             }
            },
            "header": {
             "fill": {
              "color": "#C8D4E3"
             },
             "line": {
              "color": "white"
             }
            },
            "type": "table"
           }
          ]
         },
         "layout": {
          "annotationdefaults": {
           "arrowcolor": "#2a3f5f",
           "arrowhead": 0,
           "arrowwidth": 1
          },
          "autotypenumbers": "strict",
          "coloraxis": {
           "colorbar": {
            "outlinewidth": 0,
            "ticks": ""
           }
          },
          "colorscale": {
           "diverging": [
            [
             0,
             "#8e0152"
            ],
            [
             0.1,
             "#c51b7d"
            ],
            [
             0.2,
             "#de77ae"
            ],
            [
             0.3,
             "#f1b6da"
            ],
            [
             0.4,
             "#fde0ef"
            ],
            [
             0.5,
             "#f7f7f7"
            ],
            [
             0.6,
             "#e6f5d0"
            ],
            [
             0.7,
             "#b8e186"
            ],
            [
             0.8,
             "#7fbc41"
            ],
            [
             0.9,
             "#4d9221"
            ],
            [
             1,
             "#276419"
            ]
           ],
           "sequential": [
            [
             0,
             "#0d0887"
            ],
            [
             0.1111111111111111,
             "#46039f"
            ],
            [
             0.2222222222222222,
             "#7201a8"
            ],
            [
             0.3333333333333333,
             "#9c179e"
            ],
            [
             0.4444444444444444,
             "#bd3786"
            ],
            [
             0.5555555555555556,
             "#d8576b"
            ],
            [
             0.6666666666666666,
             "#ed7953"
            ],
            [
             0.7777777777777778,
             "#fb9f3a"
            ],
            [
             0.8888888888888888,
             "#fdca26"
            ],
            [
             1,
             "#f0f921"
            ]
           ],
           "sequentialminus": [
            [
             0,
             "#0d0887"
            ],
            [
             0.1111111111111111,
             "#46039f"
            ],
            [
             0.2222222222222222,
             "#7201a8"
            ],
            [
             0.3333333333333333,
             "#9c179e"
            ],
            [
             0.4444444444444444,
             "#bd3786"
            ],
            [
             0.5555555555555556,
             "#d8576b"
            ],
            [
             0.6666666666666666,
             "#ed7953"
            ],
            [
             0.7777777777777778,
             "#fb9f3a"
            ],
            [
             0.8888888888888888,
             "#fdca26"
            ],
            [
             1,
             "#f0f921"
            ]
           ]
          },
          "colorway": [
           "#636efa",
           "#EF553B",
           "#00cc96",
           "#ab63fa",
           "#FFA15A",
           "#19d3f3",
           "#FF6692",
           "#B6E880",
           "#FF97FF",
           "#FECB52"
          ],
          "font": {
           "color": "#2a3f5f"
          },
          "geo": {
           "bgcolor": "white",
           "lakecolor": "white",
           "landcolor": "#E5ECF6",
           "showlakes": true,
           "showland": true,
           "subunitcolor": "white"
          },
          "hoverlabel": {
           "align": "left"
          },
          "hovermode": "closest",
          "mapbox": {
           "style": "light"
          },
          "paper_bgcolor": "white",
          "plot_bgcolor": "#E5ECF6",
          "polar": {
           "angularaxis": {
            "gridcolor": "white",
            "linecolor": "white",
            "ticks": ""
           },
           "bgcolor": "#E5ECF6",
           "radialaxis": {
            "gridcolor": "white",
            "linecolor": "white",
            "ticks": ""
           }
          },
          "scene": {
           "xaxis": {
            "backgroundcolor": "#E5ECF6",
            "gridcolor": "white",
            "gridwidth": 2,
            "linecolor": "white",
            "showbackground": true,
            "ticks": "",
            "zerolinecolor": "white"
           },
           "yaxis": {
            "backgroundcolor": "#E5ECF6",
            "gridcolor": "white",
            "gridwidth": 2,
            "linecolor": "white",
            "showbackground": true,
            "ticks": "",
            "zerolinecolor": "white"
           },
           "zaxis": {
            "backgroundcolor": "#E5ECF6",
            "gridcolor": "white",
            "gridwidth": 2,
            "linecolor": "white",
            "showbackground": true,
            "ticks": "",
            "zerolinecolor": "white"
           }
          },
          "shapedefaults": {
           "line": {
            "color": "#2a3f5f"
           }
          },
          "ternary": {
           "aaxis": {
            "gridcolor": "white",
            "linecolor": "white",
            "ticks": ""
           },
           "baxis": {
            "gridcolor": "white",
            "linecolor": "white",
            "ticks": ""
           },
           "bgcolor": "#E5ECF6",
           "caxis": {
            "gridcolor": "white",
            "linecolor": "white",
            "ticks": ""
           }
          },
          "title": {
           "x": 0.05
          },
          "xaxis": {
           "automargin": true,
           "gridcolor": "white",
           "linecolor": "white",
           "ticks": "",
           "title": {
            "standoff": 15
           },
           "zerolinecolor": "white",
           "zerolinewidth": 2
          },
          "yaxis": {
           "automargin": true,
           "gridcolor": "white",
           "linecolor": "white",
           "ticks": "",
           "title": {
            "standoff": 15
           },
           "zerolinecolor": "white",
           "zerolinewidth": 2
          }
         }
        },
        "xaxis": {
         "anchor": "y",
         "domain": [
          0,
          1
         ],
         "title": {
          "text": "x_cat0"
         }
        },
        "yaxis": {
         "anchor": "x",
         "domain": [
          0,
          1
         ],
         "title": {
          "text": "count"
         }
        }
       }
      }
     },
     "metadata": {},
     "output_type": "display_data"
    },
    {
     "name": "stdout",
     "output_type": "stream",
     "text": [
      "P-value: 0.0\n"
     ]
    },
    {
     "data": {
      "application/vnd.plotly.v1+json": {
       "config": {
        "plotlyServerURL": "https://plot.ly"
       },
       "data": [
        {
         "alignmentgroup": "True",
         "bingroup": "x",
         "hovertemplate": "y=0<br>x_cat1=%{x}<br>count=%{y}<extra></extra>",
         "legendgroup": "0",
         "marker": {
          "color": "#636efa",
          "pattern": {
           "shape": ""
          }
         },
         "name": "0",
         "offsetgroup": "0",
         "orientation": "v",
         "showlegend": true,
         "texttemplate": "%{value}",
         "type": "histogram",
         "x": [
          "cat2",
          "cat1",
          "cat2",
          "cat1",
          "cat1",
          "cat0",
          "cat2",
          "cat0",
          "cat1",
          "cat0",
          "cat1",
          "cat1",
          "cat2",
          "cat2",
          "cat2",
          "cat1",
          "cat2",
          "cat2",
          "cat0",
          "cat2",
          "cat0",
          "cat1",
          "cat0",
          "cat2",
          "cat2",
          "cat1",
          "cat1",
          "cat2",
          "cat2",
          "cat1",
          "cat0",
          "cat2",
          "cat0",
          "cat2",
          "cat0",
          "cat1",
          "cat2",
          "cat1",
          "cat1",
          "cat2",
          "cat1",
          "cat2",
          "cat2",
          "cat0",
          "cat1",
          "cat2",
          "cat0",
          "cat2",
          "cat0",
          "cat0",
          "cat2",
          "cat1",
          "cat0",
          "cat2",
          "cat1",
          "cat2",
          "cat2",
          "cat0",
          "cat2",
          "cat2",
          "cat0",
          "cat1",
          "cat2",
          "cat2",
          "cat1",
          "cat1",
          "cat0",
          "cat1",
          "cat0",
          "cat0",
          "cat2",
          "cat1",
          "cat1",
          "cat2",
          "cat2",
          "cat1",
          "cat2",
          "cat2",
          "cat0",
          "cat0",
          "cat2",
          "cat0",
          "cat2",
          "cat2",
          "cat0",
          "cat2",
          "cat2",
          "cat0",
          "cat0",
          "cat0",
          "cat1",
          "cat1",
          "cat1",
          "cat2",
          "cat0",
          "cat0",
          "cat1",
          "cat0",
          "cat2",
          "cat0",
          "cat1",
          "cat0",
          "cat0",
          "cat1",
          "cat1",
          "cat2",
          "cat1",
          "cat1",
          "cat0",
          "cat0",
          "cat2",
          "cat1",
          "cat0",
          "cat1",
          "cat1",
          "cat1",
          "cat1",
          "cat1",
          "cat2",
          "cat2",
          "cat1",
          "cat0",
          "cat2",
          "cat1",
          "cat2",
          "cat1",
          "cat2",
          "cat0",
          "cat2",
          "cat0",
          "cat2",
          "cat1",
          "cat1",
          "cat1",
          "cat1",
          "cat1",
          "cat2",
          "cat2",
          "cat0",
          "cat1",
          "cat1",
          "cat2",
          "cat0",
          "cat2",
          "cat2",
          "cat2",
          "cat2",
          "cat0",
          "cat0",
          "cat0",
          "cat1",
          "cat2",
          "cat1",
          "cat0",
          "cat2",
          "cat2",
          "cat2",
          "cat2",
          "cat2",
          "cat1",
          "cat2",
          "cat1",
          "cat1",
          "cat1",
          "cat0",
          "cat1",
          "cat0",
          "cat0",
          "cat2",
          "cat1",
          "cat0",
          "cat1",
          "cat0",
          "cat0",
          "cat1",
          "cat2",
          "cat0",
          "cat0",
          "cat1",
          "cat0",
          "cat1",
          "cat0",
          "cat2",
          "cat1",
          "cat2",
          "cat1",
          "cat0",
          "cat0",
          "cat1",
          "cat1",
          "cat0",
          "cat2",
          "cat0",
          "cat0",
          "cat2",
          "cat0",
          "cat1",
          "cat1",
          "cat2",
          "cat1",
          "cat0",
          "cat1",
          "cat0",
          "cat2",
          "cat2",
          "cat1",
          "cat0",
          "cat0",
          "cat1",
          "cat0",
          "cat1",
          "cat0",
          "cat2",
          "cat2",
          "cat1",
          "cat2",
          "cat1",
          "cat1",
          "cat0",
          "cat2",
          "cat1",
          "cat1",
          "cat2",
          "cat1",
          "cat2",
          "cat2",
          "cat0",
          "cat1",
          "cat1",
          "cat1",
          "cat2",
          "cat2",
          "cat1",
          "cat2",
          "cat2",
          "cat2",
          "cat1",
          "cat0",
          "cat0",
          "cat0",
          "cat1",
          "cat1",
          "cat1",
          "cat2",
          "cat0",
          "cat2",
          "cat0",
          "cat2",
          "cat2",
          "cat1",
          "cat2"
         ],
         "xaxis": "x",
         "yaxis": "y"
        },
        {
         "alignmentgroup": "True",
         "bingroup": "x",
         "hovertemplate": "y=1<br>x_cat1=%{x}<br>count=%{y}<extra></extra>",
         "legendgroup": "1",
         "marker": {
          "color": "#EF553B",
          "pattern": {
           "shape": ""
          }
         },
         "name": "1",
         "offsetgroup": "1",
         "orientation": "v",
         "showlegend": true,
         "texttemplate": "%{value}",
         "type": "histogram",
         "x": [
          "cat2",
          "cat1",
          "cat0",
          "cat1",
          "cat1",
          "cat0",
          "cat1",
          "cat0",
          "cat1",
          "cat1",
          "cat1",
          "cat1",
          "cat1",
          "cat2",
          "cat2",
          "cat1",
          "cat1",
          "cat0",
          "cat1",
          "cat1",
          "cat1",
          "cat1",
          "cat1",
          "cat1",
          "cat1",
          "cat1",
          "cat2",
          "cat0",
          "cat1",
          "cat1",
          "cat0",
          "cat0",
          "cat1",
          "cat1",
          "cat1",
          "cat1",
          "cat1",
          "cat1",
          "cat0",
          "cat0",
          "cat1",
          "cat1",
          "cat1",
          "cat2",
          "cat1",
          "cat1",
          "cat0",
          "cat1",
          "cat1",
          "cat1",
          "cat1",
          "cat1",
          "cat1",
          "cat1",
          "cat1",
          "cat1",
          "cat2",
          "cat0",
          "cat1",
          "cat1",
          "cat1",
          "cat1",
          "cat1",
          "cat0",
          "cat1",
          "cat1",
          "cat1",
          "cat1",
          "cat1",
          "cat1",
          "cat1",
          "cat1",
          "cat0",
          "cat1",
          "cat1",
          "cat0",
          "cat1",
          "cat1",
          "cat0",
          "cat1",
          "cat0",
          "cat1",
          "cat1",
          "cat1",
          "cat2",
          "cat1",
          "cat0",
          "cat0",
          "cat1",
          "cat1",
          "cat1",
          "cat1",
          "cat0",
          "cat0",
          "cat1",
          "cat2",
          "cat1",
          "cat1",
          "cat1",
          "cat1",
          "cat0",
          "cat1",
          "cat1",
          "cat0",
          "cat1",
          "cat1",
          "cat1",
          "cat1",
          "cat1",
          "cat1",
          "cat1",
          "cat2",
          "cat1",
          "cat0",
          "cat1",
          "cat0",
          "cat1",
          "cat1",
          "cat1",
          "cat2",
          "cat1",
          "cat1",
          "cat0",
          "cat2",
          "cat0",
          "cat1",
          "cat1",
          "cat1",
          "cat1",
          "cat1",
          "cat1",
          "cat0",
          "cat1",
          "cat2",
          "cat0",
          "cat0",
          "cat1",
          "cat1",
          "cat2",
          "cat1",
          "cat1",
          "cat1",
          "cat1",
          "cat1",
          "cat1",
          "cat1",
          "cat1",
          "cat1",
          "cat2",
          "cat0",
          "cat2",
          "cat1",
          "cat1",
          "cat1",
          "cat1",
          "cat1",
          "cat1",
          "cat1",
          "cat1",
          "cat2",
          "cat1",
          "cat1",
          "cat0",
          "cat1",
          "cat0",
          "cat1",
          "cat1",
          "cat1",
          "cat1",
          "cat1",
          "cat1",
          "cat1",
          "cat0",
          "cat1",
          "cat1",
          "cat1",
          "cat2",
          "cat1",
          "cat1",
          "cat1",
          "cat1",
          "cat1",
          "cat0",
          "cat1",
          "cat0",
          "cat1",
          "cat2",
          "cat1",
          "cat0",
          "cat2",
          "cat1",
          "cat1",
          "cat1",
          "cat1",
          "cat1",
          "cat1",
          "cat1",
          "cat1",
          "cat2",
          "cat1",
          "cat0",
          "cat1",
          "cat0",
          "cat1",
          "cat1",
          "cat1",
          "cat1",
          "cat1",
          "cat1",
          "cat1",
          "cat1",
          "cat1",
          "cat1",
          "cat1",
          "cat1",
          "cat1",
          "cat1",
          "cat0",
          "cat2",
          "cat2",
          "cat1",
          "cat1",
          "cat2",
          "cat0",
          "cat0",
          "cat1",
          "cat1",
          "cat1",
          "cat1",
          "cat1",
          "cat1",
          "cat2",
          "cat1",
          "cat2",
          "cat1",
          "cat1",
          "cat2",
          "cat0",
          "cat1",
          "cat0",
          "cat1",
          "cat1",
          "cat1",
          "cat0",
          "cat1",
          "cat1",
          "cat1",
          "cat1",
          "cat1"
         ],
         "xaxis": "x",
         "yaxis": "y"
        }
       ],
       "layout": {
        "barmode": "group",
        "legend": {
         "title": {
          "text": "y"
         },
         "tracegroupgap": 0
        },
        "margin": {
         "t": 60
        },
        "template": {
         "data": {
          "bar": [
           {
            "error_x": {
             "color": "#2a3f5f"
            },
            "error_y": {
             "color": "#2a3f5f"
            },
            "marker": {
             "line": {
              "color": "#E5ECF6",
              "width": 0.5
             },
             "pattern": {
              "fillmode": "overlay",
              "size": 10,
              "solidity": 0.2
             }
            },
            "type": "bar"
           }
          ],
          "barpolar": [
           {
            "marker": {
             "line": {
              "color": "#E5ECF6",
              "width": 0.5
             },
             "pattern": {
              "fillmode": "overlay",
              "size": 10,
              "solidity": 0.2
             }
            },
            "type": "barpolar"
           }
          ],
          "carpet": [
           {
            "aaxis": {
             "endlinecolor": "#2a3f5f",
             "gridcolor": "white",
             "linecolor": "white",
             "minorgridcolor": "white",
             "startlinecolor": "#2a3f5f"
            },
            "baxis": {
             "endlinecolor": "#2a3f5f",
             "gridcolor": "white",
             "linecolor": "white",
             "minorgridcolor": "white",
             "startlinecolor": "#2a3f5f"
            },
            "type": "carpet"
           }
          ],
          "choropleth": [
           {
            "colorbar": {
             "outlinewidth": 0,
             "ticks": ""
            },
            "type": "choropleth"
           }
          ],
          "contour": [
           {
            "colorbar": {
             "outlinewidth": 0,
             "ticks": ""
            },
            "colorscale": [
             [
              0,
              "#0d0887"
             ],
             [
              0.1111111111111111,
              "#46039f"
             ],
             [
              0.2222222222222222,
              "#7201a8"
             ],
             [
              0.3333333333333333,
              "#9c179e"
             ],
             [
              0.4444444444444444,
              "#bd3786"
             ],
             [
              0.5555555555555556,
              "#d8576b"
             ],
             [
              0.6666666666666666,
              "#ed7953"
             ],
             [
              0.7777777777777778,
              "#fb9f3a"
             ],
             [
              0.8888888888888888,
              "#fdca26"
             ],
             [
              1,
              "#f0f921"
             ]
            ],
            "type": "contour"
           }
          ],
          "contourcarpet": [
           {
            "colorbar": {
             "outlinewidth": 0,
             "ticks": ""
            },
            "type": "contourcarpet"
           }
          ],
          "heatmap": [
           {
            "colorbar": {
             "outlinewidth": 0,
             "ticks": ""
            },
            "colorscale": [
             [
              0,
              "#0d0887"
             ],
             [
              0.1111111111111111,
              "#46039f"
             ],
             [
              0.2222222222222222,
              "#7201a8"
             ],
             [
              0.3333333333333333,
              "#9c179e"
             ],
             [
              0.4444444444444444,
              "#bd3786"
             ],
             [
              0.5555555555555556,
              "#d8576b"
             ],
             [
              0.6666666666666666,
              "#ed7953"
             ],
             [
              0.7777777777777778,
              "#fb9f3a"
             ],
             [
              0.8888888888888888,
              "#fdca26"
             ],
             [
              1,
              "#f0f921"
             ]
            ],
            "type": "heatmap"
           }
          ],
          "heatmapgl": [
           {
            "colorbar": {
             "outlinewidth": 0,
             "ticks": ""
            },
            "colorscale": [
             [
              0,
              "#0d0887"
             ],
             [
              0.1111111111111111,
              "#46039f"
             ],
             [
              0.2222222222222222,
              "#7201a8"
             ],
             [
              0.3333333333333333,
              "#9c179e"
             ],
             [
              0.4444444444444444,
              "#bd3786"
             ],
             [
              0.5555555555555556,
              "#d8576b"
             ],
             [
              0.6666666666666666,
              "#ed7953"
             ],
             [
              0.7777777777777778,
              "#fb9f3a"
             ],
             [
              0.8888888888888888,
              "#fdca26"
             ],
             [
              1,
              "#f0f921"
             ]
            ],
            "type": "heatmapgl"
           }
          ],
          "histogram": [
           {
            "marker": {
             "pattern": {
              "fillmode": "overlay",
              "size": 10,
              "solidity": 0.2
             }
            },
            "type": "histogram"
           }
          ],
          "histogram2d": [
           {
            "colorbar": {
             "outlinewidth": 0,
             "ticks": ""
            },
            "colorscale": [
             [
              0,
              "#0d0887"
             ],
             [
              0.1111111111111111,
              "#46039f"
             ],
             [
              0.2222222222222222,
              "#7201a8"
             ],
             [
              0.3333333333333333,
              "#9c179e"
             ],
             [
              0.4444444444444444,
              "#bd3786"
             ],
             [
              0.5555555555555556,
              "#d8576b"
             ],
             [
              0.6666666666666666,
              "#ed7953"
             ],
             [
              0.7777777777777778,
              "#fb9f3a"
             ],
             [
              0.8888888888888888,
              "#fdca26"
             ],
             [
              1,
              "#f0f921"
             ]
            ],
            "type": "histogram2d"
           }
          ],
          "histogram2dcontour": [
           {
            "colorbar": {
             "outlinewidth": 0,
             "ticks": ""
            },
            "colorscale": [
             [
              0,
              "#0d0887"
             ],
             [
              0.1111111111111111,
              "#46039f"
             ],
             [
              0.2222222222222222,
              "#7201a8"
             ],
             [
              0.3333333333333333,
              "#9c179e"
             ],
             [
              0.4444444444444444,
              "#bd3786"
             ],
             [
              0.5555555555555556,
              "#d8576b"
             ],
             [
              0.6666666666666666,
              "#ed7953"
             ],
             [
              0.7777777777777778,
              "#fb9f3a"
             ],
             [
              0.8888888888888888,
              "#fdca26"
             ],
             [
              1,
              "#f0f921"
             ]
            ],
            "type": "histogram2dcontour"
           }
          ],
          "mesh3d": [
           {
            "colorbar": {
             "outlinewidth": 0,
             "ticks": ""
            },
            "type": "mesh3d"
           }
          ],
          "parcoords": [
           {
            "line": {
             "colorbar": {
              "outlinewidth": 0,
              "ticks": ""
             }
            },
            "type": "parcoords"
           }
          ],
          "pie": [
           {
            "automargin": true,
            "type": "pie"
           }
          ],
          "scatter": [
           {
            "fillpattern": {
             "fillmode": "overlay",
             "size": 10,
             "solidity": 0.2
            },
            "type": "scatter"
           }
          ],
          "scatter3d": [
           {
            "line": {
             "colorbar": {
              "outlinewidth": 0,
              "ticks": ""
             }
            },
            "marker": {
             "colorbar": {
              "outlinewidth": 0,
              "ticks": ""
             }
            },
            "type": "scatter3d"
           }
          ],
          "scattercarpet": [
           {
            "marker": {
             "colorbar": {
              "outlinewidth": 0,
              "ticks": ""
             }
            },
            "type": "scattercarpet"
           }
          ],
          "scattergeo": [
           {
            "marker": {
             "colorbar": {
              "outlinewidth": 0,
              "ticks": ""
             }
            },
            "type": "scattergeo"
           }
          ],
          "scattergl": [
           {
            "marker": {
             "colorbar": {
              "outlinewidth": 0,
              "ticks": ""
             }
            },
            "type": "scattergl"
           }
          ],
          "scattermapbox": [
           {
            "marker": {
             "colorbar": {
              "outlinewidth": 0,
              "ticks": ""
             }
            },
            "type": "scattermapbox"
           }
          ],
          "scatterpolar": [
           {
            "marker": {
             "colorbar": {
              "outlinewidth": 0,
              "ticks": ""
             }
            },
            "type": "scatterpolar"
           }
          ],
          "scatterpolargl": [
           {
            "marker": {
             "colorbar": {
              "outlinewidth": 0,
              "ticks": ""
             }
            },
            "type": "scatterpolargl"
           }
          ],
          "scatterternary": [
           {
            "marker": {
             "colorbar": {
              "outlinewidth": 0,
              "ticks": ""
             }
            },
            "type": "scatterternary"
           }
          ],
          "surface": [
           {
            "colorbar": {
             "outlinewidth": 0,
             "ticks": ""
            },
            "colorscale": [
             [
              0,
              "#0d0887"
             ],
             [
              0.1111111111111111,
              "#46039f"
             ],
             [
              0.2222222222222222,
              "#7201a8"
             ],
             [
              0.3333333333333333,
              "#9c179e"
             ],
             [
              0.4444444444444444,
              "#bd3786"
             ],
             [
              0.5555555555555556,
              "#d8576b"
             ],
             [
              0.6666666666666666,
              "#ed7953"
             ],
             [
              0.7777777777777778,
              "#fb9f3a"
             ],
             [
              0.8888888888888888,
              "#fdca26"
             ],
             [
              1,
              "#f0f921"
             ]
            ],
            "type": "surface"
           }
          ],
          "table": [
           {
            "cells": {
             "fill": {
              "color": "#EBF0F8"
             },
             "line": {
              "color": "white"
             }
            },
            "header": {
             "fill": {
              "color": "#C8D4E3"
             },
             "line": {
              "color": "white"
             }
            },
            "type": "table"
           }
          ]
         },
         "layout": {
          "annotationdefaults": {
           "arrowcolor": "#2a3f5f",
           "arrowhead": 0,
           "arrowwidth": 1
          },
          "autotypenumbers": "strict",
          "coloraxis": {
           "colorbar": {
            "outlinewidth": 0,
            "ticks": ""
           }
          },
          "colorscale": {
           "diverging": [
            [
             0,
             "#8e0152"
            ],
            [
             0.1,
             "#c51b7d"
            ],
            [
             0.2,
             "#de77ae"
            ],
            [
             0.3,
             "#f1b6da"
            ],
            [
             0.4,
             "#fde0ef"
            ],
            [
             0.5,
             "#f7f7f7"
            ],
            [
             0.6,
             "#e6f5d0"
            ],
            [
             0.7,
             "#b8e186"
            ],
            [
             0.8,
             "#7fbc41"
            ],
            [
             0.9,
             "#4d9221"
            ],
            [
             1,
             "#276419"
            ]
           ],
           "sequential": [
            [
             0,
             "#0d0887"
            ],
            [
             0.1111111111111111,
             "#46039f"
            ],
            [
             0.2222222222222222,
             "#7201a8"
            ],
            [
             0.3333333333333333,
             "#9c179e"
            ],
            [
             0.4444444444444444,
             "#bd3786"
            ],
            [
             0.5555555555555556,
             "#d8576b"
            ],
            [
             0.6666666666666666,
             "#ed7953"
            ],
            [
             0.7777777777777778,
             "#fb9f3a"
            ],
            [
             0.8888888888888888,
             "#fdca26"
            ],
            [
             1,
             "#f0f921"
            ]
           ],
           "sequentialminus": [
            [
             0,
             "#0d0887"
            ],
            [
             0.1111111111111111,
             "#46039f"
            ],
            [
             0.2222222222222222,
             "#7201a8"
            ],
            [
             0.3333333333333333,
             "#9c179e"
            ],
            [
             0.4444444444444444,
             "#bd3786"
            ],
            [
             0.5555555555555556,
             "#d8576b"
            ],
            [
             0.6666666666666666,
             "#ed7953"
            ],
            [
             0.7777777777777778,
             "#fb9f3a"
            ],
            [
             0.8888888888888888,
             "#fdca26"
            ],
            [
             1,
             "#f0f921"
            ]
           ]
          },
          "colorway": [
           "#636efa",
           "#EF553B",
           "#00cc96",
           "#ab63fa",
           "#FFA15A",
           "#19d3f3",
           "#FF6692",
           "#B6E880",
           "#FF97FF",
           "#FECB52"
          ],
          "font": {
           "color": "#2a3f5f"
          },
          "geo": {
           "bgcolor": "white",
           "lakecolor": "white",
           "landcolor": "#E5ECF6",
           "showlakes": true,
           "showland": true,
           "subunitcolor": "white"
          },
          "hoverlabel": {
           "align": "left"
          },
          "hovermode": "closest",
          "mapbox": {
           "style": "light"
          },
          "paper_bgcolor": "white",
          "plot_bgcolor": "#E5ECF6",
          "polar": {
           "angularaxis": {
            "gridcolor": "white",
            "linecolor": "white",
            "ticks": ""
           },
           "bgcolor": "#E5ECF6",
           "radialaxis": {
            "gridcolor": "white",
            "linecolor": "white",
            "ticks": ""
           }
          },
          "scene": {
           "xaxis": {
            "backgroundcolor": "#E5ECF6",
            "gridcolor": "white",
            "gridwidth": 2,
            "linecolor": "white",
            "showbackground": true,
            "ticks": "",
            "zerolinecolor": "white"
           },
           "yaxis": {
            "backgroundcolor": "#E5ECF6",
            "gridcolor": "white",
            "gridwidth": 2,
            "linecolor": "white",
            "showbackground": true,
            "ticks": "",
            "zerolinecolor": "white"
           },
           "zaxis": {
            "backgroundcolor": "#E5ECF6",
            "gridcolor": "white",
            "gridwidth": 2,
            "linecolor": "white",
            "showbackground": true,
            "ticks": "",
            "zerolinecolor": "white"
           }
          },
          "shapedefaults": {
           "line": {
            "color": "#2a3f5f"
           }
          },
          "ternary": {
           "aaxis": {
            "gridcolor": "white",
            "linecolor": "white",
            "ticks": ""
           },
           "baxis": {
            "gridcolor": "white",
            "linecolor": "white",
            "ticks": ""
           },
           "bgcolor": "#E5ECF6",
           "caxis": {
            "gridcolor": "white",
            "linecolor": "white",
            "ticks": ""
           }
          },
          "title": {
           "x": 0.05
          },
          "xaxis": {
           "automargin": true,
           "gridcolor": "white",
           "linecolor": "white",
           "ticks": "",
           "title": {
            "standoff": 15
           },
           "zerolinecolor": "white",
           "zerolinewidth": 2
          },
          "yaxis": {
           "automargin": true,
           "gridcolor": "white",
           "linecolor": "white",
           "ticks": "",
           "title": {
            "standoff": 15
           },
           "zerolinecolor": "white",
           "zerolinewidth": 2
          }
         }
        },
        "xaxis": {
         "anchor": "y",
         "domain": [
          0,
          1
         ],
         "title": {
          "text": "x_cat1"
         }
        },
        "yaxis": {
         "anchor": "x",
         "domain": [
          0,
          1
         ],
         "title": {
          "text": "count"
         }
        }
       }
      }
     },
     "metadata": {},
     "output_type": "display_data"
    },
    {
     "name": "stdout",
     "output_type": "stream",
     "text": [
      "P-value: 0.7328\n"
     ]
    },
    {
     "data": {
      "application/vnd.plotly.v1+json": {
       "config": {
        "plotlyServerURL": "https://plot.ly"
       },
       "data": [
        {
         "alignmentgroup": "True",
         "bingroup": "x",
         "hovertemplate": "y=0<br>x_cat2=%{x}<br>count=%{y}<extra></extra>",
         "legendgroup": "0",
         "marker": {
          "color": "#636efa",
          "pattern": {
           "shape": ""
          }
         },
         "name": "0",
         "offsetgroup": "0",
         "orientation": "v",
         "showlegend": true,
         "texttemplate": "%{value}",
         "type": "histogram",
         "x": [
          "cat0",
          "cat1",
          "cat2",
          "cat1",
          "cat1",
          "cat0",
          "cat0",
          "cat0",
          "cat1",
          "cat0",
          "cat1",
          "cat2",
          "cat1",
          "cat2",
          "cat0",
          "cat1",
          "cat0",
          "cat0",
          "cat0",
          "cat0",
          "cat2",
          "cat2",
          "cat0",
          "cat1",
          "cat2",
          "cat2",
          "cat2",
          "cat2",
          "cat0",
          "cat0",
          "cat2",
          "cat2",
          "cat0",
          "cat0",
          "cat0",
          "cat2",
          "cat0",
          "cat2",
          "cat2",
          "cat2",
          "cat1",
          "cat2",
          "cat2",
          "cat1",
          "cat0",
          "cat1",
          "cat1",
          "cat0",
          "cat2",
          "cat0",
          "cat2",
          "cat1",
          "cat0",
          "cat0",
          "cat0",
          "cat1",
          "cat2",
          "cat1",
          "cat2",
          "cat0",
          "cat1",
          "cat0",
          "cat0",
          "cat0",
          "cat1",
          "cat0",
          "cat1",
          "cat2",
          "cat1",
          "cat1",
          "cat2",
          "cat2",
          "cat1",
          "cat2",
          "cat0",
          "cat1",
          "cat0",
          "cat2",
          "cat2",
          "cat1",
          "cat1",
          "cat1",
          "cat2",
          "cat0",
          "cat0",
          "cat2",
          "cat1",
          "cat2",
          "cat0",
          "cat2",
          "cat0",
          "cat0",
          "cat1",
          "cat2",
          "cat0",
          "cat2",
          "cat2",
          "cat0",
          "cat0",
          "cat0",
          "cat0",
          "cat1",
          "cat1",
          "cat0",
          "cat1",
          "cat1",
          "cat2",
          "cat1",
          "cat2",
          "cat0",
          "cat1",
          "cat1",
          "cat1",
          "cat2",
          "cat1",
          "cat1",
          "cat2",
          "cat0",
          "cat1",
          "cat1",
          "cat1",
          "cat1",
          "cat0",
          "cat0",
          "cat2",
          "cat0",
          "cat0",
          "cat0",
          "cat1",
          "cat2",
          "cat2",
          "cat2",
          "cat2",
          "cat2",
          "cat1",
          "cat0",
          "cat1",
          "cat2",
          "cat1",
          "cat2",
          "cat2",
          "cat0",
          "cat1",
          "cat2",
          "cat2",
          "cat1",
          "cat2",
          "cat0",
          "cat1",
          "cat0",
          "cat0",
          "cat2",
          "cat1",
          "cat2",
          "cat2",
          "cat2",
          "cat2",
          "cat0",
          "cat0",
          "cat0",
          "cat0",
          "cat1",
          "cat1",
          "cat1",
          "cat2",
          "cat2",
          "cat2",
          "cat2",
          "cat2",
          "cat0",
          "cat2",
          "cat1",
          "cat2",
          "cat2",
          "cat1",
          "cat0",
          "cat1",
          "cat1",
          "cat1",
          "cat0",
          "cat1",
          "cat0",
          "cat1",
          "cat2",
          "cat2",
          "cat2",
          "cat1",
          "cat0",
          "cat1",
          "cat2",
          "cat1",
          "cat2",
          "cat0",
          "cat1",
          "cat0",
          "cat0",
          "cat0",
          "cat0",
          "cat1",
          "cat0",
          "cat1",
          "cat1",
          "cat0",
          "cat0",
          "cat2",
          "cat2",
          "cat1",
          "cat0",
          "cat0",
          "cat0",
          "cat2",
          "cat1",
          "cat2",
          "cat2",
          "cat0",
          "cat1",
          "cat1",
          "cat0",
          "cat0",
          "cat0",
          "cat1",
          "cat0",
          "cat2",
          "cat0",
          "cat0",
          "cat0",
          "cat1",
          "cat2",
          "cat1",
          "cat1",
          "cat2",
          "cat1",
          "cat0",
          "cat0",
          "cat0",
          "cat1",
          "cat2",
          "cat2",
          "cat0",
          "cat2",
          "cat1",
          "cat2",
          "cat2",
          "cat0",
          "cat0",
          "cat1",
          "cat0",
          "cat1",
          "cat1",
          "cat0",
          "cat2"
         ],
         "xaxis": "x",
         "yaxis": "y"
        },
        {
         "alignmentgroup": "True",
         "bingroup": "x",
         "hovertemplate": "y=1<br>x_cat2=%{x}<br>count=%{y}<extra></extra>",
         "legendgroup": "1",
         "marker": {
          "color": "#EF553B",
          "pattern": {
           "shape": ""
          }
         },
         "name": "1",
         "offsetgroup": "1",
         "orientation": "v",
         "showlegend": true,
         "texttemplate": "%{value}",
         "type": "histogram",
         "x": [
          "cat0",
          "cat1",
          "cat1",
          "cat1",
          "cat0",
          "cat2",
          "cat2",
          "cat2",
          "cat2",
          "cat0",
          "cat2",
          "cat1",
          "cat0",
          "cat1",
          "cat2",
          "cat0",
          "cat1",
          "cat0",
          "cat1",
          "cat0",
          "cat1",
          "cat1",
          "cat0",
          "cat2",
          "cat1",
          "cat1",
          "cat0",
          "cat1",
          "cat1",
          "cat0",
          "cat2",
          "cat2",
          "cat2",
          "cat2",
          "cat0",
          "cat0",
          "cat0",
          "cat0",
          "cat2",
          "cat2",
          "cat1",
          "cat0",
          "cat0",
          "cat0",
          "cat0",
          "cat0",
          "cat0",
          "cat0",
          "cat1",
          "cat2",
          "cat1",
          "cat1",
          "cat1",
          "cat0",
          "cat1",
          "cat0",
          "cat0",
          "cat2",
          "cat1",
          "cat0",
          "cat2",
          "cat1",
          "cat0",
          "cat0",
          "cat1",
          "cat1",
          "cat2",
          "cat1",
          "cat1",
          "cat2",
          "cat1",
          "cat1",
          "cat0",
          "cat0",
          "cat2",
          "cat1",
          "cat0",
          "cat2",
          "cat2",
          "cat1",
          "cat0",
          "cat2",
          "cat1",
          "cat2",
          "cat0",
          "cat0",
          "cat2",
          "cat1",
          "cat0",
          "cat2",
          "cat0",
          "cat0",
          "cat1",
          "cat2",
          "cat2",
          "cat0",
          "cat1",
          "cat0",
          "cat2",
          "cat0",
          "cat0",
          "cat0",
          "cat0",
          "cat0",
          "cat0",
          "cat2",
          "cat2",
          "cat2",
          "cat0",
          "cat0",
          "cat0",
          "cat0",
          "cat1",
          "cat0",
          "cat2",
          "cat2",
          "cat0",
          "cat0",
          "cat1",
          "cat2",
          "cat0",
          "cat2",
          "cat0",
          "cat1",
          "cat2",
          "cat0",
          "cat0",
          "cat2",
          "cat2",
          "cat2",
          "cat2",
          "cat2",
          "cat1",
          "cat2",
          "cat2",
          "cat1",
          "cat1",
          "cat0",
          "cat2",
          "cat2",
          "cat2",
          "cat0",
          "cat2",
          "cat0",
          "cat1",
          "cat1",
          "cat0",
          "cat1",
          "cat0",
          "cat1",
          "cat2",
          "cat2",
          "cat2",
          "cat1",
          "cat1",
          "cat2",
          "cat1",
          "cat2",
          "cat1",
          "cat1",
          "cat2",
          "cat1",
          "cat2",
          "cat2",
          "cat2",
          "cat2",
          "cat0",
          "cat0",
          "cat1",
          "cat0",
          "cat2",
          "cat1",
          "cat2",
          "cat1",
          "cat0",
          "cat1",
          "cat1",
          "cat0",
          "cat1",
          "cat0",
          "cat0",
          "cat2",
          "cat2",
          "cat2",
          "cat2",
          "cat1",
          "cat2",
          "cat1",
          "cat0",
          "cat1",
          "cat0",
          "cat1",
          "cat2",
          "cat0",
          "cat0",
          "cat2",
          "cat2",
          "cat1",
          "cat2",
          "cat1",
          "cat1",
          "cat2",
          "cat1",
          "cat2",
          "cat2",
          "cat0",
          "cat0",
          "cat2",
          "cat1",
          "cat1",
          "cat2",
          "cat1",
          "cat1",
          "cat1",
          "cat0",
          "cat2",
          "cat0",
          "cat2",
          "cat1",
          "cat1",
          "cat2",
          "cat2",
          "cat1",
          "cat2",
          "cat0",
          "cat1",
          "cat2",
          "cat0",
          "cat1",
          "cat1",
          "cat1",
          "cat1",
          "cat2",
          "cat2",
          "cat1",
          "cat2",
          "cat0",
          "cat2",
          "cat2",
          "cat0",
          "cat1",
          "cat1",
          "cat1",
          "cat2",
          "cat1",
          "cat1",
          "cat1",
          "cat2",
          "cat0"
         ],
         "xaxis": "x",
         "yaxis": "y"
        }
       ],
       "layout": {
        "barmode": "group",
        "legend": {
         "title": {
          "text": "y"
         },
         "tracegroupgap": 0
        },
        "margin": {
         "t": 60
        },
        "template": {
         "data": {
          "bar": [
           {
            "error_x": {
             "color": "#2a3f5f"
            },
            "error_y": {
             "color": "#2a3f5f"
            },
            "marker": {
             "line": {
              "color": "#E5ECF6",
              "width": 0.5
             },
             "pattern": {
              "fillmode": "overlay",
              "size": 10,
              "solidity": 0.2
             }
            },
            "type": "bar"
           }
          ],
          "barpolar": [
           {
            "marker": {
             "line": {
              "color": "#E5ECF6",
              "width": 0.5
             },
             "pattern": {
              "fillmode": "overlay",
              "size": 10,
              "solidity": 0.2
             }
            },
            "type": "barpolar"
           }
          ],
          "carpet": [
           {
            "aaxis": {
             "endlinecolor": "#2a3f5f",
             "gridcolor": "white",
             "linecolor": "white",
             "minorgridcolor": "white",
             "startlinecolor": "#2a3f5f"
            },
            "baxis": {
             "endlinecolor": "#2a3f5f",
             "gridcolor": "white",
             "linecolor": "white",
             "minorgridcolor": "white",
             "startlinecolor": "#2a3f5f"
            },
            "type": "carpet"
           }
          ],
          "choropleth": [
           {
            "colorbar": {
             "outlinewidth": 0,
             "ticks": ""
            },
            "type": "choropleth"
           }
          ],
          "contour": [
           {
            "colorbar": {
             "outlinewidth": 0,
             "ticks": ""
            },
            "colorscale": [
             [
              0,
              "#0d0887"
             ],
             [
              0.1111111111111111,
              "#46039f"
             ],
             [
              0.2222222222222222,
              "#7201a8"
             ],
             [
              0.3333333333333333,
              "#9c179e"
             ],
             [
              0.4444444444444444,
              "#bd3786"
             ],
             [
              0.5555555555555556,
              "#d8576b"
             ],
             [
              0.6666666666666666,
              "#ed7953"
             ],
             [
              0.7777777777777778,
              "#fb9f3a"
             ],
             [
              0.8888888888888888,
              "#fdca26"
             ],
             [
              1,
              "#f0f921"
             ]
            ],
            "type": "contour"
           }
          ],
          "contourcarpet": [
           {
            "colorbar": {
             "outlinewidth": 0,
             "ticks": ""
            },
            "type": "contourcarpet"
           }
          ],
          "heatmap": [
           {
            "colorbar": {
             "outlinewidth": 0,
             "ticks": ""
            },
            "colorscale": [
             [
              0,
              "#0d0887"
             ],
             [
              0.1111111111111111,
              "#46039f"
             ],
             [
              0.2222222222222222,
              "#7201a8"
             ],
             [
              0.3333333333333333,
              "#9c179e"
             ],
             [
              0.4444444444444444,
              "#bd3786"
             ],
             [
              0.5555555555555556,
              "#d8576b"
             ],
             [
              0.6666666666666666,
              "#ed7953"
             ],
             [
              0.7777777777777778,
              "#fb9f3a"
             ],
             [
              0.8888888888888888,
              "#fdca26"
             ],
             [
              1,
              "#f0f921"
             ]
            ],
            "type": "heatmap"
           }
          ],
          "heatmapgl": [
           {
            "colorbar": {
             "outlinewidth": 0,
             "ticks": ""
            },
            "colorscale": [
             [
              0,
              "#0d0887"
             ],
             [
              0.1111111111111111,
              "#46039f"
             ],
             [
              0.2222222222222222,
              "#7201a8"
             ],
             [
              0.3333333333333333,
              "#9c179e"
             ],
             [
              0.4444444444444444,
              "#bd3786"
             ],
             [
              0.5555555555555556,
              "#d8576b"
             ],
             [
              0.6666666666666666,
              "#ed7953"
             ],
             [
              0.7777777777777778,
              "#fb9f3a"
             ],
             [
              0.8888888888888888,
              "#fdca26"
             ],
             [
              1,
              "#f0f921"
             ]
            ],
            "type": "heatmapgl"
           }
          ],
          "histogram": [
           {
            "marker": {
             "pattern": {
              "fillmode": "overlay",
              "size": 10,
              "solidity": 0.2
             }
            },
            "type": "histogram"
           }
          ],
          "histogram2d": [
           {
            "colorbar": {
             "outlinewidth": 0,
             "ticks": ""
            },
            "colorscale": [
             [
              0,
              "#0d0887"
             ],
             [
              0.1111111111111111,
              "#46039f"
             ],
             [
              0.2222222222222222,
              "#7201a8"
             ],
             [
              0.3333333333333333,
              "#9c179e"
             ],
             [
              0.4444444444444444,
              "#bd3786"
             ],
             [
              0.5555555555555556,
              "#d8576b"
             ],
             [
              0.6666666666666666,
              "#ed7953"
             ],
             [
              0.7777777777777778,
              "#fb9f3a"
             ],
             [
              0.8888888888888888,
              "#fdca26"
             ],
             [
              1,
              "#f0f921"
             ]
            ],
            "type": "histogram2d"
           }
          ],
          "histogram2dcontour": [
           {
            "colorbar": {
             "outlinewidth": 0,
             "ticks": ""
            },
            "colorscale": [
             [
              0,
              "#0d0887"
             ],
             [
              0.1111111111111111,
              "#46039f"
             ],
             [
              0.2222222222222222,
              "#7201a8"
             ],
             [
              0.3333333333333333,
              "#9c179e"
             ],
             [
              0.4444444444444444,
              "#bd3786"
             ],
             [
              0.5555555555555556,
              "#d8576b"
             ],
             [
              0.6666666666666666,
              "#ed7953"
             ],
             [
              0.7777777777777778,
              "#fb9f3a"
             ],
             [
              0.8888888888888888,
              "#fdca26"
             ],
             [
              1,
              "#f0f921"
             ]
            ],
            "type": "histogram2dcontour"
           }
          ],
          "mesh3d": [
           {
            "colorbar": {
             "outlinewidth": 0,
             "ticks": ""
            },
            "type": "mesh3d"
           }
          ],
          "parcoords": [
           {
            "line": {
             "colorbar": {
              "outlinewidth": 0,
              "ticks": ""
             }
            },
            "type": "parcoords"
           }
          ],
          "pie": [
           {
            "automargin": true,
            "type": "pie"
           }
          ],
          "scatter": [
           {
            "fillpattern": {
             "fillmode": "overlay",
             "size": 10,
             "solidity": 0.2
            },
            "type": "scatter"
           }
          ],
          "scatter3d": [
           {
            "line": {
             "colorbar": {
              "outlinewidth": 0,
              "ticks": ""
             }
            },
            "marker": {
             "colorbar": {
              "outlinewidth": 0,
              "ticks": ""
             }
            },
            "type": "scatter3d"
           }
          ],
          "scattercarpet": [
           {
            "marker": {
             "colorbar": {
              "outlinewidth": 0,
              "ticks": ""
             }
            },
            "type": "scattercarpet"
           }
          ],
          "scattergeo": [
           {
            "marker": {
             "colorbar": {
              "outlinewidth": 0,
              "ticks": ""
             }
            },
            "type": "scattergeo"
           }
          ],
          "scattergl": [
           {
            "marker": {
             "colorbar": {
              "outlinewidth": 0,
              "ticks": ""
             }
            },
            "type": "scattergl"
           }
          ],
          "scattermapbox": [
           {
            "marker": {
             "colorbar": {
              "outlinewidth": 0,
              "ticks": ""
             }
            },
            "type": "scattermapbox"
           }
          ],
          "scatterpolar": [
           {
            "marker": {
             "colorbar": {
              "outlinewidth": 0,
              "ticks": ""
             }
            },
            "type": "scatterpolar"
           }
          ],
          "scatterpolargl": [
           {
            "marker": {
             "colorbar": {
              "outlinewidth": 0,
              "ticks": ""
             }
            },
            "type": "scatterpolargl"
           }
          ],
          "scatterternary": [
           {
            "marker": {
             "colorbar": {
              "outlinewidth": 0,
              "ticks": ""
             }
            },
            "type": "scatterternary"
           }
          ],
          "surface": [
           {
            "colorbar": {
             "outlinewidth": 0,
             "ticks": ""
            },
            "colorscale": [
             [
              0,
              "#0d0887"
             ],
             [
              0.1111111111111111,
              "#46039f"
             ],
             [
              0.2222222222222222,
              "#7201a8"
             ],
             [
              0.3333333333333333,
              "#9c179e"
             ],
             [
              0.4444444444444444,
              "#bd3786"
             ],
             [
              0.5555555555555556,
              "#d8576b"
             ],
             [
              0.6666666666666666,
              "#ed7953"
             ],
             [
              0.7777777777777778,
              "#fb9f3a"
             ],
             [
              0.8888888888888888,
              "#fdca26"
             ],
             [
              1,
              "#f0f921"
             ]
            ],
            "type": "surface"
           }
          ],
          "table": [
           {
            "cells": {
             "fill": {
              "color": "#EBF0F8"
             },
             "line": {
              "color": "white"
             }
            },
            "header": {
             "fill": {
              "color": "#C8D4E3"
             },
             "line": {
              "color": "white"
             }
            },
            "type": "table"
           }
          ]
         },
         "layout": {
          "annotationdefaults": {
           "arrowcolor": "#2a3f5f",
           "arrowhead": 0,
           "arrowwidth": 1
          },
          "autotypenumbers": "strict",
          "coloraxis": {
           "colorbar": {
            "outlinewidth": 0,
            "ticks": ""
           }
          },
          "colorscale": {
           "diverging": [
            [
             0,
             "#8e0152"
            ],
            [
             0.1,
             "#c51b7d"
            ],
            [
             0.2,
             "#de77ae"
            ],
            [
             0.3,
             "#f1b6da"
            ],
            [
             0.4,
             "#fde0ef"
            ],
            [
             0.5,
             "#f7f7f7"
            ],
            [
             0.6,
             "#e6f5d0"
            ],
            [
             0.7,
             "#b8e186"
            ],
            [
             0.8,
             "#7fbc41"
            ],
            [
             0.9,
             "#4d9221"
            ],
            [
             1,
             "#276419"
            ]
           ],
           "sequential": [
            [
             0,
             "#0d0887"
            ],
            [
             0.1111111111111111,
             "#46039f"
            ],
            [
             0.2222222222222222,
             "#7201a8"
            ],
            [
             0.3333333333333333,
             "#9c179e"
            ],
            [
             0.4444444444444444,
             "#bd3786"
            ],
            [
             0.5555555555555556,
             "#d8576b"
            ],
            [
             0.6666666666666666,
             "#ed7953"
            ],
            [
             0.7777777777777778,
             "#fb9f3a"
            ],
            [
             0.8888888888888888,
             "#fdca26"
            ],
            [
             1,
             "#f0f921"
            ]
           ],
           "sequentialminus": [
            [
             0,
             "#0d0887"
            ],
            [
             0.1111111111111111,
             "#46039f"
            ],
            [
             0.2222222222222222,
             "#7201a8"
            ],
            [
             0.3333333333333333,
             "#9c179e"
            ],
            [
             0.4444444444444444,
             "#bd3786"
            ],
            [
             0.5555555555555556,
             "#d8576b"
            ],
            [
             0.6666666666666666,
             "#ed7953"
            ],
            [
             0.7777777777777778,
             "#fb9f3a"
            ],
            [
             0.8888888888888888,
             "#fdca26"
            ],
            [
             1,
             "#f0f921"
            ]
           ]
          },
          "colorway": [
           "#636efa",
           "#EF553B",
           "#00cc96",
           "#ab63fa",
           "#FFA15A",
           "#19d3f3",
           "#FF6692",
           "#B6E880",
           "#FF97FF",
           "#FECB52"
          ],
          "font": {
           "color": "#2a3f5f"
          },
          "geo": {
           "bgcolor": "white",
           "lakecolor": "white",
           "landcolor": "#E5ECF6",
           "showlakes": true,
           "showland": true,
           "subunitcolor": "white"
          },
          "hoverlabel": {
           "align": "left"
          },
          "hovermode": "closest",
          "mapbox": {
           "style": "light"
          },
          "paper_bgcolor": "white",
          "plot_bgcolor": "#E5ECF6",
          "polar": {
           "angularaxis": {
            "gridcolor": "white",
            "linecolor": "white",
            "ticks": ""
           },
           "bgcolor": "#E5ECF6",
           "radialaxis": {
            "gridcolor": "white",
            "linecolor": "white",
            "ticks": ""
           }
          },
          "scene": {
           "xaxis": {
            "backgroundcolor": "#E5ECF6",
            "gridcolor": "white",
            "gridwidth": 2,
            "linecolor": "white",
            "showbackground": true,
            "ticks": "",
            "zerolinecolor": "white"
           },
           "yaxis": {
            "backgroundcolor": "#E5ECF6",
            "gridcolor": "white",
            "gridwidth": 2,
            "linecolor": "white",
            "showbackground": true,
            "ticks": "",
            "zerolinecolor": "white"
           },
           "zaxis": {
            "backgroundcolor": "#E5ECF6",
            "gridcolor": "white",
            "gridwidth": 2,
            "linecolor": "white",
            "showbackground": true,
            "ticks": "",
            "zerolinecolor": "white"
           }
          },
          "shapedefaults": {
           "line": {
            "color": "#2a3f5f"
           }
          },
          "ternary": {
           "aaxis": {
            "gridcolor": "white",
            "linecolor": "white",
            "ticks": ""
           },
           "baxis": {
            "gridcolor": "white",
            "linecolor": "white",
            "ticks": ""
           },
           "bgcolor": "#E5ECF6",
           "caxis": {
            "gridcolor": "white",
            "linecolor": "white",
            "ticks": ""
           }
          },
          "title": {
           "x": 0.05
          },
          "xaxis": {
           "automargin": true,
           "gridcolor": "white",
           "linecolor": "white",
           "ticks": "",
           "title": {
            "standoff": 15
           },
           "zerolinecolor": "white",
           "zerolinewidth": 2
          },
          "yaxis": {
           "automargin": true,
           "gridcolor": "white",
           "linecolor": "white",
           "ticks": "",
           "title": {
            "standoff": 15
           },
           "zerolinecolor": "white",
           "zerolinewidth": 2
          }
         }
        },
        "xaxis": {
         "anchor": "y",
         "domain": [
          0,
          1
         ],
         "title": {
          "text": "x_cat2"
         }
        },
        "yaxis": {
         "anchor": "x",
         "domain": [
          0,
          1
         ],
         "title": {
          "text": "count"
         }
        }
       }
      }
     },
     "metadata": {},
     "output_type": "display_data"
    },
    {
     "name": "stdout",
     "output_type": "stream",
     "text": [
      "P-value: 0.0\n"
     ]
    },
    {
     "data": {
      "application/vnd.plotly.v1+json": {
       "config": {
        "plotlyServerURL": "https://plot.ly"
       },
       "data": [
        {
         "alignmentgroup": "True",
         "bingroup": "x",
         "hovertemplate": "y=0<br>x_cat_0=%{x}<br>count=%{y}<extra></extra>",
         "legendgroup": "0",
         "marker": {
          "color": "#636efa",
          "pattern": {
           "shape": ""
          }
         },
         "name": "0",
         "offsetgroup": "0",
         "orientation": "v",
         "showlegend": true,
         "texttemplate": "%{value}",
         "type": "histogram",
         "x": [
          "cat0",
          "cat0",
          "cat2",
          "cat3",
          "cat1",
          "cat0",
          "cat0",
          "cat2",
          "cat0",
          "cat2",
          "cat1",
          "cat1",
          "cat2",
          "cat0",
          "cat1",
          "cat1",
          "cat0",
          "cat3",
          "cat0",
          "cat2",
          "cat0",
          "cat1",
          "cat0",
          "cat3",
          "cat0",
          "cat2",
          "cat2",
          "cat0",
          "cat3",
          "cat0",
          "cat1",
          "cat0",
          "cat3",
          "cat2",
          "cat0",
          "cat1",
          "cat0",
          "cat0",
          "cat1",
          "cat3",
          "cat2",
          "cat0",
          "cat3",
          "cat1",
          "cat3",
          "cat2",
          "cat1",
          "cat0",
          "cat1",
          "cat0",
          "cat0",
          "cat1",
          "cat0",
          "cat2",
          "cat0",
          "cat3",
          "cat0",
          "cat0",
          "cat0",
          "cat0",
          "cat1",
          "cat0",
          "cat2",
          "cat0",
          "cat1",
          "cat2",
          "cat2",
          "cat3",
          "cat2",
          "cat0",
          "cat2",
          "cat0",
          "cat0",
          "cat2",
          "cat2",
          "cat1",
          "cat0",
          "cat2",
          "cat3",
          "cat0",
          "cat0",
          "cat1",
          "cat0",
          "cat2",
          "cat0",
          "cat1",
          "cat2",
          "cat0",
          "cat1",
          "cat0",
          "cat2",
          "cat0",
          "cat2",
          "cat0",
          "cat0",
          "cat2",
          "cat2",
          "cat0",
          "cat0",
          "cat1",
          "cat0",
          "cat0",
          "cat2",
          "cat2",
          "cat1",
          "cat2",
          "cat1",
          "cat0",
          "cat1",
          "cat1",
          "cat1",
          "cat1",
          "cat0",
          "cat2",
          "cat1",
          "cat3",
          "cat1",
          "cat0",
          "cat1",
          "cat0",
          "cat1",
          "cat2",
          "cat3",
          "cat0",
          "cat0",
          "cat1",
          "cat0",
          "cat1",
          "cat3",
          "cat1",
          "cat0",
          "cat0",
          "cat0",
          "cat3",
          "cat0",
          "cat3",
          "cat1",
          "cat3",
          "cat1",
          "cat2",
          "cat2",
          "cat1",
          "cat0",
          "cat2",
          "cat3",
          "cat1",
          "cat2",
          "cat1",
          "cat1",
          "cat0",
          "cat0",
          "cat1",
          "cat0",
          "cat2",
          "cat1",
          "cat0",
          "cat3",
          "cat0",
          "cat0",
          "cat2",
          "cat0",
          "cat0",
          "cat1",
          "cat0",
          "cat1",
          "cat0",
          "cat1",
          "cat2",
          "cat2",
          "cat1",
          "cat2",
          "cat2",
          "cat0",
          "cat2",
          "cat0",
          "cat2",
          "cat0",
          "cat0",
          "cat0",
          "cat0",
          "cat1",
          "cat3",
          "cat0",
          "cat1",
          "cat1",
          "cat0",
          "cat0",
          "cat1",
          "cat0",
          "cat0",
          "cat1",
          "cat2",
          "cat0",
          "cat0",
          "cat1",
          "cat2",
          "cat0",
          "cat1",
          "cat0",
          "cat2",
          "cat0",
          "cat3",
          "cat1",
          "cat1",
          "cat0",
          "cat0",
          "cat0",
          "cat2",
          "cat2",
          "cat0",
          "cat3",
          "cat3",
          "cat1",
          "cat3",
          "cat0",
          "cat0",
          "cat1",
          "cat2",
          "cat0",
          "cat0",
          "cat2",
          "cat0",
          "cat1",
          "cat0",
          "cat0",
          "cat3",
          "cat1",
          "cat1",
          "cat0",
          "cat1",
          "cat0",
          "cat0",
          "cat2",
          "cat0",
          "cat1",
          "cat1",
          "cat2",
          "cat0",
          "cat0",
          "cat0",
          "cat2",
          "cat1",
          "cat0",
          "cat2",
          "cat3",
          "cat0",
          "cat1",
          "cat1",
          "cat3",
          "cat1",
          "cat1"
         ],
         "xaxis": "x",
         "yaxis": "y"
        },
        {
         "alignmentgroup": "True",
         "bingroup": "x",
         "hovertemplate": "y=1<br>x_cat_0=%{x}<br>count=%{y}<extra></extra>",
         "legendgroup": "1",
         "marker": {
          "color": "#EF553B",
          "pattern": {
           "shape": ""
          }
         },
         "name": "1",
         "offsetgroup": "1",
         "orientation": "v",
         "showlegend": true,
         "texttemplate": "%{value}",
         "type": "histogram",
         "x": [
          "cat3",
          "cat1",
          "cat2",
          "cat2",
          "cat3",
          "cat0",
          "cat3",
          "cat3",
          "cat3",
          "cat2",
          "cat3",
          "cat3",
          "cat3",
          "cat3",
          "cat3",
          "cat3",
          "cat2",
          "cat3",
          "cat0",
          "cat2",
          "cat0",
          "cat1",
          "cat3",
          "cat3",
          "cat2",
          "cat3",
          "cat2",
          "cat2",
          "cat2",
          "cat3",
          "cat3",
          "cat1",
          "cat3",
          "cat3",
          "cat2",
          "cat1",
          "cat2",
          "cat2",
          "cat1",
          "cat1",
          "cat1",
          "cat3",
          "cat2",
          "cat0",
          "cat0",
          "cat2",
          "cat2",
          "cat3",
          "cat3",
          "cat1",
          "cat3",
          "cat2",
          "cat0",
          "cat1",
          "cat2",
          "cat1",
          "cat2",
          "cat2",
          "cat3",
          "cat3",
          "cat3",
          "cat2",
          "cat2",
          "cat1",
          "cat3",
          "cat2",
          "cat3",
          "cat3",
          "cat0",
          "cat3",
          "cat2",
          "cat1",
          "cat1",
          "cat0",
          "cat2",
          "cat1",
          "cat3",
          "cat3",
          "cat3",
          "cat0",
          "cat2",
          "cat3",
          "cat3",
          "cat3",
          "cat3",
          "cat3",
          "cat1",
          "cat0",
          "cat2",
          "cat3",
          "cat1",
          "cat3",
          "cat2",
          "cat3",
          "cat1",
          "cat2",
          "cat2",
          "cat1",
          "cat3",
          "cat0",
          "cat2",
          "cat2",
          "cat3",
          "cat2",
          "cat3",
          "cat1",
          "cat3",
          "cat0",
          "cat2",
          "cat0",
          "cat2",
          "cat3",
          "cat3",
          "cat2",
          "cat2",
          "cat2",
          "cat3",
          "cat3",
          "cat1",
          "cat3",
          "cat0",
          "cat3",
          "cat3",
          "cat0",
          "cat1",
          "cat2",
          "cat0",
          "cat2",
          "cat3",
          "cat1",
          "cat2",
          "cat2",
          "cat2",
          "cat3",
          "cat3",
          "cat3",
          "cat3",
          "cat3",
          "cat1",
          "cat3",
          "cat0",
          "cat1",
          "cat2",
          "cat2",
          "cat3",
          "cat0",
          "cat3",
          "cat2",
          "cat3",
          "cat3",
          "cat3",
          "cat3",
          "cat2",
          "cat3",
          "cat3",
          "cat1",
          "cat3",
          "cat2",
          "cat2",
          "cat3",
          "cat2",
          "cat0",
          "cat1",
          "cat1",
          "cat0",
          "cat0",
          "cat3",
          "cat3",
          "cat2",
          "cat0",
          "cat1",
          "cat3",
          "cat3",
          "cat1",
          "cat2",
          "cat1",
          "cat3",
          "cat3",
          "cat3",
          "cat1",
          "cat1",
          "cat2",
          "cat2",
          "cat1",
          "cat2",
          "cat3",
          "cat2",
          "cat2",
          "cat3",
          "cat1",
          "cat2",
          "cat0",
          "cat3",
          "cat3",
          "cat2",
          "cat2",
          "cat0",
          "cat2",
          "cat1",
          "cat3",
          "cat2",
          "cat0",
          "cat2",
          "cat1",
          "cat1",
          "cat3",
          "cat2",
          "cat2",
          "cat2",
          "cat3",
          "cat2",
          "cat1",
          "cat1",
          "cat3",
          "cat1",
          "cat2",
          "cat1",
          "cat2",
          "cat2",
          "cat0",
          "cat0",
          "cat3",
          "cat3",
          "cat2",
          "cat1",
          "cat3",
          "cat3",
          "cat3",
          "cat1",
          "cat1",
          "cat1",
          "cat1",
          "cat3",
          "cat2",
          "cat3",
          "cat2",
          "cat0",
          "cat3",
          "cat2",
          "cat1",
          "cat3",
          "cat0",
          "cat1",
          "cat3",
          "cat0",
          "cat3",
          "cat3",
          "cat1",
          "cat0"
         ],
         "xaxis": "x",
         "yaxis": "y"
        }
       ],
       "layout": {
        "barmode": "group",
        "legend": {
         "title": {
          "text": "y"
         },
         "tracegroupgap": 0
        },
        "margin": {
         "t": 60
        },
        "template": {
         "data": {
          "bar": [
           {
            "error_x": {
             "color": "#2a3f5f"
            },
            "error_y": {
             "color": "#2a3f5f"
            },
            "marker": {
             "line": {
              "color": "#E5ECF6",
              "width": 0.5
             },
             "pattern": {
              "fillmode": "overlay",
              "size": 10,
              "solidity": 0.2
             }
            },
            "type": "bar"
           }
          ],
          "barpolar": [
           {
            "marker": {
             "line": {
              "color": "#E5ECF6",
              "width": 0.5
             },
             "pattern": {
              "fillmode": "overlay",
              "size": 10,
              "solidity": 0.2
             }
            },
            "type": "barpolar"
           }
          ],
          "carpet": [
           {
            "aaxis": {
             "endlinecolor": "#2a3f5f",
             "gridcolor": "white",
             "linecolor": "white",
             "minorgridcolor": "white",
             "startlinecolor": "#2a3f5f"
            },
            "baxis": {
             "endlinecolor": "#2a3f5f",
             "gridcolor": "white",
             "linecolor": "white",
             "minorgridcolor": "white",
             "startlinecolor": "#2a3f5f"
            },
            "type": "carpet"
           }
          ],
          "choropleth": [
           {
            "colorbar": {
             "outlinewidth": 0,
             "ticks": ""
            },
            "type": "choropleth"
           }
          ],
          "contour": [
           {
            "colorbar": {
             "outlinewidth": 0,
             "ticks": ""
            },
            "colorscale": [
             [
              0,
              "#0d0887"
             ],
             [
              0.1111111111111111,
              "#46039f"
             ],
             [
              0.2222222222222222,
              "#7201a8"
             ],
             [
              0.3333333333333333,
              "#9c179e"
             ],
             [
              0.4444444444444444,
              "#bd3786"
             ],
             [
              0.5555555555555556,
              "#d8576b"
             ],
             [
              0.6666666666666666,
              "#ed7953"
             ],
             [
              0.7777777777777778,
              "#fb9f3a"
             ],
             [
              0.8888888888888888,
              "#fdca26"
             ],
             [
              1,
              "#f0f921"
             ]
            ],
            "type": "contour"
           }
          ],
          "contourcarpet": [
           {
            "colorbar": {
             "outlinewidth": 0,
             "ticks": ""
            },
            "type": "contourcarpet"
           }
          ],
          "heatmap": [
           {
            "colorbar": {
             "outlinewidth": 0,
             "ticks": ""
            },
            "colorscale": [
             [
              0,
              "#0d0887"
             ],
             [
              0.1111111111111111,
              "#46039f"
             ],
             [
              0.2222222222222222,
              "#7201a8"
             ],
             [
              0.3333333333333333,
              "#9c179e"
             ],
             [
              0.4444444444444444,
              "#bd3786"
             ],
             [
              0.5555555555555556,
              "#d8576b"
             ],
             [
              0.6666666666666666,
              "#ed7953"
             ],
             [
              0.7777777777777778,
              "#fb9f3a"
             ],
             [
              0.8888888888888888,
              "#fdca26"
             ],
             [
              1,
              "#f0f921"
             ]
            ],
            "type": "heatmap"
           }
          ],
          "heatmapgl": [
           {
            "colorbar": {
             "outlinewidth": 0,
             "ticks": ""
            },
            "colorscale": [
             [
              0,
              "#0d0887"
             ],
             [
              0.1111111111111111,
              "#46039f"
             ],
             [
              0.2222222222222222,
              "#7201a8"
             ],
             [
              0.3333333333333333,
              "#9c179e"
             ],
             [
              0.4444444444444444,
              "#bd3786"
             ],
             [
              0.5555555555555556,
              "#d8576b"
             ],
             [
              0.6666666666666666,
              "#ed7953"
             ],
             [
              0.7777777777777778,
              "#fb9f3a"
             ],
             [
              0.8888888888888888,
              "#fdca26"
             ],
             [
              1,
              "#f0f921"
             ]
            ],
            "type": "heatmapgl"
           }
          ],
          "histogram": [
           {
            "marker": {
             "pattern": {
              "fillmode": "overlay",
              "size": 10,
              "solidity": 0.2
             }
            },
            "type": "histogram"
           }
          ],
          "histogram2d": [
           {
            "colorbar": {
             "outlinewidth": 0,
             "ticks": ""
            },
            "colorscale": [
             [
              0,
              "#0d0887"
             ],
             [
              0.1111111111111111,
              "#46039f"
             ],
             [
              0.2222222222222222,
              "#7201a8"
             ],
             [
              0.3333333333333333,
              "#9c179e"
             ],
             [
              0.4444444444444444,
              "#bd3786"
             ],
             [
              0.5555555555555556,
              "#d8576b"
             ],
             [
              0.6666666666666666,
              "#ed7953"
             ],
             [
              0.7777777777777778,
              "#fb9f3a"
             ],
             [
              0.8888888888888888,
              "#fdca26"
             ],
             [
              1,
              "#f0f921"
             ]
            ],
            "type": "histogram2d"
           }
          ],
          "histogram2dcontour": [
           {
            "colorbar": {
             "outlinewidth": 0,
             "ticks": ""
            },
            "colorscale": [
             [
              0,
              "#0d0887"
             ],
             [
              0.1111111111111111,
              "#46039f"
             ],
             [
              0.2222222222222222,
              "#7201a8"
             ],
             [
              0.3333333333333333,
              "#9c179e"
             ],
             [
              0.4444444444444444,
              "#bd3786"
             ],
             [
              0.5555555555555556,
              "#d8576b"
             ],
             [
              0.6666666666666666,
              "#ed7953"
             ],
             [
              0.7777777777777778,
              "#fb9f3a"
             ],
             [
              0.8888888888888888,
              "#fdca26"
             ],
             [
              1,
              "#f0f921"
             ]
            ],
            "type": "histogram2dcontour"
           }
          ],
          "mesh3d": [
           {
            "colorbar": {
             "outlinewidth": 0,
             "ticks": ""
            },
            "type": "mesh3d"
           }
          ],
          "parcoords": [
           {
            "line": {
             "colorbar": {
              "outlinewidth": 0,
              "ticks": ""
             }
            },
            "type": "parcoords"
           }
          ],
          "pie": [
           {
            "automargin": true,
            "type": "pie"
           }
          ],
          "scatter": [
           {
            "fillpattern": {
             "fillmode": "overlay",
             "size": 10,
             "solidity": 0.2
            },
            "type": "scatter"
           }
          ],
          "scatter3d": [
           {
            "line": {
             "colorbar": {
              "outlinewidth": 0,
              "ticks": ""
             }
            },
            "marker": {
             "colorbar": {
              "outlinewidth": 0,
              "ticks": ""
             }
            },
            "type": "scatter3d"
           }
          ],
          "scattercarpet": [
           {
            "marker": {
             "colorbar": {
              "outlinewidth": 0,
              "ticks": ""
             }
            },
            "type": "scattercarpet"
           }
          ],
          "scattergeo": [
           {
            "marker": {
             "colorbar": {
              "outlinewidth": 0,
              "ticks": ""
             }
            },
            "type": "scattergeo"
           }
          ],
          "scattergl": [
           {
            "marker": {
             "colorbar": {
              "outlinewidth": 0,
              "ticks": ""
             }
            },
            "type": "scattergl"
           }
          ],
          "scattermapbox": [
           {
            "marker": {
             "colorbar": {
              "outlinewidth": 0,
              "ticks": ""
             }
            },
            "type": "scattermapbox"
           }
          ],
          "scatterpolar": [
           {
            "marker": {
             "colorbar": {
              "outlinewidth": 0,
              "ticks": ""
             }
            },
            "type": "scatterpolar"
           }
          ],
          "scatterpolargl": [
           {
            "marker": {
             "colorbar": {
              "outlinewidth": 0,
              "ticks": ""
             }
            },
            "type": "scatterpolargl"
           }
          ],
          "scatterternary": [
           {
            "marker": {
             "colorbar": {
              "outlinewidth": 0,
              "ticks": ""
             }
            },
            "type": "scatterternary"
           }
          ],
          "surface": [
           {
            "colorbar": {
             "outlinewidth": 0,
             "ticks": ""
            },
            "colorscale": [
             [
              0,
              "#0d0887"
             ],
             [
              0.1111111111111111,
              "#46039f"
             ],
             [
              0.2222222222222222,
              "#7201a8"
             ],
             [
              0.3333333333333333,
              "#9c179e"
             ],
             [
              0.4444444444444444,
              "#bd3786"
             ],
             [
              0.5555555555555556,
              "#d8576b"
             ],
             [
              0.6666666666666666,
              "#ed7953"
             ],
             [
              0.7777777777777778,
              "#fb9f3a"
             ],
             [
              0.8888888888888888,
              "#fdca26"
             ],
             [
              1,
              "#f0f921"
             ]
            ],
            "type": "surface"
           }
          ],
          "table": [
           {
            "cells": {
             "fill": {
              "color": "#EBF0F8"
             },
             "line": {
              "color": "white"
             }
            },
            "header": {
             "fill": {
              "color": "#C8D4E3"
             },
             "line": {
              "color": "white"
             }
            },
            "type": "table"
           }
          ]
         },
         "layout": {
          "annotationdefaults": {
           "arrowcolor": "#2a3f5f",
           "arrowhead": 0,
           "arrowwidth": 1
          },
          "autotypenumbers": "strict",
          "coloraxis": {
           "colorbar": {
            "outlinewidth": 0,
            "ticks": ""
           }
          },
          "colorscale": {
           "diverging": [
            [
             0,
             "#8e0152"
            ],
            [
             0.1,
             "#c51b7d"
            ],
            [
             0.2,
             "#de77ae"
            ],
            [
             0.3,
             "#f1b6da"
            ],
            [
             0.4,
             "#fde0ef"
            ],
            [
             0.5,
             "#f7f7f7"
            ],
            [
             0.6,
             "#e6f5d0"
            ],
            [
             0.7,
             "#b8e186"
            ],
            [
             0.8,
             "#7fbc41"
            ],
            [
             0.9,
             "#4d9221"
            ],
            [
             1,
             "#276419"
            ]
           ],
           "sequential": [
            [
             0,
             "#0d0887"
            ],
            [
             0.1111111111111111,
             "#46039f"
            ],
            [
             0.2222222222222222,
             "#7201a8"
            ],
            [
             0.3333333333333333,
             "#9c179e"
            ],
            [
             0.4444444444444444,
             "#bd3786"
            ],
            [
             0.5555555555555556,
             "#d8576b"
            ],
            [
             0.6666666666666666,
             "#ed7953"
            ],
            [
             0.7777777777777778,
             "#fb9f3a"
            ],
            [
             0.8888888888888888,
             "#fdca26"
            ],
            [
             1,
             "#f0f921"
            ]
           ],
           "sequentialminus": [
            [
             0,
             "#0d0887"
            ],
            [
             0.1111111111111111,
             "#46039f"
            ],
            [
             0.2222222222222222,
             "#7201a8"
            ],
            [
             0.3333333333333333,
             "#9c179e"
            ],
            [
             0.4444444444444444,
             "#bd3786"
            ],
            [
             0.5555555555555556,
             "#d8576b"
            ],
            [
             0.6666666666666666,
             "#ed7953"
            ],
            [
             0.7777777777777778,
             "#fb9f3a"
            ],
            [
             0.8888888888888888,
             "#fdca26"
            ],
            [
             1,
             "#f0f921"
            ]
           ]
          },
          "colorway": [
           "#636efa",
           "#EF553B",
           "#00cc96",
           "#ab63fa",
           "#FFA15A",
           "#19d3f3",
           "#FF6692",
           "#B6E880",
           "#FF97FF",
           "#FECB52"
          ],
          "font": {
           "color": "#2a3f5f"
          },
          "geo": {
           "bgcolor": "white",
           "lakecolor": "white",
           "landcolor": "#E5ECF6",
           "showlakes": true,
           "showland": true,
           "subunitcolor": "white"
          },
          "hoverlabel": {
           "align": "left"
          },
          "hovermode": "closest",
          "mapbox": {
           "style": "light"
          },
          "paper_bgcolor": "white",
          "plot_bgcolor": "#E5ECF6",
          "polar": {
           "angularaxis": {
            "gridcolor": "white",
            "linecolor": "white",
            "ticks": ""
           },
           "bgcolor": "#E5ECF6",
           "radialaxis": {
            "gridcolor": "white",
            "linecolor": "white",
            "ticks": ""
           }
          },
          "scene": {
           "xaxis": {
            "backgroundcolor": "#E5ECF6",
            "gridcolor": "white",
            "gridwidth": 2,
            "linecolor": "white",
            "showbackground": true,
            "ticks": "",
            "zerolinecolor": "white"
           },
           "yaxis": {
            "backgroundcolor": "#E5ECF6",
            "gridcolor": "white",
            "gridwidth": 2,
            "linecolor": "white",
            "showbackground": true,
            "ticks": "",
            "zerolinecolor": "white"
           },
           "zaxis": {
            "backgroundcolor": "#E5ECF6",
            "gridcolor": "white",
            "gridwidth": 2,
            "linecolor": "white",
            "showbackground": true,
            "ticks": "",
            "zerolinecolor": "white"
           }
          },
          "shapedefaults": {
           "line": {
            "color": "#2a3f5f"
           }
          },
          "ternary": {
           "aaxis": {
            "gridcolor": "white",
            "linecolor": "white",
            "ticks": ""
           },
           "baxis": {
            "gridcolor": "white",
            "linecolor": "white",
            "ticks": ""
           },
           "bgcolor": "#E5ECF6",
           "caxis": {
            "gridcolor": "white",
            "linecolor": "white",
            "ticks": ""
           }
          },
          "title": {
           "x": 0.05
          },
          "xaxis": {
           "automargin": true,
           "gridcolor": "white",
           "linecolor": "white",
           "ticks": "",
           "title": {
            "standoff": 15
           },
           "zerolinecolor": "white",
           "zerolinewidth": 2
          },
          "yaxis": {
           "automargin": true,
           "gridcolor": "white",
           "linecolor": "white",
           "ticks": "",
           "title": {
            "standoff": 15
           },
           "zerolinecolor": "white",
           "zerolinewidth": 2
          }
         }
        },
        "xaxis": {
         "anchor": "y",
         "domain": [
          0,
          1
         ],
         "title": {
          "text": "x_cat_0"
         }
        },
        "yaxis": {
         "anchor": "x",
         "domain": [
          0,
          1
         ],
         "title": {
          "text": "count"
         }
        }
       }
      }
     },
     "metadata": {},
     "output_type": "display_data"
    },
    {
     "name": "stdout",
     "output_type": "stream",
     "text": [
      "P-value: 0.3515\n"
     ]
    },
    {
     "data": {
      "application/vnd.plotly.v1+json": {
       "config": {
        "plotlyServerURL": "https://plot.ly"
       },
       "data": [
        {
         "alignmentgroup": "True",
         "bingroup": "x",
         "hovertemplate": "y=0<br>x_cat_1=%{x}<br>count=%{y}<extra></extra>",
         "legendgroup": "0",
         "marker": {
          "color": "#636efa",
          "pattern": {
           "shape": ""
          }
         },
         "name": "0",
         "offsetgroup": "0",
         "orientation": "v",
         "showlegend": true,
         "texttemplate": "%{value}",
         "type": "histogram",
         "x": [
          "cat0",
          "cat2",
          "cat0",
          "cat1",
          "cat1",
          "cat0",
          "cat0",
          "cat0",
          "cat1",
          "cat3",
          "cat0",
          "cat3",
          "cat1",
          "cat3",
          "cat0",
          "cat1",
          "cat1",
          "cat3",
          "cat1",
          "cat1",
          "cat1",
          "cat0",
          "cat0",
          "cat1",
          "cat3",
          "cat2",
          "cat3",
          "cat2",
          "cat3",
          "cat3",
          "cat3",
          "cat0",
          "cat3",
          "cat2",
          "cat3",
          "cat1",
          "cat3",
          "cat2",
          "cat1",
          "cat3",
          "cat3",
          "cat0",
          "cat3",
          "cat1",
          "cat3",
          "cat3",
          "cat0",
          "cat1",
          "cat1",
          "cat3",
          "cat0",
          "cat2",
          "cat1",
          "cat3",
          "cat1",
          "cat3",
          "cat2",
          "cat2",
          "cat0",
          "cat1",
          "cat1",
          "cat0",
          "cat2",
          "cat3",
          "cat0",
          "cat3",
          "cat0",
          "cat2",
          "cat2",
          "cat2",
          "cat1",
          "cat1",
          "cat2",
          "cat2",
          "cat0",
          "cat2",
          "cat0",
          "cat0",
          "cat2",
          "cat1",
          "cat3",
          "cat3",
          "cat1",
          "cat1",
          "cat3",
          "cat1",
          "cat3",
          "cat1",
          "cat0",
          "cat2",
          "cat0",
          "cat2",
          "cat2",
          "cat1",
          "cat2",
          "cat1",
          "cat1",
          "cat3",
          "cat0",
          "cat1",
          "cat3",
          "cat0",
          "cat0",
          "cat2",
          "cat0",
          "cat2",
          "cat2",
          "cat2",
          "cat3",
          "cat2",
          "cat1",
          "cat0",
          "cat3",
          "cat0",
          "cat2",
          "cat1",
          "cat2",
          "cat1",
          "cat2",
          "cat1",
          "cat0",
          "cat0",
          "cat1",
          "cat2",
          "cat2",
          "cat3",
          "cat1",
          "cat2",
          "cat2",
          "cat2",
          "cat1",
          "cat0",
          "cat2",
          "cat1",
          "cat1",
          "cat0",
          "cat1",
          "cat2",
          "cat3",
          "cat3",
          "cat3",
          "cat2",
          "cat1",
          "cat3",
          "cat1",
          "cat2",
          "cat3",
          "cat2",
          "cat2",
          "cat1",
          "cat3",
          "cat3",
          "cat2",
          "cat2",
          "cat0",
          "cat3",
          "cat1",
          "cat2",
          "cat1",
          "cat3",
          "cat2",
          "cat3",
          "cat1",
          "cat3",
          "cat1",
          "cat0",
          "cat2",
          "cat2",
          "cat3",
          "cat2",
          "cat1",
          "cat2",
          "cat0",
          "cat3",
          "cat0",
          "cat1",
          "cat3",
          "cat0",
          "cat2",
          "cat0",
          "cat3",
          "cat1",
          "cat3",
          "cat0",
          "cat3",
          "cat3",
          "cat3",
          "cat1",
          "cat1",
          "cat1",
          "cat3",
          "cat0",
          "cat2",
          "cat1",
          "cat0",
          "cat1",
          "cat3",
          "cat1",
          "cat3",
          "cat2",
          "cat0",
          "cat1",
          "cat1",
          "cat3",
          "cat3",
          "cat0",
          "cat0",
          "cat2",
          "cat0",
          "cat1",
          "cat1",
          "cat3",
          "cat3",
          "cat1",
          "cat3",
          "cat2",
          "cat2",
          "cat2",
          "cat2",
          "cat0",
          "cat1",
          "cat1",
          "cat3",
          "cat0",
          "cat0",
          "cat2",
          "cat1",
          "cat1",
          "cat3",
          "cat0",
          "cat1",
          "cat2",
          "cat1",
          "cat1",
          "cat0",
          "cat1",
          "cat1",
          "cat3",
          "cat2",
          "cat2",
          "cat0",
          "cat1",
          "cat3",
          "cat1",
          "cat2",
          "cat0",
          "cat3",
          "cat2",
          "cat1",
          "cat3",
          "cat1"
         ],
         "xaxis": "x",
         "yaxis": "y"
        },
        {
         "alignmentgroup": "True",
         "bingroup": "x",
         "hovertemplate": "y=1<br>x_cat_1=%{x}<br>count=%{y}<extra></extra>",
         "legendgroup": "1",
         "marker": {
          "color": "#EF553B",
          "pattern": {
           "shape": ""
          }
         },
         "name": "1",
         "offsetgroup": "1",
         "orientation": "v",
         "showlegend": true,
         "texttemplate": "%{value}",
         "type": "histogram",
         "x": [
          "cat3",
          "cat1",
          "cat3",
          "cat0",
          "cat1",
          "cat0",
          "cat0",
          "cat1",
          "cat0",
          "cat2",
          "cat2",
          "cat2",
          "cat3",
          "cat0",
          "cat1",
          "cat1",
          "cat0",
          "cat1",
          "cat0",
          "cat0",
          "cat1",
          "cat0",
          "cat1",
          "cat2",
          "cat2",
          "cat1",
          "cat3",
          "cat3",
          "cat0",
          "cat2",
          "cat0",
          "cat1",
          "cat3",
          "cat2",
          "cat1",
          "cat3",
          "cat3",
          "cat0",
          "cat2",
          "cat3",
          "cat3",
          "cat2",
          "cat1",
          "cat2",
          "cat0",
          "cat1",
          "cat1",
          "cat1",
          "cat2",
          "cat2",
          "cat0",
          "cat2",
          "cat1",
          "cat0",
          "cat1",
          "cat3",
          "cat3",
          "cat0",
          "cat0",
          "cat2",
          "cat0",
          "cat3",
          "cat3",
          "cat3",
          "cat2",
          "cat2",
          "cat3",
          "cat2",
          "cat0",
          "cat3",
          "cat2",
          "cat1",
          "cat0",
          "cat0",
          "cat1",
          "cat3",
          "cat1",
          "cat3",
          "cat3",
          "cat1",
          "cat0",
          "cat2",
          "cat3",
          "cat2",
          "cat0",
          "cat2",
          "cat1",
          "cat0",
          "cat1",
          "cat1",
          "cat3",
          "cat3",
          "cat0",
          "cat0",
          "cat1",
          "cat3",
          "cat0",
          "cat1",
          "cat1",
          "cat3",
          "cat0",
          "cat0",
          "cat3",
          "cat1",
          "cat0",
          "cat0",
          "cat3",
          "cat3",
          "cat1",
          "cat1",
          "cat1",
          "cat3",
          "cat2",
          "cat3",
          "cat1",
          "cat2",
          "cat0",
          "cat3",
          "cat3",
          "cat0",
          "cat2",
          "cat0",
          "cat3",
          "cat1",
          "cat1",
          "cat0",
          "cat3",
          "cat2",
          "cat0",
          "cat2",
          "cat3",
          "cat2",
          "cat3",
          "cat2",
          "cat0",
          "cat2",
          "cat0",
          "cat2",
          "cat3",
          "cat0",
          "cat2",
          "cat2",
          "cat1",
          "cat0",
          "cat0",
          "cat0",
          "cat2",
          "cat3",
          "cat3",
          "cat0",
          "cat3",
          "cat3",
          "cat0",
          "cat1",
          "cat2",
          "cat2",
          "cat3",
          "cat1",
          "cat1",
          "cat1",
          "cat1",
          "cat2",
          "cat3",
          "cat2",
          "cat1",
          "cat0",
          "cat2",
          "cat3",
          "cat0",
          "cat0",
          "cat3",
          "cat3",
          "cat3",
          "cat0",
          "cat3",
          "cat1",
          "cat3",
          "cat3",
          "cat3",
          "cat1",
          "cat1",
          "cat2",
          "cat1",
          "cat1",
          "cat3",
          "cat2",
          "cat2",
          "cat2",
          "cat3",
          "cat2",
          "cat1",
          "cat1",
          "cat1",
          "cat2",
          "cat2",
          "cat2",
          "cat0",
          "cat0",
          "cat2",
          "cat0",
          "cat0",
          "cat2",
          "cat1",
          "cat3",
          "cat1",
          "cat3",
          "cat0",
          "cat1",
          "cat1",
          "cat3",
          "cat3",
          "cat3",
          "cat2",
          "cat0",
          "cat1",
          "cat3",
          "cat2",
          "cat2",
          "cat3",
          "cat0",
          "cat0",
          "cat0",
          "cat0",
          "cat0",
          "cat0",
          "cat1",
          "cat3",
          "cat2",
          "cat3",
          "cat1",
          "cat2",
          "cat2",
          "cat2",
          "cat3",
          "cat0",
          "cat1",
          "cat0",
          "cat0",
          "cat2",
          "cat1",
          "cat1",
          "cat0",
          "cat3",
          "cat3",
          "cat3",
          "cat3",
          "cat0",
          "cat2",
          "cat2"
         ],
         "xaxis": "x",
         "yaxis": "y"
        }
       ],
       "layout": {
        "barmode": "group",
        "legend": {
         "title": {
          "text": "y"
         },
         "tracegroupgap": 0
        },
        "margin": {
         "t": 60
        },
        "template": {
         "data": {
          "bar": [
           {
            "error_x": {
             "color": "#2a3f5f"
            },
            "error_y": {
             "color": "#2a3f5f"
            },
            "marker": {
             "line": {
              "color": "#E5ECF6",
              "width": 0.5
             },
             "pattern": {
              "fillmode": "overlay",
              "size": 10,
              "solidity": 0.2
             }
            },
            "type": "bar"
           }
          ],
          "barpolar": [
           {
            "marker": {
             "line": {
              "color": "#E5ECF6",
              "width": 0.5
             },
             "pattern": {
              "fillmode": "overlay",
              "size": 10,
              "solidity": 0.2
             }
            },
            "type": "barpolar"
           }
          ],
          "carpet": [
           {
            "aaxis": {
             "endlinecolor": "#2a3f5f",
             "gridcolor": "white",
             "linecolor": "white",
             "minorgridcolor": "white",
             "startlinecolor": "#2a3f5f"
            },
            "baxis": {
             "endlinecolor": "#2a3f5f",
             "gridcolor": "white",
             "linecolor": "white",
             "minorgridcolor": "white",
             "startlinecolor": "#2a3f5f"
            },
            "type": "carpet"
           }
          ],
          "choropleth": [
           {
            "colorbar": {
             "outlinewidth": 0,
             "ticks": ""
            },
            "type": "choropleth"
           }
          ],
          "contour": [
           {
            "colorbar": {
             "outlinewidth": 0,
             "ticks": ""
            },
            "colorscale": [
             [
              0,
              "#0d0887"
             ],
             [
              0.1111111111111111,
              "#46039f"
             ],
             [
              0.2222222222222222,
              "#7201a8"
             ],
             [
              0.3333333333333333,
              "#9c179e"
             ],
             [
              0.4444444444444444,
              "#bd3786"
             ],
             [
              0.5555555555555556,
              "#d8576b"
             ],
             [
              0.6666666666666666,
              "#ed7953"
             ],
             [
              0.7777777777777778,
              "#fb9f3a"
             ],
             [
              0.8888888888888888,
              "#fdca26"
             ],
             [
              1,
              "#f0f921"
             ]
            ],
            "type": "contour"
           }
          ],
          "contourcarpet": [
           {
            "colorbar": {
             "outlinewidth": 0,
             "ticks": ""
            },
            "type": "contourcarpet"
           }
          ],
          "heatmap": [
           {
            "colorbar": {
             "outlinewidth": 0,
             "ticks": ""
            },
            "colorscale": [
             [
              0,
              "#0d0887"
             ],
             [
              0.1111111111111111,
              "#46039f"
             ],
             [
              0.2222222222222222,
              "#7201a8"
             ],
             [
              0.3333333333333333,
              "#9c179e"
             ],
             [
              0.4444444444444444,
              "#bd3786"
             ],
             [
              0.5555555555555556,
              "#d8576b"
             ],
             [
              0.6666666666666666,
              "#ed7953"
             ],
             [
              0.7777777777777778,
              "#fb9f3a"
             ],
             [
              0.8888888888888888,
              "#fdca26"
             ],
             [
              1,
              "#f0f921"
             ]
            ],
            "type": "heatmap"
           }
          ],
          "heatmapgl": [
           {
            "colorbar": {
             "outlinewidth": 0,
             "ticks": ""
            },
            "colorscale": [
             [
              0,
              "#0d0887"
             ],
             [
              0.1111111111111111,
              "#46039f"
             ],
             [
              0.2222222222222222,
              "#7201a8"
             ],
             [
              0.3333333333333333,
              "#9c179e"
             ],
             [
              0.4444444444444444,
              "#bd3786"
             ],
             [
              0.5555555555555556,
              "#d8576b"
             ],
             [
              0.6666666666666666,
              "#ed7953"
             ],
             [
              0.7777777777777778,
              "#fb9f3a"
             ],
             [
              0.8888888888888888,
              "#fdca26"
             ],
             [
              1,
              "#f0f921"
             ]
            ],
            "type": "heatmapgl"
           }
          ],
          "histogram": [
           {
            "marker": {
             "pattern": {
              "fillmode": "overlay",
              "size": 10,
              "solidity": 0.2
             }
            },
            "type": "histogram"
           }
          ],
          "histogram2d": [
           {
            "colorbar": {
             "outlinewidth": 0,
             "ticks": ""
            },
            "colorscale": [
             [
              0,
              "#0d0887"
             ],
             [
              0.1111111111111111,
              "#46039f"
             ],
             [
              0.2222222222222222,
              "#7201a8"
             ],
             [
              0.3333333333333333,
              "#9c179e"
             ],
             [
              0.4444444444444444,
              "#bd3786"
             ],
             [
              0.5555555555555556,
              "#d8576b"
             ],
             [
              0.6666666666666666,
              "#ed7953"
             ],
             [
              0.7777777777777778,
              "#fb9f3a"
             ],
             [
              0.8888888888888888,
              "#fdca26"
             ],
             [
              1,
              "#f0f921"
             ]
            ],
            "type": "histogram2d"
           }
          ],
          "histogram2dcontour": [
           {
            "colorbar": {
             "outlinewidth": 0,
             "ticks": ""
            },
            "colorscale": [
             [
              0,
              "#0d0887"
             ],
             [
              0.1111111111111111,
              "#46039f"
             ],
             [
              0.2222222222222222,
              "#7201a8"
             ],
             [
              0.3333333333333333,
              "#9c179e"
             ],
             [
              0.4444444444444444,
              "#bd3786"
             ],
             [
              0.5555555555555556,
              "#d8576b"
             ],
             [
              0.6666666666666666,
              "#ed7953"
             ],
             [
              0.7777777777777778,
              "#fb9f3a"
             ],
             [
              0.8888888888888888,
              "#fdca26"
             ],
             [
              1,
              "#f0f921"
             ]
            ],
            "type": "histogram2dcontour"
           }
          ],
          "mesh3d": [
           {
            "colorbar": {
             "outlinewidth": 0,
             "ticks": ""
            },
            "type": "mesh3d"
           }
          ],
          "parcoords": [
           {
            "line": {
             "colorbar": {
              "outlinewidth": 0,
              "ticks": ""
             }
            },
            "type": "parcoords"
           }
          ],
          "pie": [
           {
            "automargin": true,
            "type": "pie"
           }
          ],
          "scatter": [
           {
            "fillpattern": {
             "fillmode": "overlay",
             "size": 10,
             "solidity": 0.2
            },
            "type": "scatter"
           }
          ],
          "scatter3d": [
           {
            "line": {
             "colorbar": {
              "outlinewidth": 0,
              "ticks": ""
             }
            },
            "marker": {
             "colorbar": {
              "outlinewidth": 0,
              "ticks": ""
             }
            },
            "type": "scatter3d"
           }
          ],
          "scattercarpet": [
           {
            "marker": {
             "colorbar": {
              "outlinewidth": 0,
              "ticks": ""
             }
            },
            "type": "scattercarpet"
           }
          ],
          "scattergeo": [
           {
            "marker": {
             "colorbar": {
              "outlinewidth": 0,
              "ticks": ""
             }
            },
            "type": "scattergeo"
           }
          ],
          "scattergl": [
           {
            "marker": {
             "colorbar": {
              "outlinewidth": 0,
              "ticks": ""
             }
            },
            "type": "scattergl"
           }
          ],
          "scattermapbox": [
           {
            "marker": {
             "colorbar": {
              "outlinewidth": 0,
              "ticks": ""
             }
            },
            "type": "scattermapbox"
           }
          ],
          "scatterpolar": [
           {
            "marker": {
             "colorbar": {
              "outlinewidth": 0,
              "ticks": ""
             }
            },
            "type": "scatterpolar"
           }
          ],
          "scatterpolargl": [
           {
            "marker": {
             "colorbar": {
              "outlinewidth": 0,
              "ticks": ""
             }
            },
            "type": "scatterpolargl"
           }
          ],
          "scatterternary": [
           {
            "marker": {
             "colorbar": {
              "outlinewidth": 0,
              "ticks": ""
             }
            },
            "type": "scatterternary"
           }
          ],
          "surface": [
           {
            "colorbar": {
             "outlinewidth": 0,
             "ticks": ""
            },
            "colorscale": [
             [
              0,
              "#0d0887"
             ],
             [
              0.1111111111111111,
              "#46039f"
             ],
             [
              0.2222222222222222,
              "#7201a8"
             ],
             [
              0.3333333333333333,
              "#9c179e"
             ],
             [
              0.4444444444444444,
              "#bd3786"
             ],
             [
              0.5555555555555556,
              "#d8576b"
             ],
             [
              0.6666666666666666,
              "#ed7953"
             ],
             [
              0.7777777777777778,
              "#fb9f3a"
             ],
             [
              0.8888888888888888,
              "#fdca26"
             ],
             [
              1,
              "#f0f921"
             ]
            ],
            "type": "surface"
           }
          ],
          "table": [
           {
            "cells": {
             "fill": {
              "color": "#EBF0F8"
             },
             "line": {
              "color": "white"
             }
            },
            "header": {
             "fill": {
              "color": "#C8D4E3"
             },
             "line": {
              "color": "white"
             }
            },
            "type": "table"
           }
          ]
         },
         "layout": {
          "annotationdefaults": {
           "arrowcolor": "#2a3f5f",
           "arrowhead": 0,
           "arrowwidth": 1
          },
          "autotypenumbers": "strict",
          "coloraxis": {
           "colorbar": {
            "outlinewidth": 0,
            "ticks": ""
           }
          },
          "colorscale": {
           "diverging": [
            [
             0,
             "#8e0152"
            ],
            [
             0.1,
             "#c51b7d"
            ],
            [
             0.2,
             "#de77ae"
            ],
            [
             0.3,
             "#f1b6da"
            ],
            [
             0.4,
             "#fde0ef"
            ],
            [
             0.5,
             "#f7f7f7"
            ],
            [
             0.6,
             "#e6f5d0"
            ],
            [
             0.7,
             "#b8e186"
            ],
            [
             0.8,
             "#7fbc41"
            ],
            [
             0.9,
             "#4d9221"
            ],
            [
             1,
             "#276419"
            ]
           ],
           "sequential": [
            [
             0,
             "#0d0887"
            ],
            [
             0.1111111111111111,
             "#46039f"
            ],
            [
             0.2222222222222222,
             "#7201a8"
            ],
            [
             0.3333333333333333,
             "#9c179e"
            ],
            [
             0.4444444444444444,
             "#bd3786"
            ],
            [
             0.5555555555555556,
             "#d8576b"
            ],
            [
             0.6666666666666666,
             "#ed7953"
            ],
            [
             0.7777777777777778,
             "#fb9f3a"
            ],
            [
             0.8888888888888888,
             "#fdca26"
            ],
            [
             1,
             "#f0f921"
            ]
           ],
           "sequentialminus": [
            [
             0,
             "#0d0887"
            ],
            [
             0.1111111111111111,
             "#46039f"
            ],
            [
             0.2222222222222222,
             "#7201a8"
            ],
            [
             0.3333333333333333,
             "#9c179e"
            ],
            [
             0.4444444444444444,
             "#bd3786"
            ],
            [
             0.5555555555555556,
             "#d8576b"
            ],
            [
             0.6666666666666666,
             "#ed7953"
            ],
            [
             0.7777777777777778,
             "#fb9f3a"
            ],
            [
             0.8888888888888888,
             "#fdca26"
            ],
            [
             1,
             "#f0f921"
            ]
           ]
          },
          "colorway": [
           "#636efa",
           "#EF553B",
           "#00cc96",
           "#ab63fa",
           "#FFA15A",
           "#19d3f3",
           "#FF6692",
           "#B6E880",
           "#FF97FF",
           "#FECB52"
          ],
          "font": {
           "color": "#2a3f5f"
          },
          "geo": {
           "bgcolor": "white",
           "lakecolor": "white",
           "landcolor": "#E5ECF6",
           "showlakes": true,
           "showland": true,
           "subunitcolor": "white"
          },
          "hoverlabel": {
           "align": "left"
          },
          "hovermode": "closest",
          "mapbox": {
           "style": "light"
          },
          "paper_bgcolor": "white",
          "plot_bgcolor": "#E5ECF6",
          "polar": {
           "angularaxis": {
            "gridcolor": "white",
            "linecolor": "white",
            "ticks": ""
           },
           "bgcolor": "#E5ECF6",
           "radialaxis": {
            "gridcolor": "white",
            "linecolor": "white",
            "ticks": ""
           }
          },
          "scene": {
           "xaxis": {
            "backgroundcolor": "#E5ECF6",
            "gridcolor": "white",
            "gridwidth": 2,
            "linecolor": "white",
            "showbackground": true,
            "ticks": "",
            "zerolinecolor": "white"
           },
           "yaxis": {
            "backgroundcolor": "#E5ECF6",
            "gridcolor": "white",
            "gridwidth": 2,
            "linecolor": "white",
            "showbackground": true,
            "ticks": "",
            "zerolinecolor": "white"
           },
           "zaxis": {
            "backgroundcolor": "#E5ECF6",
            "gridcolor": "white",
            "gridwidth": 2,
            "linecolor": "white",
            "showbackground": true,
            "ticks": "",
            "zerolinecolor": "white"
           }
          },
          "shapedefaults": {
           "line": {
            "color": "#2a3f5f"
           }
          },
          "ternary": {
           "aaxis": {
            "gridcolor": "white",
            "linecolor": "white",
            "ticks": ""
           },
           "baxis": {
            "gridcolor": "white",
            "linecolor": "white",
            "ticks": ""
           },
           "bgcolor": "#E5ECF6",
           "caxis": {
            "gridcolor": "white",
            "linecolor": "white",
            "ticks": ""
           }
          },
          "title": {
           "x": 0.05
          },
          "xaxis": {
           "automargin": true,
           "gridcolor": "white",
           "linecolor": "white",
           "ticks": "",
           "title": {
            "standoff": 15
           },
           "zerolinecolor": "white",
           "zerolinewidth": 2
          },
          "yaxis": {
           "automargin": true,
           "gridcolor": "white",
           "linecolor": "white",
           "ticks": "",
           "title": {
            "standoff": 15
           },
           "zerolinecolor": "white",
           "zerolinewidth": 2
          }
         }
        },
        "xaxis": {
         "anchor": "y",
         "domain": [
          0,
          1
         ],
         "title": {
          "text": "x_cat_1"
         }
        },
        "yaxis": {
         "anchor": "x",
         "domain": [
          0,
          1
         ],
         "title": {
          "text": "count"
         }
        }
       }
      }
     },
     "metadata": {},
     "output_type": "display_data"
    }
   ],
   "source": [
    "coluna_p_menor_05 = []\n",
    "\n",
    "for coluna in df.columns:\n",
    "    if df[coluna].dtype == 'O':\n",
    "        \n",
    "        tabela_contingencia = pd.crosstab(df[var_dep], df[coluna])\n",
    "        chi2, p, dof, expected = chi2_contingency(tabela_contingencia)\n",
    "        print('P-value:', round(p,4))\n",
    "        \n",
    "        fig = px.histogram(df, x=coluna, text_auto=True, color=var_dep, barmode='group')\n",
    "        fig.show()\n",
    "\n",
    "        if p < 0.10:\n",
    "            coluna_p_menor_05.append(coluna)"
   ]
  },
  {
   "cell_type": "code",
   "execution_count": 1,
   "id": "fb192ce3-a152-4c31-8536-62047678015f",
   "metadata": {
    "scrolled": true
   },
   "outputs": [
    {
     "ename": "NameError",
     "evalue": "name 'df' is not defined",
     "output_type": "error",
     "traceback": [
      "\u001b[1;31m---------------------------------------------------------------------------\u001b[0m",
      "\u001b[1;31mNameError\u001b[0m                                 Traceback (most recent call last)",
      "Cell \u001b[1;32mIn[1], line 1\u001b[0m\n\u001b[1;32m----> 1\u001b[0m \u001b[38;5;28;01mfor\u001b[39;00m coluna \u001b[38;5;129;01min\u001b[39;00m df\u001b[38;5;241m.\u001b[39mcolumns:\n\u001b[0;32m      2\u001b[0m     \u001b[38;5;28;01mif\u001b[39;00m df[coluna]\u001b[38;5;241m.\u001b[39mdtype \u001b[38;5;241m==\u001b[39m \u001b[38;5;124m'\u001b[39m\u001b[38;5;124mint64\u001b[39m\u001b[38;5;124m'\u001b[39m \u001b[38;5;129;01mor\u001b[39;00m df[coluna]\u001b[38;5;241m.\u001b[39mdtype \u001b[38;5;241m==\u001b[39m \u001b[38;5;124m'\u001b[39m\u001b[38;5;124mfloat64\u001b[39m\u001b[38;5;124m'\u001b[39m:\n\u001b[0;32m      3\u001b[0m         grupos \u001b[38;5;241m=\u001b[39m df\u001b[38;5;241m.\u001b[39mgroupby(var_dep)[coluna]\u001b[38;5;241m.\u001b[39mapply(\u001b[38;5;28mlist\u001b[39m)\n",
      "\u001b[1;31mNameError\u001b[0m: name 'df' is not defined"
     ]
    }
   ],
   "source": [
    "for coluna in df.columns:\n",
    "    if df[coluna].dtype == 'int64' or df[coluna].dtype == 'float64':\n",
    "        grupos = df.groupby(var_dep)[coluna].apply(list)\n",
    "        \n",
    "        if len(df[var_dep].unique()) == 2:\n",
    "            # Extração dos grupos para aplicação do teste de Mann-Whitney\n",
    "            grupo1, grupo2 = grupos\n",
    "            stat, p_value_mw = stats.mannwhitneyu(grupo1, grupo2)\n",
    "            print('P-value (Mann-Whitney):', round(p_value_mw, 4))\n",
    "\n",
    "            # Aplicação do teste T de Student se os dados parecem seguir uma distribuição normal\n",
    "            stat, p_value_t = stats.ttest_ind(grupo1, grupo2)\n",
    "            print('P-value (Teste T):', round(p_value_t, 4))\n",
    "\n",
    "            if p_value_mw < 0.05 or p_value_t < 0.05:\n",
    "                coluna_p_menor_05.append(coluna)\n",
    "\n",
    "        elif len(df[var_dep].unique()) > 2:\n",
    "            # Aplicando o teste ANOVA\n",
    "            f_value, p_value_kk = stats.f_oneway(*grupos)\n",
    "            print('P-value (Kruskal-Wallis):', round(p_value_kk, 4))\n",
    "            \n",
    "            # Aplicando o teste de Kruskal-Wallis\n",
    "            kruskal_stat, p_value_anova = stats.kruskal(*grupos)\n",
    "            print('P-value (Anova):', round(p_value_anova, 4))\n",
    "            \n",
    "            if p_value_kk < 0.05 or p_value_anova < 0.05:\n",
    "                coluna_p_menor_05.append(coluna)\n",
    "    \n",
    "        fig = px.violin(df, x=coluna, y=var_dep, color=var_dep, box=True, points=\"all\", hover_data=df.columns)\n",
    "        #px.box(df, x=coluna, y=var_dep, color=var_dep)\n",
    "        fig.show()"
   ]
  },
  {
   "cell_type": "code",
   "execution_count": 23,
   "id": "762b5e02-46e4-452e-a46a-4de9de679cea",
   "metadata": {},
   "outputs": [
    {
     "data": {
      "text/plain": [
       "['y',\n",
       " 'x_bin0',\n",
       " 'x_bin1',\n",
       " 'x_bin2',\n",
       " 'x_cat0',\n",
       " 'x_cat1',\n",
       " 'x_cat_0',\n",
       " 'x_num0',\n",
       " 'x_num1',\n",
       " 'x_num2',\n",
       " 'x_num3',\n",
       " 'x_num4',\n",
       " 'x_num6',\n",
       " 'x_num7',\n",
       " 'x_num8',\n",
       " 'x_num9']"
      ]
     },
     "execution_count": 23,
     "metadata": {},
     "output_type": "execute_result"
    }
   ],
   "source": [
    "coluna_p_menor_05"
   ]
  },
  {
   "cell_type": "code",
   "execution_count": 24,
   "id": "fac7920d-4b69-4061-bcc6-810835b9dd52",
   "metadata": {},
   "outputs": [],
   "source": [
    "if var_dep in coluna_p_menor_05:\n",
    "    coluna_p_menor_05.remove(var_dep)"
   ]
  },
  {
   "cell_type": "raw",
   "id": "f9ad8486-00bb-47b0-88bc-33b9e97194ba",
   "metadata": {},
   "source": [
    "item_rm = ['Grupo','grupo2']\n",
    "for i in item_rm:\n",
    "    #coluna_p_menor_05.remove(i)\n",
    "    coluna_p_menor_05.append(i)\n",
    "print(coluna_p_menor_05)"
   ]
  },
  {
   "cell_type": "code",
   "execution_count": 25,
   "id": "87be9cf4-e058-496c-8068-f99c9b88229b",
   "metadata": {},
   "outputs": [],
   "source": [
    "x = df[coluna_p_menor_05]\n",
    "y = df[var_dep]"
   ]
  },
  {
   "cell_type": "markdown",
   "id": "c7d6648c-657e-4c37-bda9-6529283a4cbd",
   "metadata": {},
   "source": [
    "# Transformando Variaveis"
   ]
  },
  {
   "cell_type": "markdown",
   "id": "e7e21a69-9253-4cc7-8b9d-1bf5fd0bfb6b",
   "metadata": {},
   "source": [
    "## Independentes: Dummys"
   ]
  },
  {
   "cell_type": "code",
   "execution_count": 26,
   "id": "0c16bf25-b88c-464a-a3c0-c9893723c407",
   "metadata": {},
   "outputs": [],
   "source": [
    "from sklearn.compose import make_column_transformer\n",
    "from sklearn.preprocessing import OneHotEncoder #transformando colunas com 2 categorias em 0 e 1"
   ]
  },
  {
   "cell_type": "code",
   "execution_count": 27,
   "id": "59a9a2f4-6890-46ab-a375-fe3e16106132",
   "metadata": {},
   "outputs": [
    {
     "name": "stdout",
     "output_type": "stream",
     "text": [
      "<class 'pandas.core.frame.DataFrame'>\n",
      "RangeIndex: 500 entries, 0 to 499\n",
      "Data columns (total 15 columns):\n",
      " #   Column   Non-Null Count  Dtype  \n",
      "---  ------   --------------  -----  \n",
      " 0   x_bin0   500 non-null    object \n",
      " 1   x_bin1   500 non-null    object \n",
      " 2   x_bin2   500 non-null    object \n",
      " 3   x_cat0   500 non-null    object \n",
      " 4   x_cat1   500 non-null    object \n",
      " 5   x_cat_0  500 non-null    object \n",
      " 6   x_num0   500 non-null    float64\n",
      " 7   x_num1   500 non-null    float64\n",
      " 8   x_num2   500 non-null    float64\n",
      " 9   x_num3   500 non-null    float64\n",
      " 10  x_num4   500 non-null    float64\n",
      " 11  x_num6   500 non-null    float64\n",
      " 12  x_num7   500 non-null    float64\n",
      " 13  x_num8   500 non-null    float64\n",
      " 14  x_num9   500 non-null    float64\n",
      "dtypes: float64(9), object(6)\n",
      "memory usage: 58.7+ KB\n"
     ]
    }
   ],
   "source": [
    "x.info()"
   ]
  },
  {
   "cell_type": "code",
   "execution_count": 28,
   "id": "8bca21c8-8a24-4250-a1b2-14cd78e55e02",
   "metadata": {},
   "outputs": [
    {
     "name": "stdout",
     "output_type": "stream",
     "text": [
      "2 niveis: x_bin0 => ['cat0' 'cat1']\n",
      "2 niveis: x_bin1 => ['cat0' 'cat1']\n",
      "2 niveis: x_bin2 => ['cat1' 'cat0']\n",
      "3 niveis: x_cat0 => ['cat0' 'cat2' 'cat1']\n",
      "3 niveis: x_cat1 => ['cat2' 'cat1' 'cat0']\n",
      "3 niveis: x_cat_0 => ['cat0' 'cat2' 'cat3' 'cat1']\n"
     ]
    }
   ],
   "source": [
    "colunas_binarias = []\n",
    "for coluna in x.columns:\n",
    "    if df[coluna].dtype == 'O':\n",
    "        categorias = x[coluna].unique()\n",
    "        if len(categorias) == 2:\n",
    "            print('2 niveis:', coluna, '=>', categorias)\n",
    "            colunas_binarias.append(coluna)\n",
    "        else:\n",
    "            print('3 niveis:', coluna, '=>', categorias)\n",
    "            colunas_binarias.append(coluna)"
   ]
  },
  {
   "cell_type": "code",
   "execution_count": 29,
   "id": "f1c2d9e4-5fa1-4ce1-b908-c7d2c4ff853a",
   "metadata": {},
   "outputs": [
    {
     "data": {
      "text/html": [
       "<div>\n",
       "<style scoped>\n",
       "    .dataframe tbody tr th:only-of-type {\n",
       "        vertical-align: middle;\n",
       "    }\n",
       "\n",
       "    .dataframe tbody tr th {\n",
       "        vertical-align: top;\n",
       "    }\n",
       "\n",
       "    .dataframe thead th {\n",
       "        text-align: right;\n",
       "    }\n",
       "</style>\n",
       "<table border=\"1\" class=\"dataframe\">\n",
       "  <thead>\n",
       "    <tr style=\"text-align: right;\">\n",
       "      <th></th>\n",
       "      <th>onehotencoder__x_bin0_cat1</th>\n",
       "      <th>onehotencoder__x_bin1_cat1</th>\n",
       "      <th>onehotencoder__x_bin2_cat1</th>\n",
       "      <th>onehotencoder__x_cat0_cat0</th>\n",
       "      <th>onehotencoder__x_cat0_cat1</th>\n",
       "      <th>onehotencoder__x_cat0_cat2</th>\n",
       "      <th>onehotencoder__x_cat1_cat0</th>\n",
       "      <th>onehotencoder__x_cat1_cat1</th>\n",
       "      <th>onehotencoder__x_cat1_cat2</th>\n",
       "      <th>onehotencoder__x_cat_0_cat0</th>\n",
       "      <th>...</th>\n",
       "      <th>onehotencoder__x_cat_0_cat3</th>\n",
       "      <th>remainder__x_num0</th>\n",
       "      <th>remainder__x_num1</th>\n",
       "      <th>remainder__x_num2</th>\n",
       "      <th>remainder__x_num3</th>\n",
       "      <th>remainder__x_num4</th>\n",
       "      <th>remainder__x_num6</th>\n",
       "      <th>remainder__x_num7</th>\n",
       "      <th>remainder__x_num8</th>\n",
       "      <th>remainder__x_num9</th>\n",
       "    </tr>\n",
       "  </thead>\n",
       "  <tbody>\n",
       "    <tr>\n",
       "      <th>0</th>\n",
       "      <td>0.0</td>\n",
       "      <td>0.0</td>\n",
       "      <td>1.0</td>\n",
       "      <td>1.0</td>\n",
       "      <td>0.0</td>\n",
       "      <td>0.0</td>\n",
       "      <td>0.0</td>\n",
       "      <td>0.0</td>\n",
       "      <td>1.0</td>\n",
       "      <td>1.0</td>\n",
       "      <td>...</td>\n",
       "      <td>0.0</td>\n",
       "      <td>0.843910</td>\n",
       "      <td>1.012945</td>\n",
       "      <td>1.190556</td>\n",
       "      <td>2.672900</td>\n",
       "      <td>-0.943966</td>\n",
       "      <td>-0.674588</td>\n",
       "      <td>0.598498</td>\n",
       "      <td>-1.244136</td>\n",
       "      <td>-0.560193</td>\n",
       "    </tr>\n",
       "    <tr>\n",
       "      <th>1</th>\n",
       "      <td>0.0</td>\n",
       "      <td>1.0</td>\n",
       "      <td>0.0</td>\n",
       "      <td>0.0</td>\n",
       "      <td>0.0</td>\n",
       "      <td>1.0</td>\n",
       "      <td>0.0</td>\n",
       "      <td>1.0</td>\n",
       "      <td>0.0</td>\n",
       "      <td>1.0</td>\n",
       "      <td>...</td>\n",
       "      <td>0.0</td>\n",
       "      <td>-1.271782</td>\n",
       "      <td>1.820219</td>\n",
       "      <td>1.225230</td>\n",
       "      <td>1.055635</td>\n",
       "      <td>-0.365865</td>\n",
       "      <td>1.250390</td>\n",
       "      <td>1.054216</td>\n",
       "      <td>-0.362961</td>\n",
       "      <td>0.381651</td>\n",
       "    </tr>\n",
       "    <tr>\n",
       "      <th>2</th>\n",
       "      <td>0.0</td>\n",
       "      <td>1.0</td>\n",
       "      <td>0.0</td>\n",
       "      <td>0.0</td>\n",
       "      <td>1.0</td>\n",
       "      <td>0.0</td>\n",
       "      <td>0.0</td>\n",
       "      <td>0.0</td>\n",
       "      <td>1.0</td>\n",
       "      <td>0.0</td>\n",
       "      <td>...</td>\n",
       "      <td>0.0</td>\n",
       "      <td>0.097646</td>\n",
       "      <td>2.428925</td>\n",
       "      <td>2.313740</td>\n",
       "      <td>3.347566</td>\n",
       "      <td>-2.453440</td>\n",
       "      <td>-3.100085</td>\n",
       "      <td>-0.070826</td>\n",
       "      <td>-3.842795</td>\n",
       "      <td>-0.606800</td>\n",
       "    </tr>\n",
       "    <tr>\n",
       "      <th>3</th>\n",
       "      <td>0.0</td>\n",
       "      <td>1.0</td>\n",
       "      <td>0.0</td>\n",
       "      <td>0.0</td>\n",
       "      <td>1.0</td>\n",
       "      <td>0.0</td>\n",
       "      <td>0.0</td>\n",
       "      <td>0.0</td>\n",
       "      <td>1.0</td>\n",
       "      <td>0.0</td>\n",
       "      <td>...</td>\n",
       "      <td>1.0</td>\n",
       "      <td>-1.680626</td>\n",
       "      <td>-1.532230</td>\n",
       "      <td>1.490382</td>\n",
       "      <td>1.053494</td>\n",
       "      <td>-0.385167</td>\n",
       "      <td>0.676873</td>\n",
       "      <td>1.031453</td>\n",
       "      <td>-1.969521</td>\n",
       "      <td>1.538824</td>\n",
       "    </tr>\n",
       "    <tr>\n",
       "      <th>4</th>\n",
       "      <td>0.0</td>\n",
       "      <td>0.0</td>\n",
       "      <td>1.0</td>\n",
       "      <td>0.0</td>\n",
       "      <td>0.0</td>\n",
       "      <td>1.0</td>\n",
       "      <td>0.0</td>\n",
       "      <td>1.0</td>\n",
       "      <td>0.0</td>\n",
       "      <td>0.0</td>\n",
       "      <td>...</td>\n",
       "      <td>1.0</td>\n",
       "      <td>-0.187534</td>\n",
       "      <td>1.967675</td>\n",
       "      <td>2.223379</td>\n",
       "      <td>1.808796</td>\n",
       "      <td>-2.786070</td>\n",
       "      <td>-0.334265</td>\n",
       "      <td>-0.897495</td>\n",
       "      <td>-2.092557</td>\n",
       "      <td>0.052721</td>\n",
       "    </tr>\n",
       "  </tbody>\n",
       "</table>\n",
       "<p>5 rows × 22 columns</p>\n",
       "</div>"
      ],
      "text/plain": [
       "   onehotencoder__x_bin0_cat1  onehotencoder__x_bin1_cat1  \\\n",
       "0                         0.0                         0.0   \n",
       "1                         0.0                         1.0   \n",
       "2                         0.0                         1.0   \n",
       "3                         0.0                         1.0   \n",
       "4                         0.0                         0.0   \n",
       "\n",
       "   onehotencoder__x_bin2_cat1  onehotencoder__x_cat0_cat0  \\\n",
       "0                         1.0                         1.0   \n",
       "1                         0.0                         0.0   \n",
       "2                         0.0                         0.0   \n",
       "3                         0.0                         0.0   \n",
       "4                         1.0                         0.0   \n",
       "\n",
       "   onehotencoder__x_cat0_cat1  onehotencoder__x_cat0_cat2  \\\n",
       "0                         0.0                         0.0   \n",
       "1                         0.0                         1.0   \n",
       "2                         1.0                         0.0   \n",
       "3                         1.0                         0.0   \n",
       "4                         0.0                         1.0   \n",
       "\n",
       "   onehotencoder__x_cat1_cat0  onehotencoder__x_cat1_cat1  \\\n",
       "0                         0.0                         0.0   \n",
       "1                         0.0                         1.0   \n",
       "2                         0.0                         0.0   \n",
       "3                         0.0                         0.0   \n",
       "4                         0.0                         1.0   \n",
       "\n",
       "   onehotencoder__x_cat1_cat2  onehotencoder__x_cat_0_cat0  ...  \\\n",
       "0                         1.0                          1.0  ...   \n",
       "1                         0.0                          1.0  ...   \n",
       "2                         1.0                          0.0  ...   \n",
       "3                         1.0                          0.0  ...   \n",
       "4                         0.0                          0.0  ...   \n",
       "\n",
       "   onehotencoder__x_cat_0_cat3  remainder__x_num0  remainder__x_num1  \\\n",
       "0                          0.0           0.843910           1.012945   \n",
       "1                          0.0          -1.271782           1.820219   \n",
       "2                          0.0           0.097646           2.428925   \n",
       "3                          1.0          -1.680626          -1.532230   \n",
       "4                          1.0          -0.187534           1.967675   \n",
       "\n",
       "   remainder__x_num2  remainder__x_num3  remainder__x_num4  remainder__x_num6  \\\n",
       "0           1.190556           2.672900          -0.943966          -0.674588   \n",
       "1           1.225230           1.055635          -0.365865           1.250390   \n",
       "2           2.313740           3.347566          -2.453440          -3.100085   \n",
       "3           1.490382           1.053494          -0.385167           0.676873   \n",
       "4           2.223379           1.808796          -2.786070          -0.334265   \n",
       "\n",
       "   remainder__x_num7  remainder__x_num8  remainder__x_num9  \n",
       "0           0.598498          -1.244136          -0.560193  \n",
       "1           1.054216          -0.362961           0.381651  \n",
       "2          -0.070826          -3.842795          -0.606800  \n",
       "3           1.031453          -1.969521           1.538824  \n",
       "4          -0.897495          -2.092557           0.052721  \n",
       "\n",
       "[5 rows x 22 columns]"
      ]
     },
     "execution_count": 29,
     "metadata": {},
     "output_type": "execute_result"
    }
   ],
   "source": [
    "coluna = x.columns\n",
    "one_hot = make_column_transformer((\n",
    "    OneHotEncoder(drop='if_binary'), #caso a coluna tenha apenas 2 categorias \n",
    "    colunas_binarias), #passando quais são essas colunas\n",
    "                                  remainder = 'passthrough', sparse_threshold=0) #oque deve ser feito com as outras\n",
    "\n",
    "#Aplicando transformação\n",
    "x = one_hot.fit_transform(x)\n",
    "\n",
    "#Os novos nomes das colunas #'onehotencoder=transformadas; 'remainder'=não transformadas\n",
    "novos_nomes_colunas = one_hot.get_feature_names_out(coluna)\n",
    "\n",
    "x = pd.DataFrame(x, columns = novos_nomes_colunas) #alterando de volta\n",
    "x_columns = x.columns.tolist() \n",
    "x.head()"
   ]
  },
  {
   "cell_type": "markdown",
   "id": "abcde4a7-d856-4cf6-bf8b-aa7822b314a4",
   "metadata": {},
   "source": [
    "### Normalização de dados"
   ]
  },
  {
   "cell_type": "code",
   "execution_count": 30,
   "id": "47e49b6e-df28-44fc-b1c0-d45b5d3b0528",
   "metadata": {},
   "outputs": [],
   "source": [
    "from sklearn.preprocessing import MinMaxScaler\n",
    "normalizacao = MinMaxScaler()\n",
    "x = normalizacao.fit_transform(x)\n",
    "\n",
    "#df['Close_padronizada'] = (df[coluna] - df[coluna].mean()) / df[coluna].std()\n",
    "#df['Close_normalizada'] = (df[coluna] - df[coluna].min()) / (df[coluna].max() - df[coluna].min())"
   ]
  },
  {
   "cell_type": "markdown",
   "id": "ef324c5b-4c94-4eb6-aa85-5e8a547ea262",
   "metadata": {},
   "source": [
    "## Dependente"
   ]
  },
  {
   "cell_type": "code",
   "execution_count": 31,
   "id": "a1ba36ff-e714-4f48-bc38-4af77c9293c9",
   "metadata": {},
   "outputs": [],
   "source": [
    "from sklearn.preprocessing import LabelEncoder\n",
    "y = LabelEncoder().fit_transform(y)"
   ]
  },
  {
   "cell_type": "markdown",
   "id": "6fab438b-3e01-43b7-92da-abd145f2c381",
   "metadata": {},
   "source": [
    "# Dividindo a Base em Treino e Teste "
   ]
  },
  {
   "cell_type": "code",
   "execution_count": 32,
   "id": "cb7a0772-cf37-4e46-af62-9d304c526463",
   "metadata": {},
   "outputs": [
    {
     "data": {
      "text/plain": [
       "((375,), (125,))"
      ]
     },
     "execution_count": 32,
     "metadata": {},
     "output_type": "execute_result"
    }
   ],
   "source": [
    "from sklearn.model_selection import train_test_split\n",
    "x_treino, x_teste, y_treino, y_teste = train_test_split(x, y, \n",
    "                                                    stratify = y, #para manter a proporção da Var Dep nos splits\n",
    "                                                    random_state = 5) #raiz da aleatoridade\n",
    "# test_size = 0.25 #porcentagem que ira ser separado para testes\n",
    "\n",
    "x_treino.shape, x_teste.shape\n",
    "y_treino.shape, y_teste.shape"
   ]
  },
  {
   "cell_type": "markdown",
   "id": "41d53422-6d6d-4b6a-a9e6-ff548b089b94",
   "metadata": {
    "jp-MarkdownHeadingCollapsed": true
   },
   "source": [
    "# Códigos de Avaliação do Modelo"
   ]
  },
  {
   "cell_type": "code",
   "execution_count": 33,
   "id": "fdb3aa2d-e8cc-4d7f-8865-c8b149ac27df",
   "metadata": {},
   "outputs": [],
   "source": [
    "from sklearn.metrics import accuracy_score, confusion_matrix, classification_report, RocCurveDisplay\n",
    "\n",
    "\n",
    "def avaliar_modelo(y_verdadeiro, y_predito, conjunto_nome):\n",
    "    \"\"\"\n",
    "    Função para avaliar e imprimir o relatório de classificação e a matriz de confusão.\n",
    "    \"\"\"\n",
    "    #if conjunto_nome == \"Treino\":\n",
    "     #   pass\n",
    "    #else:\n",
    "    print('*' * 70)\n",
    "    print(\"Relatório de Classificação para o Conjunto de\", conjunto_nome,\":\\n\")\n",
    "    print(classification_report(y_verdadeiro, y_predito))\n",
    "    \n",
    "    print('*' * 55)\n",
    "    \n",
    "    print(\"Matriz de Confusão para o Conjunto de\", conjunto_nome,\":\\n\")\n",
    "    print(confusion_matrix(y_verdadeiro, y_predito))\n",
    "    print('*' * 70)\n",
    "\n",
    "    display(RocCurveDisplay.from_predictions(y_verdadeiro, y_predito, name = conjunto_nome))"
   ]
  },
  {
   "cell_type": "code",
   "execution_count": null,
   "id": "61797735-91ea-4791-8ab4-f154f6ddd5ee",
   "metadata": {},
   "outputs": [],
   "source": []
  }
 ],
 "metadata": {
  "kernelspec": {
   "display_name": "Python 3 (ipykernel)",
   "language": "python",
   "name": "python3"
  },
  "language_info": {
   "codemirror_mode": {
    "name": "ipython",
    "version": 3
   },
   "file_extension": ".py",
   "mimetype": "text/x-python",
   "name": "python",
   "nbconvert_exporter": "python",
   "pygments_lexer": "ipython3",
   "version": "3.11.7"
  }
 },
 "nbformat": 4,
 "nbformat_minor": 5
}

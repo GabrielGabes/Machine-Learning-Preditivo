{
 "cells": [
  {
   "cell_type": "code",
   "execution_count": null,
   "metadata": {},
   "outputs": [],
   "source": [
    "def contribuicao_proba_tabela(df, coluna_analisada, model, sep=10):\n",
    "    # Criar DataFrame para análise com a variável de interesse variando em um intervalo\n",
    "    minimo, maximo = df[coluna_analisada].min(), df[coluna_analisada].max()\n",
    "    df_analise_feature = pd.DataFrame()\n",
    "\n",
    "    # Preencher as demais colunas com o valor médio\n",
    "    for coluna in df.columns:\n",
    "        if coluna != coluna_analisada:\n",
    "            df_analise_feature[coluna] = df[coluna].mean()\n",
    "        else:\n",
    "            df_analise_feature[coluna] = np.linspace(minimo, maximo, sep)\n",
    "\n",
    "    # Fazer previsão de probabilidade e adicionar ao DataFrame de análise\n",
    "    df_analise_feature['predict_proba'] = model.predict_proba(df_analise_feature)[:, 1]\n",
    "\n",
    "    # Retornar apenas a coluna analisada e a probabilidade prevista\n",
    "    return df_analise_feature[[coluna_analisada, 'predict_proba']]\n",
    "\n",
    "#x_data = pd.DataFrame(x_teste, columns=df.columns[:-1])\n",
    "#resultado = contribuicao_proba_tabela(x_data, 'feature_4', modelo_m1, sep=10)\n",
    "#resultado\n",
    "\n",
    "def contribuicao_proba_grafico(resultado, coluna):\n",
    "    cmap = plt.get_cmap('viridis')\n",
    "    norm = plt.Normalize(resultado['predict_proba'].min(), resultado['predict_proba'].max())\n",
    "    colors = cmap(norm(resultado['predict_proba']))\n",
    "\n",
    "    ax = sns.lineplot(x=resultado[coluna].round(1), y=resultado['predict_proba'])\n",
    "\n",
    "#plt.figure(figsize=(4,3))\n",
    "#contribuicao_proba_grafico(resultado, 'feature_4')\n",
    "#plt.show()\n",
    "\n",
    "def contribuicao_proba(x_data, modelo, sep=10):\n",
    "    for i, coluna_analisada in enumerate(x_data.columns, 1):\n",
    "        plt.subplot(10, 3, i)\n",
    "        resultado = contribuicao_proba_tabela(x_data, coluna_analisada, modelo, sep=sep)\n",
    "        contribuicao_proba_grafico(resultado, coluna_analisada)\n",
    "\n",
    "\n",
    "from sklearn.inspection import PartialDependenceDisplay\n",
    "def contribuicao_proba2(x_data, modelo):\n",
    "    # Definir o tamanho da figura geral\n",
    "    fig, axes = plt.subplots(len(x_data.columns)//3+1, 3, figsize=(10, 10))\n",
    "    axes = axes.ravel()  # Transformar a matriz de eixos em uma lista para fácil iteração\n",
    "\n",
    "    # Iterar pelas colunas e gerar gráficos de dependência parcial\n",
    "    for i, column in enumerate(x_data.columns):\n",
    "        PartialDependenceDisplay.from_estimator(modelo, x_data, [column], ax=axes[i])\n",
    "\n",
    "    # Ajustar o layout para evitar sobreposição\n",
    "    plt.tight_layout()\n",
    "    plt.show()"
   ]
  },
  {
   "cell_type": "code",
   "execution_count": null,
   "metadata": {},
   "outputs": [],
   "source": []
  },
  {
   "cell_type": "code",
   "execution_count": null,
   "metadata": {},
   "outputs": [],
   "source": []
  },
  {
   "cell_type": "code",
   "execution_count": null,
   "metadata": {},
   "outputs": [],
   "source": []
  },
  {
   "cell_type": "code",
   "execution_count": null,
   "metadata": {},
   "outputs": [],
   "source": []
  },
  {
   "cell_type": "code",
   "execution_count": null,
   "metadata": {},
   "outputs": [],
   "source": []
  }
 ],
 "metadata": {
  "language_info": {
   "name": "python"
  }
 },
 "nbformat": 4,
 "nbformat_minor": 2
}

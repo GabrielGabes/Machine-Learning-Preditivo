{
 "cells": [
  {
   "cell_type": "markdown",
   "id": "699d88a7",
   "metadata": {},
   "source": [
    "# Funções, bibliotecas e Dataframe ficticios"
   ]
  },
  {
   "cell_type": "code",
   "execution_count": 11,
   "id": "3960e659",
   "metadata": {},
   "outputs": [],
   "source": [
    "import pandas as pd\n",
    "import numpy as np\n",
    "\n",
    "# Manipulação e Tratamento de dados\n",
    "import openpyxl\n",
    "import pandas as pd\n",
    "import numpy as np\n",
    "from numpy import NaN\n",
    "\n",
    "#ignorando Warning inuteis\n",
    "import warnings \n",
    "from pandas.errors import SettingWithCopyWarning\n",
    "warnings.simplefilter(action=\"ignore\", category=SettingWithCopyWarning)\n",
    "warnings.filterwarnings(action='ignore', category=FutureWarning)\n",
    "warnings.simplefilter(action='ignore', category=UserWarning)"
   ]
  },
  {
   "cell_type": "code",
   "execution_count": 12,
   "id": "4724bd46",
   "metadata": {},
   "outputs": [
    {
     "name": "stdout",
     "output_type": "stream",
     "text": [
      "https://raw.githubusercontent.com/GabrielGabes/functions_gsa/main/fake_database.py\n",
      "https://raw.githubusercontent.com/GabrielGabes/functions_gsa/main/funcoes_estatisticas.py\n",
      "https://raw.githubusercontent.com/GabrielGabes/functions_gsa/main/ML_supervised_learning.py\n",
      "TUDO OK\n"
     ]
    }
   ],
   "source": [
    "import requests\n",
    "\n",
    "# CARREGANDO BASE\n",
    "arquivo = 'fake_database'\n",
    "url = \"https://raw.githubusercontent.com/GabrielGabes/functions_gsa/main/\" + arquivo + \".py\"\n",
    "print(url)\n",
    "response = requests.get(url); code = response.text; exec(code)\n",
    "#df = fake_database2(2250); df_bck = df.copy(); display(df.head())\n",
    "\n",
    "arquivo = 'funcoes_estatisticas'\n",
    "url = \"https://raw.githubusercontent.com/GabrielGabes/functions_gsa/main/\" + arquivo + \".py\"\n",
    "print(url)\n",
    "response = requests.get(url); code = response.text; exec(code)\n",
    "\n",
    "# Função para avaliação de modelos exibindo metricas de avaliação\n",
    "from sklearn.metrics import accuracy_score, confusion_matrix, classification_report, RocCurveDisplay\n",
    "arquivo = 'ML_supervised_learning'\n",
    "url = \"https://raw.githubusercontent.com/GabrielGabes/functions_gsa/main/\" + arquivo + \".py\"\n",
    "print(url); response = requests.get(url); code = response.text; exec(code)\n",
    "\n",
    "print('TUDO OK')"
   ]
  },
  {
   "cell_type": "markdown",
   "id": "9824529d",
   "metadata": {},
   "source": [
    "# Criando dataframe sintetico desbalanceado"
   ]
  },
  {
   "cell_type": "code",
   "execution_count": 13,
   "id": "87342e4f",
   "metadata": {},
   "outputs": [
    {
     "name": "stdout",
     "output_type": "stream",
     "text": [
      "target\n",
      "0   0.93\n",
      "1   0.07\n",
      "Name: proportion, dtype: float64\n",
      "target\n",
      "0    9254\n",
      "1     746\n",
      "Name: count, dtype: int64\n"
     ]
    },
    {
     "data": {
      "text/html": [
       "<div>\n",
       "<style scoped>\n",
       "    .dataframe tbody tr th:only-of-type {\n",
       "        vertical-align: middle;\n",
       "    }\n",
       "\n",
       "    .dataframe tbody tr th {\n",
       "        vertical-align: top;\n",
       "    }\n",
       "\n",
       "    .dataframe thead th {\n",
       "        text-align: right;\n",
       "    }\n",
       "</style>\n",
       "<table border=\"1\" class=\"dataframe\">\n",
       "  <thead>\n",
       "    <tr style=\"text-align: right;\">\n",
       "      <th></th>\n",
       "      <th>0</th>\n",
       "      <th>1</th>\n",
       "      <th>2</th>\n",
       "      <th>3</th>\n",
       "      <th>4</th>\n",
       "      <th>9995</th>\n",
       "      <th>9996</th>\n",
       "      <th>9997</th>\n",
       "      <th>9998</th>\n",
       "      <th>9999</th>\n",
       "    </tr>\n",
       "  </thead>\n",
       "  <tbody>\n",
       "    <tr>\n",
       "      <th>feature_0</th>\n",
       "      <td>-0.32</td>\n",
       "      <td>-0.59</td>\n",
       "      <td>-0.30</td>\n",
       "      <td>-0.70</td>\n",
       "      <td>-0.54</td>\n",
       "      <td>-0.85</td>\n",
       "      <td>-1.63</td>\n",
       "      <td>1.31</td>\n",
       "      <td>-1.71</td>\n",
       "      <td>-0.53</td>\n",
       "    </tr>\n",
       "    <tr>\n",
       "      <th>feature_1</th>\n",
       "      <td>-1.38</td>\n",
       "      <td>-1.12</td>\n",
       "      <td>0.82</td>\n",
       "      <td>-0.22</td>\n",
       "      <td>-0.83</td>\n",
       "      <td>0.31</td>\n",
       "      <td>1.02</td>\n",
       "      <td>0.75</td>\n",
       "      <td>0.31</td>\n",
       "      <td>0.64</td>\n",
       "    </tr>\n",
       "    <tr>\n",
       "      <th>feature_2</th>\n",
       "      <td>0.13</td>\n",
       "      <td>0.76</td>\n",
       "      <td>0.41</td>\n",
       "      <td>1.53</td>\n",
       "      <td>1.38</td>\n",
       "      <td>0.43</td>\n",
       "      <td>-0.75</td>\n",
       "      <td>-0.29</td>\n",
       "      <td>0.94</td>\n",
       "      <td>0.49</td>\n",
       "    </tr>\n",
       "    <tr>\n",
       "      <th>feature_3</th>\n",
       "      <td>-1.32</td>\n",
       "      <td>0.27</td>\n",
       "      <td>-0.27</td>\n",
       "      <td>-0.65</td>\n",
       "      <td>-2.49</td>\n",
       "      <td>-1.64</td>\n",
       "      <td>-0.68</td>\n",
       "      <td>-1.00</td>\n",
       "      <td>-0.28</td>\n",
       "      <td>1.21</td>\n",
       "    </tr>\n",
       "    <tr>\n",
       "      <th>feature_4</th>\n",
       "      <td>-0.91</td>\n",
       "      <td>-0.95</td>\n",
       "      <td>-0.67</td>\n",
       "      <td>0.76</td>\n",
       "      <td>0.41</td>\n",
       "      <td>0.42</td>\n",
       "      <td>0.27</td>\n",
       "      <td>-1.09</td>\n",
       "      <td>0.68</td>\n",
       "      <td>0.69</td>\n",
       "    </tr>\n",
       "    <tr>\n",
       "      <th>feature_5</th>\n",
       "      <td>0.04</td>\n",
       "      <td>-0.19</td>\n",
       "      <td>-0.03</td>\n",
       "      <td>-0.94</td>\n",
       "      <td>-0.66</td>\n",
       "      <td>-0.95</td>\n",
       "      <td>-1.63</td>\n",
       "      <td>1.63</td>\n",
       "      <td>-1.85</td>\n",
       "      <td>-0.76</td>\n",
       "    </tr>\n",
       "    <tr>\n",
       "      <th>feature_6</th>\n",
       "      <td>-0.45</td>\n",
       "      <td>0.39</td>\n",
       "      <td>0.72</td>\n",
       "      <td>-0.46</td>\n",
       "      <td>-0.69</td>\n",
       "      <td>-1.40</td>\n",
       "      <td>1.05</td>\n",
       "      <td>1.22</td>\n",
       "      <td>-0.43</td>\n",
       "      <td>0.50</td>\n",
       "    </tr>\n",
       "    <tr>\n",
       "      <th>feature_7</th>\n",
       "      <td>-0.43</td>\n",
       "      <td>0.63</td>\n",
       "      <td>0.25</td>\n",
       "      <td>-1.43</td>\n",
       "      <td>0.78</td>\n",
       "      <td>0.13</td>\n",
       "      <td>0.52</td>\n",
       "      <td>0.72</td>\n",
       "      <td>-0.11</td>\n",
       "      <td>0.71</td>\n",
       "    </tr>\n",
       "    <tr>\n",
       "      <th>feature_8</th>\n",
       "      <td>-0.69</td>\n",
       "      <td>-0.82</td>\n",
       "      <td>-0.54</td>\n",
       "      <td>0.22</td>\n",
       "      <td>0.06</td>\n",
       "      <td>-0.05</td>\n",
       "      <td>-0.43</td>\n",
       "      <td>-0.20</td>\n",
       "      <td>-0.20</td>\n",
       "      <td>0.24</td>\n",
       "    </tr>\n",
       "    <tr>\n",
       "      <th>feature_9</th>\n",
       "      <td>1.08</td>\n",
       "      <td>1.69</td>\n",
       "      <td>0.78</td>\n",
       "      <td>0.63</td>\n",
       "      <td>1.27</td>\n",
       "      <td>-0.70</td>\n",
       "      <td>-2.64</td>\n",
       "      <td>1.26</td>\n",
       "      <td>0.11</td>\n",
       "      <td>-0.92</td>\n",
       "    </tr>\n",
       "    <tr>\n",
       "      <th>target</th>\n",
       "      <td>0.00</td>\n",
       "      <td>0.00</td>\n",
       "      <td>0.00</td>\n",
       "      <td>0.00</td>\n",
       "      <td>0.00</td>\n",
       "      <td>0.00</td>\n",
       "      <td>0.00</td>\n",
       "      <td>0.00</td>\n",
       "      <td>0.00</td>\n",
       "      <td>0.00</td>\n",
       "    </tr>\n",
       "  </tbody>\n",
       "</table>\n",
       "</div>"
      ],
      "text/plain": [
       "           0     1     2     3     4     9995  9996  9997  9998  9999\n",
       "feature_0 -0.32 -0.59 -0.30 -0.70 -0.54 -0.85 -1.63  1.31 -1.71 -0.53\n",
       "feature_1 -1.38 -1.12  0.82 -0.22 -0.83  0.31  1.02  0.75  0.31  0.64\n",
       "feature_2  0.13  0.76  0.41  1.53  1.38  0.43 -0.75 -0.29  0.94  0.49\n",
       "feature_3 -1.32  0.27 -0.27 -0.65 -2.49 -1.64 -0.68 -1.00 -0.28  1.21\n",
       "feature_4 -0.91 -0.95 -0.67  0.76  0.41  0.42  0.27 -1.09  0.68  0.69\n",
       "feature_5  0.04 -0.19 -0.03 -0.94 -0.66 -0.95 -1.63  1.63 -1.85 -0.76\n",
       "feature_6 -0.45  0.39  0.72 -0.46 -0.69 -1.40  1.05  1.22 -0.43  0.50\n",
       "feature_7 -0.43  0.63  0.25 -1.43  0.78  0.13  0.52  0.72 -0.11  0.71\n",
       "feature_8 -0.69 -0.82 -0.54  0.22  0.06 -0.05 -0.43 -0.20 -0.20  0.24\n",
       "feature_9  1.08  1.69  0.78  0.63  1.27 -0.70 -2.64  1.26  0.11 -0.92\n",
       "target     0.00  0.00  0.00  0.00  0.00  0.00  0.00  0.00  0.00  0.00"
      ]
     },
     "metadata": {},
     "output_type": "display_data"
    }
   ],
   "source": [
    "from sklearn.datasets import make_classification\n",
    "import pandas as pd\n",
    "\n",
    "# Gerar dados sintéticos desbalanceados\n",
    "x, y = make_classification(n_samples=10000, \n",
    "                           n_features=10, \n",
    "                           #n_informative=4,   # Aumentar o número de features informativas\n",
    "                           #n_redundant=4,\n",
    "                           #n_classes=2, \n",
    "                           #n_clusters_per_class=5,  # Manter 5 clusters por classe\n",
    "                           weights=[0.93, 0.07], \n",
    "                           class_sep=0.8,\n",
    "                           random_state=3141592)\n",
    "\n",
    "# Criar um DataFrame\n",
    "df = pd.DataFrame(x, columns=[f'feature_{i}' for i in range(x.shape[1])])\n",
    "df['target'] = y\n",
    "\n",
    "# Ver a distribuição de classes\n",
    "print(df['target'].value_counts(normalize=True))\n",
    "print(df['target'].value_counts())\n",
    "\n",
    "display(pd.concat([df.head(5), df.tail(5)]).T)\n",
    "# Salvar para análise\n",
    "#df.to_csv('imbalanced_dataset.csv', index=False)\n"
   ]
  },
  {
   "cell_type": "code",
   "execution_count": 14,
   "id": "8093d21f",
   "metadata": {},
   "outputs": [
    {
     "data": {
      "text/plain": [
       "0    0\n",
       "1    0\n",
       "2    0\n",
       "3    0\n",
       "4    0\n",
       "Name: target, dtype: int32"
      ]
     },
     "metadata": {},
     "output_type": "display_data"
    }
   ],
   "source": [
    "# Variavel Dependente\n",
    "var_dep = 'target'\n",
    "y = df[var_dep]\n",
    "display(y.head())\n",
    "\n",
    "x = df.drop(var_dep, axis=1)"
   ]
  },
  {
   "cell_type": "code",
   "execution_count": 15,
   "id": "0d2c6d13",
   "metadata": {},
   "outputs": [
    {
     "name": "stdout",
     "output_type": "stream",
     "text": [
      "(7500, 10) (2500, 10)\n",
      "(7500,) (2500,)\n"
     ]
    }
   ],
   "source": [
    "# DUMMYRIZAÇÃO\n",
    "colunas_categoricas = []\n",
    "colunas_binarias = []\n",
    "colunas_mais3_categorias = []\n",
    "\n",
    "for coluna in x.columns:\n",
    "    if df[coluna].dtype == 'O':\n",
    "        categorias = x[coluna].unique()\n",
    "        if len(categorias) == 2:\n",
    "            print('2 niveis:', coluna, '=>', categorias)\n",
    "            colunas_categoricas.append(coluna)\n",
    "            colunas_binarias.append(coluna)\n",
    "        else:\n",
    "            print('3 niveis:', coluna, '=>', categorias)\n",
    "            colunas_categoricas.append(coluna)\n",
    "            colunas_mais3_categorias.append(coluna)\n",
    "\n",
    "############################################################################################\n",
    "from sklearn.compose import make_column_transformer\n",
    "from sklearn.preprocessing import OneHotEncoder #transformando colunas com 2 categorias em 0 e 1\n",
    "\n",
    "coluna = x.columns\n",
    "one_hot = make_column_transformer((\n",
    "    OneHotEncoder(drop='if_binary'), #caso a coluna tenha apenas 2 categorias \n",
    "    colunas_categoricas), #passando quais são essas colunas\n",
    "    remainder = 'passthrough', sparse_threshold=0) #oque deve ser feito com as outras\n",
    "\n",
    "#Aplicando transformação\n",
    "x = one_hot.fit_transform(x)\n",
    "\n",
    "#Os novos nomes das colunas #'onehotencoder=transformadas; 'remainder'=não transformadas\n",
    "novos_nomes_colunas = one_hot.get_feature_names_out(coluna)\n",
    "\n",
    "x = pd.DataFrame(x, columns = novos_nomes_colunas) #alterando de volta\n",
    "x_columns = x.columns.tolist() \n",
    "\n",
    "############################################################################################\n",
    "# Normalização (scaling entre 0 e 1) com MinMaxScaler ******************************\n",
    "from sklearn.preprocessing import MinMaxScaler\n",
    "normalizacao = MinMaxScaler()\n",
    "x = normalizacao.fit_transform(x)\n",
    "# df['Close_normalizada'] = (df[coluna] - df[coluna].min()) / (df[coluna].max() - df[coluna].min())\n",
    "\n",
    "# Padronização (média 0 e desvio padrão 1) com StandardScaler **********************\n",
    "#from sklearn.preprocessing import StandardScaler\n",
    "#padronizacao = StandardScaler()\n",
    "#x = padronizacao.fit_transform(x)\n",
    "# df['Close_padronizada'] = (df[coluna] - df[coluna].mean()) / df[coluna].std()\n",
    "\n",
    "############################################################################################\n",
    "# DEFININDO A VARIAVEL DEPENDENTE\n",
    "from sklearn.preprocessing import LabelEncoder\n",
    "y = LabelEncoder().fit_transform(y)\n",
    "\n",
    "############################################################################################\n",
    "#backups\n",
    "x_inteiro = x\n",
    "y_inteiro = y\n",
    "\n",
    "# DIVIDINDO BASE EM TREINO E TESTE\n",
    "from sklearn.model_selection import train_test_split\n",
    "x_treino, x_teste, y_treino, y_teste = train_test_split(x, y, \n",
    "                                                    stratify = y, #para manter a proporção da Var Dep nos splits\n",
    "                                                    random_state = 5) #raiz da aleatoridade\n",
    "# test_size = 0.25 #porcentagem que ira ser separado para testes\n",
    "\n",
    "print(x_treino.shape, x_teste.shape)\n",
    "print(y_treino.shape, y_teste.shape)"
   ]
  },
  {
   "cell_type": "markdown",
   "id": "3fb3c8e9",
   "metadata": {},
   "source": [
    "# Testando diversos modelos"
   ]
  },
  {
   "cell_type": "code",
   "execution_count": 16,
   "id": "5db81f79",
   "metadata": {},
   "outputs": [
    {
     "name": "stderr",
     "output_type": "stream",
     "text": [
      "100%|██████████| 31/31 [00:26<00:00,  1.16it/s]"
     ]
    },
    {
     "name": "stdout",
     "output_type": "stream",
     "text": [
      "[LightGBM] [Info] Number of positive: 559, number of negative: 6941\n",
      "[LightGBM] [Info] Auto-choosing row-wise multi-threading, the overhead of testing was 0.000543 seconds.\n",
      "You can set `force_row_wise=true` to remove the overhead.\n",
      "And if memory is not enough, you can set `force_col_wise=true`.\n",
      "[LightGBM] [Info] Total Bins 2550\n",
      "[LightGBM] [Info] Number of data points in the train set: 7500, number of used features: 10\n",
      "[LightGBM] [Info] [binary:BoostFromScore]: pavg=0.074533 -> initscore=-2.519052\n",
      "[LightGBM] [Info] Start training from score -2.519052\n"
     ]
    },
    {
     "name": "stderr",
     "output_type": "stream",
     "text": [
      "\n"
     ]
    },
    {
     "data": {
      "text/html": [
       "<div>\n",
       "<style scoped>\n",
       "    .dataframe tbody tr th:only-of-type {\n",
       "        vertical-align: middle;\n",
       "    }\n",
       "\n",
       "    .dataframe tbody tr th {\n",
       "        vertical-align: top;\n",
       "    }\n",
       "\n",
       "    .dataframe thead th {\n",
       "        text-align: right;\n",
       "    }\n",
       "</style>\n",
       "<table border=\"1\" class=\"dataframe\">\n",
       "  <thead>\n",
       "    <tr style=\"text-align: right;\">\n",
       "      <th></th>\n",
       "      <th>Accuracy</th>\n",
       "      <th>Balanced Accuracy</th>\n",
       "      <th>ROC AUC</th>\n",
       "      <th>F1 Score</th>\n",
       "      <th>Time Taken</th>\n",
       "      <th>Precision</th>\n",
       "      <th>Recall</th>\n",
       "    </tr>\n",
       "    <tr>\n",
       "      <th>Model</th>\n",
       "      <th></th>\n",
       "      <th></th>\n",
       "      <th></th>\n",
       "      <th></th>\n",
       "      <th></th>\n",
       "      <th></th>\n",
       "      <th></th>\n",
       "    </tr>\n",
       "  </thead>\n",
       "  <tbody>\n",
       "    <tr>\n",
       "      <th>NearestCentroid</th>\n",
       "      <td>0.81</td>\n",
       "      <td>0.81</td>\n",
       "      <td>0.81</td>\n",
       "      <td>0.85</td>\n",
       "      <td>0.28</td>\n",
       "      <td>0.26</td>\n",
       "      <td>0.80</td>\n",
       "    </tr>\n",
       "    <tr>\n",
       "      <th>DecisionTreeClassifier</th>\n",
       "      <td>0.94</td>\n",
       "      <td>0.77</td>\n",
       "      <td>0.77</td>\n",
       "      <td>0.94</td>\n",
       "      <td>0.23</td>\n",
       "      <td>0.57</td>\n",
       "      <td>0.58</td>\n",
       "    </tr>\n",
       "    <tr>\n",
       "      <th>PassiveAggressiveClassifier</th>\n",
       "      <td>0.91</td>\n",
       "      <td>0.76</td>\n",
       "      <td>0.76</td>\n",
       "      <td>0.92</td>\n",
       "      <td>0.07</td>\n",
       "      <td>0.45</td>\n",
       "      <td>0.58</td>\n",
       "    </tr>\n",
       "    <tr>\n",
       "      <th>GaussianNB</th>\n",
       "      <td>0.91</td>\n",
       "      <td>0.75</td>\n",
       "      <td>0.75</td>\n",
       "      <td>0.92</td>\n",
       "      <td>0.03</td>\n",
       "      <td>0.44</td>\n",
       "      <td>0.57</td>\n",
       "    </tr>\n",
       "    <tr>\n",
       "      <th>LGBMClassifier</th>\n",
       "      <td>0.95</td>\n",
       "      <td>0.77</td>\n",
       "      <td>0.77</td>\n",
       "      <td>0.95</td>\n",
       "      <td>0.19</td>\n",
       "      <td>0.76</td>\n",
       "      <td>0.56</td>\n",
       "    </tr>\n",
       "    <tr>\n",
       "      <th>XGBClassifier</th>\n",
       "      <td>0.95</td>\n",
       "      <td>0.77</td>\n",
       "      <td>0.77</td>\n",
       "      <td>0.95</td>\n",
       "      <td>0.29</td>\n",
       "      <td>0.74</td>\n",
       "      <td>0.55</td>\n",
       "    </tr>\n",
       "    <tr>\n",
       "      <th>Perceptron</th>\n",
       "      <td>0.89</td>\n",
       "      <td>0.73</td>\n",
       "      <td>0.73</td>\n",
       "      <td>0.90</td>\n",
       "      <td>0.06</td>\n",
       "      <td>0.35</td>\n",
       "      <td>0.55</td>\n",
       "    </tr>\n",
       "    <tr>\n",
       "      <th>AdaBoostClassifier</th>\n",
       "      <td>0.95</td>\n",
       "      <td>0.76</td>\n",
       "      <td>0.76</td>\n",
       "      <td>0.95</td>\n",
       "      <td>1.12</td>\n",
       "      <td>0.77</td>\n",
       "      <td>0.53</td>\n",
       "    </tr>\n",
       "    <tr>\n",
       "      <th>RandomForestClassifier</th>\n",
       "      <td>0.95</td>\n",
       "      <td>0.76</td>\n",
       "      <td>0.76</td>\n",
       "      <td>0.95</td>\n",
       "      <td>6.26</td>\n",
       "      <td>0.80</td>\n",
       "      <td>0.52</td>\n",
       "    </tr>\n",
       "    <tr>\n",
       "      <th>ExtraTreesClassifier</th>\n",
       "      <td>0.95</td>\n",
       "      <td>0.75</td>\n",
       "      <td>0.75</td>\n",
       "      <td>0.95</td>\n",
       "      <td>1.05</td>\n",
       "      <td>0.80</td>\n",
       "      <td>0.52</td>\n",
       "    </tr>\n",
       "    <tr>\n",
       "      <th>BaggingClassifier</th>\n",
       "      <td>0.95</td>\n",
       "      <td>0.75</td>\n",
       "      <td>0.75</td>\n",
       "      <td>0.95</td>\n",
       "      <td>1.17</td>\n",
       "      <td>0.76</td>\n",
       "      <td>0.52</td>\n",
       "    </tr>\n",
       "    <tr>\n",
       "      <th>QuadraticDiscriminantAnalysis</th>\n",
       "      <td>0.87</td>\n",
       "      <td>0.69</td>\n",
       "      <td>0.69</td>\n",
       "      <td>0.88</td>\n",
       "      <td>0.08</td>\n",
       "      <td>0.28</td>\n",
       "      <td>0.49</td>\n",
       "    </tr>\n",
       "    <tr>\n",
       "      <th>ExtraTreeClassifier</th>\n",
       "      <td>0.92</td>\n",
       "      <td>0.72</td>\n",
       "      <td>0.72</td>\n",
       "      <td>0.92</td>\n",
       "      <td>0.03</td>\n",
       "      <td>0.49</td>\n",
       "      <td>0.47</td>\n",
       "    </tr>\n",
       "    <tr>\n",
       "      <th>LabelPropagation</th>\n",
       "      <td>0.92</td>\n",
       "      <td>0.67</td>\n",
       "      <td>0.67</td>\n",
       "      <td>0.91</td>\n",
       "      <td>4.93</td>\n",
       "      <td>0.43</td>\n",
       "      <td>0.37</td>\n",
       "    </tr>\n",
       "    <tr>\n",
       "      <th>LabelSpreading</th>\n",
       "      <td>0.92</td>\n",
       "      <td>0.67</td>\n",
       "      <td>0.67</td>\n",
       "      <td>0.91</td>\n",
       "      <td>8.10</td>\n",
       "      <td>0.44</td>\n",
       "      <td>0.37</td>\n",
       "    </tr>\n",
       "    <tr>\n",
       "      <th>KNeighborsClassifier</th>\n",
       "      <td>0.94</td>\n",
       "      <td>0.65</td>\n",
       "      <td>0.65</td>\n",
       "      <td>0.93</td>\n",
       "      <td>0.40</td>\n",
       "      <td>0.68</td>\n",
       "      <td>0.31</td>\n",
       "    </tr>\n",
       "    <tr>\n",
       "      <th>SVC</th>\n",
       "      <td>0.94</td>\n",
       "      <td>0.64</td>\n",
       "      <td>0.64</td>\n",
       "      <td>0.93</td>\n",
       "      <td>1.09</td>\n",
       "      <td>0.89</td>\n",
       "      <td>0.29</td>\n",
       "    </tr>\n",
       "    <tr>\n",
       "      <th>LinearDiscriminantAnalysis</th>\n",
       "      <td>0.93</td>\n",
       "      <td>0.64</td>\n",
       "      <td>0.64</td>\n",
       "      <td>0.92</td>\n",
       "      <td>0.39</td>\n",
       "      <td>0.62</td>\n",
       "      <td>0.29</td>\n",
       "    </tr>\n",
       "    <tr>\n",
       "      <th>CalibratedClassifierCV</th>\n",
       "      <td>0.94</td>\n",
       "      <td>0.63</td>\n",
       "      <td>0.63</td>\n",
       "      <td>0.92</td>\n",
       "      <td>0.14</td>\n",
       "      <td>0.66</td>\n",
       "      <td>0.28</td>\n",
       "    </tr>\n",
       "    <tr>\n",
       "      <th>LogisticRegression</th>\n",
       "      <td>0.94</td>\n",
       "      <td>0.63</td>\n",
       "      <td>0.63</td>\n",
       "      <td>0.92</td>\n",
       "      <td>0.11</td>\n",
       "      <td>0.66</td>\n",
       "      <td>0.28</td>\n",
       "    </tr>\n",
       "    <tr>\n",
       "      <th>LinearSVC</th>\n",
       "      <td>0.93</td>\n",
       "      <td>0.57</td>\n",
       "      <td>0.57</td>\n",
       "      <td>0.91</td>\n",
       "      <td>0.09</td>\n",
       "      <td>0.70</td>\n",
       "      <td>0.15</td>\n",
       "    </tr>\n",
       "    <tr>\n",
       "      <th>DummyClassifier</th>\n",
       "      <td>0.93</td>\n",
       "      <td>0.50</td>\n",
       "      <td>0.50</td>\n",
       "      <td>0.89</td>\n",
       "      <td>0.02</td>\n",
       "      <td>0.00</td>\n",
       "      <td>0.00</td>\n",
       "    </tr>\n",
       "    <tr>\n",
       "      <th>RidgeClassifier</th>\n",
       "      <td>0.93</td>\n",
       "      <td>0.50</td>\n",
       "      <td>0.50</td>\n",
       "      <td>0.89</td>\n",
       "      <td>0.05</td>\n",
       "      <td>0.00</td>\n",
       "      <td>0.00</td>\n",
       "    </tr>\n",
       "    <tr>\n",
       "      <th>RidgeClassifierCV</th>\n",
       "      <td>0.93</td>\n",
       "      <td>0.50</td>\n",
       "      <td>0.50</td>\n",
       "      <td>0.89</td>\n",
       "      <td>0.06</td>\n",
       "      <td>0.00</td>\n",
       "      <td>0.00</td>\n",
       "    </tr>\n",
       "    <tr>\n",
       "      <th>SGDClassifier</th>\n",
       "      <td>0.93</td>\n",
       "      <td>0.50</td>\n",
       "      <td>0.50</td>\n",
       "      <td>0.89</td>\n",
       "      <td>0.04</td>\n",
       "      <td>0.00</td>\n",
       "      <td>0.00</td>\n",
       "    </tr>\n",
       "    <tr>\n",
       "      <th>BernoulliNB</th>\n",
       "      <td>0.93</td>\n",
       "      <td>0.50</td>\n",
       "      <td>0.50</td>\n",
       "      <td>0.89</td>\n",
       "      <td>0.04</td>\n",
       "      <td>0.00</td>\n",
       "      <td>0.00</td>\n",
       "    </tr>\n",
       "  </tbody>\n",
       "</table>\n",
       "</div>"
      ],
      "text/plain": [
       "                               Accuracy  Balanced Accuracy  ROC AUC  F1 Score  \\\n",
       "Model                                                                           \n",
       "NearestCentroid                    0.81               0.81     0.81      0.85   \n",
       "DecisionTreeClassifier             0.94               0.77     0.77      0.94   \n",
       "PassiveAggressiveClassifier        0.91               0.76     0.76      0.92   \n",
       "GaussianNB                         0.91               0.75     0.75      0.92   \n",
       "LGBMClassifier                     0.95               0.77     0.77      0.95   \n",
       "XGBClassifier                      0.95               0.77     0.77      0.95   \n",
       "Perceptron                         0.89               0.73     0.73      0.90   \n",
       "AdaBoostClassifier                 0.95               0.76     0.76      0.95   \n",
       "RandomForestClassifier             0.95               0.76     0.76      0.95   \n",
       "ExtraTreesClassifier               0.95               0.75     0.75      0.95   \n",
       "BaggingClassifier                  0.95               0.75     0.75      0.95   \n",
       "QuadraticDiscriminantAnalysis      0.87               0.69     0.69      0.88   \n",
       "ExtraTreeClassifier                0.92               0.72     0.72      0.92   \n",
       "LabelPropagation                   0.92               0.67     0.67      0.91   \n",
       "LabelSpreading                     0.92               0.67     0.67      0.91   \n",
       "KNeighborsClassifier               0.94               0.65     0.65      0.93   \n",
       "SVC                                0.94               0.64     0.64      0.93   \n",
       "LinearDiscriminantAnalysis         0.93               0.64     0.64      0.92   \n",
       "CalibratedClassifierCV             0.94               0.63     0.63      0.92   \n",
       "LogisticRegression                 0.94               0.63     0.63      0.92   \n",
       "LinearSVC                          0.93               0.57     0.57      0.91   \n",
       "DummyClassifier                    0.93               0.50     0.50      0.89   \n",
       "RidgeClassifier                    0.93               0.50     0.50      0.89   \n",
       "RidgeClassifierCV                  0.93               0.50     0.50      0.89   \n",
       "SGDClassifier                      0.93               0.50     0.50      0.89   \n",
       "BernoulliNB                        0.93               0.50     0.50      0.89   \n",
       "\n",
       "                               Time Taken  Precision  Recall  \n",
       "Model                                                         \n",
       "NearestCentroid                      0.28       0.26    0.80  \n",
       "DecisionTreeClassifier               0.23       0.57    0.58  \n",
       "PassiveAggressiveClassifier          0.07       0.45    0.58  \n",
       "GaussianNB                           0.03       0.44    0.57  \n",
       "LGBMClassifier                       0.19       0.76    0.56  \n",
       "XGBClassifier                        0.29       0.74    0.55  \n",
       "Perceptron                           0.06       0.35    0.55  \n",
       "AdaBoostClassifier                   1.12       0.77    0.53  \n",
       "RandomForestClassifier               6.26       0.80    0.52  \n",
       "ExtraTreesClassifier                 1.05       0.80    0.52  \n",
       "BaggingClassifier                    1.17       0.76    0.52  \n",
       "QuadraticDiscriminantAnalysis        0.08       0.28    0.49  \n",
       "ExtraTreeClassifier                  0.03       0.49    0.47  \n",
       "LabelPropagation                     4.93       0.43    0.37  \n",
       "LabelSpreading                       8.10       0.44    0.37  \n",
       "KNeighborsClassifier                 0.40       0.68    0.31  \n",
       "SVC                                  1.09       0.89    0.29  \n",
       "LinearDiscriminantAnalysis           0.39       0.62    0.29  \n",
       "CalibratedClassifierCV               0.14       0.66    0.28  \n",
       "LogisticRegression                   0.11       0.66    0.28  \n",
       "LinearSVC                            0.09       0.70    0.15  \n",
       "DummyClassifier                      0.02       0.00    0.00  \n",
       "RidgeClassifier                      0.05       0.00    0.00  \n",
       "RidgeClassifierCV                    0.06       0.00    0.00  \n",
       "SGDClassifier                        0.04       0.00    0.00  \n",
       "BernoulliNB                          0.04       0.00    0.00  "
      ]
     },
     "metadata": {},
     "output_type": "display_data"
    }
   ],
   "source": [
    "from lazypredict.Supervised import LazyClassifier, LazyRegressor\n",
    "\n",
    "np.random.seed(3141592) #para garantir a reprodutibilidade\n",
    "\n",
    "from sklearn.metrics import precision_score, recall_score\n",
    "def custom_metric(y_true, y_pred):\n",
    "    precision = precision_score(y_true, y_pred)\n",
    "    recall = recall_score(y_true, y_pred)\n",
    "    return precision.round(2), recall.round(2)\n",
    "\n",
    "clf = LazyClassifier(verbose=0, \n",
    "                     ignore_warnings=True, \n",
    "                     custom_metric=custom_metric)\n",
    "#predictions=True\n",
    "\n",
    "models, predictions = clf.fit(x_treino, x_teste, y_treino, y_teste)\n",
    "################################################################################\n",
    "\n",
    "precisions = []\n",
    "recalls = []\n",
    "\n",
    "for metric in predictions['custom_metric']:\n",
    "    precision, recall = metric\n",
    "    precisions.append(precision)\n",
    "    recalls.append(recall)\n",
    "\n",
    "predictions['Precision'] = precisions\n",
    "predictions['Recall'] = recalls\n",
    "predictions.drop(columns=['custom_metric'], inplace=True)\n",
    "predictions = predictions.sort_values(by='Recall', ascending=False)\n",
    "\n",
    "display(predictions)"
   ]
  },
  {
   "cell_type": "markdown",
   "id": "22e51534",
   "metadata": {},
   "source": [
    "# ranqueando melhores modelos"
   ]
  },
  {
   "cell_type": "code",
   "execution_count": 20,
   "id": "f2ae07e2",
   "metadata": {},
   "outputs": [
    {
     "data": {
      "text/html": [
       "<div>\n",
       "<style scoped>\n",
       "    .dataframe tbody tr th:only-of-type {\n",
       "        vertical-align: middle;\n",
       "    }\n",
       "\n",
       "    .dataframe tbody tr th {\n",
       "        vertical-align: top;\n",
       "    }\n",
       "\n",
       "    .dataframe thead th {\n",
       "        text-align: right;\n",
       "    }\n",
       "</style>\n",
       "<table border=\"1\" class=\"dataframe\">\n",
       "  <thead>\n",
       "    <tr style=\"text-align: right;\">\n",
       "      <th></th>\n",
       "      <th>Accuracy</th>\n",
       "      <th>Balanced Accuracy</th>\n",
       "      <th>ROC AUC</th>\n",
       "      <th>F1 Score</th>\n",
       "      <th>Time Taken</th>\n",
       "      <th>Precision</th>\n",
       "      <th>Recall</th>\n",
       "      <th>Precision_normalized</th>\n",
       "      <th>Recall_normalized</th>\n",
       "      <th>indice_composto</th>\n",
       "      <th>indice_composto_normalized</th>\n",
       "    </tr>\n",
       "    <tr>\n",
       "      <th>Model</th>\n",
       "      <th></th>\n",
       "      <th></th>\n",
       "      <th></th>\n",
       "      <th></th>\n",
       "      <th></th>\n",
       "      <th></th>\n",
       "      <th></th>\n",
       "      <th></th>\n",
       "      <th></th>\n",
       "      <th></th>\n",
       "      <th></th>\n",
       "    </tr>\n",
       "  </thead>\n",
       "  <tbody>\n",
       "    <tr>\n",
       "      <th>LGBMClassifier</th>\n",
       "      <td>0.95</td>\n",
       "      <td>0.77</td>\n",
       "      <td>0.77</td>\n",
       "      <td>0.95</td>\n",
       "      <td>0.19</td>\n",
       "      <td>0.76</td>\n",
       "      <td>0.56</td>\n",
       "      <td>0.85</td>\n",
       "      <td>0.70</td>\n",
       "      <td>0.76</td>\n",
       "      <td>1.00</td>\n",
       "    </tr>\n",
       "    <tr>\n",
       "      <th>ExtraTreesClassifier</th>\n",
       "      <td>0.95</td>\n",
       "      <td>0.75</td>\n",
       "      <td>0.75</td>\n",
       "      <td>0.95</td>\n",
       "      <td>1.05</td>\n",
       "      <td>0.80</td>\n",
       "      <td>0.52</td>\n",
       "      <td>0.90</td>\n",
       "      <td>0.65</td>\n",
       "      <td>0.75</td>\n",
       "      <td>0.98</td>\n",
       "    </tr>\n",
       "    <tr>\n",
       "      <th>RandomForestClassifier</th>\n",
       "      <td>0.95</td>\n",
       "      <td>0.76</td>\n",
       "      <td>0.76</td>\n",
       "      <td>0.95</td>\n",
       "      <td>6.26</td>\n",
       "      <td>0.80</td>\n",
       "      <td>0.52</td>\n",
       "      <td>0.90</td>\n",
       "      <td>0.65</td>\n",
       "      <td>0.75</td>\n",
       "      <td>0.98</td>\n",
       "    </tr>\n",
       "    <tr>\n",
       "      <th>XGBClassifier</th>\n",
       "      <td>0.95</td>\n",
       "      <td>0.77</td>\n",
       "      <td>0.77</td>\n",
       "      <td>0.95</td>\n",
       "      <td>0.29</td>\n",
       "      <td>0.74</td>\n",
       "      <td>0.55</td>\n",
       "      <td>0.83</td>\n",
       "      <td>0.69</td>\n",
       "      <td>0.75</td>\n",
       "      <td>0.98</td>\n",
       "    </tr>\n",
       "    <tr>\n",
       "      <th>AdaBoostClassifier</th>\n",
       "      <td>0.95</td>\n",
       "      <td>0.76</td>\n",
       "      <td>0.76</td>\n",
       "      <td>0.95</td>\n",
       "      <td>1.12</td>\n",
       "      <td>0.77</td>\n",
       "      <td>0.53</td>\n",
       "      <td>0.87</td>\n",
       "      <td>0.66</td>\n",
       "      <td>0.74</td>\n",
       "      <td>0.98</td>\n",
       "    </tr>\n",
       "    <tr>\n",
       "      <th>BaggingClassifier</th>\n",
       "      <td>0.95</td>\n",
       "      <td>0.75</td>\n",
       "      <td>0.75</td>\n",
       "      <td>0.95</td>\n",
       "      <td>1.17</td>\n",
       "      <td>0.76</td>\n",
       "      <td>0.52</td>\n",
       "      <td>0.85</td>\n",
       "      <td>0.65</td>\n",
       "      <td>0.73</td>\n",
       "      <td>0.96</td>\n",
       "    </tr>\n",
       "    <tr>\n",
       "      <th>NearestCentroid</th>\n",
       "      <td>0.81</td>\n",
       "      <td>0.81</td>\n",
       "      <td>0.81</td>\n",
       "      <td>0.85</td>\n",
       "      <td>0.28</td>\n",
       "      <td>0.26</td>\n",
       "      <td>0.80</td>\n",
       "      <td>0.29</td>\n",
       "      <td>1.00</td>\n",
       "      <td>0.72</td>\n",
       "      <td>0.94</td>\n",
       "    </tr>\n",
       "    <tr>\n",
       "      <th>DecisionTreeClassifier</th>\n",
       "      <td>0.94</td>\n",
       "      <td>0.77</td>\n",
       "      <td>0.77</td>\n",
       "      <td>0.94</td>\n",
       "      <td>0.23</td>\n",
       "      <td>0.57</td>\n",
       "      <td>0.58</td>\n",
       "      <td>0.64</td>\n",
       "      <td>0.72</td>\n",
       "      <td>0.69</td>\n",
       "      <td>0.91</td>\n",
       "    </tr>\n",
       "    <tr>\n",
       "      <th>PassiveAggressiveClassifier</th>\n",
       "      <td>0.91</td>\n",
       "      <td>0.76</td>\n",
       "      <td>0.76</td>\n",
       "      <td>0.92</td>\n",
       "      <td>0.07</td>\n",
       "      <td>0.45</td>\n",
       "      <td>0.58</td>\n",
       "      <td>0.51</td>\n",
       "      <td>0.72</td>\n",
       "      <td>0.64</td>\n",
       "      <td>0.84</td>\n",
       "    </tr>\n",
       "    <tr>\n",
       "      <th>GaussianNB</th>\n",
       "      <td>0.91</td>\n",
       "      <td>0.75</td>\n",
       "      <td>0.75</td>\n",
       "      <td>0.92</td>\n",
       "      <td>0.03</td>\n",
       "      <td>0.44</td>\n",
       "      <td>0.57</td>\n",
       "      <td>0.49</td>\n",
       "      <td>0.71</td>\n",
       "      <td>0.63</td>\n",
       "      <td>0.82</td>\n",
       "    </tr>\n",
       "    <tr>\n",
       "      <th>SVC</th>\n",
       "      <td>0.94</td>\n",
       "      <td>0.64</td>\n",
       "      <td>0.64</td>\n",
       "      <td>0.93</td>\n",
       "      <td>1.09</td>\n",
       "      <td>0.89</td>\n",
       "      <td>0.29</td>\n",
       "      <td>1.00</td>\n",
       "      <td>0.36</td>\n",
       "      <td>0.62</td>\n",
       "      <td>0.81</td>\n",
       "    </tr>\n",
       "    <tr>\n",
       "      <th>ExtraTreeClassifier</th>\n",
       "      <td>0.92</td>\n",
       "      <td>0.72</td>\n",
       "      <td>0.72</td>\n",
       "      <td>0.92</td>\n",
       "      <td>0.03</td>\n",
       "      <td>0.49</td>\n",
       "      <td>0.47</td>\n",
       "      <td>0.55</td>\n",
       "      <td>0.59</td>\n",
       "      <td>0.57</td>\n",
       "      <td>0.75</td>\n",
       "    </tr>\n",
       "    <tr>\n",
       "      <th>Perceptron</th>\n",
       "      <td>0.89</td>\n",
       "      <td>0.73</td>\n",
       "      <td>0.73</td>\n",
       "      <td>0.90</td>\n",
       "      <td>0.06</td>\n",
       "      <td>0.35</td>\n",
       "      <td>0.55</td>\n",
       "      <td>0.39</td>\n",
       "      <td>0.69</td>\n",
       "      <td>0.57</td>\n",
       "      <td>0.75</td>\n",
       "    </tr>\n",
       "    <tr>\n",
       "      <th>KNeighborsClassifier</th>\n",
       "      <td>0.94</td>\n",
       "      <td>0.65</td>\n",
       "      <td>0.65</td>\n",
       "      <td>0.93</td>\n",
       "      <td>0.40</td>\n",
       "      <td>0.68</td>\n",
       "      <td>0.31</td>\n",
       "      <td>0.76</td>\n",
       "      <td>0.39</td>\n",
       "      <td>0.54</td>\n",
       "      <td>0.71</td>\n",
       "    </tr>\n",
       "    <tr>\n",
       "      <th>LogisticRegression</th>\n",
       "      <td>0.94</td>\n",
       "      <td>0.63</td>\n",
       "      <td>0.63</td>\n",
       "      <td>0.92</td>\n",
       "      <td>0.11</td>\n",
       "      <td>0.66</td>\n",
       "      <td>0.28</td>\n",
       "      <td>0.74</td>\n",
       "      <td>0.35</td>\n",
       "      <td>0.51</td>\n",
       "      <td>0.67</td>\n",
       "    </tr>\n",
       "    <tr>\n",
       "      <th>CalibratedClassifierCV</th>\n",
       "      <td>0.94</td>\n",
       "      <td>0.63</td>\n",
       "      <td>0.63</td>\n",
       "      <td>0.92</td>\n",
       "      <td>0.14</td>\n",
       "      <td>0.66</td>\n",
       "      <td>0.28</td>\n",
       "      <td>0.74</td>\n",
       "      <td>0.35</td>\n",
       "      <td>0.51</td>\n",
       "      <td>0.67</td>\n",
       "    </tr>\n",
       "    <tr>\n",
       "      <th>LinearDiscriminantAnalysis</th>\n",
       "      <td>0.93</td>\n",
       "      <td>0.64</td>\n",
       "      <td>0.64</td>\n",
       "      <td>0.92</td>\n",
       "      <td>0.39</td>\n",
       "      <td>0.62</td>\n",
       "      <td>0.29</td>\n",
       "      <td>0.70</td>\n",
       "      <td>0.36</td>\n",
       "      <td>0.50</td>\n",
       "      <td>0.65</td>\n",
       "    </tr>\n",
       "    <tr>\n",
       "      <th>QuadraticDiscriminantAnalysis</th>\n",
       "      <td>0.87</td>\n",
       "      <td>0.69</td>\n",
       "      <td>0.69</td>\n",
       "      <td>0.88</td>\n",
       "      <td>0.08</td>\n",
       "      <td>0.28</td>\n",
       "      <td>0.49</td>\n",
       "      <td>0.31</td>\n",
       "      <td>0.61</td>\n",
       "      <td>0.49</td>\n",
       "      <td>0.65</td>\n",
       "    </tr>\n",
       "    <tr>\n",
       "      <th>LabelSpreading</th>\n",
       "      <td>0.92</td>\n",
       "      <td>0.67</td>\n",
       "      <td>0.67</td>\n",
       "      <td>0.91</td>\n",
       "      <td>8.10</td>\n",
       "      <td>0.44</td>\n",
       "      <td>0.37</td>\n",
       "      <td>0.49</td>\n",
       "      <td>0.46</td>\n",
       "      <td>0.48</td>\n",
       "      <td>0.62</td>\n",
       "    </tr>\n",
       "    <tr>\n",
       "      <th>LabelPropagation</th>\n",
       "      <td>0.92</td>\n",
       "      <td>0.67</td>\n",
       "      <td>0.67</td>\n",
       "      <td>0.91</td>\n",
       "      <td>4.93</td>\n",
       "      <td>0.43</td>\n",
       "      <td>0.37</td>\n",
       "      <td>0.48</td>\n",
       "      <td>0.46</td>\n",
       "      <td>0.47</td>\n",
       "      <td>0.62</td>\n",
       "    </tr>\n",
       "    <tr>\n",
       "      <th>LinearSVC</th>\n",
       "      <td>0.93</td>\n",
       "      <td>0.57</td>\n",
       "      <td>0.57</td>\n",
       "      <td>0.91</td>\n",
       "      <td>0.09</td>\n",
       "      <td>0.70</td>\n",
       "      <td>0.15</td>\n",
       "      <td>0.79</td>\n",
       "      <td>0.19</td>\n",
       "      <td>0.43</td>\n",
       "      <td>0.56</td>\n",
       "    </tr>\n",
       "    <tr>\n",
       "      <th>DummyClassifier</th>\n",
       "      <td>0.93</td>\n",
       "      <td>0.50</td>\n",
       "      <td>0.50</td>\n",
       "      <td>0.89</td>\n",
       "      <td>0.02</td>\n",
       "      <td>0.00</td>\n",
       "      <td>0.00</td>\n",
       "      <td>0.00</td>\n",
       "      <td>0.00</td>\n",
       "      <td>0.00</td>\n",
       "      <td>0.00</td>\n",
       "    </tr>\n",
       "    <tr>\n",
       "      <th>RidgeClassifier</th>\n",
       "      <td>0.93</td>\n",
       "      <td>0.50</td>\n",
       "      <td>0.50</td>\n",
       "      <td>0.89</td>\n",
       "      <td>0.05</td>\n",
       "      <td>0.00</td>\n",
       "      <td>0.00</td>\n",
       "      <td>0.00</td>\n",
       "      <td>0.00</td>\n",
       "      <td>0.00</td>\n",
       "      <td>0.00</td>\n",
       "    </tr>\n",
       "    <tr>\n",
       "      <th>RidgeClassifierCV</th>\n",
       "      <td>0.93</td>\n",
       "      <td>0.50</td>\n",
       "      <td>0.50</td>\n",
       "      <td>0.89</td>\n",
       "      <td>0.06</td>\n",
       "      <td>0.00</td>\n",
       "      <td>0.00</td>\n",
       "      <td>0.00</td>\n",
       "      <td>0.00</td>\n",
       "      <td>0.00</td>\n",
       "      <td>0.00</td>\n",
       "    </tr>\n",
       "    <tr>\n",
       "      <th>SGDClassifier</th>\n",
       "      <td>0.93</td>\n",
       "      <td>0.50</td>\n",
       "      <td>0.50</td>\n",
       "      <td>0.89</td>\n",
       "      <td>0.04</td>\n",
       "      <td>0.00</td>\n",
       "      <td>0.00</td>\n",
       "      <td>0.00</td>\n",
       "      <td>0.00</td>\n",
       "      <td>0.00</td>\n",
       "      <td>0.00</td>\n",
       "    </tr>\n",
       "    <tr>\n",
       "      <th>BernoulliNB</th>\n",
       "      <td>0.93</td>\n",
       "      <td>0.50</td>\n",
       "      <td>0.50</td>\n",
       "      <td>0.89</td>\n",
       "      <td>0.04</td>\n",
       "      <td>0.00</td>\n",
       "      <td>0.00</td>\n",
       "      <td>0.00</td>\n",
       "      <td>0.00</td>\n",
       "      <td>0.00</td>\n",
       "      <td>0.00</td>\n",
       "    </tr>\n",
       "  </tbody>\n",
       "</table>\n",
       "</div>"
      ],
      "text/plain": [
       "                               Accuracy  Balanced Accuracy  ROC AUC  F1 Score  \\\n",
       "Model                                                                           \n",
       "LGBMClassifier                     0.95               0.77     0.77      0.95   \n",
       "ExtraTreesClassifier               0.95               0.75     0.75      0.95   \n",
       "RandomForestClassifier             0.95               0.76     0.76      0.95   \n",
       "XGBClassifier                      0.95               0.77     0.77      0.95   \n",
       "AdaBoostClassifier                 0.95               0.76     0.76      0.95   \n",
       "BaggingClassifier                  0.95               0.75     0.75      0.95   \n",
       "NearestCentroid                    0.81               0.81     0.81      0.85   \n",
       "DecisionTreeClassifier             0.94               0.77     0.77      0.94   \n",
       "PassiveAggressiveClassifier        0.91               0.76     0.76      0.92   \n",
       "GaussianNB                         0.91               0.75     0.75      0.92   \n",
       "SVC                                0.94               0.64     0.64      0.93   \n",
       "ExtraTreeClassifier                0.92               0.72     0.72      0.92   \n",
       "Perceptron                         0.89               0.73     0.73      0.90   \n",
       "KNeighborsClassifier               0.94               0.65     0.65      0.93   \n",
       "LogisticRegression                 0.94               0.63     0.63      0.92   \n",
       "CalibratedClassifierCV             0.94               0.63     0.63      0.92   \n",
       "LinearDiscriminantAnalysis         0.93               0.64     0.64      0.92   \n",
       "QuadraticDiscriminantAnalysis      0.87               0.69     0.69      0.88   \n",
       "LabelSpreading                     0.92               0.67     0.67      0.91   \n",
       "LabelPropagation                   0.92               0.67     0.67      0.91   \n",
       "LinearSVC                          0.93               0.57     0.57      0.91   \n",
       "DummyClassifier                    0.93               0.50     0.50      0.89   \n",
       "RidgeClassifier                    0.93               0.50     0.50      0.89   \n",
       "RidgeClassifierCV                  0.93               0.50     0.50      0.89   \n",
       "SGDClassifier                      0.93               0.50     0.50      0.89   \n",
       "BernoulliNB                        0.93               0.50     0.50      0.89   \n",
       "\n",
       "                               Time Taken  Precision  Recall  \\\n",
       "Model                                                          \n",
       "LGBMClassifier                       0.19       0.76    0.56   \n",
       "ExtraTreesClassifier                 1.05       0.80    0.52   \n",
       "RandomForestClassifier               6.26       0.80    0.52   \n",
       "XGBClassifier                        0.29       0.74    0.55   \n",
       "AdaBoostClassifier                   1.12       0.77    0.53   \n",
       "BaggingClassifier                    1.17       0.76    0.52   \n",
       "NearestCentroid                      0.28       0.26    0.80   \n",
       "DecisionTreeClassifier               0.23       0.57    0.58   \n",
       "PassiveAggressiveClassifier          0.07       0.45    0.58   \n",
       "GaussianNB                           0.03       0.44    0.57   \n",
       "SVC                                  1.09       0.89    0.29   \n",
       "ExtraTreeClassifier                  0.03       0.49    0.47   \n",
       "Perceptron                           0.06       0.35    0.55   \n",
       "KNeighborsClassifier                 0.40       0.68    0.31   \n",
       "LogisticRegression                   0.11       0.66    0.28   \n",
       "CalibratedClassifierCV               0.14       0.66    0.28   \n",
       "LinearDiscriminantAnalysis           0.39       0.62    0.29   \n",
       "QuadraticDiscriminantAnalysis        0.08       0.28    0.49   \n",
       "LabelSpreading                       8.10       0.44    0.37   \n",
       "LabelPropagation                     4.93       0.43    0.37   \n",
       "LinearSVC                            0.09       0.70    0.15   \n",
       "DummyClassifier                      0.02       0.00    0.00   \n",
       "RidgeClassifier                      0.05       0.00    0.00   \n",
       "RidgeClassifierCV                    0.06       0.00    0.00   \n",
       "SGDClassifier                        0.04       0.00    0.00   \n",
       "BernoulliNB                          0.04       0.00    0.00   \n",
       "\n",
       "                               Precision_normalized  Recall_normalized  \\\n",
       "Model                                                                    \n",
       "LGBMClassifier                                 0.85               0.70   \n",
       "ExtraTreesClassifier                           0.90               0.65   \n",
       "RandomForestClassifier                         0.90               0.65   \n",
       "XGBClassifier                                  0.83               0.69   \n",
       "AdaBoostClassifier                             0.87               0.66   \n",
       "BaggingClassifier                              0.85               0.65   \n",
       "NearestCentroid                                0.29               1.00   \n",
       "DecisionTreeClassifier                         0.64               0.72   \n",
       "PassiveAggressiveClassifier                    0.51               0.72   \n",
       "GaussianNB                                     0.49               0.71   \n",
       "SVC                                            1.00               0.36   \n",
       "ExtraTreeClassifier                            0.55               0.59   \n",
       "Perceptron                                     0.39               0.69   \n",
       "KNeighborsClassifier                           0.76               0.39   \n",
       "LogisticRegression                             0.74               0.35   \n",
       "CalibratedClassifierCV                         0.74               0.35   \n",
       "LinearDiscriminantAnalysis                     0.70               0.36   \n",
       "QuadraticDiscriminantAnalysis                  0.31               0.61   \n",
       "LabelSpreading                                 0.49               0.46   \n",
       "LabelPropagation                               0.48               0.46   \n",
       "LinearSVC                                      0.79               0.19   \n",
       "DummyClassifier                                0.00               0.00   \n",
       "RidgeClassifier                                0.00               0.00   \n",
       "RidgeClassifierCV                              0.00               0.00   \n",
       "SGDClassifier                                  0.00               0.00   \n",
       "BernoulliNB                                    0.00               0.00   \n",
       "\n",
       "                               indice_composto  indice_composto_normalized  \n",
       "Model                                                                       \n",
       "LGBMClassifier                            0.76                        1.00  \n",
       "ExtraTreesClassifier                      0.75                        0.98  \n",
       "RandomForestClassifier                    0.75                        0.98  \n",
       "XGBClassifier                             0.75                        0.98  \n",
       "AdaBoostClassifier                        0.74                        0.98  \n",
       "BaggingClassifier                         0.73                        0.96  \n",
       "NearestCentroid                           0.72                        0.94  \n",
       "DecisionTreeClassifier                    0.69                        0.91  \n",
       "PassiveAggressiveClassifier               0.64                        0.84  \n",
       "GaussianNB                                0.63                        0.82  \n",
       "SVC                                       0.62                        0.81  \n",
       "ExtraTreeClassifier                       0.57                        0.75  \n",
       "Perceptron                                0.57                        0.75  \n",
       "KNeighborsClassifier                      0.54                        0.71  \n",
       "LogisticRegression                        0.51                        0.67  \n",
       "CalibratedClassifierCV                    0.51                        0.67  \n",
       "LinearDiscriminantAnalysis                0.50                        0.65  \n",
       "QuadraticDiscriminantAnalysis             0.49                        0.65  \n",
       "LabelSpreading                            0.48                        0.62  \n",
       "LabelPropagation                          0.47                        0.62  \n",
       "LinearSVC                                 0.43                        0.56  \n",
       "DummyClassifier                           0.00                        0.00  \n",
       "RidgeClassifier                           0.00                        0.00  \n",
       "RidgeClassifierCV                         0.00                        0.00  \n",
       "SGDClassifier                             0.00                        0.00  \n",
       "BernoulliNB                               0.00                        0.00  "
      ]
     },
     "metadata": {},
     "output_type": "display_data"
    }
   ],
   "source": [
    "# Normalização Min-Max\n",
    "predictions['Precision_normalized'] = (predictions['Precision'] - predictions['Precision'].min()) / (predictions['Precision'].max() - predictions['Precision'].min())\n",
    "predictions['Recall_normalized'] = (predictions['Recall'] - predictions['Recall'].min()) / (predictions['Recall'].max() - predictions['Recall'].min())\n",
    "\n",
    "# Criação do índice composto para ranquear o melhor modelo\n",
    "predictions['indice_composto'] = predictions['Precision_normalized'] * 0.4 + predictions['Recall_normalized'] * 0.6 # pesos de 40% para precisão e 60% para recall\n",
    "predictions['indice_composto_normalized'] = (predictions['indice_composto'] - predictions['indice_composto'].min()) / (predictions['indice_composto'].max() - predictions['indice_composto'].min())\n",
    "predictions['indice_composto_normalized'] = predictions['indice_composto_normalized'].round(2)\n",
    "predictions = predictions.sort_values(by='indice_composto_normalized', ascending=False)\n",
    "display(predictions)"
   ]
  },
  {
   "cell_type": "code",
   "execution_count": 23,
   "id": "910d9a1c",
   "metadata": {},
   "outputs": [
    {
     "data": {
      "application/vnd.plotly.v1+json": {
       "config": {
        "plotlyServerURL": "https://plot.ly"
       },
       "data": [
        {
         "name": "Indice Composto",
         "orientation": "h",
         "text": [
          "1.0",
          "0.98",
          "0.98",
          "0.98",
          "0.98",
          "0.96",
          "0.94",
          "0.91",
          "0.84",
          "0.82",
          "0.81",
          "0.75",
          "0.75",
          "0.71",
          "0.67",
          "0.67",
          "0.65",
          "0.65",
          "0.62",
          "0.62",
          "0.56",
          "0.0",
          "0.0",
          "0.0",
          "0.0",
          "0.0"
         ],
         "textposition": "outside",
         "type": "bar",
         "x": [
          1,
          0.98,
          0.98,
          0.98,
          0.98,
          0.96,
          0.94,
          0.91,
          0.84,
          0.82,
          0.81,
          0.75,
          0.75,
          0.71,
          0.67,
          0.67,
          0.65,
          0.65,
          0.62,
          0.62,
          0.56,
          0,
          0,
          0,
          0,
          0
         ],
         "y": [
          "LGBMClassifier",
          "ExtraTreesClassifier",
          "RandomForestClassifier",
          "XGBClassifier",
          "AdaBoostClassifier",
          "BaggingClassifier",
          "NearestCentroid",
          "DecisionTreeClassifier",
          "PassiveAggressiveClassifier",
          "GaussianNB",
          "SVC",
          "ExtraTreeClassifier",
          "Perceptron",
          "KNeighborsClassifier",
          "LogisticRegression",
          "CalibratedClassifierCV",
          "LinearDiscriminantAnalysis",
          "QuadraticDiscriminantAnalysis",
          "LabelSpreading",
          "LabelPropagation",
          "LinearSVC",
          "DummyClassifier",
          "RidgeClassifier",
          "RidgeClassifierCV",
          "SGDClassifier",
          "BernoulliNB"
         ]
        },
        {
         "name": "Precisão",
         "orientation": "h",
         "text": [
          "0.76",
          "0.8",
          "0.8",
          "0.74",
          "0.77",
          "0.76",
          "0.26",
          "0.57",
          "0.45",
          "0.44",
          "0.89",
          "0.49",
          "0.35",
          "0.68",
          "0.66",
          "0.66",
          "0.62",
          "0.28",
          "0.44",
          "0.43",
          "0.7",
          "0.0",
          "0.0",
          "0.0",
          "0.0",
          "0.0"
         ],
         "textposition": "outside",
         "type": "bar",
         "x": [
          0.76,
          0.8,
          0.8,
          0.74,
          0.77,
          0.76,
          0.26,
          0.57,
          0.45,
          0.44,
          0.89,
          0.49,
          0.35,
          0.68,
          0.66,
          0.66,
          0.62,
          0.28,
          0.44,
          0.43,
          0.7,
          0,
          0,
          0,
          0,
          0
         ],
         "y": [
          "LGBMClassifier",
          "ExtraTreesClassifier",
          "RandomForestClassifier",
          "XGBClassifier",
          "AdaBoostClassifier",
          "BaggingClassifier",
          "NearestCentroid",
          "DecisionTreeClassifier",
          "PassiveAggressiveClassifier",
          "GaussianNB",
          "SVC",
          "ExtraTreeClassifier",
          "Perceptron",
          "KNeighborsClassifier",
          "LogisticRegression",
          "CalibratedClassifierCV",
          "LinearDiscriminantAnalysis",
          "QuadraticDiscriminantAnalysis",
          "LabelSpreading",
          "LabelPropagation",
          "LinearSVC",
          "DummyClassifier",
          "RidgeClassifier",
          "RidgeClassifierCV",
          "SGDClassifier",
          "BernoulliNB"
         ]
        },
        {
         "name": "Recall",
         "orientation": "h",
         "text": [
          "0.56",
          "0.52",
          "0.52",
          "0.55",
          "0.53",
          "0.52",
          "0.8",
          "0.58",
          "0.58",
          "0.57",
          "0.29",
          "0.47",
          "0.55",
          "0.31",
          "0.28",
          "0.28",
          "0.29",
          "0.49",
          "0.37",
          "0.37",
          "0.15",
          "0.0",
          "0.0",
          "0.0",
          "0.0",
          "0.0"
         ],
         "textposition": "outside",
         "type": "bar",
         "x": [
          0.56,
          0.52,
          0.52,
          0.55,
          0.53,
          0.52,
          0.8,
          0.58,
          0.58,
          0.57,
          0.29,
          0.47,
          0.55,
          0.31,
          0.28,
          0.28,
          0.29,
          0.49,
          0.37,
          0.37,
          0.15,
          0,
          0,
          0,
          0,
          0
         ],
         "y": [
          "LGBMClassifier",
          "ExtraTreesClassifier",
          "RandomForestClassifier",
          "XGBClassifier",
          "AdaBoostClassifier",
          "BaggingClassifier",
          "NearestCentroid",
          "DecisionTreeClassifier",
          "PassiveAggressiveClassifier",
          "GaussianNB",
          "SVC",
          "ExtraTreeClassifier",
          "Perceptron",
          "KNeighborsClassifier",
          "LogisticRegression",
          "CalibratedClassifierCV",
          "LinearDiscriminantAnalysis",
          "QuadraticDiscriminantAnalysis",
          "LabelSpreading",
          "LabelPropagation",
          "LinearSVC",
          "DummyClassifier",
          "RidgeClassifier",
          "RidgeClassifierCV",
          "SGDClassifier",
          "BernoulliNB"
         ]
        }
       ],
       "layout": {
        "barmode": "group",
        "height": 1500,
        "template": {
         "data": {
          "bar": [
           {
            "error_x": {
             "color": "#2a3f5f"
            },
            "error_y": {
             "color": "#2a3f5f"
            },
            "marker": {
             "line": {
              "color": "white",
              "width": 0.5
             },
             "pattern": {
              "fillmode": "overlay",
              "size": 10,
              "solidity": 0.2
             }
            },
            "type": "bar"
           }
          ],
          "barpolar": [
           {
            "marker": {
             "line": {
              "color": "white",
              "width": 0.5
             },
             "pattern": {
              "fillmode": "overlay",
              "size": 10,
              "solidity": 0.2
             }
            },
            "type": "barpolar"
           }
          ],
          "carpet": [
           {
            "aaxis": {
             "endlinecolor": "#2a3f5f",
             "gridcolor": "#C8D4E3",
             "linecolor": "#C8D4E3",
             "minorgridcolor": "#C8D4E3",
             "startlinecolor": "#2a3f5f"
            },
            "baxis": {
             "endlinecolor": "#2a3f5f",
             "gridcolor": "#C8D4E3",
             "linecolor": "#C8D4E3",
             "minorgridcolor": "#C8D4E3",
             "startlinecolor": "#2a3f5f"
            },
            "type": "carpet"
           }
          ],
          "choropleth": [
           {
            "colorbar": {
             "outlinewidth": 0,
             "ticks": ""
            },
            "type": "choropleth"
           }
          ],
          "contour": [
           {
            "colorbar": {
             "outlinewidth": 0,
             "ticks": ""
            },
            "colorscale": [
             [
              0,
              "#0d0887"
             ],
             [
              0.1111111111111111,
              "#46039f"
             ],
             [
              0.2222222222222222,
              "#7201a8"
             ],
             [
              0.3333333333333333,
              "#9c179e"
             ],
             [
              0.4444444444444444,
              "#bd3786"
             ],
             [
              0.5555555555555556,
              "#d8576b"
             ],
             [
              0.6666666666666666,
              "#ed7953"
             ],
             [
              0.7777777777777778,
              "#fb9f3a"
             ],
             [
              0.8888888888888888,
              "#fdca26"
             ],
             [
              1,
              "#f0f921"
             ]
            ],
            "type": "contour"
           }
          ],
          "contourcarpet": [
           {
            "colorbar": {
             "outlinewidth": 0,
             "ticks": ""
            },
            "type": "contourcarpet"
           }
          ],
          "heatmap": [
           {
            "colorbar": {
             "outlinewidth": 0,
             "ticks": ""
            },
            "colorscale": [
             [
              0,
              "#0d0887"
             ],
             [
              0.1111111111111111,
              "#46039f"
             ],
             [
              0.2222222222222222,
              "#7201a8"
             ],
             [
              0.3333333333333333,
              "#9c179e"
             ],
             [
              0.4444444444444444,
              "#bd3786"
             ],
             [
              0.5555555555555556,
              "#d8576b"
             ],
             [
              0.6666666666666666,
              "#ed7953"
             ],
             [
              0.7777777777777778,
              "#fb9f3a"
             ],
             [
              0.8888888888888888,
              "#fdca26"
             ],
             [
              1,
              "#f0f921"
             ]
            ],
            "type": "heatmap"
           }
          ],
          "heatmapgl": [
           {
            "colorbar": {
             "outlinewidth": 0,
             "ticks": ""
            },
            "colorscale": [
             [
              0,
              "#0d0887"
             ],
             [
              0.1111111111111111,
              "#46039f"
             ],
             [
              0.2222222222222222,
              "#7201a8"
             ],
             [
              0.3333333333333333,
              "#9c179e"
             ],
             [
              0.4444444444444444,
              "#bd3786"
             ],
             [
              0.5555555555555556,
              "#d8576b"
             ],
             [
              0.6666666666666666,
              "#ed7953"
             ],
             [
              0.7777777777777778,
              "#fb9f3a"
             ],
             [
              0.8888888888888888,
              "#fdca26"
             ],
             [
              1,
              "#f0f921"
             ]
            ],
            "type": "heatmapgl"
           }
          ],
          "histogram": [
           {
            "marker": {
             "pattern": {
              "fillmode": "overlay",
              "size": 10,
              "solidity": 0.2
             }
            },
            "type": "histogram"
           }
          ],
          "histogram2d": [
           {
            "colorbar": {
             "outlinewidth": 0,
             "ticks": ""
            },
            "colorscale": [
             [
              0,
              "#0d0887"
             ],
             [
              0.1111111111111111,
              "#46039f"
             ],
             [
              0.2222222222222222,
              "#7201a8"
             ],
             [
              0.3333333333333333,
              "#9c179e"
             ],
             [
              0.4444444444444444,
              "#bd3786"
             ],
             [
              0.5555555555555556,
              "#d8576b"
             ],
             [
              0.6666666666666666,
              "#ed7953"
             ],
             [
              0.7777777777777778,
              "#fb9f3a"
             ],
             [
              0.8888888888888888,
              "#fdca26"
             ],
             [
              1,
              "#f0f921"
             ]
            ],
            "type": "histogram2d"
           }
          ],
          "histogram2dcontour": [
           {
            "colorbar": {
             "outlinewidth": 0,
             "ticks": ""
            },
            "colorscale": [
             [
              0,
              "#0d0887"
             ],
             [
              0.1111111111111111,
              "#46039f"
             ],
             [
              0.2222222222222222,
              "#7201a8"
             ],
             [
              0.3333333333333333,
              "#9c179e"
             ],
             [
              0.4444444444444444,
              "#bd3786"
             ],
             [
              0.5555555555555556,
              "#d8576b"
             ],
             [
              0.6666666666666666,
              "#ed7953"
             ],
             [
              0.7777777777777778,
              "#fb9f3a"
             ],
             [
              0.8888888888888888,
              "#fdca26"
             ],
             [
              1,
              "#f0f921"
             ]
            ],
            "type": "histogram2dcontour"
           }
          ],
          "mesh3d": [
           {
            "colorbar": {
             "outlinewidth": 0,
             "ticks": ""
            },
            "type": "mesh3d"
           }
          ],
          "parcoords": [
           {
            "line": {
             "colorbar": {
              "outlinewidth": 0,
              "ticks": ""
             }
            },
            "type": "parcoords"
           }
          ],
          "pie": [
           {
            "automargin": true,
            "type": "pie"
           }
          ],
          "scatter": [
           {
            "fillpattern": {
             "fillmode": "overlay",
             "size": 10,
             "solidity": 0.2
            },
            "type": "scatter"
           }
          ],
          "scatter3d": [
           {
            "line": {
             "colorbar": {
              "outlinewidth": 0,
              "ticks": ""
             }
            },
            "marker": {
             "colorbar": {
              "outlinewidth": 0,
              "ticks": ""
             }
            },
            "type": "scatter3d"
           }
          ],
          "scattercarpet": [
           {
            "marker": {
             "colorbar": {
              "outlinewidth": 0,
              "ticks": ""
             }
            },
            "type": "scattercarpet"
           }
          ],
          "scattergeo": [
           {
            "marker": {
             "colorbar": {
              "outlinewidth": 0,
              "ticks": ""
             }
            },
            "type": "scattergeo"
           }
          ],
          "scattergl": [
           {
            "marker": {
             "colorbar": {
              "outlinewidth": 0,
              "ticks": ""
             }
            },
            "type": "scattergl"
           }
          ],
          "scattermapbox": [
           {
            "marker": {
             "colorbar": {
              "outlinewidth": 0,
              "ticks": ""
             }
            },
            "type": "scattermapbox"
           }
          ],
          "scatterpolar": [
           {
            "marker": {
             "colorbar": {
              "outlinewidth": 0,
              "ticks": ""
             }
            },
            "type": "scatterpolar"
           }
          ],
          "scatterpolargl": [
           {
            "marker": {
             "colorbar": {
              "outlinewidth": 0,
              "ticks": ""
             }
            },
            "type": "scatterpolargl"
           }
          ],
          "scatterternary": [
           {
            "marker": {
             "colorbar": {
              "outlinewidth": 0,
              "ticks": ""
             }
            },
            "type": "scatterternary"
           }
          ],
          "surface": [
           {
            "colorbar": {
             "outlinewidth": 0,
             "ticks": ""
            },
            "colorscale": [
             [
              0,
              "#0d0887"
             ],
             [
              0.1111111111111111,
              "#46039f"
             ],
             [
              0.2222222222222222,
              "#7201a8"
             ],
             [
              0.3333333333333333,
              "#9c179e"
             ],
             [
              0.4444444444444444,
              "#bd3786"
             ],
             [
              0.5555555555555556,
              "#d8576b"
             ],
             [
              0.6666666666666666,
              "#ed7953"
             ],
             [
              0.7777777777777778,
              "#fb9f3a"
             ],
             [
              0.8888888888888888,
              "#fdca26"
             ],
             [
              1,
              "#f0f921"
             ]
            ],
            "type": "surface"
           }
          ],
          "table": [
           {
            "cells": {
             "fill": {
              "color": "#EBF0F8"
             },
             "line": {
              "color": "white"
             }
            },
            "header": {
             "fill": {
              "color": "#C8D4E3"
             },
             "line": {
              "color": "white"
             }
            },
            "type": "table"
           }
          ]
         },
         "layout": {
          "annotationdefaults": {
           "arrowcolor": "#2a3f5f",
           "arrowhead": 0,
           "arrowwidth": 1
          },
          "autotypenumbers": "strict",
          "coloraxis": {
           "colorbar": {
            "outlinewidth": 0,
            "ticks": ""
           }
          },
          "colorscale": {
           "diverging": [
            [
             0,
             "#8e0152"
            ],
            [
             0.1,
             "#c51b7d"
            ],
            [
             0.2,
             "#de77ae"
            ],
            [
             0.3,
             "#f1b6da"
            ],
            [
             0.4,
             "#fde0ef"
            ],
            [
             0.5,
             "#f7f7f7"
            ],
            [
             0.6,
             "#e6f5d0"
            ],
            [
             0.7,
             "#b8e186"
            ],
            [
             0.8,
             "#7fbc41"
            ],
            [
             0.9,
             "#4d9221"
            ],
            [
             1,
             "#276419"
            ]
           ],
           "sequential": [
            [
             0,
             "#0d0887"
            ],
            [
             0.1111111111111111,
             "#46039f"
            ],
            [
             0.2222222222222222,
             "#7201a8"
            ],
            [
             0.3333333333333333,
             "#9c179e"
            ],
            [
             0.4444444444444444,
             "#bd3786"
            ],
            [
             0.5555555555555556,
             "#d8576b"
            ],
            [
             0.6666666666666666,
             "#ed7953"
            ],
            [
             0.7777777777777778,
             "#fb9f3a"
            ],
            [
             0.8888888888888888,
             "#fdca26"
            ],
            [
             1,
             "#f0f921"
            ]
           ],
           "sequentialminus": [
            [
             0,
             "#0d0887"
            ],
            [
             0.1111111111111111,
             "#46039f"
            ],
            [
             0.2222222222222222,
             "#7201a8"
            ],
            [
             0.3333333333333333,
             "#9c179e"
            ],
            [
             0.4444444444444444,
             "#bd3786"
            ],
            [
             0.5555555555555556,
             "#d8576b"
            ],
            [
             0.6666666666666666,
             "#ed7953"
            ],
            [
             0.7777777777777778,
             "#fb9f3a"
            ],
            [
             0.8888888888888888,
             "#fdca26"
            ],
            [
             1,
             "#f0f921"
            ]
           ]
          },
          "colorway": [
           "#636efa",
           "#EF553B",
           "#00cc96",
           "#ab63fa",
           "#FFA15A",
           "#19d3f3",
           "#FF6692",
           "#B6E880",
           "#FF97FF",
           "#FECB52"
          ],
          "font": {
           "color": "#2a3f5f"
          },
          "geo": {
           "bgcolor": "white",
           "lakecolor": "white",
           "landcolor": "white",
           "showlakes": true,
           "showland": true,
           "subunitcolor": "#C8D4E3"
          },
          "hoverlabel": {
           "align": "left"
          },
          "hovermode": "closest",
          "mapbox": {
           "style": "light"
          },
          "paper_bgcolor": "white",
          "plot_bgcolor": "white",
          "polar": {
           "angularaxis": {
            "gridcolor": "#EBF0F8",
            "linecolor": "#EBF0F8",
            "ticks": ""
           },
           "bgcolor": "white",
           "radialaxis": {
            "gridcolor": "#EBF0F8",
            "linecolor": "#EBF0F8",
            "ticks": ""
           }
          },
          "scene": {
           "xaxis": {
            "backgroundcolor": "white",
            "gridcolor": "#DFE8F3",
            "gridwidth": 2,
            "linecolor": "#EBF0F8",
            "showbackground": true,
            "ticks": "",
            "zerolinecolor": "#EBF0F8"
           },
           "yaxis": {
            "backgroundcolor": "white",
            "gridcolor": "#DFE8F3",
            "gridwidth": 2,
            "linecolor": "#EBF0F8",
            "showbackground": true,
            "ticks": "",
            "zerolinecolor": "#EBF0F8"
           },
           "zaxis": {
            "backgroundcolor": "white",
            "gridcolor": "#DFE8F3",
            "gridwidth": 2,
            "linecolor": "#EBF0F8",
            "showbackground": true,
            "ticks": "",
            "zerolinecolor": "#EBF0F8"
           }
          },
          "shapedefaults": {
           "line": {
            "color": "#2a3f5f"
           }
          },
          "ternary": {
           "aaxis": {
            "gridcolor": "#DFE8F3",
            "linecolor": "#A2B1C6",
            "ticks": ""
           },
           "baxis": {
            "gridcolor": "#DFE8F3",
            "linecolor": "#A2B1C6",
            "ticks": ""
           },
           "bgcolor": "white",
           "caxis": {
            "gridcolor": "#DFE8F3",
            "linecolor": "#A2B1C6",
            "ticks": ""
           }
          },
          "title": {
           "x": 0.05
          },
          "xaxis": {
           "automargin": true,
           "gridcolor": "#EBF0F8",
           "linecolor": "#EBF0F8",
           "ticks": "",
           "title": {
            "standoff": 15
           },
           "zerolinecolor": "#EBF0F8",
           "zerolinewidth": 2
          },
          "yaxis": {
           "automargin": true,
           "gridcolor": "#EBF0F8",
           "linecolor": "#EBF0F8",
           "ticks": "",
           "title": {
            "standoff": 15
           },
           "zerolinecolor": "#EBF0F8",
           "zerolinewidth": 2
          }
         }
        },
        "title": {
         "text": "Precisão e Recall dos Modelos"
        },
        "xaxis": {
         "title": {
          "text": "Valor da Métrica"
         }
        },
        "yaxis": {
         "automargin": true,
         "title": {
          "text": "Modelos"
         }
        }
       }
      }
     },
     "metadata": {},
     "output_type": "display_data"
    }
   ],
   "source": [
    "import plotly.graph_objects as go\n",
    "\n",
    "# Dados de exemplo: Precisão e Recall para os modelos\n",
    "model_names = predictions.index.tolist()\n",
    "precisions = predictions['Precision'].tolist()\n",
    "recalls = predictions['Recall'].tolist()\n",
    "indice_composto = predictions['indice_composto_normalized'].tolist()\n",
    "\n",
    "# Criando o gráfico de barras invertidas\n",
    "fig = go.Figure()\n",
    "\n",
    "# Adicionando barras para precisão\n",
    "fig.add_trace(go.Bar(\n",
    "    y=model_names,\n",
    "    x=indice_composto,\n",
    "    name='Indice Composto',\n",
    "    orientation='h',\n",
    "    text=indice_composto,\n",
    "    textposition='outside'\n",
    "))\n",
    "\n",
    "# Adicionando barras para precisão\n",
    "fig.add_trace(go.Bar(\n",
    "    y=model_names,\n",
    "    x=precisions,\n",
    "    name='Precisão',\n",
    "    orientation='h',\n",
    "    text=precisions,\n",
    "    textposition='outside'\n",
    "))\n",
    "\n",
    "# Adicionando barras para recall\n",
    "fig.add_trace(go.Bar(\n",
    "    y=model_names,\n",
    "    x=recalls,\n",
    "    name='Recall',\n",
    "    orientation='h',\n",
    "    text=recalls,\n",
    "    textposition='outside'\n",
    "))\n",
    "\n",
    "# Configurando o layout do gráfico\n",
    "fig.update_layout(\n",
    "    title='Precisão e Recall dos Modelos',\n",
    "    xaxis=dict(title='Valor da Métrica'),\n",
    "    yaxis=dict(title='Modelos', automargin=True),\n",
    "    barmode='group',\n",
    "    template='plotly_white',\n",
    "    height=1500\n",
    ")\n",
    "\n",
    "# Mostrar o gráfico\n",
    "fig.show()\n"
   ]
  },
  {
   "cell_type": "code",
   "execution_count": 9,
   "id": "4f20d072",
   "metadata": {},
   "outputs": [],
   "source": [
    "#list(models.index)"
   ]
  },
  {
   "cell_type": "code",
   "execution_count": 10,
   "id": "bdb0bbd3",
   "metadata": {},
   "outputs": [
    {
     "ename": "NameError",
     "evalue": "name 'stop' is not defined",
     "output_type": "error",
     "traceback": [
      "\u001b[1;31m---------------------------------------------------------------------------\u001b[0m",
      "\u001b[1;31mNameError\u001b[0m                                 Traceback (most recent call last)",
      "Cell \u001b[1;32mIn[10], line 1\u001b[0m\n\u001b[1;32m----> 1\u001b[0m \u001b[43mstop\u001b[49m\n",
      "\u001b[1;31mNameError\u001b[0m: name 'stop' is not defined"
     ]
    }
   ],
   "source": [
    "stop"
   ]
  },
  {
   "cell_type": "code",
   "execution_count": null,
   "id": "96bf3b56",
   "metadata": {},
   "outputs": [],
   "source": [
    "from sklearn.linear_model import LogisticRegression, PassiveAggressiveClassifier, RidgeClassifier, RidgeClassifierCV, SGDClassifier, Perceptron\n",
    "from sklearn.neighbors import KNeighborsClassifier, NearestCentroid\n",
    "from sklearn.svm import SVC, LinearSVC\n",
    "from sklearn.tree import DecisionTreeClassifier, ExtraTreeClassifier\n",
    "from sklearn.ensemble import RandomForestClassifier, AdaBoostClassifier, ExtraTreesClassifier, BaggingClassifier\n",
    "from sklearn.naive_bayes import GaussianNB, BernoulliNB\n",
    "from sklearn.discriminant_analysis import QuadraticDiscriminantAnalysis, LinearDiscriminantAnalysis\n",
    "from sklearn.semi_supervised import LabelSpreading, LabelPropagation\n",
    "from sklearn.dummy import DummyClassifier\n",
    "from sklearn.calibration import CalibratedClassifierCV\n",
    "\n",
    "# Importar modelos de bibliotecas externas (XGBoost e LightGBM)\n",
    "from xgboost import XGBClassifier\n",
    "from lightgbm import LGBMClassifier\n",
    "\n",
    "# Dicionário com todos os modelos\n",
    "model_dict = {\n",
    "    'LogisticRegression': LogisticRegression(),\n",
    "    'RandomForestClassifier': RandomForestClassifier(),\n",
    "    'SVC': SVC(),\n",
    "    'NearestCentroid': NearestCentroid(),\n",
    "    'LGBMClassifier': LGBMClassifier(),\n",
    "    'DecisionTreeClassifier': DecisionTreeClassifier(),\n",
    "    'XGBClassifier': XGBClassifier(),\n",
    "    'PassiveAggressiveClassifier': PassiveAggressiveClassifier(),\n",
    "    'AdaBoostClassifier': AdaBoostClassifier(),\n",
    "    'GaussianNB': GaussianNB(),\n",
    "    'ExtraTreesClassifier': ExtraTreesClassifier(),\n",
    "    'BaggingClassifier': BaggingClassifier(),\n",
    "    'Perceptron': Perceptron(),\n",
    "    'ExtraTreeClassifier': ExtraTreeClassifier(),\n",
    "    'QuadraticDiscriminantAnalysis': QuadraticDiscriminantAnalysis(),\n",
    "    'LabelSpreading': LabelSpreading(),\n",
    "    'LabelPropagation': LabelPropagation(),\n",
    "    'KNeighborsClassifier': KNeighborsClassifier(),\n",
    "    'LinearDiscriminantAnalysis': LinearDiscriminantAnalysis(),\n",
    "    'CalibratedClassifierCV': CalibratedClassifierCV(),\n",
    "    'LinearSVC': LinearSVC(),\n",
    "    'DummyClassifier': DummyClassifier(),\n",
    "    'RidgeClassifier': RidgeClassifier(),\n",
    "    'RidgeClassifierCV': RidgeClassifierCV(),\n",
    "    'SGDClassifier': SGDClassifier(),\n",
    "    'BernoulliNB': BernoulliNB()\n",
    "}\n",
    "\n",
    "# Teste imprimindo os nomes dos modelos no dicionário\n",
    "for model_name in model_dict:\n",
    "    print(f\"Modelo: {model_name}, Instância: {model_dict[model_name]}\")"
   ]
  },
  {
   "cell_type": "markdown",
   "id": "17a089c2",
   "metadata": {},
   "source": [
    "# XGBoost Basico"
   ]
  },
  {
   "cell_type": "code",
   "execution_count": null,
   "id": "000e284b",
   "metadata": {},
   "outputs": [],
   "source": [
    "import xgboost as xgb\n",
    "#modelo_xgb_basico = xgb.XGBClassifier()\n",
    "from sklearn.linear_model import LogisticRegression\n",
    "modelo_xgb_basico = LogisticRegression()\n",
    "\n",
    "# Treinamento do Modelo\n",
    "modelo_xgb_basico.fit(x_treino, y_treino)"
   ]
  },
  {
   "cell_type": "code",
   "execution_count": null,
   "id": "a6ce3157",
   "metadata": {},
   "outputs": [],
   "source": [
    "#######################################################################################\n",
    "# Avaliação no conjunto de teste  # Relatório de classificação\n",
    "previsoes = modelo_xgb_basico.predict(x_teste)\n",
    "\n",
    "fd_xgb_basico = aval_modelo_corte_tabela(x_teste, y_teste, modelo_xgb_basico, beta=1.5)\n",
    "display(fd_xgb_basico)\n",
    "#aval_modelo_corte_grafico(fd_xgb_basico)"
   ]
  },
  {
   "cell_type": "markdown",
   "id": "96ef2841",
   "metadata": {},
   "source": [
    "# XGBoost"
   ]
  },
  {
   "cell_type": "code",
   "execution_count": null,
   "id": "e8b51ae7",
   "metadata": {},
   "outputs": [],
   "source": [
    "from sklearn.model_selection import GridSearchCV\n",
    "\n",
    "grid = {\n",
    "        'learning_rate': [0.1, 0.2, 0.3],\n",
    "        'max_depth': [0, 2, 4, 6, 8, 10], \n",
    "        'colsample_bytree': [0.1, 0.5, 1],\n",
    "        'n_estimators': [25, 50, 100],\n",
    "}\n",
    "\n",
    "import xgboost as xgb\n",
    "#modelo_xgb = xgb.XGBClassifier()\n",
    "#modelo_xgb = GridSearchCV(estimator=modelo_xgb, \n",
    "#                                param_grid=grid, \n",
    "#                                cv=4, \n",
    "#                                scoring='recall', \n",
    "#                                verbose=1)\n",
    "\n",
    "#from sklearn.naive_bayes import GaussianNB\n",
    "#modelo_xgb = GaussianNB()\n",
    "\n",
    "#from sklearn.tree import DecisionTreeClassifier\n",
    "#modelo_xgb = DecisionTreeClassifier(max_depth = 2)\n",
    "\n",
    "#from sklearn.svm import SVC\n",
    "#modelo_xgb = SVC(kernel='linear')\n",
    "\n",
    "from sklearn.neighbors import KNeighborsClassifier\n",
    "modelo_xgb = KNeighborsClassifier(n_neighbors=5)\n",
    "\n",
    "# Treinamento do Modelo\n",
    "modelo_xgb.fit(x_treino, y_treino)"
   ]
  },
  {
   "cell_type": "code",
   "execution_count": null,
   "id": "3a989e75",
   "metadata": {},
   "outputs": [],
   "source": [
    "modelo_xgb#.best_params_"
   ]
  },
  {
   "cell_type": "code",
   "execution_count": null,
   "id": "fb2d3c57",
   "metadata": {},
   "outputs": [],
   "source": [
    "#######################################################################################\n",
    "# Avaliação no conjunto de teste  # Relatório de classificação\n",
    "previsoes = modelo_xgb.predict(x_teste)\n",
    "\n",
    "fd_xgb = aval_modelo_corte_tabela(x_teste, y_teste, modelo_xgb, beta=1.5)\n",
    "display(fd_xgb)\n",
    "#aval_modelo_corte_grafico(fd_xgb)"
   ]
  },
  {
   "cell_type": "markdown",
   "id": "390062f9",
   "metadata": {},
   "source": [
    "# XGBoost SMOTE"
   ]
  },
  {
   "cell_type": "code",
   "execution_count": null,
   "id": "3a578ca8",
   "metadata": {},
   "outputs": [],
   "source": [
    "# BALANCEAMENTO DE DADOS - OVERSAMPLING\n",
    "from imblearn.over_sampling import SMOTE\n",
    "\n",
    "#criando dados sintéticos\n",
    "oversample = SMOTE() \n",
    "x_balanceado, y_balanceado = oversample.fit_resample(x_treino, y_treino)\n",
    "\n",
    "# checkando\n",
    "print(pd.Series(y_balanceado).value_counts())\n",
    "print(pd.Series(y_balanceado).value_counts(normalize = True))\n",
    "\n",
    "#######################################################################################"
   ]
  },
  {
   "cell_type": "code",
   "execution_count": null,
   "id": "e92710e0",
   "metadata": {},
   "outputs": [],
   "source": [
    "from sklearn.model_selection import GridSearchCV\n",
    "\n",
    "grid = {\n",
    "        'learning_rate': [0.1, 0.2, 0.3],\n",
    "        'max_depth': [0, 2, 4, 6, 8, 10], \n",
    "        'colsample_bytree': [0.1, 0.5, 1],\n",
    "        'n_estimators': [25, 50, 100],\n",
    "}\n",
    "\n",
    "import xgboost as xgb\n",
    "#modelo_xgb_balanceado = xgb.XGBClassifier()\n",
    "#modelo_xgb_balanceado = GridSearchCV(estimator=modelo_xgb_balanceado, \n",
    "#                                param_grid=grid, \n",
    "#                                cv=4, \n",
    "#                                scoring='recall', \n",
    "#                                verbose=1)\n",
    "from sklearn.linear_model import LogisticRegression\n",
    "modelo_xgb_balanceado = LogisticRegression()\n",
    "# Treinamento do Modelo\n",
    "modelo_xgb_balanceado.fit(x_balanceado, y_balanceado)"
   ]
  },
  {
   "cell_type": "code",
   "execution_count": null,
   "id": "596ae904",
   "metadata": {},
   "outputs": [],
   "source": [
    "modelo_xgb_balanceado#.best_params_"
   ]
  },
  {
   "cell_type": "code",
   "execution_count": null,
   "id": "25ed71fd",
   "metadata": {},
   "outputs": [],
   "source": [
    "#######################################################################################\n",
    "# Avaliação no conjunto de teste  # Relatório de classificação\n",
    "previsoes = modelo_xgb_balanceado.predict(x_teste)\n",
    "\n",
    "fd_xgb_balanceado = aval_modelo_corte_tabela(x_teste, y_teste, modelo_xgb_balanceado, beta=1.5)\n",
    "display(fd_xgb_balanceado)\n",
    "#aval_modelo_corte_grafico(fd_xgb_balanceado)"
   ]
  },
  {
   "cell_type": "markdown",
   "id": "5ed24a40",
   "metadata": {},
   "source": [
    "# Avaliando dos tres modelos (threshold)"
   ]
  },
  {
   "cell_type": "code",
   "execution_count": null,
   "id": "19fe3210",
   "metadata": {},
   "outputs": [],
   "source": [
    "aval_modelo_corte_grafico(fd_xgb_basico[['threshold','precisao','sensibilidade','f1','fb_score']])\n",
    "aval_modelo_corte_grafico(fd_xgb[['threshold','precisao','sensibilidade','f1','fb_score']])\n",
    "aval_modelo_corte_grafico(fd_xgb_balanceado[['threshold','precisao','sensibilidade','f1','fb_score']])"
   ]
  },
  {
   "cell_type": "markdown",
   "id": "dea42c68",
   "metadata": {},
   "source": [
    "# Combinando tudo em emsamble"
   ]
  },
  {
   "cell_type": "markdown",
   "id": "bc7f11ff",
   "metadata": {},
   "source": [
    "# ============================================="
   ]
  },
  {
   "cell_type": "markdown",
   "id": "2beee39a",
   "metadata": {},
   "source": [
    "# Analisando as probabilidades geradas pelos modelos"
   ]
  },
  {
   "cell_type": "code",
   "execution_count": null,
   "id": "38e463d3",
   "metadata": {},
   "outputs": [],
   "source": [
    "df_previsoes = adicionar_previsoes(y_teste=y_teste, x_teste=x_teste,\n",
    "    xgb_basico=modelo_xgb_basico, \n",
    "    xgb=modelo_xgb, \n",
    "    xgb_balanceado=modelo_xgb_balanceado)\n",
    "pd.concat([df_previsoes.head(5), df_previsoes.tail(5)])"
   ]
  },
  {
   "cell_type": "code",
   "execution_count": null,
   "id": "4e23c6f8",
   "metadata": {},
   "outputs": [],
   "source": [
    "colunas = df_previsoes.columns[1:]\n",
    "fig = px.box(df_previsoes, y=colunas, color=\"y\")\n",
    "fig.show()"
   ]
  },
  {
   "cell_type": "code",
   "execution_count": null,
   "id": "e06bc28d",
   "metadata": {},
   "outputs": [],
   "source": [
    "import plotly.express as px\n",
    "import plotly.graph_objects as go\n",
    "\n",
    "fig = go.Figure(data=\n",
    "    go.Parcoords(\n",
    "        line = dict(color = df_previsoes['y'],\n",
    "                   colorscale = [[0,'grey'], [1,'red']]),\n",
    "        dimensions = list([\n",
    "            dict(range = [0, 100],\n",
    "                label = 'xgb_basico', values = df_previsoes['xgb_basico']),\n",
    "            dict(range = [0, 100],\n",
    "                label = 'xgb', values = df_previsoes['xgb']),\n",
    "            dict(range = [0, 100],\n",
    "                label = 'xgb_balanceado', values = df_previsoes['xgb_balanceado']),\n",
    "            dict(range = [0, 1],\n",
    "                #constraintrange = [0.5,1],\n",
    "                label = 'y', values = df_previsoes['y'])\n",
    "        ])\n",
    "    )\n",
    ")\n",
    "\n",
    "# mesmo grafico porem mais simples\n",
    "#fig = px.parallel_coordinates(df_previsoes, color=\"y\",\n",
    "                              #dimensions=['xgb_basico', 'xgb', 'xgb_balanceado', 'y'],\n",
    "                              #color_continuous_scale=px.colors.diverging.Tealrose,\n",
    "                              #color_continuous_midpoint=0.5)\n",
    "\n",
    "fig.show()"
   ]
  },
  {
   "cell_type": "code",
   "execution_count": null,
   "id": "7e35dd34",
   "metadata": {},
   "outputs": [],
   "source": [
    "import seaborn as sns\n",
    "import matplotlib.pyplot as plt\n",
    "\n",
    "# Criar o gráfico pairplot\n",
    "pairplot = sns.pairplot(df_previsoes, hue=\"y\", height=2)\n",
    "\n",
    "# Definir a escala de cada eixo de 0 a 100\n",
    "for ax in pairplot.axes.flatten():\n",
    "    ax.set_xlim(0, 100)\n",
    "    ax.set_ylim(0, 100)\n",
    "\n",
    "# Mostrar o gráfico\n",
    "plt.show()"
   ]
  },
  {
   "cell_type": "code",
   "execution_count": null,
   "id": "bd9979e6",
   "metadata": {},
   "outputs": [],
   "source": [
    "fig = px.scatter_3d(df_previsoes, x='xgb_basico', y='xgb', z='xgb_balanceado', color=\"y\")\n",
    "fig.update_traces(marker=dict(size=5))\n",
    "fig.show()"
   ]
  },
  {
   "cell_type": "code",
   "execution_count": null,
   "id": "7fc877dd",
   "metadata": {},
   "outputs": [],
   "source": [
    "df_previsoes.groupby('y').describe().T.head(16)"
   ]
  },
  {
   "cell_type": "code",
   "execution_count": null,
   "id": "3fb672b9",
   "metadata": {},
   "outputs": [],
   "source": [
    "display(summary_num_nonparametric_groups(df_previsoes, 'xgb_basico', 'y'))\n",
    "display(summary_num_nonparametric_groups(df_previsoes, 'xgb', 'y'))\n",
    "display(summary_num_nonparametric_groups(df_previsoes, 'xgb_balanceado', 'y'))"
   ]
  },
  {
   "cell_type": "code",
   "execution_count": null,
   "id": "e0d35d21",
   "metadata": {},
   "outputs": [],
   "source": []
  },
  {
   "cell_type": "code",
   "execution_count": null,
   "id": "a866c108",
   "metadata": {},
   "outputs": [],
   "source": []
  },
  {
   "cell_type": "code",
   "execution_count": null,
   "id": "136e2e0e",
   "metadata": {},
   "outputs": [],
   "source": []
  },
  {
   "cell_type": "markdown",
   "id": "8cc1aac5",
   "metadata": {},
   "source": [
    "# Analisando combinações de thresholds"
   ]
  },
  {
   "cell_type": "code",
   "execution_count": null,
   "id": "f15cd370",
   "metadata": {},
   "outputs": [],
   "source": [
    "grade_thresholds = gridsearch_mult_models_threshold(df_previsoes, beta=1.5) #linspace_thresholds = list(range(5, 100, 5)), \n",
    "grade_thresholds"
   ]
  },
  {
   "cell_type": "code",
   "execution_count": null,
   "id": "e7bbaedb",
   "metadata": {},
   "outputs": [],
   "source": [
    "# Selecionar colunas a partir da quinta\n",
    "colunas = grade_thresholds.columns[5:-3]\n",
    "\n",
    "# Criar um gráfico de boxplot para as colunas selecionadas\n",
    "fig = px.box(grade_thresholds, y=colunas)\n",
    "fig.show()"
   ]
  },
  {
   "cell_type": "code",
   "execution_count": null,
   "id": "081cdbcd",
   "metadata": {},
   "outputs": [],
   "source": [
    "import plotly.express as px\n",
    "\n",
    "fig = go.Figure(data=\n",
    "    go.Parcoords(\n",
    "        dimensions = list([\n",
    "            dict(range = [0, 1], label = 'precisao', values = grade_thresholds['precisao']),\n",
    "            dict(range = [0, 1], label = 'sensibilidade', values = grade_thresholds['sensibilidade']),\n",
    "            dict(range = [0, 1], label = 'fb_score', values = grade_thresholds['fb_score']),\n",
    "            dict(range = [0, 1], label = 'valor_pre_posi', values = grade_thresholds['valor_pre_posi']),\n",
    "            dict(range = [0, 1], label = 'taxa_falsos_negativos', values = grade_thresholds['taxa_falsos_negativos']),\n",
    "            dict(range = [0, 1], label = 'fdr', values = grade_thresholds['fdr']),\n",
    "            dict(range = [0, 1], label = 'indice_youden', values = grade_thresholds['indice_youden']),\n",
    "            dict(range = [0, 1], label = 'coef_matthews', values = grade_thresholds['coef_matthews'])\n",
    "        ])\n",
    "    )\n",
    ")\n",
    "\n",
    "fig.show()"
   ]
  },
  {
   "cell_type": "code",
   "execution_count": null,
   "id": "935af2c6",
   "metadata": {},
   "outputs": [],
   "source": [
    "fig = px.scatter_3d(grade_thresholds, x='precisao', y='sensibilidade', z='f1')\n",
    "fig.update_traces(marker=dict(size=5))\n",
    "fig.show()"
   ]
  },
  {
   "cell_type": "code",
   "execution_count": null,
   "id": "808a4337",
   "metadata": {},
   "outputs": [],
   "source": [
    "fig = px.scatter_3d(grade_thresholds, x=0, y=1, z=2, color='f1')\n",
    "fig.update_traces(marker=dict(size=5))\n",
    "fig.show()"
   ]
  },
  {
   "cell_type": "code",
   "execution_count": null,
   "id": "959ce099",
   "metadata": {},
   "outputs": [],
   "source": [
    "grade_thresholds['index'] = grade_thresholds.index\n",
    "\n",
    "\n",
    "fig = px.scatter(grade_thresholds, x='precisao', y='sensibilidade', \n",
    "                 #color=\"taxa_falsos_positivos\",\n",
    "                 size='taxa_falsos_positivos',\n",
    "                 hover_data=['f1','threshold','index'],\n",
    "                 trendline=\"lowess\")  # Adiciona a linha LOESS\n",
    "fig.show()"
   ]
  },
  {
   "cell_type": "code",
   "execution_count": null,
   "id": "5696747a",
   "metadata": {},
   "outputs": [],
   "source": [
    "correlation_matrix = grade_thresholds[colunas].corr().round(2)\n",
    "fig = px.imshow(correlation_matrix, text_auto=True, title='Matriz de Correlação')\n",
    "fig.show()"
   ]
  },
  {
   "cell_type": "code",
   "execution_count": null,
   "id": "d12801fb",
   "metadata": {},
   "outputs": [],
   "source": []
  },
  {
   "cell_type": "code",
   "execution_count": null,
   "id": "8ba7173d",
   "metadata": {},
   "outputs": [],
   "source": []
  },
  {
   "cell_type": "code",
   "execution_count": null,
   "id": "22491ef8",
   "metadata": {},
   "outputs": [],
   "source": []
  },
  {
   "cell_type": "markdown",
   "id": "1f10194e",
   "metadata": {},
   "source": [
    "# Analisando modelo Final"
   ]
  },
  {
   "cell_type": "code",
   "execution_count": 32,
   "id": "9d5c1724",
   "metadata": {},
   "outputs": [],
   "source": [
    "grade_thresholds.sort_values('f1', ascending=False).to_excel('comp.xlsx')"
   ]
  },
  {
   "cell_type": "code",
   "execution_count": null,
   "id": "a9d69c3b",
   "metadata": {},
   "outputs": [],
   "source": [
    "linha = grade_thresholds.sort_values('f1', ascending=False).index[0]\n",
    "print(grade_thresholds.loc[linha])\n",
    "\n",
    "corte1 = grade_thresholds[0][linha]\n",
    "corte2 = grade_thresholds[1][linha]\n",
    "corte3 = grade_thresholds[2][linha]\n",
    "print(corte1, corte2, corte3)"
   ]
  },
  {
   "cell_type": "code",
   "execution_count": null,
   "id": "1be6469c",
   "metadata": {},
   "outputs": [],
   "source": [
    "df_previsoes['xgb_basico_b'] = np.where(df_previsoes['xgb_basico'] > corte1, 1, 0)\n",
    "df_previsoes['xgb_b'] = np.where(df_previsoes['xgb'] > corte2, 1, 0)\n",
    "df_previsoes['xgb_balanceado_b'] = np.where(df_previsoes['xgb_balanceado'] > corte3, 1, 0)\n",
    "\n",
    "df_previsoes['decisao_final'] = df_previsoes['xgb_basico_b'] + df_previsoes['xgb_b'] + df_previsoes['xgb_balanceado_b']\n",
    "df_previsoes['decisao_final'] = np.where(df_previsoes['decisao_final'] >= 2, 1, 0)\n",
    "df_previsoes"
   ]
  },
  {
   "cell_type": "code",
   "execution_count": null,
   "id": "1edfeb48",
   "metadata": {},
   "outputs": [],
   "source": [
    "colunas = list(df_previsoes.columns[4:7])\n",
    "colunas.append('decisao_final')\n",
    "colunas.append('y')\n",
    "colunas"
   ]
  },
  {
   "cell_type": "code",
   "execution_count": null,
   "id": "bf9029bb",
   "metadata": {},
   "outputs": [],
   "source": [
    "df_previsoes_filter = df_previsoes[df_previsoes['y'] == 1].reset_index(drop=True)\n",
    "fig = px.parallel_categories(df_previsoes_filter[colunas], \n",
    "                             color='decisao_final', \n",
    "                             color_continuous_scale=px.colors.diverging.Tealrose,\n",
    "                             color_continuous_midpoint=0.5)\n",
    "fig.show()"
   ]
  },
  {
   "cell_type": "code",
   "execution_count": null,
   "id": "1182e529",
   "metadata": {},
   "outputs": [],
   "source": []
  },
  {
   "cell_type": "code",
   "execution_count": null,
   "id": "e421dba0",
   "metadata": {},
   "outputs": [],
   "source": []
  },
  {
   "cell_type": "markdown",
   "id": "c76c035a",
   "metadata": {},
   "source": [
    "# =========================================="
   ]
  },
  {
   "cell_type": "code",
   "execution_count": null,
   "metadata": {},
   "outputs": [],
   "source": []
  },
  {
   "cell_type": "code",
   "execution_count": null,
   "metadata": {},
   "outputs": [],
   "source": []
  },
  {
   "cell_type": "code",
   "execution_count": null,
   "id": "b25578eb",
   "metadata": {},
   "outputs": [],
   "source": []
  },
  {
   "cell_type": "code",
   "execution_count": null,
   "id": "b09b821b",
   "metadata": {},
   "outputs": [],
   "source": []
  },
  {
   "cell_type": "code",
   "execution_count": null,
   "id": "6b20cd85",
   "metadata": {},
   "outputs": [],
   "source": []
  },
  {
   "cell_type": "code",
   "execution_count": null,
   "id": "70c3e269",
   "metadata": {},
   "outputs": [],
   "source": []
  },
  {
   "cell_type": "code",
   "execution_count": null,
   "id": "71b0d493",
   "metadata": {},
   "outputs": [],
   "source": []
  },
  {
   "cell_type": "code",
   "execution_count": null,
   "id": "2dfe49a6",
   "metadata": {},
   "outputs": [],
   "source": []
  },
  {
   "cell_type": "code",
   "execution_count": null,
   "id": "9ec49952",
   "metadata": {},
   "outputs": [],
   "source": []
  },
  {
   "cell_type": "code",
   "execution_count": null,
   "id": "e5aad519",
   "metadata": {},
   "outputs": [],
   "source": []
  }
 ],
 "metadata": {
  "kernelspec": {
   "display_name": "Python 3 (ipykernel)",
   "language": "python",
   "name": "python3"
  },
  "language_info": {
   "codemirror_mode": {
    "name": "ipython",
    "version": 3
   },
   "file_extension": ".py",
   "mimetype": "text/x-python",
   "name": "python",
   "nbconvert_exporter": "python",
   "pygments_lexer": "ipython3",
   "version": "3.12.4"
  }
 },
 "nbformat": 4,
 "nbformat_minor": 5
}

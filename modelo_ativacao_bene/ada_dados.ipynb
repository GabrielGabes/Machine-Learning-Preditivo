{
 "cells": [
  {
   "cell_type": "code",
   "execution_count": 1,
   "id": "3960e659",
   "metadata": {},
   "outputs": [],
   "source": [
    "# Manipulação e Tratamento de dados\n",
    "import openpyxl\n",
    "import pandas as pd\n",
    "import numpy as np\n",
    "from numpy import NaN\n",
    "import duckdb as dd\n",
    "\n",
    "#ignorando Warning inuteis\n",
    "import warnings \n",
    "from pandas.errors import SettingWithCopyWarning\n",
    "warnings.simplefilter(action=\"ignore\", category=SettingWithCopyWarning)\n",
    "warnings.filterwarnings(action='ignore', category=FutureWarning)\n",
    "warnings.simplefilter(action='ignore', category=UserWarning)\n",
    "\n",
    "#definindo quantidade de linhas e colunas visiveis\n",
    "pd.set_option('display.max_rows', 50)\n",
    "pd.set_option('display.max_columns', 500)"
   ]
  },
  {
   "cell_type": "code",
   "execution_count": 2,
   "id": "92c2cbdd",
   "metadata": {},
   "outputs": [
    {
     "data": {
      "image/png": "[encoded data removed]",
      "text/plain": [
       "<Figure size 1000x100 with 1 Axes>"
      ]
     },
     "metadata": {},
     "output_type": "display_data"
    }
   ],
   "source": [
    "# Graficos ############################\n",
    "import matplotlib.pyplot as plt\n",
    "import matplotlib.cm as cm\n",
    "import matplotlib.dates as mdates\n",
    "\n",
    "plt.style.use('dark_background')\n",
    "plt.style.use('seaborn-v0_8-whitegrid')\n",
    "\n",
    "import seaborn as sns\n",
    "custom_palette = sns.color_palette(\"bright\")\n",
    "sns.palplot(custom_palette)\n",
    "sns.set_palette(\"bright\")\n",
    "sns.set_style('whitegrid') #cor da grade(fundo)\n",
    "\n",
    "# Definindo o estilo de fonte e tema\n",
    "import matplotlib.font_manager as fm #para alterar as fontes dos graficos\n",
    "fonte = fm.FontProperties(family=\"Calibri\", style=\"italic\")\n",
    "%matplotlib inline"
   ]
  },
  {
   "cell_type": "code",
   "execution_count": 3,
   "id": "71b81531",
   "metadata": {},
   "outputs": [],
   "source": [
    "# Copia e cola\n",
    "import pyperclip\n",
    "\n",
    "# Manipulação de Strings\n",
    "from unidecode import unidecode #unidecode(string)\n",
    "import re # Regex\n",
    "\n",
    "# Controle de Erros\n",
    "import traceback\n",
    "\n",
    "# Manipualação de datas\n",
    "from datetime import *"
   ]
  },
  {
   "cell_type": "code",
   "execution_count": 4,
   "id": "4724bd46",
   "metadata": {},
   "outputs": [
    {
     "name": "stdout",
     "output_type": "stream",
     "text": [
      "https://raw.githubusercontent.com/GabrielGabes/functions_gsa/main/funcoes_estatisticas.py\n",
      "https://raw.githubusercontent.com/GabrielGabes/functions_gsa/main/ML_supervised_learning.py\n",
      "TUDO OK\n"
     ]
    }
   ],
   "source": [
    "# Carregando minhas funções de analise de dados e criação de modelos\n",
    "import requests\n",
    "\n",
    "url = \"https://raw.githubusercontent.com/GabrielGabes/functions_gsa/main/\" + 'funcoes_estatisticas' + \".py\"\n",
    "print(url); response = requests.get(url); code = response.text; exec(code)\n",
    "\n",
    "# Função para avaliação de modelos exibindo metricas de avaliação\n",
    "from sklearn.metrics import accuracy_score, confusion_matrix, classification_report, RocCurveDisplay\n",
    "url = \"https://raw.githubusercontent.com/GabrielGabes/functions_gsa/main/\" + 'ML_supervised_learning' + \".py\"\n",
    "print(url); response = requests.get(url); code = response.text; exec(code)\n",
    "\n",
    "def aval_modelo_corte_tabela(y_true, y_probs_positivas, beta = 1.5, pontos_de_corte = np.arange(10, 100, 10)):\n",
    "    y_probs_positivas = np.array(y_probs_positivas)\n",
    "    # Inicializando um DataFrame para armazenar as métricas\n",
    "    fd = pd.DataFrame(columns=['threshold', 'tn', 'fp', 'fn', 'tp'])\n",
    "\n",
    "    # Loop pelos pontos de corte\n",
    "    for threshold in pontos_de_corte:\n",
    "        previsoes_personalizadas = (y_probs_positivas >= threshold).astype(int)\n",
    "\n",
    "        # Calculando os valores de tn, fp, fn, tp\n",
    "        tn = len(np.where((previsoes_personalizadas == 0) & (y_true == 0))[0])\n",
    "        fp = len(np.where((previsoes_personalizadas == 1) & (y_true == 0))[0])\n",
    "        \n",
    "        fn = len(np.where((previsoes_personalizadas == 0) & (y_true == 1))[0])\n",
    "        tp = len(np.where((previsoes_personalizadas == 1) & (y_true == 1))[0])\n",
    "\n",
    "        # Adicionando os resultados ao DataFrame 'fd'\n",
    "        fd = pd.concat([fd, pd.DataFrame([[threshold, tn, fp, fn, tp]], columns=fd.columns)])\n",
    "\n",
    "    # Substituir valores NaN por 0\n",
    "    fd.fillna(0, inplace=True)\n",
    "    fd.reset_index(drop=True, inplace=True)\n",
    "    ######################################################################################\n",
    "\n",
    "    # Inicializar as colunas das métricas com NaN\n",
    "    metricas_de_aval = ['acuracia', 'precisao', 'sensibilidade', 'especificidade', 'f1', #'fb_score',\n",
    "                        # 'valor_pre_posi', 'valor_pre_neg', 'taxa_falsos_positivos', 'taxa_falsos_negativos',\n",
    "                        'custo_who','fraude_evitada','delta']#,\n",
    "                        # 'fdr', 'fo_r', 'indice_youden', 'coef_matthews']\n",
    "    fd[metricas_de_aval] = 0\n",
    "\n",
    "    # Loop para calcular as métricas em cada linha\n",
    "    for i in range(len(fd)):\n",
    "        # Acurácia\n",
    "        if (fd['tn'][i] + fd['fp'][i] + fd['fn'][i] + fd['tp'][i]) != 0:\n",
    "            fd['acuracia'][i] = (fd['tp'][i] + fd['tn'][i]) / (fd['tn'][i] + fd['fp'][i] + fd['fn'][i] + fd['tp'][i])\n",
    "\n",
    "        # Precisão\n",
    "        if (fd['tp'][i] + fd['fp'][i]) != 0:\n",
    "            fd['precisao'][i] = fd['tp'][i] / (fd['tp'][i] + fd['fp'][i])\n",
    "\n",
    "        # Sensibilidade (Recall)\n",
    "        if (fd['tp'][i] + fd['fn'][i]) != 0:\n",
    "            fd['sensibilidade'][i] = fd['tp'][i] / (fd['tp'][i] + fd['fn'][i])\n",
    "\n",
    "        # Especificidade\n",
    "        if (fd['tn'][i] + fd['fp'][i]) != 0:\n",
    "            fd['especificidade'][i] = fd['tn'][i] / (fd['tn'][i] + fd['fp'][i])\n",
    "\n",
    "        # F1-Score\n",
    "        if (fd['precisao'][i] + fd['sensibilidade'][i]) != 0:\n",
    "            fd['f1'][i] = 2 * (fd['precisao'][i] * fd['sensibilidade'][i]) / (fd['precisao'][i] + fd['sensibilidade'][i])\n",
    "\n",
    "        # # Valor Preditivo Positivo\n",
    "        # if (fd['tp'][i] + fd['fp'][i]) != 0:\n",
    "        #     fd['valor_pre_posi'][i] = fd['tp'][i] / (fd['tp'][i] + fd['fp'][i])\n",
    "\n",
    "        # # Valor Preditivo Negativo\n",
    "        # if (fd['tn'][i] + fd['fn'][i]) != 0:\n",
    "        #     fd['valor_pre_neg'][i] = fd['tn'][i] / (fd['tn'][i] + fd['fn'][i])\n",
    "\n",
    "        # # Taxa de Falsos Positivos\n",
    "        # fd['taxa_falsos_positivos'][i] = 1 - fd['especificidade'][i]\n",
    "\n",
    "        # # Taxa de Falsos Negativos\n",
    "        # fd['taxa_falsos_negativos'][i] = 1 - fd['sensibilidade'][i]\n",
    "\n",
    "        fd['custo_who'][i] = (fd['tp'][i] + fd['fp'][i]) * 10.5\n",
    "        fd['fraude_evitada'][i] = fd['tp'][i] * 8000\n",
    "        fd['delta'][i] = fd['fraude_evitada'][i] - fd['custo_who'][i]\n",
    "\n",
    "        # # False Discovery Rate (FDR)\n",
    "        # if (fd['tp'][i] + fd['fp'][i]) != 0:\n",
    "        #     fd['fdr'][i] = fd['fp'][i] / (fd['tp'][i] + fd['fp'][i])\n",
    "\n",
    "        # # False Omission Rate (FOR)\n",
    "        # if (fd['tn'][i] + fd['fn'][i]) != 0:\n",
    "        #     fd['fo_r'][i] = fd['fn'][i] / (fd['tn'][i] + fd['fn'][i])\n",
    "\n",
    "        # # Índice de Youden\n",
    "        # fd['indice_youden'][i] = fd['sensibilidade'][i] + fd['especificidade'][i] - 1\n",
    "\n",
    "        # try:\n",
    "        #     # Coeficiente de Matthews (MCC)\n",
    "        #     denom_matthews = (fd['tp'][i]+fd['fp'][i])*(fd['tp'][i]+fd['fn'][i])*(fd['tn'][i]+fd['fp'][i])*(fd['tn'][i]+fd['fn'][i])\n",
    "        #     if denom_matthews != 0:\n",
    "        #         fd['coef_matthews'][i] = (fd['tp'][i]*fd['tn'][i] - fd['fp'][i]*fd['fn'][i]) / np.sqrt(denom_matthews)\n",
    "        # except:\n",
    "        #     fd['coef_matthews'][i] = np.nan\n",
    "\n",
    "        # # F-beta Score\n",
    "        # denom_fb_score = (beta**2 * fd['valor_pre_posi'][i]) + fd['sensibilidade'][i]\n",
    "        # if denom_fb_score != 0:\n",
    "        #     fd['fb_score'][i] = (1 + beta**2) * (fd['valor_pre_posi'][i] * fd['sensibilidade'][i]) / denom_fb_score\n",
    "\n",
    "    fd[metricas_de_aval] = fd[metricas_de_aval].round(3)\n",
    "    return fd\n",
    "\n",
    "print('TUDO OK')"
   ]
  },
  {
   "cell_type": "code",
   "execution_count": 5,
   "id": "8fda1e4f",
   "metadata": {},
   "outputs": [],
   "source": [
    "def tabela_cont(df, linha, coluna):\n",
    "    a = df.groupby([linha, coluna]).size().unstack()\n",
    "    for i in a.columns:\n",
    "        a[i].fillna(0, inplace = True)\n",
    "        a[i] = a[i].apply(lambda x: int(x))\n",
    "    return a\n",
    "\n",
    "def count_table_percent(df, linha, coluna, opcao):\n",
    "    result = tabela_cont(df, linha, coluna)\n",
    "    if opcao == 'Linha':\n",
    "        return round(result.div(result.sum(axis=1), axis=0) * 100, 2)\n",
    "    elif opcao == 'Coluna':\n",
    "        return round(result.div(result.sum(), axis=1) * 100, 2)\n",
    "    else:\n",
    "        return 'Opção invalida'"
   ]
  },
  {
   "cell_type": "markdown",
   "id": "a1bbfdd3",
   "metadata": {},
   "source": [
    "# Dados"
   ]
  },
  {
   "cell_type": "markdown",
   "id": "7a54022c",
   "metadata": {},
   "source": [
    "### Dataframe Principal"
   ]
  },
  {
   "cell_type": "code",
   "execution_count": null,
   "id": "45085c75",
   "metadata": {},
   "outputs": [],
   "source": [
    "pasta = 'K:/1136-Prev.a Fraudes e LD/02-Equipe_Interna/MODELAGEM/01-Modelagem Estatística/Sandbox/Gabriel/ATIVACAO_DE_BENEFICIO/Treinamento/dados_treinamento_202504/'\n",
    "df = pd.read_csv(pasta + 'dados_query.csv', sep=';', encoding='ISO-8859-1',\n",
    "                 dtype={\n",
    "                     'COD_STATUS': str,\n",
    "                     'COD_BENEFICIO': str,\n",
    "                     'COD_SOLICBENEFICIO': str,\n",
    "                     'NUM_BENEFICIO': str,\n",
    "                     'NUM_CPF': str,\n",
    "                     'COD_LOJA_ATIVACAO': str,\n",
    "                     'COD_LOJA_OFICIAL': str,\n",
    "                     'COMPARA_NASC': str,\n",
    "                     'TELEFONE_COMPARTILHADO': str,\n",
    "                     'TPO_DOCUMENTO': str,\n",
    "                     'SEQ_ORGAOPAGADOR': str,\n",
    "                     'NUM_LOTEPREGAO': str\n",
    "                     }).drop('RN', axis=1)\n",
    "\n",
    "##############################################################################################\n",
    "print(df.shape)\n",
    "df = df.drop_duplicates().reset_index(drop=True)\n",
    "df['indexx'] = df.index\n",
    "display(df.sample(3))\n",
    "print(df.shape)\n",
    "\n",
    "##############################################################################################\n",
    "df.columns = df.columns.map(lambda x: unidecode(x).upper().strip().replace(' ','_'))\n",
    "df['Y'] = 0\n",
    "\n",
    "print(df.columns)"
   ]
  },
  {
   "cell_type": "markdown",
   "id": "3999b8b8",
   "metadata": {},
   "source": [
    "## Tratando as colunas de Data e DataHora"
   ]
  },
  {
   "cell_type": "code",
   "execution_count": null,
   "id": "2f0aea21",
   "metadata": {},
   "outputs": [],
   "source": [
    "var_data = ['DTH_INCLUSAO', 'DTA_INI_SOLICITACAO', 'DTA_NASCIMENTO_CADUNICO', 'DTA_NASCIMENTO_CAD_BENE', 'DTA_VALIDADE_CREDITO']\n",
    "# var_data2 = ['DTAHRA_INI_SOLICITACAO', 'DTA_CONTROLE']\n",
    "\n",
    "for var in var_data:\n",
    "    df[var] = pd.to_datetime(df[var], format='%d/%m/%Y', errors='coerce')\n",
    "    display(df[var].sample(3))"
   ]
  },
  {
   "cell_type": "markdown",
   "id": "490c8620",
   "metadata": {},
   "source": [
    "### Configurando Target"
   ]
  },
  {
   "cell_type": "markdown",
   "id": "04143030",
   "metadata": {},
   "source": [
    "#### Planilha de fraudes"
   ]
  },
  {
   "cell_type": "code",
   "execution_count": null,
   "id": "faf3578e",
   "metadata": {},
   "outputs": [],
   "source": [
    "prejuizo = pd.DataFrame()\n",
    "\n",
    "##############################################################################################\n",
    "pasta = 'K:/1136-Prev.a Fraudes e LD/02-Equipe_Interna/TELEMETRIA/João/ONBOARDING/Validacao_CPF/planilhas/'\n",
    "prejuizo2024 = pd.read_excel(pasta + 'PLANILHA PREJUIZO 2024.xlsx', \n",
    "                             dtype={'CPF': str, 'NÚMERO': str}, sheet_name='PRINCIPAL')\n",
    "prejuizo = pd.concat([prejuizo, prejuizo2024], axis=0)\n",
    "\n",
    "##############################################################################################\n",
    "pasta = 'K:/1136-Prev.a Fraudes e LD/02-Equipe_Interna/MODELAGEM/01-Modelagem Estatística/Sandbox/Gabriel/ATIVACAO_DE_BENEFICIO/Treinamento/dados_treinamento_202504/'\n",
    "prejuizo2023 = pd.read_excel(pasta + 'PLANILHA PREJUIZO 2023.xlsx', sheet_name='Planilha1',\n",
    "                            dtype={'CPF': str, 'NÚMERO': str}); print('prejuizo2023:', prejuizo2023.shape)\n",
    "prejuizo2024 = pd.read_excel(pasta + 'PLANILHA PREJUIZO 2024.xlsx', sheet_name='Planilha1',\n",
    "                            dtype={'CPF': str, 'NÚMERO': str}); print('prejuizo2024:', prejuizo2024.shape)\n",
    "prejuizo2025 = pd.read_excel(pasta + 'PLANILHA PREJUIZO 2025.xlsx', sheet_name='PREJUÍZO', \n",
    "                            dtype={'CPF': str, 'NÚMERO': str}).rename({'NUM PRODUTO':'NÚMERO'}, axis=1); print('prejuizo2025:', prejuizo2025.shape)\n",
    "\n",
    "##############################################################################################\n",
    "prejuizo = pd.concat([prejuizo, prejuizo2023], axis=0)\n",
    "prejuizo = pd.concat([prejuizo, prejuizo2024], axis=0)\n",
    "prejuizo = pd.concat([prejuizo, prejuizo2025], axis=0)\n",
    "\n",
    "##############################################################################################\n",
    "prejuizo.columns = prejuizo.columns.map(lambda x: unidecode(x).upper().strip().replace(' ','_')) # padronizando colunas\n",
    "prejuizo['CPF'] = prejuizo['CPF'].apply(lambda x: unidecode(str(x)).strip().replace('-','').replace('.',''))\n",
    "prejuizo['NUMERO'] = prejuizo['NUMERO'].apply(lambda x: unidecode(str(x)).strip().replace('-','').replace('.',''))\n",
    "\n",
    "##############################################################################################\n",
    "lista_colunas = ['CPF', 'PRODUTO', 'NUMERO', 'DATA', 'FILIAL', 'VALOR']\n",
    "prejuizo = prejuizo[lista_colunas]\n",
    "\n",
    "##############################################################################################\n",
    "prejuizo = prejuizo[prejuizo['PRODUTO'] == 'INSS']\n",
    "prejuizo = prejuizo.drop_duplicates(subset=['CPF','NUMERO']).reset_index(drop=True)\n",
    "print(prejuizo.shape)\n",
    "\n",
    "##############################################################################################\n",
    "prejuizo['CPF'] = prejuizo['CPF'].replace(['', 'nan', 'NaN', 'None'], np.nan)\n",
    "prejuizo['NUMERO'] = prejuizo['NUMERO'].replace(['', 'nan', 'NaN', 'None'], np.nan)\n",
    "prejuizo = prejuizo[prejuizo['CPF'].notna() | prejuizo['NUMERO'].notna()]\n",
    "prejuizo['CPF'][prejuizo['CPF'] == '0000000nan'] = np.nan\n",
    "prejuizo['NUMERO'][prejuizo['NUMERO'] == '0000000nan'] = np.nan\n",
    "prejuizo = prejuizo.dropna(how='all')\n",
    "\n",
    "# Padroniza CPF e Número\n",
    "prejuizo['CPF'] = prejuizo['CPF'].astype(str).str.zfill(11)\n",
    "prejuizo['NUMERO'] = prejuizo['NUMERO'].astype(str).str.zfill(10)\n",
    "\n",
    "##############################################################################################\n",
    "print(prejuizo.shape)\n",
    "display(prejuizo.sample(3))"
   ]
  },
  {
   "cell_type": "code",
   "execution_count": null,
   "id": "2ce9c8e4",
   "metadata": {},
   "outputs": [],
   "source": [
    "df_result = dd.sql('''\n",
    "WITH BASE AS (\n",
    "    SELECT \n",
    "        A.NUM_CPF,\n",
    "        A.NUM_BENEFICIO,\n",
    "        B.PRODUTO\n",
    "    FROM df A\n",
    "    LEFT JOIN prejuizo B ON \n",
    "        B.NUMERO = A.NUM_BENEFICIO\n",
    "        OR B.CPF = A.NUM_CPF\n",
    "),\n",
    "RANKED AS (\n",
    "    SELECT *,\n",
    "           ROW_NUMBER() OVER (PARTITION BY NUM_CPF, NUM_BENEFICIO) AS rk\n",
    "    FROM BASE\n",
    ")\n",
    "SELECT \n",
    "    *\n",
    "FROM RANKED\n",
    "WHERE rk = 1\n",
    "    AND PRODUTO IS NOT NULL\n",
    "''').df()\n",
    "\n",
    "print(len(df))\n",
    "print(len(df_result))\n",
    "\n",
    "df_result = df_result.drop('rk', axis=1)\n",
    "print(len(df_result))\n",
    "\n",
    "display(df_result.head(5))"
   ]
  },
  {
   "cell_type": "code",
   "execution_count": null,
   "id": "ed5211e0",
   "metadata": {},
   "outputs": [],
   "source": [
    "df = df.merge(\n",
    "    df_result,\n",
    "    how='left',\n",
    "    on=['NUM_CPF', 'NUM_BENEFICIO']\n",
    ")\n",
    "df['Y'][~df['PRODUTO'].isnull()] = 1\n",
    "df = df.drop('PRODUTO', axis=1)\n",
    "df.sample(3)"
   ]
  },
  {
   "cell_type": "markdown",
   "id": "b6a6c799",
   "metadata": {},
   "source": [
    "### planilha de who"
   ]
  },
  {
   "cell_type": "code",
   "execution_count": null,
   "id": "3115715a",
   "metadata": {},
   "outputs": [],
   "source": [
    "who = pd.read_excel(\n",
    "    'K:/1136-Prev.a Fraudes e LD/02-Equipe_Interna/MODELAGEM/01-Modelagem Estatística/Sandbox/Gabriel/FORECAST WHO/Relatorio Previsoes WHO.xlsx', \n",
    "    sheet_name='Base de Dados', \n",
    "    dtype={'CPF': str, 'Proposta': str}\n",
    ")\n",
    "\n",
    "# Padronização das colunas\n",
    "who.columns = who.columns.map(lambda x: unidecode(x).upper().strip().replace(' ','_'))\n",
    "\n",
    "# Filtros aplicados\n",
    "who = who[who['PRODUTO'] == 'BENEFICIO']\n",
    "# who = who[who['STATUS'] == 'Reprovação']\n",
    "who = who.drop_duplicates().reset_index(drop=True)\n",
    "\n",
    "# Formatação de strings\n",
    "who['CPF'] = who['CPF'].astype(str).str.zfill(11)\n",
    "who['PROPOSTA'] = who['PROPOSTA'].astype(str).str.zfill(10)\n",
    "\n",
    "print(who.shape)\n",
    "display(who.head())"
   ]
  },
  {
   "cell_type": "code",
   "execution_count": null,
   "id": "a148cdcf",
   "metadata": {},
   "outputs": [],
   "source": [
    "df_result = dd.sql('''\n",
    "WITH BASE AS (\n",
    "    SELECT \n",
    "        A.NUM_CPF,\n",
    "        A.NUM_BENEFICIO,\n",
    "        B.STATUS,\n",
    "        B.DATA_E_HORA_DE_ENTRADA\n",
    "    FROM df A\n",
    "    LEFT JOIN who B ON \n",
    "        B.PROPOSTA = A.NUM_BENEFICIO\n",
    "        OR B.CPF = A.NUM_CPF\n",
    "),\n",
    "RANKED AS (\n",
    "    SELECT *,\n",
    "           ROW_NUMBER() OVER (PARTITION BY NUM_CPF, NUM_BENEFICIO ORDER BY DATA_E_HORA_DE_ENTRADA DESC) AS rk\n",
    "    FROM BASE\n",
    ")\n",
    "SELECT \n",
    "    *\n",
    "FROM RANKED\n",
    "WHERE rk = 1\n",
    "    AND STATUS IS NOT NULL\n",
    "''').df()\n",
    "\n",
    "print(len(df))\n",
    "print(len(df_result))\n",
    "\n",
    "df_result = df_result.rename({'STATUS':'STATUS_WHO'}, axis=1)\n",
    "print(df_result['STATUS_WHO'].value_counts())\n",
    "\n",
    "df_result = df_result.drop('rk', axis=1)\n",
    "display(df_result.sample(3))"
   ]
  },
  {
   "cell_type": "code",
   "execution_count": null,
   "id": "24e5c28c",
   "metadata": {},
   "outputs": [],
   "source": [
    "df = df.merge(\n",
    "    df_result[['NUM_CPF', 'NUM_BENEFICIO', 'STATUS_WHO']],\n",
    "    how='left',\n",
    "    on=['NUM_CPF', 'NUM_BENEFICIO']\n",
    ")\n",
    "df['STATUS_WHO'].value_counts()\n",
    "df.sample(3)"
   ]
  },
  {
   "cell_type": "code",
   "execution_count": null,
   "id": "2ee891f0",
   "metadata": {},
   "outputs": [],
   "source": [
    "df['Y'][df['STATUS_WHO'] == 'Reprovação'] = 1\n",
    "print(df['Y'].value_counts())\n",
    "\n",
    "df['STATUS_WHO'][df['STATUS_WHO'].isnull()] = 'Não_Analisado'\n",
    "print(df['STATUS_WHO'].value_counts())"
   ]
  },
  {
   "cell_type": "markdown",
   "id": "9943a1dc",
   "metadata": {},
   "source": [
    "### Estudo do telefone"
   ]
  },
  {
   "cell_type": "code",
   "execution_count": null,
   "id": "953e9064",
   "metadata": {},
   "outputs": [],
   "source": [
    "estudo = pd.read_excel(\"K:/1136-Prev.a Fraudes e LD/02-Equipe_Interna/PREVENÇÃO A FRAUDES/ACORDO/POSSÍVEL PREJUÍZO/Cópia de possível prejuizo oficial 3.0.xlsx\",\n",
    "                       sheet_name='BENEFICIOS', dtype={'BENEFÍCIOS': str})\n",
    "estudo.columns = estudo.columns.map(lambda x: unidecode(str(x)).upper().strip().replace(' ','_')) # padronizando colunas\n",
    "\n",
    "# Padroniza CPF e Número\n",
    "estudo['CPF'] = estudo['CPF'].astype(str).str.zfill(11)\n",
    "estudo['BENEFICIOS'] = estudo['BENEFICIOS'].astype(str).str.zfill(10)\n",
    "\n",
    "print(estudo.shape)\n",
    "estudo.sample(3)"
   ]
  },
  {
   "cell_type": "code",
   "execution_count": null,
   "id": "3bdd747f",
   "metadata": {},
   "outputs": [],
   "source": [
    "df_result = dd.sql('''\n",
    "WITH BASE AS (\n",
    "    SELECT \n",
    "        A.NUM_CPF,\n",
    "        A.NUM_BENEFICIO,\n",
    "        B.ORIGEM\n",
    "    FROM df A\n",
    "    LEFT JOIN estudo B ON \n",
    "        B.BENEFICIOS = A.NUM_BENEFICIO\n",
    "        OR B.CPF = A.NUM_CPF\n",
    "),\n",
    "RANKED AS (\n",
    "    SELECT *,\n",
    "           ROW_NUMBER() OVER (PARTITION BY NUM_CPF, NUM_BENEFICIO) AS rk\n",
    "    FROM BASE\n",
    ")\n",
    "SELECT \n",
    "    *\n",
    "FROM RANKED\n",
    "WHERE rk = 1\n",
    "    AND ORIGEM IS NOT NULL\n",
    "''').df()\n",
    "\n",
    "print(len(df))\n",
    "print(len(df_result))\n",
    "\n",
    "print(df_result['ORIGEM'].value_counts())\n",
    "\n",
    "df_result = df_result.drop('rk', axis=1)\n",
    "display(df_result.sample(3))"
   ]
  },
  {
   "cell_type": "code",
   "execution_count": null,
   "id": "ea039df9",
   "metadata": {},
   "outputs": [],
   "source": [
    "df = df.merge(\n",
    "    df_result[['NUM_CPF', 'NUM_BENEFICIO', 'ORIGEM']],\n",
    "    how='left',\n",
    "    on=['NUM_CPF', 'NUM_BENEFICIO']\n",
    ")\n",
    "df['ORIGEM'].value_counts()\n",
    "df.sample(3)"
   ]
  },
  {
   "cell_type": "code",
   "execution_count": null,
   "id": "7ce58530",
   "metadata": {},
   "outputs": [],
   "source": [
    "df['Y'][~df['ORIGEM'].isnull()] = 1\n",
    "df = df.drop('ORIGEM', axis=1)\n",
    "\n",
    "df['Y'].value_counts()"
   ]
  },
  {
   "cell_type": "markdown",
   "id": "0f5bb63b",
   "metadata": {},
   "source": [
    "### ==== FIM ACRESCIMO DE FRAUDES ====="
   ]
  },
  {
   "cell_type": "markdown",
   "id": "1ae0728e",
   "metadata": {},
   "source": [
    "### Score Unico"
   ]
  },
  {
   "cell_type": "code",
   "execution_count": null,
   "id": "2b48a4d2",
   "metadata": {},
   "outputs": [],
   "source": [
    "df[['DATA_BIOMETRIA', 'DES_METODO', 'COD_SIGLA',\n",
    "        #'STATUS', 'SCORE_RESULT_RAW', 'SCORE_RAW', 'DES_SCORE', 'SCORE'\n",
    "        ]][~df['SCORE'].isnull()]#.isnull().sum()"
   ]
  },
  {
   "cell_type": "code",
   "execution_count": null,
   "id": "60da2563",
   "metadata": {},
   "outputs": [],
   "source": [
    "df = df.rename({'SCORE':'SCORE_UNICO'}, axis=1)"
   ]
  },
  {
   "cell_type": "code",
   "execution_count": null,
   "id": "4b105deb",
   "metadata": {},
   "outputs": [],
   "source": [
    "# Substituir valores string por np.nan\n",
    "df['SCORE_UNICO'] = df['SCORE_UNICO'].apply(lambda x: np.nan if isinstance(x, str) and x.isalpha() else x)\n",
    "df['SCORE_UNICO'] = df['SCORE_UNICO'].astype('float')"
   ]
  },
  {
   "cell_type": "code",
   "execution_count": null,
   "id": "6bb880f5",
   "metadata": {},
   "outputs": [],
   "source": [
    "unico_parquet = pd.read_parquet('K:/1136-Prev.a Fraudes e LD/02-Equipe_Interna/MODELAGEM/01-Modelagem Estatística/Sandbox/Gabriel/QUERIES/dados_unico.parquet')\n",
    "unico_parquet = unico_parquet[~unico_parquet['SCORE'].isnull()].reset_index(drop=True)\n",
    "\n",
    "try:\n",
    "    unico_parquet['DES_CPF'] = unico_parquet['DES_CPF'].round(0).astype('str')\n",
    "except:\n",
    "    print('erro')\n",
    "    pass\n",
    "\n",
    "unico_parquet = unico_parquet.rename({'DES_CPF':'CPF',\n",
    "                                      'QTDE':'TOTAL_SCAN'}, axis=1)\n",
    "unico_parquet['CPF'] = unico_parquet['CPF'].apply(lambda x: str(int(float(x))).zfill(11))\n",
    "unico_parquet = unico_parquet[unico_parquet['CPF'].isin( list(df['NUM_CPF'][~df['SCORE_UNICO'].isnull()].dropna().unique()) )].reset_index(drop=True)\n",
    "unico_parquet['DATA'] = pd.to_datetime(unico_parquet['DATA'])\n",
    "print(unico_parquet.shape)\n",
    "display(unico_parquet.sample(3))"
   ]
  },
  {
   "cell_type": "code",
   "execution_count": null,
   "id": "8db8b8cb",
   "metadata": {},
   "outputs": [],
   "source": [
    "fd = df[df['SCORE_UNICO'].isnull()]\n",
    "print(fd.shape)\n",
    "\n",
    "import duckdb as dd\n",
    "\n",
    "df_result = dd.sql('''\n",
    "WITH MATCHES AS (\n",
    "    SELECT \n",
    "        DADOS.INDEXX,\n",
    "        DADOS.NUM_CPF,\n",
    "        DADOS.DTA_INI_SOLICITACAO,\n",
    "        UNICO.DATA AS DATA_BIOMETRIA,\n",
    "        UNICO.SCORE AS SCORE_UNICO,\n",
    "        ABS(DATEDIFF('day', UNICO.DATA, DADOS.DTA_INI_SOLICITACAO)) AS DIFF_TIME\n",
    "    FROM fd AS DADOS\n",
    "    LEFT JOIN unico_parquet AS UNICO \n",
    "        ON UNICO.CPF = DADOS.NUM_CPF\n",
    "        AND ABS(DATEDIFF('day', UNICO.DATA, DADOS.DTA_INI_SOLICITACAO)) <= 5\n",
    "),\n",
    "RANKED AS (\n",
    "    SELECT *,\n",
    "        ROW_NUMBER() OVER (PARTITION BY INDEXX ORDER BY DIFF_TIME ASC, DATA_BIOMETRIA DESC, SCORE_UNICO DESC) AS rk\n",
    "    FROM MATCHES\n",
    ")\n",
    "SELECT \n",
    "    INDEXX,\n",
    "    NUM_CPF,\n",
    "    DTA_INI_SOLICITACAO,\n",
    "    SCORE_UNICO,\n",
    "    STRFTIME(DATA_BIOMETRIA, '%d/%m/%Y') AS DATA_BIOMETRIA2,\n",
    "    DIFF_TIME\n",
    "FROM RANKED\n",
    "WHERE rk = 1\n",
    "ORDER BY INDEXX ASC\n",
    "''').df()\n",
    "\n",
    "df_result = df_result.rename({'SCORE_UNICO':'SCORE_UNICO2'}, axis=1)\n",
    "df_result = df_result.dropna(subset=['SCORE_UNICO2','DATA_BIOMETRIA2','DIFF_TIME'], how='any', axis=0)\n",
    "\n",
    "df_result.sample(3)"
   ]
  },
  {
   "cell_type": "code",
   "execution_count": null,
   "id": "81956248",
   "metadata": {},
   "outputs": [],
   "source": [
    "print(df_result.shape)\n",
    "print(df_result['SCORE_UNICO2'].isnull().sum())\n",
    "display(df_result.sample(3))"
   ]
  },
  {
   "cell_type": "code",
   "execution_count": null,
   "id": "1c3ff3f7",
   "metadata": {},
   "outputs": [],
   "source": [
    "print(df.shape)\n",
    "df = df.merge(\n",
    "    df_result[['INDEXX','NUM_CPF','DTA_INI_SOLICITACAO',\n",
    "               'SCORE_UNICO2','DATA_BIOMETRIA2','DIFF_TIME']],\n",
    "    how='left',\n",
    "    on=['INDEXX','NUM_CPF','DTA_INI_SOLICITACAO']\n",
    ")\n",
    "print(df.shape)\n",
    "\n",
    "print(df['SCORE_UNICO'].isnull().sum())\n",
    "df['SCORE_UNICO'][~df['SCORE_UNICO2'].isnull()] = df['SCORE_UNICO2'][~df['SCORE_UNICO2'].isnull()]\n",
    "df['DATA_BIOMETRIA'][~df['SCORE_UNICO2'].isnull()] = df['DATA_BIOMETRIA2'][~df['SCORE_UNICO2'].isnull()]\n",
    "df['DIF_DATA_MIN'][~df['SCORE_UNICO2'].isnull()] = df['DIFF_TIME'][~df['SCORE_UNICO2'].isnull()]\n",
    "df = df.drop(['SCORE_UNICO2', 'DATA_BIOMETRIA2', 'DIFF_TIME'], axis=1)\n",
    "print(df['SCORE_UNICO'].isnull().sum())\n",
    "df.sample(3)"
   ]
  },
  {
   "cell_type": "code",
   "execution_count": null,
   "id": "5310f544",
   "metadata": {},
   "outputs": [],
   "source": [
    "df['SCORE_UNICO_CAT'] = np.nan\n",
    "\n",
    "df['SCORE_UNICO_CAT'][df['SCORE_UNICO'] < 10] = 'Reprovado Unico Check'\n",
    "df['SCORE_UNICO_CAT'][df['SCORE_UNICO'] > 10] = 'Aprovado Unico Check'\n",
    "df['SCORE_UNICO_CAT'][df['SCORE_UNICO'] > 50] = 'Aprovado e Confiavel Unico Check'\n",
    "\n",
    "df['SCORE_UNICO_CAT'][df['SCORE_UNICO'] == -98] = 'Reprovado 1:1'\n",
    "df['SCORE_UNICO_CAT'][df['SCORE_UNICO'] == 0] = 'Erro - N Validado'\n",
    "df['SCORE_UNICO_CAT'][df['SCORE_UNICO'] == 10] = 'Face Nova e Desconhecida'\n",
    "df['SCORE_UNICO_CAT'][df['SCORE_UNICO'] == 96] = 'Aprovado ID'\n",
    "df['SCORE_UNICO_CAT'][df['SCORE_UNICO'] == 97] = 'Aprovado 1:1'\n",
    "\n",
    "print(df['SCORE_UNICO'].isnull().sum())\n",
    "df['SCORE_UNICO_CAT'][df['SCORE_UNICO'].isnull()] = 'Sem Biometria'\n",
    "df['SCORE_UNICO'] = df['SCORE_UNICO'].fillna(0)\n",
    "\n",
    "print(df['SCORE_UNICO_CAT'].value_counts())\n",
    "\n",
    "display(count_table(df, 'Y', 'SCORE_UNICO_CAT', sentido_percent='lin', apenas_fisher=False))\n",
    "display(tabela_cont(df, 'SCORE_UNICO_CAT', 'Y'))\n",
    "\n",
    "print(df[df['SCORE_UNICO_CAT'] == 'Sem Biometria'].shape)\n",
    "df[df['SCORE_UNICO_CAT'] == 'Sem Biometria'].sample(3)"
   ]
  },
  {
   "cell_type": "code",
   "execution_count": null,
   "id": "755aeb0e",
   "metadata": {},
   "outputs": [],
   "source": [
    "display(df.groupby(['Y'])['SCORE_UNICO'].describe().round(0))\n",
    "display(summary_num_parametric_groups(df, 'SCORE_UNICO', 'Y'))"
   ]
  },
  {
   "cell_type": "code",
   "execution_count": null,
   "id": "fccd48cb",
   "metadata": {},
   "outputs": [],
   "source": [
    "display(df.groupby(['Y'])['DIF_DATA_MIN'].describe().round(0))\n",
    "display(summary_num_parametric_groups(df, 'DIF_DATA_MIN', 'Y'))\n",
    "df['DIF_DATA_MIN'][df['DIF_DATA_MIN'].isnull()] = df['DIF_DATA_MIN'].median()"
   ]
  },
  {
   "cell_type": "code",
   "execution_count": null,
   "id": "addc39fa",
   "metadata": {},
   "outputs": [],
   "source": [
    "tabela_avaliacao = aval_modelo_corte_tabela(df['Y'], df['DIF_DATA_MIN'], beta = 1.5, pontos_de_corte = np.arange(-205, -190, 1))\n",
    "# tabela_avaliacao.to_clipboard()\n",
    "aval_modelo_corte_grafico(tabela_avaliacao.drop(['custo_who','fraude_evitada','delta'], axis=1))"
   ]
  },
  {
   "cell_type": "code",
   "execution_count": null,
   "id": "bdcc964e",
   "metadata": {},
   "outputs": [],
   "source": [
    "df['DIF_DATA_MIN_bin'] = 0\n",
    "df['DIF_DATA_MIN_bin'][df['DIF_DATA_MIN'] >= -198] = 1\n",
    "\n",
    "display(count_table(df, 'Y', 'DIF_DATA_MIN_bin', sentido_percent='lin', apenas_fisher=False))\n",
    "display(tabela_cont(df, 'DIF_DATA_MIN_bin', 'Y'))"
   ]
  },
  {
   "cell_type": "markdown",
   "id": "c8f02b80",
   "metadata": {},
   "source": [
    "# criando adaptação temporal para as variaveis"
   ]
  },
  {
   "cell_type": "markdown",
   "id": "8c1f5a7c",
   "metadata": {},
   "source": [
    "## vars numericas"
   ]
  },
  {
   "cell_type": "code",
   "execution_count": null,
   "id": "662138d2",
   "metadata": {},
   "outputs": [],
   "source": [
    "df.columns"
   ]
  },
  {
   "cell_type": "markdown",
   "id": "698f2a05",
   "metadata": {},
   "source": [
    "# Tratando o DataFrame"
   ]
  },
  {
   "cell_type": "markdown",
   "id": "d2d96087",
   "metadata": {},
   "source": [
    "### Funções de tratamento dos dados - PIPELINE"
   ]
  },
  {
   "cell_type": "code",
   "execution_count": null,
   "id": "52f4f81b",
   "metadata": {},
   "outputs": [],
   "source": [
    "for count, i in enumerate(df.columns):\n",
    "    print(count, \":\", i)"
   ]
  },
  {
   "cell_type": "markdown",
   "id": "69c61070",
   "metadata": {},
   "source": [
    "### marcação status == cancelados"
   ]
  },
  {
   "cell_type": "code",
   "execution_count": null,
   "id": "2c36a15f",
   "metadata": {},
   "outputs": [],
   "source": [
    "display(tabela_cont(df, 'COD_STATUS', 'Y'))\n",
    "display(count_table_percent(df, 'COD_STATUS', 'Y', 'Linha'))"
   ]
  },
  {
   "cell_type": "markdown",
   "id": "075174e2",
   "metadata": {},
   "source": [
    "## divergencia de cadastro UNICO vs BENEFICIO"
   ]
  },
  {
   "cell_type": "code",
   "execution_count": null,
   "id": "8655050f",
   "metadata": {},
   "outputs": [],
   "source": [
    "df['comparacao_cadastro_unico_e_bene'] = df['DTA_NASCIMENTO_CADUNICO'] == df['DTA_NASCIMENTO_CAD_BENE']\n",
    "df['comparacao_cadastro_unico_e_bene'].value_counts()\n",
    "\n",
    "display(count_table(df, 'Y', 'comparacao_cadastro_unico_e_bene', sentido_percent='lin', apenas_fisher=False))\n",
    "display(tabela_cont(df, 'comparacao_cadastro_unico_e_bene', 'Y'))"
   ]
  },
  {
   "cell_type": "markdown",
   "id": "9f4fc55b",
   "metadata": {},
   "source": [
    "### DTA_NASCIMENTO -> Idade"
   ]
  },
  {
   "cell_type": "code",
   "execution_count": null,
   "id": "ca93955f",
   "metadata": {},
   "outputs": [],
   "source": [
    "df['DTA_NASCIMENTO_CAD_BENE'] = pd.to_datetime(df['DTA_NASCIMENTO_CAD_BENE'], format='%d/%m/%Y', errors='coerce')\n",
    "df['DTA_NASCIMENTO_CADUNICO'] = pd.to_datetime(df['DTA_NASCIMENTO_CADUNICO'], format='%d/%m/%Y', errors='coerce')\n",
    "df['DTA_INI_SOLICITACAO'] = pd.to_datetime(df['DTA_INI_SOLICITACAO'], format='%d/%m/%Y', errors='coerce')\n",
    "\n",
    "# Usa a data de nascimento principal, e preenche os nulos com a alternativa\n",
    "df['DTA_NASCIMENTO'] = df['DTA_NASCIMENTO_CAD_BENE']\n",
    "data_nasc = df['DTA_NASCIMENTO'].combine_first(df['DTA_NASCIMENTO_CADUNICO'])\n",
    "data_ref = df['DTA_INI_SOLICITACAO']\n",
    "\n",
    "# Calcula a idade vetorizadamente\n",
    "anos = data_ref.dt.year - data_nasc.dt.year\n",
    "\n",
    "aniversario_ja_passou = (data_ref.dt.month > data_nasc.dt.month) | (\n",
    "    (data_ref.dt.month == data_nasc.dt.month) & (data_ref.dt.day >= data_nasc.dt.day)\n",
    ")\n",
    "\n",
    "# Aplica a idade apenas onde há dados válidos\n",
    "df['IDADE'] = np.where(\n",
    "    data_nasc.notna() & data_ref.notna(),\n",
    "    anos - (~aniversario_ja_passou),\n",
    "    np.nan\n",
    ")\n",
    "\n",
    "df['IDADE'].isnull().sum()"
   ]
  },
  {
   "cell_type": "code",
   "execution_count": null,
   "id": "d14fb53e",
   "metadata": {},
   "outputs": [],
   "source": [
    "display(df.groupby(['Y'])['IDADE'].describe().round(0))\n",
    "print(summary_num_parametric_groups(df, 'IDADE', 'Y'))"
   ]
  },
  {
   "cell_type": "code",
   "execution_count": null,
   "id": "129bd60f",
   "metadata": {},
   "outputs": [],
   "source": [
    "filtro = df['IDADE'] > 100\n",
    "display(df[filtro].groupby(['Y'])['IDADE'].describe().round(0))\n",
    "#print(summary_num_parametric_groups(df[filtro], 'IDADE', 'Y'))\n",
    "\n",
    "df['IDADE'][df['IDADE'] > 105] = df['IDADE'].median()"
   ]
  },
  {
   "cell_type": "markdown",
   "id": "8718f632",
   "metadata": {},
   "source": [
    "# Idade Categorica"
   ]
  },
  {
   "cell_type": "code",
   "execution_count": null,
   "id": "df071c76",
   "metadata": {},
   "outputs": [],
   "source": [
    "# Definindo os limites das faixas etárias\n",
    "bins = list(range(0, 111, 10))  # Vai de 0 até 110, pulando de 10 em 10\n",
    "\n",
    "# Criando os labels das faixas etárias\n",
    "labels = [f'{bins[i]}–{bins[i+1]-1}' for i in range(len(bins)-1)]\n",
    "# Exemplo de labels: '0–9', '10–19', ..., '100–109'\n",
    "\n",
    "# Criando a coluna categórica\n",
    "df['IDADE_CAT10_10'] = pd.cut(df['IDADE'], bins=bins, labels=labels, right=False, include_lowest=True)\n",
    "print(df['IDADE_CAT10_10'].value_counts().sort_index())\n",
    "\n",
    "display(count_table(df, 'Y', 'IDADE_CAT10_10', sentido_percent='lin', apenas_fisher=False))\n",
    "display(tabela_cont(df, 'IDADE_CAT10_10', 'Y'))"
   ]
  },
  {
   "cell_type": "code",
   "execution_count": null,
   "id": "01f3a97e",
   "metadata": {},
   "outputs": [],
   "source": [
    "df_base = df[df['Y'] == 1]\n",
    "top_categorias = df_base['IDADE_CAT10_10'].value_counts()\n",
    "top_categorias.loc[lambda x: x > 0]"
   ]
  },
  {
   "cell_type": "markdown",
   "id": "7a8d5e06",
   "metadata": {},
   "source": [
    "### DTA_INI_SOLICITACAO - DTH_INCLUSAO => DIAS_ATIVACAO (qtde de dias que o cara demorou para ativar o beneficio apartir da data que recebemos o beneficio na crefisa)"
   ]
  },
  {
   "cell_type": "code",
   "execution_count": null,
   "id": "b1e28a25",
   "metadata": {},
   "outputs": [],
   "source": [
    "df['DIAS_ATIVACAO'] = (df['DTA_INI_SOLICITACAO'] - df['DTH_INCLUSAO'])/np.timedelta64(1, 'D')\n",
    "display(df.groupby(['Y'])['DIAS_ATIVACAO'].describe().round(0))\n",
    "display(summary_num_parametric_groups(df, 'DIAS_ATIVACAO', 'Y'))"
   ]
  },
  {
   "cell_type": "code",
   "execution_count": null,
   "id": "c917c442",
   "metadata": {},
   "outputs": [],
   "source": [
    "tabela_avaliacao = aval_modelo_corte_tabela(df['Y'], df['DIAS_ATIVACAO'], beta = 1.5, pontos_de_corte = np.arange(8, 20, 1))\n",
    "display(tabela_avaliacao)\n",
    "aval_modelo_corte_grafico(tabela_avaliacao.drop(['custo_who','fraude_evitada','delta'], axis=1))"
   ]
  },
  {
   "cell_type": "code",
   "execution_count": null,
   "id": "f154fc94",
   "metadata": {},
   "outputs": [],
   "source": [
    "df['DIAS_ATIVACAO_bin'] = 0\n",
    "df['DIAS_ATIVACAO_bin'][df['DIAS_ATIVACAO'] >= 15] = 1\n",
    "\n",
    "display(count_table(df, 'Y', 'DIAS_ATIVACAO_bin', sentido_percent='lin', apenas_fisher=False))\n",
    "display(tabela_cont(df, 'DIAS_ATIVACAO_bin', 'Y'))"
   ]
  },
  {
   "cell_type": "markdown",
   "id": "097cc0b8",
   "metadata": {},
   "source": [
    "### DTA_INI_SOLICITACAO - DTA_VAILIDADE_CREDITO => DIAS_ATIVACAO (qtde de dias que o cara demorou para ativar o beneficio apartir da data o INSS mandou o primeiro pagamento)"
   ]
  },
  {
   "cell_type": "code",
   "execution_count": null,
   "id": "b02d5f55",
   "metadata": {},
   "outputs": [],
   "source": [
    "df['DIAS_ATIVACAO2'] = (df['DTA_INI_SOLICITACAO'] - df['DTA_VALIDADE_CREDITO'])/np.timedelta64(1, 'D') \n",
    "df['DIAS_ATIVACAO2'].describe().round()"
   ]
  },
  {
   "cell_type": "code",
   "execution_count": null,
   "id": "06ab8657",
   "metadata": {},
   "outputs": [],
   "source": [
    "display(df.groupby(['Y'])['DIAS_ATIVACAO2'].describe().round(0))\n",
    "display(summary_num_parametric_groups(df, 'DIAS_ATIVACAO2', 'Y'))"
   ]
  },
  {
   "cell_type": "code",
   "execution_count": null,
   "id": "661899c0",
   "metadata": {},
   "outputs": [],
   "source": [
    "tabela_avaliacao = aval_modelo_corte_tabela(df['Y'], df['DIAS_ATIVACAO2'], beta = 1.5, pontos_de_corte = np.arange(-20, 20, 1))\n",
    "display(tabela_avaliacao)\n",
    "aval_modelo_corte_grafico(tabela_avaliacao.drop(['custo_who','fraude_evitada','delta'], axis=1))"
   ]
  },
  {
   "cell_type": "code",
   "execution_count": null,
   "id": "313231d8",
   "metadata": {},
   "outputs": [],
   "source": [
    "df['DIAS_ATIVACAO2_bin'] = 0\n",
    "df['DIAS_ATIVACAO2_bin'][df['DIAS_ATIVACAO2'] >= 2] = 1\n",
    "\n",
    "display(count_table(df, 'Y', 'DIAS_ATIVACAO2_bin', sentido_percent='lin', apenas_fisher=False))\n",
    "display(tabela_cont(df, 'DIAS_ATIVACAO2_bin', 'Y'))"
   ]
  },
  {
   "cell_type": "markdown",
   "id": "3d0b7a51",
   "metadata": {},
   "source": [
    "### Dia da semana que ativou o beneficio"
   ]
  },
  {
   "cell_type": "code",
   "execution_count": null,
   "id": "87575df8",
   "metadata": {},
   "outputs": [],
   "source": [
    "df.columns"
   ]
  },
  {
   "cell_type": "markdown",
   "id": "918029cd",
   "metadata": {},
   "source": [
    "## Outras colunas"
   ]
  },
  {
   "cell_type": "markdown",
   "id": "355068d1",
   "metadata": {},
   "source": [
    "# valor do beneficio"
   ]
  },
  {
   "cell_type": "code",
   "execution_count": null,
   "id": "8321cb85",
   "metadata": {},
   "outputs": [],
   "source": [
    "display(df.groupby(['Y'])['VLR_TOTALCREDITO'].describe().round(0))\n",
    "display(summary_num_parametric_groups(df, 'VLR_TOTALCREDITO', 'Y'))"
   ]
  },
  {
   "cell_type": "code",
   "execution_count": null,
   "id": "fff1dd54",
   "metadata": {},
   "outputs": [],
   "source": [
    "tabela_avaliacao = aval_modelo_corte_tabela(df['Y'], df['VLR_TOTALCREDITO'], beta = 1.5, pontos_de_corte = np.arange(7000, 9000, 100))\n",
    "aval_modelo_corte_grafico(tabela_avaliacao.drop(['custo_who','fraude_evitada','delta'], axis=1))"
   ]
  },
  {
   "cell_type": "code",
   "execution_count": null,
   "id": "3f6bdeb4",
   "metadata": {},
   "outputs": [],
   "source": [
    "df['VLR_TOTALCREDITO_bin'] = 0\n",
    "df['VLR_TOTALCREDITO_bin'][df['VLR_TOTALCREDITO'] >= 8400] = 1\n",
    "\n",
    "display(count_table(df, 'Y', 'VLR_TOTALCREDITO_bin', sentido_percent='lin', apenas_fisher=False))\n",
    "display(tabela_cont(df, 'VLR_TOTALCREDITO_bin', 'Y'))"
   ]
  },
  {
   "cell_type": "code",
   "execution_count": null,
   "id": "13d510ae",
   "metadata": {},
   "outputs": [],
   "source": [
    "df['VLR_TOTALCREDITO'].describe().round(0)"
   ]
  },
  {
   "cell_type": "markdown",
   "id": "fd14d54c",
   "metadata": {},
   "source": [
    "# VLR_TOTALCREDITO POR FAIXA"
   ]
  },
  {
   "cell_type": "code",
   "execution_count": null,
   "id": "59e63801",
   "metadata": {},
   "outputs": [],
   "source": [
    "bins = list(range(0, 15000, 500)) + [np.inf]  # [0,1000,2000,...,14000,inf]\n",
    "\n",
    "# Criando os rótulos das categorias\n",
    "labels = [f'{bins[i]}–{int(bins[i+1]-1)}' for i in range(len(bins)-2)]\n",
    "labels.append('15000+')  # Último label para valores >= 15000\n",
    "\n",
    "# Criando a coluna categórica no dataframe\n",
    "df['VLR_TOTALCREDITO_500em500'] = pd.cut(\n",
    "    df['VLR_TOTALCREDITO'],\n",
    "    bins=bins,\n",
    "    labels=labels,\n",
    "    right=False,          # intervalo fechado à esquerda, aberto à direita\n",
    "    include_lowest=True   # inclui o valor mais baixo (ex: 0) na primeira faixa\n",
    ")\n",
    "\n",
    "display(count_table(df, 'Y', 'VLR_TOTALCREDITO_500em500', sentido_percent='lin', apenas_fisher=False))\n",
    "display(tabela_cont(df, 'VLR_TOTALCREDITO_500em500', 'Y'))\n",
    "##################################################################################################\n",
    "bins = list(range(0, 15000, 1000)) + [np.inf]  # [0,1000,2000,...,14000,inf]\n",
    "\n",
    "# Criando os rótulos das categorias\n",
    "labels = [f'{bins[i]}–{int(bins[i+1]-1)}' for i in range(len(bins)-2)]\n",
    "labels.append('15000+')  # Último label para valores >= 15000\n",
    "\n",
    "# Criando a coluna categórica no dataframe\n",
    "df['VLR_TOTALCREDITO_1000em1000'] = pd.cut(\n",
    "    df['VLR_TOTALCREDITO'],\n",
    "    bins=bins,\n",
    "    labels=labels,\n",
    "    right=False,          # intervalo fechado à esquerda, aberto à direita\n",
    "    include_lowest=True   # inclui o valor mais baixo (ex: 0) na primeira faixa\n",
    ")\n",
    "\n",
    "display(count_table(df, 'Y', 'VLR_TOTALCREDITO_1000em1000', sentido_percent='lin', apenas_fisher=False))\n",
    "display(tabela_cont(df, 'VLR_TOTALCREDITO_1000em1000', 'Y'))"
   ]
  },
  {
   "cell_type": "markdown",
   "id": "4e2fb1b2",
   "metadata": {},
   "source": [
    "# sexo do cliente"
   ]
  },
  {
   "cell_type": "code",
   "execution_count": null,
   "id": "265b1664",
   "metadata": {},
   "outputs": [],
   "source": [
    "display(count_table(df, 'Y', 'SLG_SEXO', sentido_percent='col', apenas_fisher=False))\n",
    "display(tabela_cont(df, 'SLG_SEXO', 'Y'))"
   ]
  },
  {
   "cell_type": "code",
   "execution_count": null,
   "id": "47cd5552",
   "metadata": {},
   "outputs": [],
   "source": [
    "df['SLG_SEXO'][~df['SLG_SEXO'].isin(['F','M'])] = 'F'\n",
    "df['SLG_SEXO'] = df['SLG_SEXO'].map({'M': 1, 'F': 0})"
   ]
  },
  {
   "cell_type": "markdown",
   "id": "21e24880",
   "metadata": {},
   "source": [
    "# NOM_PAPELPESSOA"
   ]
  },
  {
   "cell_type": "code",
   "execution_count": null,
   "id": "a6ed534b",
   "metadata": {},
   "outputs": [],
   "source": [
    "df['NOM_PAPELPESSOA'].value_counts()"
   ]
  },
  {
   "cell_type": "code",
   "execution_count": null,
   "id": "eff2eac2",
   "metadata": {},
   "outputs": [],
   "source": [
    "display(count_table(df, 'Y', 'NOM_PAPELPESSOA', sentido_percent='lin', apenas_fisher=False))\n",
    "display(tabela_cont(df, 'NOM_PAPELPESSOA', 'Y'))"
   ]
  },
  {
   "cell_type": "markdown",
   "id": "d17d550b",
   "metadata": {},
   "source": [
    "# CIDADE_CADASTRO"
   ]
  },
  {
   "cell_type": "code",
   "execution_count": null,
   "id": "d23f1cd4",
   "metadata": {},
   "outputs": [],
   "source": [
    "display(count_table(df, 'Y', 'UF_CADASTRO', sentido_percent='lin', apenas_fisher=False))\n",
    "display(tabela_cont(df, 'UF_CADASTRO', 'Y'))"
   ]
  },
  {
   "cell_type": "code",
   "execution_count": null,
   "id": "cf116ab2",
   "metadata": {},
   "outputs": [],
   "source": [
    "# Dicionário de mapeamento de estados para suas regiões\n",
    "regioes = {\n",
    "    'AC': 'Norte', 'AP': 'Norte', 'AM': 'Norte', 'PA': 'Norte', 'RO': 'Norte', 'RR': 'Norte', 'TO': 'Norte',\n",
    "    'AL': 'Nordeste', 'BA': 'Nordeste', 'CE': 'Nordeste', 'MA': 'Nordeste', 'PB': 'Nordeste',\n",
    "    'PE': 'Nordeste', 'PI': 'Nordeste', 'RN': 'Nordeste', 'SE': 'Nordeste',\n",
    "    'DF': 'Centro-Oeste', 'GO': 'Centro-Oeste', 'MS': 'Centro-Oeste', 'MT': 'Centro-Oeste',\n",
    "    'ES': 'Sudeste', 'MG': 'Sudeste', 'RJ': 'Sudeste', 'SP': 'Sudeste',\n",
    "    'PR': 'Sul', 'RS': 'Sul', 'SC': 'Sul'\n",
    "}\n",
    "\n",
    "# Função para mapear UF à sua região\n",
    "def obter_regiao(uf):\n",
    "    if pd.isna(uf) or uf == 'ND' or uf == '32':  # Lidar com valores inválidos\n",
    "        return np.nan\n",
    "    return regioes.get(uf, np.nan)\n",
    "\n",
    "# Criar nova coluna 'REGIAO' com base no mapeamento\n",
    "df['UF_CADASTRO_REGIAO'] = df['UF_CADASTRO'].apply(obter_regiao)\n",
    "display(df['UF_CADASTRO_REGIAO'].value_counts())\n",
    "\n",
    "display(count_table(df, 'Y', 'UF_CADASTRO_REGIAO', sentido_percent='lin', apenas_fisher=False))\n",
    "display(tabela_cont(df, 'UF_CADASTRO_REGIAO', 'Y'))"
   ]
  },
  {
   "cell_type": "markdown",
   "id": "8889904b",
   "metadata": {},
   "source": [
    "# Variaveis de localidade"
   ]
  },
  {
   "cell_type": "code",
   "execution_count": null,
   "id": "07c2582f",
   "metadata": {},
   "outputs": [],
   "source": [
    "print(df[['COD_LOJA_ATIVACAO','NOME_LOJA_ATIVACAO','UF_LOJA_ATIVACAO',\n",
    "'COD_LOJA_OFICIAL','NOME_LOJA_OFICIAL','UF_LOJA_OFICIAL',\n",
    "'COMPARA_LOJA','COMPARA_LOJA_UF',\n",
    "'CIDADE_CADASTRO','UF_CADASTRO']].isnull().sum())"
   ]
  },
  {
   "cell_type": "markdown",
   "id": "3f8e5a66",
   "metadata": {},
   "source": [
    "# TELEFONE"
   ]
  },
  {
   "cell_type": "code",
   "execution_count": null,
   "id": "2defe7f4",
   "metadata": {},
   "outputs": [],
   "source": [
    "df[['QTDE_CPFS_COM_MESMO_TELEFONE', 'TELEFONE_COMPARTILHADO','QTDE_TELEFONES_COMPARTILHADOS']]#.isnull().sum()"
   ]
  },
  {
   "cell_type": "code",
   "execution_count": null,
   "id": "d571ccd5",
   "metadata": {},
   "outputs": [],
   "source": [
    "display(count_table(df, 'Y', 'TELEFONE_COMPARTILHADO', sentido_percent='lin', apenas_fisher=False))\n",
    "display(tabela_cont(df, 'TELEFONE_COMPARTILHADO', 'Y'))"
   ]
  },
  {
   "cell_type": "code",
   "execution_count": null,
   "id": "907dd9c8",
   "metadata": {},
   "outputs": [],
   "source": [
    "df['TELEFONE_COMPARTILHADO'][df['TELEFONE_COMPARTILHADO'].isnull()] = '0'\n",
    "df['TELEFONE_COMPARTILHADO'] = df['TELEFONE_COMPARTILHADO'].astype('O')"
   ]
  },
  {
   "cell_type": "code",
   "execution_count": null,
   "id": "039f6611",
   "metadata": {},
   "outputs": [],
   "source": [
    "display(df.groupby(['Y'])['QTDE_CPFS_COM_MESMO_TELEFONE'].describe().round(0))\n",
    "display(summary_num_parametric_groups(df, 'QTDE_CPFS_COM_MESMO_TELEFONE', 'Y'))"
   ]
  },
  {
   "cell_type": "code",
   "execution_count": null,
   "id": "4737ab31",
   "metadata": {},
   "outputs": [],
   "source": [
    "display(df.groupby(['Y'])['QTDE_TELEFONES_COMPARTILHADOS'].describe().round(0))\n",
    "display(summary_num_parametric_groups(df, 'QTDE_TELEFONES_COMPARTILHADOS', 'Y'))"
   ]
  },
  {
   "cell_type": "markdown",
   "id": "109a70ec",
   "metadata": {},
   "source": [
    "# TPO_DOCUMENTO"
   ]
  },
  {
   "cell_type": "code",
   "execution_count": null,
   "id": "ee99fc81",
   "metadata": {},
   "outputs": [],
   "source": [
    "display(count_table(df, 'Y', 'TPO_DOCUMENTO', sentido_percent='lin', apenas_fisher=False))\n",
    "display(tabela_cont(df, 'TPO_DOCUMENTO', 'Y'))"
   ]
  },
  {
   "cell_type": "code",
   "execution_count": null,
   "id": "bbc33bcf",
   "metadata": {},
   "outputs": [],
   "source": [
    "df['TPO_DOCUMENTO_bin'] = 0\n",
    "df['TPO_DOCUMENTO_bin'][df['TPO_DOCUMENTO'].isin(['1','23','25','27'])] = 1\n",
    "display(count_table(df, 'Y', 'TPO_DOCUMENTO_bin', sentido_percent='lin', apenas_fisher=False))\n",
    "display(tabela_cont(df, 'TPO_DOCUMENTO_bin', 'Y'))"
   ]
  },
  {
   "cell_type": "code",
   "execution_count": null,
   "id": "a1a4f593",
   "metadata": {},
   "outputs": [],
   "source": [
    "df['TPO_DOCUMENTO'] = df['TPO_DOCUMENTO'].astype('O')\n",
    "df['TPO_DOCUMENTO_bin'] = df['TPO_DOCUMENTO_bin'].astype('O')"
   ]
  },
  {
   "cell_type": "markdown",
   "id": "4b18cb94",
   "metadata": {},
   "source": [
    "# DES_DOCUMENTO"
   ]
  },
  {
   "cell_type": "code",
   "execution_count": null,
   "id": "be20f378",
   "metadata": {},
   "outputs": [],
   "source": [
    "display(count_table(df, 'Y', 'DES_DOCUMENTO', sentido_percent='lin', apenas_fisher=False))\n",
    "display(tabela_cont(df, 'DES_DOCUMENTO', 'Y'))"
   ]
  },
  {
   "cell_type": "code",
   "execution_count": null,
   "id": "6feb7720",
   "metadata": {},
   "outputs": [],
   "source": [
    "DES_DOCUMENTO_fraudados = list(df['DES_DOCUMENTO'][df['Y'] == 1].unique())\n",
    "print(DES_DOCUMENTO_fraudados)"
   ]
  },
  {
   "cell_type": "code",
   "execution_count": null,
   "id": "3a93a847",
   "metadata": {},
   "outputs": [],
   "source": [
    "df['DES_DOCUMENTO_bin'] = 0\n",
    "df['DES_DOCUMENTO_bin'][df['DES_DOCUMENTO'].isin(DES_DOCUMENTO_fraudados)] = 1\n",
    "display(count_table(df, 'Y', 'DES_DOCUMENTO_bin', sentido_percent='lin', apenas_fisher=False))\n",
    "display(tabela_cont(df, 'DES_DOCUMENTO_bin', 'Y'))"
   ]
  },
  {
   "cell_type": "code",
   "execution_count": null,
   "id": "bd2dfeb5",
   "metadata": {},
   "outputs": [],
   "source": [
    "display(pd.crosstab(df['NOM_ESPECIEBENEFICIO'], df['Y'], margins=True).sort_values(by=1))\n",
    "display(count_table(df, 'Y', 'NOM_ESPECIEBENEFICIO', sentido_percent='col', apenas_fisher=False).sort_values(by=1))\n",
    "display(count_table(df, 'Y', 'NOM_ESPECIEBENEFICIO', sentido_percent='lin', apenas_fisher=False).sort_values(by=1))"
   ]
  },
  {
   "cell_type": "code",
   "execution_count": null,
   "id": "fcde484d",
   "metadata": {},
   "outputs": [],
   "source": [
    "df['NOM_ESPECIEBENEFICIO2'] = np.nan\n",
    "df['NOM_ESPECIEBENEFICIO2'][df['NOM_ESPECIEBENEFICIO'] == 'PENSAO POR MORTE'] = 'PENSAO'\n",
    "df['NOM_ESPECIEBENEFICIO2'][df['NOM_ESPECIEBENEFICIO'] == 'PENSAO POR MORTE (ACIDENTE DE TRABALHO)'] = 'PENSAO'\n",
    "df['NOM_ESPECIEBENEFICIO2'][df['NOM_ESPECIEBENEFICIO'] == 'PENSAO POR MORTE DE TRABALHADOR RURAL'] = 'PENSAO'\n",
    "df['NOM_ESPECIEBENEFICIO2'][df['NOM_ESPECIEBENEFICIO'] == 'PENSAO MENSAL VITALICIA(DEP. SERINGUEIRO)'] = 'PENSAO'\n",
    "df['NOM_ESPECIEBENEFICIO2'][df['NOM_ESPECIEBENEFICIO'] == 'PENSAO POR MORTE DE EMPREGADO RURAL'] = 'PENSAO'\n",
    "df['NOM_ESPECIEBENEFICIO2'][df['NOM_ESPECIEBENEFICIO'] == 'PENSAO POR MORTE DE ANISTIADO'] = 'PENSAO'\n",
    "df['NOM_ESPECIEBENEFICIO2'][df['NOM_ESPECIEBENEFICIO'] == 'PENSAO POR MORTE DE EX-COMBATENTE'] = 'PENSAO'\n",
    "df['NOM_ESPECIEBENEFICIO2'][df['NOM_ESPECIEBENEFICIO'] == 'PENSAO POR MORTE DE TRABALHADOR RURAL (ACIDENTE DE TRABALHO)'] = 'PENSAO'\n",
    "df['NOM_ESPECIEBENEFICIO2'][df['NOM_ESPECIEBENEFICIO'] == 'PENSAO POR MORTE REGIME GERAL'] = 'PENSAO'\n",
    "df['NOM_ESPECIEBENEFICIO2'][df['NOM_ESPECIEBENEFICIO'] == 'PENSAO POR MORTE(EX-SASSE)'] = 'PENSAO'\n",
    "df['NOM_ESPECIEBENEFICIO2'][df['NOM_ESPECIEBENEFICIO'] == 'PENSAO POR MORTE DE FERROVIARIO'] = 'PENSAO'\n",
    "\n",
    "df['NOM_ESPECIEBENEFICIO2'][df['NOM_ESPECIEBENEFICIO'] == 'APOSENTADORIA POR TEMPO DE CONTRIBUICAO'] = 'APOSENTADORIA'\n",
    "df['NOM_ESPECIEBENEFICIO2'][df['NOM_ESPECIEBENEFICIO'] == 'APOSENTADORIA POR IDADE'] = 'APOSENTADORIA'\n",
    "\n",
    "df['NOM_ESPECIEBENEFICIO2'][df['NOM_ESPECIEBENEFICIO'] == 'APOSENTADORIA POR INVALIDEZ PREVIDENCIARIO'] = 'APOSENTADORIA'\n",
    "df['NOM_ESPECIEBENEFICIO2'][df['NOM_ESPECIEBENEFICIO'] == 'APOSENTADORIA POR TEMPO DE CONTRIBUICAO (PROFESSOR)'] = 'APOSENTADORIA'\n",
    "df['NOM_ESPECIEBENEFICIO2'][df['NOM_ESPECIEBENEFICIO'] == 'APOSENTADORIA ESPECIAL'] = 'APOSENTADORIA'\n",
    "df['NOM_ESPECIEBENEFICIO2'][df['NOM_ESPECIEBENEFICIO'] == 'APOSENTADORIA POR INVALIDEZ DE TRABALHADOR RURAL'] = 'APOSENTADORIA'\n",
    "df['NOM_ESPECIEBENEFICIO2'][df['NOM_ESPECIEBENEFICIO'] == 'APOSENTADORIA POR IDADE DE TRABALHADOR RURAL'] = 'APOSENTADORIA'\n",
    "df['NOM_ESPECIEBENEFICIO2'][df['NOM_ESPECIEBENEFICIO'] == 'RENDA MENSAL VITALICIA POR IDADE'] = 'APOSENTADORIA'\n",
    "df['NOM_ESPECIEBENEFICIO2'][df['NOM_ESPECIEBENEFICIO'] == 'AMPARO POR IDADE DE TRABALHADOR RURAL'] = 'APOSENTADORIA'\n",
    "\n",
    "df['NOM_ESPECIEBENEFICIO2'][df['NOM_ESPECIEBENEFICIO'] == 'AMPARO SOCIAL AO IDOSO'] = 'LOES'\n",
    "\n",
    "df['NOM_ESPECIEBENEFICIO2'][df['NOM_ESPECIEBENEFICIO'] == 'APOSENTADORIA POR INVALIDEZ(ACIDENTE DE TRABALHO)'] = 'TRABALHO'\n",
    "df['NOM_ESPECIEBENEFICIO2'][df['NOM_ESPECIEBENEFICIO'] == 'APOSENTADORIA POR INVALIDEZ (ACIDENTE DE TRABALHO) DE TRABALHADOR RURAL'] = 'TRABALHO'\n",
    "df['NOM_ESPECIEBENEFICIO2'][df['NOM_ESPECIEBENEFICIO'] == 'AUXILIO ACIDENTE PREVIDENCIARIO (BENEFICIO TEMPORARIO)'] = 'TRABALHO'\n",
    "df['NOM_ESPECIEBENEFICIO2'][df['NOM_ESPECIEBENEFICIO'] == 'AUXILIO-ACIDENTE DE TRABALHO (BENEFICIO TEMPORARIO)'] = 'TRABALHO'\n",
    "df['NOM_ESPECIEBENEFICIO2'][df['NOM_ESPECIEBENEFICIO'] == 'AUXILIO-SUPLEMENTAR (ACIDENTE DE TRABALHO) (BENEFICIO TEMPORARIO)'] = 'TRABALHO'\n",
    "df['NOM_ESPECIEBENEFICIO2'][df['NOM_ESPECIEBENEFICIO'] == 'AMPARO POR INVALIDEZ DE TRABALHADOR RURAL'] = 'TRABALHO'\n",
    "\n",
    "df['NOM_ESPECIEBENEFICIO2'][df['NOM_ESPECIEBENEFICIO'] == 'AUXILIO-DOENCA POR ACIDENTE DE TRABALHO (BENEFICIO TEMPORARIO)'] = 'ACIDENTE_TRABALHO'\n",
    "df['NOM_ESPECIEBENEFICIO2'][df['NOM_ESPECIEBENEFICIO'] == 'SALARIO MATERNIDADE(BENEFICIO TEMPORARIO)'] = 'MATERNIDADE'\n",
    "\n",
    "df['NOM_ESPECIEBENEFICIO2'][df['NOM_ESPECIEBENEFICIO'] == 'AUXILIO DA UNIAO'] = 'UNIAO'\n",
    "df['NOM_ESPECIEBENEFICIO2'][df['NOM_ESPECIEBENEFICIO'] == 'BENEFICIO INDENIZATORIO A CARGO DA UNIAO'] = 'UNIAO'\n",
    "\n",
    "df['NOM_ESPECIEBENEFICIO2'][df['NOM_ESPECIEBENEFICIO'] == 'AUXILIO DOENCA PREVIDENCIARIO (BENEFICIO TEMPORARIO)'] = 'AUXILIO DOENCA PREVIDENCIARIO'\n",
    "\n",
    "df['NOM_ESPECIEBENEFICIO2'][df['NOM_ESPECIEBENEFICIO'] == 'AMPARO SOCIAL PESSOA PORTADORA DE DEFICIENCIA'] = 'DEFICIENCIA'\n",
    "df['NOM_ESPECIEBENEFICIO2'][df['NOM_ESPECIEBENEFICIO'] == 'PENSAO DE VITIMA DA TALIDOMIDA'] = 'DEFICIENCIA'\n",
    "\n",
    "df['NOM_ESPECIEBENEFICIO2'][df['NOM_ESPECIEBENEFICIO'] == 'AUXILIO RECLUSAO (BENEFICIO TEMPORARIO)'] = 'AUXILIO RECLUSAO'\n",
    "\n",
    "df['NOM_ESPECIEBENEFICIO2'][df['NOM_ESPECIEBENEFICIO'] == 'PENSAO ESPECIAL HANSENIASE - LEI 11520/07'] = 'OUTROS'\n",
    "df['NOM_ESPECIEBENEFICIO2'][df['NOM_ESPECIEBENEFICIO'] == 'RENDA MENSAL VITALICIA POR INVALIDEZ'] = 'OUTROS'\n",
    "df['NOM_ESPECIEBENEFICIO2'][df['NOM_ESPECIEBENEFICIO'] == 'AUXILIO INCLUSAO'] = 'OUTROS'\n",
    "\n",
    "display(count_table(df, 'Y', 'NOM_ESPECIEBENEFICIO2', sentido_percent='lin', apenas_fisher=False))\n",
    "display(count_table(df, 'Y', 'NOM_ESPECIEBENEFICIO2', sentido_percent='col', apenas_fisher=False))\n",
    "display(tabela_cont(df, 'NOM_ESPECIEBENEFICIO2', 'Y').sort_values(by=1))"
   ]
  },
  {
   "cell_type": "code",
   "execution_count": null,
   "id": "fc79f7ac",
   "metadata": {},
   "outputs": [],
   "source": [
    "lista = ['AUXILIO DOENCA PREVIDENCIARIO (BENEFICIO TEMPORARIO)','APOSENTADORIA POR IDADE','AMPARO SOCIAL AO IDOSO']\n",
    "\n",
    "df['beneficio_de_risco'] = 0\n",
    "df['beneficio_de_risco'][df['NOM_ESPECIEBENEFICIO'].isin(lista)] = 1\n",
    "\n",
    "display(count_table(df, 'Y', 'beneficio_de_risco', sentido_percent='lin', apenas_fisher=False))\n",
    "display(count_table(df, 'Y', 'beneficio_de_risco', sentido_percent='col', apenas_fisher=False))\n",
    "display(tabela_cont(df, 'beneficio_de_risco', 'Y').sort_values(by=1))"
   ]
  },
  {
   "cell_type": "code",
   "execution_count": null,
   "id": "6a84ccd4",
   "metadata": {},
   "outputs": [],
   "source": [
    "lista = ['AUXILIO-DOENCA POR ACIDENTE DE TRABALHO (BENEFICIO TEMPORARIO)',\n",
    "'AUXILIO DOENCA PREVIDENCIARIO (BENEFICIO TEMPORARIO)',\n",
    "'APOSENTADORIA POR INVALIDEZ PREVIDENCIARIO',\n",
    "'APOSENTADORIA POR IDADE',\n",
    "'SALARIO MATERNIDADE(BENEFICIO TEMPORARIO)',\n",
    "'AUXILIO-ACIDENTE DE TRABALHO (BENEFICIO TEMPORARIO)',\n",
    "'AUXILIO ACIDENTE PREVIDENCIARIO (BENEFICIO TEMPORARIO)',\n",
    "'AMPARO SOCIAL PESSOA PORTADORA DE DEFICIENCIA',\n",
    "'PENSAO POR MORTE',\n",
    "'APOSENTADORIA POR INVALIDEZ(ACIDENTE DE TRABALHO)',\n",
    "'APOSENTADORIA POR TEMPO DE CONTRIBUICAO',\n",
    "'AMPARO SOCIAL AO IDOSO',\n",
    "'APOSENTADORIA ESPECIAL',\n",
    "'PENSAO POR MORTE DE TRABALHADOR RURAL',\n",
    "'APOSENTADORIA POR INVALIDEZ DE TRABALHADOR RURAL']\n",
    "\n",
    "df['beneficios_que_tiveram_fraude'] = 0\n",
    "df['beneficios_que_tiveram_fraude'][df['NOM_ESPECIEBENEFICIO'].isin(lista)] = 1\n",
    "\n",
    "display(count_table(df, 'Y', 'beneficios_que_tiveram_fraude', sentido_percent='lin', apenas_fisher=False))\n",
    "display(count_table(df, 'Y', 'beneficios_que_tiveram_fraude', sentido_percent='col', apenas_fisher=False))\n",
    "display(tabela_cont(df, 'beneficios_que_tiveram_fraude', 'Y').sort_values(by=1))"
   ]
  },
  {
   "cell_type": "markdown",
   "id": "4c2af117",
   "metadata": {},
   "source": [
    "# TIPO_BENEFICIO"
   ]
  },
  {
   "cell_type": "code",
   "execution_count": null,
   "id": "acc823e3",
   "metadata": {},
   "outputs": [],
   "source": [
    "display(count_table(df, 'Y', 'TIPO_BENEFICIO', sentido_percent='col', apenas_fisher=False))\n",
    "display(tabela_cont(df, 'TIPO_BENEFICIO', 'Y').sort_values(by=1))"
   ]
  },
  {
   "cell_type": "markdown",
   "id": "033a5d30",
   "metadata": {},
   "source": [
    "# ========================="
   ]
  },
  {
   "cell_type": "markdown",
   "id": "25b96db7",
   "metadata": {},
   "source": [
    "## Praça"
   ]
  },
  {
   "cell_type": "code",
   "execution_count": null,
   "id": "b9cefb35",
   "metadata": {},
   "outputs": [],
   "source": [
    "display(count_table(df[df['PRACA'] != 'PRACA_NAO_LISTADA'], 'Y', 'PRACA', sentido_percent='col', apenas_fisher=False))\n",
    "display(tabela_cont(df, 'PRACA', 'Y').sort_values(by=1))"
   ]
  },
  {
   "cell_type": "markdown",
   "id": "c76fc0cb",
   "metadata": {},
   "source": [
    "# ajustes finais =================================="
   ]
  },
  {
   "cell_type": "code",
   "execution_count": null,
   "id": "6b6cbafc",
   "metadata": {},
   "outputs": [],
   "source": [
    "df['TIPO_BENEFICIO'] = df['TIPO_BENEFICIO'].map({'PERMANENTE': 1, 'TEMPORARIO': 0})"
   ]
  },
  {
   "cell_type": "code",
   "execution_count": null,
   "id": "10bdd56c",
   "metadata": {},
   "outputs": [],
   "source": [
    "df['Y'].value_counts()"
   ]
  },
  {
   "cell_type": "code",
   "execution_count": null,
   "id": "4a586d3f",
   "metadata": {},
   "outputs": [],
   "source": [
    "df['comparacao_cadastro_unico_e_bene'] = df['comparacao_cadastro_unico_e_bene'].map({True:1, False:0})\n",
    "df['comparacao_cadastro_unico_e_bene'].value_counts()"
   ]
  },
  {
   "cell_type": "code",
   "execution_count": null,
   "id": "dd4d5ad5",
   "metadata": {},
   "outputs": [],
   "source": [
    "df['TELEFONE_COMPARTILHADO'][df['TELEFONE_COMPARTILHADO'] == 0] = '0'\n",
    "df['TELEFONE_COMPARTILHADO'].value_counts()"
   ]
  },
  {
   "cell_type": "markdown",
   "id": "36f4556d",
   "metadata": {},
   "source": [
    "# Configurando os tipos das colunas"
   ]
  },
  {
   "cell_type": "code",
   "execution_count": null,
   "id": "47084d75",
   "metadata": {},
   "outputs": [],
   "source": [
    "df['DIA_SEMANA'] = df['DTA_INI_SOLICITACAO'].dt.strftime('%A')\n",
    "df['DIA_SEMANA'][df['DIA_SEMANA'] == 'Sunday'] = 'Saturday'"
   ]
  },
  {
   "cell_type": "code",
   "execution_count": null,
   "id": "c6abe90f",
   "metadata": {},
   "outputs": [],
   "source": [
    "import pandas as pd\n",
    "from tqdm import tqdm\n",
    "tqdm.pandas()\n",
    "\n",
    "def contar_fraudes_ultimos6meses(df, coluna_categoria, coluna_data='DTA_INI_SOLICITACAO', target='Y', janela_meses=6):\n",
    "\n",
    "    # Criar nova coluna com data - N meses\n",
    "    data_menos_coluna = f'{coluna_data}_menos{janela_meses}meses'\n",
    "    df[data_menos_coluna] = df[coluna_data] - pd.DateOffset(months=janela_meses)\n",
    "\n",
    "    # Filtrar apenas fraudes\n",
    "    df_fraudes = df[df[target] == 1].copy()\n",
    "\n",
    "    # Agrupar fraudes por categoria e data\n",
    "    df_fraudes_grouped = (\n",
    "        df_fraudes\n",
    "        .groupby([coluna_categoria, coluna_data])\n",
    "        .size()\n",
    "        .reset_index(name='qtde_fraudes_dia')\n",
    "        .sort_values(coluna_data)\n",
    "    )\n",
    "\n",
    "    # Função interna para aplicar em cada linha\n",
    "    def contar(linha):\n",
    "        categoria = linha[coluna_categoria]\n",
    "        data_ini = linha[data_menos_coluna]\n",
    "        data_fim = linha[coluna_data]\n",
    "\n",
    "        mask = (df_fraudes_grouped[coluna_categoria] == categoria) & \\\n",
    "               (df_fraudes_grouped[coluna_data] >= data_ini) & \\\n",
    "               (df_fraudes_grouped[coluna_data] <= data_fim)\n",
    "\n",
    "        return df_fraudes_grouped.loc[mask, 'qtde_fraudes_dia'].sum()\n",
    "\n",
    "    # Aplicar\n",
    "    nova_coluna = f'{coluna_categoria}_qtde_fraudes_{janela_meses}meses'\n",
    "    df[nova_coluna] = df.progress_apply(contar, axis=1)\n",
    "\n",
    "    return df\n",
    "\n",
    "df = contar_fraudes_ultimos6meses(df, 'UF_LOJA_ATIVACAO')\n",
    "df = contar_fraudes_ultimos6meses(df, 'DIA_SEMANA')\n",
    "df = contar_fraudes_ultimos6meses(df, 'IDADE_CAT10_10')\n",
    "df = contar_fraudes_ultimos6meses(df, 'NOM_ESPECIEBENEFICIO')\n",
    "df = contar_fraudes_ultimos6meses(df, 'SCORE_UNICO_CAT')\n",
    "df = contar_fraudes_ultimos6meses(df, 'UF_CADASTRO_REGIAO')\n",
    "df = contar_fraudes_ultimos6meses(df, 'UF_CADASTRO')"
   ]
  },
  {
   "cell_type": "code",
   "execution_count": null,
   "id": "9a538b9b",
   "metadata": {},
   "outputs": [],
   "source": [
    "df = df[sorted(df.columns)]"
   ]
  },
  {
   "cell_type": "code",
   "execution_count": null,
   "id": "0713e2f6",
   "metadata": {},
   "outputs": [],
   "source": [
    "df.info()"
   ]
  },
  {
   "cell_type": "code",
   "execution_count": null,
   "id": "eabba96a",
   "metadata": {},
   "outputs": [],
   "source": [
    "for coluna in df.columns:\n",
    "    tipo = df[coluna].dtype\n",
    "    texto = 'df[\"' + coluna + '\"] = df[\"' + coluna + '\"].astype()'\n",
    "    texto = str(tipo) + '->', texto\n",
    "    print(texto)"
   ]
  },
  {
   "cell_type": "code",
   "execution_count": null,
   "id": "1decb3c6",
   "metadata": {},
   "outputs": [],
   "source": [
    "df.to_parquet('dados_consolidados.parquet', index=False)"
   ]
  },
  {
   "cell_type": "code",
   "execution_count": null,
   "id": "a53ca88d",
   "metadata": {},
   "outputs": [],
   "source": []
  },
  {
   "cell_type": "code",
   "execution_count": null,
   "id": "adea8448",
   "metadata": {},
   "outputs": [],
   "source": []
  },
  {
   "cell_type": "code",
   "execution_count": null,
   "id": "98b2114b",
   "metadata": {},
   "outputs": [],
   "source": []
  },
  {
   "cell_type": "markdown",
   "id": "a4ae97cc",
   "metadata": {},
   "source": [
    "# ================================================="
   ]
  },
  {
   "cell_type": "code",
   "execution_count": null,
   "id": "58baeec6",
   "metadata": {},
   "outputs": [],
   "source": [
    "df['INI_SOLICITACAO_TRIMESTRE'] = df['DTA_INI_SOLICITACAO'].dt.to_period('Q').astype(str)\n",
    "print(df['INI_SOLICITACAO_TRIMESTRE'].sample(3))\n",
    "print(df['INI_SOLICITACAO_TRIMESTRE'].value_counts())"
   ]
  },
  {
   "cell_type": "code",
   "execution_count": null,
   "id": "e3a902dd",
   "metadata": {},
   "outputs": [],
   "source": [
    "def marcar_top_categorias_fraudulentas(\n",
    "    df,\n",
    "    coluna_cat,\n",
    "    coluna_periodo,\n",
    "    coluna_target='Y'\n",
    "):\n",
    "    \n",
    "    nome_col = f\"{coluna_cat}_com_fraude_periodo_passado_\" + coluna_periodo.split('_')[2]\n",
    "    df[nome_col + '_qtde'] = 0\n",
    "    df[nome_col + '_bin'] = 0\n",
    "\n",
    "    periodos = sorted(df[coluna_periodo].dropna().unique())\n",
    "\n",
    "    for i in range(len(periodos)):\n",
    "        periodo_atual = periodos[i]\n",
    "\n",
    "        # Primeiro período: usa as próprias categorias do mesmo período\n",
    "        if i == 0:\n",
    "            df_base = df[(df[coluna_periodo] == periodo_atual) & (df[coluna_target] == 1)]\n",
    "        # Demais períodos: usa as categorias com fraude no período passado\n",
    "        else:\n",
    "            periodo_passado = periodos[i - 1]\n",
    "            df_base = df[(df[coluna_periodo] == periodo_passado) & (df[coluna_target] == 1)]\n",
    "\n",
    "        # Conta as categorias associadas a fraude\n",
    "        top_categorias = df_base[coluna_cat].value_counts().loc[lambda x: x > 0]\n",
    "\n",
    "        # Marca as categorias no período atual\n",
    "        for categoria, qtde in top_categorias.items():\n",
    "            cond = (df[coluna_periodo] == periodo_atual) & (df[coluna_cat] == categoria)\n",
    "            df.loc[cond, nome_col + '_qtde'] = qtde\n",
    "            df.loc[cond, nome_col + '_bin'] = 1\n",
    "\n",
    "    return df\n",
    "\n",
    "import time\n",
    "lista_data_periodos = ['INI_SOLICITACAO_TRIMESTRE']\n",
    "for i in lista_data_periodos:\n",
    "    print(f\"\\nRodando para período: {i}\")\n",
    "    inicio = time.time()\n",
    "    \n",
    "    df = marcar_top_categorias_fraudulentas(\n",
    "        df,\n",
    "        coluna_cat='SCORE_UNICO_CAT',\n",
    "        coluna_periodo=i,\n",
    "        coluna_target='Y'\n",
    "    )\n",
    "    \n",
    "    fim = time.time()\n",
    "    tempo = fim - inicio\n",
    "    print(f\"Tempo de execução para {i}: {tempo:.2f} segundos\")\n",
    "\n",
    "\n",
    "display(tabela_cont(df, 'SCORE_UNICO_CAT_com_fraude_periodo_passado_TRIMESTRE_bin', 'Y'))\n",
    "display(count_table(df, 'Y', 'SCORE_UNICO_CAT_com_fraude_periodo_passado_TRIMESTRE_bin', sentido_percent='lin', apenas_fisher=False))"
   ]
  },
  {
   "cell_type": "code",
   "execution_count": null,
   "id": "594ca1ae",
   "metadata": {},
   "outputs": [],
   "source": [
    "display(tabela_cont(df[df['Y'] == 1], 'SCORE_UNICO_CAT', 'INI_SOLICITACAO_TRIMESTRE'))"
   ]
  },
  {
   "cell_type": "markdown",
   "id": "a276279b",
   "metadata": {},
   "source": [
    "### idade categorica fraude por periodo"
   ]
  },
  {
   "cell_type": "code",
   "execution_count": null,
   "id": "e0ee0fe2",
   "metadata": {},
   "outputs": [],
   "source": [
    "import time\n",
    "lista_data_periodos = ['INI_SOLICITACAO_TRIMESTRE']\n",
    "for i in lista_data_periodos:\n",
    "    print(f\"\\nRodando para período: {i}\")\n",
    "    inicio = time.time()\n",
    "    \n",
    "    df = marcar_top_categorias_fraudulentas(\n",
    "        df,\n",
    "        coluna_cat='IDADE_CAT10_10',\n",
    "        coluna_periodo=i,\n",
    "        coluna_target='Y'\n",
    "    )\n",
    "    \n",
    "    fim = time.time()\n",
    "    tempo = fim - inicio\n",
    "    print(f\"Tempo de execução para {i}: {tempo:.2f} segundos\")\n",
    "\n",
    "display(tabela_cont(df, 'IDADE_CAT10_10_com_fraude_periodo_passado_TRIMESTRE_bin', 'Y'))\n",
    "display(count_table(df, 'Y', 'IDADE_CAT10_10_com_fraude_periodo_passado_TRIMESTRE_bin', sentido_percent='lin', apenas_fisher=False))"
   ]
  },
  {
   "cell_type": "code",
   "execution_count": null,
   "id": "e64756f0",
   "metadata": {},
   "outputs": [],
   "source": [
    "display(count_table(df, 'Y', 'DIA_SEMANA', sentido_percent='lin', apenas_fisher=False))\n",
    "display(tabela_cont(df, 'DIA_SEMANA', 'Y'))\n",
    "\n",
    "import time\n",
    "lista_data_periodos = ['INI_SOLICITACAO_TRIMESTRE']\n",
    "for i in lista_data_periodos:\n",
    "    print(f\"\\nRodando para período: {i}\")\n",
    "    inicio = time.time()\n",
    "    \n",
    "    df = marcar_top_categorias_fraudulentas(\n",
    "        df,\n",
    "        coluna_cat='DIA_SEMANA',\n",
    "        coluna_periodo=i,\n",
    "        coluna_target='Y'\n",
    "    )\n",
    "    \n",
    "    fim = time.time()\n",
    "    tempo = fim - inicio\n",
    "    print(f\"Tempo de execução para {i}: {tempo:.2f} segundos\")\n",
    "\n",
    "\n",
    "display(tabela_cont(df, 'DIA_SEMANA_com_fraude_periodo_passado_TRIMESTRE_bin', 'Y'))\n",
    "display(count_table(df, 'Y', 'DIA_SEMANA_com_fraude_periodo_passado_TRIMESTRE_bin', sentido_percent='lin', apenas_fisher=False))"
   ]
  },
  {
   "cell_type": "markdown",
   "id": "ea112984",
   "metadata": {},
   "source": [
    "### UF cadastro fraudes por mes"
   ]
  },
  {
   "cell_type": "code",
   "execution_count": null,
   "id": "1efb3917",
   "metadata": {},
   "outputs": [],
   "source": [
    "import time\n",
    "lista_data_periodos = ['INI_SOLICITACAO_TRIMESTRE']\n",
    "for i in lista_data_periodos:\n",
    "    print(f\"\\nRodando para período: {i}\")\n",
    "    inicio = time.time()\n",
    "    \n",
    "    df = marcar_top_categorias_fraudulentas(\n",
    "        df,\n",
    "        coluna_cat='UF_CADASTRO',\n",
    "        coluna_periodo=i,\n",
    "        coluna_target='Y'\n",
    "    )\n",
    "    \n",
    "    fim = time.time()\n",
    "    tempo = fim - inicio\n",
    "    print(f\"Tempo de execução para {i}: {tempo:.2f} segundos\")\n",
    "\n",
    "\n",
    "display(tabela_cont(df, 'UF_CADASTRO_com_fraude_periodo_passado_TRIMESTRE_bin', 'Y'))\n",
    "display(count_table(df, 'Y', 'UF_CADASTRO_com_fraude_periodo_passado_TRIMESTRE_bin', sentido_percent='lin', apenas_fisher=False))"
   ]
  },
  {
   "cell_type": "code",
   "execution_count": null,
   "id": "60a64678",
   "metadata": {},
   "outputs": [],
   "source": [
    "# # # Filtra apenas onde Y == 1, agrupa e reorganiza os dados\n",
    "# df_filtrado = df[df['Y'] == 1].groupby(['UF_CADASTRO','ANOMES_INI_SOLICITACAO']).size().unstack()\n",
    "\n",
    "# # # Plotando o gráfico de barras\n",
    "# df_filtrado.T.plot(kind='bar', stacked=True, figsize=(12, 6), edgecolor='black')\n",
    "\n",
    "# plt.title('Número de Registros com Y=1 por UF e Data de Solicitação')\n",
    "# plt.xlabel('Data de Início da Solicitação')\n",
    "# plt.ylabel('Contagem')\n",
    "# plt.legend(title='UF')\n",
    "# plt.tight_layout()\n",
    "\n",
    "# plt.show()"
   ]
  },
  {
   "cell_type": "code",
   "execution_count": null,
   "id": "e387fd32",
   "metadata": {},
   "outputs": [],
   "source": [
    "# # Calcula o percentual por coluna (total por data)\n",
    "# percentual_coluna = df_filtrado.div(df_filtrado.sum(axis=0), axis=1) * 100\n",
    "\n",
    "# # Plota o gráfico de barras empilhadas com percentuais por coluna\n",
    "# percentual_coluna.T.plot(kind='bar', stacked=True, figsize=(12, 6))\n",
    "# plt.title('Percentual de Registros com Y = 1 por UF (em cada Data de Solicitação)')\n",
    "# plt.ylabel('Percentual (%)')\n",
    "# plt.xlabel('Data de Início da Solicitação')\n",
    "# plt.legend(title='UF')\n",
    "# plt.xticks(rotation=45)\n",
    "# plt.tight_layout()\n",
    "# plt.grid(axis='y')\n",
    "\n",
    "# plt.show()\n"
   ]
  },
  {
   "cell_type": "markdown",
   "id": "51a9a4e3",
   "metadata": {},
   "source": [
    "## regiao com fraude no periodo passado"
   ]
  },
  {
   "cell_type": "code",
   "execution_count": null,
   "id": "435c8bdf",
   "metadata": {},
   "outputs": [],
   "source": [
    "import time\n",
    "lista_data_periodos = ['INI_SOLICITACAO_TRIMESTRE']\n",
    "for i in lista_data_periodos:\n",
    "    print(f\"\\nRodando para período: {i}\")\n",
    "    inicio = time.time()\n",
    "    \n",
    "    df = marcar_top_categorias_fraudulentas(\n",
    "        df,\n",
    "        coluna_cat='UF_CADASTRO_REGIAO',\n",
    "        coluna_periodo=i,\n",
    "        coluna_target='Y'\n",
    "    )\n",
    "    \n",
    "    fim = time.time()\n",
    "    tempo = fim - inicio\n",
    "    print(f\"Tempo de execução para {i}: {tempo:.2f} segundos\")\n",
    "\n",
    "\n",
    "display(tabela_cont(df, 'UF_CADASTRO_REGIAO_com_fraude_periodo_passado_TRIMESTRE_bin', 'Y'))\n",
    "display(count_table(df, 'Y', 'UF_CADASTRO_REGIAO_com_fraude_periodo_passado_TRIMESTRE_bin', sentido_percent='lin', apenas_fisher=False))"
   ]
  },
  {
   "cell_type": "code",
   "execution_count": null,
   "id": "8fa00a36",
   "metadata": {},
   "outputs": [],
   "source": [
    "import time\n",
    "lista_data_periodos = ['INI_SOLICITACAO_TRIMESTRE']\n",
    "for i in lista_data_periodos:\n",
    "    print(f\"\\nRodando para período: {i}\")\n",
    "    inicio = time.time()\n",
    "    \n",
    "    df = marcar_top_categorias_fraudulentas(\n",
    "        df,\n",
    "        coluna_cat='NOM_ESPECIEBENEFICIO',\n",
    "        coluna_periodo=i,\n",
    "        coluna_target='Y'\n",
    "    )\n",
    "    \n",
    "    fim = time.time()\n",
    "    tempo = fim - inicio\n",
    "    print(f\"Tempo de execução para {i}: {tempo:.2f} segundos\")\n",
    "\n",
    "\n",
    "display(tabela_cont(df, 'NOM_ESPECIEBENEFICIO_com_fraude_periodo_passado_TRIMESTRE_bin', 'Y'))\n",
    "display(count_table(df, 'Y', 'NOM_ESPECIEBENEFICIO_com_fraude_periodo_passado_TRIMESTRE_bin', sentido_percent='lin', apenas_fisher=False))"
   ]
  },
  {
   "cell_type": "code",
   "execution_count": null,
   "id": "60a9fd9a",
   "metadata": {},
   "outputs": [],
   "source": [
    "df.to_parquet('dados_consolidados2.parquet', index=False)"
   ]
  },
  {
   "cell_type": "code",
   "execution_count": null,
   "id": "f85aedb0",
   "metadata": {},
   "outputs": [],
   "source": []
  }
 ],
 "metadata": {
  "kernelspec": {
   "display_name": "base",
   "language": "python",
   "name": "python3"
  },
  "language_info": {
   "codemirror_mode": {
    "name": "ipython",
    "version": 3
   },
   "file_extension": ".py",
   "mimetype": "text/x-python",
   "name": "python",
   "nbconvert_exporter": "python",
   "pygments_lexer": "ipython3",
   "version": "3.12.4"
  }
 },
 "nbformat": 4,
 "nbformat_minor": 5
}

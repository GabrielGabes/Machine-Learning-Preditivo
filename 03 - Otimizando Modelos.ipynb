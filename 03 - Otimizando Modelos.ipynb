{
 "cells": [
  {
   "cell_type": "markdown",
   "id": "da54da3f",
   "metadata": {},
   "source": [
    "# Book 3 - Otimização Modelos de Machine Learning\n",
    "\n",
    "Este notebook serviu como registro prático e teórico no meu aprendizado de Machine Learning.\n",
    "\n",
    "`Enriqueci este notebook com anotações adicionais e aplicações práticas tornando-o uma referência valiosa para consultas e implementações em futuros projetos reais.`\n",
    "\n",
    "Espero que este material inspire outros a explorar ainda mais o fascinante mundo do Machine Learning. \n",
    "\n",
    "No notebook presente tem todos os topicos dos notebook anteriores, porém sendo acrescentado e aprofundado com anotações dos seguintes tópicos:\n",
    "\n",
    "- **Busca em Grade (Grid Search)**: Otimização de Hiperterparâmetros\n",
    "- **Validação Cruzada Aninhada (Nested Cross Validation)**\n",
    "- **Randomized Search CV (Busca Aleatória)**: Otimização de Hiperparâmetros\n",
    "- **Otimização Bayesiana**: Otimização de Hiperparâmetros\n",
    "\n",
    "Compartilhar conhecimento é uma alegria—viva ao aprendizado contínuo, boa pratica e bons estudo a quem estiver lendo, abraços!"
   ]
  },
  {
   "cell_type": "markdown",
   "id": "89f399a3",
   "metadata": {},
   "source": [
    "# Funções, bibliotecas e Dataframe ficticios"
   ]
  },
  {
   "cell_type": "code",
   "execution_count": 1,
   "id": "e86b8253",
   "metadata": {},
   "outputs": [],
   "source": [
    "RANDOM_STATE = 3141592"
   ]
  },
  {
   "cell_type": "code",
   "execution_count": 2,
   "id": "547b5957",
   "metadata": {},
   "outputs": [],
   "source": [
    "import matplotlib.pyplot as plt\n",
    "plt.style.use('dark_background')\n",
    "%matplotlib inline\n",
    "\n",
    "# Manipulação e Tratamento de dados\n",
    "import openpyxl\n",
    "import pandas as pd\n",
    "import numpy as np\n",
    "from numpy import NaN\n",
    "\n",
    "#ignorando Warning inuteis\n",
    "import warnings \n",
    "from pandas.errors import SettingWithCopyWarning\n",
    "warnings.simplefilter(action=\"ignore\", category=SettingWithCopyWarning)\n",
    "warnings.filterwarnings(action='ignore', category=FutureWarning)\n",
    "warnings.simplefilter(action='ignore', category=UserWarning)"
   ]
  },
  {
   "cell_type": "code",
   "execution_count": 3,
   "id": "6fb3e65c",
   "metadata": {},
   "outputs": [
    {
     "data": {
      "text/html": [
       "<div>\n",
       "<style scoped>\n",
       "    .dataframe tbody tr th:only-of-type {\n",
       "        vertical-align: middle;\n",
       "    }\n",
       "\n",
       "    .dataframe tbody tr th {\n",
       "        vertical-align: top;\n",
       "    }\n",
       "\n",
       "    .dataframe thead th {\n",
       "        text-align: right;\n",
       "    }\n",
       "</style>\n",
       "<table border=\"1\" class=\"dataframe\">\n",
       "  <thead>\n",
       "    <tr style=\"text-align: right;\">\n",
       "      <th></th>\n",
       "      <th>x_num0</th>\n",
       "      <th>x_num1</th>\n",
       "      <th>x_num2</th>\n",
       "      <th>x_num3</th>\n",
       "      <th>x_num4</th>\n",
       "      <th>x_num5</th>\n",
       "      <th>x_num6</th>\n",
       "      <th>x_num7</th>\n",
       "      <th>x_num8</th>\n",
       "      <th>x_num9</th>\n",
       "      <th>...</th>\n",
       "      <th>x_bin0</th>\n",
       "      <th>x_bin1</th>\n",
       "      <th>x_bin2</th>\n",
       "      <th>x_bin3</th>\n",
       "      <th>x_bin4</th>\n",
       "      <th>x_cat0</th>\n",
       "      <th>x_cat1</th>\n",
       "      <th>x_cat2</th>\n",
       "      <th>x_cat_0</th>\n",
       "      <th>x_cat_1</th>\n",
       "    </tr>\n",
       "  </thead>\n",
       "  <tbody>\n",
       "    <tr>\n",
       "      <th>0</th>\n",
       "      <td>4.875997</td>\n",
       "      <td>-1.491729</td>\n",
       "      <td>2.491069</td>\n",
       "      <td>1.874948</td>\n",
       "      <td>-0.000381</td>\n",
       "      <td>1.478758</td>\n",
       "      <td>3.972563</td>\n",
       "      <td>0.230329</td>\n",
       "      <td>5.149503</td>\n",
       "      <td>0.595726</td>\n",
       "      <td>...</td>\n",
       "      <td>sim</td>\n",
       "      <td>não</td>\n",
       "      <td>sim</td>\n",
       "      <td>não</td>\n",
       "      <td>sim</td>\n",
       "      <td>A</td>\n",
       "      <td>B</td>\n",
       "      <td>A</td>\n",
       "      <td>C</td>\n",
       "      <td>D</td>\n",
       "    </tr>\n",
       "    <tr>\n",
       "      <th>1</th>\n",
       "      <td>3.750108</td>\n",
       "      <td>-0.510656</td>\n",
       "      <td>-0.462908</td>\n",
       "      <td>0.928715</td>\n",
       "      <td>0.496968</td>\n",
       "      <td>-0.995687</td>\n",
       "      <td>2.219878</td>\n",
       "      <td>-1.951839</td>\n",
       "      <td>0.335021</td>\n",
       "      <td>-0.071709</td>\n",
       "      <td>...</td>\n",
       "      <td>não</td>\n",
       "      <td>não</td>\n",
       "      <td>não</td>\n",
       "      <td>sim</td>\n",
       "      <td>não</td>\n",
       "      <td>B</td>\n",
       "      <td>B</td>\n",
       "      <td>C</td>\n",
       "      <td>C</td>\n",
       "      <td>B</td>\n",
       "    </tr>\n",
       "    <tr>\n",
       "      <th>2</th>\n",
       "      <td>1.915908</td>\n",
       "      <td>2.793605</td>\n",
       "      <td>2.989653</td>\n",
       "      <td>1.743696</td>\n",
       "      <td>-0.213394</td>\n",
       "      <td>-0.274895</td>\n",
       "      <td>0.106642</td>\n",
       "      <td>1.605156</td>\n",
       "      <td>2.169961</td>\n",
       "      <td>-1.126328</td>\n",
       "      <td>...</td>\n",
       "      <td>sim</td>\n",
       "      <td>sim</td>\n",
       "      <td>sim</td>\n",
       "      <td>não</td>\n",
       "      <td>sim</td>\n",
       "      <td>C</td>\n",
       "      <td>A</td>\n",
       "      <td>C</td>\n",
       "      <td>B</td>\n",
       "      <td>C</td>\n",
       "    </tr>\n",
       "    <tr>\n",
       "      <th>3</th>\n",
       "      <td>3.575351</td>\n",
       "      <td>2.779022</td>\n",
       "      <td>4.928382</td>\n",
       "      <td>3.046386</td>\n",
       "      <td>-1.832086</td>\n",
       "      <td>-2.961492</td>\n",
       "      <td>1.171947</td>\n",
       "      <td>1.044997</td>\n",
       "      <td>3.281876</td>\n",
       "      <td>-1.733729</td>\n",
       "      <td>...</td>\n",
       "      <td>não</td>\n",
       "      <td>não</td>\n",
       "      <td>não</td>\n",
       "      <td>sim</td>\n",
       "      <td>não</td>\n",
       "      <td>B</td>\n",
       "      <td>A</td>\n",
       "      <td>A</td>\n",
       "      <td>D</td>\n",
       "      <td>D</td>\n",
       "    </tr>\n",
       "    <tr>\n",
       "      <th>4</th>\n",
       "      <td>4.812294</td>\n",
       "      <td>0.316227</td>\n",
       "      <td>0.704474</td>\n",
       "      <td>0.908321</td>\n",
       "      <td>0.050424</td>\n",
       "      <td>-2.080064</td>\n",
       "      <td>2.597434</td>\n",
       "      <td>-1.643092</td>\n",
       "      <td>-0.138313</td>\n",
       "      <td>-1.498914</td>\n",
       "      <td>...</td>\n",
       "      <td>sim</td>\n",
       "      <td>não</td>\n",
       "      <td>não</td>\n",
       "      <td>não</td>\n",
       "      <td>não</td>\n",
       "      <td>A</td>\n",
       "      <td>B</td>\n",
       "      <td>A</td>\n",
       "      <td>D</td>\n",
       "      <td>B</td>\n",
       "    </tr>\n",
       "  </tbody>\n",
       "</table>\n",
       "<p>5 rows × 21 columns</p>\n",
       "</div>"
      ],
      "text/plain": [
       "     x_num0    x_num1    x_num2    x_num3    x_num4    x_num5    x_num6  \\\n",
       "0  4.875997 -1.491729  2.491069  1.874948 -0.000381  1.478758  3.972563   \n",
       "1  3.750108 -0.510656 -0.462908  0.928715  0.496968 -0.995687  2.219878   \n",
       "2  1.915908  2.793605  2.989653  1.743696 -0.213394 -0.274895  0.106642   \n",
       "3  3.575351  2.779022  4.928382  3.046386 -1.832086 -2.961492  1.171947   \n",
       "4  4.812294  0.316227  0.704474  0.908321  0.050424 -2.080064  2.597434   \n",
       "\n",
       "     x_num7    x_num8    x_num9  ... x_bin0 x_bin1 x_bin2 x_bin3 x_bin4  \\\n",
       "0  0.230329  5.149503  0.595726  ...    sim    não    sim    não    sim   \n",
       "1 -1.951839  0.335021 -0.071709  ...    não    não    não    sim    não   \n",
       "2  1.605156  2.169961 -1.126328  ...    sim    sim    sim    não    sim   \n",
       "3  1.044997  3.281876 -1.733729  ...    não    não    não    sim    não   \n",
       "4 -1.643092 -0.138313 -1.498914  ...    sim    não    não    não    não   \n",
       "\n",
       "  x_cat0 x_cat1 x_cat2 x_cat_0 x_cat_1  \n",
       "0      A      B      A       C       D  \n",
       "1      B      B      C       C       B  \n",
       "2      C      A      C       B       C  \n",
       "3      B      A      A       D       D  \n",
       "4      A      B      A       D       B  \n",
       "\n",
       "[5 rows x 21 columns]"
      ]
     },
     "metadata": {},
     "output_type": "display_data"
    },
    {
     "name": "stdout",
     "output_type": "stream",
     "text": [
      "TUDO OK\n"
     ]
    }
   ],
   "source": [
    "import requests\n",
    "\n",
    "# CARREGANDO BASE\n",
    "arquivo = 'fake_database'\n",
    "url = \"https://raw.githubusercontent.com/GabrielGabes/functions_gsa/main/\" + arquivo + \".py\"\n",
    "response = requests.get(url)\n",
    "code = response.text\n",
    "exec(code)\n",
    "df = fake_database2()\n",
    "display(df.head())\n",
    "\n",
    "arquivo = 'funcoes_estatisticas'\n",
    "url = \"https://raw.githubusercontent.com/GabrielGabes/functions_gsa/main/\" + arquivo + \".py\"\n",
    "response = requests.get(url)\n",
    "code = response.text\n",
    "exec(code)\n",
    "print('TUDO OK')"
   ]
  },
  {
   "cell_type": "code",
   "execution_count": 4,
   "id": "09dc1850",
   "metadata": {},
   "outputs": [
    {
     "data": {
      "text/plain": [
       "0    0\n",
       "1    1\n",
       "2    0\n",
       "3    1\n",
       "4    1\n",
       "Name: y, dtype: object"
      ]
     },
     "metadata": {},
     "output_type": "display_data"
    },
    {
     "data": {
      "text/html": [
       "<div>\n",
       "<style scoped>\n",
       "    .dataframe tbody tr th:only-of-type {\n",
       "        vertical-align: middle;\n",
       "    }\n",
       "\n",
       "    .dataframe tbody tr th {\n",
       "        vertical-align: top;\n",
       "    }\n",
       "\n",
       "    .dataframe thead th {\n",
       "        text-align: right;\n",
       "    }\n",
       "</style>\n",
       "<table border=\"1\" class=\"dataframe\">\n",
       "  <thead>\n",
       "    <tr style=\"text-align: right;\">\n",
       "      <th></th>\n",
       "      <th>x_num0</th>\n",
       "      <th>x_num1</th>\n",
       "      <th>x_num2</th>\n",
       "      <th>x_num3</th>\n",
       "      <th>x_num4</th>\n",
       "      <th>x_num5</th>\n",
       "      <th>x_num6</th>\n",
       "      <th>x_num7</th>\n",
       "      <th>x_num8</th>\n",
       "      <th>x_num9</th>\n",
       "      <th>x_bin0</th>\n",
       "      <th>x_bin1</th>\n",
       "      <th>x_bin2</th>\n",
       "      <th>x_bin3</th>\n",
       "      <th>x_bin4</th>\n",
       "      <th>x_cat0</th>\n",
       "      <th>x_cat1</th>\n",
       "      <th>x_cat2</th>\n",
       "      <th>x_cat_0</th>\n",
       "      <th>x_cat_1</th>\n",
       "    </tr>\n",
       "  </thead>\n",
       "  <tbody>\n",
       "    <tr>\n",
       "      <th>0</th>\n",
       "      <td>4.875997</td>\n",
       "      <td>-1.491729</td>\n",
       "      <td>2.491069</td>\n",
       "      <td>1.874948</td>\n",
       "      <td>-0.000381</td>\n",
       "      <td>1.478758</td>\n",
       "      <td>3.972563</td>\n",
       "      <td>0.230329</td>\n",
       "      <td>5.149503</td>\n",
       "      <td>0.595726</td>\n",
       "      <td>sim</td>\n",
       "      <td>não</td>\n",
       "      <td>sim</td>\n",
       "      <td>não</td>\n",
       "      <td>sim</td>\n",
       "      <td>A</td>\n",
       "      <td>B</td>\n",
       "      <td>A</td>\n",
       "      <td>C</td>\n",
       "      <td>D</td>\n",
       "    </tr>\n",
       "    <tr>\n",
       "      <th>1</th>\n",
       "      <td>3.750108</td>\n",
       "      <td>-0.510656</td>\n",
       "      <td>-0.462908</td>\n",
       "      <td>0.928715</td>\n",
       "      <td>0.496968</td>\n",
       "      <td>-0.995687</td>\n",
       "      <td>2.219878</td>\n",
       "      <td>-1.951839</td>\n",
       "      <td>0.335021</td>\n",
       "      <td>-0.071709</td>\n",
       "      <td>não</td>\n",
       "      <td>não</td>\n",
       "      <td>não</td>\n",
       "      <td>sim</td>\n",
       "      <td>não</td>\n",
       "      <td>B</td>\n",
       "      <td>B</td>\n",
       "      <td>C</td>\n",
       "      <td>C</td>\n",
       "      <td>B</td>\n",
       "    </tr>\n",
       "    <tr>\n",
       "      <th>2</th>\n",
       "      <td>1.915908</td>\n",
       "      <td>2.793605</td>\n",
       "      <td>2.989653</td>\n",
       "      <td>1.743696</td>\n",
       "      <td>-0.213394</td>\n",
       "      <td>-0.274895</td>\n",
       "      <td>0.106642</td>\n",
       "      <td>1.605156</td>\n",
       "      <td>2.169961</td>\n",
       "      <td>-1.126328</td>\n",
       "      <td>sim</td>\n",
       "      <td>sim</td>\n",
       "      <td>sim</td>\n",
       "      <td>não</td>\n",
       "      <td>sim</td>\n",
       "      <td>C</td>\n",
       "      <td>A</td>\n",
       "      <td>C</td>\n",
       "      <td>B</td>\n",
       "      <td>C</td>\n",
       "    </tr>\n",
       "    <tr>\n",
       "      <th>3</th>\n",
       "      <td>3.575351</td>\n",
       "      <td>2.779022</td>\n",
       "      <td>4.928382</td>\n",
       "      <td>3.046386</td>\n",
       "      <td>-1.832086</td>\n",
       "      <td>-2.961492</td>\n",
       "      <td>1.171947</td>\n",
       "      <td>1.044997</td>\n",
       "      <td>3.281876</td>\n",
       "      <td>-1.733729</td>\n",
       "      <td>não</td>\n",
       "      <td>não</td>\n",
       "      <td>não</td>\n",
       "      <td>sim</td>\n",
       "      <td>não</td>\n",
       "      <td>B</td>\n",
       "      <td>A</td>\n",
       "      <td>A</td>\n",
       "      <td>D</td>\n",
       "      <td>D</td>\n",
       "    </tr>\n",
       "    <tr>\n",
       "      <th>4</th>\n",
       "      <td>4.812294</td>\n",
       "      <td>0.316227</td>\n",
       "      <td>0.704474</td>\n",
       "      <td>0.908321</td>\n",
       "      <td>0.050424</td>\n",
       "      <td>-2.080064</td>\n",
       "      <td>2.597434</td>\n",
       "      <td>-1.643092</td>\n",
       "      <td>-0.138313</td>\n",
       "      <td>-1.498914</td>\n",
       "      <td>sim</td>\n",
       "      <td>não</td>\n",
       "      <td>não</td>\n",
       "      <td>não</td>\n",
       "      <td>não</td>\n",
       "      <td>A</td>\n",
       "      <td>B</td>\n",
       "      <td>A</td>\n",
       "      <td>D</td>\n",
       "      <td>B</td>\n",
       "    </tr>\n",
       "  </tbody>\n",
       "</table>\n",
       "</div>"
      ],
      "text/plain": [
       "     x_num0    x_num1    x_num2    x_num3    x_num4    x_num5    x_num6  \\\n",
       "0  4.875997 -1.491729  2.491069  1.874948 -0.000381  1.478758  3.972563   \n",
       "1  3.750108 -0.510656 -0.462908  0.928715  0.496968 -0.995687  2.219878   \n",
       "2  1.915908  2.793605  2.989653  1.743696 -0.213394 -0.274895  0.106642   \n",
       "3  3.575351  2.779022  4.928382  3.046386 -1.832086 -2.961492  1.171947   \n",
       "4  4.812294  0.316227  0.704474  0.908321  0.050424 -2.080064  2.597434   \n",
       "\n",
       "     x_num7    x_num8    x_num9 x_bin0 x_bin1 x_bin2 x_bin3 x_bin4 x_cat0  \\\n",
       "0  0.230329  5.149503  0.595726    sim    não    sim    não    sim      A   \n",
       "1 -1.951839  0.335021 -0.071709    não    não    não    sim    não      B   \n",
       "2  1.605156  2.169961 -1.126328    sim    sim    sim    não    sim      C   \n",
       "3  1.044997  3.281876 -1.733729    não    não    não    sim    não      B   \n",
       "4 -1.643092 -0.138313 -1.498914    sim    não    não    não    não      A   \n",
       "\n",
       "  x_cat1 x_cat2 x_cat_0 x_cat_1  \n",
       "0      B      A       C       D  \n",
       "1      B      C       C       B  \n",
       "2      A      C       B       C  \n",
       "3      A      A       D       D  \n",
       "4      B      A       D       B  "
      ]
     },
     "metadata": {},
     "output_type": "display_data"
    }
   ],
   "source": [
    "# Variavel Dependente\n",
    "var_dep = 'y'\n",
    "y = df[var_dep]\n",
    "display(y.head())\n",
    "\n",
    "x = df.drop('y', axis=1)\n",
    "display(x.head())"
   ]
  },
  {
   "cell_type": "code",
   "execution_count": 5,
   "id": "a1cdc01f-4ed2-46e2-9e27-1dc5cd6dcd5f",
   "metadata": {},
   "outputs": [
    {
     "name": "stdout",
     "output_type": "stream",
     "text": [
      "2 niveis: x_bin0 => ['sim' 'não']\n",
      "2 niveis: x_bin1 => ['não' 'sim']\n",
      "2 niveis: x_bin2 => ['sim' 'não']\n",
      "2 niveis: x_bin3 => ['não' 'sim']\n",
      "2 niveis: x_bin4 => ['sim' 'não']\n",
      "3 niveis: x_cat0 => ['A' 'B' 'C']\n",
      "3 niveis: x_cat1 => ['B' 'A' 'C']\n",
      "3 niveis: x_cat2 => ['A' 'C' 'B']\n",
      "3 niveis: x_cat_0 => ['C' 'B' 'D' 'A']\n",
      "3 niveis: x_cat_1 => ['D' 'B' 'C' 'A']\n",
      "(750, 32) (250, 32)\n",
      "(750,) (250,)\n"
     ]
    }
   ],
   "source": [
    "# DUMMYRIZAÇÃO\n",
    "colunas_categoricas = []\n",
    "colunas_binarias = []\n",
    "colunas_mais3_categorias = []\n",
    "\n",
    "for coluna in x.columns:\n",
    "    if df[coluna].dtype == 'O':\n",
    "        categorias = x[coluna].unique()\n",
    "        if len(categorias) == 2:\n",
    "            print('2 niveis:', coluna, '=>', categorias)\n",
    "            colunas_categoricas.append(coluna)\n",
    "            colunas_binarias.append(coluna)\n",
    "        else:\n",
    "            print('3 niveis:', coluna, '=>', categorias)\n",
    "            colunas_categoricas.append(coluna)\n",
    "            colunas_mais3_categorias.append(coluna)\n",
    "\n",
    "############################################################################################\n",
    "from sklearn.compose import make_column_transformer\n",
    "from sklearn.preprocessing import OneHotEncoder #transformando colunas com 2 categorias em 0 e 1\n",
    "\n",
    "coluna = x.columns\n",
    "one_hot = make_column_transformer((\n",
    "    OneHotEncoder(drop='if_binary'), #caso a coluna tenha apenas 2 categorias \n",
    "    colunas_categoricas), #passando quais são essas colunas\n",
    "    remainder = 'passthrough', sparse_threshold=0) #oque deve ser feito com as outras\n",
    "\n",
    "#Aplicando transformação\n",
    "x = one_hot.fit_transform(x)\n",
    "\n",
    "#Os novos nomes das colunas #'onehotencoder=transformadas; 'remainder'=não transformadas\n",
    "novos_nomes_colunas = one_hot.get_feature_names_out(coluna)\n",
    "\n",
    "x = pd.DataFrame(x, columns = novos_nomes_colunas) #alterando de volta\n",
    "x_columns = x.columns.tolist() \n",
    "\n",
    "############################################################################################\n",
    "# NORMALIZAÇÃO\n",
    "from sklearn.preprocessing import MinMaxScaler\n",
    "normalizacao = MinMaxScaler()\n",
    "x = normalizacao.fit_transform(x)\n",
    "\n",
    "#df['Close_padronizada'] = (df[coluna] - df[coluna].mean()) / df[coluna].std()\n",
    "#df['Close_normalizada'] = (df[coluna] - df[coluna].min()) / (df[coluna].max() - df[coluna].min())\n",
    "\n",
    "############################################################################################\n",
    "# DEFININDO A VARIAVEL DEPENDENTE\n",
    "from sklearn.preprocessing import LabelEncoder\n",
    "y = LabelEncoder().fit_transform(y)\n",
    "\n",
    "############################################################################################\n",
    "x_inteiro = x\n",
    "y_inteiro = y\n",
    "\n",
    "# DIVIDINDO BASE EM TREINO E TESTE\n",
    "from sklearn.model_selection import train_test_split\n",
    "x_treino, x_teste, y_treino, y_teste = train_test_split(x, y, \n",
    "                                                    stratify = y, #para manter a proporção da Var Dep nos splits\n",
    "                                                    random_state = 5) #raiz da aleatoridade\n",
    "# test_size = 0.25 #porcentagem que ira ser separado para testes\n",
    "\n",
    "print(x_treino.shape, x_teste.shape)\n",
    "print(y_treino.shape, y_teste.shape)"
   ]
  },
  {
   "cell_type": "code",
   "execution_count": 6,
   "id": "8d77e65e",
   "metadata": {},
   "outputs": [],
   "source": [
    "# Função para avaliação de modelos exibindo metricas de avaliação\n",
    "import requests\n",
    "arquivo = 'ML_supervised_learning'\n",
    "url = \"https://raw.githubusercontent.com/GabrielGabes/functions_gsa/main/\" + arquivo + \".py\"\n",
    "response = requests.get(url)\n",
    "code = response.text\n",
    "exec(code)"
   ]
  },
  {
   "cell_type": "markdown",
   "id": "ce18128a",
   "metadata": {},
   "source": [
    "# ======================================="
   ]
  },
  {
   "cell_type": "markdown",
   "id": "2d9c57b5",
   "metadata": {},
   "source": [
    "# Modelos usados"
   ]
  },
  {
   "cell_type": "code",
   "execution_count": 7,
   "id": "a48bd00e",
   "metadata": {},
   "outputs": [],
   "source": [
    "# Decision Tree\n",
    "from sklearn.tree import DecisionTreeClassifier\n",
    "\n",
    "# Regressão Logistica\n",
    "from sklearn.linear_model import LogisticRegression\n",
    "from sklearn.pipeline import make_pipeline\n",
    "from sklearn.preprocessing import StandardScaler\n",
    "#classificador = make_pipeline(StandardScaler(), LogisticRegression(random_state=RANDOM_STATE))"
   ]
  },
  {
   "cell_type": "markdown",
   "id": "31bd5c7a",
   "metadata": {},
   "source": [
    "# Busca em Grade (Grid Search) - Otimização de Hiperparâmetros\n",
    "\n",
    "A Busca em Grade, ou Grid Search, é uma técnica comum para otimização de hiperparâmetros em modelos de aprendizado de máquina. Este método sistemático testa exaustivamente uma série de combinações de hiperparâmetros para determinar a configuração ideal que resulta no melhor desempenho do modelo.\n",
    "\n",
    "- **Exaustividade:** Ao testar todas as possíveis combinações, garante-se que a melhor configuração dentro do espaço definido será encontrada.\n",
    "\n",
    "**Funcionamento**\n",
    "\n",
    "1. **Definição do Espaço de Parâmetros:**\n",
    "   Antes de iniciar a busca, é necessário definir o \"grid\" de hiperparâmetros, que é essencialmente uma lista de valores a serem testados para cada hiperparâmetro do modelo.\n",
    "\n",
    "2. **Avaliação Exaustiva:**\n",
    "   Cada combinação possível de hiperparâmetros no grid é testada. O modelo é treinado com cada conjunto de hiperparâmetros, e seu desempenho é avaliado usando uma métrica específica, geralmente através de validação cruzada.\n",
    "\n",
    "3. **Seleção do Melhor Modelo:**\n",
    "   Depois de testar todas as combinações, a configuração que proporciona o melhor desempenho de acordo com a métrica escolhida é selecionada como a ideal.\n",
    "\n",
    "**Alternativas**\n",
    "\n",
    "- **Busca Aleatória (Random Search):** Ao invés de testar todas as combinações possíveis, a Busca Aleatória seleciona um número fixo de combinações aleatoriamente, reduzindo o tempo necessário para a busca.\n",
    "- **Métodos Baseados em Gradiente:** Técnicas como otimização bayesiana usam modelos probabilísticos para selecionar inteligentemente os hiperparâmetros que têm maior probabilidade de melhorar o desempenho do modelo."
   ]
  },
  {
   "cell_type": "markdown",
   "id": "88ca5ef5",
   "metadata": {},
   "source": [
    "## in Decision Tree"
   ]
  },
  {
   "cell_type": "code",
   "execution_count": 8,
   "id": "da35d759",
   "metadata": {},
   "outputs": [
    {
     "data": {
      "text/html": [
       "<style>#sk-container-id-1 {color: black;background-color: white;}#sk-container-id-1 pre{padding: 0;}#sk-container-id-1 div.sk-toggleable {background-color: white;}#sk-container-id-1 label.sk-toggleable__label {cursor: pointer;display: block;width: 100%;margin-bottom: 0;padding: 0.3em;box-sizing: border-box;text-align: center;}#sk-container-id-1 label.sk-toggleable__label-arrow:before {content: \"▸\";float: left;margin-right: 0.25em;color: #696969;}#sk-container-id-1 label.sk-toggleable__label-arrow:hover:before {color: black;}#sk-container-id-1 div.sk-estimator:hover label.sk-toggleable__label-arrow:before {color: black;}#sk-container-id-1 div.sk-toggleable__content {max-height: 0;max-width: 0;overflow: hidden;text-align: left;background-color: #f0f8ff;}#sk-container-id-1 div.sk-toggleable__content pre {margin: 0.2em;color: black;border-radius: 0.25em;background-color: #f0f8ff;}#sk-container-id-1 input.sk-toggleable__control:checked~div.sk-toggleable__content {max-height: 200px;max-width: 100%;overflow: auto;}#sk-container-id-1 input.sk-toggleable__control:checked~label.sk-toggleable__label-arrow:before {content: \"▾\";}#sk-container-id-1 div.sk-estimator input.sk-toggleable__control:checked~label.sk-toggleable__label {background-color: #d4ebff;}#sk-container-id-1 div.sk-label input.sk-toggleable__control:checked~label.sk-toggleable__label {background-color: #d4ebff;}#sk-container-id-1 input.sk-hidden--visually {border: 0;clip: rect(1px 1px 1px 1px);clip: rect(1px, 1px, 1px, 1px);height: 1px;margin: -1px;overflow: hidden;padding: 0;position: absolute;width: 1px;}#sk-container-id-1 div.sk-estimator {font-family: monospace;background-color: #f0f8ff;border: 1px dotted black;border-radius: 0.25em;box-sizing: border-box;margin-bottom: 0.5em;}#sk-container-id-1 div.sk-estimator:hover {background-color: #d4ebff;}#sk-container-id-1 div.sk-parallel-item::after {content: \"\";width: 100%;border-bottom: 1px solid gray;flex-grow: 1;}#sk-container-id-1 div.sk-label:hover label.sk-toggleable__label {background-color: #d4ebff;}#sk-container-id-1 div.sk-serial::before {content: \"\";position: absolute;border-left: 1px solid gray;box-sizing: border-box;top: 0;bottom: 0;left: 50%;z-index: 0;}#sk-container-id-1 div.sk-serial {display: flex;flex-direction: column;align-items: center;background-color: white;padding-right: 0.2em;padding-left: 0.2em;position: relative;}#sk-container-id-1 div.sk-item {position: relative;z-index: 1;}#sk-container-id-1 div.sk-parallel {display: flex;align-items: stretch;justify-content: center;background-color: white;position: relative;}#sk-container-id-1 div.sk-item::before, #sk-container-id-1 div.sk-parallel-item::before {content: \"\";position: absolute;border-left: 1px solid gray;box-sizing: border-box;top: 0;bottom: 0;left: 50%;z-index: -1;}#sk-container-id-1 div.sk-parallel-item {display: flex;flex-direction: column;z-index: 1;position: relative;background-color: white;}#sk-container-id-1 div.sk-parallel-item:first-child::after {align-self: flex-end;width: 50%;}#sk-container-id-1 div.sk-parallel-item:last-child::after {align-self: flex-start;width: 50%;}#sk-container-id-1 div.sk-parallel-item:only-child::after {width: 0;}#sk-container-id-1 div.sk-dashed-wrapped {border: 1px dashed gray;margin: 0 0.4em 0.5em 0.4em;box-sizing: border-box;padding-bottom: 0.4em;background-color: white;}#sk-container-id-1 div.sk-label label {font-family: monospace;font-weight: bold;display: inline-block;line-height: 1.2em;}#sk-container-id-1 div.sk-label-container {text-align: center;}#sk-container-id-1 div.sk-container {/* jupyter's `normalize.less` sets `[hidden] { display: none; }` but bootstrap.min.css set `[hidden] { display: none !important; }` so we also need the `!important` here to be able to override the default hidden behavior on the sphinx rendered scikit-learn.org. See: https://github.com/scikit-learn/scikit-learn/issues/21755 */display: inline-block !important;position: relative;}#sk-container-id-1 div.sk-text-repr-fallback {display: none;}</style><div id=\"sk-container-id-1\" class=\"sk-top-container\"><div class=\"sk-text-repr-fallback\"><pre>GridSearchCV(cv=StratifiedKFold(n_splits=5, random_state=3141592, shuffle=True),\n",
       "             estimator=DecisionTreeClassifier(random_state=3141592), n_jobs=-1,\n",
       "             param_grid={&#x27;criterion&#x27;: [&#x27;gini&#x27;, &#x27;entropy&#x27;],\n",
       "                         &#x27;max_depth&#x27;: array([ 6,  8, 10, 12]),\n",
       "                         &#x27;max_features&#x27;: [&#x27;sqrt&#x27;, &#x27;log2&#x27;],\n",
       "                         &#x27;min_samples_leaf&#x27;: array([ 5, 10, 15, 20]),\n",
       "                         &#x27;min_samples_split&#x27;: array([ 5, 10, 15, 20]),\n",
       "                         &#x27;splitter&#x27;: [&#x27;best&#x27;, &#x27;random&#x27;]},\n",
       "             scoring=&#x27;recall&#x27;)</pre><b>In a Jupyter environment, please rerun this cell to show the HTML representation or trust the notebook. <br />On GitHub, the HTML representation is unable to render, please try loading this page with nbviewer.org.</b></div><div class=\"sk-container\" hidden><div class=\"sk-item sk-dashed-wrapped\"><div class=\"sk-label-container\"><div class=\"sk-label sk-toggleable\"><input class=\"sk-toggleable__control sk-hidden--visually\" id=\"sk-estimator-id-1\" type=\"checkbox\" ><label for=\"sk-estimator-id-1\" class=\"sk-toggleable__label sk-toggleable__label-arrow\">GridSearchCV</label><div class=\"sk-toggleable__content\"><pre>GridSearchCV(cv=StratifiedKFold(n_splits=5, random_state=3141592, shuffle=True),\n",
       "             estimator=DecisionTreeClassifier(random_state=3141592), n_jobs=-1,\n",
       "             param_grid={&#x27;criterion&#x27;: [&#x27;gini&#x27;, &#x27;entropy&#x27;],\n",
       "                         &#x27;max_depth&#x27;: array([ 6,  8, 10, 12]),\n",
       "                         &#x27;max_features&#x27;: [&#x27;sqrt&#x27;, &#x27;log2&#x27;],\n",
       "                         &#x27;min_samples_leaf&#x27;: array([ 5, 10, 15, 20]),\n",
       "                         &#x27;min_samples_split&#x27;: array([ 5, 10, 15, 20]),\n",
       "                         &#x27;splitter&#x27;: [&#x27;best&#x27;, &#x27;random&#x27;]},\n",
       "             scoring=&#x27;recall&#x27;)</pre></div></div></div><div class=\"sk-parallel\"><div class=\"sk-parallel-item\"><div class=\"sk-item\"><div class=\"sk-label-container\"><div class=\"sk-label sk-toggleable\"><input class=\"sk-toggleable__control sk-hidden--visually\" id=\"sk-estimator-id-2\" type=\"checkbox\" ><label for=\"sk-estimator-id-2\" class=\"sk-toggleable__label sk-toggleable__label-arrow\">estimator: DecisionTreeClassifier</label><div class=\"sk-toggleable__content\"><pre>DecisionTreeClassifier(random_state=3141592)</pre></div></div></div><div class=\"sk-serial\"><div class=\"sk-item\"><div class=\"sk-estimator sk-toggleable\"><input class=\"sk-toggleable__control sk-hidden--visually\" id=\"sk-estimator-id-3\" type=\"checkbox\" ><label for=\"sk-estimator-id-3\" class=\"sk-toggleable__label sk-toggleable__label-arrow\">DecisionTreeClassifier</label><div class=\"sk-toggleable__content\"><pre>DecisionTreeClassifier(random_state=3141592)</pre></div></div></div></div></div></div></div></div></div></div>"
      ],
      "text/plain": [
       "GridSearchCV(cv=StratifiedKFold(n_splits=5, random_state=3141592, shuffle=True),\n",
       "             estimator=DecisionTreeClassifier(random_state=3141592), n_jobs=-1,\n",
       "             param_grid={'criterion': ['gini', 'entropy'],\n",
       "                         'max_depth': array([ 6,  8, 10, 12]),\n",
       "                         'max_features': ['sqrt', 'log2'],\n",
       "                         'min_samples_leaf': array([ 5, 10, 15, 20]),\n",
       "                         'min_samples_split': array([ 5, 10, 15, 20]),\n",
       "                         'splitter': ['best', 'random']},\n",
       "             scoring='recall')"
      ]
     },
     "execution_count": 8,
     "metadata": {},
     "output_type": "execute_result"
    }
   ],
   "source": [
    "from sklearn.model_selection import GridSearchCV\n",
    "\n",
    "# Definindo grade de hiperparametros\n",
    "param_grid_dt = {\n",
    "    'criterion': ['gini', 'entropy'], # a função que vai decidir a qualidade de uma divisão\n",
    "    'max_depth': np.linspace(6, 12, 4, dtype=int), # profundidade da arvore\n",
    "    'min_samples_split': np.linspace(5, 20, 4, dtype=int), # quantidade minima de amostra para dividir um nó interno\n",
    "    'min_samples_leaf': np.linspace(5, 20, 4, dtype=int), # quantidade minima de amostra para estar em uma folha\n",
    "    'max_features': ['sqrt', 'log2'], # quantidade máxima de features que devem estar na divisão de um nó\n",
    "    'splitter': ['best', 'random'] # mede se a forma de divisão é a melhor ou aleatória.\n",
    "}\n",
    "\n",
    "# Cross Validation -> CV estratificado\n",
    "from sklearn.model_selection import StratifiedKFold\n",
    "cv = StratifiedKFold(n_splits=5, \n",
    "                     shuffle=True, # embarelhamento dos dados\n",
    "                     random_state=RANDOM_STATE)\n",
    "\n",
    "grid_search = GridSearchCV(\n",
    "    estimator = DecisionTreeClassifier(random_state=RANDOM_STATE), #classificador - modelo\n",
    "    param_grid = param_grid_dt,  \n",
    "    scoring='recall', # metrica que sera avaliada\n",
    "    n_jobs=-1, # quantidade de processadores para usar da maquina #-1 usa todos os disponiveis\n",
    "    refit=True, # retreinar com os melhores hiper parametros\n",
    "    cv=cv, # validação cruzada #\n",
    "    verbose=0, # mede a quantidade de informações que sera retornada # 0 é o padrão\n",
    "    pre_dispatch='2*n_jobs', #\n",
    "    #error_score=nan, #\n",
    "    return_train_score=False) # scores de treinamento\n",
    "\n",
    "# Treinando modelo\n",
    "grid_search.fit(x_treino, y_treino)"
   ]
  },
  {
   "cell_type": "code",
   "execution_count": 9,
   "id": "b5c42d34",
   "metadata": {},
   "outputs": [
    {
     "data": {
      "text/html": [
       "<div>\n",
       "<style scoped>\n",
       "    .dataframe tbody tr th:only-of-type {\n",
       "        vertical-align: middle;\n",
       "    }\n",
       "\n",
       "    .dataframe tbody tr th {\n",
       "        vertical-align: top;\n",
       "    }\n",
       "\n",
       "    .dataframe thead th {\n",
       "        text-align: right;\n",
       "    }\n",
       "</style>\n",
       "<table border=\"1\" class=\"dataframe\">\n",
       "  <thead>\n",
       "    <tr style=\"text-align: right;\">\n",
       "      <th></th>\n",
       "      <th>0</th>\n",
       "      <th>1</th>\n",
       "      <th>2</th>\n",
       "      <th>3</th>\n",
       "      <th>4</th>\n",
       "    </tr>\n",
       "  </thead>\n",
       "  <tbody>\n",
       "    <tr>\n",
       "      <th>mean_fit_time</th>\n",
       "      <td>0.005788</td>\n",
       "      <td>0.00162</td>\n",
       "      <td>0.002497</td>\n",
       "      <td>0.001529</td>\n",
       "      <td>0.002139</td>\n",
       "    </tr>\n",
       "    <tr>\n",
       "      <th>std_fit_time</th>\n",
       "      <td>0.001578</td>\n",
       "      <td>0.000467</td>\n",
       "      <td>0.000632</td>\n",
       "      <td>0.000481</td>\n",
       "      <td>0.000199</td>\n",
       "    </tr>\n",
       "    <tr>\n",
       "      <th>mean_score_time</th>\n",
       "      <td>0.0035</td>\n",
       "      <td>0.002577</td>\n",
       "      <td>0.001743</td>\n",
       "      <td>0.002171</td>\n",
       "      <td>0.00204</td>\n",
       "    </tr>\n",
       "    <tr>\n",
       "      <th>std_score_time</th>\n",
       "      <td>0.001789</td>\n",
       "      <td>0.000597</td>\n",
       "      <td>0.000387</td>\n",
       "      <td>0.000423</td>\n",
       "      <td>0.000268</td>\n",
       "    </tr>\n",
       "    <tr>\n",
       "      <th>param_criterion</th>\n",
       "      <td>gini</td>\n",
       "      <td>gini</td>\n",
       "      <td>gini</td>\n",
       "      <td>gini</td>\n",
       "      <td>gini</td>\n",
       "    </tr>\n",
       "    <tr>\n",
       "      <th>param_max_depth</th>\n",
       "      <td>6</td>\n",
       "      <td>6</td>\n",
       "      <td>6</td>\n",
       "      <td>6</td>\n",
       "      <td>6</td>\n",
       "    </tr>\n",
       "    <tr>\n",
       "      <th>param_max_features</th>\n",
       "      <td>sqrt</td>\n",
       "      <td>sqrt</td>\n",
       "      <td>sqrt</td>\n",
       "      <td>sqrt</td>\n",
       "      <td>sqrt</td>\n",
       "    </tr>\n",
       "    <tr>\n",
       "      <th>param_min_samples_leaf</th>\n",
       "      <td>5</td>\n",
       "      <td>5</td>\n",
       "      <td>5</td>\n",
       "      <td>5</td>\n",
       "      <td>5</td>\n",
       "    </tr>\n",
       "    <tr>\n",
       "      <th>param_min_samples_split</th>\n",
       "      <td>5</td>\n",
       "      <td>5</td>\n",
       "      <td>10</td>\n",
       "      <td>10</td>\n",
       "      <td>15</td>\n",
       "    </tr>\n",
       "    <tr>\n",
       "      <th>param_splitter</th>\n",
       "      <td>best</td>\n",
       "      <td>random</td>\n",
       "      <td>best</td>\n",
       "      <td>random</td>\n",
       "      <td>best</td>\n",
       "    </tr>\n",
       "    <tr>\n",
       "      <th>params</th>\n",
       "      <td>{'criterion': 'gini', 'max_depth': 6, 'max_fea...</td>\n",
       "      <td>{'criterion': 'gini', 'max_depth': 6, 'max_fea...</td>\n",
       "      <td>{'criterion': 'gini', 'max_depth': 6, 'max_fea...</td>\n",
       "      <td>{'criterion': 'gini', 'max_depth': 6, 'max_fea...</td>\n",
       "      <td>{'criterion': 'gini', 'max_depth': 6, 'max_fea...</td>\n",
       "    </tr>\n",
       "    <tr>\n",
       "      <th>split0_test_score</th>\n",
       "      <td>0.736842</td>\n",
       "      <td>0.894737</td>\n",
       "      <td>0.736842</td>\n",
       "      <td>0.894737</td>\n",
       "      <td>0.868421</td>\n",
       "    </tr>\n",
       "    <tr>\n",
       "      <th>split1_test_score</th>\n",
       "      <td>0.773333</td>\n",
       "      <td>0.8</td>\n",
       "      <td>0.773333</td>\n",
       "      <td>0.8</td>\n",
       "      <td>0.84</td>\n",
       "    </tr>\n",
       "    <tr>\n",
       "      <th>split2_test_score</th>\n",
       "      <td>0.84</td>\n",
       "      <td>0.826667</td>\n",
       "      <td>0.84</td>\n",
       "      <td>0.826667</td>\n",
       "      <td>0.746667</td>\n",
       "    </tr>\n",
       "    <tr>\n",
       "      <th>split3_test_score</th>\n",
       "      <td>0.693333</td>\n",
       "      <td>0.853333</td>\n",
       "      <td>0.693333</td>\n",
       "      <td>0.853333</td>\n",
       "      <td>0.733333</td>\n",
       "    </tr>\n",
       "    <tr>\n",
       "      <th>split4_test_score</th>\n",
       "      <td>0.8</td>\n",
       "      <td>0.693333</td>\n",
       "      <td>0.8</td>\n",
       "      <td>0.693333</td>\n",
       "      <td>0.84</td>\n",
       "    </tr>\n",
       "    <tr>\n",
       "      <th>mean_test_score</th>\n",
       "      <td>0.768702</td>\n",
       "      <td>0.813614</td>\n",
       "      <td>0.768702</td>\n",
       "      <td>0.813614</td>\n",
       "      <td>0.805684</td>\n",
       "    </tr>\n",
       "    <tr>\n",
       "      <th>std_test_score</th>\n",
       "      <td>0.050557</td>\n",
       "      <td>0.067796</td>\n",
       "      <td>0.050557</td>\n",
       "      <td>0.067796</td>\n",
       "      <td>0.054788</td>\n",
       "    </tr>\n",
       "    <tr>\n",
       "      <th>rank_test_score</th>\n",
       "      <td>229</td>\n",
       "      <td>73</td>\n",
       "      <td>229</td>\n",
       "      <td>73</td>\n",
       "      <td>125</td>\n",
       "    </tr>\n",
       "  </tbody>\n",
       "</table>\n",
       "</div>"
      ],
      "text/plain": [
       "                                                                         0  \\\n",
       "mean_fit_time                                                     0.005788   \n",
       "std_fit_time                                                      0.001578   \n",
       "mean_score_time                                                     0.0035   \n",
       "std_score_time                                                    0.001789   \n",
       "param_criterion                                                       gini   \n",
       "param_max_depth                                                          6   \n",
       "param_max_features                                                    sqrt   \n",
       "param_min_samples_leaf                                                   5   \n",
       "param_min_samples_split                                                  5   \n",
       "param_splitter                                                        best   \n",
       "params                   {'criterion': 'gini', 'max_depth': 6, 'max_fea...   \n",
       "split0_test_score                                                 0.736842   \n",
       "split1_test_score                                                 0.773333   \n",
       "split2_test_score                                                     0.84   \n",
       "split3_test_score                                                 0.693333   \n",
       "split4_test_score                                                      0.8   \n",
       "mean_test_score                                                   0.768702   \n",
       "std_test_score                                                    0.050557   \n",
       "rank_test_score                                                        229   \n",
       "\n",
       "                                                                         1  \\\n",
       "mean_fit_time                                                      0.00162   \n",
       "std_fit_time                                                      0.000467   \n",
       "mean_score_time                                                   0.002577   \n",
       "std_score_time                                                    0.000597   \n",
       "param_criterion                                                       gini   \n",
       "param_max_depth                                                          6   \n",
       "param_max_features                                                    sqrt   \n",
       "param_min_samples_leaf                                                   5   \n",
       "param_min_samples_split                                                  5   \n",
       "param_splitter                                                      random   \n",
       "params                   {'criterion': 'gini', 'max_depth': 6, 'max_fea...   \n",
       "split0_test_score                                                 0.894737   \n",
       "split1_test_score                                                      0.8   \n",
       "split2_test_score                                                 0.826667   \n",
       "split3_test_score                                                 0.853333   \n",
       "split4_test_score                                                 0.693333   \n",
       "mean_test_score                                                   0.813614   \n",
       "std_test_score                                                    0.067796   \n",
       "rank_test_score                                                         73   \n",
       "\n",
       "                                                                         2  \\\n",
       "mean_fit_time                                                     0.002497   \n",
       "std_fit_time                                                      0.000632   \n",
       "mean_score_time                                                   0.001743   \n",
       "std_score_time                                                    0.000387   \n",
       "param_criterion                                                       gini   \n",
       "param_max_depth                                                          6   \n",
       "param_max_features                                                    sqrt   \n",
       "param_min_samples_leaf                                                   5   \n",
       "param_min_samples_split                                                 10   \n",
       "param_splitter                                                        best   \n",
       "params                   {'criterion': 'gini', 'max_depth': 6, 'max_fea...   \n",
       "split0_test_score                                                 0.736842   \n",
       "split1_test_score                                                 0.773333   \n",
       "split2_test_score                                                     0.84   \n",
       "split3_test_score                                                 0.693333   \n",
       "split4_test_score                                                      0.8   \n",
       "mean_test_score                                                   0.768702   \n",
       "std_test_score                                                    0.050557   \n",
       "rank_test_score                                                        229   \n",
       "\n",
       "                                                                         3  \\\n",
       "mean_fit_time                                                     0.001529   \n",
       "std_fit_time                                                      0.000481   \n",
       "mean_score_time                                                   0.002171   \n",
       "std_score_time                                                    0.000423   \n",
       "param_criterion                                                       gini   \n",
       "param_max_depth                                                          6   \n",
       "param_max_features                                                    sqrt   \n",
       "param_min_samples_leaf                                                   5   \n",
       "param_min_samples_split                                                 10   \n",
       "param_splitter                                                      random   \n",
       "params                   {'criterion': 'gini', 'max_depth': 6, 'max_fea...   \n",
       "split0_test_score                                                 0.894737   \n",
       "split1_test_score                                                      0.8   \n",
       "split2_test_score                                                 0.826667   \n",
       "split3_test_score                                                 0.853333   \n",
       "split4_test_score                                                 0.693333   \n",
       "mean_test_score                                                   0.813614   \n",
       "std_test_score                                                    0.067796   \n",
       "rank_test_score                                                         73   \n",
       "\n",
       "                                                                         4  \n",
       "mean_fit_time                                                     0.002139  \n",
       "std_fit_time                                                      0.000199  \n",
       "mean_score_time                                                    0.00204  \n",
       "std_score_time                                                    0.000268  \n",
       "param_criterion                                                       gini  \n",
       "param_max_depth                                                          6  \n",
       "param_max_features                                                    sqrt  \n",
       "param_min_samples_leaf                                                   5  \n",
       "param_min_samples_split                                                 15  \n",
       "param_splitter                                                        best  \n",
       "params                   {'criterion': 'gini', 'max_depth': 6, 'max_fea...  \n",
       "split0_test_score                                                 0.868421  \n",
       "split1_test_score                                                     0.84  \n",
       "split2_test_score                                                 0.746667  \n",
       "split3_test_score                                                 0.733333  \n",
       "split4_test_score                                                     0.84  \n",
       "mean_test_score                                                   0.805684  \n",
       "std_test_score                                                    0.054788  \n",
       "rank_test_score                                                        125  "
      ]
     },
     "metadata": {},
     "output_type": "display_data"
    },
    {
     "data": {
      "text/html": [
       "<div>\n",
       "<style scoped>\n",
       "    .dataframe tbody tr th:only-of-type {\n",
       "        vertical-align: middle;\n",
       "    }\n",
       "\n",
       "    .dataframe tbody tr th {\n",
       "        vertical-align: top;\n",
       "    }\n",
       "\n",
       "    .dataframe thead th {\n",
       "        text-align: right;\n",
       "    }\n",
       "</style>\n",
       "<table border=\"1\" class=\"dataframe\">\n",
       "  <thead>\n",
       "    <tr style=\"text-align: right;\">\n",
       "      <th></th>\n",
       "      <th>71</th>\n",
       "    </tr>\n",
       "  </thead>\n",
       "  <tbody>\n",
       "    <tr>\n",
       "      <th>mean_fit_time</th>\n",
       "      <td>0.000756</td>\n",
       "    </tr>\n",
       "    <tr>\n",
       "      <th>std_fit_time</th>\n",
       "      <td>0.000637</td>\n",
       "    </tr>\n",
       "    <tr>\n",
       "      <th>mean_score_time</th>\n",
       "      <td>0.00211</td>\n",
       "    </tr>\n",
       "    <tr>\n",
       "      <th>std_score_time</th>\n",
       "      <td>0.001367</td>\n",
       "    </tr>\n",
       "    <tr>\n",
       "      <th>param_criterion</th>\n",
       "      <td>gini</td>\n",
       "    </tr>\n",
       "    <tr>\n",
       "      <th>param_max_depth</th>\n",
       "      <td>8</td>\n",
       "    </tr>\n",
       "    <tr>\n",
       "      <th>param_max_features</th>\n",
       "      <td>sqrt</td>\n",
       "    </tr>\n",
       "    <tr>\n",
       "      <th>param_min_samples_leaf</th>\n",
       "      <td>5</td>\n",
       "    </tr>\n",
       "    <tr>\n",
       "      <th>param_min_samples_split</th>\n",
       "      <td>20</td>\n",
       "    </tr>\n",
       "    <tr>\n",
       "      <th>param_splitter</th>\n",
       "      <td>random</td>\n",
       "    </tr>\n",
       "    <tr>\n",
       "      <th>params</th>\n",
       "      <td>{'criterion': 'gini', 'max_depth': 8, 'max_fea...</td>\n",
       "    </tr>\n",
       "    <tr>\n",
       "      <th>split0_test_score</th>\n",
       "      <td>0.907895</td>\n",
       "    </tr>\n",
       "    <tr>\n",
       "      <th>split1_test_score</th>\n",
       "      <td>0.84</td>\n",
       "    </tr>\n",
       "    <tr>\n",
       "      <th>split2_test_score</th>\n",
       "      <td>0.866667</td>\n",
       "    </tr>\n",
       "    <tr>\n",
       "      <th>split3_test_score</th>\n",
       "      <td>0.813333</td>\n",
       "    </tr>\n",
       "    <tr>\n",
       "      <th>split4_test_score</th>\n",
       "      <td>0.733333</td>\n",
       "    </tr>\n",
       "    <tr>\n",
       "      <th>mean_test_score</th>\n",
       "      <td>0.832246</td>\n",
       "    </tr>\n",
       "    <tr>\n",
       "      <th>std_test_score</th>\n",
       "      <td>0.058496</td>\n",
       "    </tr>\n",
       "    <tr>\n",
       "      <th>rank_test_score</th>\n",
       "      <td>1</td>\n",
       "    </tr>\n",
       "  </tbody>\n",
       "</table>\n",
       "</div>"
      ],
      "text/plain": [
       "                                                                        71\n",
       "mean_fit_time                                                     0.000756\n",
       "std_fit_time                                                      0.000637\n",
       "mean_score_time                                                    0.00211\n",
       "std_score_time                                                    0.001367\n",
       "param_criterion                                                       gini\n",
       "param_max_depth                                                          8\n",
       "param_max_features                                                    sqrt\n",
       "param_min_samples_leaf                                                   5\n",
       "param_min_samples_split                                                 20\n",
       "param_splitter                                                      random\n",
       "params                   {'criterion': 'gini', 'max_depth': 8, 'max_fea...\n",
       "split0_test_score                                                 0.907895\n",
       "split1_test_score                                                     0.84\n",
       "split2_test_score                                                 0.866667\n",
       "split3_test_score                                                 0.813333\n",
       "split4_test_score                                                 0.733333\n",
       "mean_test_score                                                   0.832246\n",
       "std_test_score                                                    0.058496\n",
       "rank_test_score                                                          1"
      ]
     },
     "metadata": {},
     "output_type": "display_data"
    }
   ],
   "source": [
    "cv_results = pd.DataFrame(grid_search.cv_results_)\n",
    "display(cv_results.head().T)\n",
    "###################################################\n",
    "# melhores hiper-parametros\n",
    "#display(grid_search.best_params_)\n",
    "\n",
    "#  melhor modelo\n",
    "display(cv_results.loc[[grid_search.best_index_]].T)"
   ]
  },
  {
   "cell_type": "code",
   "execution_count": 10,
   "id": "8496879c",
   "metadata": {},
   "outputs": [
    {
     "name": "stdout",
     "output_type": "stream",
     "text": [
      "P-value (Kruskal-Wallis): 0.97\n"
     ]
    },
    {
     "data": {
      "application/vnd.plotly.v1+json": {
       "config": {
        "plotlyServerURL": "https://plot.ly"
       },
       "data": [
        {
         "alignmentgroup": "True",
         "box": {
          "visible": true
         },
         "hovertemplate": "param_max_depth=%{x}<br>mean_test_score=%{y}<extra></extra>",
         "legendgroup": "6",
         "marker": {
          "color": "#636efa"
         },
         "name": "6",
         "offsetgroup": "6",
         "orientation": "v",
         "points": "all",
         "scalegroup": "True",
         "showlegend": true,
         "type": "violin",
         "x": [
          6,
          6,
          6,
          6,
          6,
          6,
          6,
          6,
          6,
          6,
          6,
          6,
          6,
          6,
          6,
          6,
          6,
          6,
          6,
          6,
          6,
          6,
          6,
          6,
          6,
          6,
          6,
          6,
          6,
          6,
          6,
          6,
          6,
          6,
          6,
          6,
          6,
          6,
          6,
          6,
          6,
          6,
          6,
          6,
          6,
          6,
          6,
          6,
          6,
          6,
          6,
          6,
          6,
          6,
          6,
          6,
          6,
          6,
          6,
          6,
          6,
          6,
          6,
          6,
          6,
          6,
          6,
          6,
          6,
          6,
          6,
          6,
          6,
          6,
          6,
          6,
          6,
          6,
          6,
          6,
          6,
          6,
          6,
          6,
          6,
          6,
          6,
          6,
          6,
          6,
          6,
          6,
          6,
          6,
          6,
          6,
          6,
          6,
          6,
          6,
          6,
          6,
          6,
          6,
          6,
          6,
          6,
          6,
          6,
          6,
          6,
          6,
          6,
          6,
          6,
          6,
          6,
          6,
          6,
          6,
          6,
          6,
          6,
          6,
          6,
          6,
          6,
          6
         ],
         "x0": " ",
         "xaxis": "x",
         "y": [
          0.768701754385965,
          0.8136140350877193,
          0.768701754385965,
          0.8136140350877193,
          0.8056842105263158,
          0.8189122807017544,
          0.7552982456140352,
          0.7871228070175439,
          0.7552280701754385,
          0.7951578947368422,
          0.7552280701754385,
          0.7951578947368422,
          0.7552280701754385,
          0.7951578947368422,
          0.7552280701754385,
          0.7951578947368422,
          0.7525263157894736,
          0.8297192982456141,
          0.7525263157894736,
          0.8297192982456141,
          0.7525263157894736,
          0.8297192982456141,
          0.7525263157894736,
          0.8297192982456141,
          0.7289122807017544,
          0.7603508771929823,
          0.7289122807017544,
          0.7603508771929823,
          0.7289122807017544,
          0.7603508771929823,
          0.7289122807017544,
          0.7603508771929823,
          0.768701754385965,
          0.8136140350877193,
          0.768701754385965,
          0.8136140350877193,
          0.8056842105263158,
          0.8189122807017544,
          0.7552982456140352,
          0.7871228070175439,
          0.7552280701754385,
          0.7951578947368422,
          0.7552280701754385,
          0.7951578947368422,
          0.7552280701754385,
          0.7951578947368422,
          0.7552280701754385,
          0.7951578947368422,
          0.7525263157894736,
          0.8297192982456141,
          0.7525263157894736,
          0.8297192982456141,
          0.7525263157894736,
          0.8297192982456141,
          0.7525263157894736,
          0.8297192982456141,
          0.7289122807017544,
          0.7603508771929823,
          0.7289122807017544,
          0.7603508771929823,
          0.7289122807017544,
          0.7603508771929823,
          0.7289122807017544,
          0.7603508771929823,
          0.7871929824561403,
          0.8136140350877193,
          0.7871929824561403,
          0.8136140350877193,
          0.8217192982456141,
          0.8136491228070175,
          0.789578947368421,
          0.7818245614035088,
          0.7391228070175438,
          0.782,
          0.7391228070175438,
          0.782,
          0.7391228070175438,
          0.782,
          0.7391228070175438,
          0.782,
          0.763157894736842,
          0.8060350877192983,
          0.763157894736842,
          0.8060350877192983,
          0.763157894736842,
          0.8060350877192983,
          0.763157894736842,
          0.8060350877192983,
          0.7316140350877193,
          0.7208771929824562,
          0.7316140350877193,
          0.7208771929824562,
          0.7316140350877193,
          0.7208771929824562,
          0.7316140350877193,
          0.7208771929824562,
          0.7871929824561403,
          0.8136140350877193,
          0.7871929824561403,
          0.8136140350877193,
          0.8217192982456141,
          0.8136491228070175,
          0.789578947368421,
          0.7818245614035088,
          0.7391228070175438,
          0.782,
          0.7391228070175438,
          0.782,
          0.7391228070175438,
          0.782,
          0.7391228070175438,
          0.782,
          0.763157894736842,
          0.8060350877192983,
          0.763157894736842,
          0.8060350877192983,
          0.763157894736842,
          0.8060350877192983,
          0.763157894736842,
          0.8060350877192983,
          0.7316140350877193,
          0.7208771929824562,
          0.7316140350877193,
          0.7208771929824562,
          0.7316140350877193,
          0.7208771929824562,
          0.7316140350877193,
          0.7208771929824562
         ],
         "y0": " ",
         "yaxis": "y"
        },
        {
         "alignmentgroup": "True",
         "box": {
          "visible": true
         },
         "hovertemplate": "param_max_depth=%{x}<br>mean_test_score=%{y}<extra></extra>",
         "legendgroup": "8",
         "marker": {
          "color": "#EF553B"
         },
         "name": "8",
         "offsetgroup": "8",
         "orientation": "v",
         "points": "all",
         "scalegroup": "True",
         "showlegend": true,
         "type": "violin",
         "x": [
          8,
          8,
          8,
          8,
          8,
          8,
          8,
          8,
          8,
          8,
          8,
          8,
          8,
          8,
          8,
          8,
          8,
          8,
          8,
          8,
          8,
          8,
          8,
          8,
          8,
          8,
          8,
          8,
          8,
          8,
          8,
          8,
          8,
          8,
          8,
          8,
          8,
          8,
          8,
          8,
          8,
          8,
          8,
          8,
          8,
          8,
          8,
          8,
          8,
          8,
          8,
          8,
          8,
          8,
          8,
          8,
          8,
          8,
          8,
          8,
          8,
          8,
          8,
          8,
          8,
          8,
          8,
          8,
          8,
          8,
          8,
          8,
          8,
          8,
          8,
          8,
          8,
          8,
          8,
          8,
          8,
          8,
          8,
          8,
          8,
          8,
          8,
          8,
          8,
          8,
          8,
          8,
          8,
          8,
          8,
          8,
          8,
          8,
          8,
          8,
          8,
          8,
          8,
          8,
          8,
          8,
          8,
          8,
          8,
          8,
          8,
          8,
          8,
          8,
          8,
          8,
          8,
          8,
          8,
          8,
          8,
          8,
          8,
          8,
          8,
          8,
          8,
          8
         ],
         "x0": " ",
         "xaxis": "x",
         "y": [
          0.8032280701754386,
          0.8295438596491229,
          0.8032280701754386,
          0.8295438596491229,
          0.771438596491228,
          0.7843859649122807,
          0.7686315789473684,
          0.8322456140350877,
          0.7365964912280701,
          0.8295438596491229,
          0.7365964912280701,
          0.8295438596491229,
          0.7365964912280701,
          0.8295438596491229,
          0.7365964912280701,
          0.8295438596491229,
          0.7631929824561403,
          0.8004561403508772,
          0.7631929824561403,
          0.8004561403508772,
          0.7631929824561403,
          0.8004561403508772,
          0.7631929824561403,
          0.8004561403508772,
          0.7289122807017544,
          0.7469824561403509,
          0.7289122807017544,
          0.7469824561403509,
          0.7289122807017544,
          0.7469824561403509,
          0.7289122807017544,
          0.7469824561403509,
          0.8032280701754386,
          0.8295438596491229,
          0.8032280701754386,
          0.8295438596491229,
          0.771438596491228,
          0.7843859649122807,
          0.7686315789473684,
          0.8322456140350877,
          0.7365964912280701,
          0.8295438596491229,
          0.7365964912280701,
          0.8295438596491229,
          0.7365964912280701,
          0.8295438596491229,
          0.7365964912280701,
          0.8295438596491229,
          0.7631929824561403,
          0.8004561403508772,
          0.7631929824561403,
          0.8004561403508772,
          0.7631929824561403,
          0.8004561403508772,
          0.7631929824561403,
          0.8004561403508772,
          0.7289122807017544,
          0.7469824561403509,
          0.7289122807017544,
          0.7469824561403509,
          0.7289122807017544,
          0.7469824561403509,
          0.7289122807017544,
          0.7469824561403509,
          0.7710526315789474,
          0.8084912280701755,
          0.7710526315789474,
          0.8084912280701755,
          0.7657894736842106,
          0.8030526315789472,
          0.7472631578947369,
          0.8242456140350877,
          0.7470877192982457,
          0.8322105263157894,
          0.7470877192982457,
          0.8322105263157894,
          0.7470877192982457,
          0.8322105263157894,
          0.7470877192982457,
          0.8322105263157894,
          0.7501052631578948,
          0.7767719298245614,
          0.7501052631578948,
          0.7767719298245614,
          0.7501052631578948,
          0.7767719298245614,
          0.7501052631578948,
          0.7767719298245614,
          0.7422456140350877,
          0.7368771929824561,
          0.7422456140350877,
          0.7368771929824561,
          0.7422456140350877,
          0.7368771929824561,
          0.7422456140350877,
          0.7368771929824561,
          0.7710526315789474,
          0.8084912280701755,
          0.7710526315789474,
          0.8084912280701755,
          0.7657894736842106,
          0.8030526315789472,
          0.7472631578947369,
          0.8242456140350877,
          0.7470877192982457,
          0.8322105263157894,
          0.7470877192982457,
          0.8322105263157894,
          0.7470877192982457,
          0.8322105263157894,
          0.7470877192982457,
          0.8322105263157894,
          0.7501052631578948,
          0.7767719298245614,
          0.7501052631578948,
          0.7767719298245614,
          0.7501052631578948,
          0.7767719298245614,
          0.7501052631578948,
          0.7767719298245614,
          0.7422456140350877,
          0.7368771929824561,
          0.7422456140350877,
          0.7368771929824561,
          0.7422456140350877,
          0.7368771929824561,
          0.7422456140350877,
          0.7368771929824561
         ],
         "y0": " ",
         "yaxis": "y"
        },
        {
         "alignmentgroup": "True",
         "box": {
          "visible": true
         },
         "hovertemplate": "param_max_depth=%{x}<br>mean_test_score=%{y}<extra></extra>",
         "legendgroup": "10",
         "marker": {
          "color": "#00cc96"
         },
         "name": "10",
         "offsetgroup": "10",
         "orientation": "v",
         "points": "all",
         "scalegroup": "True",
         "showlegend": true,
         "type": "violin",
         "x": [
          10,
          10,
          10,
          10,
          10,
          10,
          10,
          10,
          10,
          10,
          10,
          10,
          10,
          10,
          10,
          10,
          10,
          10,
          10,
          10,
          10,
          10,
          10,
          10,
          10,
          10,
          10,
          10,
          10,
          10,
          10,
          10,
          10,
          10,
          10,
          10,
          10,
          10,
          10,
          10,
          10,
          10,
          10,
          10,
          10,
          10,
          10,
          10,
          10,
          10,
          10,
          10,
          10,
          10,
          10,
          10,
          10,
          10,
          10,
          10,
          10,
          10,
          10,
          10,
          10,
          10,
          10,
          10,
          10,
          10,
          10,
          10,
          10,
          10,
          10,
          10,
          10,
          10,
          10,
          10,
          10,
          10,
          10,
          10,
          10,
          10,
          10,
          10,
          10,
          10,
          10,
          10,
          10,
          10,
          10,
          10,
          10,
          10,
          10,
          10,
          10,
          10,
          10,
          10,
          10,
          10,
          10,
          10,
          10,
          10,
          10,
          10,
          10,
          10,
          10,
          10,
          10,
          10,
          10,
          10,
          10,
          10,
          10,
          10,
          10,
          10,
          10,
          10
         ],
         "x0": " ",
         "xaxis": "x",
         "y": [
          0.784561403508772,
          0.8058245614035087,
          0.784561403508772,
          0.8058245614035087,
          0.7447719298245614,
          0.8084210526315789,
          0.747298245614035,
          0.8269824561403508,
          0.7365964912280701,
          0.8057192982456141,
          0.7365964912280701,
          0.8057192982456141,
          0.7365964912280701,
          0.8057192982456141,
          0.7365964912280701,
          0.8057192982456141,
          0.7631929824561403,
          0.7924561403508772,
          0.7631929824561403,
          0.7924561403508772,
          0.7631929824561403,
          0.7924561403508772,
          0.7631929824561403,
          0.7924561403508772,
          0.7289122807017544,
          0.7469824561403509,
          0.7289122807017544,
          0.7469824561403509,
          0.7289122807017544,
          0.7469824561403509,
          0.7289122807017544,
          0.7469824561403509,
          0.784561403508772,
          0.8058245614035087,
          0.784561403508772,
          0.8058245614035087,
          0.7447719298245614,
          0.8084210526315789,
          0.747298245614035,
          0.8269824561403508,
          0.7365964912280701,
          0.8057192982456141,
          0.7365964912280701,
          0.8057192982456141,
          0.7365964912280701,
          0.8057192982456141,
          0.7365964912280701,
          0.8057192982456141,
          0.7631929824561403,
          0.7924561403508772,
          0.7631929824561403,
          0.7924561403508772,
          0.7631929824561403,
          0.7924561403508772,
          0.7631929824561403,
          0.7924561403508772,
          0.7289122807017544,
          0.7469824561403509,
          0.7289122807017544,
          0.7469824561403509,
          0.7289122807017544,
          0.7469824561403509,
          0.7289122807017544,
          0.7469824561403509,
          0.7766666666666667,
          0.8271578947368422,
          0.7766666666666667,
          0.8271578947368422,
          0.7578245614035086,
          0.8030526315789475,
          0.8137894736842105,
          0.8189473684210526,
          0.7684210526315789,
          0.8215789473684211,
          0.7684210526315789,
          0.8215789473684211,
          0.7684210526315789,
          0.8215789473684211,
          0.7684210526315789,
          0.8215789473684211,
          0.7501052631578948,
          0.7687719298245614,
          0.7501052631578948,
          0.7687719298245614,
          0.7501052631578948,
          0.7687719298245614,
          0.7501052631578948,
          0.7687719298245614,
          0.7422456140350877,
          0.7368771929824561,
          0.7422456140350877,
          0.7368771929824561,
          0.7422456140350877,
          0.7368771929824561,
          0.7422456140350877,
          0.7368771929824561,
          0.7766666666666667,
          0.8271578947368422,
          0.7766666666666667,
          0.8271578947368422,
          0.7578245614035086,
          0.8030526315789475,
          0.8137894736842105,
          0.8189473684210526,
          0.7684210526315789,
          0.8215789473684211,
          0.7684210526315789,
          0.8215789473684211,
          0.7684210526315789,
          0.8215789473684211,
          0.7684210526315789,
          0.8215789473684211,
          0.7501052631578948,
          0.7687719298245614,
          0.7501052631578948,
          0.7687719298245614,
          0.7501052631578948,
          0.7687719298245614,
          0.7501052631578948,
          0.7687719298245614,
          0.7422456140350877,
          0.7368771929824561,
          0.7422456140350877,
          0.7368771929824561,
          0.7422456140350877,
          0.7368771929824561,
          0.7422456140350877,
          0.7368771929824561
         ],
         "y0": " ",
         "yaxis": "y"
        },
        {
         "alignmentgroup": "True",
         "box": {
          "visible": true
         },
         "hovertemplate": "param_max_depth=%{x}<br>mean_test_score=%{y}<extra></extra>",
         "legendgroup": "12",
         "marker": {
          "color": "#ab63fa"
         },
         "name": "12",
         "offsetgroup": "12",
         "orientation": "v",
         "points": "all",
         "scalegroup": "True",
         "showlegend": true,
         "type": "violin",
         "x": [
          12,
          12,
          12,
          12,
          12,
          12,
          12,
          12,
          12,
          12,
          12,
          12,
          12,
          12,
          12,
          12,
          12,
          12,
          12,
          12,
          12,
          12,
          12,
          12,
          12,
          12,
          12,
          12,
          12,
          12,
          12,
          12,
          12,
          12,
          12,
          12,
          12,
          12,
          12,
          12,
          12,
          12,
          12,
          12,
          12,
          12,
          12,
          12,
          12,
          12,
          12,
          12,
          12,
          12,
          12,
          12,
          12,
          12,
          12,
          12,
          12,
          12,
          12,
          12,
          12,
          12,
          12,
          12,
          12,
          12,
          12,
          12,
          12,
          12,
          12,
          12,
          12,
          12,
          12,
          12,
          12,
          12,
          12,
          12,
          12,
          12,
          12,
          12,
          12,
          12,
          12,
          12,
          12,
          12,
          12,
          12,
          12,
          12,
          12,
          12,
          12,
          12,
          12,
          12,
          12,
          12,
          12,
          12,
          12,
          12,
          12,
          12,
          12,
          12,
          12,
          12,
          12,
          12,
          12,
          12,
          12,
          12,
          12,
          12,
          12,
          12,
          12,
          12
         ],
         "x0": " ",
         "xaxis": "x",
         "y": [
          0.784561403508772,
          0.8084561403508772,
          0.784561403508772,
          0.8084561403508772,
          0.7447719298245614,
          0.8084210526315789,
          0.747298245614035,
          0.8269824561403508,
          0.7365964912280701,
          0.8057192982456141,
          0.7365964912280701,
          0.8057192982456141,
          0.7365964912280701,
          0.8057192982456141,
          0.7365964912280701,
          0.8057192982456141,
          0.7631929824561403,
          0.7924561403508772,
          0.7631929824561403,
          0.7924561403508772,
          0.7631929824561403,
          0.7924561403508772,
          0.7631929824561403,
          0.7924561403508772,
          0.7289122807017544,
          0.7469824561403509,
          0.7289122807017544,
          0.7469824561403509,
          0.7289122807017544,
          0.7469824561403509,
          0.7289122807017544,
          0.7469824561403509,
          0.784561403508772,
          0.8084561403508772,
          0.784561403508772,
          0.8084561403508772,
          0.7447719298245614,
          0.8084210526315789,
          0.747298245614035,
          0.8269824561403508,
          0.7365964912280701,
          0.8057192982456141,
          0.7365964912280701,
          0.8057192982456141,
          0.7365964912280701,
          0.8057192982456141,
          0.7365964912280701,
          0.8057192982456141,
          0.7631929824561403,
          0.7924561403508772,
          0.7631929824561403,
          0.7924561403508772,
          0.7631929824561403,
          0.7924561403508772,
          0.7631929824561403,
          0.7924561403508772,
          0.7289122807017544,
          0.7469824561403509,
          0.7289122807017544,
          0.7469824561403509,
          0.7289122807017544,
          0.7469824561403509,
          0.7289122807017544,
          0.7469824561403509,
          0.7633333333333333,
          0.8111228070175439,
          0.7633333333333333,
          0.8111228070175439,
          0.7631578947368419,
          0.8164210526315789,
          0.8137894736842105,
          0.8189473684210526,
          0.7684210526315789,
          0.8215789473684211,
          0.7684210526315789,
          0.8215789473684211,
          0.7684210526315789,
          0.8215789473684211,
          0.7684210526315789,
          0.8215789473684211,
          0.7501052631578948,
          0.7687719298245614,
          0.7501052631578948,
          0.7687719298245614,
          0.7501052631578948,
          0.7687719298245614,
          0.7501052631578948,
          0.7687719298245614,
          0.7422456140350877,
          0.7368771929824561,
          0.7422456140350877,
          0.7368771929824561,
          0.7422456140350877,
          0.7368771929824561,
          0.7422456140350877,
          0.7368771929824561,
          0.7633333333333333,
          0.8111228070175439,
          0.7633333333333333,
          0.8111228070175439,
          0.7631578947368419,
          0.8164210526315789,
          0.8137894736842105,
          0.8189473684210526,
          0.7684210526315789,
          0.8215789473684211,
          0.7684210526315789,
          0.8215789473684211,
          0.7684210526315789,
          0.8215789473684211,
          0.7684210526315789,
          0.8215789473684211,
          0.7501052631578948,
          0.7687719298245614,
          0.7501052631578948,
          0.7687719298245614,
          0.7501052631578948,
          0.7687719298245614,
          0.7501052631578948,
          0.7687719298245614,
          0.7422456140350877,
          0.7368771929824561,
          0.7422456140350877,
          0.7368771929824561,
          0.7422456140350877,
          0.7368771929824561,
          0.7422456140350877,
          0.7368771929824561
         ],
         "y0": " ",
         "yaxis": "y"
        }
       ],
       "layout": {
        "legend": {
         "title": {
          "text": "param_max_depth"
         },
         "tracegroupgap": 0
        },
        "margin": {
         "t": 60
        },
        "template": {
         "data": {
          "bar": [
           {
            "error_x": {
             "color": "#2a3f5f"
            },
            "error_y": {
             "color": "#2a3f5f"
            },
            "marker": {
             "line": {
              "color": "#E5ECF6",
              "width": 0.5
             },
             "pattern": {
              "fillmode": "overlay",
              "size": 10,
              "solidity": 0.2
             }
            },
            "type": "bar"
           }
          ],
          "barpolar": [
           {
            "marker": {
             "line": {
              "color": "#E5ECF6",
              "width": 0.5
             },
             "pattern": {
              "fillmode": "overlay",
              "size": 10,
              "solidity": 0.2
             }
            },
            "type": "barpolar"
           }
          ],
          "carpet": [
           {
            "aaxis": {
             "endlinecolor": "#2a3f5f",
             "gridcolor": "white",
             "linecolor": "white",
             "minorgridcolor": "white",
             "startlinecolor": "#2a3f5f"
            },
            "baxis": {
             "endlinecolor": "#2a3f5f",
             "gridcolor": "white",
             "linecolor": "white",
             "minorgridcolor": "white",
             "startlinecolor": "#2a3f5f"
            },
            "type": "carpet"
           }
          ],
          "choropleth": [
           {
            "colorbar": {
             "outlinewidth": 0,
             "ticks": ""
            },
            "type": "choropleth"
           }
          ],
          "contour": [
           {
            "colorbar": {
             "outlinewidth": 0,
             "ticks": ""
            },
            "colorscale": [
             [
              0,
              "#0d0887"
             ],
             [
              0.1111111111111111,
              "#46039f"
             ],
             [
              0.2222222222222222,
              "#7201a8"
             ],
             [
              0.3333333333333333,
              "#9c179e"
             ],
             [
              0.4444444444444444,
              "#bd3786"
             ],
             [
              0.5555555555555556,
              "#d8576b"
             ],
             [
              0.6666666666666666,
              "#ed7953"
             ],
             [
              0.7777777777777778,
              "#fb9f3a"
             ],
             [
              0.8888888888888888,
              "#fdca26"
             ],
             [
              1,
              "#f0f921"
             ]
            ],
            "type": "contour"
           }
          ],
          "contourcarpet": [
           {
            "colorbar": {
             "outlinewidth": 0,
             "ticks": ""
            },
            "type": "contourcarpet"
           }
          ],
          "heatmap": [
           {
            "colorbar": {
             "outlinewidth": 0,
             "ticks": ""
            },
            "colorscale": [
             [
              0,
              "#0d0887"
             ],
             [
              0.1111111111111111,
              "#46039f"
             ],
             [
              0.2222222222222222,
              "#7201a8"
             ],
             [
              0.3333333333333333,
              "#9c179e"
             ],
             [
              0.4444444444444444,
              "#bd3786"
             ],
             [
              0.5555555555555556,
              "#d8576b"
             ],
             [
              0.6666666666666666,
              "#ed7953"
             ],
             [
              0.7777777777777778,
              "#fb9f3a"
             ],
             [
              0.8888888888888888,
              "#fdca26"
             ],
             [
              1,
              "#f0f921"
             ]
            ],
            "type": "heatmap"
           }
          ],
          "heatmapgl": [
           {
            "colorbar": {
             "outlinewidth": 0,
             "ticks": ""
            },
            "colorscale": [
             [
              0,
              "#0d0887"
             ],
             [
              0.1111111111111111,
              "#46039f"
             ],
             [
              0.2222222222222222,
              "#7201a8"
             ],
             [
              0.3333333333333333,
              "#9c179e"
             ],
             [
              0.4444444444444444,
              "#bd3786"
             ],
             [
              0.5555555555555556,
              "#d8576b"
             ],
             [
              0.6666666666666666,
              "#ed7953"
             ],
             [
              0.7777777777777778,
              "#fb9f3a"
             ],
             [
              0.8888888888888888,
              "#fdca26"
             ],
             [
              1,
              "#f0f921"
             ]
            ],
            "type": "heatmapgl"
           }
          ],
          "histogram": [
           {
            "marker": {
             "pattern": {
              "fillmode": "overlay",
              "size": 10,
              "solidity": 0.2
             }
            },
            "type": "histogram"
           }
          ],
          "histogram2d": [
           {
            "colorbar": {
             "outlinewidth": 0,
             "ticks": ""
            },
            "colorscale": [
             [
              0,
              "#0d0887"
             ],
             [
              0.1111111111111111,
              "#46039f"
             ],
             [
              0.2222222222222222,
              "#7201a8"
             ],
             [
              0.3333333333333333,
              "#9c179e"
             ],
             [
              0.4444444444444444,
              "#bd3786"
             ],
             [
              0.5555555555555556,
              "#d8576b"
             ],
             [
              0.6666666666666666,
              "#ed7953"
             ],
             [
              0.7777777777777778,
              "#fb9f3a"
             ],
             [
              0.8888888888888888,
              "#fdca26"
             ],
             [
              1,
              "#f0f921"
             ]
            ],
            "type": "histogram2d"
           }
          ],
          "histogram2dcontour": [
           {
            "colorbar": {
             "outlinewidth": 0,
             "ticks": ""
            },
            "colorscale": [
             [
              0,
              "#0d0887"
             ],
             [
              0.1111111111111111,
              "#46039f"
             ],
             [
              0.2222222222222222,
              "#7201a8"
             ],
             [
              0.3333333333333333,
              "#9c179e"
             ],
             [
              0.4444444444444444,
              "#bd3786"
             ],
             [
              0.5555555555555556,
              "#d8576b"
             ],
             [
              0.6666666666666666,
              "#ed7953"
             ],
             [
              0.7777777777777778,
              "#fb9f3a"
             ],
             [
              0.8888888888888888,
              "#fdca26"
             ],
             [
              1,
              "#f0f921"
             ]
            ],
            "type": "histogram2dcontour"
           }
          ],
          "mesh3d": [
           {
            "colorbar": {
             "outlinewidth": 0,
             "ticks": ""
            },
            "type": "mesh3d"
           }
          ],
          "parcoords": [
           {
            "line": {
             "colorbar": {
              "outlinewidth": 0,
              "ticks": ""
             }
            },
            "type": "parcoords"
           }
          ],
          "pie": [
           {
            "automargin": true,
            "type": "pie"
           }
          ],
          "scatter": [
           {
            "fillpattern": {
             "fillmode": "overlay",
             "size": 10,
             "solidity": 0.2
            },
            "type": "scatter"
           }
          ],
          "scatter3d": [
           {
            "line": {
             "colorbar": {
              "outlinewidth": 0,
              "ticks": ""
             }
            },
            "marker": {
             "colorbar": {
              "outlinewidth": 0,
              "ticks": ""
             }
            },
            "type": "scatter3d"
           }
          ],
          "scattercarpet": [
           {
            "marker": {
             "colorbar": {
              "outlinewidth": 0,
              "ticks": ""
             }
            },
            "type": "scattercarpet"
           }
          ],
          "scattergeo": [
           {
            "marker": {
             "colorbar": {
              "outlinewidth": 0,
              "ticks": ""
             }
            },
            "type": "scattergeo"
           }
          ],
          "scattergl": [
           {
            "marker": {
             "colorbar": {
              "outlinewidth": 0,
              "ticks": ""
             }
            },
            "type": "scattergl"
           }
          ],
          "scattermapbox": [
           {
            "marker": {
             "colorbar": {
              "outlinewidth": 0,
              "ticks": ""
             }
            },
            "type": "scattermapbox"
           }
          ],
          "scatterpolar": [
           {
            "marker": {
             "colorbar": {
              "outlinewidth": 0,
              "ticks": ""
             }
            },
            "type": "scatterpolar"
           }
          ],
          "scatterpolargl": [
           {
            "marker": {
             "colorbar": {
              "outlinewidth": 0,
              "ticks": ""
             }
            },
            "type": "scatterpolargl"
           }
          ],
          "scatterternary": [
           {
            "marker": {
             "colorbar": {
              "outlinewidth": 0,
              "ticks": ""
             }
            },
            "type": "scatterternary"
           }
          ],
          "surface": [
           {
            "colorbar": {
             "outlinewidth": 0,
             "ticks": ""
            },
            "colorscale": [
             [
              0,
              "#0d0887"
             ],
             [
              0.1111111111111111,
              "#46039f"
             ],
             [
              0.2222222222222222,
              "#7201a8"
             ],
             [
              0.3333333333333333,
              "#9c179e"
             ],
             [
              0.4444444444444444,
              "#bd3786"
             ],
             [
              0.5555555555555556,
              "#d8576b"
             ],
             [
              0.6666666666666666,
              "#ed7953"
             ],
             [
              0.7777777777777778,
              "#fb9f3a"
             ],
             [
              0.8888888888888888,
              "#fdca26"
             ],
             [
              1,
              "#f0f921"
             ]
            ],
            "type": "surface"
           }
          ],
          "table": [
           {
            "cells": {
             "fill": {
              "color": "#EBF0F8"
             },
             "line": {
              "color": "white"
             }
            },
            "header": {
             "fill": {
              "color": "#C8D4E3"
             },
             "line": {
              "color": "white"
             }
            },
            "type": "table"
           }
          ]
         },
         "layout": {
          "annotationdefaults": {
           "arrowcolor": "#2a3f5f",
           "arrowhead": 0,
           "arrowwidth": 1
          },
          "autotypenumbers": "strict",
          "coloraxis": {
           "colorbar": {
            "outlinewidth": 0,
            "ticks": ""
           }
          },
          "colorscale": {
           "diverging": [
            [
             0,
             "#8e0152"
            ],
            [
             0.1,
             "#c51b7d"
            ],
            [
             0.2,
             "#de77ae"
            ],
            [
             0.3,
             "#f1b6da"
            ],
            [
             0.4,
             "#fde0ef"
            ],
            [
             0.5,
             "#f7f7f7"
            ],
            [
             0.6,
             "#e6f5d0"
            ],
            [
             0.7,
             "#b8e186"
            ],
            [
             0.8,
             "#7fbc41"
            ],
            [
             0.9,
             "#4d9221"
            ],
            [
             1,
             "#276419"
            ]
           ],
           "sequential": [
            [
             0,
             "#0d0887"
            ],
            [
             0.1111111111111111,
             "#46039f"
            ],
            [
             0.2222222222222222,
             "#7201a8"
            ],
            [
             0.3333333333333333,
             "#9c179e"
            ],
            [
             0.4444444444444444,
             "#bd3786"
            ],
            [
             0.5555555555555556,
             "#d8576b"
            ],
            [
             0.6666666666666666,
             "#ed7953"
            ],
            [
             0.7777777777777778,
             "#fb9f3a"
            ],
            [
             0.8888888888888888,
             "#fdca26"
            ],
            [
             1,
             "#f0f921"
            ]
           ],
           "sequentialminus": [
            [
             0,
             "#0d0887"
            ],
            [
             0.1111111111111111,
             "#46039f"
            ],
            [
             0.2222222222222222,
             "#7201a8"
            ],
            [
             0.3333333333333333,
             "#9c179e"
            ],
            [
             0.4444444444444444,
             "#bd3786"
            ],
            [
             0.5555555555555556,
             "#d8576b"
            ],
            [
             0.6666666666666666,
             "#ed7953"
            ],
            [
             0.7777777777777778,
             "#fb9f3a"
            ],
            [
             0.8888888888888888,
             "#fdca26"
            ],
            [
             1,
             "#f0f921"
            ]
           ]
          },
          "colorway": [
           "#636efa",
           "#EF553B",
           "#00cc96",
           "#ab63fa",
           "#FFA15A",
           "#19d3f3",
           "#FF6692",
           "#B6E880",
           "#FF97FF",
           "#FECB52"
          ],
          "font": {
           "color": "#2a3f5f"
          },
          "geo": {
           "bgcolor": "white",
           "lakecolor": "white",
           "landcolor": "#E5ECF6",
           "showlakes": true,
           "showland": true,
           "subunitcolor": "white"
          },
          "hoverlabel": {
           "align": "left"
          },
          "hovermode": "closest",
          "mapbox": {
           "style": "light"
          },
          "paper_bgcolor": "white",
          "plot_bgcolor": "#E5ECF6",
          "polar": {
           "angularaxis": {
            "gridcolor": "white",
            "linecolor": "white",
            "ticks": ""
           },
           "bgcolor": "#E5ECF6",
           "radialaxis": {
            "gridcolor": "white",
            "linecolor": "white",
            "ticks": ""
           }
          },
          "scene": {
           "xaxis": {
            "backgroundcolor": "#E5ECF6",
            "gridcolor": "white",
            "gridwidth": 2,
            "linecolor": "white",
            "showbackground": true,
            "ticks": "",
            "zerolinecolor": "white"
           },
           "yaxis": {
            "backgroundcolor": "#E5ECF6",
            "gridcolor": "white",
            "gridwidth": 2,
            "linecolor": "white",
            "showbackground": true,
            "ticks": "",
            "zerolinecolor": "white"
           },
           "zaxis": {
            "backgroundcolor": "#E5ECF6",
            "gridcolor": "white",
            "gridwidth": 2,
            "linecolor": "white",
            "showbackground": true,
            "ticks": "",
            "zerolinecolor": "white"
           }
          },
          "shapedefaults": {
           "line": {
            "color": "#2a3f5f"
           }
          },
          "ternary": {
           "aaxis": {
            "gridcolor": "white",
            "linecolor": "white",
            "ticks": ""
           },
           "baxis": {
            "gridcolor": "white",
            "linecolor": "white",
            "ticks": ""
           },
           "bgcolor": "#E5ECF6",
           "caxis": {
            "gridcolor": "white",
            "linecolor": "white",
            "ticks": ""
           }
          },
          "title": {
           "x": 0.05
          },
          "xaxis": {
           "automargin": true,
           "gridcolor": "white",
           "linecolor": "white",
           "ticks": "",
           "title": {
            "standoff": 15
           },
           "zerolinecolor": "white",
           "zerolinewidth": 2
          },
          "yaxis": {
           "automargin": true,
           "gridcolor": "white",
           "linecolor": "white",
           "ticks": "",
           "title": {
            "standoff": 15
           },
           "zerolinecolor": "white",
           "zerolinewidth": 2
          }
         }
        },
        "violinmode": "overlay",
        "xaxis": {
         "anchor": "y",
         "categoryarray": [
          6,
          8,
          10,
          12
         ],
         "categoryorder": "array",
         "domain": [
          0,
          1
         ],
         "title": {
          "text": "param_max_depth"
         }
        },
        "yaxis": {
         "anchor": "x",
         "domain": [
          0,
          1
         ],
         "title": {
          "text": "mean_test_score"
         }
        }
       }
      }
     },
     "metadata": {},
     "output_type": "display_data"
    }
   ],
   "source": [
    "num_cat_hip(cv_results, 'param_max_depth', 'mean_test_score')"
   ]
  },
  {
   "cell_type": "code",
   "execution_count": 11,
   "id": "778979f0",
   "metadata": {},
   "outputs": [
    {
     "name": "stdout",
     "output_type": "stream",
     "text": [
      "P-value (Kruskal-Wallis): < 0.001\n",
      "P-value (Pós-Teste de Dunn):\n",
      "          5       10       15       20\n",
      "5      1.00  < 0.001  < 0.001  < 0.001\n",
      "10  < 0.001     1.00     1.00  < 0.001\n",
      "15  < 0.001     1.00     1.00  < 0.001\n",
      "20  < 0.001  < 0.001  < 0.001     1.00\n"
     ]
    },
    {
     "data": {
      "text/plain": [
       "None"
      ]
     },
     "metadata": {},
     "output_type": "display_data"
    },
    {
     "data": {
      "application/vnd.plotly.v1+json": {
       "config": {
        "plotlyServerURL": "https://plot.ly"
       },
       "data": [
        {
         "alignmentgroup": "True",
         "box": {
          "visible": true
         },
         "hovertemplate": "param_min_samples_leaf=%{x}<br>mean_test_score=%{y}<extra></extra>",
         "legendgroup": "5",
         "marker": {
          "color": "#636efa"
         },
         "name": "5",
         "offsetgroup": "5",
         "orientation": "v",
         "points": "all",
         "scalegroup": "True",
         "showlegend": true,
         "type": "violin",
         "x": [
          5,
          5,
          5,
          5,
          5,
          5,
          5,
          5,
          5,
          5,
          5,
          5,
          5,
          5,
          5,
          5,
          5,
          5,
          5,
          5,
          5,
          5,
          5,
          5,
          5,
          5,
          5,
          5,
          5,
          5,
          5,
          5,
          5,
          5,
          5,
          5,
          5,
          5,
          5,
          5,
          5,
          5,
          5,
          5,
          5,
          5,
          5,
          5,
          5,
          5,
          5,
          5,
          5,
          5,
          5,
          5,
          5,
          5,
          5,
          5,
          5,
          5,
          5,
          5,
          5,
          5,
          5,
          5,
          5,
          5,
          5,
          5,
          5,
          5,
          5,
          5,
          5,
          5,
          5,
          5,
          5,
          5,
          5,
          5,
          5,
          5,
          5,
          5,
          5,
          5,
          5,
          5,
          5,
          5,
          5,
          5,
          5,
          5,
          5,
          5,
          5,
          5,
          5,
          5,
          5,
          5,
          5,
          5,
          5,
          5,
          5,
          5,
          5,
          5,
          5,
          5,
          5,
          5,
          5,
          5,
          5,
          5,
          5,
          5,
          5,
          5,
          5,
          5
         ],
         "x0": " ",
         "xaxis": "x",
         "y": [
          0.768701754385965,
          0.8136140350877193,
          0.768701754385965,
          0.8136140350877193,
          0.8056842105263158,
          0.8189122807017544,
          0.7552982456140352,
          0.7871228070175439,
          0.768701754385965,
          0.8136140350877193,
          0.768701754385965,
          0.8136140350877193,
          0.8056842105263158,
          0.8189122807017544,
          0.7552982456140352,
          0.7871228070175439,
          0.8032280701754386,
          0.8295438596491229,
          0.8032280701754386,
          0.8295438596491229,
          0.771438596491228,
          0.7843859649122807,
          0.7686315789473684,
          0.8322456140350877,
          0.8032280701754386,
          0.8295438596491229,
          0.8032280701754386,
          0.8295438596491229,
          0.771438596491228,
          0.7843859649122807,
          0.7686315789473684,
          0.8322456140350877,
          0.784561403508772,
          0.8058245614035087,
          0.784561403508772,
          0.8058245614035087,
          0.7447719298245614,
          0.8084210526315789,
          0.747298245614035,
          0.8269824561403508,
          0.784561403508772,
          0.8058245614035087,
          0.784561403508772,
          0.8058245614035087,
          0.7447719298245614,
          0.8084210526315789,
          0.747298245614035,
          0.8269824561403508,
          0.784561403508772,
          0.8084561403508772,
          0.784561403508772,
          0.8084561403508772,
          0.7447719298245614,
          0.8084210526315789,
          0.747298245614035,
          0.8269824561403508,
          0.784561403508772,
          0.8084561403508772,
          0.784561403508772,
          0.8084561403508772,
          0.7447719298245614,
          0.8084210526315789,
          0.747298245614035,
          0.8269824561403508,
          0.7871929824561403,
          0.8136140350877193,
          0.7871929824561403,
          0.8136140350877193,
          0.8217192982456141,
          0.8136491228070175,
          0.789578947368421,
          0.7818245614035088,
          0.7871929824561403,
          0.8136140350877193,
          0.7871929824561403,
          0.8136140350877193,
          0.8217192982456141,
          0.8136491228070175,
          0.789578947368421,
          0.7818245614035088,
          0.7710526315789474,
          0.8084912280701755,
          0.7710526315789474,
          0.8084912280701755,
          0.7657894736842106,
          0.8030526315789472,
          0.7472631578947369,
          0.8242456140350877,
          0.7710526315789474,
          0.8084912280701755,
          0.7710526315789474,
          0.8084912280701755,
          0.7657894736842106,
          0.8030526315789472,
          0.7472631578947369,
          0.8242456140350877,
          0.7766666666666667,
          0.8271578947368422,
          0.7766666666666667,
          0.8271578947368422,
          0.7578245614035086,
          0.8030526315789475,
          0.8137894736842105,
          0.8189473684210526,
          0.7766666666666667,
          0.8271578947368422,
          0.7766666666666667,
          0.8271578947368422,
          0.7578245614035086,
          0.8030526315789475,
          0.8137894736842105,
          0.8189473684210526,
          0.7633333333333333,
          0.8111228070175439,
          0.7633333333333333,
          0.8111228070175439,
          0.7631578947368419,
          0.8164210526315789,
          0.8137894736842105,
          0.8189473684210526,
          0.7633333333333333,
          0.8111228070175439,
          0.7633333333333333,
          0.8111228070175439,
          0.7631578947368419,
          0.8164210526315789,
          0.8137894736842105,
          0.8189473684210526
         ],
         "y0": " ",
         "yaxis": "y"
        },
        {
         "alignmentgroup": "True",
         "box": {
          "visible": true
         },
         "hovertemplate": "param_min_samples_leaf=%{x}<br>mean_test_score=%{y}<extra></extra>",
         "legendgroup": "10",
         "marker": {
          "color": "#EF553B"
         },
         "name": "10",
         "offsetgroup": "10",
         "orientation": "v",
         "points": "all",
         "scalegroup": "True",
         "showlegend": true,
         "type": "violin",
         "x": [
          10,
          10,
          10,
          10,
          10,
          10,
          10,
          10,
          10,
          10,
          10,
          10,
          10,
          10,
          10,
          10,
          10,
          10,
          10,
          10,
          10,
          10,
          10,
          10,
          10,
          10,
          10,
          10,
          10,
          10,
          10,
          10,
          10,
          10,
          10,
          10,
          10,
          10,
          10,
          10,
          10,
          10,
          10,
          10,
          10,
          10,
          10,
          10,
          10,
          10,
          10,
          10,
          10,
          10,
          10,
          10,
          10,
          10,
          10,
          10,
          10,
          10,
          10,
          10,
          10,
          10,
          10,
          10,
          10,
          10,
          10,
          10,
          10,
          10,
          10,
          10,
          10,
          10,
          10,
          10,
          10,
          10,
          10,
          10,
          10,
          10,
          10,
          10,
          10,
          10,
          10,
          10,
          10,
          10,
          10,
          10,
          10,
          10,
          10,
          10,
          10,
          10,
          10,
          10,
          10,
          10,
          10,
          10,
          10,
          10,
          10,
          10,
          10,
          10,
          10,
          10,
          10,
          10,
          10,
          10,
          10,
          10,
          10,
          10,
          10,
          10,
          10,
          10
         ],
         "x0": " ",
         "xaxis": "x",
         "y": [
          0.7552280701754385,
          0.7951578947368422,
          0.7552280701754385,
          0.7951578947368422,
          0.7552280701754385,
          0.7951578947368422,
          0.7552280701754385,
          0.7951578947368422,
          0.7552280701754385,
          0.7951578947368422,
          0.7552280701754385,
          0.7951578947368422,
          0.7552280701754385,
          0.7951578947368422,
          0.7552280701754385,
          0.7951578947368422,
          0.7365964912280701,
          0.8295438596491229,
          0.7365964912280701,
          0.8295438596491229,
          0.7365964912280701,
          0.8295438596491229,
          0.7365964912280701,
          0.8295438596491229,
          0.7365964912280701,
          0.8295438596491229,
          0.7365964912280701,
          0.8295438596491229,
          0.7365964912280701,
          0.8295438596491229,
          0.7365964912280701,
          0.8295438596491229,
          0.7365964912280701,
          0.8057192982456141,
          0.7365964912280701,
          0.8057192982456141,
          0.7365964912280701,
          0.8057192982456141,
          0.7365964912280701,
          0.8057192982456141,
          0.7365964912280701,
          0.8057192982456141,
          0.7365964912280701,
          0.8057192982456141,
          0.7365964912280701,
          0.8057192982456141,
          0.7365964912280701,
          0.8057192982456141,
          0.7365964912280701,
          0.8057192982456141,
          0.7365964912280701,
          0.8057192982456141,
          0.7365964912280701,
          0.8057192982456141,
          0.7365964912280701,
          0.8057192982456141,
          0.7365964912280701,
          0.8057192982456141,
          0.7365964912280701,
          0.8057192982456141,
          0.7365964912280701,
          0.8057192982456141,
          0.7365964912280701,
          0.8057192982456141,
          0.7391228070175438,
          0.782,
          0.7391228070175438,
          0.782,
          0.7391228070175438,
          0.782,
          0.7391228070175438,
          0.782,
          0.7391228070175438,
          0.782,
          0.7391228070175438,
          0.782,
          0.7391228070175438,
          0.782,
          0.7391228070175438,
          0.782,
          0.7470877192982457,
          0.8322105263157894,
          0.7470877192982457,
          0.8322105263157894,
          0.7470877192982457,
          0.8322105263157894,
          0.7470877192982457,
          0.8322105263157894,
          0.7470877192982457,
          0.8322105263157894,
          0.7470877192982457,
          0.8322105263157894,
          0.7470877192982457,
          0.8322105263157894,
          0.7470877192982457,
          0.8322105263157894,
          0.7684210526315789,
          0.8215789473684211,
          0.7684210526315789,
          0.8215789473684211,
          0.7684210526315789,
          0.8215789473684211,
          0.7684210526315789,
          0.8215789473684211,
          0.7684210526315789,
          0.8215789473684211,
          0.7684210526315789,
          0.8215789473684211,
          0.7684210526315789,
          0.8215789473684211,
          0.7684210526315789,
          0.8215789473684211,
          0.7684210526315789,
          0.8215789473684211,
          0.7684210526315789,
          0.8215789473684211,
          0.7684210526315789,
          0.8215789473684211,
          0.7684210526315789,
          0.8215789473684211,
          0.7684210526315789,
          0.8215789473684211,
          0.7684210526315789,
          0.8215789473684211,
          0.7684210526315789,
          0.8215789473684211,
          0.7684210526315789,
          0.8215789473684211
         ],
         "y0": " ",
         "yaxis": "y"
        },
        {
         "alignmentgroup": "True",
         "box": {
          "visible": true
         },
         "hovertemplate": "param_min_samples_leaf=%{x}<br>mean_test_score=%{y}<extra></extra>",
         "legendgroup": "15",
         "marker": {
          "color": "#00cc96"
         },
         "name": "15",
         "offsetgroup": "15",
         "orientation": "v",
         "points": "all",
         "scalegroup": "True",
         "showlegend": true,
         "type": "violin",
         "x": [
          15,
          15,
          15,
          15,
          15,
          15,
          15,
          15,
          15,
          15,
          15,
          15,
          15,
          15,
          15,
          15,
          15,
          15,
          15,
          15,
          15,
          15,
          15,
          15,
          15,
          15,
          15,
          15,
          15,
          15,
          15,
          15,
          15,
          15,
          15,
          15,
          15,
          15,
          15,
          15,
          15,
          15,
          15,
          15,
          15,
          15,
          15,
          15,
          15,
          15,
          15,
          15,
          15,
          15,
          15,
          15,
          15,
          15,
          15,
          15,
          15,
          15,
          15,
          15,
          15,
          15,
          15,
          15,
          15,
          15,
          15,
          15,
          15,
          15,
          15,
          15,
          15,
          15,
          15,
          15,
          15,
          15,
          15,
          15,
          15,
          15,
          15,
          15,
          15,
          15,
          15,
          15,
          15,
          15,
          15,
          15,
          15,
          15,
          15,
          15,
          15,
          15,
          15,
          15,
          15,
          15,
          15,
          15,
          15,
          15,
          15,
          15,
          15,
          15,
          15,
          15,
          15,
          15,
          15,
          15,
          15,
          15,
          15,
          15,
          15,
          15,
          15,
          15
         ],
         "x0": " ",
         "xaxis": "x",
         "y": [
          0.7525263157894736,
          0.8297192982456141,
          0.7525263157894736,
          0.8297192982456141,
          0.7525263157894736,
          0.8297192982456141,
          0.7525263157894736,
          0.8297192982456141,
          0.7525263157894736,
          0.8297192982456141,
          0.7525263157894736,
          0.8297192982456141,
          0.7525263157894736,
          0.8297192982456141,
          0.7525263157894736,
          0.8297192982456141,
          0.7631929824561403,
          0.8004561403508772,
          0.7631929824561403,
          0.8004561403508772,
          0.7631929824561403,
          0.8004561403508772,
          0.7631929824561403,
          0.8004561403508772,
          0.7631929824561403,
          0.8004561403508772,
          0.7631929824561403,
          0.8004561403508772,
          0.7631929824561403,
          0.8004561403508772,
          0.7631929824561403,
          0.8004561403508772,
          0.7631929824561403,
          0.7924561403508772,
          0.7631929824561403,
          0.7924561403508772,
          0.7631929824561403,
          0.7924561403508772,
          0.7631929824561403,
          0.7924561403508772,
          0.7631929824561403,
          0.7924561403508772,
          0.7631929824561403,
          0.7924561403508772,
          0.7631929824561403,
          0.7924561403508772,
          0.7631929824561403,
          0.7924561403508772,
          0.7631929824561403,
          0.7924561403508772,
          0.7631929824561403,
          0.7924561403508772,
          0.7631929824561403,
          0.7924561403508772,
          0.7631929824561403,
          0.7924561403508772,
          0.7631929824561403,
          0.7924561403508772,
          0.7631929824561403,
          0.7924561403508772,
          0.7631929824561403,
          0.7924561403508772,
          0.7631929824561403,
          0.7924561403508772,
          0.763157894736842,
          0.8060350877192983,
          0.763157894736842,
          0.8060350877192983,
          0.763157894736842,
          0.8060350877192983,
          0.763157894736842,
          0.8060350877192983,
          0.763157894736842,
          0.8060350877192983,
          0.763157894736842,
          0.8060350877192983,
          0.763157894736842,
          0.8060350877192983,
          0.763157894736842,
          0.8060350877192983,
          0.7501052631578948,
          0.7767719298245614,
          0.7501052631578948,
          0.7767719298245614,
          0.7501052631578948,
          0.7767719298245614,
          0.7501052631578948,
          0.7767719298245614,
          0.7501052631578948,
          0.7767719298245614,
          0.7501052631578948,
          0.7767719298245614,
          0.7501052631578948,
          0.7767719298245614,
          0.7501052631578948,
          0.7767719298245614,
          0.7501052631578948,
          0.7687719298245614,
          0.7501052631578948,
          0.7687719298245614,
          0.7501052631578948,
          0.7687719298245614,
          0.7501052631578948,
          0.7687719298245614,
          0.7501052631578948,
          0.7687719298245614,
          0.7501052631578948,
          0.7687719298245614,
          0.7501052631578948,
          0.7687719298245614,
          0.7501052631578948,
          0.7687719298245614,
          0.7501052631578948,
          0.7687719298245614,
          0.7501052631578948,
          0.7687719298245614,
          0.7501052631578948,
          0.7687719298245614,
          0.7501052631578948,
          0.7687719298245614,
          0.7501052631578948,
          0.7687719298245614,
          0.7501052631578948,
          0.7687719298245614,
          0.7501052631578948,
          0.7687719298245614,
          0.7501052631578948,
          0.7687719298245614
         ],
         "y0": " ",
         "yaxis": "y"
        },
        {
         "alignmentgroup": "True",
         "box": {
          "visible": true
         },
         "hovertemplate": "param_min_samples_leaf=%{x}<br>mean_test_score=%{y}<extra></extra>",
         "legendgroup": "20",
         "marker": {
          "color": "#ab63fa"
         },
         "name": "20",
         "offsetgroup": "20",
         "orientation": "v",
         "points": "all",
         "scalegroup": "True",
         "showlegend": true,
         "type": "violin",
         "x": [
          20,
          20,
          20,
          20,
          20,
          20,
          20,
          20,
          20,
          20,
          20,
          20,
          20,
          20,
          20,
          20,
          20,
          20,
          20,
          20,
          20,
          20,
          20,
          20,
          20,
          20,
          20,
          20,
          20,
          20,
          20,
          20,
          20,
          20,
          20,
          20,
          20,
          20,
          20,
          20,
          20,
          20,
          20,
          20,
          20,
          20,
          20,
          20,
          20,
          20,
          20,
          20,
          20,
          20,
          20,
          20,
          20,
          20,
          20,
          20,
          20,
          20,
          20,
          20,
          20,
          20,
          20,
          20,
          20,
          20,
          20,
          20,
          20,
          20,
          20,
          20,
          20,
          20,
          20,
          20,
          20,
          20,
          20,
          20,
          20,
          20,
          20,
          20,
          20,
          20,
          20,
          20,
          20,
          20,
          20,
          20,
          20,
          20,
          20,
          20,
          20,
          20,
          20,
          20,
          20,
          20,
          20,
          20,
          20,
          20,
          20,
          20,
          20,
          20,
          20,
          20,
          20,
          20,
          20,
          20,
          20,
          20,
          20,
          20,
          20,
          20,
          20,
          20
         ],
         "x0": " ",
         "xaxis": "x",
         "y": [
          0.7289122807017544,
          0.7603508771929823,
          0.7289122807017544,
          0.7603508771929823,
          0.7289122807017544,
          0.7603508771929823,
          0.7289122807017544,
          0.7603508771929823,
          0.7289122807017544,
          0.7603508771929823,
          0.7289122807017544,
          0.7603508771929823,
          0.7289122807017544,
          0.7603508771929823,
          0.7289122807017544,
          0.7603508771929823,
          0.7289122807017544,
          0.7469824561403509,
          0.7289122807017544,
          0.7469824561403509,
          0.7289122807017544,
          0.7469824561403509,
          0.7289122807017544,
          0.7469824561403509,
          0.7289122807017544,
          0.7469824561403509,
          0.7289122807017544,
          0.7469824561403509,
          0.7289122807017544,
          0.7469824561403509,
          0.7289122807017544,
          0.7469824561403509,
          0.7289122807017544,
          0.7469824561403509,
          0.7289122807017544,
          0.7469824561403509,
          0.7289122807017544,
          0.7469824561403509,
          0.7289122807017544,
          0.7469824561403509,
          0.7289122807017544,
          0.7469824561403509,
          0.7289122807017544,
          0.7469824561403509,
          0.7289122807017544,
          0.7469824561403509,
          0.7289122807017544,
          0.7469824561403509,
          0.7289122807017544,
          0.7469824561403509,
          0.7289122807017544,
          0.7469824561403509,
          0.7289122807017544,
          0.7469824561403509,
          0.7289122807017544,
          0.7469824561403509,
          0.7289122807017544,
          0.7469824561403509,
          0.7289122807017544,
          0.7469824561403509,
          0.7289122807017544,
          0.7469824561403509,
          0.7289122807017544,
          0.7469824561403509,
          0.7316140350877193,
          0.7208771929824562,
          0.7316140350877193,
          0.7208771929824562,
          0.7316140350877193,
          0.7208771929824562,
          0.7316140350877193,
          0.7208771929824562,
          0.7316140350877193,
          0.7208771929824562,
          0.7316140350877193,
          0.7208771929824562,
          0.7316140350877193,
          0.7208771929824562,
          0.7316140350877193,
          0.7208771929824562,
          0.7422456140350877,
          0.7368771929824561,
          0.7422456140350877,
          0.7368771929824561,
          0.7422456140350877,
          0.7368771929824561,
          0.7422456140350877,
          0.7368771929824561,
          0.7422456140350877,
          0.7368771929824561,
          0.7422456140350877,
          0.7368771929824561,
          0.7422456140350877,
          0.7368771929824561,
          0.7422456140350877,
          0.7368771929824561,
          0.7422456140350877,
          0.7368771929824561,
          0.7422456140350877,
          0.7368771929824561,
          0.7422456140350877,
          0.7368771929824561,
          0.7422456140350877,
          0.7368771929824561,
          0.7422456140350877,
          0.7368771929824561,
          0.7422456140350877,
          0.7368771929824561,
          0.7422456140350877,
          0.7368771929824561,
          0.7422456140350877,
          0.7368771929824561,
          0.7422456140350877,
          0.7368771929824561,
          0.7422456140350877,
          0.7368771929824561,
          0.7422456140350877,
          0.7368771929824561,
          0.7422456140350877,
          0.7368771929824561,
          0.7422456140350877,
          0.7368771929824561,
          0.7422456140350877,
          0.7368771929824561,
          0.7422456140350877,
          0.7368771929824561,
          0.7422456140350877,
          0.7368771929824561
         ],
         "y0": " ",
         "yaxis": "y"
        }
       ],
       "layout": {
        "legend": {
         "title": {
          "text": "param_min_samples_leaf"
         },
         "tracegroupgap": 0
        },
        "margin": {
         "t": 60
        },
        "template": {
         "data": {
          "bar": [
           {
            "error_x": {
             "color": "#2a3f5f"
            },
            "error_y": {
             "color": "#2a3f5f"
            },
            "marker": {
             "line": {
              "color": "#E5ECF6",
              "width": 0.5
             },
             "pattern": {
              "fillmode": "overlay",
              "size": 10,
              "solidity": 0.2
             }
            },
            "type": "bar"
           }
          ],
          "barpolar": [
           {
            "marker": {
             "line": {
              "color": "#E5ECF6",
              "width": 0.5
             },
             "pattern": {
              "fillmode": "overlay",
              "size": 10,
              "solidity": 0.2
             }
            },
            "type": "barpolar"
           }
          ],
          "carpet": [
           {
            "aaxis": {
             "endlinecolor": "#2a3f5f",
             "gridcolor": "white",
             "linecolor": "white",
             "minorgridcolor": "white",
             "startlinecolor": "#2a3f5f"
            },
            "baxis": {
             "endlinecolor": "#2a3f5f",
             "gridcolor": "white",
             "linecolor": "white",
             "minorgridcolor": "white",
             "startlinecolor": "#2a3f5f"
            },
            "type": "carpet"
           }
          ],
          "choropleth": [
           {
            "colorbar": {
             "outlinewidth": 0,
             "ticks": ""
            },
            "type": "choropleth"
           }
          ],
          "contour": [
           {
            "colorbar": {
             "outlinewidth": 0,
             "ticks": ""
            },
            "colorscale": [
             [
              0,
              "#0d0887"
             ],
             [
              0.1111111111111111,
              "#46039f"
             ],
             [
              0.2222222222222222,
              "#7201a8"
             ],
             [
              0.3333333333333333,
              "#9c179e"
             ],
             [
              0.4444444444444444,
              "#bd3786"
             ],
             [
              0.5555555555555556,
              "#d8576b"
             ],
             [
              0.6666666666666666,
              "#ed7953"
             ],
             [
              0.7777777777777778,
              "#fb9f3a"
             ],
             [
              0.8888888888888888,
              "#fdca26"
             ],
             [
              1,
              "#f0f921"
             ]
            ],
            "type": "contour"
           }
          ],
          "contourcarpet": [
           {
            "colorbar": {
             "outlinewidth": 0,
             "ticks": ""
            },
            "type": "contourcarpet"
           }
          ],
          "heatmap": [
           {
            "colorbar": {
             "outlinewidth": 0,
             "ticks": ""
            },
            "colorscale": [
             [
              0,
              "#0d0887"
             ],
             [
              0.1111111111111111,
              "#46039f"
             ],
             [
              0.2222222222222222,
              "#7201a8"
             ],
             [
              0.3333333333333333,
              "#9c179e"
             ],
             [
              0.4444444444444444,
              "#bd3786"
             ],
             [
              0.5555555555555556,
              "#d8576b"
             ],
             [
              0.6666666666666666,
              "#ed7953"
             ],
             [
              0.7777777777777778,
              "#fb9f3a"
             ],
             [
              0.8888888888888888,
              "#fdca26"
             ],
             [
              1,
              "#f0f921"
             ]
            ],
            "type": "heatmap"
           }
          ],
          "heatmapgl": [
           {
            "colorbar": {
             "outlinewidth": 0,
             "ticks": ""
            },
            "colorscale": [
             [
              0,
              "#0d0887"
             ],
             [
              0.1111111111111111,
              "#46039f"
             ],
             [
              0.2222222222222222,
              "#7201a8"
             ],
             [
              0.3333333333333333,
              "#9c179e"
             ],
             [
              0.4444444444444444,
              "#bd3786"
             ],
             [
              0.5555555555555556,
              "#d8576b"
             ],
             [
              0.6666666666666666,
              "#ed7953"
             ],
             [
              0.7777777777777778,
              "#fb9f3a"
             ],
             [
              0.8888888888888888,
              "#fdca26"
             ],
             [
              1,
              "#f0f921"
             ]
            ],
            "type": "heatmapgl"
           }
          ],
          "histogram": [
           {
            "marker": {
             "pattern": {
              "fillmode": "overlay",
              "size": 10,
              "solidity": 0.2
             }
            },
            "type": "histogram"
           }
          ],
          "histogram2d": [
           {
            "colorbar": {
             "outlinewidth": 0,
             "ticks": ""
            },
            "colorscale": [
             [
              0,
              "#0d0887"
             ],
             [
              0.1111111111111111,
              "#46039f"
             ],
             [
              0.2222222222222222,
              "#7201a8"
             ],
             [
              0.3333333333333333,
              "#9c179e"
             ],
             [
              0.4444444444444444,
              "#bd3786"
             ],
             [
              0.5555555555555556,
              "#d8576b"
             ],
             [
              0.6666666666666666,
              "#ed7953"
             ],
             [
              0.7777777777777778,
              "#fb9f3a"
             ],
             [
              0.8888888888888888,
              "#fdca26"
             ],
             [
              1,
              "#f0f921"
             ]
            ],
            "type": "histogram2d"
           }
          ],
          "histogram2dcontour": [
           {
            "colorbar": {
             "outlinewidth": 0,
             "ticks": ""
            },
            "colorscale": [
             [
              0,
              "#0d0887"
             ],
             [
              0.1111111111111111,
              "#46039f"
             ],
             [
              0.2222222222222222,
              "#7201a8"
             ],
             [
              0.3333333333333333,
              "#9c179e"
             ],
             [
              0.4444444444444444,
              "#bd3786"
             ],
             [
              0.5555555555555556,
              "#d8576b"
             ],
             [
              0.6666666666666666,
              "#ed7953"
             ],
             [
              0.7777777777777778,
              "#fb9f3a"
             ],
             [
              0.8888888888888888,
              "#fdca26"
             ],
             [
              1,
              "#f0f921"
             ]
            ],
            "type": "histogram2dcontour"
           }
          ],
          "mesh3d": [
           {
            "colorbar": {
             "outlinewidth": 0,
             "ticks": ""
            },
            "type": "mesh3d"
           }
          ],
          "parcoords": [
           {
            "line": {
             "colorbar": {
              "outlinewidth": 0,
              "ticks": ""
             }
            },
            "type": "parcoords"
           }
          ],
          "pie": [
           {
            "automargin": true,
            "type": "pie"
           }
          ],
          "scatter": [
           {
            "fillpattern": {
             "fillmode": "overlay",
             "size": 10,
             "solidity": 0.2
            },
            "type": "scatter"
           }
          ],
          "scatter3d": [
           {
            "line": {
             "colorbar": {
              "outlinewidth": 0,
              "ticks": ""
             }
            },
            "marker": {
             "colorbar": {
              "outlinewidth": 0,
              "ticks": ""
             }
            },
            "type": "scatter3d"
           }
          ],
          "scattercarpet": [
           {
            "marker": {
             "colorbar": {
              "outlinewidth": 0,
              "ticks": ""
             }
            },
            "type": "scattercarpet"
           }
          ],
          "scattergeo": [
           {
            "marker": {
             "colorbar": {
              "outlinewidth": 0,
              "ticks": ""
             }
            },
            "type": "scattergeo"
           }
          ],
          "scattergl": [
           {
            "marker": {
             "colorbar": {
              "outlinewidth": 0,
              "ticks": ""
             }
            },
            "type": "scattergl"
           }
          ],
          "scattermapbox": [
           {
            "marker": {
             "colorbar": {
              "outlinewidth": 0,
              "ticks": ""
             }
            },
            "type": "scattermapbox"
           }
          ],
          "scatterpolar": [
           {
            "marker": {
             "colorbar": {
              "outlinewidth": 0,
              "ticks": ""
             }
            },
            "type": "scatterpolar"
           }
          ],
          "scatterpolargl": [
           {
            "marker": {
             "colorbar": {
              "outlinewidth": 0,
              "ticks": ""
             }
            },
            "type": "scatterpolargl"
           }
          ],
          "scatterternary": [
           {
            "marker": {
             "colorbar": {
              "outlinewidth": 0,
              "ticks": ""
             }
            },
            "type": "scatterternary"
           }
          ],
          "surface": [
           {
            "colorbar": {
             "outlinewidth": 0,
             "ticks": ""
            },
            "colorscale": [
             [
              0,
              "#0d0887"
             ],
             [
              0.1111111111111111,
              "#46039f"
             ],
             [
              0.2222222222222222,
              "#7201a8"
             ],
             [
              0.3333333333333333,
              "#9c179e"
             ],
             [
              0.4444444444444444,
              "#bd3786"
             ],
             [
              0.5555555555555556,
              "#d8576b"
             ],
             [
              0.6666666666666666,
              "#ed7953"
             ],
             [
              0.7777777777777778,
              "#fb9f3a"
             ],
             [
              0.8888888888888888,
              "#fdca26"
             ],
             [
              1,
              "#f0f921"
             ]
            ],
            "type": "surface"
           }
          ],
          "table": [
           {
            "cells": {
             "fill": {
              "color": "#EBF0F8"
             },
             "line": {
              "color": "white"
             }
            },
            "header": {
             "fill": {
              "color": "#C8D4E3"
             },
             "line": {
              "color": "white"
             }
            },
            "type": "table"
           }
          ]
         },
         "layout": {
          "annotationdefaults": {
           "arrowcolor": "#2a3f5f",
           "arrowhead": 0,
           "arrowwidth": 1
          },
          "autotypenumbers": "strict",
          "coloraxis": {
           "colorbar": {
            "outlinewidth": 0,
            "ticks": ""
           }
          },
          "colorscale": {
           "diverging": [
            [
             0,
             "#8e0152"
            ],
            [
             0.1,
             "#c51b7d"
            ],
            [
             0.2,
             "#de77ae"
            ],
            [
             0.3,
             "#f1b6da"
            ],
            [
             0.4,
             "#fde0ef"
            ],
            [
             0.5,
             "#f7f7f7"
            ],
            [
             0.6,
             "#e6f5d0"
            ],
            [
             0.7,
             "#b8e186"
            ],
            [
             0.8,
             "#7fbc41"
            ],
            [
             0.9,
             "#4d9221"
            ],
            [
             1,
             "#276419"
            ]
           ],
           "sequential": [
            [
             0,
             "#0d0887"
            ],
            [
             0.1111111111111111,
             "#46039f"
            ],
            [
             0.2222222222222222,
             "#7201a8"
            ],
            [
             0.3333333333333333,
             "#9c179e"
            ],
            [
             0.4444444444444444,
             "#bd3786"
            ],
            [
             0.5555555555555556,
             "#d8576b"
            ],
            [
             0.6666666666666666,
             "#ed7953"
            ],
            [
             0.7777777777777778,
             "#fb9f3a"
            ],
            [
             0.8888888888888888,
             "#fdca26"
            ],
            [
             1,
             "#f0f921"
            ]
           ],
           "sequentialminus": [
            [
             0,
             "#0d0887"
            ],
            [
             0.1111111111111111,
             "#46039f"
            ],
            [
             0.2222222222222222,
             "#7201a8"
            ],
            [
             0.3333333333333333,
             "#9c179e"
            ],
            [
             0.4444444444444444,
             "#bd3786"
            ],
            [
             0.5555555555555556,
             "#d8576b"
            ],
            [
             0.6666666666666666,
             "#ed7953"
            ],
            [
             0.7777777777777778,
             "#fb9f3a"
            ],
            [
             0.8888888888888888,
             "#fdca26"
            ],
            [
             1,
             "#f0f921"
            ]
           ]
          },
          "colorway": [
           "#636efa",
           "#EF553B",
           "#00cc96",
           "#ab63fa",
           "#FFA15A",
           "#19d3f3",
           "#FF6692",
           "#B6E880",
           "#FF97FF",
           "#FECB52"
          ],
          "font": {
           "color": "#2a3f5f"
          },
          "geo": {
           "bgcolor": "white",
           "lakecolor": "white",
           "landcolor": "#E5ECF6",
           "showlakes": true,
           "showland": true,
           "subunitcolor": "white"
          },
          "hoverlabel": {
           "align": "left"
          },
          "hovermode": "closest",
          "mapbox": {
           "style": "light"
          },
          "paper_bgcolor": "white",
          "plot_bgcolor": "#E5ECF6",
          "polar": {
           "angularaxis": {
            "gridcolor": "white",
            "linecolor": "white",
            "ticks": ""
           },
           "bgcolor": "#E5ECF6",
           "radialaxis": {
            "gridcolor": "white",
            "linecolor": "white",
            "ticks": ""
           }
          },
          "scene": {
           "xaxis": {
            "backgroundcolor": "#E5ECF6",
            "gridcolor": "white",
            "gridwidth": 2,
            "linecolor": "white",
            "showbackground": true,
            "ticks": "",
            "zerolinecolor": "white"
           },
           "yaxis": {
            "backgroundcolor": "#E5ECF6",
            "gridcolor": "white",
            "gridwidth": 2,
            "linecolor": "white",
            "showbackground": true,
            "ticks": "",
            "zerolinecolor": "white"
           },
           "zaxis": {
            "backgroundcolor": "#E5ECF6",
            "gridcolor": "white",
            "gridwidth": 2,
            "linecolor": "white",
            "showbackground": true,
            "ticks": "",
            "zerolinecolor": "white"
           }
          },
          "shapedefaults": {
           "line": {
            "color": "#2a3f5f"
           }
          },
          "ternary": {
           "aaxis": {
            "gridcolor": "white",
            "linecolor": "white",
            "ticks": ""
           },
           "baxis": {
            "gridcolor": "white",
            "linecolor": "white",
            "ticks": ""
           },
           "bgcolor": "#E5ECF6",
           "caxis": {
            "gridcolor": "white",
            "linecolor": "white",
            "ticks": ""
           }
          },
          "title": {
           "x": 0.05
          },
          "xaxis": {
           "automargin": true,
           "gridcolor": "white",
           "linecolor": "white",
           "ticks": "",
           "title": {
            "standoff": 15
           },
           "zerolinecolor": "white",
           "zerolinewidth": 2
          },
          "yaxis": {
           "automargin": true,
           "gridcolor": "white",
           "linecolor": "white",
           "ticks": "",
           "title": {
            "standoff": 15
           },
           "zerolinecolor": "white",
           "zerolinewidth": 2
          }
         }
        },
        "violinmode": "overlay",
        "xaxis": {
         "anchor": "y",
         "categoryarray": [
          5,
          10,
          15,
          20
         ],
         "categoryorder": "array",
         "domain": [
          0,
          1
         ],
         "title": {
          "text": "param_min_samples_leaf"
         }
        },
        "yaxis": {
         "anchor": "x",
         "domain": [
          0,
          1
         ],
         "title": {
          "text": "mean_test_score"
         }
        }
       }
      }
     },
     "metadata": {},
     "output_type": "display_data"
    }
   ],
   "source": [
    "num_cat_hip(cv_results, 'param_min_samples_leaf', 'mean_test_score')"
   ]
  },
  {
   "cell_type": "markdown",
   "id": "be671b02",
   "metadata": {},
   "source": [
    "## in Logistic Regression"
   ]
  },
  {
   "cell_type": "code",
   "execution_count": 12,
   "id": "6b510672",
   "metadata": {},
   "outputs": [
    {
     "data": {
      "text/html": [
       "<style>#sk-container-id-2 {color: black;background-color: white;}#sk-container-id-2 pre{padding: 0;}#sk-container-id-2 div.sk-toggleable {background-color: white;}#sk-container-id-2 label.sk-toggleable__label {cursor: pointer;display: block;width: 100%;margin-bottom: 0;padding: 0.3em;box-sizing: border-box;text-align: center;}#sk-container-id-2 label.sk-toggleable__label-arrow:before {content: \"▸\";float: left;margin-right: 0.25em;color: #696969;}#sk-container-id-2 label.sk-toggleable__label-arrow:hover:before {color: black;}#sk-container-id-2 div.sk-estimator:hover label.sk-toggleable__label-arrow:before {color: black;}#sk-container-id-2 div.sk-toggleable__content {max-height: 0;max-width: 0;overflow: hidden;text-align: left;background-color: #f0f8ff;}#sk-container-id-2 div.sk-toggleable__content pre {margin: 0.2em;color: black;border-radius: 0.25em;background-color: #f0f8ff;}#sk-container-id-2 input.sk-toggleable__control:checked~div.sk-toggleable__content {max-height: 200px;max-width: 100%;overflow: auto;}#sk-container-id-2 input.sk-toggleable__control:checked~label.sk-toggleable__label-arrow:before {content: \"▾\";}#sk-container-id-2 div.sk-estimator input.sk-toggleable__control:checked~label.sk-toggleable__label {background-color: #d4ebff;}#sk-container-id-2 div.sk-label input.sk-toggleable__control:checked~label.sk-toggleable__label {background-color: #d4ebff;}#sk-container-id-2 input.sk-hidden--visually {border: 0;clip: rect(1px 1px 1px 1px);clip: rect(1px, 1px, 1px, 1px);height: 1px;margin: -1px;overflow: hidden;padding: 0;position: absolute;width: 1px;}#sk-container-id-2 div.sk-estimator {font-family: monospace;background-color: #f0f8ff;border: 1px dotted black;border-radius: 0.25em;box-sizing: border-box;margin-bottom: 0.5em;}#sk-container-id-2 div.sk-estimator:hover {background-color: #d4ebff;}#sk-container-id-2 div.sk-parallel-item::after {content: \"\";width: 100%;border-bottom: 1px solid gray;flex-grow: 1;}#sk-container-id-2 div.sk-label:hover label.sk-toggleable__label {background-color: #d4ebff;}#sk-container-id-2 div.sk-serial::before {content: \"\";position: absolute;border-left: 1px solid gray;box-sizing: border-box;top: 0;bottom: 0;left: 50%;z-index: 0;}#sk-container-id-2 div.sk-serial {display: flex;flex-direction: column;align-items: center;background-color: white;padding-right: 0.2em;padding-left: 0.2em;position: relative;}#sk-container-id-2 div.sk-item {position: relative;z-index: 1;}#sk-container-id-2 div.sk-parallel {display: flex;align-items: stretch;justify-content: center;background-color: white;position: relative;}#sk-container-id-2 div.sk-item::before, #sk-container-id-2 div.sk-parallel-item::before {content: \"\";position: absolute;border-left: 1px solid gray;box-sizing: border-box;top: 0;bottom: 0;left: 50%;z-index: -1;}#sk-container-id-2 div.sk-parallel-item {display: flex;flex-direction: column;z-index: 1;position: relative;background-color: white;}#sk-container-id-2 div.sk-parallel-item:first-child::after {align-self: flex-end;width: 50%;}#sk-container-id-2 div.sk-parallel-item:last-child::after {align-self: flex-start;width: 50%;}#sk-container-id-2 div.sk-parallel-item:only-child::after {width: 0;}#sk-container-id-2 div.sk-dashed-wrapped {border: 1px dashed gray;margin: 0 0.4em 0.5em 0.4em;box-sizing: border-box;padding-bottom: 0.4em;background-color: white;}#sk-container-id-2 div.sk-label label {font-family: monospace;font-weight: bold;display: inline-block;line-height: 1.2em;}#sk-container-id-2 div.sk-label-container {text-align: center;}#sk-container-id-2 div.sk-container {/* jupyter's `normalize.less` sets `[hidden] { display: none; }` but bootstrap.min.css set `[hidden] { display: none !important; }` so we also need the `!important` here to be able to override the default hidden behavior on the sphinx rendered scikit-learn.org. See: https://github.com/scikit-learn/scikit-learn/issues/21755 */display: inline-block !important;position: relative;}#sk-container-id-2 div.sk-text-repr-fallback {display: none;}</style><div id=\"sk-container-id-2\" class=\"sk-top-container\"><div class=\"sk-text-repr-fallback\"><pre>GridSearchCV(cv=StratifiedKFold(n_splits=5, random_state=3141592, shuffle=True),\n",
       "             estimator=Pipeline(steps=[(&#x27;standardscaler&#x27;, StandardScaler()),\n",
       "                                       (&#x27;logisticregression&#x27;,\n",
       "                                        LogisticRegression())]),\n",
       "             n_jobs=-1,\n",
       "             param_grid=[{&#x27;logisticregression__C&#x27;: [0.001, 0.01, 0.1, 1, 10],\n",
       "                          &#x27;logisticregression__max_iter&#x27;: array([100, 150, 200, 250, 300]),\n",
       "                          &#x27;logisticregression__penalty&#x27;: [&#x27;l2&#x27;],\n",
       "                          &#x27;logisticregression__solver&#x27;: [&#x27;newton-cg&#x27;, &#x27;lbfgs&#x27;]},\n",
       "                         {&#x27;logisticregression__C&#x27;: [0.001, 0.01, 0.1, 1, 10],\n",
       "                          &#x27;logisticregression__max_iter&#x27;: array([100, 150, 200, 250, 300]),\n",
       "                          &#x27;logisticregression__penalty&#x27;: [&#x27;l1&#x27;, &#x27;l2&#x27;],\n",
       "                          &#x27;logisticregression__solver&#x27;: [&#x27;liblinear&#x27;]}],\n",
       "             scoring=&#x27;recall&#x27;)</pre><b>In a Jupyter environment, please rerun this cell to show the HTML representation or trust the notebook. <br />On GitHub, the HTML representation is unable to render, please try loading this page with nbviewer.org.</b></div><div class=\"sk-container\" hidden><div class=\"sk-item sk-dashed-wrapped\"><div class=\"sk-label-container\"><div class=\"sk-label sk-toggleable\"><input class=\"sk-toggleable__control sk-hidden--visually\" id=\"sk-estimator-id-4\" type=\"checkbox\" ><label for=\"sk-estimator-id-4\" class=\"sk-toggleable__label sk-toggleable__label-arrow\">GridSearchCV</label><div class=\"sk-toggleable__content\"><pre>GridSearchCV(cv=StratifiedKFold(n_splits=5, random_state=3141592, shuffle=True),\n",
       "             estimator=Pipeline(steps=[(&#x27;standardscaler&#x27;, StandardScaler()),\n",
       "                                       (&#x27;logisticregression&#x27;,\n",
       "                                        LogisticRegression())]),\n",
       "             n_jobs=-1,\n",
       "             param_grid=[{&#x27;logisticregression__C&#x27;: [0.001, 0.01, 0.1, 1, 10],\n",
       "                          &#x27;logisticregression__max_iter&#x27;: array([100, 150, 200, 250, 300]),\n",
       "                          &#x27;logisticregression__penalty&#x27;: [&#x27;l2&#x27;],\n",
       "                          &#x27;logisticregression__solver&#x27;: [&#x27;newton-cg&#x27;, &#x27;lbfgs&#x27;]},\n",
       "                         {&#x27;logisticregression__C&#x27;: [0.001, 0.01, 0.1, 1, 10],\n",
       "                          &#x27;logisticregression__max_iter&#x27;: array([100, 150, 200, 250, 300]),\n",
       "                          &#x27;logisticregression__penalty&#x27;: [&#x27;l1&#x27;, &#x27;l2&#x27;],\n",
       "                          &#x27;logisticregression__solver&#x27;: [&#x27;liblinear&#x27;]}],\n",
       "             scoring=&#x27;recall&#x27;)</pre></div></div></div><div class=\"sk-parallel\"><div class=\"sk-parallel-item\"><div class=\"sk-item\"><div class=\"sk-label-container\"><div class=\"sk-label sk-toggleable\"><input class=\"sk-toggleable__control sk-hidden--visually\" id=\"sk-estimator-id-5\" type=\"checkbox\" ><label for=\"sk-estimator-id-5\" class=\"sk-toggleable__label sk-toggleable__label-arrow\">estimator: Pipeline</label><div class=\"sk-toggleable__content\"><pre>Pipeline(steps=[(&#x27;standardscaler&#x27;, StandardScaler()),\n",
       "                (&#x27;logisticregression&#x27;, LogisticRegression())])</pre></div></div></div><div class=\"sk-serial\"><div class=\"sk-item\"><div class=\"sk-serial\"><div class=\"sk-item\"><div class=\"sk-estimator sk-toggleable\"><input class=\"sk-toggleable__control sk-hidden--visually\" id=\"sk-estimator-id-6\" type=\"checkbox\" ><label for=\"sk-estimator-id-6\" class=\"sk-toggleable__label sk-toggleable__label-arrow\">StandardScaler</label><div class=\"sk-toggleable__content\"><pre>StandardScaler()</pre></div></div></div><div class=\"sk-item\"><div class=\"sk-estimator sk-toggleable\"><input class=\"sk-toggleable__control sk-hidden--visually\" id=\"sk-estimator-id-7\" type=\"checkbox\" ><label for=\"sk-estimator-id-7\" class=\"sk-toggleable__label sk-toggleable__label-arrow\">LogisticRegression</label><div class=\"sk-toggleable__content\"><pre>LogisticRegression()</pre></div></div></div></div></div></div></div></div></div></div></div></div>"
      ],
      "text/plain": [
       "GridSearchCV(cv=StratifiedKFold(n_splits=5, random_state=3141592, shuffle=True),\n",
       "             estimator=Pipeline(steps=[('standardscaler', StandardScaler()),\n",
       "                                       ('logisticregression',\n",
       "                                        LogisticRegression())]),\n",
       "             n_jobs=-1,\n",
       "             param_grid=[{'logisticregression__C': [0.001, 0.01, 0.1, 1, 10],\n",
       "                          'logisticregression__max_iter': array([100, 150, 200, 250, 300]),\n",
       "                          'logisticregression__penalty': ['l2'],\n",
       "                          'logisticregression__solver': ['newton-cg', 'lbfgs']},\n",
       "                         {'logisticregression__C': [0.001, 0.01, 0.1, 1, 10],\n",
       "                          'logisticregression__max_iter': array([100, 150, 200, 250, 300]),\n",
       "                          'logisticregression__penalty': ['l1', 'l2'],\n",
       "                          'logisticregression__solver': ['liblinear']}],\n",
       "             scoring='recall')"
      ]
     },
     "execution_count": 12,
     "metadata": {},
     "output_type": "execute_result"
    }
   ],
   "source": [
    "max_iter = np.linspace(100, 300, 5, dtype=int)\n",
    "c = [0.001, 0.01, 0.1, 1, 10]\n",
    "\n",
    "param_grid_lr = [  # Define duas grades distintas de hiperparâmetros\n",
    "    {   # Primeira grade para os solvers newton-cg e lbfgs\n",
    "        'logisticregression__solver': ['newton-cg', 'lbfgs'],  # Solvers para otimização\n",
    "        'logisticregression__penalty': ['l2'],  # Penalidade L2 para regularização\n",
    "        'logisticregression__max_iter': max_iter,  # Número máximo de iterações para a convergência do solver\n",
    "        'logisticregression__C': c  # Parâmetro de regularização inverso; valores menores especificam regularização mais forte\n",
    "    },\n",
    "    {   # Segunda grade para o solver liblinear\n",
    "        'logisticregression__solver': ['liblinear'],  # Solver que suporta regularização L1\n",
    "        'logisticregression__penalty': ['l1', 'l2'],  # Penalidades L1 e L2 para regularização\n",
    "        'logisticregression__max_iter': max_iter,  # Número máximo de iterações para a convergência do solver\n",
    "        'logisticregression__C': c  # Parâmetro de regularização inverso; valores menores especificam regularização mais forte\n",
    "    },\n",
    "]\n",
    "\n",
    "from sklearn.model_selection import StratifiedKFold\n",
    "cv = StratifiedKFold(n_splits=5, \n",
    "                     shuffle=True, # embarelhamento dos dados\n",
    "                     random_state=RANDOM_STATE)\n",
    "\n",
    "grid_search = GridSearchCV(\n",
    "    estimator = make_pipeline(StandardScaler(), LogisticRegression()),\n",
    "    param_grid = param_grid_lr,\n",
    "    scoring = \"recall\",\n",
    "    n_jobs = -1,\n",
    "    cv = cv)\n",
    "\n",
    "grid_search.fit(x_treino, y_treino)"
   ]
  },
  {
   "cell_type": "code",
   "execution_count": 13,
   "id": "487bf251",
   "metadata": {},
   "outputs": [
    {
     "data": {
      "text/html": [
       "<div>\n",
       "<style scoped>\n",
       "    .dataframe tbody tr th:only-of-type {\n",
       "        vertical-align: middle;\n",
       "    }\n",
       "\n",
       "    .dataframe tbody tr th {\n",
       "        vertical-align: top;\n",
       "    }\n",
       "\n",
       "    .dataframe thead th {\n",
       "        text-align: right;\n",
       "    }\n",
       "</style>\n",
       "<table border=\"1\" class=\"dataframe\">\n",
       "  <thead>\n",
       "    <tr style=\"text-align: right;\">\n",
       "      <th></th>\n",
       "      <th>0</th>\n",
       "      <th>1</th>\n",
       "      <th>2</th>\n",
       "      <th>3</th>\n",
       "      <th>4</th>\n",
       "    </tr>\n",
       "  </thead>\n",
       "  <tbody>\n",
       "    <tr>\n",
       "      <th>mean_fit_time</th>\n",
       "      <td>0.018525</td>\n",
       "      <td>0.013237</td>\n",
       "      <td>0.003163</td>\n",
       "      <td>0.00208</td>\n",
       "      <td>0.002663</td>\n",
       "    </tr>\n",
       "    <tr>\n",
       "      <th>std_fit_time</th>\n",
       "      <td>0.001602</td>\n",
       "      <td>0.006835</td>\n",
       "      <td>0.000832</td>\n",
       "      <td>0.003277</td>\n",
       "      <td>0.003378</td>\n",
       "    </tr>\n",
       "    <tr>\n",
       "      <th>mean_score_time</th>\n",
       "      <td>0.0016</td>\n",
       "      <td>0.001503</td>\n",
       "      <td>0.00084</td>\n",
       "      <td>0.0</td>\n",
       "      <td>0.003565</td>\n",
       "    </tr>\n",
       "    <tr>\n",
       "      <th>std_score_time</th>\n",
       "      <td>0.00049</td>\n",
       "      <td>0.000449</td>\n",
       "      <td>0.001141</td>\n",
       "      <td>0.0</td>\n",
       "      <td>0.003402</td>\n",
       "    </tr>\n",
       "    <tr>\n",
       "      <th>param_logisticregression__C</th>\n",
       "      <td>0.001</td>\n",
       "      <td>0.001</td>\n",
       "      <td>0.001</td>\n",
       "      <td>0.001</td>\n",
       "      <td>0.001</td>\n",
       "    </tr>\n",
       "    <tr>\n",
       "      <th>param_logisticregression__max_iter</th>\n",
       "      <td>100</td>\n",
       "      <td>100</td>\n",
       "      <td>150</td>\n",
       "      <td>150</td>\n",
       "      <td>200</td>\n",
       "    </tr>\n",
       "    <tr>\n",
       "      <th>param_logisticregression__penalty</th>\n",
       "      <td>l2</td>\n",
       "      <td>l2</td>\n",
       "      <td>l2</td>\n",
       "      <td>l2</td>\n",
       "      <td>l2</td>\n",
       "    </tr>\n",
       "    <tr>\n",
       "      <th>param_logisticregression__solver</th>\n",
       "      <td>newton-cg</td>\n",
       "      <td>lbfgs</td>\n",
       "      <td>newton-cg</td>\n",
       "      <td>lbfgs</td>\n",
       "      <td>newton-cg</td>\n",
       "    </tr>\n",
       "    <tr>\n",
       "      <th>params</th>\n",
       "      <td>{'logisticregression__C': 0.001, 'logisticregr...</td>\n",
       "      <td>{'logisticregression__C': 0.001, 'logisticregr...</td>\n",
       "      <td>{'logisticregression__C': 0.001, 'logisticregr...</td>\n",
       "      <td>{'logisticregression__C': 0.001, 'logisticregr...</td>\n",
       "      <td>{'logisticregression__C': 0.001, 'logisticregr...</td>\n",
       "    </tr>\n",
       "    <tr>\n",
       "      <th>split0_test_score</th>\n",
       "      <td>0.921053</td>\n",
       "      <td>0.921053</td>\n",
       "      <td>0.921053</td>\n",
       "      <td>0.921053</td>\n",
       "      <td>0.921053</td>\n",
       "    </tr>\n",
       "    <tr>\n",
       "      <th>split1_test_score</th>\n",
       "      <td>0.946667</td>\n",
       "      <td>0.946667</td>\n",
       "      <td>0.946667</td>\n",
       "      <td>0.946667</td>\n",
       "      <td>0.946667</td>\n",
       "    </tr>\n",
       "    <tr>\n",
       "      <th>split2_test_score</th>\n",
       "      <td>0.96</td>\n",
       "      <td>0.96</td>\n",
       "      <td>0.96</td>\n",
       "      <td>0.96</td>\n",
       "      <td>0.96</td>\n",
       "    </tr>\n",
       "    <tr>\n",
       "      <th>split3_test_score</th>\n",
       "      <td>0.92</td>\n",
       "      <td>0.92</td>\n",
       "      <td>0.92</td>\n",
       "      <td>0.92</td>\n",
       "      <td>0.92</td>\n",
       "    </tr>\n",
       "    <tr>\n",
       "      <th>split4_test_score</th>\n",
       "      <td>0.906667</td>\n",
       "      <td>0.906667</td>\n",
       "      <td>0.906667</td>\n",
       "      <td>0.906667</td>\n",
       "      <td>0.906667</td>\n",
       "    </tr>\n",
       "    <tr>\n",
       "      <th>mean_test_score</th>\n",
       "      <td>0.930877</td>\n",
       "      <td>0.930877</td>\n",
       "      <td>0.930877</td>\n",
       "      <td>0.930877</td>\n",
       "      <td>0.930877</td>\n",
       "    </tr>\n",
       "    <tr>\n",
       "      <th>std_test_score</th>\n",
       "      <td>0.019486</td>\n",
       "      <td>0.019486</td>\n",
       "      <td>0.019486</td>\n",
       "      <td>0.019486</td>\n",
       "      <td>0.019486</td>\n",
       "    </tr>\n",
       "    <tr>\n",
       "      <th>rank_test_score</th>\n",
       "      <td>1</td>\n",
       "      <td>1</td>\n",
       "      <td>1</td>\n",
       "      <td>1</td>\n",
       "      <td>1</td>\n",
       "    </tr>\n",
       "  </tbody>\n",
       "</table>\n",
       "</div>"
      ],
      "text/plain": [
       "                                                                                    0  \\\n",
       "mean_fit_time                                                                0.018525   \n",
       "std_fit_time                                                                 0.001602   \n",
       "mean_score_time                                                                0.0016   \n",
       "std_score_time                                                                0.00049   \n",
       "param_logisticregression__C                                                     0.001   \n",
       "param_logisticregression__max_iter                                                100   \n",
       "param_logisticregression__penalty                                                  l2   \n",
       "param_logisticregression__solver                                            newton-cg   \n",
       "params                              {'logisticregression__C': 0.001, 'logisticregr...   \n",
       "split0_test_score                                                            0.921053   \n",
       "split1_test_score                                                            0.946667   \n",
       "split2_test_score                                                                0.96   \n",
       "split3_test_score                                                                0.92   \n",
       "split4_test_score                                                            0.906667   \n",
       "mean_test_score                                                              0.930877   \n",
       "std_test_score                                                               0.019486   \n",
       "rank_test_score                                                                     1   \n",
       "\n",
       "                                                                                    1  \\\n",
       "mean_fit_time                                                                0.013237   \n",
       "std_fit_time                                                                 0.006835   \n",
       "mean_score_time                                                              0.001503   \n",
       "std_score_time                                                               0.000449   \n",
       "param_logisticregression__C                                                     0.001   \n",
       "param_logisticregression__max_iter                                                100   \n",
       "param_logisticregression__penalty                                                  l2   \n",
       "param_logisticregression__solver                                                lbfgs   \n",
       "params                              {'logisticregression__C': 0.001, 'logisticregr...   \n",
       "split0_test_score                                                            0.921053   \n",
       "split1_test_score                                                            0.946667   \n",
       "split2_test_score                                                                0.96   \n",
       "split3_test_score                                                                0.92   \n",
       "split4_test_score                                                            0.906667   \n",
       "mean_test_score                                                              0.930877   \n",
       "std_test_score                                                               0.019486   \n",
       "rank_test_score                                                                     1   \n",
       "\n",
       "                                                                                    2  \\\n",
       "mean_fit_time                                                                0.003163   \n",
       "std_fit_time                                                                 0.000832   \n",
       "mean_score_time                                                               0.00084   \n",
       "std_score_time                                                               0.001141   \n",
       "param_logisticregression__C                                                     0.001   \n",
       "param_logisticregression__max_iter                                                150   \n",
       "param_logisticregression__penalty                                                  l2   \n",
       "param_logisticregression__solver                                            newton-cg   \n",
       "params                              {'logisticregression__C': 0.001, 'logisticregr...   \n",
       "split0_test_score                                                            0.921053   \n",
       "split1_test_score                                                            0.946667   \n",
       "split2_test_score                                                                0.96   \n",
       "split3_test_score                                                                0.92   \n",
       "split4_test_score                                                            0.906667   \n",
       "mean_test_score                                                              0.930877   \n",
       "std_test_score                                                               0.019486   \n",
       "rank_test_score                                                                     1   \n",
       "\n",
       "                                                                                    3  \\\n",
       "mean_fit_time                                                                 0.00208   \n",
       "std_fit_time                                                                 0.003277   \n",
       "mean_score_time                                                                   0.0   \n",
       "std_score_time                                                                    0.0   \n",
       "param_logisticregression__C                                                     0.001   \n",
       "param_logisticregression__max_iter                                                150   \n",
       "param_logisticregression__penalty                                                  l2   \n",
       "param_logisticregression__solver                                                lbfgs   \n",
       "params                              {'logisticregression__C': 0.001, 'logisticregr...   \n",
       "split0_test_score                                                            0.921053   \n",
       "split1_test_score                                                            0.946667   \n",
       "split2_test_score                                                                0.96   \n",
       "split3_test_score                                                                0.92   \n",
       "split4_test_score                                                            0.906667   \n",
       "mean_test_score                                                              0.930877   \n",
       "std_test_score                                                               0.019486   \n",
       "rank_test_score                                                                     1   \n",
       "\n",
       "                                                                                    4  \n",
       "mean_fit_time                                                                0.002663  \n",
       "std_fit_time                                                                 0.003378  \n",
       "mean_score_time                                                              0.003565  \n",
       "std_score_time                                                               0.003402  \n",
       "param_logisticregression__C                                                     0.001  \n",
       "param_logisticregression__max_iter                                                200  \n",
       "param_logisticregression__penalty                                                  l2  \n",
       "param_logisticregression__solver                                            newton-cg  \n",
       "params                              {'logisticregression__C': 0.001, 'logisticregr...  \n",
       "split0_test_score                                                            0.921053  \n",
       "split1_test_score                                                            0.946667  \n",
       "split2_test_score                                                                0.96  \n",
       "split3_test_score                                                                0.92  \n",
       "split4_test_score                                                            0.906667  \n",
       "mean_test_score                                                              0.930877  \n",
       "std_test_score                                                               0.019486  \n",
       "rank_test_score                                                                     1  "
      ]
     },
     "metadata": {},
     "output_type": "display_data"
    },
    {
     "data": {
      "text/html": [
       "<div>\n",
       "<style scoped>\n",
       "    .dataframe tbody tr th:only-of-type {\n",
       "        vertical-align: middle;\n",
       "    }\n",
       "\n",
       "    .dataframe tbody tr th {\n",
       "        vertical-align: top;\n",
       "    }\n",
       "\n",
       "    .dataframe thead th {\n",
       "        text-align: right;\n",
       "    }\n",
       "</style>\n",
       "<table border=\"1\" class=\"dataframe\">\n",
       "  <thead>\n",
       "    <tr style=\"text-align: right;\">\n",
       "      <th></th>\n",
       "      <th>0</th>\n",
       "    </tr>\n",
       "  </thead>\n",
       "  <tbody>\n",
       "    <tr>\n",
       "      <th>mean_fit_time</th>\n",
       "      <td>0.018525</td>\n",
       "    </tr>\n",
       "    <tr>\n",
       "      <th>std_fit_time</th>\n",
       "      <td>0.001602</td>\n",
       "    </tr>\n",
       "    <tr>\n",
       "      <th>mean_score_time</th>\n",
       "      <td>0.0016</td>\n",
       "    </tr>\n",
       "    <tr>\n",
       "      <th>std_score_time</th>\n",
       "      <td>0.00049</td>\n",
       "    </tr>\n",
       "    <tr>\n",
       "      <th>param_logisticregression__C</th>\n",
       "      <td>0.001</td>\n",
       "    </tr>\n",
       "    <tr>\n",
       "      <th>param_logisticregression__max_iter</th>\n",
       "      <td>100</td>\n",
       "    </tr>\n",
       "    <tr>\n",
       "      <th>param_logisticregression__penalty</th>\n",
       "      <td>l2</td>\n",
       "    </tr>\n",
       "    <tr>\n",
       "      <th>param_logisticregression__solver</th>\n",
       "      <td>newton-cg</td>\n",
       "    </tr>\n",
       "    <tr>\n",
       "      <th>params</th>\n",
       "      <td>{'logisticregression__C': 0.001, 'logisticregr...</td>\n",
       "    </tr>\n",
       "    <tr>\n",
       "      <th>split0_test_score</th>\n",
       "      <td>0.921053</td>\n",
       "    </tr>\n",
       "    <tr>\n",
       "      <th>split1_test_score</th>\n",
       "      <td>0.946667</td>\n",
       "    </tr>\n",
       "    <tr>\n",
       "      <th>split2_test_score</th>\n",
       "      <td>0.96</td>\n",
       "    </tr>\n",
       "    <tr>\n",
       "      <th>split3_test_score</th>\n",
       "      <td>0.92</td>\n",
       "    </tr>\n",
       "    <tr>\n",
       "      <th>split4_test_score</th>\n",
       "      <td>0.906667</td>\n",
       "    </tr>\n",
       "    <tr>\n",
       "      <th>mean_test_score</th>\n",
       "      <td>0.930877</td>\n",
       "    </tr>\n",
       "    <tr>\n",
       "      <th>std_test_score</th>\n",
       "      <td>0.019486</td>\n",
       "    </tr>\n",
       "    <tr>\n",
       "      <th>rank_test_score</th>\n",
       "      <td>1</td>\n",
       "    </tr>\n",
       "  </tbody>\n",
       "</table>\n",
       "</div>"
      ],
      "text/plain": [
       "                                                                                    0\n",
       "mean_fit_time                                                                0.018525\n",
       "std_fit_time                                                                 0.001602\n",
       "mean_score_time                                                                0.0016\n",
       "std_score_time                                                                0.00049\n",
       "param_logisticregression__C                                                     0.001\n",
       "param_logisticregression__max_iter                                                100\n",
       "param_logisticregression__penalty                                                  l2\n",
       "param_logisticregression__solver                                            newton-cg\n",
       "params                              {'logisticregression__C': 0.001, 'logisticregr...\n",
       "split0_test_score                                                            0.921053\n",
       "split1_test_score                                                            0.946667\n",
       "split2_test_score                                                                0.96\n",
       "split3_test_score                                                                0.92\n",
       "split4_test_score                                                            0.906667\n",
       "mean_test_score                                                              0.930877\n",
       "std_test_score                                                               0.019486\n",
       "rank_test_score                                                                     1"
      ]
     },
     "metadata": {},
     "output_type": "display_data"
    }
   ],
   "source": [
    "cv_results = pd.DataFrame(grid_search.cv_results_)\n",
    "display(cv_results.head().T)\n",
    "###################################################\n",
    "# melhores hiper-parametros\n",
    "#display(grid_search.best_params_)\n",
    "\n",
    "#  melhor modelo\n",
    "display(cv_results.loc[[grid_search.best_index_]].T)"
   ]
  },
  {
   "cell_type": "code",
   "execution_count": 14,
   "id": "d4821a35",
   "metadata": {},
   "outputs": [
    {
     "name": "stdout",
     "output_type": "stream",
     "text": [
      "P-value (Kruskal-Wallis): 1.00\n"
     ]
    },
    {
     "data": {
      "application/vnd.plotly.v1+json": {
       "config": {
        "plotlyServerURL": "https://plot.ly"
       },
       "data": [
        {
         "alignmentgroup": "True",
         "box": {
          "visible": true
         },
         "hovertemplate": "param_logisticregression__max_iter=%{x}<br>mean_test_score=%{y}<extra></extra>",
         "legendgroup": "100",
         "marker": {
          "color": "#636efa"
         },
         "name": "100",
         "offsetgroup": "100",
         "orientation": "v",
         "points": "all",
         "scalegroup": "True",
         "showlegend": true,
         "type": "violin",
         "x": [
          100,
          100,
          100,
          100,
          100,
          100,
          100,
          100,
          100,
          100,
          100,
          100,
          100,
          100,
          100,
          100,
          100,
          100,
          100,
          100
         ],
         "x0": " ",
         "xaxis": "x",
         "y": [
          0.9308771929824561,
          0.9308771929824561,
          0.9282105263157895,
          0.9282105263157895,
          0.9255087719298245,
          0.9255087719298245,
          0.9201754385964913,
          0.9201754385964913,
          0.9228070175438597,
          0.9228070175438597,
          0,
          0.9282105263157895,
          0.8456491228070175,
          0.9282105263157895,
          0.9281754385964913,
          0.9255087719298245,
          0.9201754385964913,
          0.9201754385964913,
          0.9228070175438597,
          0.9228070175438597
         ],
         "y0": " ",
         "yaxis": "y"
        },
        {
         "alignmentgroup": "True",
         "box": {
          "visible": true
         },
         "hovertemplate": "param_logisticregression__max_iter=%{x}<br>mean_test_score=%{y}<extra></extra>",
         "legendgroup": "150",
         "marker": {
          "color": "#EF553B"
         },
         "name": "150",
         "offsetgroup": "150",
         "orientation": "v",
         "points": "all",
         "scalegroup": "True",
         "showlegend": true,
         "type": "violin",
         "x": [
          150,
          150,
          150,
          150,
          150,
          150,
          150,
          150,
          150,
          150,
          150,
          150,
          150,
          150,
          150,
          150,
          150,
          150,
          150,
          150
         ],
         "x0": " ",
         "xaxis": "x",
         "y": [
          0.9308771929824561,
          0.9308771929824561,
          0.9282105263157895,
          0.9282105263157895,
          0.9255087719298245,
          0.9255087719298245,
          0.9201754385964913,
          0.9201754385964913,
          0.9228070175438597,
          0.9228070175438597,
          0,
          0.9282105263157895,
          0.8456491228070175,
          0.9282105263157895,
          0.9281754385964913,
          0.9255087719298245,
          0.9201754385964913,
          0.9201754385964913,
          0.9228070175438597,
          0.9228070175438597
         ],
         "y0": " ",
         "yaxis": "y"
        },
        {
         "alignmentgroup": "True",
         "box": {
          "visible": true
         },
         "hovertemplate": "param_logisticregression__max_iter=%{x}<br>mean_test_score=%{y}<extra></extra>",
         "legendgroup": "200",
         "marker": {
          "color": "#00cc96"
         },
         "name": "200",
         "offsetgroup": "200",
         "orientation": "v",
         "points": "all",
         "scalegroup": "True",
         "showlegend": true,
         "type": "violin",
         "x": [
          200,
          200,
          200,
          200,
          200,
          200,
          200,
          200,
          200,
          200,
          200,
          200,
          200,
          200,
          200,
          200,
          200,
          200,
          200,
          200
         ],
         "x0": " ",
         "xaxis": "x",
         "y": [
          0.9308771929824561,
          0.9308771929824561,
          0.9282105263157895,
          0.9282105263157895,
          0.9255087719298245,
          0.9255087719298245,
          0.9201754385964913,
          0.9201754385964913,
          0.9228070175438597,
          0.9228070175438597,
          0,
          0.9282105263157895,
          0.8456491228070175,
          0.9282105263157895,
          0.9281754385964913,
          0.9255087719298245,
          0.9201754385964913,
          0.9201754385964913,
          0.9228070175438597,
          0.9228070175438597
         ],
         "y0": " ",
         "yaxis": "y"
        },
        {
         "alignmentgroup": "True",
         "box": {
          "visible": true
         },
         "hovertemplate": "param_logisticregression__max_iter=%{x}<br>mean_test_score=%{y}<extra></extra>",
         "legendgroup": "250",
         "marker": {
          "color": "#ab63fa"
         },
         "name": "250",
         "offsetgroup": "250",
         "orientation": "v",
         "points": "all",
         "scalegroup": "True",
         "showlegend": true,
         "type": "violin",
         "x": [
          250,
          250,
          250,
          250,
          250,
          250,
          250,
          250,
          250,
          250,
          250,
          250,
          250,
          250,
          250,
          250,
          250,
          250,
          250,
          250
         ],
         "x0": " ",
         "xaxis": "x",
         "y": [
          0.9308771929824561,
          0.9308771929824561,
          0.9282105263157895,
          0.9282105263157895,
          0.9255087719298245,
          0.9255087719298245,
          0.9201754385964913,
          0.9201754385964913,
          0.9228070175438597,
          0.9228070175438597,
          0,
          0.9282105263157895,
          0.8456491228070175,
          0.9282105263157895,
          0.9281754385964913,
          0.9255087719298245,
          0.9201754385964913,
          0.9201754385964913,
          0.9228070175438597,
          0.9228070175438597
         ],
         "y0": " ",
         "yaxis": "y"
        },
        {
         "alignmentgroup": "True",
         "box": {
          "visible": true
         },
         "hovertemplate": "param_logisticregression__max_iter=%{x}<br>mean_test_score=%{y}<extra></extra>",
         "legendgroup": "300",
         "marker": {
          "color": "#FFA15A"
         },
         "name": "300",
         "offsetgroup": "300",
         "orientation": "v",
         "points": "all",
         "scalegroup": "True",
         "showlegend": true,
         "type": "violin",
         "x": [
          300,
          300,
          300,
          300,
          300,
          300,
          300,
          300,
          300,
          300,
          300,
          300,
          300,
          300,
          300,
          300,
          300,
          300,
          300,
          300
         ],
         "x0": " ",
         "xaxis": "x",
         "y": [
          0.9308771929824561,
          0.9308771929824561,
          0.9282105263157895,
          0.9282105263157895,
          0.9255087719298245,
          0.9255087719298245,
          0.9201754385964913,
          0.9201754385964913,
          0.9228070175438597,
          0.9228070175438597,
          0,
          0.9282105263157895,
          0.8456491228070175,
          0.9282105263157895,
          0.9281754385964913,
          0.9255087719298245,
          0.9201754385964913,
          0.9201754385964913,
          0.9228070175438597,
          0.9228070175438597
         ],
         "y0": " ",
         "yaxis": "y"
        }
       ],
       "layout": {
        "legend": {
         "title": {
          "text": "param_logisticregression__max_iter"
         },
         "tracegroupgap": 0
        },
        "margin": {
         "t": 60
        },
        "template": {
         "data": {
          "bar": [
           {
            "error_x": {
             "color": "#2a3f5f"
            },
            "error_y": {
             "color": "#2a3f5f"
            },
            "marker": {
             "line": {
              "color": "#E5ECF6",
              "width": 0.5
             },
             "pattern": {
              "fillmode": "overlay",
              "size": 10,
              "solidity": 0.2
             }
            },
            "type": "bar"
           }
          ],
          "barpolar": [
           {
            "marker": {
             "line": {
              "color": "#E5ECF6",
              "width": 0.5
             },
             "pattern": {
              "fillmode": "overlay",
              "size": 10,
              "solidity": 0.2
             }
            },
            "type": "barpolar"
           }
          ],
          "carpet": [
           {
            "aaxis": {
             "endlinecolor": "#2a3f5f",
             "gridcolor": "white",
             "linecolor": "white",
             "minorgridcolor": "white",
             "startlinecolor": "#2a3f5f"
            },
            "baxis": {
             "endlinecolor": "#2a3f5f",
             "gridcolor": "white",
             "linecolor": "white",
             "minorgridcolor": "white",
             "startlinecolor": "#2a3f5f"
            },
            "type": "carpet"
           }
          ],
          "choropleth": [
           {
            "colorbar": {
             "outlinewidth": 0,
             "ticks": ""
            },
            "type": "choropleth"
           }
          ],
          "contour": [
           {
            "colorbar": {
             "outlinewidth": 0,
             "ticks": ""
            },
            "colorscale": [
             [
              0,
              "#0d0887"
             ],
             [
              0.1111111111111111,
              "#46039f"
             ],
             [
              0.2222222222222222,
              "#7201a8"
             ],
             [
              0.3333333333333333,
              "#9c179e"
             ],
             [
              0.4444444444444444,
              "#bd3786"
             ],
             [
              0.5555555555555556,
              "#d8576b"
             ],
             [
              0.6666666666666666,
              "#ed7953"
             ],
             [
              0.7777777777777778,
              "#fb9f3a"
             ],
             [
              0.8888888888888888,
              "#fdca26"
             ],
             [
              1,
              "#f0f921"
             ]
            ],
            "type": "contour"
           }
          ],
          "contourcarpet": [
           {
            "colorbar": {
             "outlinewidth": 0,
             "ticks": ""
            },
            "type": "contourcarpet"
           }
          ],
          "heatmap": [
           {
            "colorbar": {
             "outlinewidth": 0,
             "ticks": ""
            },
            "colorscale": [
             [
              0,
              "#0d0887"
             ],
             [
              0.1111111111111111,
              "#46039f"
             ],
             [
              0.2222222222222222,
              "#7201a8"
             ],
             [
              0.3333333333333333,
              "#9c179e"
             ],
             [
              0.4444444444444444,
              "#bd3786"
             ],
             [
              0.5555555555555556,
              "#d8576b"
             ],
             [
              0.6666666666666666,
              "#ed7953"
             ],
             [
              0.7777777777777778,
              "#fb9f3a"
             ],
             [
              0.8888888888888888,
              "#fdca26"
             ],
             [
              1,
              "#f0f921"
             ]
            ],
            "type": "heatmap"
           }
          ],
          "heatmapgl": [
           {
            "colorbar": {
             "outlinewidth": 0,
             "ticks": ""
            },
            "colorscale": [
             [
              0,
              "#0d0887"
             ],
             [
              0.1111111111111111,
              "#46039f"
             ],
             [
              0.2222222222222222,
              "#7201a8"
             ],
             [
              0.3333333333333333,
              "#9c179e"
             ],
             [
              0.4444444444444444,
              "#bd3786"
             ],
             [
              0.5555555555555556,
              "#d8576b"
             ],
             [
              0.6666666666666666,
              "#ed7953"
             ],
             [
              0.7777777777777778,
              "#fb9f3a"
             ],
             [
              0.8888888888888888,
              "#fdca26"
             ],
             [
              1,
              "#f0f921"
             ]
            ],
            "type": "heatmapgl"
           }
          ],
          "histogram": [
           {
            "marker": {
             "pattern": {
              "fillmode": "overlay",
              "size": 10,
              "solidity": 0.2
             }
            },
            "type": "histogram"
           }
          ],
          "histogram2d": [
           {
            "colorbar": {
             "outlinewidth": 0,
             "ticks": ""
            },
            "colorscale": [
             [
              0,
              "#0d0887"
             ],
             [
              0.1111111111111111,
              "#46039f"
             ],
             [
              0.2222222222222222,
              "#7201a8"
             ],
             [
              0.3333333333333333,
              "#9c179e"
             ],
             [
              0.4444444444444444,
              "#bd3786"
             ],
             [
              0.5555555555555556,
              "#d8576b"
             ],
             [
              0.6666666666666666,
              "#ed7953"
             ],
             [
              0.7777777777777778,
              "#fb9f3a"
             ],
             [
              0.8888888888888888,
              "#fdca26"
             ],
             [
              1,
              "#f0f921"
             ]
            ],
            "type": "histogram2d"
           }
          ],
          "histogram2dcontour": [
           {
            "colorbar": {
             "outlinewidth": 0,
             "ticks": ""
            },
            "colorscale": [
             [
              0,
              "#0d0887"
             ],
             [
              0.1111111111111111,
              "#46039f"
             ],
             [
              0.2222222222222222,
              "#7201a8"
             ],
             [
              0.3333333333333333,
              "#9c179e"
             ],
             [
              0.4444444444444444,
              "#bd3786"
             ],
             [
              0.5555555555555556,
              "#d8576b"
             ],
             [
              0.6666666666666666,
              "#ed7953"
             ],
             [
              0.7777777777777778,
              "#fb9f3a"
             ],
             [
              0.8888888888888888,
              "#fdca26"
             ],
             [
              1,
              "#f0f921"
             ]
            ],
            "type": "histogram2dcontour"
           }
          ],
          "mesh3d": [
           {
            "colorbar": {
             "outlinewidth": 0,
             "ticks": ""
            },
            "type": "mesh3d"
           }
          ],
          "parcoords": [
           {
            "line": {
             "colorbar": {
              "outlinewidth": 0,
              "ticks": ""
             }
            },
            "type": "parcoords"
           }
          ],
          "pie": [
           {
            "automargin": true,
            "type": "pie"
           }
          ],
          "scatter": [
           {
            "fillpattern": {
             "fillmode": "overlay",
             "size": 10,
             "solidity": 0.2
            },
            "type": "scatter"
           }
          ],
          "scatter3d": [
           {
            "line": {
             "colorbar": {
              "outlinewidth": 0,
              "ticks": ""
             }
            },
            "marker": {
             "colorbar": {
              "outlinewidth": 0,
              "ticks": ""
             }
            },
            "type": "scatter3d"
           }
          ],
          "scattercarpet": [
           {
            "marker": {
             "colorbar": {
              "outlinewidth": 0,
              "ticks": ""
             }
            },
            "type": "scattercarpet"
           }
          ],
          "scattergeo": [
           {
            "marker": {
             "colorbar": {
              "outlinewidth": 0,
              "ticks": ""
             }
            },
            "type": "scattergeo"
           }
          ],
          "scattergl": [
           {
            "marker": {
             "colorbar": {
              "outlinewidth": 0,
              "ticks": ""
             }
            },
            "type": "scattergl"
           }
          ],
          "scattermapbox": [
           {
            "marker": {
             "colorbar": {
              "outlinewidth": 0,
              "ticks": ""
             }
            },
            "type": "scattermapbox"
           }
          ],
          "scatterpolar": [
           {
            "marker": {
             "colorbar": {
              "outlinewidth": 0,
              "ticks": ""
             }
            },
            "type": "scatterpolar"
           }
          ],
          "scatterpolargl": [
           {
            "marker": {
             "colorbar": {
              "outlinewidth": 0,
              "ticks": ""
             }
            },
            "type": "scatterpolargl"
           }
          ],
          "scatterternary": [
           {
            "marker": {
             "colorbar": {
              "outlinewidth": 0,
              "ticks": ""
             }
            },
            "type": "scatterternary"
           }
          ],
          "surface": [
           {
            "colorbar": {
             "outlinewidth": 0,
             "ticks": ""
            },
            "colorscale": [
             [
              0,
              "#0d0887"
             ],
             [
              0.1111111111111111,
              "#46039f"
             ],
             [
              0.2222222222222222,
              "#7201a8"
             ],
             [
              0.3333333333333333,
              "#9c179e"
             ],
             [
              0.4444444444444444,
              "#bd3786"
             ],
             [
              0.5555555555555556,
              "#d8576b"
             ],
             [
              0.6666666666666666,
              "#ed7953"
             ],
             [
              0.7777777777777778,
              "#fb9f3a"
             ],
             [
              0.8888888888888888,
              "#fdca26"
             ],
             [
              1,
              "#f0f921"
             ]
            ],
            "type": "surface"
           }
          ],
          "table": [
           {
            "cells": {
             "fill": {
              "color": "#EBF0F8"
             },
             "line": {
              "color": "white"
             }
            },
            "header": {
             "fill": {
              "color": "#C8D4E3"
             },
             "line": {
              "color": "white"
             }
            },
            "type": "table"
           }
          ]
         },
         "layout": {
          "annotationdefaults": {
           "arrowcolor": "#2a3f5f",
           "arrowhead": 0,
           "arrowwidth": 1
          },
          "autotypenumbers": "strict",
          "coloraxis": {
           "colorbar": {
            "outlinewidth": 0,
            "ticks": ""
           }
          },
          "colorscale": {
           "diverging": [
            [
             0,
             "#8e0152"
            ],
            [
             0.1,
             "#c51b7d"
            ],
            [
             0.2,
             "#de77ae"
            ],
            [
             0.3,
             "#f1b6da"
            ],
            [
             0.4,
             "#fde0ef"
            ],
            [
             0.5,
             "#f7f7f7"
            ],
            [
             0.6,
             "#e6f5d0"
            ],
            [
             0.7,
             "#b8e186"
            ],
            [
             0.8,
             "#7fbc41"
            ],
            [
             0.9,
             "#4d9221"
            ],
            [
             1,
             "#276419"
            ]
           ],
           "sequential": [
            [
             0,
             "#0d0887"
            ],
            [
             0.1111111111111111,
             "#46039f"
            ],
            [
             0.2222222222222222,
             "#7201a8"
            ],
            [
             0.3333333333333333,
             "#9c179e"
            ],
            [
             0.4444444444444444,
             "#bd3786"
            ],
            [
             0.5555555555555556,
             "#d8576b"
            ],
            [
             0.6666666666666666,
             "#ed7953"
            ],
            [
             0.7777777777777778,
             "#fb9f3a"
            ],
            [
             0.8888888888888888,
             "#fdca26"
            ],
            [
             1,
             "#f0f921"
            ]
           ],
           "sequentialminus": [
            [
             0,
             "#0d0887"
            ],
            [
             0.1111111111111111,
             "#46039f"
            ],
            [
             0.2222222222222222,
             "#7201a8"
            ],
            [
             0.3333333333333333,
             "#9c179e"
            ],
            [
             0.4444444444444444,
             "#bd3786"
            ],
            [
             0.5555555555555556,
             "#d8576b"
            ],
            [
             0.6666666666666666,
             "#ed7953"
            ],
            [
             0.7777777777777778,
             "#fb9f3a"
            ],
            [
             0.8888888888888888,
             "#fdca26"
            ],
            [
             1,
             "#f0f921"
            ]
           ]
          },
          "colorway": [
           "#636efa",
           "#EF553B",
           "#00cc96",
           "#ab63fa",
           "#FFA15A",
           "#19d3f3",
           "#FF6692",
           "#B6E880",
           "#FF97FF",
           "#FECB52"
          ],
          "font": {
           "color": "#2a3f5f"
          },
          "geo": {
           "bgcolor": "white",
           "lakecolor": "white",
           "landcolor": "#E5ECF6",
           "showlakes": true,
           "showland": true,
           "subunitcolor": "white"
          },
          "hoverlabel": {
           "align": "left"
          },
          "hovermode": "closest",
          "mapbox": {
           "style": "light"
          },
          "paper_bgcolor": "white",
          "plot_bgcolor": "#E5ECF6",
          "polar": {
           "angularaxis": {
            "gridcolor": "white",
            "linecolor": "white",
            "ticks": ""
           },
           "bgcolor": "#E5ECF6",
           "radialaxis": {
            "gridcolor": "white",
            "linecolor": "white",
            "ticks": ""
           }
          },
          "scene": {
           "xaxis": {
            "backgroundcolor": "#E5ECF6",
            "gridcolor": "white",
            "gridwidth": 2,
            "linecolor": "white",
            "showbackground": true,
            "ticks": "",
            "zerolinecolor": "white"
           },
           "yaxis": {
            "backgroundcolor": "#E5ECF6",
            "gridcolor": "white",
            "gridwidth": 2,
            "linecolor": "white",
            "showbackground": true,
            "ticks": "",
            "zerolinecolor": "white"
           },
           "zaxis": {
            "backgroundcolor": "#E5ECF6",
            "gridcolor": "white",
            "gridwidth": 2,
            "linecolor": "white",
            "showbackground": true,
            "ticks": "",
            "zerolinecolor": "white"
           }
          },
          "shapedefaults": {
           "line": {
            "color": "#2a3f5f"
           }
          },
          "ternary": {
           "aaxis": {
            "gridcolor": "white",
            "linecolor": "white",
            "ticks": ""
           },
           "baxis": {
            "gridcolor": "white",
            "linecolor": "white",
            "ticks": ""
           },
           "bgcolor": "#E5ECF6",
           "caxis": {
            "gridcolor": "white",
            "linecolor": "white",
            "ticks": ""
           }
          },
          "title": {
           "x": 0.05
          },
          "xaxis": {
           "automargin": true,
           "gridcolor": "white",
           "linecolor": "white",
           "ticks": "",
           "title": {
            "standoff": 15
           },
           "zerolinecolor": "white",
           "zerolinewidth": 2
          },
          "yaxis": {
           "automargin": true,
           "gridcolor": "white",
           "linecolor": "white",
           "ticks": "",
           "title": {
            "standoff": 15
           },
           "zerolinecolor": "white",
           "zerolinewidth": 2
          }
         }
        },
        "violinmode": "overlay",
        "xaxis": {
         "anchor": "y",
         "categoryarray": [
          100,
          150,
          200,
          250,
          300
         ],
         "categoryorder": "array",
         "domain": [
          0,
          1
         ],
         "title": {
          "text": "param_logisticregression__max_iter"
         }
        },
        "yaxis": {
         "anchor": "x",
         "domain": [
          0,
          1
         ],
         "title": {
          "text": "mean_test_score"
         }
        }
       }
      }
     },
     "metadata": {},
     "output_type": "display_data"
    }
   ],
   "source": [
    "num_cat_hip(cv_results, 'param_logisticregression__max_iter', 'mean_test_score')"
   ]
  },
  {
   "cell_type": "markdown",
   "id": "d71fff26",
   "metadata": {},
   "source": [
    "# Nested Cross Validation - Validação Cruzada Aninhada\n",
    "\n",
    "A validação cruzada aninhada é uma extensão da validação cruzada tradicional que ajuda a obter uma estimativa mais realista e menos otimista do erro de generalização de um modelo. Esta técnica é particularmente útil quando o objetivo é selecionar tanto o modelo quanto os hiperparâmetros de forma mais precisa.\n",
    "\n",
    "Isso porque ela permite que cada combinação de hiperparâmetros seja avaliada de forma mais imparcial, usando uma parte do conjunto de dados que não foi \"vista\" pelos hiperparâmetros durante sua seleção.\n",
    "\n",
    "- **Estimativa Imparcial do Desempenho:** Ao separar a seleção de hiperparâmetros do teste final, a validação cruzada aninhada fornece uma estimativa mais imparcial e geralmente mais conservadora do desempenho do modelo.\n",
    "- **Validade Estatística:** Ajustar os hiperparâmetros de forma independente para cada fold externo ajuda a evitar o viés e o sobreajuste, aumentando a validade estatística dos resultados.\n",
    "\n",
    "## Validação Cruzada Aninhada vs. Não Aninhada\n",
    "\n",
    "**Validação Cruzada Não Aninhada**\n",
    "\n",
    "Na validação cruzada não aninhada (ou padrão), dividimos o conjunto de dados em \\( k \\) folds e realizamos \\( k \\) iterações de treinamento e teste. Em cada iteração, um fold diferente é usado como teste, e os restantes são usados para treinamento. Este método é eficaz para avaliar o desempenho do modelo, mas tem algumas limitações:\n",
    "- **Otimismo no Desempenho:** Como o mesmo conjunto de dados é usado para selecionar os hiperparâmetros e avaliar o modelo, pode haver um viés otimista no desempenho estimado.\n",
    "- **Dependência de Hiperparâmetros:** A escolha dos hiperparâmetros pode influenciar significativamente a estimativa de desempenho, resultando em uma possível sobreajuste à configuração particular do conjunto de dados de teste.\n",
    "\n",
    "**Validação Cruzada Aninhada**\n",
    "\n",
    "A validação cruzada aninhada resolve essas questões utilizando dois níveis de validação cruzada:\n",
    "- **Validação Cruzada Externa:** Divide o conjunto de dados em \\( k \\) folds externos. Cada fold externo serve uma vez como conjunto de teste, enquanto os folds restantes são usados para a validação cruzada interna.\n",
    "- **Validação Cruzada Interna:** Dentro de cada fold externo, realiza-se uma segunda validação cruzada para selecionar os hiperparâmetros. Isso significa que os hiperparâmetros são ajustados independentemente para cada fold externo."
   ]
  },
  {
   "cell_type": "markdown",
   "id": "e2b5cc45",
   "metadata": {},
   "source": [
    "## in Decision Tree"
   ]
  },
  {
   "cell_type": "code",
   "execution_count": 15,
   "id": "637d6607",
   "metadata": {},
   "outputs": [],
   "source": [
    "# Validação internar\n",
    "inner_cv = StratifiedKFold(shuffle=True, random_state=RANDOM_STATE)\n",
    "\n",
    "# Validação externar\n",
    "outer_cv = StratifiedKFold(n_splits=3, shuffle=True, random_state=RANDOM_STATE)"
   ]
  },
  {
   "cell_type": "code",
   "execution_count": 16,
   "id": "624d656a",
   "metadata": {},
   "outputs": [
    {
     "name": "stdout",
     "output_type": "stream",
     "text": [
      "resultado de cada iteração do cv externo: [0.86507937 0.8        0.8       ]\n",
      "média: 0.8216931216931217\n"
     ]
    },
    {
     "data": {
      "text/html": [
       "<style>#sk-container-id-3 {color: black;background-color: white;}#sk-container-id-3 pre{padding: 0;}#sk-container-id-3 div.sk-toggleable {background-color: white;}#sk-container-id-3 label.sk-toggleable__label {cursor: pointer;display: block;width: 100%;margin-bottom: 0;padding: 0.3em;box-sizing: border-box;text-align: center;}#sk-container-id-3 label.sk-toggleable__label-arrow:before {content: \"▸\";float: left;margin-right: 0.25em;color: #696969;}#sk-container-id-3 label.sk-toggleable__label-arrow:hover:before {color: black;}#sk-container-id-3 div.sk-estimator:hover label.sk-toggleable__label-arrow:before {color: black;}#sk-container-id-3 div.sk-toggleable__content {max-height: 0;max-width: 0;overflow: hidden;text-align: left;background-color: #f0f8ff;}#sk-container-id-3 div.sk-toggleable__content pre {margin: 0.2em;color: black;border-radius: 0.25em;background-color: #f0f8ff;}#sk-container-id-3 input.sk-toggleable__control:checked~div.sk-toggleable__content {max-height: 200px;max-width: 100%;overflow: auto;}#sk-container-id-3 input.sk-toggleable__control:checked~label.sk-toggleable__label-arrow:before {content: \"▾\";}#sk-container-id-3 div.sk-estimator input.sk-toggleable__control:checked~label.sk-toggleable__label {background-color: #d4ebff;}#sk-container-id-3 div.sk-label input.sk-toggleable__control:checked~label.sk-toggleable__label {background-color: #d4ebff;}#sk-container-id-3 input.sk-hidden--visually {border: 0;clip: rect(1px 1px 1px 1px);clip: rect(1px, 1px, 1px, 1px);height: 1px;margin: -1px;overflow: hidden;padding: 0;position: absolute;width: 1px;}#sk-container-id-3 div.sk-estimator {font-family: monospace;background-color: #f0f8ff;border: 1px dotted black;border-radius: 0.25em;box-sizing: border-box;margin-bottom: 0.5em;}#sk-container-id-3 div.sk-estimator:hover {background-color: #d4ebff;}#sk-container-id-3 div.sk-parallel-item::after {content: \"\";width: 100%;border-bottom: 1px solid gray;flex-grow: 1;}#sk-container-id-3 div.sk-label:hover label.sk-toggleable__label {background-color: #d4ebff;}#sk-container-id-3 div.sk-serial::before {content: \"\";position: absolute;border-left: 1px solid gray;box-sizing: border-box;top: 0;bottom: 0;left: 50%;z-index: 0;}#sk-container-id-3 div.sk-serial {display: flex;flex-direction: column;align-items: center;background-color: white;padding-right: 0.2em;padding-left: 0.2em;position: relative;}#sk-container-id-3 div.sk-item {position: relative;z-index: 1;}#sk-container-id-3 div.sk-parallel {display: flex;align-items: stretch;justify-content: center;background-color: white;position: relative;}#sk-container-id-3 div.sk-item::before, #sk-container-id-3 div.sk-parallel-item::before {content: \"\";position: absolute;border-left: 1px solid gray;box-sizing: border-box;top: 0;bottom: 0;left: 50%;z-index: -1;}#sk-container-id-3 div.sk-parallel-item {display: flex;flex-direction: column;z-index: 1;position: relative;background-color: white;}#sk-container-id-3 div.sk-parallel-item:first-child::after {align-self: flex-end;width: 50%;}#sk-container-id-3 div.sk-parallel-item:last-child::after {align-self: flex-start;width: 50%;}#sk-container-id-3 div.sk-parallel-item:only-child::after {width: 0;}#sk-container-id-3 div.sk-dashed-wrapped {border: 1px dashed gray;margin: 0 0.4em 0.5em 0.4em;box-sizing: border-box;padding-bottom: 0.4em;background-color: white;}#sk-container-id-3 div.sk-label label {font-family: monospace;font-weight: bold;display: inline-block;line-height: 1.2em;}#sk-container-id-3 div.sk-label-container {text-align: center;}#sk-container-id-3 div.sk-container {/* jupyter's `normalize.less` sets `[hidden] { display: none; }` but bootstrap.min.css set `[hidden] { display: none !important; }` so we also need the `!important` here to be able to override the default hidden behavior on the sphinx rendered scikit-learn.org. See: https://github.com/scikit-learn/scikit-learn/issues/21755 */display: inline-block !important;position: relative;}#sk-container-id-3 div.sk-text-repr-fallback {display: none;}</style><div id=\"sk-container-id-3\" class=\"sk-top-container\"><div class=\"sk-text-repr-fallback\"><pre>GridSearchCV(cv=StratifiedKFold(n_splits=5, random_state=3141592, shuffle=True),\n",
       "             estimator=DecisionTreeClassifier(random_state=3141592), n_jobs=-1,\n",
       "             param_grid={&#x27;criterion&#x27;: [&#x27;gini&#x27;, &#x27;entropy&#x27;],\n",
       "                         &#x27;max_depth&#x27;: array([ 6,  8, 10, 12]),\n",
       "                         &#x27;max_features&#x27;: [&#x27;sqrt&#x27;, &#x27;log2&#x27;],\n",
       "                         &#x27;min_samples_leaf&#x27;: array([ 5, 10, 15, 20]),\n",
       "                         &#x27;min_samples_split&#x27;: array([ 5, 10, 15, 20]),\n",
       "                         &#x27;splitter&#x27;: [&#x27;best&#x27;, &#x27;random&#x27;]},\n",
       "             scoring=&#x27;recall&#x27;)</pre><b>In a Jupyter environment, please rerun this cell to show the HTML representation or trust the notebook. <br />On GitHub, the HTML representation is unable to render, please try loading this page with nbviewer.org.</b></div><div class=\"sk-container\" hidden><div class=\"sk-item sk-dashed-wrapped\"><div class=\"sk-label-container\"><div class=\"sk-label sk-toggleable\"><input class=\"sk-toggleable__control sk-hidden--visually\" id=\"sk-estimator-id-8\" type=\"checkbox\" ><label for=\"sk-estimator-id-8\" class=\"sk-toggleable__label sk-toggleable__label-arrow\">GridSearchCV</label><div class=\"sk-toggleable__content\"><pre>GridSearchCV(cv=StratifiedKFold(n_splits=5, random_state=3141592, shuffle=True),\n",
       "             estimator=DecisionTreeClassifier(random_state=3141592), n_jobs=-1,\n",
       "             param_grid={&#x27;criterion&#x27;: [&#x27;gini&#x27;, &#x27;entropy&#x27;],\n",
       "                         &#x27;max_depth&#x27;: array([ 6,  8, 10, 12]),\n",
       "                         &#x27;max_features&#x27;: [&#x27;sqrt&#x27;, &#x27;log2&#x27;],\n",
       "                         &#x27;min_samples_leaf&#x27;: array([ 5, 10, 15, 20]),\n",
       "                         &#x27;min_samples_split&#x27;: array([ 5, 10, 15, 20]),\n",
       "                         &#x27;splitter&#x27;: [&#x27;best&#x27;, &#x27;random&#x27;]},\n",
       "             scoring=&#x27;recall&#x27;)</pre></div></div></div><div class=\"sk-parallel\"><div class=\"sk-parallel-item\"><div class=\"sk-item\"><div class=\"sk-label-container\"><div class=\"sk-label sk-toggleable\"><input class=\"sk-toggleable__control sk-hidden--visually\" id=\"sk-estimator-id-9\" type=\"checkbox\" ><label for=\"sk-estimator-id-9\" class=\"sk-toggleable__label sk-toggleable__label-arrow\">estimator: DecisionTreeClassifier</label><div class=\"sk-toggleable__content\"><pre>DecisionTreeClassifier(random_state=3141592)</pre></div></div></div><div class=\"sk-serial\"><div class=\"sk-item\"><div class=\"sk-estimator sk-toggleable\"><input class=\"sk-toggleable__control sk-hidden--visually\" id=\"sk-estimator-id-10\" type=\"checkbox\" ><label for=\"sk-estimator-id-10\" class=\"sk-toggleable__label sk-toggleable__label-arrow\">DecisionTreeClassifier</label><div class=\"sk-toggleable__content\"><pre>DecisionTreeClassifier(random_state=3141592)</pre></div></div></div></div></div></div></div></div></div></div>"
      ],
      "text/plain": [
       "GridSearchCV(cv=StratifiedKFold(n_splits=5, random_state=3141592, shuffle=True),\n",
       "             estimator=DecisionTreeClassifier(random_state=3141592), n_jobs=-1,\n",
       "             param_grid={'criterion': ['gini', 'entropy'],\n",
       "                         'max_depth': array([ 6,  8, 10, 12]),\n",
       "                         'max_features': ['sqrt', 'log2'],\n",
       "                         'min_samples_leaf': array([ 5, 10, 15, 20]),\n",
       "                         'min_samples_split': array([ 5, 10, 15, 20]),\n",
       "                         'splitter': ['best', 'random']},\n",
       "             scoring='recall')"
      ]
     },
     "execution_count": 16,
     "metadata": {},
     "output_type": "execute_result"
    }
   ],
   "source": [
    "from sklearn.model_selection import cross_val_score\n",
    "\n",
    "grid_search = GridSearchCV(estimator = DecisionTreeClassifier(random_state=RANDOM_STATE),\n",
    "    param_grid = param_grid_dt,\n",
    "    scoring = \"recall\",\n",
    "    n_jobs = -1,\n",
    "    cv = inner_cv\n",
    "    )\n",
    "\n",
    "# Validação cruzada externa\n",
    "dt_nested_scores = cross_val_score(grid_search, x_treino, y_treino, cv=outer_cv)\n",
    "\n",
    "print(f'resultado de cada iteração do cv externo: {dt_nested_scores}')\n",
    "print(f'média: {dt_nested_scores.mean()}')\n",
    "\n",
    "grid_search.fit(x_treino, y_treino)"
   ]
  },
  {
   "cell_type": "code",
   "execution_count": 17,
   "id": "057eb87b",
   "metadata": {},
   "outputs": [
    {
     "data": {
      "text/html": [
       "<div>\n",
       "<style scoped>\n",
       "    .dataframe tbody tr th:only-of-type {\n",
       "        vertical-align: middle;\n",
       "    }\n",
       "\n",
       "    .dataframe tbody tr th {\n",
       "        vertical-align: top;\n",
       "    }\n",
       "\n",
       "    .dataframe thead th {\n",
       "        text-align: right;\n",
       "    }\n",
       "</style>\n",
       "<table border=\"1\" class=\"dataframe\">\n",
       "  <thead>\n",
       "    <tr style=\"text-align: right;\">\n",
       "      <th></th>\n",
       "      <th>0</th>\n",
       "      <th>1</th>\n",
       "      <th>2</th>\n",
       "      <th>3</th>\n",
       "      <th>4</th>\n",
       "    </tr>\n",
       "  </thead>\n",
       "  <tbody>\n",
       "    <tr>\n",
       "      <th>mean_fit_time</th>\n",
       "      <td>0.001294</td>\n",
       "      <td>0.000902</td>\n",
       "      <td>0.001703</td>\n",
       "      <td>0.001063</td>\n",
       "      <td>0.001486</td>\n",
       "    </tr>\n",
       "    <tr>\n",
       "      <th>std_fit_time</th>\n",
       "      <td>0.000498</td>\n",
       "      <td>0.000491</td>\n",
       "      <td>0.000399</td>\n",
       "      <td>0.000623</td>\n",
       "      <td>0.000502</td>\n",
       "    </tr>\n",
       "    <tr>\n",
       "      <th>mean_score_time</th>\n",
       "      <td>0.001159</td>\n",
       "      <td>0.001604</td>\n",
       "      <td>0.001202</td>\n",
       "      <td>0.001086</td>\n",
       "      <td>0.001253</td>\n",
       "    </tr>\n",
       "    <tr>\n",
       "      <th>std_score_time</th>\n",
       "      <td>0.000627</td>\n",
       "      <td>0.000585</td>\n",
       "      <td>0.000399</td>\n",
       "      <td>0.000104</td>\n",
       "      <td>0.000226</td>\n",
       "    </tr>\n",
       "    <tr>\n",
       "      <th>param_criterion</th>\n",
       "      <td>gini</td>\n",
       "      <td>gini</td>\n",
       "      <td>gini</td>\n",
       "      <td>gini</td>\n",
       "      <td>gini</td>\n",
       "    </tr>\n",
       "    <tr>\n",
       "      <th>param_max_depth</th>\n",
       "      <td>6</td>\n",
       "      <td>6</td>\n",
       "      <td>6</td>\n",
       "      <td>6</td>\n",
       "      <td>6</td>\n",
       "    </tr>\n",
       "    <tr>\n",
       "      <th>param_max_features</th>\n",
       "      <td>sqrt</td>\n",
       "      <td>sqrt</td>\n",
       "      <td>sqrt</td>\n",
       "      <td>sqrt</td>\n",
       "      <td>sqrt</td>\n",
       "    </tr>\n",
       "    <tr>\n",
       "      <th>param_min_samples_leaf</th>\n",
       "      <td>5</td>\n",
       "      <td>5</td>\n",
       "      <td>5</td>\n",
       "      <td>5</td>\n",
       "      <td>5</td>\n",
       "    </tr>\n",
       "    <tr>\n",
       "      <th>param_min_samples_split</th>\n",
       "      <td>5</td>\n",
       "      <td>5</td>\n",
       "      <td>10</td>\n",
       "      <td>10</td>\n",
       "      <td>15</td>\n",
       "    </tr>\n",
       "    <tr>\n",
       "      <th>param_splitter</th>\n",
       "      <td>best</td>\n",
       "      <td>random</td>\n",
       "      <td>best</td>\n",
       "      <td>random</td>\n",
       "      <td>best</td>\n",
       "    </tr>\n",
       "    <tr>\n",
       "      <th>params</th>\n",
       "      <td>{'criterion': 'gini', 'max_depth': 6, 'max_fea...</td>\n",
       "      <td>{'criterion': 'gini', 'max_depth': 6, 'max_fea...</td>\n",
       "      <td>{'criterion': 'gini', 'max_depth': 6, 'max_fea...</td>\n",
       "      <td>{'criterion': 'gini', 'max_depth': 6, 'max_fea...</td>\n",
       "      <td>{'criterion': 'gini', 'max_depth': 6, 'max_fea...</td>\n",
       "    </tr>\n",
       "    <tr>\n",
       "      <th>split0_test_score</th>\n",
       "      <td>0.736842</td>\n",
       "      <td>0.894737</td>\n",
       "      <td>0.736842</td>\n",
       "      <td>0.894737</td>\n",
       "      <td>0.868421</td>\n",
       "    </tr>\n",
       "    <tr>\n",
       "      <th>split1_test_score</th>\n",
       "      <td>0.773333</td>\n",
       "      <td>0.8</td>\n",
       "      <td>0.773333</td>\n",
       "      <td>0.8</td>\n",
       "      <td>0.84</td>\n",
       "    </tr>\n",
       "    <tr>\n",
       "      <th>split2_test_score</th>\n",
       "      <td>0.84</td>\n",
       "      <td>0.826667</td>\n",
       "      <td>0.84</td>\n",
       "      <td>0.826667</td>\n",
       "      <td>0.746667</td>\n",
       "    </tr>\n",
       "    <tr>\n",
       "      <th>split3_test_score</th>\n",
       "      <td>0.693333</td>\n",
       "      <td>0.853333</td>\n",
       "      <td>0.693333</td>\n",
       "      <td>0.853333</td>\n",
       "      <td>0.733333</td>\n",
       "    </tr>\n",
       "    <tr>\n",
       "      <th>split4_test_score</th>\n",
       "      <td>0.8</td>\n",
       "      <td>0.693333</td>\n",
       "      <td>0.8</td>\n",
       "      <td>0.693333</td>\n",
       "      <td>0.84</td>\n",
       "    </tr>\n",
       "    <tr>\n",
       "      <th>mean_test_score</th>\n",
       "      <td>0.768702</td>\n",
       "      <td>0.813614</td>\n",
       "      <td>0.768702</td>\n",
       "      <td>0.813614</td>\n",
       "      <td>0.805684</td>\n",
       "    </tr>\n",
       "    <tr>\n",
       "      <th>std_test_score</th>\n",
       "      <td>0.050557</td>\n",
       "      <td>0.067796</td>\n",
       "      <td>0.050557</td>\n",
       "      <td>0.067796</td>\n",
       "      <td>0.054788</td>\n",
       "    </tr>\n",
       "    <tr>\n",
       "      <th>rank_test_score</th>\n",
       "      <td>229</td>\n",
       "      <td>73</td>\n",
       "      <td>229</td>\n",
       "      <td>73</td>\n",
       "      <td>125</td>\n",
       "    </tr>\n",
       "  </tbody>\n",
       "</table>\n",
       "</div>"
      ],
      "text/plain": [
       "                                                                         0  \\\n",
       "mean_fit_time                                                     0.001294   \n",
       "std_fit_time                                                      0.000498   \n",
       "mean_score_time                                                   0.001159   \n",
       "std_score_time                                                    0.000627   \n",
       "param_criterion                                                       gini   \n",
       "param_max_depth                                                          6   \n",
       "param_max_features                                                    sqrt   \n",
       "param_min_samples_leaf                                                   5   \n",
       "param_min_samples_split                                                  5   \n",
       "param_splitter                                                        best   \n",
       "params                   {'criterion': 'gini', 'max_depth': 6, 'max_fea...   \n",
       "split0_test_score                                                 0.736842   \n",
       "split1_test_score                                                 0.773333   \n",
       "split2_test_score                                                     0.84   \n",
       "split3_test_score                                                 0.693333   \n",
       "split4_test_score                                                      0.8   \n",
       "mean_test_score                                                   0.768702   \n",
       "std_test_score                                                    0.050557   \n",
       "rank_test_score                                                        229   \n",
       "\n",
       "                                                                         1  \\\n",
       "mean_fit_time                                                     0.000902   \n",
       "std_fit_time                                                      0.000491   \n",
       "mean_score_time                                                   0.001604   \n",
       "std_score_time                                                    0.000585   \n",
       "param_criterion                                                       gini   \n",
       "param_max_depth                                                          6   \n",
       "param_max_features                                                    sqrt   \n",
       "param_min_samples_leaf                                                   5   \n",
       "param_min_samples_split                                                  5   \n",
       "param_splitter                                                      random   \n",
       "params                   {'criterion': 'gini', 'max_depth': 6, 'max_fea...   \n",
       "split0_test_score                                                 0.894737   \n",
       "split1_test_score                                                      0.8   \n",
       "split2_test_score                                                 0.826667   \n",
       "split3_test_score                                                 0.853333   \n",
       "split4_test_score                                                 0.693333   \n",
       "mean_test_score                                                   0.813614   \n",
       "std_test_score                                                    0.067796   \n",
       "rank_test_score                                                         73   \n",
       "\n",
       "                                                                         2  \\\n",
       "mean_fit_time                                                     0.001703   \n",
       "std_fit_time                                                      0.000399   \n",
       "mean_score_time                                                   0.001202   \n",
       "std_score_time                                                    0.000399   \n",
       "param_criterion                                                       gini   \n",
       "param_max_depth                                                          6   \n",
       "param_max_features                                                    sqrt   \n",
       "param_min_samples_leaf                                                   5   \n",
       "param_min_samples_split                                                 10   \n",
       "param_splitter                                                        best   \n",
       "params                   {'criterion': 'gini', 'max_depth': 6, 'max_fea...   \n",
       "split0_test_score                                                 0.736842   \n",
       "split1_test_score                                                 0.773333   \n",
       "split2_test_score                                                     0.84   \n",
       "split3_test_score                                                 0.693333   \n",
       "split4_test_score                                                      0.8   \n",
       "mean_test_score                                                   0.768702   \n",
       "std_test_score                                                    0.050557   \n",
       "rank_test_score                                                        229   \n",
       "\n",
       "                                                                         3  \\\n",
       "mean_fit_time                                                     0.001063   \n",
       "std_fit_time                                                      0.000623   \n",
       "mean_score_time                                                   0.001086   \n",
       "std_score_time                                                    0.000104   \n",
       "param_criterion                                                       gini   \n",
       "param_max_depth                                                          6   \n",
       "param_max_features                                                    sqrt   \n",
       "param_min_samples_leaf                                                   5   \n",
       "param_min_samples_split                                                 10   \n",
       "param_splitter                                                      random   \n",
       "params                   {'criterion': 'gini', 'max_depth': 6, 'max_fea...   \n",
       "split0_test_score                                                 0.894737   \n",
       "split1_test_score                                                      0.8   \n",
       "split2_test_score                                                 0.826667   \n",
       "split3_test_score                                                 0.853333   \n",
       "split4_test_score                                                 0.693333   \n",
       "mean_test_score                                                   0.813614   \n",
       "std_test_score                                                    0.067796   \n",
       "rank_test_score                                                         73   \n",
       "\n",
       "                                                                         4  \n",
       "mean_fit_time                                                     0.001486  \n",
       "std_fit_time                                                      0.000502  \n",
       "mean_score_time                                                   0.001253  \n",
       "std_score_time                                                    0.000226  \n",
       "param_criterion                                                       gini  \n",
       "param_max_depth                                                          6  \n",
       "param_max_features                                                    sqrt  \n",
       "param_min_samples_leaf                                                   5  \n",
       "param_min_samples_split                                                 15  \n",
       "param_splitter                                                        best  \n",
       "params                   {'criterion': 'gini', 'max_depth': 6, 'max_fea...  \n",
       "split0_test_score                                                 0.868421  \n",
       "split1_test_score                                                     0.84  \n",
       "split2_test_score                                                 0.746667  \n",
       "split3_test_score                                                 0.733333  \n",
       "split4_test_score                                                     0.84  \n",
       "mean_test_score                                                   0.805684  \n",
       "std_test_score                                                    0.054788  \n",
       "rank_test_score                                                        125  "
      ]
     },
     "metadata": {},
     "output_type": "display_data"
    },
    {
     "data": {
      "text/html": [
       "<div>\n",
       "<style scoped>\n",
       "    .dataframe tbody tr th:only-of-type {\n",
       "        vertical-align: middle;\n",
       "    }\n",
       "\n",
       "    .dataframe tbody tr th {\n",
       "        vertical-align: top;\n",
       "    }\n",
       "\n",
       "    .dataframe thead th {\n",
       "        text-align: right;\n",
       "    }\n",
       "</style>\n",
       "<table border=\"1\" class=\"dataframe\">\n",
       "  <thead>\n",
       "    <tr style=\"text-align: right;\">\n",
       "      <th></th>\n",
       "      <th>71</th>\n",
       "    </tr>\n",
       "  </thead>\n",
       "  <tbody>\n",
       "    <tr>\n",
       "      <th>mean_fit_time</th>\n",
       "      <td>0.003607</td>\n",
       "    </tr>\n",
       "    <tr>\n",
       "      <th>std_fit_time</th>\n",
       "      <td>0.003273</td>\n",
       "    </tr>\n",
       "    <tr>\n",
       "      <th>mean_score_time</th>\n",
       "      <td>0.002615</td>\n",
       "    </tr>\n",
       "    <tr>\n",
       "      <th>std_score_time</th>\n",
       "      <td>0.001033</td>\n",
       "    </tr>\n",
       "    <tr>\n",
       "      <th>param_criterion</th>\n",
       "      <td>gini</td>\n",
       "    </tr>\n",
       "    <tr>\n",
       "      <th>param_max_depth</th>\n",
       "      <td>8</td>\n",
       "    </tr>\n",
       "    <tr>\n",
       "      <th>param_max_features</th>\n",
       "      <td>sqrt</td>\n",
       "    </tr>\n",
       "    <tr>\n",
       "      <th>param_min_samples_leaf</th>\n",
       "      <td>5</td>\n",
       "    </tr>\n",
       "    <tr>\n",
       "      <th>param_min_samples_split</th>\n",
       "      <td>20</td>\n",
       "    </tr>\n",
       "    <tr>\n",
       "      <th>param_splitter</th>\n",
       "      <td>random</td>\n",
       "    </tr>\n",
       "    <tr>\n",
       "      <th>params</th>\n",
       "      <td>{'criterion': 'gini', 'max_depth': 8, 'max_fea...</td>\n",
       "    </tr>\n",
       "    <tr>\n",
       "      <th>split0_test_score</th>\n",
       "      <td>0.907895</td>\n",
       "    </tr>\n",
       "    <tr>\n",
       "      <th>split1_test_score</th>\n",
       "      <td>0.84</td>\n",
       "    </tr>\n",
       "    <tr>\n",
       "      <th>split2_test_score</th>\n",
       "      <td>0.866667</td>\n",
       "    </tr>\n",
       "    <tr>\n",
       "      <th>split3_test_score</th>\n",
       "      <td>0.813333</td>\n",
       "    </tr>\n",
       "    <tr>\n",
       "      <th>split4_test_score</th>\n",
       "      <td>0.733333</td>\n",
       "    </tr>\n",
       "    <tr>\n",
       "      <th>mean_test_score</th>\n",
       "      <td>0.832246</td>\n",
       "    </tr>\n",
       "    <tr>\n",
       "      <th>std_test_score</th>\n",
       "      <td>0.058496</td>\n",
       "    </tr>\n",
       "    <tr>\n",
       "      <th>rank_test_score</th>\n",
       "      <td>1</td>\n",
       "    </tr>\n",
       "  </tbody>\n",
       "</table>\n",
       "</div>"
      ],
      "text/plain": [
       "                                                                        71\n",
       "mean_fit_time                                                     0.003607\n",
       "std_fit_time                                                      0.003273\n",
       "mean_score_time                                                   0.002615\n",
       "std_score_time                                                    0.001033\n",
       "param_criterion                                                       gini\n",
       "param_max_depth                                                          8\n",
       "param_max_features                                                    sqrt\n",
       "param_min_samples_leaf                                                   5\n",
       "param_min_samples_split                                                 20\n",
       "param_splitter                                                      random\n",
       "params                   {'criterion': 'gini', 'max_depth': 8, 'max_fea...\n",
       "split0_test_score                                                 0.907895\n",
       "split1_test_score                                                     0.84\n",
       "split2_test_score                                                 0.866667\n",
       "split3_test_score                                                 0.813333\n",
       "split4_test_score                                                 0.733333\n",
       "mean_test_score                                                   0.832246\n",
       "std_test_score                                                    0.058496\n",
       "rank_test_score                                                          1"
      ]
     },
     "metadata": {},
     "output_type": "display_data"
    }
   ],
   "source": [
    "cv_results = pd.DataFrame(grid_search.cv_results_)\n",
    "display(cv_results.head().T)\n",
    "###################################################\n",
    "# melhores hiper-parametros\n",
    "#display(grid_search.best_params_)\n",
    "\n",
    "#  melhor modelo\n",
    "display(cv_results.loc[[grid_search.best_index_]].T)"
   ]
  },
  {
   "cell_type": "markdown",
   "id": "df3a7336",
   "metadata": {},
   "source": [
    "# Randomized Search CV (Busca Aleatória) - Otimização de Hiperparâmetros\n",
    "\n",
    "Randomized Search CV, ou Busca Aleatória, é uma técnica eficaz para otimização de hiperparâmetros em modelos de aprendizado de máquina. Diferente do Grid Search, que testa todas as combinações possíveis de hiperparâmetros, o Randomized Search CV seleciona aleatoriamente um subconjunto dessas combinações, reduzindo o tempo de computação necessário para encontrar uma configuração satisfatória.\n",
    "\n",
    "**Funcionamento**\n",
    "\n",
    "1. **Definição do Espaço de Hiperparâmetros:**\n",
    "   - Um espaço de hiperparâmetros é definido da mesma forma que no Grid Search, mas ao invés de testar todas as combinações possíveis, o Randomized Search CV permite especificar um número fixo de combinações para testar.\n",
    "\n",
    "2. **Seleção Aleatória:**\n",
    "   - Combinando um algoritmo de seleção aleatória com uma distribuição de probabilidade definida sobre o espaço de hiperparâmetros, essa técnica seleciona aleatoriamente diferentes combinações para avaliação.\n",
    "\n",
    "3. **Avaliação de Desempenho:**\n",
    "   - Cada conjunto de hiperparâmetros selecionado é usado para treinar um modelo, e o desempenho é avaliado, geralmente através de validação cruzada. O processo é repetido para o número especificado de iterações.\n",
    "\n",
    "4. **Escolha do Melhor Modelo:**\n",
    "   - Após todas as iterações, o conjunto de hiperparâmetros que resultou no melhor desempenho é escolhido como o ideal.\n",
    "\n",
    "- **Eficiência:** Menor custo computacional em comparação ao Grid Search, especialmente útil quando o espaço de hiperparâmetros é grande.\n",
    "- **Exploração mais Ampla:** Possibilidade de descobrir combinações de hiperparâmetros inovadoras que poderiam ser negligenciadas em uma busca exaustiva.\n",
    "- **Aleatoriedade:** A natureza aleatória da busca significa que não há garantia de encontrar o ótimo global, e os resultados podem variar a cada execução.\n",
    "- **Número de Iterações:** O número de iterações deve ser escolhido cuidadosamente para equilibrar entre a cobertura do espaço de hiperparâmetros e a viabilidade computacional.\n",
    "\n",
    "\n",
    "Randomized Search CV é ideal para cenários onde a rapidez é essencial e o espaço de hiperparâmetros é tão grande que uma busca exaustiva seria impraticável. É frequentemente usado em estágios iniciais de desenvolvimento de modelo para explorar rapidamente as possibilidades antes de realizar uma otimização mais detalhada.\n",
    "\n",
    "Este método é uma ferramenta valiosa para cientistas de dados e engenheiros de machine learning que buscam otimizar modelos de forma eficiente e inovadora.\n"
   ]
  },
  {
   "cell_type": "markdown",
   "id": "a9ea31b8",
   "metadata": {},
   "source": [
    "## in Decision Tree"
   ]
  },
  {
   "cell_type": "code",
   "execution_count": 18,
   "id": "41e5d69f",
   "metadata": {},
   "outputs": [
    {
     "name": "stdout",
     "output_type": "stream",
     "text": [
      "resultado de cada iteração do cv externo: [0.80952381 0.792      0.8       ]\n",
      "média: 0.8005079365079366\n"
     ]
    },
    {
     "data": {
      "text/html": [
       "<style>#sk-container-id-4 {color: black;background-color: white;}#sk-container-id-4 pre{padding: 0;}#sk-container-id-4 div.sk-toggleable {background-color: white;}#sk-container-id-4 label.sk-toggleable__label {cursor: pointer;display: block;width: 100%;margin-bottom: 0;padding: 0.3em;box-sizing: border-box;text-align: center;}#sk-container-id-4 label.sk-toggleable__label-arrow:before {content: \"▸\";float: left;margin-right: 0.25em;color: #696969;}#sk-container-id-4 label.sk-toggleable__label-arrow:hover:before {color: black;}#sk-container-id-4 div.sk-estimator:hover label.sk-toggleable__label-arrow:before {color: black;}#sk-container-id-4 div.sk-toggleable__content {max-height: 0;max-width: 0;overflow: hidden;text-align: left;background-color: #f0f8ff;}#sk-container-id-4 div.sk-toggleable__content pre {margin: 0.2em;color: black;border-radius: 0.25em;background-color: #f0f8ff;}#sk-container-id-4 input.sk-toggleable__control:checked~div.sk-toggleable__content {max-height: 200px;max-width: 100%;overflow: auto;}#sk-container-id-4 input.sk-toggleable__control:checked~label.sk-toggleable__label-arrow:before {content: \"▾\";}#sk-container-id-4 div.sk-estimator input.sk-toggleable__control:checked~label.sk-toggleable__label {background-color: #d4ebff;}#sk-container-id-4 div.sk-label input.sk-toggleable__control:checked~label.sk-toggleable__label {background-color: #d4ebff;}#sk-container-id-4 input.sk-hidden--visually {border: 0;clip: rect(1px 1px 1px 1px);clip: rect(1px, 1px, 1px, 1px);height: 1px;margin: -1px;overflow: hidden;padding: 0;position: absolute;width: 1px;}#sk-container-id-4 div.sk-estimator {font-family: monospace;background-color: #f0f8ff;border: 1px dotted black;border-radius: 0.25em;box-sizing: border-box;margin-bottom: 0.5em;}#sk-container-id-4 div.sk-estimator:hover {background-color: #d4ebff;}#sk-container-id-4 div.sk-parallel-item::after {content: \"\";width: 100%;border-bottom: 1px solid gray;flex-grow: 1;}#sk-container-id-4 div.sk-label:hover label.sk-toggleable__label {background-color: #d4ebff;}#sk-container-id-4 div.sk-serial::before {content: \"\";position: absolute;border-left: 1px solid gray;box-sizing: border-box;top: 0;bottom: 0;left: 50%;z-index: 0;}#sk-container-id-4 div.sk-serial {display: flex;flex-direction: column;align-items: center;background-color: white;padding-right: 0.2em;padding-left: 0.2em;position: relative;}#sk-container-id-4 div.sk-item {position: relative;z-index: 1;}#sk-container-id-4 div.sk-parallel {display: flex;align-items: stretch;justify-content: center;background-color: white;position: relative;}#sk-container-id-4 div.sk-item::before, #sk-container-id-4 div.sk-parallel-item::before {content: \"\";position: absolute;border-left: 1px solid gray;box-sizing: border-box;top: 0;bottom: 0;left: 50%;z-index: -1;}#sk-container-id-4 div.sk-parallel-item {display: flex;flex-direction: column;z-index: 1;position: relative;background-color: white;}#sk-container-id-4 div.sk-parallel-item:first-child::after {align-self: flex-end;width: 50%;}#sk-container-id-4 div.sk-parallel-item:last-child::after {align-self: flex-start;width: 50%;}#sk-container-id-4 div.sk-parallel-item:only-child::after {width: 0;}#sk-container-id-4 div.sk-dashed-wrapped {border: 1px dashed gray;margin: 0 0.4em 0.5em 0.4em;box-sizing: border-box;padding-bottom: 0.4em;background-color: white;}#sk-container-id-4 div.sk-label label {font-family: monospace;font-weight: bold;display: inline-block;line-height: 1.2em;}#sk-container-id-4 div.sk-label-container {text-align: center;}#sk-container-id-4 div.sk-container {/* jupyter's `normalize.less` sets `[hidden] { display: none; }` but bootstrap.min.css set `[hidden] { display: none !important; }` so we also need the `!important` here to be able to override the default hidden behavior on the sphinx rendered scikit-learn.org. See: https://github.com/scikit-learn/scikit-learn/issues/21755 */display: inline-block !important;position: relative;}#sk-container-id-4 div.sk-text-repr-fallback {display: none;}</style><div id=\"sk-container-id-4\" class=\"sk-top-container\"><div class=\"sk-text-repr-fallback\"><pre>RandomizedSearchCV(cv=StratifiedKFold(n_splits=5, random_state=3141592, shuffle=True),\n",
       "                   estimator=DecisionTreeClassifier(random_state=3141592),\n",
       "                   n_iter=100, n_jobs=-1,\n",
       "                   param_distributions={&#x27;criterion&#x27;: [&#x27;gini&#x27;, &#x27;entropy&#x27;],\n",
       "                                        &#x27;max_depth&#x27;: array([ 6,  8, 10, 12]),\n",
       "                                        &#x27;max_features&#x27;: [&#x27;sqrt&#x27;, &#x27;log2&#x27;],\n",
       "                                        &#x27;min_samples_leaf&#x27;: array([ 5, 10, 15, 20]),\n",
       "                                        &#x27;min_samples_split&#x27;: array([ 5, 10, 15, 20]),\n",
       "                                        &#x27;splitter&#x27;: [&#x27;best&#x27;, &#x27;random&#x27;]},\n",
       "                   random_state=3141592, scoring=&#x27;recall&#x27;)</pre><b>In a Jupyter environment, please rerun this cell to show the HTML representation or trust the notebook. <br />On GitHub, the HTML representation is unable to render, please try loading this page with nbviewer.org.</b></div><div class=\"sk-container\" hidden><div class=\"sk-item sk-dashed-wrapped\"><div class=\"sk-label-container\"><div class=\"sk-label sk-toggleable\"><input class=\"sk-toggleable__control sk-hidden--visually\" id=\"sk-estimator-id-11\" type=\"checkbox\" ><label for=\"sk-estimator-id-11\" class=\"sk-toggleable__label sk-toggleable__label-arrow\">RandomizedSearchCV</label><div class=\"sk-toggleable__content\"><pre>RandomizedSearchCV(cv=StratifiedKFold(n_splits=5, random_state=3141592, shuffle=True),\n",
       "                   estimator=DecisionTreeClassifier(random_state=3141592),\n",
       "                   n_iter=100, n_jobs=-1,\n",
       "                   param_distributions={&#x27;criterion&#x27;: [&#x27;gini&#x27;, &#x27;entropy&#x27;],\n",
       "                                        &#x27;max_depth&#x27;: array([ 6,  8, 10, 12]),\n",
       "                                        &#x27;max_features&#x27;: [&#x27;sqrt&#x27;, &#x27;log2&#x27;],\n",
       "                                        &#x27;min_samples_leaf&#x27;: array([ 5, 10, 15, 20]),\n",
       "                                        &#x27;min_samples_split&#x27;: array([ 5, 10, 15, 20]),\n",
       "                                        &#x27;splitter&#x27;: [&#x27;best&#x27;, &#x27;random&#x27;]},\n",
       "                   random_state=3141592, scoring=&#x27;recall&#x27;)</pre></div></div></div><div class=\"sk-parallel\"><div class=\"sk-parallel-item\"><div class=\"sk-item\"><div class=\"sk-label-container\"><div class=\"sk-label sk-toggleable\"><input class=\"sk-toggleable__control sk-hidden--visually\" id=\"sk-estimator-id-12\" type=\"checkbox\" ><label for=\"sk-estimator-id-12\" class=\"sk-toggleable__label sk-toggleable__label-arrow\">estimator: DecisionTreeClassifier</label><div class=\"sk-toggleable__content\"><pre>DecisionTreeClassifier(random_state=3141592)</pre></div></div></div><div class=\"sk-serial\"><div class=\"sk-item\"><div class=\"sk-estimator sk-toggleable\"><input class=\"sk-toggleable__control sk-hidden--visually\" id=\"sk-estimator-id-13\" type=\"checkbox\" ><label for=\"sk-estimator-id-13\" class=\"sk-toggleable__label sk-toggleable__label-arrow\">DecisionTreeClassifier</label><div class=\"sk-toggleable__content\"><pre>DecisionTreeClassifier(random_state=3141592)</pre></div></div></div></div></div></div></div></div></div></div>"
      ],
      "text/plain": [
       "RandomizedSearchCV(cv=StratifiedKFold(n_splits=5, random_state=3141592, shuffle=True),\n",
       "                   estimator=DecisionTreeClassifier(random_state=3141592),\n",
       "                   n_iter=100, n_jobs=-1,\n",
       "                   param_distributions={'criterion': ['gini', 'entropy'],\n",
       "                                        'max_depth': array([ 6,  8, 10, 12]),\n",
       "                                        'max_features': ['sqrt', 'log2'],\n",
       "                                        'min_samples_leaf': array([ 5, 10, 15, 20]),\n",
       "                                        'min_samples_split': array([ 5, 10, 15, 20]),\n",
       "                                        'splitter': ['best', 'random']},\n",
       "                   random_state=3141592, scoring='recall')"
      ]
     },
     "execution_count": 18,
     "metadata": {},
     "output_type": "execute_result"
    }
   ],
   "source": [
    "from sklearn.model_selection import RandomizedSearchCV\n",
    "\n",
    "grid_search = RandomizedSearchCV(\n",
    "    estimator= DecisionTreeClassifier(random_state=RANDOM_STATE), #modelo\n",
    "    param_distributions=param_grid_dt, #grade de parametros\n",
    "    n_iter=100, #número de vezes que vamos buscar aleatoriamente dentro da grade de hiperparâmetros essas combinações para avaliar o modelo\n",
    "    scoring='recall',\n",
    "    n_jobs=-1,\n",
    "    cv=inner_cv,\n",
    "    random_state=RANDOM_STATE)\n",
    "\n",
    "# Validação cruzada externa\n",
    "rs_dt_nested_score = cross_val_score(grid_search, x_treino, y_treino, cv=outer_cv)\n",
    "\n",
    "print(f'resultado de cada iteração do cv externo: {rs_dt_nested_score}')\n",
    "print(f'média: {rs_dt_nested_score.mean()}')\n",
    "\n",
    "grid_search.fit(x_treino, y_treino)"
   ]
  },
  {
   "cell_type": "code",
   "execution_count": 19,
   "id": "dde29d15",
   "metadata": {},
   "outputs": [
    {
     "data": {
      "text/html": [
       "<div>\n",
       "<style scoped>\n",
       "    .dataframe tbody tr th:only-of-type {\n",
       "        vertical-align: middle;\n",
       "    }\n",
       "\n",
       "    .dataframe tbody tr th {\n",
       "        vertical-align: top;\n",
       "    }\n",
       "\n",
       "    .dataframe thead th {\n",
       "        text-align: right;\n",
       "    }\n",
       "</style>\n",
       "<table border=\"1\" class=\"dataframe\">\n",
       "  <thead>\n",
       "    <tr style=\"text-align: right;\">\n",
       "      <th></th>\n",
       "      <th>0</th>\n",
       "      <th>1</th>\n",
       "      <th>2</th>\n",
       "      <th>3</th>\n",
       "      <th>4</th>\n",
       "    </tr>\n",
       "  </thead>\n",
       "  <tbody>\n",
       "    <tr>\n",
       "      <th>mean_fit_time</th>\n",
       "      <td>0.001</td>\n",
       "      <td>0.001145</td>\n",
       "      <td>0.001906</td>\n",
       "      <td>0.000798</td>\n",
       "      <td>0.001562</td>\n",
       "    </tr>\n",
       "    <tr>\n",
       "      <th>std_fit_time</th>\n",
       "      <td>0.000633</td>\n",
       "      <td>0.00019</td>\n",
       "      <td>0.000589</td>\n",
       "      <td>0.000399</td>\n",
       "      <td>0.000935</td>\n",
       "    </tr>\n",
       "    <tr>\n",
       "      <th>mean_score_time</th>\n",
       "      <td>0.0012</td>\n",
       "      <td>0.001213</td>\n",
       "      <td>0.001305</td>\n",
       "      <td>0.001398</td>\n",
       "      <td>0.001954</td>\n",
       "    </tr>\n",
       "    <tr>\n",
       "      <th>std_score_time</th>\n",
       "      <td>0.0004</td>\n",
       "      <td>0.000394</td>\n",
       "      <td>0.000251</td>\n",
       "      <td>0.000592</td>\n",
       "      <td>0.000519</td>\n",
       "    </tr>\n",
       "    <tr>\n",
       "      <th>param_splitter</th>\n",
       "      <td>random</td>\n",
       "      <td>random</td>\n",
       "      <td>best</td>\n",
       "      <td>random</td>\n",
       "      <td>random</td>\n",
       "    </tr>\n",
       "    <tr>\n",
       "      <th>param_min_samples_split</th>\n",
       "      <td>15</td>\n",
       "      <td>20</td>\n",
       "      <td>15</td>\n",
       "      <td>15</td>\n",
       "      <td>5</td>\n",
       "    </tr>\n",
       "    <tr>\n",
       "      <th>param_min_samples_leaf</th>\n",
       "      <td>5</td>\n",
       "      <td>15</td>\n",
       "      <td>20</td>\n",
       "      <td>10</td>\n",
       "      <td>15</td>\n",
       "    </tr>\n",
       "    <tr>\n",
       "      <th>param_max_features</th>\n",
       "      <td>sqrt</td>\n",
       "      <td>sqrt</td>\n",
       "      <td>sqrt</td>\n",
       "      <td>log2</td>\n",
       "      <td>sqrt</td>\n",
       "    </tr>\n",
       "    <tr>\n",
       "      <th>param_max_depth</th>\n",
       "      <td>6</td>\n",
       "      <td>6</td>\n",
       "      <td>8</td>\n",
       "      <td>8</td>\n",
       "      <td>6</td>\n",
       "    </tr>\n",
       "    <tr>\n",
       "      <th>param_criterion</th>\n",
       "      <td>gini</td>\n",
       "      <td>entropy</td>\n",
       "      <td>entropy</td>\n",
       "      <td>entropy</td>\n",
       "      <td>gini</td>\n",
       "    </tr>\n",
       "    <tr>\n",
       "      <th>params</th>\n",
       "      <td>{'splitter': 'random', 'min_samples_split': 15...</td>\n",
       "      <td>{'splitter': 'random', 'min_samples_split': 20...</td>\n",
       "      <td>{'splitter': 'best', 'min_samples_split': 15, ...</td>\n",
       "      <td>{'splitter': 'random', 'min_samples_split': 15...</td>\n",
       "      <td>{'splitter': 'random', 'min_samples_split': 5,...</td>\n",
       "    </tr>\n",
       "    <tr>\n",
       "      <th>split0_test_score</th>\n",
       "      <td>0.907895</td>\n",
       "      <td>0.736842</td>\n",
       "      <td>0.657895</td>\n",
       "      <td>0.921053</td>\n",
       "      <td>0.855263</td>\n",
       "    </tr>\n",
       "    <tr>\n",
       "      <th>split1_test_score</th>\n",
       "      <td>0.826667</td>\n",
       "      <td>0.88</td>\n",
       "      <td>0.786667</td>\n",
       "      <td>0.786667</td>\n",
       "      <td>0.88</td>\n",
       "    </tr>\n",
       "    <tr>\n",
       "      <th>split2_test_score</th>\n",
       "      <td>0.84</td>\n",
       "      <td>0.84</td>\n",
       "      <td>0.866667</td>\n",
       "      <td>0.853333</td>\n",
       "      <td>0.84</td>\n",
       "    </tr>\n",
       "    <tr>\n",
       "      <th>split3_test_score</th>\n",
       "      <td>0.746667</td>\n",
       "      <td>0.8</td>\n",
       "      <td>0.613333</td>\n",
       "      <td>0.826667</td>\n",
       "      <td>0.8</td>\n",
       "    </tr>\n",
       "    <tr>\n",
       "      <th>split4_test_score</th>\n",
       "      <td>0.773333</td>\n",
       "      <td>0.773333</td>\n",
       "      <td>0.786667</td>\n",
       "      <td>0.773333</td>\n",
       "      <td>0.773333</td>\n",
       "    </tr>\n",
       "    <tr>\n",
       "      <th>mean_test_score</th>\n",
       "      <td>0.818912</td>\n",
       "      <td>0.806035</td>\n",
       "      <td>0.742246</td>\n",
       "      <td>0.832211</td>\n",
       "      <td>0.829719</td>\n",
       "    </tr>\n",
       "    <tr>\n",
       "      <th>std_test_score</th>\n",
       "      <td>0.056071</td>\n",
       "      <td>0.050036</td>\n",
       "      <td>0.092909</td>\n",
       "      <td>0.052746</td>\n",
       "      <td>0.038338</td>\n",
       "    </tr>\n",
       "    <tr>\n",
       "      <th>rank_test_score</th>\n",
       "      <td>15</td>\n",
       "      <td>24</td>\n",
       "      <td>66</td>\n",
       "      <td>1</td>\n",
       "      <td>4</td>\n",
       "    </tr>\n",
       "  </tbody>\n",
       "</table>\n",
       "</div>"
      ],
      "text/plain": [
       "                                                                         0  \\\n",
       "mean_fit_time                                                        0.001   \n",
       "std_fit_time                                                      0.000633   \n",
       "mean_score_time                                                     0.0012   \n",
       "std_score_time                                                      0.0004   \n",
       "param_splitter                                                      random   \n",
       "param_min_samples_split                                                 15   \n",
       "param_min_samples_leaf                                                   5   \n",
       "param_max_features                                                    sqrt   \n",
       "param_max_depth                                                          6   \n",
       "param_criterion                                                       gini   \n",
       "params                   {'splitter': 'random', 'min_samples_split': 15...   \n",
       "split0_test_score                                                 0.907895   \n",
       "split1_test_score                                                 0.826667   \n",
       "split2_test_score                                                     0.84   \n",
       "split3_test_score                                                 0.746667   \n",
       "split4_test_score                                                 0.773333   \n",
       "mean_test_score                                                   0.818912   \n",
       "std_test_score                                                    0.056071   \n",
       "rank_test_score                                                         15   \n",
       "\n",
       "                                                                         1  \\\n",
       "mean_fit_time                                                     0.001145   \n",
       "std_fit_time                                                       0.00019   \n",
       "mean_score_time                                                   0.001213   \n",
       "std_score_time                                                    0.000394   \n",
       "param_splitter                                                      random   \n",
       "param_min_samples_split                                                 20   \n",
       "param_min_samples_leaf                                                  15   \n",
       "param_max_features                                                    sqrt   \n",
       "param_max_depth                                                          6   \n",
       "param_criterion                                                    entropy   \n",
       "params                   {'splitter': 'random', 'min_samples_split': 20...   \n",
       "split0_test_score                                                 0.736842   \n",
       "split1_test_score                                                     0.88   \n",
       "split2_test_score                                                     0.84   \n",
       "split3_test_score                                                      0.8   \n",
       "split4_test_score                                                 0.773333   \n",
       "mean_test_score                                                   0.806035   \n",
       "std_test_score                                                    0.050036   \n",
       "rank_test_score                                                         24   \n",
       "\n",
       "                                                                         2  \\\n",
       "mean_fit_time                                                     0.001906   \n",
       "std_fit_time                                                      0.000589   \n",
       "mean_score_time                                                   0.001305   \n",
       "std_score_time                                                    0.000251   \n",
       "param_splitter                                                        best   \n",
       "param_min_samples_split                                                 15   \n",
       "param_min_samples_leaf                                                  20   \n",
       "param_max_features                                                    sqrt   \n",
       "param_max_depth                                                          8   \n",
       "param_criterion                                                    entropy   \n",
       "params                   {'splitter': 'best', 'min_samples_split': 15, ...   \n",
       "split0_test_score                                                 0.657895   \n",
       "split1_test_score                                                 0.786667   \n",
       "split2_test_score                                                 0.866667   \n",
       "split3_test_score                                                 0.613333   \n",
       "split4_test_score                                                 0.786667   \n",
       "mean_test_score                                                   0.742246   \n",
       "std_test_score                                                    0.092909   \n",
       "rank_test_score                                                         66   \n",
       "\n",
       "                                                                         3  \\\n",
       "mean_fit_time                                                     0.000798   \n",
       "std_fit_time                                                      0.000399   \n",
       "mean_score_time                                                   0.001398   \n",
       "std_score_time                                                    0.000592   \n",
       "param_splitter                                                      random   \n",
       "param_min_samples_split                                                 15   \n",
       "param_min_samples_leaf                                                  10   \n",
       "param_max_features                                                    log2   \n",
       "param_max_depth                                                          8   \n",
       "param_criterion                                                    entropy   \n",
       "params                   {'splitter': 'random', 'min_samples_split': 15...   \n",
       "split0_test_score                                                 0.921053   \n",
       "split1_test_score                                                 0.786667   \n",
       "split2_test_score                                                 0.853333   \n",
       "split3_test_score                                                 0.826667   \n",
       "split4_test_score                                                 0.773333   \n",
       "mean_test_score                                                   0.832211   \n",
       "std_test_score                                                    0.052746   \n",
       "rank_test_score                                                          1   \n",
       "\n",
       "                                                                         4  \n",
       "mean_fit_time                                                     0.001562  \n",
       "std_fit_time                                                      0.000935  \n",
       "mean_score_time                                                   0.001954  \n",
       "std_score_time                                                    0.000519  \n",
       "param_splitter                                                      random  \n",
       "param_min_samples_split                                                  5  \n",
       "param_min_samples_leaf                                                  15  \n",
       "param_max_features                                                    sqrt  \n",
       "param_max_depth                                                          6  \n",
       "param_criterion                                                       gini  \n",
       "params                   {'splitter': 'random', 'min_samples_split': 5,...  \n",
       "split0_test_score                                                 0.855263  \n",
       "split1_test_score                                                     0.88  \n",
       "split2_test_score                                                     0.84  \n",
       "split3_test_score                                                      0.8  \n",
       "split4_test_score                                                 0.773333  \n",
       "mean_test_score                                                   0.829719  \n",
       "std_test_score                                                    0.038338  \n",
       "rank_test_score                                                          4  "
      ]
     },
     "metadata": {},
     "output_type": "display_data"
    },
    {
     "data": {
      "text/html": [
       "<div>\n",
       "<style scoped>\n",
       "    .dataframe tbody tr th:only-of-type {\n",
       "        vertical-align: middle;\n",
       "    }\n",
       "\n",
       "    .dataframe tbody tr th {\n",
       "        vertical-align: top;\n",
       "    }\n",
       "\n",
       "    .dataframe thead th {\n",
       "        text-align: right;\n",
       "    }\n",
       "</style>\n",
       "<table border=\"1\" class=\"dataframe\">\n",
       "  <thead>\n",
       "    <tr style=\"text-align: right;\">\n",
       "      <th></th>\n",
       "      <th>3</th>\n",
       "    </tr>\n",
       "  </thead>\n",
       "  <tbody>\n",
       "    <tr>\n",
       "      <th>mean_fit_time</th>\n",
       "      <td>0.000798</td>\n",
       "    </tr>\n",
       "    <tr>\n",
       "      <th>std_fit_time</th>\n",
       "      <td>0.000399</td>\n",
       "    </tr>\n",
       "    <tr>\n",
       "      <th>mean_score_time</th>\n",
       "      <td>0.001398</td>\n",
       "    </tr>\n",
       "    <tr>\n",
       "      <th>std_score_time</th>\n",
       "      <td>0.000592</td>\n",
       "    </tr>\n",
       "    <tr>\n",
       "      <th>param_splitter</th>\n",
       "      <td>random</td>\n",
       "    </tr>\n",
       "    <tr>\n",
       "      <th>param_min_samples_split</th>\n",
       "      <td>15</td>\n",
       "    </tr>\n",
       "    <tr>\n",
       "      <th>param_min_samples_leaf</th>\n",
       "      <td>10</td>\n",
       "    </tr>\n",
       "    <tr>\n",
       "      <th>param_max_features</th>\n",
       "      <td>log2</td>\n",
       "    </tr>\n",
       "    <tr>\n",
       "      <th>param_max_depth</th>\n",
       "      <td>8</td>\n",
       "    </tr>\n",
       "    <tr>\n",
       "      <th>param_criterion</th>\n",
       "      <td>entropy</td>\n",
       "    </tr>\n",
       "    <tr>\n",
       "      <th>params</th>\n",
       "      <td>{'splitter': 'random', 'min_samples_split': 15...</td>\n",
       "    </tr>\n",
       "    <tr>\n",
       "      <th>split0_test_score</th>\n",
       "      <td>0.921053</td>\n",
       "    </tr>\n",
       "    <tr>\n",
       "      <th>split1_test_score</th>\n",
       "      <td>0.786667</td>\n",
       "    </tr>\n",
       "    <tr>\n",
       "      <th>split2_test_score</th>\n",
       "      <td>0.853333</td>\n",
       "    </tr>\n",
       "    <tr>\n",
       "      <th>split3_test_score</th>\n",
       "      <td>0.826667</td>\n",
       "    </tr>\n",
       "    <tr>\n",
       "      <th>split4_test_score</th>\n",
       "      <td>0.773333</td>\n",
       "    </tr>\n",
       "    <tr>\n",
       "      <th>mean_test_score</th>\n",
       "      <td>0.832211</td>\n",
       "    </tr>\n",
       "    <tr>\n",
       "      <th>std_test_score</th>\n",
       "      <td>0.052746</td>\n",
       "    </tr>\n",
       "    <tr>\n",
       "      <th>rank_test_score</th>\n",
       "      <td>1</td>\n",
       "    </tr>\n",
       "  </tbody>\n",
       "</table>\n",
       "</div>"
      ],
      "text/plain": [
       "                                                                         3\n",
       "mean_fit_time                                                     0.000798\n",
       "std_fit_time                                                      0.000399\n",
       "mean_score_time                                                   0.001398\n",
       "std_score_time                                                    0.000592\n",
       "param_splitter                                                      random\n",
       "param_min_samples_split                                                 15\n",
       "param_min_samples_leaf                                                  10\n",
       "param_max_features                                                    log2\n",
       "param_max_depth                                                          8\n",
       "param_criterion                                                    entropy\n",
       "params                   {'splitter': 'random', 'min_samples_split': 15...\n",
       "split0_test_score                                                 0.921053\n",
       "split1_test_score                                                 0.786667\n",
       "split2_test_score                                                 0.853333\n",
       "split3_test_score                                                 0.826667\n",
       "split4_test_score                                                 0.773333\n",
       "mean_test_score                                                   0.832211\n",
       "std_test_score                                                    0.052746\n",
       "rank_test_score                                                          1"
      ]
     },
     "metadata": {},
     "output_type": "display_data"
    }
   ],
   "source": [
    "cv_results = pd.DataFrame(grid_search.cv_results_)\n",
    "display(cv_results.head().T)\n",
    "###################################################\n",
    "# melhores hiper-parametros\n",
    "#display(grid_search.best_params_)\n",
    "\n",
    "#  melhor modelo\n",
    "display(cv_results.loc[[grid_search.best_index_]].T)"
   ]
  },
  {
   "cell_type": "markdown",
   "id": "76d84282",
   "metadata": {},
   "source": [
    "## in Logistic Regression"
   ]
  },
  {
   "cell_type": "code",
   "execution_count": 20,
   "id": "e8bd4a49",
   "metadata": {},
   "outputs": [
    {
     "name": "stdout",
     "output_type": "stream",
     "text": [
      "resultado de cada iteração do cv externo: [0.93650794 0.968      0.904     ]\n",
      "média: 0.9361693121693122\n"
     ]
    },
    {
     "data": {
      "text/html": [
       "<style>#sk-container-id-5 {color: black;background-color: white;}#sk-container-id-5 pre{padding: 0;}#sk-container-id-5 div.sk-toggleable {background-color: white;}#sk-container-id-5 label.sk-toggleable__label {cursor: pointer;display: block;width: 100%;margin-bottom: 0;padding: 0.3em;box-sizing: border-box;text-align: center;}#sk-container-id-5 label.sk-toggleable__label-arrow:before {content: \"▸\";float: left;margin-right: 0.25em;color: #696969;}#sk-container-id-5 label.sk-toggleable__label-arrow:hover:before {color: black;}#sk-container-id-5 div.sk-estimator:hover label.sk-toggleable__label-arrow:before {color: black;}#sk-container-id-5 div.sk-toggleable__content {max-height: 0;max-width: 0;overflow: hidden;text-align: left;background-color: #f0f8ff;}#sk-container-id-5 div.sk-toggleable__content pre {margin: 0.2em;color: black;border-radius: 0.25em;background-color: #f0f8ff;}#sk-container-id-5 input.sk-toggleable__control:checked~div.sk-toggleable__content {max-height: 200px;max-width: 100%;overflow: auto;}#sk-container-id-5 input.sk-toggleable__control:checked~label.sk-toggleable__label-arrow:before {content: \"▾\";}#sk-container-id-5 div.sk-estimator input.sk-toggleable__control:checked~label.sk-toggleable__label {background-color: #d4ebff;}#sk-container-id-5 div.sk-label input.sk-toggleable__control:checked~label.sk-toggleable__label {background-color: #d4ebff;}#sk-container-id-5 input.sk-hidden--visually {border: 0;clip: rect(1px 1px 1px 1px);clip: rect(1px, 1px, 1px, 1px);height: 1px;margin: -1px;overflow: hidden;padding: 0;position: absolute;width: 1px;}#sk-container-id-5 div.sk-estimator {font-family: monospace;background-color: #f0f8ff;border: 1px dotted black;border-radius: 0.25em;box-sizing: border-box;margin-bottom: 0.5em;}#sk-container-id-5 div.sk-estimator:hover {background-color: #d4ebff;}#sk-container-id-5 div.sk-parallel-item::after {content: \"\";width: 100%;border-bottom: 1px solid gray;flex-grow: 1;}#sk-container-id-5 div.sk-label:hover label.sk-toggleable__label {background-color: #d4ebff;}#sk-container-id-5 div.sk-serial::before {content: \"\";position: absolute;border-left: 1px solid gray;box-sizing: border-box;top: 0;bottom: 0;left: 50%;z-index: 0;}#sk-container-id-5 div.sk-serial {display: flex;flex-direction: column;align-items: center;background-color: white;padding-right: 0.2em;padding-left: 0.2em;position: relative;}#sk-container-id-5 div.sk-item {position: relative;z-index: 1;}#sk-container-id-5 div.sk-parallel {display: flex;align-items: stretch;justify-content: center;background-color: white;position: relative;}#sk-container-id-5 div.sk-item::before, #sk-container-id-5 div.sk-parallel-item::before {content: \"\";position: absolute;border-left: 1px solid gray;box-sizing: border-box;top: 0;bottom: 0;left: 50%;z-index: -1;}#sk-container-id-5 div.sk-parallel-item {display: flex;flex-direction: column;z-index: 1;position: relative;background-color: white;}#sk-container-id-5 div.sk-parallel-item:first-child::after {align-self: flex-end;width: 50%;}#sk-container-id-5 div.sk-parallel-item:last-child::after {align-self: flex-start;width: 50%;}#sk-container-id-5 div.sk-parallel-item:only-child::after {width: 0;}#sk-container-id-5 div.sk-dashed-wrapped {border: 1px dashed gray;margin: 0 0.4em 0.5em 0.4em;box-sizing: border-box;padding-bottom: 0.4em;background-color: white;}#sk-container-id-5 div.sk-label label {font-family: monospace;font-weight: bold;display: inline-block;line-height: 1.2em;}#sk-container-id-5 div.sk-label-container {text-align: center;}#sk-container-id-5 div.sk-container {/* jupyter's `normalize.less` sets `[hidden] { display: none; }` but bootstrap.min.css set `[hidden] { display: none !important; }` so we also need the `!important` here to be able to override the default hidden behavior on the sphinx rendered scikit-learn.org. See: https://github.com/scikit-learn/scikit-learn/issues/21755 */display: inline-block !important;position: relative;}#sk-container-id-5 div.sk-text-repr-fallback {display: none;}</style><div id=\"sk-container-id-5\" class=\"sk-top-container\"><div class=\"sk-text-repr-fallback\"><pre>RandomizedSearchCV(cv=StratifiedKFold(n_splits=5, random_state=3141592, shuffle=True),\n",
       "                   estimator=Pipeline(steps=[(&#x27;standardscaler&#x27;,\n",
       "                                              StandardScaler()),\n",
       "                                             (&#x27;logisticregression&#x27;,\n",
       "                                              LogisticRegression())]),\n",
       "                   n_iter=50, n_jobs=-1,\n",
       "                   param_distributions=[{&#x27;logisticregression__C&#x27;: [0.001, 0.01,\n",
       "                                                                   0.1, 1, 10],\n",
       "                                         &#x27;logisticregression__max_iter&#x27;: array([100, 150, 200, 250, 300]),\n",
       "                                         &#x27;logisticregression__penalty&#x27;: [&#x27;l2&#x27;],\n",
       "                                         &#x27;logisticregression__solver&#x27;: [&#x27;newton-cg&#x27;,\n",
       "                                                                        &#x27;lbfgs&#x27;]},\n",
       "                                        {&#x27;logisticregression__C&#x27;: [0.001, 0.01,\n",
       "                                                                   0.1, 1, 10],\n",
       "                                         &#x27;logisticregression__max_iter&#x27;: array([100, 150, 200, 250, 300]),\n",
       "                                         &#x27;logisticregression__penalty&#x27;: [&#x27;l1&#x27;,\n",
       "                                                                         &#x27;l2&#x27;],\n",
       "                                         &#x27;logisticregression__solver&#x27;: [&#x27;liblinear&#x27;]}],\n",
       "                   random_state=3141592, scoring=&#x27;recall&#x27;)</pre><b>In a Jupyter environment, please rerun this cell to show the HTML representation or trust the notebook. <br />On GitHub, the HTML representation is unable to render, please try loading this page with nbviewer.org.</b></div><div class=\"sk-container\" hidden><div class=\"sk-item sk-dashed-wrapped\"><div class=\"sk-label-container\"><div class=\"sk-label sk-toggleable\"><input class=\"sk-toggleable__control sk-hidden--visually\" id=\"sk-estimator-id-14\" type=\"checkbox\" ><label for=\"sk-estimator-id-14\" class=\"sk-toggleable__label sk-toggleable__label-arrow\">RandomizedSearchCV</label><div class=\"sk-toggleable__content\"><pre>RandomizedSearchCV(cv=StratifiedKFold(n_splits=5, random_state=3141592, shuffle=True),\n",
       "                   estimator=Pipeline(steps=[(&#x27;standardscaler&#x27;,\n",
       "                                              StandardScaler()),\n",
       "                                             (&#x27;logisticregression&#x27;,\n",
       "                                              LogisticRegression())]),\n",
       "                   n_iter=50, n_jobs=-1,\n",
       "                   param_distributions=[{&#x27;logisticregression__C&#x27;: [0.001, 0.01,\n",
       "                                                                   0.1, 1, 10],\n",
       "                                         &#x27;logisticregression__max_iter&#x27;: array([100, 150, 200, 250, 300]),\n",
       "                                         &#x27;logisticregression__penalty&#x27;: [&#x27;l2&#x27;],\n",
       "                                         &#x27;logisticregression__solver&#x27;: [&#x27;newton-cg&#x27;,\n",
       "                                                                        &#x27;lbfgs&#x27;]},\n",
       "                                        {&#x27;logisticregression__C&#x27;: [0.001, 0.01,\n",
       "                                                                   0.1, 1, 10],\n",
       "                                         &#x27;logisticregression__max_iter&#x27;: array([100, 150, 200, 250, 300]),\n",
       "                                         &#x27;logisticregression__penalty&#x27;: [&#x27;l1&#x27;,\n",
       "                                                                         &#x27;l2&#x27;],\n",
       "                                         &#x27;logisticregression__solver&#x27;: [&#x27;liblinear&#x27;]}],\n",
       "                   random_state=3141592, scoring=&#x27;recall&#x27;)</pre></div></div></div><div class=\"sk-parallel\"><div class=\"sk-parallel-item\"><div class=\"sk-item\"><div class=\"sk-label-container\"><div class=\"sk-label sk-toggleable\"><input class=\"sk-toggleable__control sk-hidden--visually\" id=\"sk-estimator-id-15\" type=\"checkbox\" ><label for=\"sk-estimator-id-15\" class=\"sk-toggleable__label sk-toggleable__label-arrow\">estimator: Pipeline</label><div class=\"sk-toggleable__content\"><pre>Pipeline(steps=[(&#x27;standardscaler&#x27;, StandardScaler()),\n",
       "                (&#x27;logisticregression&#x27;, LogisticRegression())])</pre></div></div></div><div class=\"sk-serial\"><div class=\"sk-item\"><div class=\"sk-serial\"><div class=\"sk-item\"><div class=\"sk-estimator sk-toggleable\"><input class=\"sk-toggleable__control sk-hidden--visually\" id=\"sk-estimator-id-16\" type=\"checkbox\" ><label for=\"sk-estimator-id-16\" class=\"sk-toggleable__label sk-toggleable__label-arrow\">StandardScaler</label><div class=\"sk-toggleable__content\"><pre>StandardScaler()</pre></div></div></div><div class=\"sk-item\"><div class=\"sk-estimator sk-toggleable\"><input class=\"sk-toggleable__control sk-hidden--visually\" id=\"sk-estimator-id-17\" type=\"checkbox\" ><label for=\"sk-estimator-id-17\" class=\"sk-toggleable__label sk-toggleable__label-arrow\">LogisticRegression</label><div class=\"sk-toggleable__content\"><pre>LogisticRegression()</pre></div></div></div></div></div></div></div></div></div></div></div></div>"
      ],
      "text/plain": [
       "RandomizedSearchCV(cv=StratifiedKFold(n_splits=5, random_state=3141592, shuffle=True),\n",
       "                   estimator=Pipeline(steps=[('standardscaler',\n",
       "                                              StandardScaler()),\n",
       "                                             ('logisticregression',\n",
       "                                              LogisticRegression())]),\n",
       "                   n_iter=50, n_jobs=-1,\n",
       "                   param_distributions=[{'logisticregression__C': [0.001, 0.01,\n",
       "                                                                   0.1, 1, 10],\n",
       "                                         'logisticregression__max_iter': array([100, 150, 200, 250, 300]),\n",
       "                                         'logisticregression__penalty': ['l2'],\n",
       "                                         'logisticregression__solver': ['newton-cg',\n",
       "                                                                        'lbfgs']},\n",
       "                                        {'logisticregression__C': [0.001, 0.01,\n",
       "                                                                   0.1, 1, 10],\n",
       "                                         'logisticregression__max_iter': array([100, 150, 200, 250, 300]),\n",
       "                                         'logisticregression__penalty': ['l1',\n",
       "                                                                         'l2'],\n",
       "                                         'logisticregression__solver': ['liblinear']}],\n",
       "                   random_state=3141592, scoring='recall')"
      ]
     },
     "execution_count": 20,
     "metadata": {},
     "output_type": "execute_result"
    }
   ],
   "source": [
    "grid_search = RandomizedSearchCV(estimator=make_pipeline(StandardScaler(), LogisticRegression()),\n",
    "        param_distributions=param_grid_lr,\n",
    "        n_iter=50,\n",
    "        scoring='recall',\n",
    "        n_jobs=-1,\n",
    "        cv=inner_cv,\n",
    "        random_state=RANDOM_STATE)\n",
    "        \n",
    "# Validação cruzada externa\n",
    "rs_lr_nested_scores = cross_val_score(grid_search, x_treino, y_treino, cv=outer_cv)\n",
    "\n",
    "print(f'resultado de cada iteração do cv externo: {rs_lr_nested_scores}')\n",
    "print(f'média: {rs_lr_nested_scores.mean()}')\n",
    "\n",
    "# Treinando modelo\n",
    "grid_search.fit(x_treino, y_treino)"
   ]
  },
  {
   "cell_type": "code",
   "execution_count": 21,
   "id": "576114bd",
   "metadata": {},
   "outputs": [
    {
     "data": {
      "text/html": [
       "<div>\n",
       "<style scoped>\n",
       "    .dataframe tbody tr th:only-of-type {\n",
       "        vertical-align: middle;\n",
       "    }\n",
       "\n",
       "    .dataframe tbody tr th {\n",
       "        vertical-align: top;\n",
       "    }\n",
       "\n",
       "    .dataframe thead th {\n",
       "        text-align: right;\n",
       "    }\n",
       "</style>\n",
       "<table border=\"1\" class=\"dataframe\">\n",
       "  <thead>\n",
       "    <tr style=\"text-align: right;\">\n",
       "      <th></th>\n",
       "      <th>0</th>\n",
       "      <th>1</th>\n",
       "      <th>2</th>\n",
       "      <th>3</th>\n",
       "      <th>4</th>\n",
       "    </tr>\n",
       "  </thead>\n",
       "  <tbody>\n",
       "    <tr>\n",
       "      <th>mean_fit_time</th>\n",
       "      <td>0.008846</td>\n",
       "      <td>0.00473</td>\n",
       "      <td>0.00728</td>\n",
       "      <td>0.0028</td>\n",
       "      <td>0.005792</td>\n",
       "    </tr>\n",
       "    <tr>\n",
       "      <th>std_fit_time</th>\n",
       "      <td>0.001491</td>\n",
       "      <td>0.000735</td>\n",
       "      <td>0.000641</td>\n",
       "      <td>0.000686</td>\n",
       "      <td>0.001606</td>\n",
       "    </tr>\n",
       "    <tr>\n",
       "      <th>mean_score_time</th>\n",
       "      <td>0.002017</td>\n",
       "      <td>0.002021</td>\n",
       "      <td>0.002309</td>\n",
       "      <td>0.001921</td>\n",
       "      <td>0.002734</td>\n",
       "    </tr>\n",
       "    <tr>\n",
       "      <th>std_score_time</th>\n",
       "      <td>0.000633</td>\n",
       "      <td>0.000362</td>\n",
       "      <td>0.000399</td>\n",
       "      <td>0.001021</td>\n",
       "      <td>0.00086</td>\n",
       "    </tr>\n",
       "    <tr>\n",
       "      <th>param_logisticregression__solver</th>\n",
       "      <td>newton-cg</td>\n",
       "      <td>liblinear</td>\n",
       "      <td>newton-cg</td>\n",
       "      <td>liblinear</td>\n",
       "      <td>lbfgs</td>\n",
       "    </tr>\n",
       "    <tr>\n",
       "      <th>param_logisticregression__penalty</th>\n",
       "      <td>l2</td>\n",
       "      <td>l1</td>\n",
       "      <td>l2</td>\n",
       "      <td>l1</td>\n",
       "      <td>l2</td>\n",
       "    </tr>\n",
       "    <tr>\n",
       "      <th>param_logisticregression__max_iter</th>\n",
       "      <td>300</td>\n",
       "      <td>100</td>\n",
       "      <td>200</td>\n",
       "      <td>200</td>\n",
       "      <td>250</td>\n",
       "    </tr>\n",
       "    <tr>\n",
       "      <th>param_logisticregression__C</th>\n",
       "      <td>10</td>\n",
       "      <td>0.1</td>\n",
       "      <td>0.1</td>\n",
       "      <td>0.001</td>\n",
       "      <td>0.1</td>\n",
       "    </tr>\n",
       "    <tr>\n",
       "      <th>params</th>\n",
       "      <td>{'logisticregression__solver': 'newton-cg', 'l...</td>\n",
       "      <td>{'logisticregression__solver': 'liblinear', 'l...</td>\n",
       "      <td>{'logisticregression__solver': 'newton-cg', 'l...</td>\n",
       "      <td>{'logisticregression__solver': 'liblinear', 'l...</td>\n",
       "      <td>{'logisticregression__solver': 'lbfgs', 'logis...</td>\n",
       "    </tr>\n",
       "    <tr>\n",
       "      <th>split0_test_score</th>\n",
       "      <td>0.947368</td>\n",
       "      <td>0.934211</td>\n",
       "      <td>0.934211</td>\n",
       "      <td>0.0</td>\n",
       "      <td>0.934211</td>\n",
       "    </tr>\n",
       "    <tr>\n",
       "      <th>split1_test_score</th>\n",
       "      <td>0.933333</td>\n",
       "      <td>0.92</td>\n",
       "      <td>0.946667</td>\n",
       "      <td>0.0</td>\n",
       "      <td>0.946667</td>\n",
       "    </tr>\n",
       "    <tr>\n",
       "      <th>split2_test_score</th>\n",
       "      <td>0.946667</td>\n",
       "      <td>0.973333</td>\n",
       "      <td>0.946667</td>\n",
       "      <td>0.0</td>\n",
       "      <td>0.946667</td>\n",
       "    </tr>\n",
       "    <tr>\n",
       "      <th>split3_test_score</th>\n",
       "      <td>0.906667</td>\n",
       "      <td>0.92</td>\n",
       "      <td>0.92</td>\n",
       "      <td>0.0</td>\n",
       "      <td>0.92</td>\n",
       "    </tr>\n",
       "    <tr>\n",
       "      <th>split4_test_score</th>\n",
       "      <td>0.88</td>\n",
       "      <td>0.893333</td>\n",
       "      <td>0.88</td>\n",
       "      <td>0.0</td>\n",
       "      <td>0.88</td>\n",
       "    </tr>\n",
       "    <tr>\n",
       "      <th>mean_test_score</th>\n",
       "      <td>0.922807</td>\n",
       "      <td>0.928175</td>\n",
       "      <td>0.925509</td>\n",
       "      <td>0.0</td>\n",
       "      <td>0.925509</td>\n",
       "    </tr>\n",
       "    <tr>\n",
       "      <th>std_test_score</th>\n",
       "      <td>0.025986</td>\n",
       "      <td>0.026166</td>\n",
       "      <td>0.024789</td>\n",
       "      <td>0.0</td>\n",
       "      <td>0.024789</td>\n",
       "    </tr>\n",
       "    <tr>\n",
       "      <th>rank_test_score</th>\n",
       "      <td>24</td>\n",
       "      <td>15</td>\n",
       "      <td>17</td>\n",
       "      <td>49</td>\n",
       "      <td>17</td>\n",
       "    </tr>\n",
       "  </tbody>\n",
       "</table>\n",
       "</div>"
      ],
      "text/plain": [
       "                                                                                    0  \\\n",
       "mean_fit_time                                                                0.008846   \n",
       "std_fit_time                                                                 0.001491   \n",
       "mean_score_time                                                              0.002017   \n",
       "std_score_time                                                               0.000633   \n",
       "param_logisticregression__solver                                            newton-cg   \n",
       "param_logisticregression__penalty                                                  l2   \n",
       "param_logisticregression__max_iter                                                300   \n",
       "param_logisticregression__C                                                        10   \n",
       "params                              {'logisticregression__solver': 'newton-cg', 'l...   \n",
       "split0_test_score                                                            0.947368   \n",
       "split1_test_score                                                            0.933333   \n",
       "split2_test_score                                                            0.946667   \n",
       "split3_test_score                                                            0.906667   \n",
       "split4_test_score                                                                0.88   \n",
       "mean_test_score                                                              0.922807   \n",
       "std_test_score                                                               0.025986   \n",
       "rank_test_score                                                                    24   \n",
       "\n",
       "                                                                                    1  \\\n",
       "mean_fit_time                                                                 0.00473   \n",
       "std_fit_time                                                                 0.000735   \n",
       "mean_score_time                                                              0.002021   \n",
       "std_score_time                                                               0.000362   \n",
       "param_logisticregression__solver                                            liblinear   \n",
       "param_logisticregression__penalty                                                  l1   \n",
       "param_logisticregression__max_iter                                                100   \n",
       "param_logisticregression__C                                                       0.1   \n",
       "params                              {'logisticregression__solver': 'liblinear', 'l...   \n",
       "split0_test_score                                                            0.934211   \n",
       "split1_test_score                                                                0.92   \n",
       "split2_test_score                                                            0.973333   \n",
       "split3_test_score                                                                0.92   \n",
       "split4_test_score                                                            0.893333   \n",
       "mean_test_score                                                              0.928175   \n",
       "std_test_score                                                               0.026166   \n",
       "rank_test_score                                                                    15   \n",
       "\n",
       "                                                                                    2  \\\n",
       "mean_fit_time                                                                 0.00728   \n",
       "std_fit_time                                                                 0.000641   \n",
       "mean_score_time                                                              0.002309   \n",
       "std_score_time                                                               0.000399   \n",
       "param_logisticregression__solver                                            newton-cg   \n",
       "param_logisticregression__penalty                                                  l2   \n",
       "param_logisticregression__max_iter                                                200   \n",
       "param_logisticregression__C                                                       0.1   \n",
       "params                              {'logisticregression__solver': 'newton-cg', 'l...   \n",
       "split0_test_score                                                            0.934211   \n",
       "split1_test_score                                                            0.946667   \n",
       "split2_test_score                                                            0.946667   \n",
       "split3_test_score                                                                0.92   \n",
       "split4_test_score                                                                0.88   \n",
       "mean_test_score                                                              0.925509   \n",
       "std_test_score                                                               0.024789   \n",
       "rank_test_score                                                                    17   \n",
       "\n",
       "                                                                                    3  \\\n",
       "mean_fit_time                                                                  0.0028   \n",
       "std_fit_time                                                                 0.000686   \n",
       "mean_score_time                                                              0.001921   \n",
       "std_score_time                                                               0.001021   \n",
       "param_logisticregression__solver                                            liblinear   \n",
       "param_logisticregression__penalty                                                  l1   \n",
       "param_logisticregression__max_iter                                                200   \n",
       "param_logisticregression__C                                                     0.001   \n",
       "params                              {'logisticregression__solver': 'liblinear', 'l...   \n",
       "split0_test_score                                                                 0.0   \n",
       "split1_test_score                                                                 0.0   \n",
       "split2_test_score                                                                 0.0   \n",
       "split3_test_score                                                                 0.0   \n",
       "split4_test_score                                                                 0.0   \n",
       "mean_test_score                                                                   0.0   \n",
       "std_test_score                                                                    0.0   \n",
       "rank_test_score                                                                    49   \n",
       "\n",
       "                                                                                    4  \n",
       "mean_fit_time                                                                0.005792  \n",
       "std_fit_time                                                                 0.001606  \n",
       "mean_score_time                                                              0.002734  \n",
       "std_score_time                                                                0.00086  \n",
       "param_logisticregression__solver                                                lbfgs  \n",
       "param_logisticregression__penalty                                                  l2  \n",
       "param_logisticregression__max_iter                                                250  \n",
       "param_logisticregression__C                                                       0.1  \n",
       "params                              {'logisticregression__solver': 'lbfgs', 'logis...  \n",
       "split0_test_score                                                            0.934211  \n",
       "split1_test_score                                                            0.946667  \n",
       "split2_test_score                                                            0.946667  \n",
       "split3_test_score                                                                0.92  \n",
       "split4_test_score                                                                0.88  \n",
       "mean_test_score                                                              0.925509  \n",
       "std_test_score                                                               0.024789  \n",
       "rank_test_score                                                                    17  "
      ]
     },
     "metadata": {},
     "output_type": "display_data"
    },
    {
     "data": {
      "text/plain": [
       "{'logisticregression__solver': 'lbfgs',\n",
       " 'logisticregression__penalty': 'l2',\n",
       " 'logisticregression__max_iter': 250,\n",
       " 'logisticregression__C': 0.001}"
      ]
     },
     "metadata": {},
     "output_type": "display_data"
    },
    {
     "data": {
      "text/html": [
       "<div>\n",
       "<style scoped>\n",
       "    .dataframe tbody tr th:only-of-type {\n",
       "        vertical-align: middle;\n",
       "    }\n",
       "\n",
       "    .dataframe tbody tr th {\n",
       "        vertical-align: top;\n",
       "    }\n",
       "\n",
       "    .dataframe thead th {\n",
       "        text-align: right;\n",
       "    }\n",
       "</style>\n",
       "<table border=\"1\" class=\"dataframe\">\n",
       "  <thead>\n",
       "    <tr style=\"text-align: right;\">\n",
       "      <th></th>\n",
       "      <th>14</th>\n",
       "    </tr>\n",
       "  </thead>\n",
       "  <tbody>\n",
       "    <tr>\n",
       "      <th>mean_fit_time</th>\n",
       "      <td>0.005869</td>\n",
       "    </tr>\n",
       "    <tr>\n",
       "      <th>std_fit_time</th>\n",
       "      <td>0.001167</td>\n",
       "    </tr>\n",
       "    <tr>\n",
       "      <th>mean_score_time</th>\n",
       "      <td>0.002402</td>\n",
       "    </tr>\n",
       "    <tr>\n",
       "      <th>std_score_time</th>\n",
       "      <td>0.000492</td>\n",
       "    </tr>\n",
       "    <tr>\n",
       "      <th>param_logisticregression__solver</th>\n",
       "      <td>lbfgs</td>\n",
       "    </tr>\n",
       "    <tr>\n",
       "      <th>param_logisticregression__penalty</th>\n",
       "      <td>l2</td>\n",
       "    </tr>\n",
       "    <tr>\n",
       "      <th>param_logisticregression__max_iter</th>\n",
       "      <td>250</td>\n",
       "    </tr>\n",
       "    <tr>\n",
       "      <th>param_logisticregression__C</th>\n",
       "      <td>0.001</td>\n",
       "    </tr>\n",
       "    <tr>\n",
       "      <th>params</th>\n",
       "      <td>{'logisticregression__solver': 'lbfgs', 'logis...</td>\n",
       "    </tr>\n",
       "    <tr>\n",
       "      <th>split0_test_score</th>\n",
       "      <td>0.921053</td>\n",
       "    </tr>\n",
       "    <tr>\n",
       "      <th>split1_test_score</th>\n",
       "      <td>0.946667</td>\n",
       "    </tr>\n",
       "    <tr>\n",
       "      <th>split2_test_score</th>\n",
       "      <td>0.96</td>\n",
       "    </tr>\n",
       "    <tr>\n",
       "      <th>split3_test_score</th>\n",
       "      <td>0.92</td>\n",
       "    </tr>\n",
       "    <tr>\n",
       "      <th>split4_test_score</th>\n",
       "      <td>0.906667</td>\n",
       "    </tr>\n",
       "    <tr>\n",
       "      <th>mean_test_score</th>\n",
       "      <td>0.930877</td>\n",
       "    </tr>\n",
       "    <tr>\n",
       "      <th>std_test_score</th>\n",
       "      <td>0.019486</td>\n",
       "    </tr>\n",
       "    <tr>\n",
       "      <th>rank_test_score</th>\n",
       "      <td>1</td>\n",
       "    </tr>\n",
       "  </tbody>\n",
       "</table>\n",
       "</div>"
      ],
      "text/plain": [
       "                                                                                   14\n",
       "mean_fit_time                                                                0.005869\n",
       "std_fit_time                                                                 0.001167\n",
       "mean_score_time                                                              0.002402\n",
       "std_score_time                                                               0.000492\n",
       "param_logisticregression__solver                                                lbfgs\n",
       "param_logisticregression__penalty                                                  l2\n",
       "param_logisticregression__max_iter                                                250\n",
       "param_logisticregression__C                                                     0.001\n",
       "params                              {'logisticregression__solver': 'lbfgs', 'logis...\n",
       "split0_test_score                                                            0.921053\n",
       "split1_test_score                                                            0.946667\n",
       "split2_test_score                                                                0.96\n",
       "split3_test_score                                                                0.92\n",
       "split4_test_score                                                            0.906667\n",
       "mean_test_score                                                              0.930877\n",
       "std_test_score                                                               0.019486\n",
       "rank_test_score                                                                     1"
      ]
     },
     "metadata": {},
     "output_type": "display_data"
    }
   ],
   "source": [
    "cv_results = pd.DataFrame(grid_search.cv_results_)\n",
    "display(cv_results.head().T)\n",
    "###################################################\n",
    "# melhores hiper-parametros\n",
    "display(grid_search.best_params_)\n",
    "\n",
    "#  melhor modelo\n",
    "display(cv_results.loc[[grid_search.best_index_]].T)"
   ]
  },
  {
   "cell_type": "markdown",
   "id": "33f5c2b6",
   "metadata": {},
   "source": [
    "# Otimização Bayesiana - Otimização de Hiperparâmetros\n",
    "\n",
    "Diferente dos outros métodos exaustivos, a Otimização Bayesiana utiliza um modelo probabilístico para guiar a busca dos melhores hiperparâmetros, visando maximizar a eficiência ao focar nas áreas mais promissoras do espaço de hiperparâmetros.\n",
    "\n",
    "- **Eficiência na Busca:** Pode encontrar melhores hiperparâmetros em menos iterações do que métodos exaustivos ou aleatórios.\n",
    "- **Adaptabilidade:** Ajusta dinamicamente a estratégia de busca com base no que foi aprendido sobre o espaço de hiperparâmetros. Porém...\n",
    "- **Dependência do Modelo de Prior:** A performance da otimização bayesiana pode depender fortemente da escolha do modelo de prior, que precisa ser bem adequado ao problema.\n",
    "\n",
    "**Funcionamento**\n",
    "\n",
    "1. **Modelo Probabilístico:**\n",
    "   - A técnica começa com a construção de um modelo probabilístico do espaço de hiperparâmetros. Este modelo, frequentemente um Processo Gaussiano, estima a função de desempenho do modelo de aprendizado de máquina como uma distribuição de probabilidade sobre o espaço de hiperparâmetros.\n",
    "\n",
    "2. **Atualizações Sequenciais:**\n",
    "   - Com cada nova avaliação de hiperparâmetros, o modelo probabilístico é atualizado. A técnica utiliza o conceito de \"aquisição\" para decidir quais hiperparâmetros devem ser avaliados a seguir, baseando-se na probabilidade de melhoria.\n",
    "\n",
    "3. **Função de Aquisição:**\n",
    "   - A função de aquisição, como Expected Improvement (EI), Upper Confidence Bound (UCB), ou Probability of Improvement (PI), ajuda a determinar o próximo conjunto de hiperparâmetros a ser testado. Essa função equilibra entre explorar novas áreas do espaço e explorar em torno de hiperparâmetros que já mostraram bons resultados.\n",
    "\n",
    "4. **Seleção do Melhor Modelo:**\n",
    "   - O processo continua até que um critério de parada específico seja alcançado, seja ele um número fixo de iterações, um tempo limite, ou uma convergência no desempenho do modelo."
   ]
  },
  {
   "cell_type": "code",
   "execution_count": 22,
   "id": "f5c26659",
   "metadata": {},
   "outputs": [],
   "source": [
    "#pip install scikit-optimize"
   ]
  },
  {
   "cell_type": "markdown",
   "id": "e96458a8",
   "metadata": {},
   "source": [
    "## in Decision Tree"
   ]
  },
  {
   "cell_type": "code",
   "execution_count": 23,
   "id": "23c911e5",
   "metadata": {},
   "outputs": [],
   "source": [
    "# Grade de hiperparametro \n",
    "# é definido uma forma diferente....\n",
    "from skopt.space import Real, Integer, Categorical\n",
    "space_dt = {\n",
    "    'criterion': Categorical(['gini', 'entropy']),\n",
    "    'max_depth': Integer(6, 12),\n",
    "    'min_samples_split': Integer(5, 20),\n",
    "    'min_samples_leaf': Integer(5, 20),\n",
    "    'max_features': Categorical(['sqrt', 'log2']),\n",
    "    'splitter': Categorical(['best', 'random'])\n",
    "}"
   ]
  },
  {
   "cell_type": "code",
   "execution_count": 24,
   "id": "af878c34",
   "metadata": {},
   "outputs": [
    {
     "name": "stdout",
     "output_type": "stream",
     "text": [
      "resultado de cada iteração do cv externo: [0.84126984 0.856      0.792     ]\n",
      "média: 0.8297566137566138\n"
     ]
    },
    {
     "data": {
      "text/html": [
       "<style>#sk-container-id-6 {color: black;background-color: white;}#sk-container-id-6 pre{padding: 0;}#sk-container-id-6 div.sk-toggleable {background-color: white;}#sk-container-id-6 label.sk-toggleable__label {cursor: pointer;display: block;width: 100%;margin-bottom: 0;padding: 0.3em;box-sizing: border-box;text-align: center;}#sk-container-id-6 label.sk-toggleable__label-arrow:before {content: \"▸\";float: left;margin-right: 0.25em;color: #696969;}#sk-container-id-6 label.sk-toggleable__label-arrow:hover:before {color: black;}#sk-container-id-6 div.sk-estimator:hover label.sk-toggleable__label-arrow:before {color: black;}#sk-container-id-6 div.sk-toggleable__content {max-height: 0;max-width: 0;overflow: hidden;text-align: left;background-color: #f0f8ff;}#sk-container-id-6 div.sk-toggleable__content pre {margin: 0.2em;color: black;border-radius: 0.25em;background-color: #f0f8ff;}#sk-container-id-6 input.sk-toggleable__control:checked~div.sk-toggleable__content {max-height: 200px;max-width: 100%;overflow: auto;}#sk-container-id-6 input.sk-toggleable__control:checked~label.sk-toggleable__label-arrow:before {content: \"▾\";}#sk-container-id-6 div.sk-estimator input.sk-toggleable__control:checked~label.sk-toggleable__label {background-color: #d4ebff;}#sk-container-id-6 div.sk-label input.sk-toggleable__control:checked~label.sk-toggleable__label {background-color: #d4ebff;}#sk-container-id-6 input.sk-hidden--visually {border: 0;clip: rect(1px 1px 1px 1px);clip: rect(1px, 1px, 1px, 1px);height: 1px;margin: -1px;overflow: hidden;padding: 0;position: absolute;width: 1px;}#sk-container-id-6 div.sk-estimator {font-family: monospace;background-color: #f0f8ff;border: 1px dotted black;border-radius: 0.25em;box-sizing: border-box;margin-bottom: 0.5em;}#sk-container-id-6 div.sk-estimator:hover {background-color: #d4ebff;}#sk-container-id-6 div.sk-parallel-item::after {content: \"\";width: 100%;border-bottom: 1px solid gray;flex-grow: 1;}#sk-container-id-6 div.sk-label:hover label.sk-toggleable__label {background-color: #d4ebff;}#sk-container-id-6 div.sk-serial::before {content: \"\";position: absolute;border-left: 1px solid gray;box-sizing: border-box;top: 0;bottom: 0;left: 50%;z-index: 0;}#sk-container-id-6 div.sk-serial {display: flex;flex-direction: column;align-items: center;background-color: white;padding-right: 0.2em;padding-left: 0.2em;position: relative;}#sk-container-id-6 div.sk-item {position: relative;z-index: 1;}#sk-container-id-6 div.sk-parallel {display: flex;align-items: stretch;justify-content: center;background-color: white;position: relative;}#sk-container-id-6 div.sk-item::before, #sk-container-id-6 div.sk-parallel-item::before {content: \"\";position: absolute;border-left: 1px solid gray;box-sizing: border-box;top: 0;bottom: 0;left: 50%;z-index: -1;}#sk-container-id-6 div.sk-parallel-item {display: flex;flex-direction: column;z-index: 1;position: relative;background-color: white;}#sk-container-id-6 div.sk-parallel-item:first-child::after {align-self: flex-end;width: 50%;}#sk-container-id-6 div.sk-parallel-item:last-child::after {align-self: flex-start;width: 50%;}#sk-container-id-6 div.sk-parallel-item:only-child::after {width: 0;}#sk-container-id-6 div.sk-dashed-wrapped {border: 1px dashed gray;margin: 0 0.4em 0.5em 0.4em;box-sizing: border-box;padding-bottom: 0.4em;background-color: white;}#sk-container-id-6 div.sk-label label {font-family: monospace;font-weight: bold;display: inline-block;line-height: 1.2em;}#sk-container-id-6 div.sk-label-container {text-align: center;}#sk-container-id-6 div.sk-container {/* jupyter's `normalize.less` sets `[hidden] { display: none; }` but bootstrap.min.css set `[hidden] { display: none !important; }` so we also need the `!important` here to be able to override the default hidden behavior on the sphinx rendered scikit-learn.org. See: https://github.com/scikit-learn/scikit-learn/issues/21755 */display: inline-block !important;position: relative;}#sk-container-id-6 div.sk-text-repr-fallback {display: none;}</style><div id=\"sk-container-id-6\" class=\"sk-top-container\"><div class=\"sk-text-repr-fallback\"><pre>BayesSearchCV(cv=StratifiedKFold(n_splits=5, random_state=3141592, shuffle=True),\n",
       "              estimator=DecisionTreeClassifier(random_state=3141592), n_jobs=-1,\n",
       "              random_state=3141592, scoring=&#x27;recall&#x27;,\n",
       "              search_spaces={&#x27;criterion&#x27;: Categorical(categories=(&#x27;gini&#x27;, &#x27;entropy&#x27;), prior=None),\n",
       "                             &#x27;max_depth&#x27;: Integer(low=6, high=12, prior=&#x27;uniform&#x27;, transform=&#x27;normalize&#x27;),\n",
       "                             &#x27;max_features&#x27;: Categorical(categories=(&#x27;sqrt&#x27;, &#x27;log2&#x27;), prior=None),\n",
       "                             &#x27;min_samples_leaf&#x27;: Integer(low=5, high=20, prior=&#x27;uniform&#x27;, transform=&#x27;normalize&#x27;),\n",
       "                             &#x27;min_samples_split&#x27;: Integer(low=5, high=20, prior=&#x27;uniform&#x27;, transform=&#x27;normalize&#x27;),\n",
       "                             &#x27;splitter&#x27;: Categorical(categories=(&#x27;best&#x27;, &#x27;random&#x27;), prior=None)})</pre><b>In a Jupyter environment, please rerun this cell to show the HTML representation or trust the notebook. <br />On GitHub, the HTML representation is unable to render, please try loading this page with nbviewer.org.</b></div><div class=\"sk-container\" hidden><div class=\"sk-item sk-dashed-wrapped\"><div class=\"sk-label-container\"><div class=\"sk-label sk-toggleable\"><input class=\"sk-toggleable__control sk-hidden--visually\" id=\"sk-estimator-id-18\" type=\"checkbox\" ><label for=\"sk-estimator-id-18\" class=\"sk-toggleable__label sk-toggleable__label-arrow\">BayesSearchCV</label><div class=\"sk-toggleable__content\"><pre>BayesSearchCV(cv=StratifiedKFold(n_splits=5, random_state=3141592, shuffle=True),\n",
       "              estimator=DecisionTreeClassifier(random_state=3141592), n_jobs=-1,\n",
       "              random_state=3141592, scoring=&#x27;recall&#x27;,\n",
       "              search_spaces={&#x27;criterion&#x27;: Categorical(categories=(&#x27;gini&#x27;, &#x27;entropy&#x27;), prior=None),\n",
       "                             &#x27;max_depth&#x27;: Integer(low=6, high=12, prior=&#x27;uniform&#x27;, transform=&#x27;normalize&#x27;),\n",
       "                             &#x27;max_features&#x27;: Categorical(categories=(&#x27;sqrt&#x27;, &#x27;log2&#x27;), prior=None),\n",
       "                             &#x27;min_samples_leaf&#x27;: Integer(low=5, high=20, prior=&#x27;uniform&#x27;, transform=&#x27;normalize&#x27;),\n",
       "                             &#x27;min_samples_split&#x27;: Integer(low=5, high=20, prior=&#x27;uniform&#x27;, transform=&#x27;normalize&#x27;),\n",
       "                             &#x27;splitter&#x27;: Categorical(categories=(&#x27;best&#x27;, &#x27;random&#x27;), prior=None)})</pre></div></div></div><div class=\"sk-parallel\"><div class=\"sk-parallel-item\"><div class=\"sk-item\"><div class=\"sk-label-container\"><div class=\"sk-label sk-toggleable\"><input class=\"sk-toggleable__control sk-hidden--visually\" id=\"sk-estimator-id-19\" type=\"checkbox\" ><label for=\"sk-estimator-id-19\" class=\"sk-toggleable__label sk-toggleable__label-arrow\">estimator: DecisionTreeClassifier</label><div class=\"sk-toggleable__content\"><pre>DecisionTreeClassifier(random_state=3141592)</pre></div></div></div><div class=\"sk-serial\"><div class=\"sk-item\"><div class=\"sk-estimator sk-toggleable\"><input class=\"sk-toggleable__control sk-hidden--visually\" id=\"sk-estimator-id-20\" type=\"checkbox\" ><label for=\"sk-estimator-id-20\" class=\"sk-toggleable__label sk-toggleable__label-arrow\">DecisionTreeClassifier</label><div class=\"sk-toggleable__content\"><pre>DecisionTreeClassifier(random_state=3141592)</pre></div></div></div></div></div></div></div></div></div></div>"
      ],
      "text/plain": [
       "BayesSearchCV(cv=StratifiedKFold(n_splits=5, random_state=3141592, shuffle=True),\n",
       "              estimator=DecisionTreeClassifier(random_state=3141592), n_jobs=-1,\n",
       "              random_state=3141592, scoring='recall',\n",
       "              search_spaces={'criterion': Categorical(categories=('gini', 'entropy'), prior=None),\n",
       "                             'max_depth': Integer(low=6, high=12, prior='uniform', transform='normalize'),\n",
       "                             'max_features': Categorical(categories=('sqrt', 'log2'), prior=None),\n",
       "                             'min_samples_leaf': Integer(low=5, high=20, prior='uniform', transform='normalize'),\n",
       "                             'min_samples_split': Integer(low=5, high=20, prior='uniform', transform='normalize'),\n",
       "                             'splitter': Categorical(categories=('best', 'random'), prior=None)})"
      ]
     },
     "execution_count": 24,
     "metadata": {},
     "output_type": "execute_result"
    }
   ],
   "source": [
    "from skopt import BayesSearchCV\n",
    "\n",
    "opt_dt = BayesSearchCV(\n",
    "    estimator=DecisionTreeClassifier(random_state=RANDOM_STATE),\n",
    "    search_spaces = space_dt, \n",
    "    n_iter=50, # numero de interações\n",
    "    scoring='recall', \n",
    "    n_jobs=-1, \n",
    "    cv=inner_cv, \n",
    "    random_state=RANDOM_STATE\n",
    "    )\n",
    "\n",
    "# Validação cruzada aninhada\n",
    "bs_dt_nested_scores = cross_val_score(opt_dt, x_treino, y_treino, cv=outer_cv)\n",
    "\n",
    "print(f'resultado de cada iteração do cv externo: {bs_dt_nested_scores}')\n",
    "print(f'média: {bs_dt_nested_scores.mean()}')\n",
    "\n",
    "opt_dt.fit(x_treino, y_treino)"
   ]
  },
  {
   "cell_type": "code",
   "execution_count": 25,
   "id": "3cca4ca9",
   "metadata": {},
   "outputs": [
    {
     "name": "stdout",
     "output_type": "stream",
     "text": [
      "resultado de cada iteração do cv externo: [0.84126984 0.856      0.792     ]\n",
      "média: 0.8297566137566138\n"
     ]
    }
   ],
   "source": [
    "print(f'resultado de cada iteração do cv externo: {bs_dt_nested_scores}')\n",
    "print(f'média: {bs_dt_nested_scores.mean()}')"
   ]
  },
  {
   "cell_type": "code",
   "execution_count": 26,
   "id": "94ad4891",
   "metadata": {},
   "outputs": [
    {
     "data": {
      "text/html": [
       "<div>\n",
       "<style scoped>\n",
       "    .dataframe tbody tr th:only-of-type {\n",
       "        vertical-align: middle;\n",
       "    }\n",
       "\n",
       "    .dataframe tbody tr th {\n",
       "        vertical-align: top;\n",
       "    }\n",
       "\n",
       "    .dataframe thead th {\n",
       "        text-align: right;\n",
       "    }\n",
       "</style>\n",
       "<table border=\"1\" class=\"dataframe\">\n",
       "  <thead>\n",
       "    <tr style=\"text-align: right;\">\n",
       "      <th></th>\n",
       "      <th>0</th>\n",
       "      <th>1</th>\n",
       "      <th>2</th>\n",
       "      <th>3</th>\n",
       "      <th>4</th>\n",
       "    </tr>\n",
       "  </thead>\n",
       "  <tbody>\n",
       "    <tr>\n",
       "      <th>mean_fit_time</th>\n",
       "      <td>0.002661</td>\n",
       "      <td>0.001389</td>\n",
       "      <td>0.002129</td>\n",
       "      <td>0.002157</td>\n",
       "      <td>0.004338</td>\n",
       "    </tr>\n",
       "    <tr>\n",
       "      <th>std_fit_time</th>\n",
       "      <td>0.000419</td>\n",
       "      <td>0.000479</td>\n",
       "      <td>0.000665</td>\n",
       "      <td>0.000312</td>\n",
       "      <td>0.003582</td>\n",
       "    </tr>\n",
       "    <tr>\n",
       "      <th>mean_score_time</th>\n",
       "      <td>0.001202</td>\n",
       "      <td>0.001257</td>\n",
       "      <td>0.001405</td>\n",
       "      <td>0.001103</td>\n",
       "      <td>0.001061</td>\n",
       "    </tr>\n",
       "    <tr>\n",
       "      <th>std_score_time</th>\n",
       "      <td>0.000399</td>\n",
       "      <td>0.000323</td>\n",
       "      <td>0.000503</td>\n",
       "      <td>0.000489</td>\n",
       "      <td>0.000261</td>\n",
       "    </tr>\n",
       "    <tr>\n",
       "      <th>param_criterion</th>\n",
       "      <td>entropy</td>\n",
       "      <td>entropy</td>\n",
       "      <td>gini</td>\n",
       "      <td>entropy</td>\n",
       "      <td>gini</td>\n",
       "    </tr>\n",
       "    <tr>\n",
       "      <th>param_max_depth</th>\n",
       "      <td>7</td>\n",
       "      <td>10</td>\n",
       "      <td>6</td>\n",
       "      <td>9</td>\n",
       "      <td>6</td>\n",
       "    </tr>\n",
       "    <tr>\n",
       "      <th>param_max_features</th>\n",
       "      <td>log2</td>\n",
       "      <td>log2</td>\n",
       "      <td>log2</td>\n",
       "      <td>sqrt</td>\n",
       "      <td>log2</td>\n",
       "    </tr>\n",
       "    <tr>\n",
       "      <th>param_min_samples_leaf</th>\n",
       "      <td>13</td>\n",
       "      <td>6</td>\n",
       "      <td>12</td>\n",
       "      <td>9</td>\n",
       "      <td>18</td>\n",
       "    </tr>\n",
       "    <tr>\n",
       "      <th>param_min_samples_split</th>\n",
       "      <td>13</td>\n",
       "      <td>8</td>\n",
       "      <td>14</td>\n",
       "      <td>18</td>\n",
       "      <td>14</td>\n",
       "    </tr>\n",
       "    <tr>\n",
       "      <th>param_splitter</th>\n",
       "      <td>best</td>\n",
       "      <td>random</td>\n",
       "      <td>best</td>\n",
       "      <td>best</td>\n",
       "      <td>best</td>\n",
       "    </tr>\n",
       "    <tr>\n",
       "      <th>params</th>\n",
       "      <td>{'criterion': 'entropy', 'max_depth': 7, 'max_...</td>\n",
       "      <td>{'criterion': 'entropy', 'max_depth': 10, 'max...</td>\n",
       "      <td>{'criterion': 'gini', 'max_depth': 6, 'max_fea...</td>\n",
       "      <td>{'criterion': 'entropy', 'max_depth': 9, 'max_...</td>\n",
       "      <td>{'criterion': 'gini', 'max_depth': 6, 'max_fea...</td>\n",
       "    </tr>\n",
       "    <tr>\n",
       "      <th>split0_test_score</th>\n",
       "      <td>0.855263</td>\n",
       "      <td>0.828947</td>\n",
       "      <td>0.763158</td>\n",
       "      <td>0.868421</td>\n",
       "      <td>0.710526</td>\n",
       "    </tr>\n",
       "    <tr>\n",
       "      <th>split1_test_score</th>\n",
       "      <td>0.746667</td>\n",
       "      <td>0.773333</td>\n",
       "      <td>0.733333</td>\n",
       "      <td>0.786667</td>\n",
       "      <td>0.773333</td>\n",
       "    </tr>\n",
       "    <tr>\n",
       "      <th>split2_test_score</th>\n",
       "      <td>0.826667</td>\n",
       "      <td>0.853333</td>\n",
       "      <td>0.84</td>\n",
       "      <td>0.8</td>\n",
       "      <td>0.8</td>\n",
       "    </tr>\n",
       "    <tr>\n",
       "      <th>split3_test_score</th>\n",
       "      <td>0.746667</td>\n",
       "      <td>0.786667</td>\n",
       "      <td>0.72</td>\n",
       "      <td>0.706667</td>\n",
       "      <td>0.6</td>\n",
       "    </tr>\n",
       "    <tr>\n",
       "      <th>split4_test_score</th>\n",
       "      <td>0.773333</td>\n",
       "      <td>0.693333</td>\n",
       "      <td>0.786667</td>\n",
       "      <td>0.733333</td>\n",
       "      <td>0.786667</td>\n",
       "    </tr>\n",
       "    <tr>\n",
       "      <th>mean_test_score</th>\n",
       "      <td>0.789719</td>\n",
       "      <td>0.787123</td>\n",
       "      <td>0.768632</td>\n",
       "      <td>0.779018</td>\n",
       "      <td>0.734105</td>\n",
       "    </tr>\n",
       "    <tr>\n",
       "      <th>std_test_score</th>\n",
       "      <td>0.043901</td>\n",
       "      <td>0.054991</td>\n",
       "      <td>0.042567</td>\n",
       "      <td>0.056238</td>\n",
       "      <td>0.073734</td>\n",
       "    </tr>\n",
       "    <tr>\n",
       "      <th>rank_test_score</th>\n",
       "      <td>26</td>\n",
       "      <td>28</td>\n",
       "      <td>39</td>\n",
       "      <td>33</td>\n",
       "      <td>49</td>\n",
       "    </tr>\n",
       "  </tbody>\n",
       "</table>\n",
       "</div>"
      ],
      "text/plain": [
       "                                                                         0  \\\n",
       "mean_fit_time                                                     0.002661   \n",
       "std_fit_time                                                      0.000419   \n",
       "mean_score_time                                                   0.001202   \n",
       "std_score_time                                                    0.000399   \n",
       "param_criterion                                                    entropy   \n",
       "param_max_depth                                                          7   \n",
       "param_max_features                                                    log2   \n",
       "param_min_samples_leaf                                                  13   \n",
       "param_min_samples_split                                                 13   \n",
       "param_splitter                                                        best   \n",
       "params                   {'criterion': 'entropy', 'max_depth': 7, 'max_...   \n",
       "split0_test_score                                                 0.855263   \n",
       "split1_test_score                                                 0.746667   \n",
       "split2_test_score                                                 0.826667   \n",
       "split3_test_score                                                 0.746667   \n",
       "split4_test_score                                                 0.773333   \n",
       "mean_test_score                                                   0.789719   \n",
       "std_test_score                                                    0.043901   \n",
       "rank_test_score                                                         26   \n",
       "\n",
       "                                                                         1  \\\n",
       "mean_fit_time                                                     0.001389   \n",
       "std_fit_time                                                      0.000479   \n",
       "mean_score_time                                                   0.001257   \n",
       "std_score_time                                                    0.000323   \n",
       "param_criterion                                                    entropy   \n",
       "param_max_depth                                                         10   \n",
       "param_max_features                                                    log2   \n",
       "param_min_samples_leaf                                                   6   \n",
       "param_min_samples_split                                                  8   \n",
       "param_splitter                                                      random   \n",
       "params                   {'criterion': 'entropy', 'max_depth': 10, 'max...   \n",
       "split0_test_score                                                 0.828947   \n",
       "split1_test_score                                                 0.773333   \n",
       "split2_test_score                                                 0.853333   \n",
       "split3_test_score                                                 0.786667   \n",
       "split4_test_score                                                 0.693333   \n",
       "mean_test_score                                                   0.787123   \n",
       "std_test_score                                                    0.054991   \n",
       "rank_test_score                                                         28   \n",
       "\n",
       "                                                                         2  \\\n",
       "mean_fit_time                                                     0.002129   \n",
       "std_fit_time                                                      0.000665   \n",
       "mean_score_time                                                   0.001405   \n",
       "std_score_time                                                    0.000503   \n",
       "param_criterion                                                       gini   \n",
       "param_max_depth                                                          6   \n",
       "param_max_features                                                    log2   \n",
       "param_min_samples_leaf                                                  12   \n",
       "param_min_samples_split                                                 14   \n",
       "param_splitter                                                        best   \n",
       "params                   {'criterion': 'gini', 'max_depth': 6, 'max_fea...   \n",
       "split0_test_score                                                 0.763158   \n",
       "split1_test_score                                                 0.733333   \n",
       "split2_test_score                                                     0.84   \n",
       "split3_test_score                                                     0.72   \n",
       "split4_test_score                                                 0.786667   \n",
       "mean_test_score                                                   0.768632   \n",
       "std_test_score                                                    0.042567   \n",
       "rank_test_score                                                         39   \n",
       "\n",
       "                                                                         3  \\\n",
       "mean_fit_time                                                     0.002157   \n",
       "std_fit_time                                                      0.000312   \n",
       "mean_score_time                                                   0.001103   \n",
       "std_score_time                                                    0.000489   \n",
       "param_criterion                                                    entropy   \n",
       "param_max_depth                                                          9   \n",
       "param_max_features                                                    sqrt   \n",
       "param_min_samples_leaf                                                   9   \n",
       "param_min_samples_split                                                 18   \n",
       "param_splitter                                                        best   \n",
       "params                   {'criterion': 'entropy', 'max_depth': 9, 'max_...   \n",
       "split0_test_score                                                 0.868421   \n",
       "split1_test_score                                                 0.786667   \n",
       "split2_test_score                                                      0.8   \n",
       "split3_test_score                                                 0.706667   \n",
       "split4_test_score                                                 0.733333   \n",
       "mean_test_score                                                   0.779018   \n",
       "std_test_score                                                    0.056238   \n",
       "rank_test_score                                                         33   \n",
       "\n",
       "                                                                         4  \n",
       "mean_fit_time                                                     0.004338  \n",
       "std_fit_time                                                      0.003582  \n",
       "mean_score_time                                                   0.001061  \n",
       "std_score_time                                                    0.000261  \n",
       "param_criterion                                                       gini  \n",
       "param_max_depth                                                          6  \n",
       "param_max_features                                                    log2  \n",
       "param_min_samples_leaf                                                  18  \n",
       "param_min_samples_split                                                 14  \n",
       "param_splitter                                                        best  \n",
       "params                   {'criterion': 'gini', 'max_depth': 6, 'max_fea...  \n",
       "split0_test_score                                                 0.710526  \n",
       "split1_test_score                                                 0.773333  \n",
       "split2_test_score                                                      0.8  \n",
       "split3_test_score                                                      0.6  \n",
       "split4_test_score                                                 0.786667  \n",
       "mean_test_score                                                   0.734105  \n",
       "std_test_score                                                    0.073734  \n",
       "rank_test_score                                                         49  "
      ]
     },
     "metadata": {},
     "output_type": "display_data"
    },
    {
     "data": {
      "text/html": [
       "<div>\n",
       "<style scoped>\n",
       "    .dataframe tbody tr th:only-of-type {\n",
       "        vertical-align: middle;\n",
       "    }\n",
       "\n",
       "    .dataframe tbody tr th {\n",
       "        vertical-align: top;\n",
       "    }\n",
       "\n",
       "    .dataframe thead th {\n",
       "        text-align: right;\n",
       "    }\n",
       "</style>\n",
       "<table border=\"1\" class=\"dataframe\">\n",
       "  <thead>\n",
       "    <tr style=\"text-align: right;\">\n",
       "      <th></th>\n",
       "      <th>17</th>\n",
       "    </tr>\n",
       "  </thead>\n",
       "  <tbody>\n",
       "    <tr>\n",
       "      <th>mean_fit_time</th>\n",
       "      <td>0.001333</td>\n",
       "    </tr>\n",
       "    <tr>\n",
       "      <th>std_fit_time</th>\n",
       "      <td>0.000387</td>\n",
       "    </tr>\n",
       "    <tr>\n",
       "      <th>mean_score_time</th>\n",
       "      <td>0.001147</td>\n",
       "    </tr>\n",
       "    <tr>\n",
       "      <th>std_score_time</th>\n",
       "      <td>0.000145</td>\n",
       "    </tr>\n",
       "    <tr>\n",
       "      <th>param_criterion</th>\n",
       "      <td>gini</td>\n",
       "    </tr>\n",
       "    <tr>\n",
       "      <th>param_max_depth</th>\n",
       "      <td>12</td>\n",
       "    </tr>\n",
       "    <tr>\n",
       "      <th>param_max_features</th>\n",
       "      <td>sqrt</td>\n",
       "    </tr>\n",
       "    <tr>\n",
       "      <th>param_min_samples_leaf</th>\n",
       "      <td>5</td>\n",
       "    </tr>\n",
       "    <tr>\n",
       "      <th>param_min_samples_split</th>\n",
       "      <td>13</td>\n",
       "    </tr>\n",
       "    <tr>\n",
       "      <th>param_splitter</th>\n",
       "      <td>random</td>\n",
       "    </tr>\n",
       "    <tr>\n",
       "      <th>params</th>\n",
       "      <td>{'criterion': 'gini', 'max_depth': 12, 'max_fe...</td>\n",
       "    </tr>\n",
       "    <tr>\n",
       "      <th>split0_test_score</th>\n",
       "      <td>0.881579</td>\n",
       "    </tr>\n",
       "    <tr>\n",
       "      <th>split1_test_score</th>\n",
       "      <td>0.88</td>\n",
       "    </tr>\n",
       "    <tr>\n",
       "      <th>split2_test_score</th>\n",
       "      <td>0.866667</td>\n",
       "    </tr>\n",
       "    <tr>\n",
       "      <th>split3_test_score</th>\n",
       "      <td>0.746667</td>\n",
       "    </tr>\n",
       "    <tr>\n",
       "      <th>split4_test_score</th>\n",
       "      <td>0.773333</td>\n",
       "    </tr>\n",
       "    <tr>\n",
       "      <th>mean_test_score</th>\n",
       "      <td>0.829649</td>\n",
       "    </tr>\n",
       "    <tr>\n",
       "      <th>std_test_score</th>\n",
       "      <td>0.057723</td>\n",
       "    </tr>\n",
       "    <tr>\n",
       "      <th>rank_test_score</th>\n",
       "      <td>1</td>\n",
       "    </tr>\n",
       "  </tbody>\n",
       "</table>\n",
       "</div>"
      ],
      "text/plain": [
       "                                                                        17\n",
       "mean_fit_time                                                     0.001333\n",
       "std_fit_time                                                      0.000387\n",
       "mean_score_time                                                   0.001147\n",
       "std_score_time                                                    0.000145\n",
       "param_criterion                                                       gini\n",
       "param_max_depth                                                         12\n",
       "param_max_features                                                    sqrt\n",
       "param_min_samples_leaf                                                   5\n",
       "param_min_samples_split                                                 13\n",
       "param_splitter                                                      random\n",
       "params                   {'criterion': 'gini', 'max_depth': 12, 'max_fe...\n",
       "split0_test_score                                                 0.881579\n",
       "split1_test_score                                                     0.88\n",
       "split2_test_score                                                 0.866667\n",
       "split3_test_score                                                 0.746667\n",
       "split4_test_score                                                 0.773333\n",
       "mean_test_score                                                   0.829649\n",
       "std_test_score                                                    0.057723\n",
       "rank_test_score                                                          1"
      ]
     },
     "metadata": {},
     "output_type": "display_data"
    }
   ],
   "source": [
    "cv_results = pd.DataFrame(opt_dt.cv_results_)\n",
    "display(cv_results.head().T)\n",
    "###################################################\n",
    "# melhores hiper-parametros\n",
    "#display(opt_dt.best_params_)\n",
    "\n",
    "#  melhor modelo\n",
    "display(cv_results.loc[[opt_dt.best_index_]].T)"
   ]
  },
  {
   "cell_type": "markdown",
   "id": "5c82439d",
   "metadata": {},
   "source": [
    "## in Logistic Regression"
   ]
  },
  {
   "cell_type": "code",
   "execution_count": 27,
   "id": "fb9f5280",
   "metadata": {},
   "outputs": [],
   "source": [
    "# Definindo Grade\n",
    "max_iter = Integer(100, 300)\n",
    "c = Categorical([0.001, 0.01, 0.1, 1, 10])\n",
    "\n",
    "space_lr = [\n",
    "    {\n",
    "        'logisticregression__solver': Categorical(['newton-cg', 'lbfgs']),\n",
    "        'logisticregression__penalty': Categorical(['l2']),\n",
    "        'logisticregression__max_iter': max_iter,\n",
    "        'logisticregression__C': c\n",
    "    },\n",
    "    {\n",
    "        'logisticregression__solver': Categorical(['liblinear']),\n",
    "        'logisticregression__penalty': Categorical(['l1', 'l2']),\n",
    "        'logisticregression__max_iter': max_iter,\n",
    "        'logisticregression__C': c\n",
    "    },\n",
    "]"
   ]
  },
  {
   "cell_type": "code",
   "execution_count": 28,
   "id": "f9cd7b07",
   "metadata": {},
   "outputs": [
    {
     "name": "stdout",
     "output_type": "stream",
     "text": [
      "resultado de cada iteração do cv externo: [0.93650794 0.968      0.904     ]\n",
      "média: 0.9361693121693122\n"
     ]
    },
    {
     "data": {
      "text/html": [
       "<style>#sk-container-id-7 {color: black;background-color: white;}#sk-container-id-7 pre{padding: 0;}#sk-container-id-7 div.sk-toggleable {background-color: white;}#sk-container-id-7 label.sk-toggleable__label {cursor: pointer;display: block;width: 100%;margin-bottom: 0;padding: 0.3em;box-sizing: border-box;text-align: center;}#sk-container-id-7 label.sk-toggleable__label-arrow:before {content: \"▸\";float: left;margin-right: 0.25em;color: #696969;}#sk-container-id-7 label.sk-toggleable__label-arrow:hover:before {color: black;}#sk-container-id-7 div.sk-estimator:hover label.sk-toggleable__label-arrow:before {color: black;}#sk-container-id-7 div.sk-toggleable__content {max-height: 0;max-width: 0;overflow: hidden;text-align: left;background-color: #f0f8ff;}#sk-container-id-7 div.sk-toggleable__content pre {margin: 0.2em;color: black;border-radius: 0.25em;background-color: #f0f8ff;}#sk-container-id-7 input.sk-toggleable__control:checked~div.sk-toggleable__content {max-height: 200px;max-width: 100%;overflow: auto;}#sk-container-id-7 input.sk-toggleable__control:checked~label.sk-toggleable__label-arrow:before {content: \"▾\";}#sk-container-id-7 div.sk-estimator input.sk-toggleable__control:checked~label.sk-toggleable__label {background-color: #d4ebff;}#sk-container-id-7 div.sk-label input.sk-toggleable__control:checked~label.sk-toggleable__label {background-color: #d4ebff;}#sk-container-id-7 input.sk-hidden--visually {border: 0;clip: rect(1px 1px 1px 1px);clip: rect(1px, 1px, 1px, 1px);height: 1px;margin: -1px;overflow: hidden;padding: 0;position: absolute;width: 1px;}#sk-container-id-7 div.sk-estimator {font-family: monospace;background-color: #f0f8ff;border: 1px dotted black;border-radius: 0.25em;box-sizing: border-box;margin-bottom: 0.5em;}#sk-container-id-7 div.sk-estimator:hover {background-color: #d4ebff;}#sk-container-id-7 div.sk-parallel-item::after {content: \"\";width: 100%;border-bottom: 1px solid gray;flex-grow: 1;}#sk-container-id-7 div.sk-label:hover label.sk-toggleable__label {background-color: #d4ebff;}#sk-container-id-7 div.sk-serial::before {content: \"\";position: absolute;border-left: 1px solid gray;box-sizing: border-box;top: 0;bottom: 0;left: 50%;z-index: 0;}#sk-container-id-7 div.sk-serial {display: flex;flex-direction: column;align-items: center;background-color: white;padding-right: 0.2em;padding-left: 0.2em;position: relative;}#sk-container-id-7 div.sk-item {position: relative;z-index: 1;}#sk-container-id-7 div.sk-parallel {display: flex;align-items: stretch;justify-content: center;background-color: white;position: relative;}#sk-container-id-7 div.sk-item::before, #sk-container-id-7 div.sk-parallel-item::before {content: \"\";position: absolute;border-left: 1px solid gray;box-sizing: border-box;top: 0;bottom: 0;left: 50%;z-index: -1;}#sk-container-id-7 div.sk-parallel-item {display: flex;flex-direction: column;z-index: 1;position: relative;background-color: white;}#sk-container-id-7 div.sk-parallel-item:first-child::after {align-self: flex-end;width: 50%;}#sk-container-id-7 div.sk-parallel-item:last-child::after {align-self: flex-start;width: 50%;}#sk-container-id-7 div.sk-parallel-item:only-child::after {width: 0;}#sk-container-id-7 div.sk-dashed-wrapped {border: 1px dashed gray;margin: 0 0.4em 0.5em 0.4em;box-sizing: border-box;padding-bottom: 0.4em;background-color: white;}#sk-container-id-7 div.sk-label label {font-family: monospace;font-weight: bold;display: inline-block;line-height: 1.2em;}#sk-container-id-7 div.sk-label-container {text-align: center;}#sk-container-id-7 div.sk-container {/* jupyter's `normalize.less` sets `[hidden] { display: none; }` but bootstrap.min.css set `[hidden] { display: none !important; }` so we also need the `!important` here to be able to override the default hidden behavior on the sphinx rendered scikit-learn.org. See: https://github.com/scikit-learn/scikit-learn/issues/21755 */display: inline-block !important;position: relative;}#sk-container-id-7 div.sk-text-repr-fallback {display: none;}</style><div id=\"sk-container-id-7\" class=\"sk-top-container\"><div class=\"sk-text-repr-fallback\"><pre>BayesSearchCV(cv=StratifiedKFold(n_splits=5, random_state=3141592, shuffle=True),\n",
       "              estimator=DecisionTreeClassifier(random_state=3141592), n_jobs=-1,\n",
       "              random_state=3141592, scoring=&#x27;recall&#x27;,\n",
       "              search_spaces={&#x27;criterion&#x27;: Categorical(categories=(&#x27;gini&#x27;, &#x27;entropy&#x27;), prior=None),\n",
       "                             &#x27;max_depth&#x27;: Integer(low=6, high=12, prior=&#x27;uniform&#x27;, transform=&#x27;normalize&#x27;),\n",
       "                             &#x27;max_features&#x27;: Categorical(categories=(&#x27;sqrt&#x27;, &#x27;log2&#x27;), prior=None),\n",
       "                             &#x27;min_samples_leaf&#x27;: Integer(low=5, high=20, prior=&#x27;uniform&#x27;, transform=&#x27;normalize&#x27;),\n",
       "                             &#x27;min_samples_split&#x27;: Integer(low=5, high=20, prior=&#x27;uniform&#x27;, transform=&#x27;normalize&#x27;),\n",
       "                             &#x27;splitter&#x27;: Categorical(categories=(&#x27;best&#x27;, &#x27;random&#x27;), prior=None)})</pre><b>In a Jupyter environment, please rerun this cell to show the HTML representation or trust the notebook. <br />On GitHub, the HTML representation is unable to render, please try loading this page with nbviewer.org.</b></div><div class=\"sk-container\" hidden><div class=\"sk-item sk-dashed-wrapped\"><div class=\"sk-label-container\"><div class=\"sk-label sk-toggleable\"><input class=\"sk-toggleable__control sk-hidden--visually\" id=\"sk-estimator-id-21\" type=\"checkbox\" ><label for=\"sk-estimator-id-21\" class=\"sk-toggleable__label sk-toggleable__label-arrow\">BayesSearchCV</label><div class=\"sk-toggleable__content\"><pre>BayesSearchCV(cv=StratifiedKFold(n_splits=5, random_state=3141592, shuffle=True),\n",
       "              estimator=DecisionTreeClassifier(random_state=3141592), n_jobs=-1,\n",
       "              random_state=3141592, scoring=&#x27;recall&#x27;,\n",
       "              search_spaces={&#x27;criterion&#x27;: Categorical(categories=(&#x27;gini&#x27;, &#x27;entropy&#x27;), prior=None),\n",
       "                             &#x27;max_depth&#x27;: Integer(low=6, high=12, prior=&#x27;uniform&#x27;, transform=&#x27;normalize&#x27;),\n",
       "                             &#x27;max_features&#x27;: Categorical(categories=(&#x27;sqrt&#x27;, &#x27;log2&#x27;), prior=None),\n",
       "                             &#x27;min_samples_leaf&#x27;: Integer(low=5, high=20, prior=&#x27;uniform&#x27;, transform=&#x27;normalize&#x27;),\n",
       "                             &#x27;min_samples_split&#x27;: Integer(low=5, high=20, prior=&#x27;uniform&#x27;, transform=&#x27;normalize&#x27;),\n",
       "                             &#x27;splitter&#x27;: Categorical(categories=(&#x27;best&#x27;, &#x27;random&#x27;), prior=None)})</pre></div></div></div><div class=\"sk-parallel\"><div class=\"sk-parallel-item\"><div class=\"sk-item\"><div class=\"sk-label-container\"><div class=\"sk-label sk-toggleable\"><input class=\"sk-toggleable__control sk-hidden--visually\" id=\"sk-estimator-id-22\" type=\"checkbox\" ><label for=\"sk-estimator-id-22\" class=\"sk-toggleable__label sk-toggleable__label-arrow\">estimator: DecisionTreeClassifier</label><div class=\"sk-toggleable__content\"><pre>DecisionTreeClassifier(random_state=3141592)</pre></div></div></div><div class=\"sk-serial\"><div class=\"sk-item\"><div class=\"sk-estimator sk-toggleable\"><input class=\"sk-toggleable__control sk-hidden--visually\" id=\"sk-estimator-id-23\" type=\"checkbox\" ><label for=\"sk-estimator-id-23\" class=\"sk-toggleable__label sk-toggleable__label-arrow\">DecisionTreeClassifier</label><div class=\"sk-toggleable__content\"><pre>DecisionTreeClassifier(random_state=3141592)</pre></div></div></div></div></div></div></div></div></div></div>"
      ],
      "text/plain": [
       "BayesSearchCV(cv=StratifiedKFold(n_splits=5, random_state=3141592, shuffle=True),\n",
       "              estimator=DecisionTreeClassifier(random_state=3141592), n_jobs=-1,\n",
       "              random_state=3141592, scoring='recall',\n",
       "              search_spaces={'criterion': Categorical(categories=('gini', 'entropy'), prior=None),\n",
       "                             'max_depth': Integer(low=6, high=12, prior='uniform', transform='normalize'),\n",
       "                             'max_features': Categorical(categories=('sqrt', 'log2'), prior=None),\n",
       "                             'min_samples_leaf': Integer(low=5, high=20, prior='uniform', transform='normalize'),\n",
       "                             'min_samples_split': Integer(low=5, high=20, prior='uniform', transform='normalize'),\n",
       "                             'splitter': Categorical(categories=('best', 'random'), prior=None)})"
      ]
     },
     "execution_count": 28,
     "metadata": {},
     "output_type": "execute_result"
    }
   ],
   "source": [
    "opt_lr = BayesSearchCV(\n",
    "    estimator=make_pipeline(StandardScaler(), LogisticRegression()),\n",
    "    search_spaces = space_lr,\n",
    "    n_iter=50,\n",
    "    scoring='recall',\n",
    "    n_jobs=-1,\n",
    "    cv=inner_cv,\n",
    "    random_state=RANDOM_STATE)\n",
    "            \n",
    "# Validação cruzada aninhada\n",
    "bs_lr_nested_scores = cross_val_score(opt_lr, x_treino, y_treino, cv=outer_cv)\n",
    "\n",
    "print(f'resultado de cada iteração do cv externo: {bs_lr_nested_scores}')\n",
    "print(f'média: {bs_lr_nested_scores.mean()}')\n",
    "\n",
    "opt_dt.fit(x_treino, y_treino)"
   ]
  },
  {
   "cell_type": "code",
   "execution_count": 29,
   "id": "a71f121c",
   "metadata": {},
   "outputs": [
    {
     "data": {
      "text/html": [
       "<div>\n",
       "<style scoped>\n",
       "    .dataframe tbody tr th:only-of-type {\n",
       "        vertical-align: middle;\n",
       "    }\n",
       "\n",
       "    .dataframe tbody tr th {\n",
       "        vertical-align: top;\n",
       "    }\n",
       "\n",
       "    .dataframe thead th {\n",
       "        text-align: right;\n",
       "    }\n",
       "</style>\n",
       "<table border=\"1\" class=\"dataframe\">\n",
       "  <thead>\n",
       "    <tr style=\"text-align: right;\">\n",
       "      <th></th>\n",
       "      <th>0</th>\n",
       "      <th>1</th>\n",
       "      <th>2</th>\n",
       "      <th>3</th>\n",
       "      <th>4</th>\n",
       "    </tr>\n",
       "  </thead>\n",
       "  <tbody>\n",
       "    <tr>\n",
       "      <th>mean_fit_time</th>\n",
       "      <td>0.002164</td>\n",
       "      <td>0.001207</td>\n",
       "      <td>0.001807</td>\n",
       "      <td>0.0022</td>\n",
       "      <td>0.001419</td>\n",
       "    </tr>\n",
       "    <tr>\n",
       "      <th>std_fit_time</th>\n",
       "      <td>0.000242</td>\n",
       "      <td>0.000176</td>\n",
       "      <td>0.000421</td>\n",
       "      <td>0.000401</td>\n",
       "      <td>0.000511</td>\n",
       "    </tr>\n",
       "    <tr>\n",
       "      <th>mean_score_time</th>\n",
       "      <td>0.000981</td>\n",
       "      <td>0.001632</td>\n",
       "      <td>0.001242</td>\n",
       "      <td>0.001603</td>\n",
       "      <td>0.001615</td>\n",
       "    </tr>\n",
       "    <tr>\n",
       "      <th>std_score_time</th>\n",
       "      <td>0.000284</td>\n",
       "      <td>0.00038</td>\n",
       "      <td>0.0008</td>\n",
       "      <td>0.000487</td>\n",
       "      <td>0.000508</td>\n",
       "    </tr>\n",
       "    <tr>\n",
       "      <th>param_criterion</th>\n",
       "      <td>entropy</td>\n",
       "      <td>entropy</td>\n",
       "      <td>gini</td>\n",
       "      <td>entropy</td>\n",
       "      <td>gini</td>\n",
       "    </tr>\n",
       "    <tr>\n",
       "      <th>param_max_depth</th>\n",
       "      <td>7</td>\n",
       "      <td>10</td>\n",
       "      <td>6</td>\n",
       "      <td>9</td>\n",
       "      <td>6</td>\n",
       "    </tr>\n",
       "    <tr>\n",
       "      <th>param_max_features</th>\n",
       "      <td>log2</td>\n",
       "      <td>log2</td>\n",
       "      <td>log2</td>\n",
       "      <td>sqrt</td>\n",
       "      <td>log2</td>\n",
       "    </tr>\n",
       "    <tr>\n",
       "      <th>param_min_samples_leaf</th>\n",
       "      <td>13</td>\n",
       "      <td>6</td>\n",
       "      <td>12</td>\n",
       "      <td>9</td>\n",
       "      <td>18</td>\n",
       "    </tr>\n",
       "    <tr>\n",
       "      <th>param_min_samples_split</th>\n",
       "      <td>13</td>\n",
       "      <td>8</td>\n",
       "      <td>14</td>\n",
       "      <td>18</td>\n",
       "      <td>14</td>\n",
       "    </tr>\n",
       "    <tr>\n",
       "      <th>param_splitter</th>\n",
       "      <td>best</td>\n",
       "      <td>random</td>\n",
       "      <td>best</td>\n",
       "      <td>best</td>\n",
       "      <td>best</td>\n",
       "    </tr>\n",
       "    <tr>\n",
       "      <th>params</th>\n",
       "      <td>{'criterion': 'entropy', 'max_depth': 7, 'max_...</td>\n",
       "      <td>{'criterion': 'entropy', 'max_depth': 10, 'max...</td>\n",
       "      <td>{'criterion': 'gini', 'max_depth': 6, 'max_fea...</td>\n",
       "      <td>{'criterion': 'entropy', 'max_depth': 9, 'max_...</td>\n",
       "      <td>{'criterion': 'gini', 'max_depth': 6, 'max_fea...</td>\n",
       "    </tr>\n",
       "    <tr>\n",
       "      <th>split0_test_score</th>\n",
       "      <td>0.855263</td>\n",
       "      <td>0.828947</td>\n",
       "      <td>0.763158</td>\n",
       "      <td>0.868421</td>\n",
       "      <td>0.710526</td>\n",
       "    </tr>\n",
       "    <tr>\n",
       "      <th>split1_test_score</th>\n",
       "      <td>0.746667</td>\n",
       "      <td>0.773333</td>\n",
       "      <td>0.733333</td>\n",
       "      <td>0.786667</td>\n",
       "      <td>0.773333</td>\n",
       "    </tr>\n",
       "    <tr>\n",
       "      <th>split2_test_score</th>\n",
       "      <td>0.826667</td>\n",
       "      <td>0.853333</td>\n",
       "      <td>0.84</td>\n",
       "      <td>0.8</td>\n",
       "      <td>0.8</td>\n",
       "    </tr>\n",
       "    <tr>\n",
       "      <th>split3_test_score</th>\n",
       "      <td>0.746667</td>\n",
       "      <td>0.786667</td>\n",
       "      <td>0.72</td>\n",
       "      <td>0.706667</td>\n",
       "      <td>0.6</td>\n",
       "    </tr>\n",
       "    <tr>\n",
       "      <th>split4_test_score</th>\n",
       "      <td>0.773333</td>\n",
       "      <td>0.693333</td>\n",
       "      <td>0.786667</td>\n",
       "      <td>0.733333</td>\n",
       "      <td>0.786667</td>\n",
       "    </tr>\n",
       "    <tr>\n",
       "      <th>mean_test_score</th>\n",
       "      <td>0.789719</td>\n",
       "      <td>0.787123</td>\n",
       "      <td>0.768632</td>\n",
       "      <td>0.779018</td>\n",
       "      <td>0.734105</td>\n",
       "    </tr>\n",
       "    <tr>\n",
       "      <th>std_test_score</th>\n",
       "      <td>0.043901</td>\n",
       "      <td>0.054991</td>\n",
       "      <td>0.042567</td>\n",
       "      <td>0.056238</td>\n",
       "      <td>0.073734</td>\n",
       "    </tr>\n",
       "    <tr>\n",
       "      <th>rank_test_score</th>\n",
       "      <td>26</td>\n",
       "      <td>28</td>\n",
       "      <td>39</td>\n",
       "      <td>33</td>\n",
       "      <td>49</td>\n",
       "    </tr>\n",
       "  </tbody>\n",
       "</table>\n",
       "</div>"
      ],
      "text/plain": [
       "                                                                         0  \\\n",
       "mean_fit_time                                                     0.002164   \n",
       "std_fit_time                                                      0.000242   \n",
       "mean_score_time                                                   0.000981   \n",
       "std_score_time                                                    0.000284   \n",
       "param_criterion                                                    entropy   \n",
       "param_max_depth                                                          7   \n",
       "param_max_features                                                    log2   \n",
       "param_min_samples_leaf                                                  13   \n",
       "param_min_samples_split                                                 13   \n",
       "param_splitter                                                        best   \n",
       "params                   {'criterion': 'entropy', 'max_depth': 7, 'max_...   \n",
       "split0_test_score                                                 0.855263   \n",
       "split1_test_score                                                 0.746667   \n",
       "split2_test_score                                                 0.826667   \n",
       "split3_test_score                                                 0.746667   \n",
       "split4_test_score                                                 0.773333   \n",
       "mean_test_score                                                   0.789719   \n",
       "std_test_score                                                    0.043901   \n",
       "rank_test_score                                                         26   \n",
       "\n",
       "                                                                         1  \\\n",
       "mean_fit_time                                                     0.001207   \n",
       "std_fit_time                                                      0.000176   \n",
       "mean_score_time                                                   0.001632   \n",
       "std_score_time                                                     0.00038   \n",
       "param_criterion                                                    entropy   \n",
       "param_max_depth                                                         10   \n",
       "param_max_features                                                    log2   \n",
       "param_min_samples_leaf                                                   6   \n",
       "param_min_samples_split                                                  8   \n",
       "param_splitter                                                      random   \n",
       "params                   {'criterion': 'entropy', 'max_depth': 10, 'max...   \n",
       "split0_test_score                                                 0.828947   \n",
       "split1_test_score                                                 0.773333   \n",
       "split2_test_score                                                 0.853333   \n",
       "split3_test_score                                                 0.786667   \n",
       "split4_test_score                                                 0.693333   \n",
       "mean_test_score                                                   0.787123   \n",
       "std_test_score                                                    0.054991   \n",
       "rank_test_score                                                         28   \n",
       "\n",
       "                                                                         2  \\\n",
       "mean_fit_time                                                     0.001807   \n",
       "std_fit_time                                                      0.000421   \n",
       "mean_score_time                                                   0.001242   \n",
       "std_score_time                                                      0.0008   \n",
       "param_criterion                                                       gini   \n",
       "param_max_depth                                                          6   \n",
       "param_max_features                                                    log2   \n",
       "param_min_samples_leaf                                                  12   \n",
       "param_min_samples_split                                                 14   \n",
       "param_splitter                                                        best   \n",
       "params                   {'criterion': 'gini', 'max_depth': 6, 'max_fea...   \n",
       "split0_test_score                                                 0.763158   \n",
       "split1_test_score                                                 0.733333   \n",
       "split2_test_score                                                     0.84   \n",
       "split3_test_score                                                     0.72   \n",
       "split4_test_score                                                 0.786667   \n",
       "mean_test_score                                                   0.768632   \n",
       "std_test_score                                                    0.042567   \n",
       "rank_test_score                                                         39   \n",
       "\n",
       "                                                                         3  \\\n",
       "mean_fit_time                                                       0.0022   \n",
       "std_fit_time                                                      0.000401   \n",
       "mean_score_time                                                   0.001603   \n",
       "std_score_time                                                    0.000487   \n",
       "param_criterion                                                    entropy   \n",
       "param_max_depth                                                          9   \n",
       "param_max_features                                                    sqrt   \n",
       "param_min_samples_leaf                                                   9   \n",
       "param_min_samples_split                                                 18   \n",
       "param_splitter                                                        best   \n",
       "params                   {'criterion': 'entropy', 'max_depth': 9, 'max_...   \n",
       "split0_test_score                                                 0.868421   \n",
       "split1_test_score                                                 0.786667   \n",
       "split2_test_score                                                      0.8   \n",
       "split3_test_score                                                 0.706667   \n",
       "split4_test_score                                                 0.733333   \n",
       "mean_test_score                                                   0.779018   \n",
       "std_test_score                                                    0.056238   \n",
       "rank_test_score                                                         33   \n",
       "\n",
       "                                                                         4  \n",
       "mean_fit_time                                                     0.001419  \n",
       "std_fit_time                                                      0.000511  \n",
       "mean_score_time                                                   0.001615  \n",
       "std_score_time                                                    0.000508  \n",
       "param_criterion                                                       gini  \n",
       "param_max_depth                                                          6  \n",
       "param_max_features                                                    log2  \n",
       "param_min_samples_leaf                                                  18  \n",
       "param_min_samples_split                                                 14  \n",
       "param_splitter                                                        best  \n",
       "params                   {'criterion': 'gini', 'max_depth': 6, 'max_fea...  \n",
       "split0_test_score                                                 0.710526  \n",
       "split1_test_score                                                 0.773333  \n",
       "split2_test_score                                                      0.8  \n",
       "split3_test_score                                                      0.6  \n",
       "split4_test_score                                                 0.786667  \n",
       "mean_test_score                                                   0.734105  \n",
       "std_test_score                                                    0.073734  \n",
       "rank_test_score                                                         49  "
      ]
     },
     "metadata": {},
     "output_type": "display_data"
    },
    {
     "data": {
      "text/html": [
       "<div>\n",
       "<style scoped>\n",
       "    .dataframe tbody tr th:only-of-type {\n",
       "        vertical-align: middle;\n",
       "    }\n",
       "\n",
       "    .dataframe tbody tr th {\n",
       "        vertical-align: top;\n",
       "    }\n",
       "\n",
       "    .dataframe thead th {\n",
       "        text-align: right;\n",
       "    }\n",
       "</style>\n",
       "<table border=\"1\" class=\"dataframe\">\n",
       "  <thead>\n",
       "    <tr style=\"text-align: right;\">\n",
       "      <th></th>\n",
       "      <th>17</th>\n",
       "    </tr>\n",
       "  </thead>\n",
       "  <tbody>\n",
       "    <tr>\n",
       "      <th>mean_fit_time</th>\n",
       "      <td>0.001471</td>\n",
       "    </tr>\n",
       "    <tr>\n",
       "      <th>std_fit_time</th>\n",
       "      <td>0.000448</td>\n",
       "    </tr>\n",
       "    <tr>\n",
       "      <th>mean_score_time</th>\n",
       "      <td>0.001401</td>\n",
       "    </tr>\n",
       "    <tr>\n",
       "      <th>std_score_time</th>\n",
       "      <td>0.000487</td>\n",
       "    </tr>\n",
       "    <tr>\n",
       "      <th>param_criterion</th>\n",
       "      <td>gini</td>\n",
       "    </tr>\n",
       "    <tr>\n",
       "      <th>param_max_depth</th>\n",
       "      <td>12</td>\n",
       "    </tr>\n",
       "    <tr>\n",
       "      <th>param_max_features</th>\n",
       "      <td>sqrt</td>\n",
       "    </tr>\n",
       "    <tr>\n",
       "      <th>param_min_samples_leaf</th>\n",
       "      <td>5</td>\n",
       "    </tr>\n",
       "    <tr>\n",
       "      <th>param_min_samples_split</th>\n",
       "      <td>13</td>\n",
       "    </tr>\n",
       "    <tr>\n",
       "      <th>param_splitter</th>\n",
       "      <td>random</td>\n",
       "    </tr>\n",
       "    <tr>\n",
       "      <th>params</th>\n",
       "      <td>{'criterion': 'gini', 'max_depth': 12, 'max_fe...</td>\n",
       "    </tr>\n",
       "    <tr>\n",
       "      <th>split0_test_score</th>\n",
       "      <td>0.881579</td>\n",
       "    </tr>\n",
       "    <tr>\n",
       "      <th>split1_test_score</th>\n",
       "      <td>0.88</td>\n",
       "    </tr>\n",
       "    <tr>\n",
       "      <th>split2_test_score</th>\n",
       "      <td>0.866667</td>\n",
       "    </tr>\n",
       "    <tr>\n",
       "      <th>split3_test_score</th>\n",
       "      <td>0.746667</td>\n",
       "    </tr>\n",
       "    <tr>\n",
       "      <th>split4_test_score</th>\n",
       "      <td>0.773333</td>\n",
       "    </tr>\n",
       "    <tr>\n",
       "      <th>mean_test_score</th>\n",
       "      <td>0.829649</td>\n",
       "    </tr>\n",
       "    <tr>\n",
       "      <th>std_test_score</th>\n",
       "      <td>0.057723</td>\n",
       "    </tr>\n",
       "    <tr>\n",
       "      <th>rank_test_score</th>\n",
       "      <td>1</td>\n",
       "    </tr>\n",
       "  </tbody>\n",
       "</table>\n",
       "</div>"
      ],
      "text/plain": [
       "                                                                        17\n",
       "mean_fit_time                                                     0.001471\n",
       "std_fit_time                                                      0.000448\n",
       "mean_score_time                                                   0.001401\n",
       "std_score_time                                                    0.000487\n",
       "param_criterion                                                       gini\n",
       "param_max_depth                                                         12\n",
       "param_max_features                                                    sqrt\n",
       "param_min_samples_leaf                                                   5\n",
       "param_min_samples_split                                                 13\n",
       "param_splitter                                                      random\n",
       "params                   {'criterion': 'gini', 'max_depth': 12, 'max_fe...\n",
       "split0_test_score                                                 0.881579\n",
       "split1_test_score                                                     0.88\n",
       "split2_test_score                                                 0.866667\n",
       "split3_test_score                                                 0.746667\n",
       "split4_test_score                                                 0.773333\n",
       "mean_test_score                                                   0.829649\n",
       "std_test_score                                                    0.057723\n",
       "rank_test_score                                                          1"
      ]
     },
     "metadata": {},
     "output_type": "display_data"
    }
   ],
   "source": [
    "cv_results = pd.DataFrame(opt_dt.cv_results_)\n",
    "display(cv_results.head().T)\n",
    "###################################################\n",
    "# melhores hiper-parametros\n",
    "#display(opt_dt.best_params_)\n",
    "\n",
    "#  melhor modelo\n",
    "display(cv_results.loc[[opt_dt.best_index_]].T)"
   ]
  },
  {
   "cell_type": "markdown",
   "id": "4cdda80b",
   "metadata": {},
   "source": [
    "Entendendo qual técnica usar\n",
    "Após apresentar essas técnicas de otimização bayesiana, surge a pergunta: qual delas escolher? A resposta é: depende. A escolha depende do seu propósito e da sua situação.\n",
    "\n",
    "Se você possui um `conjunto de dados não tão grande ou um espaço de busca limitado, o Grid Search pode ser uma opção.`\n",
    "Para conjuntos de dados extensos, a busca aleatória pode ser uma alternativa.\n",
    "\n",
    "No entanto, se o espaço de busca é vasto, como de 100 a 300, e utilizar o Randomized Search ou o Grid Search implicaria em uma variação grande, por exemplo, de 10 em 10, pode ser mais eficaz considerar a otimização bayesiana.\n",
    "\n",
    "Assim, teria mais ou menos uns 200 opções só para o max_depth. Utilizando a otimização bayesiana, ele vai escolher valores entre 100 e 300, por exemplo. Portanto, se tiver espaços de busca muito elevados, com muitos valores, talvez a otimização bayesiana seja uma melhor opção, já que ela também aprende com os resultados anteriores."
   ]
  },
  {
   "cell_type": "markdown",
   "id": "a6a7b635",
   "metadata": {},
   "source": [
    "# FIM"
   ]
  },
  {
   "cell_type": "code",
   "execution_count": null,
   "id": "2e1f6705",
   "metadata": {},
   "outputs": [],
   "source": []
  }
 ],
 "metadata": {
  "kernelspec": {
   "display_name": "Python 3 (ipykernel)",
   "language": "python",
   "name": "python3"
  },
  "language_info": {
   "codemirror_mode": {
    "name": "ipython",
    "version": 3
   },
   "file_extension": ".py",
   "mimetype": "text/x-python",
   "name": "python",
   "nbconvert_exporter": "python",
   "pygments_lexer": "ipython3",
   "version": "3.11.7"
  }
 },
 "nbformat": 4,
 "nbformat_minor": 5
}

{
 "cells": [
  {
   "cell_type": "code",
   "execution_count": null,
   "id": "e25c0626",
   "metadata": {},
   "outputs": [],
   "source": [
    "grandom_state = 3141592"
   ]
  },
  {
   "cell_type": "markdown",
   "id": "699d88a7",
   "metadata": {},
   "source": [
    "# Funções, bibliotecas e Dataframe ficticios"
   ]
  },
  {
   "cell_type": "code",
   "execution_count": 2,
   "id": "71b81531",
   "metadata": {},
   "outputs": [],
   "source": [
    "import matplotlib.pyplot as plt\n",
    "import matplotlib.cm as cm\n",
    "\n",
    "import matplotlib.font_manager as fm #para alterar as fontes dos graficos\n",
    "import seaborn as sns\n",
    "\n",
    "import pyperclip\n",
    "\n",
    "# Definindo o estilo de fonte e tema\n",
    "fonte = fm.FontProperties(family=\"Calibri\", style=\"italic\")\n",
    "\n",
    "sns.set_style('whitegrid') #cor da grade(fundo)"
   ]
  },
  {
   "cell_type": "code",
   "execution_count": 3,
   "id": "3960e659",
   "metadata": {},
   "outputs": [],
   "source": [
    "import pandas as pd\n",
    "import numpy as np\n",
    "\n",
    "# Manipulação e Tratamento de dados\n",
    "import openpyxl\n",
    "import pandas as pd\n",
    "import numpy as np\n",
    "from numpy import NaN\n",
    "\n",
    "#ignorando Warning inuteis\n",
    "import warnings \n",
    "from pandas.errors import SettingWithCopyWarning\n",
    "warnings.simplefilter(action=\"ignore\", category=SettingWithCopyWarning)\n",
    "warnings.filterwarnings(action='ignore', category=FutureWarning)\n",
    "warnings.simplefilter(action='ignore', category=UserWarning)"
   ]
  },
  {
   "cell_type": "code",
   "execution_count": 4,
   "id": "579050df",
   "metadata": {},
   "outputs": [],
   "source": [
    "import traceback"
   ]
  },
  {
   "cell_type": "code",
   "execution_count": 5,
   "id": "4724bd46",
   "metadata": {},
   "outputs": [
    {
     "name": "stdout",
     "output_type": "stream",
     "text": [
      "https://raw.githubusercontent.com/GabrielGabes/functions_gsa/main/fake_database.py\n",
      "https://raw.githubusercontent.com/GabrielGabes/functions_gsa/main/funcoes_estatisticas.py\n",
      "https://raw.githubusercontent.com/GabrielGabes/functions_gsa/main/ML_supervised_learning.py\n",
      "TUDO OK\n"
     ]
    }
   ],
   "source": [
    "import requests\n",
    "\n",
    "# CARREGANDO BASE\n",
    "arquivo = 'fake_database'\n",
    "url = \"https://raw.githubusercontent.com/GabrielGabes/functions_gsa/main/\" + arquivo + \".py\"\n",
    "print(url)\n",
    "#response = requests.get(url); code = response.text; exec(code)\n",
    "#df = fake_database2(2250); df_bck = df.copy(); display(df.head())\n",
    "\n",
    "arquivo = 'funcoes_estatisticas'\n",
    "url = \"https://raw.githubusercontent.com/GabrielGabes/functions_gsa/main/\" + arquivo + \".py\"\n",
    "print(url)\n",
    "response = requests.get(url); code = response.text; exec(code)\n",
    "\n",
    "# Função para avaliação de modelos exibindo metricas de avaliação\n",
    "from sklearn.metrics import accuracy_score, confusion_matrix, classification_report, RocCurveDisplay\n",
    "arquivo = 'ML_supervised_learning'\n",
    "url = \"https://raw.githubusercontent.com/GabrielGabes/functions_gsa/main/\" + arquivo + \".py\"\n",
    "print(url); response = requests.get(url); code = response.text; exec(code)\n",
    "\n",
    "print('TUDO OK')"
   ]
  },
  {
   "cell_type": "markdown",
   "id": "9824529d",
   "metadata": {},
   "source": [
    "# Criando dataframe sintetico desbalanceado"
   ]
  },
  {
   "cell_type": "code",
   "execution_count": 7,
   "id": "87342e4f",
   "metadata": {},
   "outputs": [
    {
     "name": "stdout",
     "output_type": "stream",
     "text": [
      "target\n",
      "0    0.926714\n",
      "1    0.073286\n",
      "Name: proportion, dtype: float64\n",
      "target\n",
      "0    6487\n",
      "1     513\n",
      "Name: count, dtype: int64\n"
     ]
    },
    {
     "data": {
      "text/html": [
       "<div>\n",
       "<style scoped>\n",
       "    .dataframe tbody tr th:only-of-type {\n",
       "        vertical-align: middle;\n",
       "    }\n",
       "\n",
       "    .dataframe tbody tr th {\n",
       "        vertical-align: top;\n",
       "    }\n",
       "\n",
       "    .dataframe thead th {\n",
       "        text-align: right;\n",
       "    }\n",
       "</style>\n",
       "<table border=\"1\" class=\"dataframe\">\n",
       "  <thead>\n",
       "    <tr style=\"text-align: right;\">\n",
       "      <th></th>\n",
       "      <th>0</th>\n",
       "      <th>1</th>\n",
       "      <th>2</th>\n",
       "      <th>3</th>\n",
       "      <th>4</th>\n",
       "      <th>6995</th>\n",
       "      <th>6996</th>\n",
       "      <th>6997</th>\n",
       "      <th>6998</th>\n",
       "      <th>6999</th>\n",
       "    </tr>\n",
       "  </thead>\n",
       "  <tbody>\n",
       "    <tr>\n",
       "      <th>feature_0</th>\n",
       "      <td>1.541106</td>\n",
       "      <td>2.113446</td>\n",
       "      <td>-0.218678</td>\n",
       "      <td>0.469373</td>\n",
       "      <td>1.265253</td>\n",
       "      <td>3.368074</td>\n",
       "      <td>-2.238666</td>\n",
       "      <td>3.118471</td>\n",
       "      <td>0.877196</td>\n",
       "      <td>2.926043</td>\n",
       "    </tr>\n",
       "    <tr>\n",
       "      <th>feature_1</th>\n",
       "      <td>-2.224072</td>\n",
       "      <td>-1.349802</td>\n",
       "      <td>1.911544</td>\n",
       "      <td>-1.185677</td>\n",
       "      <td>-1.293475</td>\n",
       "      <td>-3.487470</td>\n",
       "      <td>1.491841</td>\n",
       "      <td>-0.059676</td>\n",
       "      <td>0.084996</td>\n",
       "      <td>-5.177143</td>\n",
       "    </tr>\n",
       "    <tr>\n",
       "      <th>feature_2</th>\n",
       "      <td>1.399752</td>\n",
       "      <td>-0.730737</td>\n",
       "      <td>1.548823</td>\n",
       "      <td>0.803967</td>\n",
       "      <td>-0.582570</td>\n",
       "      <td>0.526047</td>\n",
       "      <td>2.744920</td>\n",
       "      <td>4.131946</td>\n",
       "      <td>2.591822</td>\n",
       "      <td>-1.872256</td>\n",
       "    </tr>\n",
       "    <tr>\n",
       "      <th>feature_3</th>\n",
       "      <td>1.993274</td>\n",
       "      <td>1.903320</td>\n",
       "      <td>1.493789</td>\n",
       "      <td>2.188837</td>\n",
       "      <td>-0.644731</td>\n",
       "      <td>1.328144</td>\n",
       "      <td>-1.775335</td>\n",
       "      <td>-0.555307</td>\n",
       "      <td>-0.250734</td>\n",
       "      <td>2.579074</td>\n",
       "    </tr>\n",
       "    <tr>\n",
       "      <th>feature_4</th>\n",
       "      <td>1.392521</td>\n",
       "      <td>1.260421</td>\n",
       "      <td>1.471071</td>\n",
       "      <td>1.427761</td>\n",
       "      <td>-0.122278</td>\n",
       "      <td>1.670315</td>\n",
       "      <td>-1.984806</td>\n",
       "      <td>-1.422827</td>\n",
       "      <td>-1.619791</td>\n",
       "      <td>3.634661</td>\n",
       "    </tr>\n",
       "    <tr>\n",
       "      <th>feature_5</th>\n",
       "      <td>1.116959</td>\n",
       "      <td>-1.719981</td>\n",
       "      <td>-0.851467</td>\n",
       "      <td>-0.278626</td>\n",
       "      <td>-0.215144</td>\n",
       "      <td>0.329166</td>\n",
       "      <td>4.011815</td>\n",
       "      <td>2.173615</td>\n",
       "      <td>2.141277</td>\n",
       "      <td>-0.693629</td>\n",
       "    </tr>\n",
       "    <tr>\n",
       "      <th>feature_6</th>\n",
       "      <td>-0.266068</td>\n",
       "      <td>-2.056901</td>\n",
       "      <td>0.353300</td>\n",
       "      <td>1.242073</td>\n",
       "      <td>-0.688233</td>\n",
       "      <td>-1.743488</td>\n",
       "      <td>1.950283</td>\n",
       "      <td>-1.837237</td>\n",
       "      <td>-0.462534</td>\n",
       "      <td>-1.733612</td>\n",
       "    </tr>\n",
       "    <tr>\n",
       "      <th>feature_7</th>\n",
       "      <td>-3.566184</td>\n",
       "      <td>1.143615</td>\n",
       "      <td>-1.172619</td>\n",
       "      <td>-2.262143</td>\n",
       "      <td>0.793002</td>\n",
       "      <td>-1.917428</td>\n",
       "      <td>-4.493887</td>\n",
       "      <td>-4.452737</td>\n",
       "      <td>-3.449748</td>\n",
       "      <td>-0.183717</td>\n",
       "    </tr>\n",
       "    <tr>\n",
       "      <th>feature_8</th>\n",
       "      <td>-0.113970</td>\n",
       "      <td>-1.107819</td>\n",
       "      <td>0.966880</td>\n",
       "      <td>-0.140977</td>\n",
       "      <td>-0.125796</td>\n",
       "      <td>-0.293271</td>\n",
       "      <td>1.850636</td>\n",
       "      <td>2.653587</td>\n",
       "      <td>1.307651</td>\n",
       "      <td>-2.338005</td>\n",
       "    </tr>\n",
       "    <tr>\n",
       "      <th>feature_9</th>\n",
       "      <td>-0.047671</td>\n",
       "      <td>0.004030</td>\n",
       "      <td>-1.550520</td>\n",
       "      <td>1.029993</td>\n",
       "      <td>-0.588985</td>\n",
       "      <td>-0.950885</td>\n",
       "      <td>-0.431286</td>\n",
       "      <td>-0.712507</td>\n",
       "      <td>-0.321191</td>\n",
       "      <td>0.568290</td>\n",
       "    </tr>\n",
       "    <tr>\n",
       "      <th>target</th>\n",
       "      <td>0.000000</td>\n",
       "      <td>0.000000</td>\n",
       "      <td>0.000000</td>\n",
       "      <td>0.000000</td>\n",
       "      <td>0.000000</td>\n",
       "      <td>0.000000</td>\n",
       "      <td>0.000000</td>\n",
       "      <td>0.000000</td>\n",
       "      <td>0.000000</td>\n",
       "      <td>0.000000</td>\n",
       "    </tr>\n",
       "  </tbody>\n",
       "</table>\n",
       "</div>"
      ],
      "text/plain": [
       "               0         1         2         3         4         6995  \\\n",
       "feature_0  1.541106  2.113446 -0.218678  0.469373  1.265253  3.368074   \n",
       "feature_1 -2.224072 -1.349802  1.911544 -1.185677 -1.293475 -3.487470   \n",
       "feature_2  1.399752 -0.730737  1.548823  0.803967 -0.582570  0.526047   \n",
       "feature_3  1.993274  1.903320  1.493789  2.188837 -0.644731  1.328144   \n",
       "feature_4  1.392521  1.260421  1.471071  1.427761 -0.122278  1.670315   \n",
       "feature_5  1.116959 -1.719981 -0.851467 -0.278626 -0.215144  0.329166   \n",
       "feature_6 -0.266068 -2.056901  0.353300  1.242073 -0.688233 -1.743488   \n",
       "feature_7 -3.566184  1.143615 -1.172619 -2.262143  0.793002 -1.917428   \n",
       "feature_8 -0.113970 -1.107819  0.966880 -0.140977 -0.125796 -0.293271   \n",
       "feature_9 -0.047671  0.004030 -1.550520  1.029993 -0.588985 -0.950885   \n",
       "target     0.000000  0.000000  0.000000  0.000000  0.000000  0.000000   \n",
       "\n",
       "               6996      6997      6998      6999  \n",
       "feature_0 -2.238666  3.118471  0.877196  2.926043  \n",
       "feature_1  1.491841 -0.059676  0.084996 -5.177143  \n",
       "feature_2  2.744920  4.131946  2.591822 -1.872256  \n",
       "feature_3 -1.775335 -0.555307 -0.250734  2.579074  \n",
       "feature_4 -1.984806 -1.422827 -1.619791  3.634661  \n",
       "feature_5  4.011815  2.173615  2.141277 -0.693629  \n",
       "feature_6  1.950283 -1.837237 -0.462534 -1.733612  \n",
       "feature_7 -4.493887 -4.452737 -3.449748 -0.183717  \n",
       "feature_8  1.850636  2.653587  1.307651 -2.338005  \n",
       "feature_9 -0.431286 -0.712507 -0.321191  0.568290  \n",
       "target     0.000000  0.000000  0.000000  0.000000  "
      ]
     },
     "metadata": {},
     "output_type": "display_data"
    }
   ],
   "source": [
    "from sklearn.datasets import make_classification\n",
    "import pandas as pd\n",
    "\n",
    "# Gerar dados sintéticos desbalanceados\n",
    "x, y = make_classification(n_samples=7000, \n",
    "                           n_features=10, # qtd total de features\n",
    "                           n_informative=6, # features realmente uteis para o modelo\n",
    "                           n_redundant=3, # features que diz praticamente oque uma outra já fim\n",
    "                           n_classes=2, \n",
    "                           n_clusters_per_class=3,  # Subgrupos\n",
    "                           weights=[0.93, 0.07], \n",
    "                           class_sep=0.2,\n",
    "                           random_state=3141592)\n",
    "\n",
    "# Criar um DataFrame\n",
    "df = pd.DataFrame(x, columns=[f'feature_{i}' for i in range(x.shape[1])])\n",
    "df['target'] = y\n",
    "\n",
    "# Ver a distribuição de classes\n",
    "print(df['target'].value_counts(normalize=True))\n",
    "print(df['target'].value_counts())\n",
    "\n",
    "display(pd.concat([df.head(5), df.tail(5)]).T)\n",
    "# Salvar para análise\n",
    "#df.to_csv('imbalanced_dataset.csv', index=False)\n"
   ]
  },
  {
   "cell_type": "markdown",
   "id": "698f2a05",
   "metadata": {},
   "source": [
    "# Tratando o DataFrame"
   ]
  },
  {
   "cell_type": "code",
   "execution_count": 8,
   "id": "8093d21f",
   "metadata": {},
   "outputs": [
    {
     "data": {
      "text/plain": [
       "0    0\n",
       "1    0\n",
       "2    0\n",
       "3    0\n",
       "4    0\n",
       "Name: target, dtype: int32"
      ]
     },
     "metadata": {},
     "output_type": "display_data"
    }
   ],
   "source": [
    "# Variavel Dependente\n",
    "var_dep = 'target'\n",
    "y = df[var_dep]\n",
    "display(y.head())\n",
    "\n",
    "x = df.drop(var_dep, axis=1)"
   ]
  },
  {
   "cell_type": "code",
   "execution_count": 9,
   "id": "0d2c6d13",
   "metadata": {},
   "outputs": [
    {
     "name": "stdout",
     "output_type": "stream",
     "text": [
      "(5250, 10) (1750, 10)\n",
      "(5250,) (1750,)\n"
     ]
    }
   ],
   "source": [
    "# DUMMYRIZAÇÃO\n",
    "colunas_categoricas = []\n",
    "colunas_binarias = []\n",
    "colunas_mais3_categorias = []\n",
    "\n",
    "for coluna in x.columns:\n",
    "    if df[coluna].dtype == 'O':\n",
    "        categorias = x[coluna].unique()\n",
    "        if len(categorias) == 2:\n",
    "            print('2 niveis:', coluna, '=>', categorias)\n",
    "            colunas_categoricas.append(coluna)\n",
    "            colunas_binarias.append(coluna)\n",
    "        else:\n",
    "            print('3 niveis:', coluna, '=>', categorias)\n",
    "            colunas_categoricas.append(coluna)\n",
    "            colunas_mais3_categorias.append(coluna)\n",
    "\n",
    "############################################################################################\n",
    "from sklearn.compose import make_column_transformer\n",
    "from sklearn.preprocessing import OneHotEncoder #transformando colunas com 2 categorias em 0 e 1\n",
    "\n",
    "coluna = x.columns\n",
    "one_hot = make_column_transformer((\n",
    "    OneHotEncoder(drop='if_binary'), #caso a coluna tenha apenas 2 categorias \n",
    "    colunas_categoricas), #passando quais são essas colunas\n",
    "    remainder = 'passthrough', sparse_threshold=0) #oque deve ser feito com as outras\n",
    "\n",
    "#Aplicando transformação\n",
    "x = one_hot.fit_transform(x)\n",
    "\n",
    "#Os novos nomes das colunas #'onehotencoder=transformadas; 'remainder'=não transformadas\n",
    "novos_nomes_colunas = one_hot.get_feature_names_out(coluna)\n",
    "\n",
    "# Remover prefixo 'remainder__' das colunas que não foram transformadas\n",
    "#novos_nomes_colunas = [nome.replace('remainder__', '') for nome in novos_nomes_colunas]\n",
    "\n",
    "x = pd.DataFrame(x, columns = novos_nomes_colunas) #alterando de volta\n",
    "x_columns = x.columns.tolist() \n",
    "\n",
    "############################################################################################\n",
    "# Normalização (scaling entre 0 e 1) com MinMaxScaler ******************************\n",
    "from sklearn.preprocessing import MinMaxScaler\n",
    "normalizacao = MinMaxScaler()\n",
    "#x = normalizacao.fit_transform(x)\n",
    "# df['Close_normalizada'] = (df[coluna] - df[coluna].min()) / (df[coluna].max() - df[coluna].min())\n",
    "\n",
    "# Padronização (média 0 e desvio padrão 1) com StandardScaler **********************\n",
    "from sklearn.preprocessing import StandardScaler\n",
    "padronizacao = StandardScaler()\n",
    "#x = padronizacao.fit_transform(x)\n",
    "# df['Close_padronizada'] = (df[coluna] - df[coluna].mean()) / df[coluna].std()\n",
    "\n",
    "############################################################################################\n",
    "# DEFININDO A VARIAVEL DEPENDENTE\n",
    "from sklearn.preprocessing import LabelEncoder\n",
    "y = LabelEncoder().fit_transform(y)\n",
    "\n",
    "############################################################################################\n",
    "#backups\n",
    "x_inteiro = x\n",
    "y_inteiro = y\n",
    "\n",
    "# DIVIDINDO BASE EM TREINO E TESTE\n",
    "from sklearn.model_selection import train_test_split\n",
    "x_treino, x_teste, y_treino, y_teste = train_test_split(x, y, \n",
    "                                                    stratify = y, #para manter a proporção da Var Dep nos splits\n",
    "                                                    random_state = grandom_state) #raiz da aleatoridade\n",
    "# test_size = 0.25 #porcentagem que ira ser separado para testes\n",
    "\n",
    "print(x_treino.shape, x_teste.shape)\n",
    "print(y_treino.shape, y_teste.shape)"
   ]
  },
  {
   "cell_type": "markdown",
   "id": "cad3d644",
   "metadata": {},
   "source": [
    "# Medidas de avaliação"
   ]
  },
  {
   "cell_type": "code",
   "execution_count": 34,
   "id": "79b7b697",
   "metadata": {},
   "outputs": [],
   "source": [
    "# Função que cria tabela com todas metricas de avaliação em cada ponto de threshold\n",
    "def aval_modelo_tabela(y_teste, y_pred, beta=1.5):\n",
    "    y_teste = np.array(y_teste)\n",
    "    y_pred = np.array(y_pred)\n",
    "\n",
    "    # Inicializando um DataFrame para armazenar as métricas\n",
    "    fd = pd.DataFrame(columns=['tn', 'fp', 'fn', 'tp'])\n",
    "\n",
    "    # Calculando os valores de tn, fp, fn, tp\n",
    "    tn = len(np.where((y_pred == 0) & (y_teste == 0))[0])\n",
    "    fp = len(np.where((y_pred == 1) & (y_teste == 0))[0])\n",
    "    \n",
    "    fn = len(np.where((y_pred == 0) & (y_teste == 1))[0])\n",
    "    tp = len(np.where((y_pred == 1) & (y_teste == 1))[0])\n",
    "\n",
    "    # Adicionando os resultados ao DataFrame 'fd'\n",
    "    fd = pd.concat([fd, pd.DataFrame([[tn, fp, fn, tp]], columns=fd.columns)])\n",
    "\n",
    "    # Substituir valores NaN por 0\n",
    "    fd.fillna(0, inplace=True)\n",
    "    fd.reset_index(drop=True, inplace=True)\n",
    "    ######################################################################################\n",
    "\n",
    "    # Inicializar as colunas das métricas com NaN\n",
    "    metricas_de_aval = ['acuracia', 'precisao', 'sensibilidade', 'especificidade', 'f1', 'fb_score',\n",
    "                        'valor_pre_posi', 'valor_pre_neg', 'taxa_falsos_positivos', 'taxa_falsos_negativos',\n",
    "                        'fdr', 'fo_r', 'indice_youden', 'coef_matthews']\n",
    "    fd[metricas_de_aval] = 0\n",
    "\n",
    "    # Loop para calcular as métricas em cada linha\n",
    "    for i in range(len(fd)):\n",
    "        # Acurácia\n",
    "        if (fd['tn'][i] + fd['fp'][i] + fd['fn'][i] + fd['tp'][i]) != 0:\n",
    "            fd['acuracia'][i] = (fd['tp'][i] + fd['tn'][i]) / (fd['tn'][i] + fd['fp'][i] + fd['fn'][i] + fd['tp'][i])\n",
    "\n",
    "        # Precisão\n",
    "        if (fd['tp'][i] + fd['fp'][i]) != 0:\n",
    "            fd['precisao'][i] = fd['tp'][i] / (fd['tp'][i] + fd['fp'][i])\n",
    "\n",
    "        # Sensibilidade (Recall)\n",
    "        if (fd['tp'][i] + fd['fn'][i]) != 0:\n",
    "            fd['sensibilidade'][i] = fd['tp'][i] / (fd['tp'][i] + fd['fn'][i])\n",
    "\n",
    "        # Especificidade\n",
    "        if (fd['tn'][i] + fd['fp'][i]) != 0:\n",
    "            fd['especificidade'][i] = fd['tn'][i] / (fd['tn'][i] + fd['fp'][i])\n",
    "\n",
    "        # F1-Score\n",
    "        if (fd['precisao'][i] + fd['sensibilidade'][i]) != 0:\n",
    "            fd['f1'][i] = 2 * (fd['precisao'][i] * fd['sensibilidade'][i]) / (fd['precisao'][i] + fd['sensibilidade'][i])\n",
    "\n",
    "        # Valor Preditivo Positivo\n",
    "        if (fd['tp'][i] + fd['fp'][i]) != 0:\n",
    "            fd['valor_pre_posi'][i] = fd['tp'][i] / (fd['tp'][i] + fd['fp'][i])\n",
    "\n",
    "        # Valor Preditivo Negativo\n",
    "        if (fd['tn'][i] + fd['fn'][i]) != 0:\n",
    "            fd['valor_pre_neg'][i] = fd['tn'][i] / (fd['tn'][i] + fd['fn'][i])\n",
    "\n",
    "        # Taxa de Falsos Positivos\n",
    "        fd['taxa_falsos_positivos'][i] = 1 - fd['especificidade'][i]\n",
    "\n",
    "        # Taxa de Falsos Negativos\n",
    "        fd['taxa_falsos_negativos'][i] = 1 - fd['sensibilidade'][i]\n",
    "\n",
    "        # False Discovery Rate (FDR)\n",
    "        if (fd['tp'][i] + fd['fp'][i]) != 0:\n",
    "            fd['fdr'][i] = fd['fp'][i] / (fd['tp'][i] + fd['fp'][i])\n",
    "\n",
    "        # False Omission Rate (FOR)\n",
    "        if (fd['tn'][i] + fd['fn'][i]) != 0:\n",
    "            fd['fo_r'][i] = fd['fn'][i] / (fd['tn'][i] + fd['fn'][i])\n",
    "\n",
    "        # Índice de Youden\n",
    "        fd['indice_youden'][i] = fd['sensibilidade'][i] + fd['especificidade'][i] - 1\n",
    "\n",
    "        # Coeficiente de Matthews (MCC)\n",
    "        denom_matthews = (fd['tp'][i]+fd['fp'][i])*(fd['tp'][i]+fd['fn'][i])*(fd['tn'][i]+fd['fp'][i])*(fd['tn'][i]+fd['fn'][i])\n",
    "        if denom_matthews != 0:\n",
    "            fd['coef_matthews'][i] = (fd['tp'][i]*fd['tn'][i] - fd['fp'][i]*fd['fn'][i]) / np.sqrt(denom_matthews)\n",
    "\n",
    "        # F-beta Score\n",
    "        denom_fb_score = (beta**2 * fd['valor_pre_posi'][i]) + fd['sensibilidade'][i]\n",
    "        if denom_fb_score != 0:\n",
    "            fd['fb_score'][i] = (1 + beta**2) * (fd['valor_pre_posi'][i] * fd['sensibilidade'][i]) / denom_fb_score\n",
    "\n",
    "    fd[metricas_de_aval] = fd[metricas_de_aval].round(3)\n",
    "    return fd"
   ]
  },
  {
   "cell_type": "markdown",
   "id": "bfb403dc",
   "metadata": {},
   "source": [
    "# Aplicação adaptada do algoritmo Isolation Forest"
   ]
  },
  {
   "cell_type": "code",
   "execution_count": 109,
   "id": "e74ea604",
   "metadata": {},
   "outputs": [
    {
     "data": {
      "text/html": [
       "<div>\n",
       "<style scoped>\n",
       "    .dataframe tbody tr th:only-of-type {\n",
       "        vertical-align: middle;\n",
       "    }\n",
       "\n",
       "    .dataframe tbody tr th {\n",
       "        vertical-align: top;\n",
       "    }\n",
       "\n",
       "    .dataframe thead th {\n",
       "        text-align: right;\n",
       "    }\n",
       "</style>\n",
       "<table border=\"1\" class=\"dataframe\">\n",
       "  <thead>\n",
       "    <tr style=\"text-align: right;\">\n",
       "      <th></th>\n",
       "      <th>tn</th>\n",
       "      <th>fp</th>\n",
       "      <th>fn</th>\n",
       "      <th>tp</th>\n",
       "      <th>acuracia</th>\n",
       "      <th>precisao</th>\n",
       "      <th>sensibilidade</th>\n",
       "      <th>especificidade</th>\n",
       "      <th>f1</th>\n",
       "      <th>fb_score</th>\n",
       "    </tr>\n",
       "  </thead>\n",
       "  <tbody>\n",
       "    <tr>\n",
       "      <th>0</th>\n",
       "      <td>1465</td>\n",
       "      <td>157</td>\n",
       "      <td>95</td>\n",
       "      <td>33</td>\n",
       "      <td>0.856</td>\n",
       "      <td>0.174</td>\n",
       "      <td>0.258</td>\n",
       "      <td>0.903</td>\n",
       "      <td>0.208</td>\n",
       "      <td>0.224</td>\n",
       "    </tr>\n",
       "  </tbody>\n",
       "</table>\n",
       "</div>"
      ],
      "text/plain": [
       "     tn   fp  fn  tp  acuracia  precisao  sensibilidade  especificidade  \\\n",
       "0  1465  157  95  33     0.856     0.174          0.258           0.903   \n",
       "\n",
       "      f1  fb_score  \n",
       "0  0.208     0.224  "
      ]
     },
     "metadata": {},
     "output_type": "display_data"
    },
    {
     "data": {
      "text/html": [
       "<div>\n",
       "<style scoped>\n",
       "    .dataframe tbody tr th:only-of-type {\n",
       "        vertical-align: middle;\n",
       "    }\n",
       "\n",
       "    .dataframe tbody tr th {\n",
       "        vertical-align: top;\n",
       "    }\n",
       "\n",
       "    .dataframe thead th {\n",
       "        text-align: right;\n",
       "    }\n",
       "</style>\n",
       "<table border=\"1\" class=\"dataframe\">\n",
       "  <thead>\n",
       "    <tr style=\"text-align: right;\">\n",
       "      <th></th>\n",
       "      <th>Score</th>\n",
       "      <th>y</th>\n",
       "      <th>y_pred</th>\n",
       "    </tr>\n",
       "  </thead>\n",
       "  <tbody>\n",
       "    <tr>\n",
       "      <th>1292</th>\n",
       "      <td>0.012180</td>\n",
       "      <td>0</td>\n",
       "      <td>0</td>\n",
       "    </tr>\n",
       "    <tr>\n",
       "      <th>1480</th>\n",
       "      <td>0.081610</td>\n",
       "      <td>0</td>\n",
       "      <td>0</td>\n",
       "    </tr>\n",
       "    <tr>\n",
       "      <th>1388</th>\n",
       "      <td>0.085952</td>\n",
       "      <td>0</td>\n",
       "      <td>0</td>\n",
       "    </tr>\n",
       "    <tr>\n",
       "      <th>484</th>\n",
       "      <td>0.058174</td>\n",
       "      <td>0</td>\n",
       "      <td>0</td>\n",
       "    </tr>\n",
       "    <tr>\n",
       "      <th>1524</th>\n",
       "      <td>0.056990</td>\n",
       "      <td>0</td>\n",
       "      <td>0</td>\n",
       "    </tr>\n",
       "    <tr>\n",
       "      <th>652</th>\n",
       "      <td>-0.076653</td>\n",
       "      <td>0</td>\n",
       "      <td>1</td>\n",
       "    </tr>\n",
       "    <tr>\n",
       "      <th>399</th>\n",
       "      <td>-0.022401</td>\n",
       "      <td>0</td>\n",
       "      <td>1</td>\n",
       "    </tr>\n",
       "    <tr>\n",
       "      <th>604</th>\n",
       "      <td>0.056872</td>\n",
       "      <td>0</td>\n",
       "      <td>0</td>\n",
       "    </tr>\n",
       "    <tr>\n",
       "      <th>837</th>\n",
       "      <td>-0.039253</td>\n",
       "      <td>0</td>\n",
       "      <td>1</td>\n",
       "    </tr>\n",
       "    <tr>\n",
       "      <th>1235</th>\n",
       "      <td>0.089852</td>\n",
       "      <td>0</td>\n",
       "      <td>0</td>\n",
       "    </tr>\n",
       "  </tbody>\n",
       "</table>\n",
       "</div>"
      ],
      "text/plain": [
       "         Score  y  y_pred\n",
       "1292  0.012180  0       0\n",
       "1480  0.081610  0       0\n",
       "1388  0.085952  0       0\n",
       "484   0.058174  0       0\n",
       "1524  0.056990  0       0\n",
       "652  -0.076653  0       1\n",
       "399  -0.022401  0       1\n",
       "604   0.056872  0       0\n",
       "837  -0.039253  0       1\n",
       "1235  0.089852  0       0"
      ]
     },
     "metadata": {},
     "output_type": "display_data"
    }
   ],
   "source": [
    "from sklearn.ensemble import IsolationForest\n",
    "\n",
    "# Aplicando Isolation Forest para encontrar anomalias (fraudes)\n",
    "clf = IsolationForest(\n",
    "    n_estimators=600,             # Aumentando o número de árvores (default: 100)\n",
    "    max_samples=1.0,              # Usando 80% das amostras para cada árvore (default: 'auto')\n",
    "    contamination=0.10,           # Proporção esperada de anomalias (default: 'auto')\n",
    "    max_features=1.0,             # Usando 70% das features em cada divisão (default: 1.0)\n",
    "    n_jobs=-1,                    # Usando todos os núcleos de CPU disponíveis (default: None)\n",
    "    random_state=3141592\n",
    ")\n",
    "clf.fit(x_treino)\n",
    "\n",
    "# Fazendo previsões\n",
    "y_pred = clf.predict(x_teste)\n",
    "\n",
    "# Convertendo previsões para formato binário\n",
    "y_pred = [1 if x == -1 else 0 for x in y_pred]  # -1 são anomalias (fraudes)\n",
    "scores = clf.decision_function(x_teste)\n",
    "\n",
    "# Avaliando o modelo\n",
    "fd = aval_modelo_tabela(y_teste, y_pred)\n",
    "fd = fd[fd.columns[:10]]\n",
    "display(fd)\n",
    "\n",
    "tabela_resultados = pd.DataFrame({'Score': scores,\n",
    "                                  'y': y_teste,\n",
    "                                  'y_pred': y_pred})\n",
    "display(tabela_resultados.sample(10))\n"
   ]
  },
  {
   "cell_type": "code",
   "execution_count": 113,
   "id": "00021b58",
   "metadata": {},
   "outputs": [
    {
     "data": {
      "text/plain": [
       "0.1097691603608218"
      ]
     },
     "execution_count": 113,
     "metadata": {},
     "output_type": "execute_result"
    }
   ],
   "source": []
  },
  {
   "cell_type": "markdown",
   "id": "46201e5b",
   "metadata": {},
   "source": [
    "# Aplicando GridSearch"
   ]
  },
  {
   "cell_type": "code",
   "execution_count": 72,
   "id": "9b4a86f1",
   "metadata": {},
   "outputs": [
    {
     "name": "stdout",
     "output_type": "stream",
     "text": [
      "qtd total = 48\n"
     ]
    }
   ],
   "source": [
    "from sklearn.model_selection import ParameterGrid\n",
    "\n",
    "# Definindo os hiperparâmetros a serem testados\n",
    "param_grid = {\n",
    "    'n_estimators': [100, 400, 800],\n",
    "    'max_samples': np.arange(0.25, 1.1, 0.25).round(1),\n",
    "    'max_features': np.arange(0.25, 1.1, 0.25).round(1),\n",
    "}\n",
    "\n",
    "# Gerando todas as combinações de hiperparâmetros\n",
    "grid = list(ParameterGrid(param_grid))\n",
    "print('qtd total =', len(grid))\n",
    "#grid[:5]"
   ]
  },
  {
   "cell_type": "code",
   "execution_count": 73,
   "metadata": {},
   "outputs": [
    {
     "data": {
      "text/html": [
       "<div>\n",
       "<style scoped>\n",
       "    .dataframe tbody tr th:only-of-type {\n",
       "        vertical-align: middle;\n",
       "    }\n",
       "\n",
       "    .dataframe tbody tr th {\n",
       "        vertical-align: top;\n",
       "    }\n",
       "\n",
       "    .dataframe thead th {\n",
       "        text-align: right;\n",
       "    }\n",
       "</style>\n",
       "<table border=\"1\" class=\"dataframe\">\n",
       "  <thead>\n",
       "    <tr style=\"text-align: right;\">\n",
       "      <th></th>\n",
       "      <th>tn</th>\n",
       "      <th>fp</th>\n",
       "      <th>fn</th>\n",
       "      <th>tp</th>\n",
       "      <th>acuracia</th>\n",
       "      <th>precisao</th>\n",
       "      <th>sensibilidade</th>\n",
       "      <th>especificidade</th>\n",
       "      <th>f1</th>\n",
       "      <th>fb_score</th>\n",
       "      <th>n_estimators</th>\n",
       "      <th>max_samples</th>\n",
       "      <th>max_features</th>\n",
       "    </tr>\n",
       "  </thead>\n",
       "  <tbody>\n",
       "    <tr>\n",
       "      <th>0</th>\n",
       "      <td>1464</td>\n",
       "      <td>158</td>\n",
       "      <td>95</td>\n",
       "      <td>33</td>\n",
       "      <td>0.855</td>\n",
       "      <td>0.173</td>\n",
       "      <td>0.258</td>\n",
       "      <td>0.903</td>\n",
       "      <td>0.207</td>\n",
       "      <td>0.224</td>\n",
       "      <td>400</td>\n",
       "      <td>1.0</td>\n",
       "      <td>1.0</td>\n",
       "    </tr>\n",
       "    <tr>\n",
       "      <th>0</th>\n",
       "      <td>1463</td>\n",
       "      <td>159</td>\n",
       "      <td>95</td>\n",
       "      <td>33</td>\n",
       "      <td>0.855</td>\n",
       "      <td>0.172</td>\n",
       "      <td>0.258</td>\n",
       "      <td>0.902</td>\n",
       "      <td>0.206</td>\n",
       "      <td>0.223</td>\n",
       "      <td>400</td>\n",
       "      <td>1.0</td>\n",
       "      <td>0.8</td>\n",
       "    </tr>\n",
       "    <tr>\n",
       "      <th>0</th>\n",
       "      <td>1458</td>\n",
       "      <td>164</td>\n",
       "      <td>95</td>\n",
       "      <td>33</td>\n",
       "      <td>0.852</td>\n",
       "      <td>0.168</td>\n",
       "      <td>0.258</td>\n",
       "      <td>0.899</td>\n",
       "      <td>0.203</td>\n",
       "      <td>0.221</td>\n",
       "      <td>800</td>\n",
       "      <td>1.0</td>\n",
       "      <td>1.0</td>\n",
       "    </tr>\n",
       "    <tr>\n",
       "      <th>0</th>\n",
       "      <td>1471</td>\n",
       "      <td>151</td>\n",
       "      <td>96</td>\n",
       "      <td>32</td>\n",
       "      <td>0.859</td>\n",
       "      <td>0.175</td>\n",
       "      <td>0.250</td>\n",
       "      <td>0.907</td>\n",
       "      <td>0.206</td>\n",
       "      <td>0.221</td>\n",
       "      <td>400</td>\n",
       "      <td>0.8</td>\n",
       "      <td>1.0</td>\n",
       "    </tr>\n",
       "    <tr>\n",
       "      <th>0</th>\n",
       "      <td>1466</td>\n",
       "      <td>156</td>\n",
       "      <td>96</td>\n",
       "      <td>32</td>\n",
       "      <td>0.856</td>\n",
       "      <td>0.170</td>\n",
       "      <td>0.250</td>\n",
       "      <td>0.904</td>\n",
       "      <td>0.203</td>\n",
       "      <td>0.218</td>\n",
       "      <td>400</td>\n",
       "      <td>0.5</td>\n",
       "      <td>1.0</td>\n",
       "    </tr>\n",
       "  </tbody>\n",
       "</table>\n",
       "</div>"
      ],
      "text/plain": [
       "     tn   fp  fn  tp  acuracia  precisao  sensibilidade  especificidade  \\\n",
       "0  1464  158  95  33     0.855     0.173          0.258           0.903   \n",
       "0  1463  159  95  33     0.855     0.172          0.258           0.902   \n",
       "0  1458  164  95  33     0.852     0.168          0.258           0.899   \n",
       "0  1471  151  96  32     0.859     0.175          0.250           0.907   \n",
       "0  1466  156  96  32     0.856     0.170          0.250           0.904   \n",
       "\n",
       "      f1  fb_score  n_estimators  max_samples  max_features  \n",
       "0  0.207     0.224           400          1.0           1.0  \n",
       "0  0.206     0.223           400          1.0           0.8  \n",
       "0  0.203     0.221           800          1.0           1.0  \n",
       "0  0.206     0.221           400          0.8           1.0  \n",
       "0  0.203     0.218           400          0.5           1.0  "
      ]
     },
     "execution_count": 73,
     "metadata": {},
     "output_type": "execute_result"
    }
   ],
   "source": [
    "fd = pd.DataFrame()\n",
    "\n",
    "count = 0\n",
    "# Loop sobre todas as combinações de parâmetros\n",
    "for params in grid:\n",
    "    #print(count); count += 1\n",
    "    #print(f\"Tentando a combinação: {params}\")\n",
    "    \n",
    "    # Criando e treinando o modelo Isolation Forest com a combinação de parâmetros atual\n",
    "    clf = IsolationForest(\n",
    "        n_estimators=params['n_estimators'],\n",
    "        max_samples=params['max_samples'],\n",
    "        contamination=0.10,               # Proporção fixa de anomalias\n",
    "        max_features=params['max_features'],\n",
    "        n_jobs=-1,                        # Usando todos os núcleos de CPU disponíveis\n",
    "        random_state=3141592              # Definindo a seed para reprodutibilidade\n",
    "    )\n",
    "    clf.fit(x_treino)\n",
    "\n",
    "    # Fazendo previsões\n",
    "    y_pred = clf.predict(x_teste)\n",
    "\n",
    "    # Convertendo previsões para formato binário (fraudes = -1)\n",
    "    y_pred = [1 if x == -1 else 0 for x in y_pred]\n",
    "\n",
    "    fdzinho = aval_modelo_tabela(y_teste, y_pred)\n",
    "    fdzinho = fdzinho[fdzinho.columns[:10]]\n",
    "    fdzinho['n_estimators'] = params['n_estimators']\n",
    "    fdzinho['max_samples'] = params['max_samples']\n",
    "    fdzinho['max_features'] = params['max_features']\n",
    "    fd = pd.concat([fd, fdzinho])\n",
    "\n",
    "fd.sort_values(by='fb_score', ascending=False).head(20)"
   ]
  },
  {
   "cell_type": "code",
   "execution_count": 74,
   "id": "04aef642",
   "metadata": {},
   "outputs": [
    {
     "data": {
      "application/vnd.plotly.v1+json": {
       "config": {
        "plotlyServerURL": "https://plot.ly"
       },
       "data": [
        {
         "hovertemplate": "n_estimators=%{x}<br>max_samples=%{y}<br>max_features=%{z}<br>fb_score=%{marker.color}<extra></extra>",
         "legendgroup": "",
         "marker": {
          "color": [
           0.189,
           0.181,
           0.182,
           0.193,
           0.18,
           0.179,
           0.16,
           0.174,
           0.18,
           0.168,
           0.182,
           0.181,
           0.199,
           0.193,
           0.193,
           0.192,
           0.204,
           0.206,
           0.197,
           0.209,
           0.211,
           0.203,
           0.217,
           0.21,
           0.184,
           0.199,
           0.194,
           0.2,
           0.212,
           0.207,
           0.214,
           0.218,
           0.211,
           0.205,
           0.223,
           0.215,
           0.206,
           0.205,
           0.213,
           0.198,
           0.218,
           0.216,
           0.213,
           0.221,
           0.218,
           0.213,
           0.224,
           0.221
          ],
          "coloraxis": "coloraxis",
          "size": 5,
          "symbol": "circle"
         },
         "mode": "markers",
         "name": "",
         "scene": "scene",
         "showlegend": false,
         "type": "scatter3d",
         "x": [
          100,
          400,
          800,
          100,
          400,
          800,
          100,
          400,
          800,
          100,
          400,
          800,
          100,
          400,
          800,
          100,
          400,
          800,
          100,
          400,
          800,
          100,
          400,
          800,
          100,
          400,
          800,
          100,
          400,
          800,
          100,
          400,
          800,
          100,
          400,
          800,
          100,
          400,
          800,
          100,
          400,
          800,
          100,
          400,
          800,
          100,
          400,
          800
         ],
         "y": [
          0.2,
          0.2,
          0.2,
          0.5,
          0.5,
          0.5,
          0.8,
          0.8,
          0.8,
          1,
          1,
          1,
          0.2,
          0.2,
          0.2,
          0.5,
          0.5,
          0.5,
          0.8,
          0.8,
          0.8,
          1,
          1,
          1,
          0.2,
          0.2,
          0.2,
          0.5,
          0.5,
          0.5,
          0.8,
          0.8,
          0.8,
          1,
          1,
          1,
          0.2,
          0.2,
          0.2,
          0.5,
          0.5,
          0.5,
          0.8,
          0.8,
          0.8,
          1,
          1,
          1
         ],
         "z": [
          0.2,
          0.2,
          0.2,
          0.2,
          0.2,
          0.2,
          0.2,
          0.2,
          0.2,
          0.2,
          0.2,
          0.2,
          0.5,
          0.5,
          0.5,
          0.5,
          0.5,
          0.5,
          0.5,
          0.5,
          0.5,
          0.5,
          0.5,
          0.5,
          0.8,
          0.8,
          0.8,
          0.8,
          0.8,
          0.8,
          0.8,
          0.8,
          0.8,
          0.8,
          0.8,
          0.8,
          1,
          1,
          1,
          1,
          1,
          1,
          1,
          1,
          1,
          1,
          1,
          1
         ]
        }
       ],
       "layout": {
        "coloraxis": {
         "colorbar": {
          "title": {
           "text": "fb_score"
          }
         },
         "colorscale": [
          [
           0,
           "#0d0887"
          ],
          [
           0.1111111111111111,
           "#46039f"
          ],
          [
           0.2222222222222222,
           "#7201a8"
          ],
          [
           0.3333333333333333,
           "#9c179e"
          ],
          [
           0.4444444444444444,
           "#bd3786"
          ],
          [
           0.5555555555555556,
           "#d8576b"
          ],
          [
           0.6666666666666666,
           "#ed7953"
          ],
          [
           0.7777777777777778,
           "#fb9f3a"
          ],
          [
           0.8888888888888888,
           "#fdca26"
          ],
          [
           1,
           "#f0f921"
          ]
         ]
        },
        "legend": {
         "tracegroupgap": 0
        },
        "margin": {
         "t": 60
        },
        "scene": {
         "domain": {
          "x": [
           0,
           1
          ],
          "y": [
           0,
           1
          ]
         },
         "xaxis": {
          "title": {
           "text": "n_estimators"
          }
         },
         "yaxis": {
          "title": {
           "text": "max_samples"
          }
         },
         "zaxis": {
          "title": {
           "text": "max_features"
          }
         }
        },
        "template": {
         "data": {
          "bar": [
           {
            "error_x": {
             "color": "#2a3f5f"
            },
            "error_y": {
             "color": "#2a3f5f"
            },
            "marker": {
             "line": {
              "color": "#E5ECF6",
              "width": 0.5
             },
             "pattern": {
              "fillmode": "overlay",
              "size": 10,
              "solidity": 0.2
             }
            },
            "type": "bar"
           }
          ],
          "barpolar": [
           {
            "marker": {
             "line": {
              "color": "#E5ECF6",
              "width": 0.5
             },
             "pattern": {
              "fillmode": "overlay",
              "size": 10,
              "solidity": 0.2
             }
            },
            "type": "barpolar"
           }
          ],
          "carpet": [
           {
            "aaxis": {
             "endlinecolor": "#2a3f5f",
             "gridcolor": "white",
             "linecolor": "white",
             "minorgridcolor": "white",
             "startlinecolor": "#2a3f5f"
            },
            "baxis": {
             "endlinecolor": "#2a3f5f",
             "gridcolor": "white",
             "linecolor": "white",
             "minorgridcolor": "white",
             "startlinecolor": "#2a3f5f"
            },
            "type": "carpet"
           }
          ],
          "choropleth": [
           {
            "colorbar": {
             "outlinewidth": 0,
             "ticks": ""
            },
            "type": "choropleth"
           }
          ],
          "contour": [
           {
            "colorbar": {
             "outlinewidth": 0,
             "ticks": ""
            },
            "colorscale": [
             [
              0,
              "#0d0887"
             ],
             [
              0.1111111111111111,
              "#46039f"
             ],
             [
              0.2222222222222222,
              "#7201a8"
             ],
             [
              0.3333333333333333,
              "#9c179e"
             ],
             [
              0.4444444444444444,
              "#bd3786"
             ],
             [
              0.5555555555555556,
              "#d8576b"
             ],
             [
              0.6666666666666666,
              "#ed7953"
             ],
             [
              0.7777777777777778,
              "#fb9f3a"
             ],
             [
              0.8888888888888888,
              "#fdca26"
             ],
             [
              1,
              "#f0f921"
             ]
            ],
            "type": "contour"
           }
          ],
          "contourcarpet": [
           {
            "colorbar": {
             "outlinewidth": 0,
             "ticks": ""
            },
            "type": "contourcarpet"
           }
          ],
          "heatmap": [
           {
            "colorbar": {
             "outlinewidth": 0,
             "ticks": ""
            },
            "colorscale": [
             [
              0,
              "#0d0887"
             ],
             [
              0.1111111111111111,
              "#46039f"
             ],
             [
              0.2222222222222222,
              "#7201a8"
             ],
             [
              0.3333333333333333,
              "#9c179e"
             ],
             [
              0.4444444444444444,
              "#bd3786"
             ],
             [
              0.5555555555555556,
              "#d8576b"
             ],
             [
              0.6666666666666666,
              "#ed7953"
             ],
             [
              0.7777777777777778,
              "#fb9f3a"
             ],
             [
              0.8888888888888888,
              "#fdca26"
             ],
             [
              1,
              "#f0f921"
             ]
            ],
            "type": "heatmap"
           }
          ],
          "heatmapgl": [
           {
            "colorbar": {
             "outlinewidth": 0,
             "ticks": ""
            },
            "colorscale": [
             [
              0,
              "#0d0887"
             ],
             [
              0.1111111111111111,
              "#46039f"
             ],
             [
              0.2222222222222222,
              "#7201a8"
             ],
             [
              0.3333333333333333,
              "#9c179e"
             ],
             [
              0.4444444444444444,
              "#bd3786"
             ],
             [
              0.5555555555555556,
              "#d8576b"
             ],
             [
              0.6666666666666666,
              "#ed7953"
             ],
             [
              0.7777777777777778,
              "#fb9f3a"
             ],
             [
              0.8888888888888888,
              "#fdca26"
             ],
             [
              1,
              "#f0f921"
             ]
            ],
            "type": "heatmapgl"
           }
          ],
          "histogram": [
           {
            "marker": {
             "pattern": {
              "fillmode": "overlay",
              "size": 10,
              "solidity": 0.2
             }
            },
            "type": "histogram"
           }
          ],
          "histogram2d": [
           {
            "colorbar": {
             "outlinewidth": 0,
             "ticks": ""
            },
            "colorscale": [
             [
              0,
              "#0d0887"
             ],
             [
              0.1111111111111111,
              "#46039f"
             ],
             [
              0.2222222222222222,
              "#7201a8"
             ],
             [
              0.3333333333333333,
              "#9c179e"
             ],
             [
              0.4444444444444444,
              "#bd3786"
             ],
             [
              0.5555555555555556,
              "#d8576b"
             ],
             [
              0.6666666666666666,
              "#ed7953"
             ],
             [
              0.7777777777777778,
              "#fb9f3a"
             ],
             [
              0.8888888888888888,
              "#fdca26"
             ],
             [
              1,
              "#f0f921"
             ]
            ],
            "type": "histogram2d"
           }
          ],
          "histogram2dcontour": [
           {
            "colorbar": {
             "outlinewidth": 0,
             "ticks": ""
            },
            "colorscale": [
             [
              0,
              "#0d0887"
             ],
             [
              0.1111111111111111,
              "#46039f"
             ],
             [
              0.2222222222222222,
              "#7201a8"
             ],
             [
              0.3333333333333333,
              "#9c179e"
             ],
             [
              0.4444444444444444,
              "#bd3786"
             ],
             [
              0.5555555555555556,
              "#d8576b"
             ],
             [
              0.6666666666666666,
              "#ed7953"
             ],
             [
              0.7777777777777778,
              "#fb9f3a"
             ],
             [
              0.8888888888888888,
              "#fdca26"
             ],
             [
              1,
              "#f0f921"
             ]
            ],
            "type": "histogram2dcontour"
           }
          ],
          "mesh3d": [
           {
            "colorbar": {
             "outlinewidth": 0,
             "ticks": ""
            },
            "type": "mesh3d"
           }
          ],
          "parcoords": [
           {
            "line": {
             "colorbar": {
              "outlinewidth": 0,
              "ticks": ""
             }
            },
            "type": "parcoords"
           }
          ],
          "pie": [
           {
            "automargin": true,
            "type": "pie"
           }
          ],
          "scatter": [
           {
            "fillpattern": {
             "fillmode": "overlay",
             "size": 10,
             "solidity": 0.2
            },
            "type": "scatter"
           }
          ],
          "scatter3d": [
           {
            "line": {
             "colorbar": {
              "outlinewidth": 0,
              "ticks": ""
             }
            },
            "marker": {
             "colorbar": {
              "outlinewidth": 0,
              "ticks": ""
             }
            },
            "type": "scatter3d"
           }
          ],
          "scattercarpet": [
           {
            "marker": {
             "colorbar": {
              "outlinewidth": 0,
              "ticks": ""
             }
            },
            "type": "scattercarpet"
           }
          ],
          "scattergeo": [
           {
            "marker": {
             "colorbar": {
              "outlinewidth": 0,
              "ticks": ""
             }
            },
            "type": "scattergeo"
           }
          ],
          "scattergl": [
           {
            "marker": {
             "colorbar": {
              "outlinewidth": 0,
              "ticks": ""
             }
            },
            "type": "scattergl"
           }
          ],
          "scattermapbox": [
           {
            "marker": {
             "colorbar": {
              "outlinewidth": 0,
              "ticks": ""
             }
            },
            "type": "scattermapbox"
           }
          ],
          "scatterpolar": [
           {
            "marker": {
             "colorbar": {
              "outlinewidth": 0,
              "ticks": ""
             }
            },
            "type": "scatterpolar"
           }
          ],
          "scatterpolargl": [
           {
            "marker": {
             "colorbar": {
              "outlinewidth": 0,
              "ticks": ""
             }
            },
            "type": "scatterpolargl"
           }
          ],
          "scatterternary": [
           {
            "marker": {
             "colorbar": {
              "outlinewidth": 0,
              "ticks": ""
             }
            },
            "type": "scatterternary"
           }
          ],
          "surface": [
           {
            "colorbar": {
             "outlinewidth": 0,
             "ticks": ""
            },
            "colorscale": [
             [
              0,
              "#0d0887"
             ],
             [
              0.1111111111111111,
              "#46039f"
             ],
             [
              0.2222222222222222,
              "#7201a8"
             ],
             [
              0.3333333333333333,
              "#9c179e"
             ],
             [
              0.4444444444444444,
              "#bd3786"
             ],
             [
              0.5555555555555556,
              "#d8576b"
             ],
             [
              0.6666666666666666,
              "#ed7953"
             ],
             [
              0.7777777777777778,
              "#fb9f3a"
             ],
             [
              0.8888888888888888,
              "#fdca26"
             ],
             [
              1,
              "#f0f921"
             ]
            ],
            "type": "surface"
           }
          ],
          "table": [
           {
            "cells": {
             "fill": {
              "color": "#EBF0F8"
             },
             "line": {
              "color": "white"
             }
            },
            "header": {
             "fill": {
              "color": "#C8D4E3"
             },
             "line": {
              "color": "white"
             }
            },
            "type": "table"
           }
          ]
         },
         "layout": {
          "annotationdefaults": {
           "arrowcolor": "#2a3f5f",
           "arrowhead": 0,
           "arrowwidth": 1
          },
          "autotypenumbers": "strict",
          "coloraxis": {
           "colorbar": {
            "outlinewidth": 0,
            "ticks": ""
           }
          },
          "colorscale": {
           "diverging": [
            [
             0,
             "#8e0152"
            ],
            [
             0.1,
             "#c51b7d"
            ],
            [
             0.2,
             "#de77ae"
            ],
            [
             0.3,
             "#f1b6da"
            ],
            [
             0.4,
             "#fde0ef"
            ],
            [
             0.5,
             "#f7f7f7"
            ],
            [
             0.6,
             "#e6f5d0"
            ],
            [
             0.7,
             "#b8e186"
            ],
            [
             0.8,
             "#7fbc41"
            ],
            [
             0.9,
             "#4d9221"
            ],
            [
             1,
             "#276419"
            ]
           ],
           "sequential": [
            [
             0,
             "#0d0887"
            ],
            [
             0.1111111111111111,
             "#46039f"
            ],
            [
             0.2222222222222222,
             "#7201a8"
            ],
            [
             0.3333333333333333,
             "#9c179e"
            ],
            [
             0.4444444444444444,
             "#bd3786"
            ],
            [
             0.5555555555555556,
             "#d8576b"
            ],
            [
             0.6666666666666666,
             "#ed7953"
            ],
            [
             0.7777777777777778,
             "#fb9f3a"
            ],
            [
             0.8888888888888888,
             "#fdca26"
            ],
            [
             1,
             "#f0f921"
            ]
           ],
           "sequentialminus": [
            [
             0,
             "#0d0887"
            ],
            [
             0.1111111111111111,
             "#46039f"
            ],
            [
             0.2222222222222222,
             "#7201a8"
            ],
            [
             0.3333333333333333,
             "#9c179e"
            ],
            [
             0.4444444444444444,
             "#bd3786"
            ],
            [
             0.5555555555555556,
             "#d8576b"
            ],
            [
             0.6666666666666666,
             "#ed7953"
            ],
            [
             0.7777777777777778,
             "#fb9f3a"
            ],
            [
             0.8888888888888888,
             "#fdca26"
            ],
            [
             1,
             "#f0f921"
            ]
           ]
          },
          "colorway": [
           "#636efa",
           "#EF553B",
           "#00cc96",
           "#ab63fa",
           "#FFA15A",
           "#19d3f3",
           "#FF6692",
           "#B6E880",
           "#FF97FF",
           "#FECB52"
          ],
          "font": {
           "color": "#2a3f5f"
          },
          "geo": {
           "bgcolor": "white",
           "lakecolor": "white",
           "landcolor": "#E5ECF6",
           "showlakes": true,
           "showland": true,
           "subunitcolor": "white"
          },
          "hoverlabel": {
           "align": "left"
          },
          "hovermode": "closest",
          "mapbox": {
           "style": "light"
          },
          "paper_bgcolor": "white",
          "plot_bgcolor": "#E5ECF6",
          "polar": {
           "angularaxis": {
            "gridcolor": "white",
            "linecolor": "white",
            "ticks": ""
           },
           "bgcolor": "#E5ECF6",
           "radialaxis": {
            "gridcolor": "white",
            "linecolor": "white",
            "ticks": ""
           }
          },
          "scene": {
           "xaxis": {
            "backgroundcolor": "#E5ECF6",
            "gridcolor": "white",
            "gridwidth": 2,
            "linecolor": "white",
            "showbackground": true,
            "ticks": "",
            "zerolinecolor": "white"
           },
           "yaxis": {
            "backgroundcolor": "#E5ECF6",
            "gridcolor": "white",
            "gridwidth": 2,
            "linecolor": "white",
            "showbackground": true,
            "ticks": "",
            "zerolinecolor": "white"
           },
           "zaxis": {
            "backgroundcolor": "#E5ECF6",
            "gridcolor": "white",
            "gridwidth": 2,
            "linecolor": "white",
            "showbackground": true,
            "ticks": "",
            "zerolinecolor": "white"
           }
          },
          "shapedefaults": {
           "line": {
            "color": "#2a3f5f"
           }
          },
          "ternary": {
           "aaxis": {
            "gridcolor": "white",
            "linecolor": "white",
            "ticks": ""
           },
           "baxis": {
            "gridcolor": "white",
            "linecolor": "white",
            "ticks": ""
           },
           "bgcolor": "#E5ECF6",
           "caxis": {
            "gridcolor": "white",
            "linecolor": "white",
            "ticks": ""
           }
          },
          "title": {
           "x": 0.05
          },
          "xaxis": {
           "automargin": true,
           "gridcolor": "white",
           "linecolor": "white",
           "ticks": "",
           "title": {
            "standoff": 15
           },
           "zerolinecolor": "white",
           "zerolinewidth": 2
          },
          "yaxis": {
           "automargin": true,
           "gridcolor": "white",
           "linecolor": "white",
           "ticks": "",
           "title": {
            "standoff": 15
           },
           "zerolinecolor": "white",
           "zerolinewidth": 2
          }
         }
        }
       }
      }
     },
     "metadata": {},
     "output_type": "display_data"
    }
   ],
   "source": [
    "fig = px.scatter_3d(fd, x='n_estimators', y='max_samples', z='max_features', color='fb_score')\n",
    "fig.update_traces(marker=dict(size=5))\n",
    "fig.show()"
   ]
  },
  {
   "cell_type": "markdown",
   "id": "4de51a42",
   "metadata": {},
   "source": [
    "#### ok... um max_features e max_samples no maximo é o mais adaquedado para otimizar as metricas \n",
    "#### vale a pena testar apenas os n_estimator, fixando os outros no maximo"
   ]
  },
  {
   "cell_type": "code",
   "execution_count": 78,
   "id": "116e4c06",
   "metadata": {},
   "outputs": [
    {
     "data": {
      "text/html": [
       "<div>\n",
       "<style scoped>\n",
       "    .dataframe tbody tr th:only-of-type {\n",
       "        vertical-align: middle;\n",
       "    }\n",
       "\n",
       "    .dataframe tbody tr th {\n",
       "        vertical-align: top;\n",
       "    }\n",
       "\n",
       "    .dataframe thead th {\n",
       "        text-align: right;\n",
       "    }\n",
       "</style>\n",
       "<table border=\"1\" class=\"dataframe\">\n",
       "  <thead>\n",
       "    <tr style=\"text-align: right;\">\n",
       "      <th></th>\n",
       "      <th>tn</th>\n",
       "      <th>fp</th>\n",
       "      <th>fn</th>\n",
       "      <th>tp</th>\n",
       "      <th>acuracia</th>\n",
       "      <th>precisao</th>\n",
       "      <th>sensibilidade</th>\n",
       "      <th>especificidade</th>\n",
       "      <th>f1</th>\n",
       "      <th>fb_score</th>\n",
       "      <th>n_estimators</th>\n",
       "    </tr>\n",
       "  </thead>\n",
       "  <tbody>\n",
       "    <tr>\n",
       "      <th>0</th>\n",
       "      <td>1467</td>\n",
       "      <td>155</td>\n",
       "      <td>95</td>\n",
       "      <td>33</td>\n",
       "      <td>0.857</td>\n",
       "      <td>0.176</td>\n",
       "      <td>0.258</td>\n",
       "      <td>0.904</td>\n",
       "      <td>0.209</td>\n",
       "      <td>0.225</td>\n",
       "      <td>500</td>\n",
       "    </tr>\n",
       "    <tr>\n",
       "      <th>0</th>\n",
       "      <td>1461</td>\n",
       "      <td>161</td>\n",
       "      <td>95</td>\n",
       "      <td>33</td>\n",
       "      <td>0.854</td>\n",
       "      <td>0.170</td>\n",
       "      <td>0.258</td>\n",
       "      <td>0.901</td>\n",
       "      <td>0.205</td>\n",
       "      <td>0.223</td>\n",
       "      <td>2100</td>\n",
       "    </tr>\n",
       "    <tr>\n",
       "      <th>0</th>\n",
       "      <td>1459</td>\n",
       "      <td>163</td>\n",
       "      <td>95</td>\n",
       "      <td>33</td>\n",
       "      <td>0.853</td>\n",
       "      <td>0.168</td>\n",
       "      <td>0.258</td>\n",
       "      <td>0.900</td>\n",
       "      <td>0.204</td>\n",
       "      <td>0.222</td>\n",
       "      <td>1300</td>\n",
       "    </tr>\n",
       "    <tr>\n",
       "      <th>0</th>\n",
       "      <td>1459</td>\n",
       "      <td>163</td>\n",
       "      <td>95</td>\n",
       "      <td>33</td>\n",
       "      <td>0.853</td>\n",
       "      <td>0.168</td>\n",
       "      <td>0.258</td>\n",
       "      <td>0.900</td>\n",
       "      <td>0.204</td>\n",
       "      <td>0.222</td>\n",
       "      <td>1900</td>\n",
       "    </tr>\n",
       "    <tr>\n",
       "      <th>0</th>\n",
       "      <td>1459</td>\n",
       "      <td>163</td>\n",
       "      <td>95</td>\n",
       "      <td>33</td>\n",
       "      <td>0.853</td>\n",
       "      <td>0.168</td>\n",
       "      <td>0.258</td>\n",
       "      <td>0.900</td>\n",
       "      <td>0.204</td>\n",
       "      <td>0.222</td>\n",
       "      <td>2300</td>\n",
       "    </tr>\n",
       "  </tbody>\n",
       "</table>\n",
       "</div>"
      ],
      "text/plain": [
       "     tn   fp  fn  tp  acuracia  precisao  sensibilidade  especificidade  \\\n",
       "0  1467  155  95  33     0.857     0.176          0.258           0.904   \n",
       "0  1461  161  95  33     0.854     0.170          0.258           0.901   \n",
       "0  1459  163  95  33     0.853     0.168          0.258           0.900   \n",
       "0  1459  163  95  33     0.853     0.168          0.258           0.900   \n",
       "0  1459  163  95  33     0.853     0.168          0.258           0.900   \n",
       "\n",
       "      f1  fb_score  n_estimators  \n",
       "0  0.209     0.225           500  \n",
       "0  0.205     0.223          2100  \n",
       "0  0.204     0.222          1300  \n",
       "0  0.204     0.222          1900  \n",
       "0  0.204     0.222          2300  "
      ]
     },
     "execution_count": 78,
     "metadata": {},
     "output_type": "execute_result"
    }
   ],
   "source": [
    "fd = pd.DataFrame()\n",
    "\n",
    "count = 0\n",
    "# Loop sobre todas as combinações de parâmetros\n",
    "for n_estimators in np.arange(100, 3000, 200):\n",
    "    #print(count); count += 1\n",
    "    #print(f\"Tentando a combinação: {params}\")\n",
    "    \n",
    "    # Criando e treinando o modelo Isolation Forest com a combinação de parâmetros atual\n",
    "    clf = IsolationForest(\n",
    "        n_estimators=n_estimators,\n",
    "        max_samples=1.0,\n",
    "        contamination=0.10,               # Proporção fixa de anomalias\n",
    "        max_features=1.0,\n",
    "        n_jobs=-1,                        # Usando todos os núcleos de CPU disponíveis\n",
    "        random_state=3141592              # Definindo a seed para reprodutibilidade\n",
    "    )\n",
    "    clf.fit(x_treino)\n",
    "\n",
    "    # Fazendo previsões\n",
    "    y_pred = clf.predict(x_teste)\n",
    "\n",
    "    # Convertendo previsões para formato binário (fraudes = -1)\n",
    "    y_pred = [1 if x == -1 else 0 for x in y_pred]\n",
    "\n",
    "    fdzinho = aval_modelo_tabela(y_teste, y_pred)\n",
    "    fdzinho = fdzinho[fdzinho.columns[:10]]\n",
    "    fdzinho['n_estimators'] = n_estimators\n",
    "    fd = pd.concat([fd, fdzinho])\n",
    "\n",
    "fd.sort_values(by='fb_score', ascending=False).head(20)"
   ]
  },
  {
   "cell_type": "code",
   "execution_count": 85,
   "id": "4c1dba9c",
   "metadata": {},
   "outputs": [
    {
     "data": {
      "application/vnd.plotly.v1+json": {
       "config": {
        "plotlyServerURL": "https://plot.ly"
       },
       "data": [
        {
         "hovertemplate": "fb_score=%{marker.color}<br>n_estimators=%{y}<extra></extra>",
         "legendgroup": "",
         "marker": {
          "color": [
           0.213,
           0.218,
           0.225,
           0.221,
           0.22,
           0.221,
           0.222,
           0.221,
           0.221,
           0.222,
           0.223,
           0.222,
           0.221,
           0.222,
           0.222
          ],
          "coloraxis": "coloraxis",
          "symbol": "circle"
         },
         "mode": "markers",
         "name": "",
         "orientation": "v",
         "showlegend": false,
         "type": "scatter",
         "x": [
          0.213,
          0.218,
          0.225,
          0.221,
          0.22,
          0.221,
          0.222,
          0.221,
          0.221,
          0.222,
          0.223,
          0.222,
          0.221,
          0.222,
          0.222
         ],
         "xaxis": "x",
         "y": [
          100,
          300,
          500,
          700,
          900,
          1100,
          1300,
          1500,
          1700,
          1900,
          2100,
          2300,
          2500,
          2700,
          2900
         ],
         "yaxis": "y"
        }
       ],
       "layout": {
        "coloraxis": {
         "colorbar": {
          "title": {
           "text": "fb_score"
          }
         },
         "colorscale": [
          [
           0,
           "#0d0887"
          ],
          [
           0.1111111111111111,
           "#46039f"
          ],
          [
           0.2222222222222222,
           "#7201a8"
          ],
          [
           0.3333333333333333,
           "#9c179e"
          ],
          [
           0.4444444444444444,
           "#bd3786"
          ],
          [
           0.5555555555555556,
           "#d8576b"
          ],
          [
           0.6666666666666666,
           "#ed7953"
          ],
          [
           0.7777777777777778,
           "#fb9f3a"
          ],
          [
           0.8888888888888888,
           "#fdca26"
          ],
          [
           1,
           "#f0f921"
          ]
         ]
        },
        "legend": {
         "tracegroupgap": 0
        },
        "margin": {
         "t": 60
        },
        "template": {
         "data": {
          "bar": [
           {
            "error_x": {
             "color": "#2a3f5f"
            },
            "error_y": {
             "color": "#2a3f5f"
            },
            "marker": {
             "line": {
              "color": "#E5ECF6",
              "width": 0.5
             },
             "pattern": {
              "fillmode": "overlay",
              "size": 10,
              "solidity": 0.2
             }
            },
            "type": "bar"
           }
          ],
          "barpolar": [
           {
            "marker": {
             "line": {
              "color": "#E5ECF6",
              "width": 0.5
             },
             "pattern": {
              "fillmode": "overlay",
              "size": 10,
              "solidity": 0.2
             }
            },
            "type": "barpolar"
           }
          ],
          "carpet": [
           {
            "aaxis": {
             "endlinecolor": "#2a3f5f",
             "gridcolor": "white",
             "linecolor": "white",
             "minorgridcolor": "white",
             "startlinecolor": "#2a3f5f"
            },
            "baxis": {
             "endlinecolor": "#2a3f5f",
             "gridcolor": "white",
             "linecolor": "white",
             "minorgridcolor": "white",
             "startlinecolor": "#2a3f5f"
            },
            "type": "carpet"
           }
          ],
          "choropleth": [
           {
            "colorbar": {
             "outlinewidth": 0,
             "ticks": ""
            },
            "type": "choropleth"
           }
          ],
          "contour": [
           {
            "colorbar": {
             "outlinewidth": 0,
             "ticks": ""
            },
            "colorscale": [
             [
              0,
              "#0d0887"
             ],
             [
              0.1111111111111111,
              "#46039f"
             ],
             [
              0.2222222222222222,
              "#7201a8"
             ],
             [
              0.3333333333333333,
              "#9c179e"
             ],
             [
              0.4444444444444444,
              "#bd3786"
             ],
             [
              0.5555555555555556,
              "#d8576b"
             ],
             [
              0.6666666666666666,
              "#ed7953"
             ],
             [
              0.7777777777777778,
              "#fb9f3a"
             ],
             [
              0.8888888888888888,
              "#fdca26"
             ],
             [
              1,
              "#f0f921"
             ]
            ],
            "type": "contour"
           }
          ],
          "contourcarpet": [
           {
            "colorbar": {
             "outlinewidth": 0,
             "ticks": ""
            },
            "type": "contourcarpet"
           }
          ],
          "heatmap": [
           {
            "colorbar": {
             "outlinewidth": 0,
             "ticks": ""
            },
            "colorscale": [
             [
              0,
              "#0d0887"
             ],
             [
              0.1111111111111111,
              "#46039f"
             ],
             [
              0.2222222222222222,
              "#7201a8"
             ],
             [
              0.3333333333333333,
              "#9c179e"
             ],
             [
              0.4444444444444444,
              "#bd3786"
             ],
             [
              0.5555555555555556,
              "#d8576b"
             ],
             [
              0.6666666666666666,
              "#ed7953"
             ],
             [
              0.7777777777777778,
              "#fb9f3a"
             ],
             [
              0.8888888888888888,
              "#fdca26"
             ],
             [
              1,
              "#f0f921"
             ]
            ],
            "type": "heatmap"
           }
          ],
          "heatmapgl": [
           {
            "colorbar": {
             "outlinewidth": 0,
             "ticks": ""
            },
            "colorscale": [
             [
              0,
              "#0d0887"
             ],
             [
              0.1111111111111111,
              "#46039f"
             ],
             [
              0.2222222222222222,
              "#7201a8"
             ],
             [
              0.3333333333333333,
              "#9c179e"
             ],
             [
              0.4444444444444444,
              "#bd3786"
             ],
             [
              0.5555555555555556,
              "#d8576b"
             ],
             [
              0.6666666666666666,
              "#ed7953"
             ],
             [
              0.7777777777777778,
              "#fb9f3a"
             ],
             [
              0.8888888888888888,
              "#fdca26"
             ],
             [
              1,
              "#f0f921"
             ]
            ],
            "type": "heatmapgl"
           }
          ],
          "histogram": [
           {
            "marker": {
             "pattern": {
              "fillmode": "overlay",
              "size": 10,
              "solidity": 0.2
             }
            },
            "type": "histogram"
           }
          ],
          "histogram2d": [
           {
            "colorbar": {
             "outlinewidth": 0,
             "ticks": ""
            },
            "colorscale": [
             [
              0,
              "#0d0887"
             ],
             [
              0.1111111111111111,
              "#46039f"
             ],
             [
              0.2222222222222222,
              "#7201a8"
             ],
             [
              0.3333333333333333,
              "#9c179e"
             ],
             [
              0.4444444444444444,
              "#bd3786"
             ],
             [
              0.5555555555555556,
              "#d8576b"
             ],
             [
              0.6666666666666666,
              "#ed7953"
             ],
             [
              0.7777777777777778,
              "#fb9f3a"
             ],
             [
              0.8888888888888888,
              "#fdca26"
             ],
             [
              1,
              "#f0f921"
             ]
            ],
            "type": "histogram2d"
           }
          ],
          "histogram2dcontour": [
           {
            "colorbar": {
             "outlinewidth": 0,
             "ticks": ""
            },
            "colorscale": [
             [
              0,
              "#0d0887"
             ],
             [
              0.1111111111111111,
              "#46039f"
             ],
             [
              0.2222222222222222,
              "#7201a8"
             ],
             [
              0.3333333333333333,
              "#9c179e"
             ],
             [
              0.4444444444444444,
              "#bd3786"
             ],
             [
              0.5555555555555556,
              "#d8576b"
             ],
             [
              0.6666666666666666,
              "#ed7953"
             ],
             [
              0.7777777777777778,
              "#fb9f3a"
             ],
             [
              0.8888888888888888,
              "#fdca26"
             ],
             [
              1,
              "#f0f921"
             ]
            ],
            "type": "histogram2dcontour"
           }
          ],
          "mesh3d": [
           {
            "colorbar": {
             "outlinewidth": 0,
             "ticks": ""
            },
            "type": "mesh3d"
           }
          ],
          "parcoords": [
           {
            "line": {
             "colorbar": {
              "outlinewidth": 0,
              "ticks": ""
             }
            },
            "type": "parcoords"
           }
          ],
          "pie": [
           {
            "automargin": true,
            "type": "pie"
           }
          ],
          "scatter": [
           {
            "fillpattern": {
             "fillmode": "overlay",
             "size": 10,
             "solidity": 0.2
            },
            "type": "scatter"
           }
          ],
          "scatter3d": [
           {
            "line": {
             "colorbar": {
              "outlinewidth": 0,
              "ticks": ""
             }
            },
            "marker": {
             "colorbar": {
              "outlinewidth": 0,
              "ticks": ""
             }
            },
            "type": "scatter3d"
           }
          ],
          "scattercarpet": [
           {
            "marker": {
             "colorbar": {
              "outlinewidth": 0,
              "ticks": ""
             }
            },
            "type": "scattercarpet"
           }
          ],
          "scattergeo": [
           {
            "marker": {
             "colorbar": {
              "outlinewidth": 0,
              "ticks": ""
             }
            },
            "type": "scattergeo"
           }
          ],
          "scattergl": [
           {
            "marker": {
             "colorbar": {
              "outlinewidth": 0,
              "ticks": ""
             }
            },
            "type": "scattergl"
           }
          ],
          "scattermapbox": [
           {
            "marker": {
             "colorbar": {
              "outlinewidth": 0,
              "ticks": ""
             }
            },
            "type": "scattermapbox"
           }
          ],
          "scatterpolar": [
           {
            "marker": {
             "colorbar": {
              "outlinewidth": 0,
              "ticks": ""
             }
            },
            "type": "scatterpolar"
           }
          ],
          "scatterpolargl": [
           {
            "marker": {
             "colorbar": {
              "outlinewidth": 0,
              "ticks": ""
             }
            },
            "type": "scatterpolargl"
           }
          ],
          "scatterternary": [
           {
            "marker": {
             "colorbar": {
              "outlinewidth": 0,
              "ticks": ""
             }
            },
            "type": "scatterternary"
           }
          ],
          "surface": [
           {
            "colorbar": {
             "outlinewidth": 0,
             "ticks": ""
            },
            "colorscale": [
             [
              0,
              "#0d0887"
             ],
             [
              0.1111111111111111,
              "#46039f"
             ],
             [
              0.2222222222222222,
              "#7201a8"
             ],
             [
              0.3333333333333333,
              "#9c179e"
             ],
             [
              0.4444444444444444,
              "#bd3786"
             ],
             [
              0.5555555555555556,
              "#d8576b"
             ],
             [
              0.6666666666666666,
              "#ed7953"
             ],
             [
              0.7777777777777778,
              "#fb9f3a"
             ],
             [
              0.8888888888888888,
              "#fdca26"
             ],
             [
              1,
              "#f0f921"
             ]
            ],
            "type": "surface"
           }
          ],
          "table": [
           {
            "cells": {
             "fill": {
              "color": "#EBF0F8"
             },
             "line": {
              "color": "white"
             }
            },
            "header": {
             "fill": {
              "color": "#C8D4E3"
             },
             "line": {
              "color": "white"
             }
            },
            "type": "table"
           }
          ]
         },
         "layout": {
          "annotationdefaults": {
           "arrowcolor": "#2a3f5f",
           "arrowhead": 0,
           "arrowwidth": 1
          },
          "autotypenumbers": "strict",
          "coloraxis": {
           "colorbar": {
            "outlinewidth": 0,
            "ticks": ""
           }
          },
          "colorscale": {
           "diverging": [
            [
             0,
             "#8e0152"
            ],
            [
             0.1,
             "#c51b7d"
            ],
            [
             0.2,
             "#de77ae"
            ],
            [
             0.3,
             "#f1b6da"
            ],
            [
             0.4,
             "#fde0ef"
            ],
            [
             0.5,
             "#f7f7f7"
            ],
            [
             0.6,
             "#e6f5d0"
            ],
            [
             0.7,
             "#b8e186"
            ],
            [
             0.8,
             "#7fbc41"
            ],
            [
             0.9,
             "#4d9221"
            ],
            [
             1,
             "#276419"
            ]
           ],
           "sequential": [
            [
             0,
             "#0d0887"
            ],
            [
             0.1111111111111111,
             "#46039f"
            ],
            [
             0.2222222222222222,
             "#7201a8"
            ],
            [
             0.3333333333333333,
             "#9c179e"
            ],
            [
             0.4444444444444444,
             "#bd3786"
            ],
            [
             0.5555555555555556,
             "#d8576b"
            ],
            [
             0.6666666666666666,
             "#ed7953"
            ],
            [
             0.7777777777777778,
             "#fb9f3a"
            ],
            [
             0.8888888888888888,
             "#fdca26"
            ],
            [
             1,
             "#f0f921"
            ]
           ],
           "sequentialminus": [
            [
             0,
             "#0d0887"
            ],
            [
             0.1111111111111111,
             "#46039f"
            ],
            [
             0.2222222222222222,
             "#7201a8"
            ],
            [
             0.3333333333333333,
             "#9c179e"
            ],
            [
             0.4444444444444444,
             "#bd3786"
            ],
            [
             0.5555555555555556,
             "#d8576b"
            ],
            [
             0.6666666666666666,
             "#ed7953"
            ],
            [
             0.7777777777777778,
             "#fb9f3a"
            ],
            [
             0.8888888888888888,
             "#fdca26"
            ],
            [
             1,
             "#f0f921"
            ]
           ]
          },
          "colorway": [
           "#636efa",
           "#EF553B",
           "#00cc96",
           "#ab63fa",
           "#FFA15A",
           "#19d3f3",
           "#FF6692",
           "#B6E880",
           "#FF97FF",
           "#FECB52"
          ],
          "font": {
           "color": "#2a3f5f"
          },
          "geo": {
           "bgcolor": "white",
           "lakecolor": "white",
           "landcolor": "#E5ECF6",
           "showlakes": true,
           "showland": true,
           "subunitcolor": "white"
          },
          "hoverlabel": {
           "align": "left"
          },
          "hovermode": "closest",
          "mapbox": {
           "style": "light"
          },
          "paper_bgcolor": "white",
          "plot_bgcolor": "#E5ECF6",
          "polar": {
           "angularaxis": {
            "gridcolor": "white",
            "linecolor": "white",
            "ticks": ""
           },
           "bgcolor": "#E5ECF6",
           "radialaxis": {
            "gridcolor": "white",
            "linecolor": "white",
            "ticks": ""
           }
          },
          "scene": {
           "xaxis": {
            "backgroundcolor": "#E5ECF6",
            "gridcolor": "white",
            "gridwidth": 2,
            "linecolor": "white",
            "showbackground": true,
            "ticks": "",
            "zerolinecolor": "white"
           },
           "yaxis": {
            "backgroundcolor": "#E5ECF6",
            "gridcolor": "white",
            "gridwidth": 2,
            "linecolor": "white",
            "showbackground": true,
            "ticks": "",
            "zerolinecolor": "white"
           },
           "zaxis": {
            "backgroundcolor": "#E5ECF6",
            "gridcolor": "white",
            "gridwidth": 2,
            "linecolor": "white",
            "showbackground": true,
            "ticks": "",
            "zerolinecolor": "white"
           }
          },
          "shapedefaults": {
           "line": {
            "color": "#2a3f5f"
           }
          },
          "ternary": {
           "aaxis": {
            "gridcolor": "white",
            "linecolor": "white",
            "ticks": ""
           },
           "baxis": {
            "gridcolor": "white",
            "linecolor": "white",
            "ticks": ""
           },
           "bgcolor": "#E5ECF6",
           "caxis": {
            "gridcolor": "white",
            "linecolor": "white",
            "ticks": ""
           }
          },
          "title": {
           "x": 0.05
          },
          "xaxis": {
           "automargin": true,
           "gridcolor": "white",
           "linecolor": "white",
           "ticks": "",
           "title": {
            "standoff": 15
           },
           "zerolinecolor": "white",
           "zerolinewidth": 2
          },
          "yaxis": {
           "automargin": true,
           "gridcolor": "white",
           "linecolor": "white",
           "ticks": "",
           "title": {
            "standoff": 15
           },
           "zerolinecolor": "white",
           "zerolinewidth": 2
          }
         }
        },
        "xaxis": {
         "anchor": "y",
         "domain": [
          0,
          1
         ],
         "title": {
          "text": "fb_score"
         }
        },
        "yaxis": {
         "anchor": "x",
         "domain": [
          0,
          1
         ],
         "title": {
          "text": "n_estimators"
         }
        }
       }
      }
     },
     "metadata": {},
     "output_type": "display_data"
    }
   ],
   "source": [
    "fig = px.scatter(fd, x='fb_score', y='n_estimators', color='fb_score')\n",
    "fig.show()"
   ]
  },
  {
   "cell_type": "markdown",
   "id": "26360111",
   "metadata": {},
   "source": [
    "## Explorando o decision_function - tratando-o como ponto de corte"
   ]
  },
  {
   "cell_type": "code",
   "execution_count": 114,
   "id": "127f287b",
   "metadata": {},
   "outputs": [
    {
     "data": {
      "text/html": [
       "<div>\n",
       "<style scoped>\n",
       "    .dataframe tbody tr th:only-of-type {\n",
       "        vertical-align: middle;\n",
       "    }\n",
       "\n",
       "    .dataframe tbody tr th {\n",
       "        vertical-align: top;\n",
       "    }\n",
       "\n",
       "    .dataframe thead th {\n",
       "        text-align: right;\n",
       "    }\n",
       "</style>\n",
       "<table border=\"1\" class=\"dataframe\">\n",
       "  <thead>\n",
       "    <tr style=\"text-align: right;\">\n",
       "      <th></th>\n",
       "      <th>tn</th>\n",
       "      <th>fp</th>\n",
       "      <th>fn</th>\n",
       "      <th>tp</th>\n",
       "      <th>acuracia</th>\n",
       "      <th>precisao</th>\n",
       "      <th>sensibilidade</th>\n",
       "      <th>especificidade</th>\n",
       "      <th>f1</th>\n",
       "      <th>fb_score</th>\n",
       "      <th>ponto_de_corte</th>\n",
       "    </tr>\n",
       "  </thead>\n",
       "  <tbody>\n",
       "    <tr>\n",
       "      <th>0</th>\n",
       "      <td>1621</td>\n",
       "      <td>1</td>\n",
       "      <td>128</td>\n",
       "      <td>0</td>\n",
       "      <td>0.926</td>\n",
       "      <td>0.000</td>\n",
       "      <td>0.000</td>\n",
       "      <td>0.999</td>\n",
       "      <td>0.000</td>\n",
       "      <td>0.000</td>\n",
       "      <td>-0.203235</td>\n",
       "    </tr>\n",
       "    <tr>\n",
       "      <th>0</th>\n",
       "      <td>1621</td>\n",
       "      <td>1</td>\n",
       "      <td>127</td>\n",
       "      <td>1</td>\n",
       "      <td>0.927</td>\n",
       "      <td>0.500</td>\n",
       "      <td>0.008</td>\n",
       "      <td>0.999</td>\n",
       "      <td>0.015</td>\n",
       "      <td>0.011</td>\n",
       "      <td>-0.168485</td>\n",
       "    </tr>\n",
       "    <tr>\n",
       "      <th>0</th>\n",
       "      <td>1616</td>\n",
       "      <td>6</td>\n",
       "      <td>126</td>\n",
       "      <td>2</td>\n",
       "      <td>0.925</td>\n",
       "      <td>0.250</td>\n",
       "      <td>0.016</td>\n",
       "      <td>0.996</td>\n",
       "      <td>0.029</td>\n",
       "      <td>0.022</td>\n",
       "      <td>-0.133735</td>\n",
       "    </tr>\n",
       "    <tr>\n",
       "      <th>0</th>\n",
       "      <td>1610</td>\n",
       "      <td>12</td>\n",
       "      <td>124</td>\n",
       "      <td>4</td>\n",
       "      <td>0.922</td>\n",
       "      <td>0.250</td>\n",
       "      <td>0.031</td>\n",
       "      <td>0.993</td>\n",
       "      <td>0.056</td>\n",
       "      <td>0.043</td>\n",
       "      <td>-0.098985</td>\n",
       "    </tr>\n",
       "    <tr>\n",
       "      <th>0</th>\n",
       "      <td>1592</td>\n",
       "      <td>30</td>\n",
       "      <td>117</td>\n",
       "      <td>11</td>\n",
       "      <td>0.916</td>\n",
       "      <td>0.268</td>\n",
       "      <td>0.086</td>\n",
       "      <td>0.982</td>\n",
       "      <td>0.130</td>\n",
       "      <td>0.109</td>\n",
       "      <td>-0.064235</td>\n",
       "    </tr>\n",
       "    <tr>\n",
       "      <th>0</th>\n",
       "      <td>1547</td>\n",
       "      <td>75</td>\n",
       "      <td>110</td>\n",
       "      <td>18</td>\n",
       "      <td>0.894</td>\n",
       "      <td>0.194</td>\n",
       "      <td>0.141</td>\n",
       "      <td>0.954</td>\n",
       "      <td>0.163</td>\n",
       "      <td>0.154</td>\n",
       "      <td>-0.029485</td>\n",
       "    </tr>\n",
       "    <tr>\n",
       "      <th>0</th>\n",
       "      <td>1438</td>\n",
       "      <td>184</td>\n",
       "      <td>95</td>\n",
       "      <td>33</td>\n",
       "      <td>0.841</td>\n",
       "      <td>0.152</td>\n",
       "      <td>0.258</td>\n",
       "      <td>0.887</td>\n",
       "      <td>0.191</td>\n",
       "      <td>0.212</td>\n",
       "      <td>0.005265</td>\n",
       "    </tr>\n",
       "    <tr>\n",
       "      <th>0</th>\n",
       "      <td>1184</td>\n",
       "      <td>438</td>\n",
       "      <td>76</td>\n",
       "      <td>52</td>\n",
       "      <td>0.706</td>\n",
       "      <td>0.106</td>\n",
       "      <td>0.406</td>\n",
       "      <td>0.730</td>\n",
       "      <td>0.168</td>\n",
       "      <td>0.217</td>\n",
       "      <td>0.040015</td>\n",
       "    </tr>\n",
       "    <tr>\n",
       "      <th>0</th>\n",
       "      <td>629</td>\n",
       "      <td>993</td>\n",
       "      <td>34</td>\n",
       "      <td>94</td>\n",
       "      <td>0.413</td>\n",
       "      <td>0.086</td>\n",
       "      <td>0.734</td>\n",
       "      <td>0.388</td>\n",
       "      <td>0.155</td>\n",
       "      <td>0.222</td>\n",
       "      <td>0.074766</td>\n",
       "    </tr>\n",
       "    <tr>\n",
       "      <th>0</th>\n",
       "      <td>0</td>\n",
       "      <td>1622</td>\n",
       "      <td>0</td>\n",
       "      <td>128</td>\n",
       "      <td>0.073</td>\n",
       "      <td>0.073</td>\n",
       "      <td>1.000</td>\n",
       "      <td>0.000</td>\n",
       "      <td>0.136</td>\n",
       "      <td>0.204</td>\n",
       "      <td>0.109516</td>\n",
       "    </tr>\n",
       "  </tbody>\n",
       "</table>\n",
       "</div>"
      ],
      "text/plain": [
       "     tn    fp   fn   tp  acuracia  precisao  sensibilidade  especificidade  \\\n",
       "0  1621     1  128    0     0.926     0.000          0.000           0.999   \n",
       "0  1621     1  127    1     0.927     0.500          0.008           0.999   \n",
       "0  1616     6  126    2     0.925     0.250          0.016           0.996   \n",
       "0  1610    12  124    4     0.922     0.250          0.031           0.993   \n",
       "0  1592    30  117   11     0.916     0.268          0.086           0.982   \n",
       "0  1547    75  110   18     0.894     0.194          0.141           0.954   \n",
       "0  1438   184   95   33     0.841     0.152          0.258           0.887   \n",
       "0  1184   438   76   52     0.706     0.106          0.406           0.730   \n",
       "0   629   993   34   94     0.413     0.086          0.734           0.388   \n",
       "0     0  1622    0  128     0.073     0.073          1.000           0.000   \n",
       "\n",
       "      f1  fb_score  ponto_de_corte  \n",
       "0  0.000     0.000       -0.203235  \n",
       "0  0.015     0.011       -0.168485  \n",
       "0  0.029     0.022       -0.133735  \n",
       "0  0.056     0.043       -0.098985  \n",
       "0  0.130     0.109       -0.064235  \n",
       "0  0.163     0.154       -0.029485  \n",
       "0  0.191     0.212        0.005265  \n",
       "0  0.168     0.217        0.040015  \n",
       "0  0.155     0.222        0.074766  \n",
       "0  0.136     0.204        0.109516  "
      ]
     },
     "execution_count": 114,
     "metadata": {},
     "output_type": "execute_result"
    }
   ],
   "source": [
    "clf = IsolationForest(\n",
    "        n_estimators=500,\n",
    "        max_samples=1.0,\n",
    "        contamination=0.10,               # Proporção fixa de anomalias\n",
    "        max_features=1.0,\n",
    "        n_jobs=-1,                        # Usando todos os núcleos de CPU disponíveis\n",
    "        random_state=3141592              # Definindo a seed para reprodutibilidade\n",
    "    )\n",
    "\n",
    "clf.fit(x_treino)\n",
    "\n",
    "scores = clf.decision_function(x_teste)\n",
    "scores = np.array(scores)\n",
    "scores_series = pd.Series(scores)\n",
    "\n",
    "fd = pd.DataFrame()\n",
    "\n",
    "# Loop sobre todas as combinações de parâmetros\n",
    "for ponto_de_corte in np.linspace(scores_series.min(), scores_series.max(), 10):\n",
    "    y_pred = np.where(scores <= ponto_de_corte, 1, 0)\n",
    "\n",
    "    fdzinho = aval_modelo_tabela(y_teste, y_pred)\n",
    "    fdzinho = fdzinho[fdzinho.columns[:10]]\n",
    "    fdzinho['ponto_de_corte'] = ponto_de_corte\n",
    "    fd = pd.concat([fd, fdzinho])\n",
    "\n",
    "fd#.sort_values(by='fb_score', ascending=False).head(20)"
   ]
  },
  {
   "cell_type": "code",
   "execution_count": null,
   "id": "b225b623",
   "metadata": {},
   "outputs": [],
   "source": []
  },
  {
   "cell_type": "code",
   "execution_count": null,
   "id": "389d8bb2",
   "metadata": {},
   "outputs": [],
   "source": []
  }
 ],
 "metadata": {
  "kernelspec": {
   "display_name": "base",
   "language": "python",
   "name": "python3"
  },
  "language_info": {
   "codemirror_mode": {
    "name": "ipython",
    "version": 3
   },
   "file_extension": ".py",
   "mimetype": "text/x-python",
   "name": "python",
   "nbconvert_exporter": "python",
   "pygments_lexer": "ipython3",
   "version": "3.12.4"
  }
 },
 "nbformat": 4,
 "nbformat_minor": 5
}
